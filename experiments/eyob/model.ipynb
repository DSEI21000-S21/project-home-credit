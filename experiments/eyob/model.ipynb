{
 "cells": [
  {
   "cell_type": "code",
   "execution_count": 22,
   "metadata": {
    "ExecuteTime": {
     "end_time": "2021-05-03T13:58:17.546173Z",
     "start_time": "2021-05-03T13:58:17.535860Z"
    }
   },
   "outputs": [],
   "source": [
    "from sklearn.model_selection import train_test_split\n",
    "from sklearn.model_selection import cross_val_score \n",
    "from sklearn.metrics import roc_auc_score\n",
    "from sklearn.metrics import classification_report\n",
    "from sklearn.metrics import confusion_matrix\n",
    "from sklearn.impute import SimpleImputer\n",
    "from sklearn.preprocessing import StandardScaler\n",
    "\n",
    "from sklearn.linear_model import LogisticRegression\n",
    "from sklearn.dummy import DummyClassifier\n",
    "from sklearn.ensemble import RandomForestClassifier"
   ]
  },
  {
   "cell_type": "code",
   "execution_count": 2,
   "metadata": {
    "ExecuteTime": {
     "end_time": "2021-05-03T13:35:43.774901Z",
     "start_time": "2021-05-03T13:35:40.788828Z"
    }
   },
   "outputs": [
    {
     "name": "stderr",
     "output_type": "stream",
     "text": [
      "\n",
      "Bad key \"text.kerning_factor\" on line 4 in\n",
      "/Users/eyobmanhardt/opt/anaconda3/lib/python3.7/site-packages/matplotlib/mpl-data/stylelib/_classic_test_patch.mplstyle.\n",
      "You probably need to get an updated matplotlibrc file from\n",
      "https://github.com/matplotlib/matplotlib/blob/v3.1.3/matplotlibrc.template\n",
      "or from the matplotlib source distribution\n"
     ]
    }
   ],
   "source": [
    "import pandas as pd\n",
    "import numpy as np\n",
    "#import matplotlib\n",
    "import matplotlib.pyplot as plt"
   ]
  },
  {
   "cell_type": "code",
   "execution_count": 3,
   "metadata": {
    "ExecuteTime": {
     "end_time": "2021-05-03T13:35:49.265457Z",
     "start_time": "2021-05-03T13:35:43.777797Z"
    }
   },
   "outputs": [],
   "source": [
    "df = pd.read_csv('temp_preprocess_data.csv')"
   ]
  },
  {
   "cell_type": "code",
   "execution_count": 4,
   "metadata": {
    "ExecuteTime": {
     "end_time": "2021-05-03T13:35:49.341701Z",
     "start_time": "2021-05-03T13:35:49.268246Z"
    }
   },
   "outputs": [
    {
     "name": "stdout",
     "output_type": "stream",
     "text": [
      "shape: (356251, 131)\n"
     ]
    },
    {
     "data": {
      "text/html": [
       "<div>\n",
       "<style scoped>\n",
       "    .dataframe tbody tr th:only-of-type {\n",
       "        vertical-align: middle;\n",
       "    }\n",
       "\n",
       "    .dataframe tbody tr th {\n",
       "        vertical-align: top;\n",
       "    }\n",
       "\n",
       "    .dataframe thead th {\n",
       "        text-align: right;\n",
       "    }\n",
       "</style>\n",
       "<table border=\"1\" class=\"dataframe\">\n",
       "  <thead>\n",
       "    <tr style=\"text-align: right;\">\n",
       "      <th></th>\n",
       "      <th>SK_ID_CURR</th>\n",
       "      <th>TARGET</th>\n",
       "      <th>NAME_CONTRACT_TYPE</th>\n",
       "      <th>CODE_GENDER</th>\n",
       "      <th>FLAG_OWN_CAR</th>\n",
       "      <th>FLAG_OWN_REALTY</th>\n",
       "      <th>CNT_CHILDREN</th>\n",
       "      <th>AMT_INCOME_TOTAL</th>\n",
       "      <th>AMT_CREDIT</th>\n",
       "      <th>AMT_ANNUITY</th>\n",
       "      <th>...</th>\n",
       "      <th>AMT_REQ_CREDIT_BUREAU_YEAR</th>\n",
       "      <th>AMT_CREDIT_DEBT_RATIO</th>\n",
       "      <th>CREDIT_DAY_OVERDUE</th>\n",
       "      <th>DPD_COUNTS</th>\n",
       "      <th>BIRTH_IN_YEARS</th>\n",
       "      <th>ALL_EXT_SOURCE_MEAN</th>\n",
       "      <th>PAYMENT_RATE</th>\n",
       "      <th>INCOME_PER_PERSON</th>\n",
       "      <th>INCOME_CREDIT_IN_PERCENTAGE</th>\n",
       "      <th>ANNUITY_INCOME_IN_PERCENTAGE</th>\n",
       "    </tr>\n",
       "  </thead>\n",
       "  <tbody>\n",
       "    <tr>\n",
       "      <th>0</th>\n",
       "      <td>100002</td>\n",
       "      <td>1.0</td>\n",
       "      <td>Cash loans</td>\n",
       "      <td>0</td>\n",
       "      <td>1</td>\n",
       "      <td>0</td>\n",
       "      <td>0</td>\n",
       "      <td>202500.0</td>\n",
       "      <td>406597.5</td>\n",
       "      <td>24700.5</td>\n",
       "      <td>...</td>\n",
       "      <td>1.0</td>\n",
       "      <td>0.068272</td>\n",
       "      <td>0.0</td>\n",
       "      <td>3.375</td>\n",
       "      <td>25.920548</td>\n",
       "      <td>0.161787</td>\n",
       "      <td>0.060749</td>\n",
       "      <td>202500.0</td>\n",
       "      <td>0.498036</td>\n",
       "      <td>0.121978</td>\n",
       "    </tr>\n",
       "    <tr>\n",
       "      <th>1</th>\n",
       "      <td>100003</td>\n",
       "      <td>0.0</td>\n",
       "      <td>Cash loans</td>\n",
       "      <td>1</td>\n",
       "      <td>1</td>\n",
       "      <td>1</td>\n",
       "      <td>0</td>\n",
       "      <td>270000.0</td>\n",
       "      <td>1293502.5</td>\n",
       "      <td>35698.5</td>\n",
       "      <td>...</td>\n",
       "      <td>0.0</td>\n",
       "      <td>0.000000</td>\n",
       "      <td>0.0</td>\n",
       "      <td>NaN</td>\n",
       "      <td>45.931507</td>\n",
       "      <td>0.466757</td>\n",
       "      <td>0.027598</td>\n",
       "      <td>135000.0</td>\n",
       "      <td>0.208736</td>\n",
       "      <td>0.132217</td>\n",
       "    </tr>\n",
       "    <tr>\n",
       "      <th>2</th>\n",
       "      <td>100004</td>\n",
       "      <td>0.0</td>\n",
       "      <td>Revolving loans</td>\n",
       "      <td>0</td>\n",
       "      <td>0</td>\n",
       "      <td>0</td>\n",
       "      <td>0</td>\n",
       "      <td>67500.0</td>\n",
       "      <td>135000.0</td>\n",
       "      <td>6750.0</td>\n",
       "      <td>...</td>\n",
       "      <td>0.0</td>\n",
       "      <td>0.000000</td>\n",
       "      <td>0.0</td>\n",
       "      <td>NaN</td>\n",
       "      <td>52.180822</td>\n",
       "      <td>0.642739</td>\n",
       "      <td>0.050000</td>\n",
       "      <td>67500.0</td>\n",
       "      <td>0.500000</td>\n",
       "      <td>0.100000</td>\n",
       "    </tr>\n",
       "    <tr>\n",
       "      <th>3</th>\n",
       "      <td>100006</td>\n",
       "      <td>0.0</td>\n",
       "      <td>Cash loans</td>\n",
       "      <td>1</td>\n",
       "      <td>1</td>\n",
       "      <td>0</td>\n",
       "      <td>0</td>\n",
       "      <td>135000.0</td>\n",
       "      <td>312682.5</td>\n",
       "      <td>29686.5</td>\n",
       "      <td>...</td>\n",
       "      <td>NaN</td>\n",
       "      <td>NaN</td>\n",
       "      <td>NaN</td>\n",
       "      <td>NaN</td>\n",
       "      <td>52.068493</td>\n",
       "      <td>0.650442</td>\n",
       "      <td>0.094941</td>\n",
       "      <td>67500.0</td>\n",
       "      <td>0.431748</td>\n",
       "      <td>0.219900</td>\n",
       "    </tr>\n",
       "    <tr>\n",
       "      <th>4</th>\n",
       "      <td>100007</td>\n",
       "      <td>0.0</td>\n",
       "      <td>Cash loans</td>\n",
       "      <td>0</td>\n",
       "      <td>1</td>\n",
       "      <td>0</td>\n",
       "      <td>0</td>\n",
       "      <td>121500.0</td>\n",
       "      <td>513000.0</td>\n",
       "      <td>21865.5</td>\n",
       "      <td>...</td>\n",
       "      <td>0.0</td>\n",
       "      <td>0.000000</td>\n",
       "      <td>0.0</td>\n",
       "      <td>NaN</td>\n",
       "      <td>54.608219</td>\n",
       "      <td>0.322738</td>\n",
       "      <td>0.042623</td>\n",
       "      <td>121500.0</td>\n",
       "      <td>0.236842</td>\n",
       "      <td>0.179963</td>\n",
       "    </tr>\n",
       "  </tbody>\n",
       "</table>\n",
       "<p>5 rows × 131 columns</p>\n",
       "</div>"
      ],
      "text/plain": [
       "   SK_ID_CURR  TARGET NAME_CONTRACT_TYPE  CODE_GENDER  FLAG_OWN_CAR  \\\n",
       "0      100002     1.0         Cash loans            0             1   \n",
       "1      100003     0.0         Cash loans            1             1   \n",
       "2      100004     0.0    Revolving loans            0             0   \n",
       "3      100006     0.0         Cash loans            1             1   \n",
       "4      100007     0.0         Cash loans            0             1   \n",
       "\n",
       "   FLAG_OWN_REALTY  CNT_CHILDREN  AMT_INCOME_TOTAL  AMT_CREDIT  AMT_ANNUITY  \\\n",
       "0                0             0          202500.0    406597.5      24700.5   \n",
       "1                1             0          270000.0   1293502.5      35698.5   \n",
       "2                0             0           67500.0    135000.0       6750.0   \n",
       "3                0             0          135000.0    312682.5      29686.5   \n",
       "4                0             0          121500.0    513000.0      21865.5   \n",
       "\n",
       "   ...  AMT_REQ_CREDIT_BUREAU_YEAR AMT_CREDIT_DEBT_RATIO CREDIT_DAY_OVERDUE  \\\n",
       "0  ...                         1.0              0.068272                0.0   \n",
       "1  ...                         0.0              0.000000                0.0   \n",
       "2  ...                         0.0              0.000000                0.0   \n",
       "3  ...                         NaN                   NaN                NaN   \n",
       "4  ...                         0.0              0.000000                0.0   \n",
       "\n",
       "  DPD_COUNTS BIRTH_IN_YEARS ALL_EXT_SOURCE_MEAN  PAYMENT_RATE  \\\n",
       "0      3.375      25.920548            0.161787      0.060749   \n",
       "1        NaN      45.931507            0.466757      0.027598   \n",
       "2        NaN      52.180822            0.642739      0.050000   \n",
       "3        NaN      52.068493            0.650442      0.094941   \n",
       "4        NaN      54.608219            0.322738      0.042623   \n",
       "\n",
       "   INCOME_PER_PERSON  INCOME_CREDIT_IN_PERCENTAGE   \\\n",
       "0           202500.0                      0.498036   \n",
       "1           135000.0                      0.208736   \n",
       "2            67500.0                      0.500000   \n",
       "3            67500.0                      0.431748   \n",
       "4           121500.0                      0.236842   \n",
       "\n",
       "   ANNUITY_INCOME_IN_PERCENTAGE  \n",
       "0                      0.121978  \n",
       "1                      0.132217  \n",
       "2                      0.100000  \n",
       "3                      0.219900  \n",
       "4                      0.179963  \n",
       "\n",
       "[5 rows x 131 columns]"
      ]
     },
     "execution_count": 4,
     "metadata": {},
     "output_type": "execute_result"
    }
   ],
   "source": [
    "print('shape:', df.shape)\n",
    "df.head()"
   ]
  },
  {
   "cell_type": "code",
   "execution_count": 5,
   "metadata": {
    "ExecuteTime": {
     "end_time": "2021-05-03T13:35:51.461612Z",
     "start_time": "2021-05-03T13:35:49.348750Z"
    }
   },
   "outputs": [
    {
     "name": "stderr",
     "output_type": "stream",
     "text": [
      "/Users/eyobmanhardt/opt/anaconda3/lib/python3.7/site-packages/pandas/core/frame.py:4174: SettingWithCopyWarning: \n",
      "A value is trying to be set on a copy of a slice from a DataFrame\n",
      "\n",
      "See the caveats in the documentation: https://pandas.pydata.org/pandas-docs/stable/user_guide/indexing.html#returning-a-view-versus-a-copy\n",
      "  errors=errors,\n"
     ]
    },
    {
     "name": "stdout",
     "output_type": "stream",
     "text": [
      "train shape: (307507, 251)\n",
      "test shape: (48744, 248)\n"
     ]
    }
   ],
   "source": [
    "train_df = df.loc[df['TARGET'].notnull(), :]\n",
    "test_df = df.loc[df['TARGET'].isnull(), :]\n",
    "test_df.drop(columns= ['TARGET'], axis=1, inplace=True)\n",
    "\n",
    "train_df_enc = pd.get_dummies(train_df)\n",
    "test_df_enc = pd.get_dummies(test_df)\n",
    "print('train shape:', train_df_enc.shape) \n",
    "print('test shape:', test_df_enc.shape) "
   ]
  },
  {
   "cell_type": "code",
   "execution_count": 6,
   "metadata": {
    "ExecuteTime": {
     "end_time": "2021-05-03T13:35:51.475683Z",
     "start_time": "2021-05-03T13:35:51.470073Z"
    }
   },
   "outputs": [
    {
     "name": "stdout",
     "output_type": "stream",
     "text": [
      "{'TARGET', 'NAME_FAMILY_STATUS_Unknown', 'NAME_INCOME_TYPE_Maternity leave'}\n"
     ]
    }
   ],
   "source": [
    "train_df_enc_cols = set(train_df_enc.columns)\n",
    "test_df_enc_cols = set(test_df_enc.columns)\n",
    "\n",
    "print(train_df_enc_cols.difference(test_df_enc_cols))"
   ]
  },
  {
   "cell_type": "code",
   "execution_count": 7,
   "metadata": {
    "ExecuteTime": {
     "end_time": "2021-05-03T13:35:52.536114Z",
     "start_time": "2021-05-03T13:35:51.487191Z"
    }
   },
   "outputs": [],
   "source": [
    "y = train_df_enc['TARGET']\n",
    "## align dataframes \n",
    "X, X_test = train_df_enc.align(test_df_enc, join='inner', axis=1)"
   ]
  },
  {
   "cell_type": "code",
   "execution_count": 8,
   "metadata": {
    "ExecuteTime": {
     "end_time": "2021-05-03T13:35:52.555462Z",
     "start_time": "2021-05-03T13:35:52.539347Z"
    }
   },
   "outputs": [
    {
     "data": {
      "text/plain": [
       "((307507, 248), (48744, 248), (307507,))"
      ]
     },
     "execution_count": 8,
     "metadata": {},
     "output_type": "execute_result"
    }
   ],
   "source": [
    "X.shape, X_test.shape, y.shape"
   ]
  },
  {
   "cell_type": "code",
   "execution_count": 9,
   "metadata": {
    "ExecuteTime": {
     "end_time": "2021-05-03T13:35:52.572425Z",
     "start_time": "2021-05-03T13:35:52.562198Z"
    }
   },
   "outputs": [],
   "source": [
    "\n",
    "imp = SimpleImputer(missing_values=np.nan, strategy='median')"
   ]
  },
  {
   "cell_type": "code",
   "execution_count": 10,
   "metadata": {
    "ExecuteTime": {
     "end_time": "2021-05-03T13:35:53.305524Z",
     "start_time": "2021-05-03T13:35:52.576710Z"
    }
   },
   "outputs": [],
   "source": [
    "Test_ids = X_test['SK_ID_CURR']\n",
    "X.drop(columns= ['SK_ID_CURR'], inplace=True)\n",
    "X_test.drop(columns= ['SK_ID_CURR'], inplace=True)"
   ]
  },
  {
   "cell_type": "code",
   "execution_count": 11,
   "metadata": {
    "ExecuteTime": {
     "end_time": "2021-05-03T13:35:53.343487Z",
     "start_time": "2021-05-03T13:35:53.308392Z"
    }
   },
   "outputs": [
    {
     "data": {
      "text/html": [
       "<div>\n",
       "<style scoped>\n",
       "    .dataframe tbody tr th:only-of-type {\n",
       "        vertical-align: middle;\n",
       "    }\n",
       "\n",
       "    .dataframe tbody tr th {\n",
       "        vertical-align: top;\n",
       "    }\n",
       "\n",
       "    .dataframe thead th {\n",
       "        text-align: right;\n",
       "    }\n",
       "</style>\n",
       "<table border=\"1\" class=\"dataframe\">\n",
       "  <thead>\n",
       "    <tr style=\"text-align: right;\">\n",
       "      <th></th>\n",
       "      <th>CODE_GENDER</th>\n",
       "      <th>FLAG_OWN_CAR</th>\n",
       "      <th>FLAG_OWN_REALTY</th>\n",
       "      <th>CNT_CHILDREN</th>\n",
       "      <th>AMT_INCOME_TOTAL</th>\n",
       "      <th>AMT_CREDIT</th>\n",
       "      <th>AMT_ANNUITY</th>\n",
       "      <th>AMT_GOODS_PRICE</th>\n",
       "      <th>REGION_POPULATION_RELATIVE</th>\n",
       "      <th>DAYS_BIRTH</th>\n",
       "      <th>...</th>\n",
       "      <th>HOUSETYPE_MODE_terraced house</th>\n",
       "      <th>WALLSMATERIAL_MODE_Block</th>\n",
       "      <th>WALLSMATERIAL_MODE_Mixed</th>\n",
       "      <th>WALLSMATERIAL_MODE_Monolithic</th>\n",
       "      <th>WALLSMATERIAL_MODE_Others</th>\n",
       "      <th>WALLSMATERIAL_MODE_Panel</th>\n",
       "      <th>WALLSMATERIAL_MODE_Stone, brick</th>\n",
       "      <th>WALLSMATERIAL_MODE_Wooden</th>\n",
       "      <th>EMERGENCYSTATE_MODE_No</th>\n",
       "      <th>EMERGENCYSTATE_MODE_Yes</th>\n",
       "    </tr>\n",
       "  </thead>\n",
       "  <tbody>\n",
       "    <tr>\n",
       "      <th>0</th>\n",
       "      <td>0</td>\n",
       "      <td>1</td>\n",
       "      <td>0</td>\n",
       "      <td>0</td>\n",
       "      <td>202500.0</td>\n",
       "      <td>406597.5</td>\n",
       "      <td>24700.5</td>\n",
       "      <td>351000.0</td>\n",
       "      <td>0.018801</td>\n",
       "      <td>-9461</td>\n",
       "      <td>...</td>\n",
       "      <td>0</td>\n",
       "      <td>0</td>\n",
       "      <td>0</td>\n",
       "      <td>0</td>\n",
       "      <td>0</td>\n",
       "      <td>0</td>\n",
       "      <td>1</td>\n",
       "      <td>0</td>\n",
       "      <td>1</td>\n",
       "      <td>0</td>\n",
       "    </tr>\n",
       "    <tr>\n",
       "      <th>1</th>\n",
       "      <td>1</td>\n",
       "      <td>1</td>\n",
       "      <td>1</td>\n",
       "      <td>0</td>\n",
       "      <td>270000.0</td>\n",
       "      <td>1293502.5</td>\n",
       "      <td>35698.5</td>\n",
       "      <td>1129500.0</td>\n",
       "      <td>0.003541</td>\n",
       "      <td>-16765</td>\n",
       "      <td>...</td>\n",
       "      <td>0</td>\n",
       "      <td>1</td>\n",
       "      <td>0</td>\n",
       "      <td>0</td>\n",
       "      <td>0</td>\n",
       "      <td>0</td>\n",
       "      <td>0</td>\n",
       "      <td>0</td>\n",
       "      <td>1</td>\n",
       "      <td>0</td>\n",
       "    </tr>\n",
       "    <tr>\n",
       "      <th>2</th>\n",
       "      <td>0</td>\n",
       "      <td>0</td>\n",
       "      <td>0</td>\n",
       "      <td>0</td>\n",
       "      <td>67500.0</td>\n",
       "      <td>135000.0</td>\n",
       "      <td>6750.0</td>\n",
       "      <td>135000.0</td>\n",
       "      <td>0.010032</td>\n",
       "      <td>-19046</td>\n",
       "      <td>...</td>\n",
       "      <td>0</td>\n",
       "      <td>0</td>\n",
       "      <td>0</td>\n",
       "      <td>0</td>\n",
       "      <td>0</td>\n",
       "      <td>0</td>\n",
       "      <td>0</td>\n",
       "      <td>0</td>\n",
       "      <td>0</td>\n",
       "      <td>0</td>\n",
       "    </tr>\n",
       "    <tr>\n",
       "      <th>3</th>\n",
       "      <td>1</td>\n",
       "      <td>1</td>\n",
       "      <td>0</td>\n",
       "      <td>0</td>\n",
       "      <td>135000.0</td>\n",
       "      <td>312682.5</td>\n",
       "      <td>29686.5</td>\n",
       "      <td>297000.0</td>\n",
       "      <td>0.008019</td>\n",
       "      <td>-19005</td>\n",
       "      <td>...</td>\n",
       "      <td>0</td>\n",
       "      <td>0</td>\n",
       "      <td>0</td>\n",
       "      <td>0</td>\n",
       "      <td>0</td>\n",
       "      <td>0</td>\n",
       "      <td>0</td>\n",
       "      <td>0</td>\n",
       "      <td>0</td>\n",
       "      <td>0</td>\n",
       "    </tr>\n",
       "    <tr>\n",
       "      <th>4</th>\n",
       "      <td>0</td>\n",
       "      <td>1</td>\n",
       "      <td>0</td>\n",
       "      <td>0</td>\n",
       "      <td>121500.0</td>\n",
       "      <td>513000.0</td>\n",
       "      <td>21865.5</td>\n",
       "      <td>513000.0</td>\n",
       "      <td>0.028663</td>\n",
       "      <td>-19932</td>\n",
       "      <td>...</td>\n",
       "      <td>0</td>\n",
       "      <td>0</td>\n",
       "      <td>0</td>\n",
       "      <td>0</td>\n",
       "      <td>0</td>\n",
       "      <td>0</td>\n",
       "      <td>0</td>\n",
       "      <td>0</td>\n",
       "      <td>0</td>\n",
       "      <td>0</td>\n",
       "    </tr>\n",
       "  </tbody>\n",
       "</table>\n",
       "<p>5 rows × 247 columns</p>\n",
       "</div>"
      ],
      "text/plain": [
       "   CODE_GENDER  FLAG_OWN_CAR  FLAG_OWN_REALTY  CNT_CHILDREN  AMT_INCOME_TOTAL  \\\n",
       "0            0             1                0             0          202500.0   \n",
       "1            1             1                1             0          270000.0   \n",
       "2            0             0                0             0           67500.0   \n",
       "3            1             1                0             0          135000.0   \n",
       "4            0             1                0             0          121500.0   \n",
       "\n",
       "   AMT_CREDIT  AMT_ANNUITY  AMT_GOODS_PRICE  REGION_POPULATION_RELATIVE  \\\n",
       "0    406597.5      24700.5         351000.0                    0.018801   \n",
       "1   1293502.5      35698.5        1129500.0                    0.003541   \n",
       "2    135000.0       6750.0         135000.0                    0.010032   \n",
       "3    312682.5      29686.5         297000.0                    0.008019   \n",
       "4    513000.0      21865.5         513000.0                    0.028663   \n",
       "\n",
       "   DAYS_BIRTH  ...  HOUSETYPE_MODE_terraced house  WALLSMATERIAL_MODE_Block  \\\n",
       "0       -9461  ...                              0                         0   \n",
       "1      -16765  ...                              0                         1   \n",
       "2      -19046  ...                              0                         0   \n",
       "3      -19005  ...                              0                         0   \n",
       "4      -19932  ...                              0                         0   \n",
       "\n",
       "   WALLSMATERIAL_MODE_Mixed  WALLSMATERIAL_MODE_Monolithic  \\\n",
       "0                         0                              0   \n",
       "1                         0                              0   \n",
       "2                         0                              0   \n",
       "3                         0                              0   \n",
       "4                         0                              0   \n",
       "\n",
       "   WALLSMATERIAL_MODE_Others  WALLSMATERIAL_MODE_Panel  \\\n",
       "0                          0                         0   \n",
       "1                          0                         0   \n",
       "2                          0                         0   \n",
       "3                          0                         0   \n",
       "4                          0                         0   \n",
       "\n",
       "   WALLSMATERIAL_MODE_Stone, brick  WALLSMATERIAL_MODE_Wooden  \\\n",
       "0                                1                          0   \n",
       "1                                0                          0   \n",
       "2                                0                          0   \n",
       "3                                0                          0   \n",
       "4                                0                          0   \n",
       "\n",
       "   EMERGENCYSTATE_MODE_No  EMERGENCYSTATE_MODE_Yes  \n",
       "0                       1                        0  \n",
       "1                       1                        0  \n",
       "2                       0                        0  \n",
       "3                       0                        0  \n",
       "4                       0                        0  \n",
       "\n",
       "[5 rows x 247 columns]"
      ]
     },
     "execution_count": 11,
     "metadata": {},
     "output_type": "execute_result"
    }
   ],
   "source": [
    "X.head()"
   ]
  },
  {
   "cell_type": "code",
   "execution_count": 12,
   "metadata": {
    "ExecuteTime": {
     "end_time": "2021-05-03T13:35:54.266165Z",
     "start_time": "2021-05-03T13:35:53.347988Z"
    }
   },
   "outputs": [],
   "source": [
    "## fix the inf problem \n",
    "X['AMT_CREDIT_DEBT_RATIO'] = X['AMT_CREDIT_DEBT_RATIO'].apply(lambda x: x if ~np.isinf(x) else 0)\n",
    "X_test['AMT_CREDIT_DEBT_RATIO'] = X_test['AMT_CREDIT_DEBT_RATIO'].apply(lambda x: x if ~np.isinf(x) else 0)"
   ]
  },
  {
   "cell_type": "code",
   "execution_count": 13,
   "metadata": {
    "ExecuteTime": {
     "end_time": "2021-05-03T13:36:18.799785Z",
     "start_time": "2021-05-03T13:35:54.269476Z"
    }
   },
   "outputs": [],
   "source": [
    "## impute missing values by its median \n",
    "imp.fit(X)\n",
    "X = imp.transform(X)\n",
    "X_test = imp.fit_transform(X_test)"
   ]
  },
  {
   "cell_type": "markdown",
   "metadata": {},
   "source": [
    "# Baseline: No sampling\n",
    "- expecting model to overfit "
   ]
  },
  {
   "cell_type": "code",
   "execution_count": 14,
   "metadata": {
    "ExecuteTime": {
     "end_time": "2021-05-03T13:37:55.416934Z",
     "start_time": "2021-05-03T13:36:18.806209Z"
    }
   },
   "outputs": [
    {
     "name": "stdout",
     "output_type": "stream",
     "text": [
      "classifaction report on training set\n",
      "              precision    recall  f1-score   support\n",
      "\n",
      "           0       1.00      1.00      1.00    226145\n",
      "           1       1.00      1.00      1.00     19860\n",
      "\n",
      "    accuracy                           1.00    246005\n",
      "   macro avg       1.00      1.00      1.00    246005\n",
      "weighted avg       1.00      1.00      1.00    246005\n",
      "\n",
      "--------------------------------------------------------------\n",
      "classifaction report on validation set\n",
      "              precision    recall  f1-score   support\n",
      "\n",
      "           0       0.92      1.00      0.96     56537\n",
      "           1       0.76      0.00      0.01      4965\n",
      "\n",
      "    accuracy                           0.92     61502\n",
      "   macro avg       0.84      0.50      0.48     61502\n",
      "weighted avg       0.91      0.92      0.88     61502\n",
      "\n"
     ]
    }
   ],
   "source": [
    "X_train, X_val, y_train, y_val = train_test_split(X, y, test_size=0.2, random_state= 42, stratify=y)\n",
    "rf = RandomForestClassifier(random_state=42, n_jobs=-1)\n",
    "rf.fit(X_train, y_train)\n",
    "y_pred_train = rf.predict(X_train)\n",
    "y_pred_val = rf.predict(X_val)\n",
    "print('classifaction report on training set')\n",
    "print(classification_report(y_train, y_pred_train, labels=[0,1]))\n",
    "print('--------------------------------------------------------------')\n",
    "print('classifaction report on validation set')\n",
    "print(classification_report(y_val, y_pred_val, labels=[0,1]))"
   ]
  },
  {
   "cell_type": "markdown",
   "metadata": {},
   "source": [
    "We know the model above is garbage - since the the the dummy classifier (i.e i==0) will score 96% accuracy; therefore the notion accuracy in this sense is meaningless. Our objective is to increase the f1-score for both classes. Ideally we want the f1-score for both classes to be close to 1 then we can use the accuracy score evaluate the performance of the model. We're going to attempt different sampling techniques to achieve our goal. "
   ]
  },
  {
   "cell_type": "markdown",
   "metadata": {},
   "source": [
    "# Sampling methods"
   ]
  },
  {
   "cell_type": "code",
   "execution_count": 15,
   "metadata": {
    "ExecuteTime": {
     "end_time": "2021-05-03T13:38:00.007455Z",
     "start_time": "2021-05-03T13:37:55.421237Z"
    }
   },
   "outputs": [],
   "source": [
    "# create another df for sampling \n",
    "diff = train_df_enc_cols.difference(test_df_enc_cols)\n",
    "cols = [c for c in train_df_enc.columns if c not in diff]\n",
    "\n",
    "df_prime = pd.DataFrame(X, columns = cols[1:])\n",
    "# add target\n",
    "df_prime['TARGET'] = y\n",
    "\n",
    "# separate classes\n",
    "df_class0 = df_prime.loc[df_prime['TARGET']==0, :]\n",
    "df_class1 = df_prime.loc[df_prime['TARGET']==1, :]\n"
   ]
  },
  {
   "cell_type": "markdown",
   "metadata": {},
   "source": [
    "# down-sampling"
   ]
  },
  {
   "cell_type": "code",
   "execution_count": 16,
   "metadata": {
    "ExecuteTime": {
     "end_time": "2021-05-03T13:38:00.297340Z",
     "start_time": "2021-05-03T13:38:00.010638Z"
    }
   },
   "outputs": [
    {
     "name": "stdout",
     "output_type": "stream",
     "text": [
      "Before sampling\n",
      "(282682, 248) (24825, 248)\n",
      "After sampling\n",
      "(24825, 248) (24825, 248)\n",
      "new df shape: (49650, 248)\n"
     ]
    }
   ],
   "source": [
    "print('Before sampling')\n",
    "print(df_class0.shape, df_class1.shape)\n",
    "\n",
    "df_class0_down_sample = df_class0.sample(df_class1.shape[0])\n",
    "\n",
    "print('After sampling')\n",
    "print(df_class0_down_sample.shape, df_class1.shape)\n",
    "\n",
    "# concat the two classes (down sample)\n",
    "df_ds = pd.concat([df_class0_down_sample, df_class1], axis = 0)\n",
    "print('new df shape:', df_ds.shape)"
   ]
  },
  {
   "cell_type": "code",
   "execution_count": 17,
   "metadata": {
    "ExecuteTime": {
     "end_time": "2021-05-03T13:38:00.319873Z",
     "start_time": "2021-05-03T13:38:00.300885Z"
    }
   },
   "outputs": [
    {
     "data": {
      "text/plain": [
       "1.0    24825\n",
       "0.0    24825\n",
       "Name: TARGET, dtype: int64"
      ]
     },
     "execution_count": 17,
     "metadata": {},
     "output_type": "execute_result"
    }
   ],
   "source": [
    "df_ds.TARGET.value_counts()"
   ]
  },
  {
   "cell_type": "code",
   "execution_count": 18,
   "metadata": {
    "ExecuteTime": {
     "end_time": "2021-05-03T13:38:00.779254Z",
     "start_time": "2021-05-03T13:38:00.323824Z"
    }
   },
   "outputs": [],
   "source": [
    "X = df_ds.drop(columns = ['TARGET'], axis=1)\n",
    "y = df_ds['TARGET']\n",
    "\n",
    "X_train, X_val, y_train, y_val = train_test_split(X, y, test_size=0.2, random_state= 42, stratify=y)"
   ]
  },
  {
   "cell_type": "markdown",
   "metadata": {},
   "source": [
    "## random forest"
   ]
  },
  {
   "cell_type": "code",
   "execution_count": 19,
   "metadata": {
    "ExecuteTime": {
     "end_time": "2021-05-03T13:38:10.290351Z",
     "start_time": "2021-05-03T13:38:00.782425Z"
    }
   },
   "outputs": [
    {
     "name": "stdout",
     "output_type": "stream",
     "text": [
      "classifaction report on training set\n",
      "              precision    recall  f1-score   support\n",
      "\n",
      "           0       1.00      1.00      1.00     19860\n",
      "           1       1.00      1.00      1.00     19860\n",
      "\n",
      "    accuracy                           1.00     39720\n",
      "   macro avg       1.00      1.00      1.00     39720\n",
      "weighted avg       1.00      1.00      1.00     39720\n",
      "\n",
      "--------------------------------------------------------------\n",
      "classifaction report on validation set\n",
      "              precision    recall  f1-score   support\n",
      "\n",
      "           0       0.68      0.70      0.69      4965\n",
      "           1       0.69      0.68      0.68      4965\n",
      "\n",
      "    accuracy                           0.69      9930\n",
      "   macro avg       0.69      0.69      0.69      9930\n",
      "weighted avg       0.69      0.69      0.69      9930\n",
      "\n"
     ]
    }
   ],
   "source": [
    "rf = RandomForestClassifier(random_state=42, n_jobs=-1)\n",
    "rf.fit(X_train, y_train)\n",
    "y_pred_train = rf.predict(X_train)\n",
    "y_pred_val = rf.predict(X_val)\n",
    "print('classifaction report on training set')\n",
    "print(classification_report(y_train, y_pred_train, labels=[0,1]))\n",
    "print('--------------------------------------------------------------')\n",
    "print('classifaction report on validation set')\n",
    "print(classification_report(y_val, y_pred_val, labels=[0,1]))"
   ]
  },
  {
   "cell_type": "code",
   "execution_count": 32,
   "metadata": {
    "ExecuteTime": {
     "end_time": "2021-05-03T14:17:33.053554Z",
     "start_time": "2021-05-03T14:17:32.838026Z"
    }
   },
   "outputs": [
    {
     "data": {
      "text/plain": [
       "(247,)"
      ]
     },
     "execution_count": 32,
     "metadata": {},
     "output_type": "execute_result"
    }
   ],
   "source": [
    "rf.feature_importances_.shape"
   ]
  },
  {
   "cell_type": "code",
   "execution_count": 20,
   "metadata": {
    "ExecuteTime": {
     "end_time": "2021-05-03T13:43:42.636345Z",
     "start_time": "2021-05-03T13:43:42.102410Z"
    }
   },
   "outputs": [
    {
     "data": {
      "text/html": [
       "<div>\n",
       "<style scoped>\n",
       "    .dataframe tbody tr th:only-of-type {\n",
       "        vertical-align: middle;\n",
       "    }\n",
       "\n",
       "    .dataframe tbody tr th {\n",
       "        vertical-align: top;\n",
       "    }\n",
       "\n",
       "    .dataframe thead th {\n",
       "        text-align: right;\n",
       "    }\n",
       "</style>\n",
       "<table border=\"1\" class=\"dataframe\">\n",
       "  <thead>\n",
       "    <tr style=\"text-align: right;\">\n",
       "      <th></th>\n",
       "      <th>feature</th>\n",
       "      <th>importance</th>\n",
       "    </tr>\n",
       "  </thead>\n",
       "  <tbody>\n",
       "    <tr>\n",
       "      <th>111</th>\n",
       "      <td>ALL_EXT_SOURCE_MEAN</td>\n",
       "      <td>0.063439</td>\n",
       "    </tr>\n",
       "    <tr>\n",
       "      <th>31</th>\n",
       "      <td>EXT_SOURCE_2</td>\n",
       "      <td>0.044869</td>\n",
       "    </tr>\n",
       "    <tr>\n",
       "      <th>32</th>\n",
       "      <td>EXT_SOURCE_3</td>\n",
       "      <td>0.042734</td>\n",
       "    </tr>\n",
       "    <tr>\n",
       "      <th>107</th>\n",
       "      <td>AMT_CREDIT_DEBT_RATIO</td>\n",
       "      <td>0.026742</td>\n",
       "    </tr>\n",
       "    <tr>\n",
       "      <th>10</th>\n",
       "      <td>DAYS_EMPLOYED</td>\n",
       "      <td>0.025678</td>\n",
       "    </tr>\n",
       "    <tr>\n",
       "      <th>112</th>\n",
       "      <td>PAYMENT_RATE</td>\n",
       "      <td>0.025152</td>\n",
       "    </tr>\n",
       "    <tr>\n",
       "      <th>9</th>\n",
       "      <td>DAYS_BIRTH</td>\n",
       "      <td>0.024964</td>\n",
       "    </tr>\n",
       "    <tr>\n",
       "      <th>110</th>\n",
       "      <td>BIRTH_IN_YEARS</td>\n",
       "      <td>0.024530</td>\n",
       "    </tr>\n",
       "    <tr>\n",
       "      <th>80</th>\n",
       "      <td>DAYS_LAST_PHONE_CHANGE</td>\n",
       "      <td>0.023587</td>\n",
       "    </tr>\n",
       "    <tr>\n",
       "      <th>12</th>\n",
       "      <td>DAYS_ID_PUBLISH</td>\n",
       "      <td>0.023524</td>\n",
       "    </tr>\n",
       "  </tbody>\n",
       "</table>\n",
       "</div>"
      ],
      "text/plain": [
       "                    feature  importance\n",
       "111     ALL_EXT_SOURCE_MEAN    0.063439\n",
       "31             EXT_SOURCE_2    0.044869\n",
       "32             EXT_SOURCE_3    0.042734\n",
       "107   AMT_CREDIT_DEBT_RATIO    0.026742\n",
       "10            DAYS_EMPLOYED    0.025678\n",
       "112            PAYMENT_RATE    0.025152\n",
       "9                DAYS_BIRTH    0.024964\n",
       "110          BIRTH_IN_YEARS    0.024530\n",
       "80   DAYS_LAST_PHONE_CHANGE    0.023587\n",
       "12          DAYS_ID_PUBLISH    0.023524"
      ]
     },
     "execution_count": 20,
     "metadata": {},
     "output_type": "execute_result"
    }
   ],
   "source": [
    "features = cols[1:]\n",
    "fm = {'feature': features,\n",
    "    'importance': rf.feature_importances_}\n",
    "feature_importance = pd.DataFrame(fm)\n",
    "feature_importance.sort_values(by='importance', ascending=False).head(10)"
   ]
  },
  {
   "cell_type": "code",
   "execution_count": 29,
   "metadata": {
    "ExecuteTime": {
     "end_time": "2021-05-03T14:13:27.556865Z",
     "start_time": "2021-05-03T14:13:19.476302Z"
    }
   },
   "outputs": [
    {
     "name": "stdout",
     "output_type": "stream",
     "text": [
      "classifaction report on training set\n",
      "              precision    recall  f1-score   support\n",
      "\n",
      "           0       0.68      0.69      0.69     19860\n",
      "           1       0.69      0.68      0.68     19860\n",
      "\n",
      "    accuracy                           0.69     39720\n",
      "   macro avg       0.69      0.69      0.69     39720\n",
      "weighted avg       0.69      0.69      0.69     39720\n",
      "\n",
      "--------------------------------------------------------------\n",
      "classifaction report on validation set\n",
      "              precision    recall  f1-score   support\n",
      "\n",
      "           0       0.69      0.69      0.69      4965\n",
      "           1       0.69      0.69      0.69      4965\n",
      "\n",
      "    accuracy                           0.69      9930\n",
      "   macro avg       0.69      0.69      0.69      9930\n",
      "weighted avg       0.69      0.69      0.69      9930\n",
      "\n"
     ]
    }
   ],
   "source": [
    "## logistic regression\n",
    "scaler = StandardScaler()\n",
    "scaler.fit(X)\n",
    "scaler.transform(X)\n",
    "X_std = scaler.transform(X)\n",
    "X_test_std = scaler.fit_transform(X_test)\n",
    "\n",
    "X_train, X_val, y_train, y_val = train_test_split(X_std, y, test_size=0.2, random_state= 42, stratify=y)\n",
    "logreg = LogisticRegression(solver='lbfgs', max_iter =1000, random_state=42)\n",
    "logreg.fit(X_train, y_train)\n",
    "\n",
    "y_pred_train = logreg.predict(X_train)\n",
    "y_pred_val = logreg.predict(X_val)\n",
    "print('classifaction report on training set')\n",
    "print(classification_report(y_train, y_pred_train, labels=[0,1]))\n",
    "print('--------------------------------------------------------------')\n",
    "print('classifaction report on validation set')\n",
    "print(classification_report(y_val, y_pred_val, labels=[0,1]))"
   ]
  },
  {
   "cell_type": "code",
   "execution_count": 31,
   "metadata": {
    "ExecuteTime": {
     "end_time": "2021-05-03T14:16:51.053065Z",
     "start_time": "2021-05-03T14:16:51.045825Z"
    }
   },
   "outputs": [
    {
     "data": {
      "text/plain": [
       "(1, 247)"
      ]
     },
     "execution_count": 31,
     "metadata": {},
     "output_type": "execute_result"
    }
   ],
   "source": [
    "logreg.coef_.shape"
   ]
  },
  {
   "cell_type": "code",
   "execution_count": 33,
   "metadata": {
    "ExecuteTime": {
     "end_time": "2021-05-03T14:18:11.917001Z",
     "start_time": "2021-05-03T14:18:11.896474Z"
    }
   },
   "outputs": [
    {
     "data": {
      "text/html": [
       "<div>\n",
       "<style scoped>\n",
       "    .dataframe tbody tr th:only-of-type {\n",
       "        vertical-align: middle;\n",
       "    }\n",
       "\n",
       "    .dataframe tbody tr th {\n",
       "        vertical-align: top;\n",
       "    }\n",
       "\n",
       "    .dataframe thead th {\n",
       "        text-align: right;\n",
       "    }\n",
       "</style>\n",
       "<table border=\"1\" class=\"dataframe\">\n",
       "  <thead>\n",
       "    <tr style=\"text-align: right;\">\n",
       "      <th></th>\n",
       "      <th>feature</th>\n",
       "      <th>importance</th>\n",
       "    </tr>\n",
       "  </thead>\n",
       "  <tbody>\n",
       "    <tr>\n",
       "      <th>37</th>\n",
       "      <td>COMMONAREA_AVG</td>\n",
       "      <td>0.646085</td>\n",
       "    </tr>\n",
       "    <tr>\n",
       "      <th>5</th>\n",
       "      <td>AMT_CREDIT</td>\n",
       "      <td>0.635892</td>\n",
       "    </tr>\n",
       "    <tr>\n",
       "      <th>107</th>\n",
       "      <td>AMT_CREDIT_DEBT_RATIO</td>\n",
       "      <td>0.385369</td>\n",
       "    </tr>\n",
       "    <tr>\n",
       "      <th>76</th>\n",
       "      <td>OBS_30_CNT_SOCIAL_CIRCLE</td>\n",
       "      <td>0.337438</td>\n",
       "    </tr>\n",
       "    <tr>\n",
       "      <th>68</th>\n",
       "      <td>FLOORSMAX_MEDI</td>\n",
       "      <td>0.301710</td>\n",
       "    </tr>\n",
       "    <tr>\n",
       "      <th>71</th>\n",
       "      <td>LIVINGAPARTMENTS_MEDI</td>\n",
       "      <td>0.300312</td>\n",
       "    </tr>\n",
       "    <tr>\n",
       "      <th>36</th>\n",
       "      <td>YEARS_BUILD_AVG</td>\n",
       "      <td>0.245723</td>\n",
       "    </tr>\n",
       "    <tr>\n",
       "      <th>59</th>\n",
       "      <td>NONLIVINGAPARTMENTS_MODE</td>\n",
       "      <td>0.210649</td>\n",
       "    </tr>\n",
       "    <tr>\n",
       "      <th>6</th>\n",
       "      <td>AMT_ANNUITY</td>\n",
       "      <td>0.201030</td>\n",
       "    </tr>\n",
       "    <tr>\n",
       "      <th>62</th>\n",
       "      <td>BASEMENTAREA_MEDI</td>\n",
       "      <td>0.171385</td>\n",
       "    </tr>\n",
       "  </tbody>\n",
       "</table>\n",
       "</div>"
      ],
      "text/plain": [
       "                      feature  importance\n",
       "37             COMMONAREA_AVG    0.646085\n",
       "5                  AMT_CREDIT    0.635892\n",
       "107     AMT_CREDIT_DEBT_RATIO    0.385369\n",
       "76   OBS_30_CNT_SOCIAL_CIRCLE    0.337438\n",
       "68             FLOORSMAX_MEDI    0.301710\n",
       "71      LIVINGAPARTMENTS_MEDI    0.300312\n",
       "36            YEARS_BUILD_AVG    0.245723\n",
       "59   NONLIVINGAPARTMENTS_MODE    0.210649\n",
       "6                 AMT_ANNUITY    0.201030\n",
       "62          BASEMENTAREA_MEDI    0.171385"
      ]
     },
     "execution_count": 33,
     "metadata": {},
     "output_type": "execute_result"
    }
   ],
   "source": [
    "#importance = model.coef_\n",
    "features = cols[1:]\n",
    "fm = {'feature': features,\n",
    "    'importance':  logreg.coef_.reshape((247,))}\n",
    "feature_importance = pd.DataFrame(fm)\n",
    "feature_importance.sort_values(by='importance', ascending=False).head(10)"
   ]
  },
  {
   "cell_type": "markdown",
   "metadata": {},
   "source": [
    "# up-sampling \n",
    "# SMOTE"
   ]
  },
  {
   "cell_type": "code",
   "execution_count": null,
   "metadata": {},
   "outputs": [],
   "source": []
  }
 ],
 "metadata": {
  "kernelspec": {
   "display_name": "Python 3",
   "language": "python",
   "name": "python3"
  },
  "language_info": {
   "codemirror_mode": {
    "name": "ipython",
    "version": 3
   },
   "file_extension": ".py",
   "mimetype": "text/x-python",
   "name": "python",
   "nbconvert_exporter": "python",
   "pygments_lexer": "ipython3",
   "version": "3.7.4"
  },
  "toc": {
   "base_numbering": 1,
   "nav_menu": {},
   "number_sections": true,
   "sideBar": true,
   "skip_h1_title": false,
   "title_cell": "Table of Contents",
   "title_sidebar": "Contents",
   "toc_cell": false,
   "toc_position": {},
   "toc_section_display": true,
   "toc_window_display": false
  },
  "varInspector": {
   "cols": {
    "lenName": 16,
    "lenType": 16,
    "lenVar": 40
   },
   "kernels_config": {
    "python": {
     "delete_cmd_postfix": "",
     "delete_cmd_prefix": "del ",
     "library": "var_list.py",
     "varRefreshCmd": "print(var_dic_list())"
    },
    "r": {
     "delete_cmd_postfix": ") ",
     "delete_cmd_prefix": "rm(",
     "library": "var_list.r",
     "varRefreshCmd": "cat(var_dic_list()) "
    }
   },
   "types_to_exclude": [
    "module",
    "function",
    "builtin_function_or_method",
    "instance",
    "_Feature"
   ],
   "window_display": true
  }
 },
 "nbformat": 4,
 "nbformat_minor": 2
}
