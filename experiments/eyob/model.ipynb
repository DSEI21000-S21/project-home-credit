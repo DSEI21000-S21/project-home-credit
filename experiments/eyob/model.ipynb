{
 "cells": [
  {
   "cell_type": "code",
   "execution_count": 1,
   "metadata": {
    "ExecuteTime": {
     "end_time": "2021-05-03T04:06:05.219573Z",
     "start_time": "2021-05-03T04:06:02.486259Z"
    }
   },
   "outputs": [
    {
     "name": "stderr",
     "output_type": "stream",
     "text": [
      "\n",
      "Bad key \"text.kerning_factor\" on line 4 in\n",
      "/Users/eyobmanhardt/opt/anaconda3/lib/python3.7/site-packages/matplotlib/mpl-data/stylelib/_classic_test_patch.mplstyle.\n",
      "You probably need to get an updated matplotlibrc file from\n",
      "https://github.com/matplotlib/matplotlib/blob/v3.1.3/matplotlibrc.template\n",
      "or from the matplotlib source distribution\n"
     ]
    }
   ],
   "source": [
    "import pandas as pd\n",
    "import numpy as np\n",
    "#import matplotlib\n",
    "import matplotlib.pyplot as plt"
   ]
  },
  {
   "cell_type": "code",
   "execution_count": 3,
   "metadata": {
    "ExecuteTime": {
     "end_time": "2021-05-03T04:06:55.702685Z",
     "start_time": "2021-05-03T04:06:49.936855Z"
    }
   },
   "outputs": [],
   "source": [
    "df = pd.read_csv('temp_preprocess_data.csv')"
   ]
  },
  {
   "cell_type": "code",
   "execution_count": 4,
   "metadata": {
    "ExecuteTime": {
     "end_time": "2021-05-03T04:07:06.338588Z",
     "start_time": "2021-05-03T04:07:06.327368Z"
    }
   },
   "outputs": [
    {
     "data": {
      "text/plain": [
       "(356251, 131)"
      ]
     },
     "execution_count": 4,
     "metadata": {},
     "output_type": "execute_result"
    }
   ],
   "source": [
    "df.shape"
   ]
  },
  {
   "cell_type": "code",
   "execution_count": 5,
   "metadata": {
    "ExecuteTime": {
     "end_time": "2021-05-03T04:07:13.024091Z",
     "start_time": "2021-05-03T04:07:12.963981Z"
    }
   },
   "outputs": [
    {
     "data": {
      "text/html": [
       "<div>\n",
       "<style scoped>\n",
       "    .dataframe tbody tr th:only-of-type {\n",
       "        vertical-align: middle;\n",
       "    }\n",
       "\n",
       "    .dataframe tbody tr th {\n",
       "        vertical-align: top;\n",
       "    }\n",
       "\n",
       "    .dataframe thead th {\n",
       "        text-align: right;\n",
       "    }\n",
       "</style>\n",
       "<table border=\"1\" class=\"dataframe\">\n",
       "  <thead>\n",
       "    <tr style=\"text-align: right;\">\n",
       "      <th></th>\n",
       "      <th>SK_ID_CURR</th>\n",
       "      <th>TARGET</th>\n",
       "      <th>NAME_CONTRACT_TYPE</th>\n",
       "      <th>CODE_GENDER</th>\n",
       "      <th>FLAG_OWN_CAR</th>\n",
       "      <th>FLAG_OWN_REALTY</th>\n",
       "      <th>CNT_CHILDREN</th>\n",
       "      <th>AMT_INCOME_TOTAL</th>\n",
       "      <th>AMT_CREDIT</th>\n",
       "      <th>AMT_ANNUITY</th>\n",
       "      <th>...</th>\n",
       "      <th>AMT_REQ_CREDIT_BUREAU_YEAR</th>\n",
       "      <th>AMT_CREDIT_DEBT_RATIO</th>\n",
       "      <th>CREDIT_DAY_OVERDUE</th>\n",
       "      <th>DPD_COUNTS</th>\n",
       "      <th>BIRTH_IN_YEARS</th>\n",
       "      <th>ALL_EXT_SOURCE_MEAN</th>\n",
       "      <th>PAYMENT_RATE</th>\n",
       "      <th>INCOME_PER_PERSON</th>\n",
       "      <th>INCOME_CREDIT_IN_PERCENTAGE</th>\n",
       "      <th>ANNUITY_INCOME_IN_PERCENTAGE</th>\n",
       "    </tr>\n",
       "  </thead>\n",
       "  <tbody>\n",
       "    <tr>\n",
       "      <th>0</th>\n",
       "      <td>100002</td>\n",
       "      <td>1.0</td>\n",
       "      <td>Cash loans</td>\n",
       "      <td>0</td>\n",
       "      <td>1</td>\n",
       "      <td>0</td>\n",
       "      <td>0</td>\n",
       "      <td>202500.0</td>\n",
       "      <td>406597.5</td>\n",
       "      <td>24700.5</td>\n",
       "      <td>...</td>\n",
       "      <td>1.0</td>\n",
       "      <td>0.068272</td>\n",
       "      <td>0.0</td>\n",
       "      <td>3.375</td>\n",
       "      <td>25.920548</td>\n",
       "      <td>0.161787</td>\n",
       "      <td>0.060749</td>\n",
       "      <td>202500.0</td>\n",
       "      <td>0.498036</td>\n",
       "      <td>0.121978</td>\n",
       "    </tr>\n",
       "    <tr>\n",
       "      <th>1</th>\n",
       "      <td>100003</td>\n",
       "      <td>0.0</td>\n",
       "      <td>Cash loans</td>\n",
       "      <td>1</td>\n",
       "      <td>1</td>\n",
       "      <td>1</td>\n",
       "      <td>0</td>\n",
       "      <td>270000.0</td>\n",
       "      <td>1293502.5</td>\n",
       "      <td>35698.5</td>\n",
       "      <td>...</td>\n",
       "      <td>0.0</td>\n",
       "      <td>0.000000</td>\n",
       "      <td>0.0</td>\n",
       "      <td>NaN</td>\n",
       "      <td>45.931507</td>\n",
       "      <td>0.466757</td>\n",
       "      <td>0.027598</td>\n",
       "      <td>135000.0</td>\n",
       "      <td>0.208736</td>\n",
       "      <td>0.132217</td>\n",
       "    </tr>\n",
       "    <tr>\n",
       "      <th>2</th>\n",
       "      <td>100004</td>\n",
       "      <td>0.0</td>\n",
       "      <td>Revolving loans</td>\n",
       "      <td>0</td>\n",
       "      <td>0</td>\n",
       "      <td>0</td>\n",
       "      <td>0</td>\n",
       "      <td>67500.0</td>\n",
       "      <td>135000.0</td>\n",
       "      <td>6750.0</td>\n",
       "      <td>...</td>\n",
       "      <td>0.0</td>\n",
       "      <td>0.000000</td>\n",
       "      <td>0.0</td>\n",
       "      <td>NaN</td>\n",
       "      <td>52.180822</td>\n",
       "      <td>0.642739</td>\n",
       "      <td>0.050000</td>\n",
       "      <td>67500.0</td>\n",
       "      <td>0.500000</td>\n",
       "      <td>0.100000</td>\n",
       "    </tr>\n",
       "    <tr>\n",
       "      <th>3</th>\n",
       "      <td>100006</td>\n",
       "      <td>0.0</td>\n",
       "      <td>Cash loans</td>\n",
       "      <td>1</td>\n",
       "      <td>1</td>\n",
       "      <td>0</td>\n",
       "      <td>0</td>\n",
       "      <td>135000.0</td>\n",
       "      <td>312682.5</td>\n",
       "      <td>29686.5</td>\n",
       "      <td>...</td>\n",
       "      <td>NaN</td>\n",
       "      <td>NaN</td>\n",
       "      <td>NaN</td>\n",
       "      <td>NaN</td>\n",
       "      <td>52.068493</td>\n",
       "      <td>0.650442</td>\n",
       "      <td>0.094941</td>\n",
       "      <td>67500.0</td>\n",
       "      <td>0.431748</td>\n",
       "      <td>0.219900</td>\n",
       "    </tr>\n",
       "    <tr>\n",
       "      <th>4</th>\n",
       "      <td>100007</td>\n",
       "      <td>0.0</td>\n",
       "      <td>Cash loans</td>\n",
       "      <td>0</td>\n",
       "      <td>1</td>\n",
       "      <td>0</td>\n",
       "      <td>0</td>\n",
       "      <td>121500.0</td>\n",
       "      <td>513000.0</td>\n",
       "      <td>21865.5</td>\n",
       "      <td>...</td>\n",
       "      <td>0.0</td>\n",
       "      <td>0.000000</td>\n",
       "      <td>0.0</td>\n",
       "      <td>NaN</td>\n",
       "      <td>54.608219</td>\n",
       "      <td>0.322738</td>\n",
       "      <td>0.042623</td>\n",
       "      <td>121500.0</td>\n",
       "      <td>0.236842</td>\n",
       "      <td>0.179963</td>\n",
       "    </tr>\n",
       "  </tbody>\n",
       "</table>\n",
       "<p>5 rows × 131 columns</p>\n",
       "</div>"
      ],
      "text/plain": [
       "   SK_ID_CURR  TARGET NAME_CONTRACT_TYPE  CODE_GENDER  FLAG_OWN_CAR  \\\n",
       "0      100002     1.0         Cash loans            0             1   \n",
       "1      100003     0.0         Cash loans            1             1   \n",
       "2      100004     0.0    Revolving loans            0             0   \n",
       "3      100006     0.0         Cash loans            1             1   \n",
       "4      100007     0.0         Cash loans            0             1   \n",
       "\n",
       "   FLAG_OWN_REALTY  CNT_CHILDREN  AMT_INCOME_TOTAL  AMT_CREDIT  AMT_ANNUITY  \\\n",
       "0                0             0          202500.0    406597.5      24700.5   \n",
       "1                1             0          270000.0   1293502.5      35698.5   \n",
       "2                0             0           67500.0    135000.0       6750.0   \n",
       "3                0             0          135000.0    312682.5      29686.5   \n",
       "4                0             0          121500.0    513000.0      21865.5   \n",
       "\n",
       "   ...  AMT_REQ_CREDIT_BUREAU_YEAR AMT_CREDIT_DEBT_RATIO CREDIT_DAY_OVERDUE  \\\n",
       "0  ...                         1.0              0.068272                0.0   \n",
       "1  ...                         0.0              0.000000                0.0   \n",
       "2  ...                         0.0              0.000000                0.0   \n",
       "3  ...                         NaN                   NaN                NaN   \n",
       "4  ...                         0.0              0.000000                0.0   \n",
       "\n",
       "  DPD_COUNTS BIRTH_IN_YEARS ALL_EXT_SOURCE_MEAN  PAYMENT_RATE  \\\n",
       "0      3.375      25.920548            0.161787      0.060749   \n",
       "1        NaN      45.931507            0.466757      0.027598   \n",
       "2        NaN      52.180822            0.642739      0.050000   \n",
       "3        NaN      52.068493            0.650442      0.094941   \n",
       "4        NaN      54.608219            0.322738      0.042623   \n",
       "\n",
       "   INCOME_PER_PERSON  INCOME_CREDIT_IN_PERCENTAGE   \\\n",
       "0           202500.0                      0.498036   \n",
       "1           135000.0                      0.208736   \n",
       "2            67500.0                      0.500000   \n",
       "3            67500.0                      0.431748   \n",
       "4           121500.0                      0.236842   \n",
       "\n",
       "   ANNUITY_INCOME_IN_PERCENTAGE  \n",
       "0                      0.121978  \n",
       "1                      0.132217  \n",
       "2                      0.100000  \n",
       "3                      0.219900  \n",
       "4                      0.179963  \n",
       "\n",
       "[5 rows x 131 columns]"
      ]
     },
     "execution_count": 5,
     "metadata": {},
     "output_type": "execute_result"
    }
   ],
   "source": [
    "df.head()"
   ]
  },
  {
   "cell_type": "code",
   "execution_count": 12,
   "metadata": {
    "ExecuteTime": {
     "end_time": "2021-05-03T04:15:24.613156Z",
     "start_time": "2021-05-03T04:15:24.047023Z"
    }
   },
   "outputs": [
    {
     "name": "stderr",
     "output_type": "stream",
     "text": [
      "/Users/eyobmanhardt/opt/anaconda3/lib/python3.7/site-packages/pandas/core/frame.py:4174: SettingWithCopyWarning: \n",
      "A value is trying to be set on a copy of a slice from a DataFrame\n",
      "\n",
      "See the caveats in the documentation: https://pandas.pydata.org/pandas-docs/stable/user_guide/indexing.html#returning-a-view-versus-a-copy\n",
      "  errors=errors,\n"
     ]
    }
   ],
   "source": [
    "train_df = df.loc[df['TARGET'].notnull(), :]\n",
    "test_df = df.loc[df['TARGET'].isnull(), :]\n",
    "test_df.drop(columns= ['TARGET'], axis=1, inplace=True)"
   ]
  },
  {
   "cell_type": "code",
   "execution_count": 14,
   "metadata": {
    "ExecuteTime": {
     "end_time": "2021-05-03T04:15:52.101871Z",
     "start_time": "2021-05-03T04:15:50.163009Z"
    }
   },
   "outputs": [
    {
     "name": "stdout",
     "output_type": "stream",
     "text": [
      "train shape: (307507, 251)\n",
      "test shape: (48744, 248)\n"
     ]
    }
   ],
   "source": [
    "train_df_enc = pd.get_dummies(train_df)\n",
    "test_df_enc = pd.get_dummies(test_df)\n",
    "\n",
    "print('train shape:', train_df_enc.shape) \n",
    "print('test shape:', test_df_enc.shape) "
   ]
  },
  {
   "cell_type": "code",
   "execution_count": 15,
   "metadata": {
    "ExecuteTime": {
     "end_time": "2021-05-03T04:16:05.734193Z",
     "start_time": "2021-05-03T04:16:05.728479Z"
    }
   },
   "outputs": [
    {
     "name": "stdout",
     "output_type": "stream",
     "text": [
      "{'NAME_INCOME_TYPE_Maternity leave', 'NAME_FAMILY_STATUS_Unknown', 'TARGET'}\n"
     ]
    }
   ],
   "source": [
    "train_df_enc_cols = set(train_df_enc.columns)\n",
    "test_df_enc_cols = set(test_df_enc.columns)\n",
    "\n",
    "print(train_df_enc_cols.difference(test_df_enc_cols))"
   ]
  },
  {
   "cell_type": "code",
   "execution_count": null,
   "metadata": {},
   "outputs": [],
   "source": []
  },
  {
   "cell_type": "code",
   "execution_count": 16,
   "metadata": {
    "ExecuteTime": {
     "end_time": "2021-05-03T04:17:53.008826Z",
     "start_time": "2021-05-03T04:17:51.498124Z"
    }
   },
   "outputs": [],
   "source": [
    "y = train_df_enc['TARGET']\n",
    "## align dataframes \n",
    "X, X_test = train_df_enc.align(test_df_enc, join='inner', axis=1)"
   ]
  },
  {
   "cell_type": "code",
   "execution_count": 17,
   "metadata": {
    "ExecuteTime": {
     "end_time": "2021-05-03T04:18:18.529815Z",
     "start_time": "2021-05-03T04:18:18.522048Z"
    }
   },
   "outputs": [
    {
     "data": {
      "text/plain": [
       "((307507, 248), (48744, 248))"
      ]
     },
     "execution_count": 17,
     "metadata": {},
     "output_type": "execute_result"
    }
   ],
   "source": [
    "X.shape, X_test.shape"
   ]
  },
  {
   "cell_type": "code",
   "execution_count": 19,
   "metadata": {
    "ExecuteTime": {
     "end_time": "2021-05-03T04:18:32.821397Z",
     "start_time": "2021-05-03T04:18:32.814005Z"
    }
   },
   "outputs": [
    {
     "data": {
      "text/plain": [
       "(307507,)"
      ]
     },
     "execution_count": 19,
     "metadata": {},
     "output_type": "execute_result"
    }
   ],
   "source": [
    "y.shape"
   ]
  },
  {
   "cell_type": "markdown",
   "metadata": {},
   "source": [
    "# down-sampling\n",
    "# up-sampling \n",
    "# SMOTE"
   ]
  },
  {
   "cell_type": "code",
   "execution_count": null,
   "metadata": {},
   "outputs": [],
   "source": []
  }
 ],
 "metadata": {
  "kernelspec": {
   "display_name": "Python 3",
   "language": "python",
   "name": "python3"
  },
  "language_info": {
   "codemirror_mode": {
    "name": "ipython",
    "version": 3
   },
   "file_extension": ".py",
   "mimetype": "text/x-python",
   "name": "python",
   "nbconvert_exporter": "python",
   "pygments_lexer": "ipython3",
   "version": "3.7.4"
  },
  "toc": {
   "base_numbering": 1,
   "nav_menu": {},
   "number_sections": true,
   "sideBar": true,
   "skip_h1_title": false,
   "title_cell": "Table of Contents",
   "title_sidebar": "Contents",
   "toc_cell": false,
   "toc_position": {},
   "toc_section_display": true,
   "toc_window_display": false
  },
  "varInspector": {
   "cols": {
    "lenName": 16,
    "lenType": 16,
    "lenVar": 40
   },
   "kernels_config": {
    "python": {
     "delete_cmd_postfix": "",
     "delete_cmd_prefix": "del ",
     "library": "var_list.py",
     "varRefreshCmd": "print(var_dic_list())"
    },
    "r": {
     "delete_cmd_postfix": ") ",
     "delete_cmd_prefix": "rm(",
     "library": "var_list.r",
     "varRefreshCmd": "cat(var_dic_list()) "
    }
   },
   "types_to_exclude": [
    "module",
    "function",
    "builtin_function_or_method",
    "instance",
    "_Feature"
   ],
   "window_display": false
  }
 },
 "nbformat": 4,
 "nbformat_minor": 2
}
