{
 "cells": [
  {
   "cell_type": "code",
   "execution_count": 1,
   "metadata": {
    "ExecuteTime": {
     "end_time": "2021-05-04T13:51:26.382833Z",
     "start_time": "2021-05-04T13:51:15.050646Z"
    }
   },
   "outputs": [],
   "source": [
    "from sklearn.model_selection import train_test_split\n",
    "from sklearn.model_selection import cross_val_score \n",
    "from sklearn.metrics import roc_auc_score\n",
    "from sklearn.metrics import classification_report\n",
    "from sklearn.metrics import confusion_matrix\n",
    "\n",
    "from sklearn.pipeline import Pipeline\n",
    "from sklearn.compose import ColumnTransformer\n",
    "from sklearn.impute import SimpleImputer\n",
    "from sklearn.preprocessing import StandardScaler, OneHotEncoder\n",
    "\n",
    "\n",
    "from sklearn.linear_model import LogisticRegression\n",
    "from sklearn.dummy import DummyClassifier\n",
    "from sklearn.ensemble import RandomForestClassifier"
   ]
  },
  {
   "cell_type": "code",
   "execution_count": 2,
   "metadata": {
    "ExecuteTime": {
     "end_time": "2021-05-04T13:51:35.030852Z",
     "start_time": "2021-05-04T13:51:28.007188Z"
    }
   },
   "outputs": [
    {
     "name": "stderr",
     "output_type": "stream",
     "text": [
      "\n",
      "Bad key \"text.kerning_factor\" on line 4 in\n",
      "/Users/eyobmanhardt/opt/anaconda3/lib/python3.7/site-packages/matplotlib/mpl-data/stylelib/_classic_test_patch.mplstyle.\n",
      "You probably need to get an updated matplotlibrc file from\n",
      "https://github.com/matplotlib/matplotlib/blob/v3.1.3/matplotlibrc.template\n",
      "or from the matplotlib source distribution\n"
     ]
    }
   ],
   "source": [
    "import pandas as pd\n",
    "import numpy as np\n",
    "#import matplotlib\n",
    "import matplotlib.pyplot as plt"
   ]
  },
  {
   "cell_type": "code",
   "execution_count": 3,
   "metadata": {
    "ExecuteTime": {
     "end_time": "2021-05-03T18:02:46.197909Z",
     "start_time": "2021-05-03T18:02:33.348018Z"
    }
   },
   "outputs": [],
   "source": [
    "df = pd.read_csv('temp_preprocess_data.csv')"
   ]
  },
  {
   "cell_type": "code",
   "execution_count": 4,
   "metadata": {
    "ExecuteTime": {
     "end_time": "2021-05-03T18:02:46.535170Z",
     "start_time": "2021-05-03T18:02:46.233147Z"
    }
   },
   "outputs": [
    {
     "name": "stdout",
     "output_type": "stream",
     "text": [
      "shape: (356251, 131)\n"
     ]
    },
    {
     "data": {
      "text/html": [
       "<div>\n",
       "<style scoped>\n",
       "    .dataframe tbody tr th:only-of-type {\n",
       "        vertical-align: middle;\n",
       "    }\n",
       "\n",
       "    .dataframe tbody tr th {\n",
       "        vertical-align: top;\n",
       "    }\n",
       "\n",
       "    .dataframe thead th {\n",
       "        text-align: right;\n",
       "    }\n",
       "</style>\n",
       "<table border=\"1\" class=\"dataframe\">\n",
       "  <thead>\n",
       "    <tr style=\"text-align: right;\">\n",
       "      <th></th>\n",
       "      <th>SK_ID_CURR</th>\n",
       "      <th>TARGET</th>\n",
       "      <th>NAME_CONTRACT_TYPE</th>\n",
       "      <th>CODE_GENDER</th>\n",
       "      <th>FLAG_OWN_CAR</th>\n",
       "      <th>FLAG_OWN_REALTY</th>\n",
       "      <th>CNT_CHILDREN</th>\n",
       "      <th>AMT_INCOME_TOTAL</th>\n",
       "      <th>AMT_CREDIT</th>\n",
       "      <th>AMT_ANNUITY</th>\n",
       "      <th>...</th>\n",
       "      <th>AMT_REQ_CREDIT_BUREAU_YEAR</th>\n",
       "      <th>AMT_CREDIT_DEBT_RATIO</th>\n",
       "      <th>CREDIT_DAY_OVERDUE</th>\n",
       "      <th>DPD_COUNTS</th>\n",
       "      <th>BIRTH_IN_YEARS</th>\n",
       "      <th>ALL_EXT_SOURCE_MEAN</th>\n",
       "      <th>PAYMENT_RATE</th>\n",
       "      <th>INCOME_PER_PERSON</th>\n",
       "      <th>INCOME_CREDIT_IN_PERCENTAGE</th>\n",
       "      <th>ANNUITY_INCOME_IN_PERCENTAGE</th>\n",
       "    </tr>\n",
       "  </thead>\n",
       "  <tbody>\n",
       "    <tr>\n",
       "      <th>0</th>\n",
       "      <td>100002</td>\n",
       "      <td>1.0</td>\n",
       "      <td>Cash loans</td>\n",
       "      <td>0</td>\n",
       "      <td>1</td>\n",
       "      <td>0</td>\n",
       "      <td>0</td>\n",
       "      <td>202500.0</td>\n",
       "      <td>406597.5</td>\n",
       "      <td>24700.5</td>\n",
       "      <td>...</td>\n",
       "      <td>1.0</td>\n",
       "      <td>0.068272</td>\n",
       "      <td>0.0</td>\n",
       "      <td>3.375</td>\n",
       "      <td>25.920548</td>\n",
       "      <td>0.161787</td>\n",
       "      <td>0.060749</td>\n",
       "      <td>202500.0</td>\n",
       "      <td>0.498036</td>\n",
       "      <td>0.121978</td>\n",
       "    </tr>\n",
       "    <tr>\n",
       "      <th>1</th>\n",
       "      <td>100003</td>\n",
       "      <td>0.0</td>\n",
       "      <td>Cash loans</td>\n",
       "      <td>1</td>\n",
       "      <td>1</td>\n",
       "      <td>1</td>\n",
       "      <td>0</td>\n",
       "      <td>270000.0</td>\n",
       "      <td>1293502.5</td>\n",
       "      <td>35698.5</td>\n",
       "      <td>...</td>\n",
       "      <td>0.0</td>\n",
       "      <td>0.000000</td>\n",
       "      <td>0.0</td>\n",
       "      <td>NaN</td>\n",
       "      <td>45.931507</td>\n",
       "      <td>0.466757</td>\n",
       "      <td>0.027598</td>\n",
       "      <td>135000.0</td>\n",
       "      <td>0.208736</td>\n",
       "      <td>0.132217</td>\n",
       "    </tr>\n",
       "    <tr>\n",
       "      <th>2</th>\n",
       "      <td>100004</td>\n",
       "      <td>0.0</td>\n",
       "      <td>Revolving loans</td>\n",
       "      <td>0</td>\n",
       "      <td>0</td>\n",
       "      <td>0</td>\n",
       "      <td>0</td>\n",
       "      <td>67500.0</td>\n",
       "      <td>135000.0</td>\n",
       "      <td>6750.0</td>\n",
       "      <td>...</td>\n",
       "      <td>0.0</td>\n",
       "      <td>0.000000</td>\n",
       "      <td>0.0</td>\n",
       "      <td>NaN</td>\n",
       "      <td>52.180822</td>\n",
       "      <td>0.642739</td>\n",
       "      <td>0.050000</td>\n",
       "      <td>67500.0</td>\n",
       "      <td>0.500000</td>\n",
       "      <td>0.100000</td>\n",
       "    </tr>\n",
       "    <tr>\n",
       "      <th>3</th>\n",
       "      <td>100006</td>\n",
       "      <td>0.0</td>\n",
       "      <td>Cash loans</td>\n",
       "      <td>1</td>\n",
       "      <td>1</td>\n",
       "      <td>0</td>\n",
       "      <td>0</td>\n",
       "      <td>135000.0</td>\n",
       "      <td>312682.5</td>\n",
       "      <td>29686.5</td>\n",
       "      <td>...</td>\n",
       "      <td>NaN</td>\n",
       "      <td>NaN</td>\n",
       "      <td>NaN</td>\n",
       "      <td>NaN</td>\n",
       "      <td>52.068493</td>\n",
       "      <td>0.650442</td>\n",
       "      <td>0.094941</td>\n",
       "      <td>67500.0</td>\n",
       "      <td>0.431748</td>\n",
       "      <td>0.219900</td>\n",
       "    </tr>\n",
       "    <tr>\n",
       "      <th>4</th>\n",
       "      <td>100007</td>\n",
       "      <td>0.0</td>\n",
       "      <td>Cash loans</td>\n",
       "      <td>0</td>\n",
       "      <td>1</td>\n",
       "      <td>0</td>\n",
       "      <td>0</td>\n",
       "      <td>121500.0</td>\n",
       "      <td>513000.0</td>\n",
       "      <td>21865.5</td>\n",
       "      <td>...</td>\n",
       "      <td>0.0</td>\n",
       "      <td>0.000000</td>\n",
       "      <td>0.0</td>\n",
       "      <td>NaN</td>\n",
       "      <td>54.608219</td>\n",
       "      <td>0.322738</td>\n",
       "      <td>0.042623</td>\n",
       "      <td>121500.0</td>\n",
       "      <td>0.236842</td>\n",
       "      <td>0.179963</td>\n",
       "    </tr>\n",
       "  </tbody>\n",
       "</table>\n",
       "<p>5 rows × 131 columns</p>\n",
       "</div>"
      ],
      "text/plain": [
       "   SK_ID_CURR  TARGET NAME_CONTRACT_TYPE  CODE_GENDER  FLAG_OWN_CAR  \\\n",
       "0      100002     1.0         Cash loans            0             1   \n",
       "1      100003     0.0         Cash loans            1             1   \n",
       "2      100004     0.0    Revolving loans            0             0   \n",
       "3      100006     0.0         Cash loans            1             1   \n",
       "4      100007     0.0         Cash loans            0             1   \n",
       "\n",
       "   FLAG_OWN_REALTY  CNT_CHILDREN  AMT_INCOME_TOTAL  AMT_CREDIT  AMT_ANNUITY  \\\n",
       "0                0             0          202500.0    406597.5      24700.5   \n",
       "1                1             0          270000.0   1293502.5      35698.5   \n",
       "2                0             0           67500.0    135000.0       6750.0   \n",
       "3                0             0          135000.0    312682.5      29686.5   \n",
       "4                0             0          121500.0    513000.0      21865.5   \n",
       "\n",
       "   ...  AMT_REQ_CREDIT_BUREAU_YEAR AMT_CREDIT_DEBT_RATIO CREDIT_DAY_OVERDUE  \\\n",
       "0  ...                         1.0              0.068272                0.0   \n",
       "1  ...                         0.0              0.000000                0.0   \n",
       "2  ...                         0.0              0.000000                0.0   \n",
       "3  ...                         NaN                   NaN                NaN   \n",
       "4  ...                         0.0              0.000000                0.0   \n",
       "\n",
       "  DPD_COUNTS BIRTH_IN_YEARS ALL_EXT_SOURCE_MEAN  PAYMENT_RATE  \\\n",
       "0      3.375      25.920548            0.161787      0.060749   \n",
       "1        NaN      45.931507            0.466757      0.027598   \n",
       "2        NaN      52.180822            0.642739      0.050000   \n",
       "3        NaN      52.068493            0.650442      0.094941   \n",
       "4        NaN      54.608219            0.322738      0.042623   \n",
       "\n",
       "   INCOME_PER_PERSON  INCOME_CREDIT_IN_PERCENTAGE   \\\n",
       "0           202500.0                      0.498036   \n",
       "1           135000.0                      0.208736   \n",
       "2            67500.0                      0.500000   \n",
       "3            67500.0                      0.431748   \n",
       "4           121500.0                      0.236842   \n",
       "\n",
       "   ANNUITY_INCOME_IN_PERCENTAGE  \n",
       "0                      0.121978  \n",
       "1                      0.132217  \n",
       "2                      0.100000  \n",
       "3                      0.219900  \n",
       "4                      0.179963  \n",
       "\n",
       "[5 rows x 131 columns]"
      ]
     },
     "execution_count": 4,
     "metadata": {},
     "output_type": "execute_result"
    }
   ],
   "source": [
    "print('shape:', df.shape)\n",
    "df.head()"
   ]
  },
  {
   "cell_type": "code",
   "execution_count": 5,
   "metadata": {
    "ExecuteTime": {
     "end_time": "2021-05-03T18:02:51.626969Z",
     "start_time": "2021-05-03T18:02:46.564715Z"
    }
   },
   "outputs": [
    {
     "name": "stderr",
     "output_type": "stream",
     "text": [
      "/Users/eyobmanhardt/opt/anaconda3/lib/python3.7/site-packages/pandas/core/frame.py:4174: SettingWithCopyWarning: \n",
      "A value is trying to be set on a copy of a slice from a DataFrame\n",
      "\n",
      "See the caveats in the documentation: https://pandas.pydata.org/pandas-docs/stable/user_guide/indexing.html#returning-a-view-versus-a-copy\n",
      "  errors=errors,\n"
     ]
    },
    {
     "name": "stdout",
     "output_type": "stream",
     "text": [
      "train shape: (307507, 251)\n",
      "test shape: (48744, 248)\n"
     ]
    }
   ],
   "source": [
    "train_df = df.loc[df['TARGET'].notnull(), :]\n",
    "test_df = df.loc[df['TARGET'].isnull(), :]\n",
    "test_df.drop(columns= ['TARGET'], axis=1, inplace=True)\n",
    "\n",
    "train_df_enc = pd.get_dummies(train_df)\n",
    "test_df_enc = pd.get_dummies(test_df)\n",
    "print('train shape:', train_df_enc.shape) \n",
    "print('test shape:', test_df_enc.shape) "
   ]
  },
  {
   "cell_type": "code",
   "execution_count": 6,
   "metadata": {
    "ExecuteTime": {
     "end_time": "2021-05-03T18:02:51.804027Z",
     "start_time": "2021-05-03T18:02:51.677334Z"
    }
   },
   "outputs": [
    {
     "name": "stdout",
     "output_type": "stream",
     "text": [
      "{'NAME_FAMILY_STATUS_Unknown', 'TARGET', 'NAME_INCOME_TYPE_Maternity leave'}\n"
     ]
    }
   ],
   "source": [
    "train_df_enc_cols = set(train_df_enc.columns)\n",
    "test_df_enc_cols = set(test_df_enc.columns)\n",
    "\n",
    "print(train_df_enc_cols.difference(test_df_enc_cols))"
   ]
  },
  {
   "cell_type": "code",
   "execution_count": 7,
   "metadata": {
    "ExecuteTime": {
     "end_time": "2021-05-03T18:02:54.367543Z",
     "start_time": "2021-05-03T18:02:51.872694Z"
    }
   },
   "outputs": [],
   "source": [
    "y = train_df_enc['TARGET']\n",
    "## align dataframes \n",
    "X, X_test = train_df_enc.align(test_df_enc, join='inner', axis=1)"
   ]
  },
  {
   "cell_type": "code",
   "execution_count": 8,
   "metadata": {
    "ExecuteTime": {
     "end_time": "2021-05-03T18:02:54.483745Z",
     "start_time": "2021-05-03T18:02:54.382136Z"
    }
   },
   "outputs": [
    {
     "data": {
      "text/plain": [
       "((307507, 248), (48744, 248), (307507,))"
      ]
     },
     "execution_count": 8,
     "metadata": {},
     "output_type": "execute_result"
    }
   ],
   "source": [
    "X.shape, X_test.shape, y.shape"
   ]
  },
  {
   "cell_type": "code",
   "execution_count": 9,
   "metadata": {
    "ExecuteTime": {
     "end_time": "2021-05-03T18:02:54.574021Z",
     "start_time": "2021-05-03T18:02:54.548822Z"
    }
   },
   "outputs": [],
   "source": [
    "\n",
    "imp = SimpleImputer(missing_values=np.nan, strategy='median')"
   ]
  },
  {
   "cell_type": "code",
   "execution_count": 10,
   "metadata": {
    "ExecuteTime": {
     "end_time": "2021-05-03T18:02:55.881196Z",
     "start_time": "2021-05-03T18:02:54.582200Z"
    }
   },
   "outputs": [],
   "source": [
    "Test_ids = X_test['SK_ID_CURR']\n",
    "X.drop(columns= ['SK_ID_CURR'], inplace=True)\n",
    "X_test.drop(columns= ['SK_ID_CURR'], inplace=True)"
   ]
  },
  {
   "cell_type": "code",
   "execution_count": 11,
   "metadata": {
    "ExecuteTime": {
     "end_time": "2021-05-03T18:02:56.081284Z",
     "start_time": "2021-05-03T18:02:55.890348Z"
    }
   },
   "outputs": [
    {
     "data": {
      "text/html": [
       "<div>\n",
       "<style scoped>\n",
       "    .dataframe tbody tr th:only-of-type {\n",
       "        vertical-align: middle;\n",
       "    }\n",
       "\n",
       "    .dataframe tbody tr th {\n",
       "        vertical-align: top;\n",
       "    }\n",
       "\n",
       "    .dataframe thead th {\n",
       "        text-align: right;\n",
       "    }\n",
       "</style>\n",
       "<table border=\"1\" class=\"dataframe\">\n",
       "  <thead>\n",
       "    <tr style=\"text-align: right;\">\n",
       "      <th></th>\n",
       "      <th>CODE_GENDER</th>\n",
       "      <th>FLAG_OWN_CAR</th>\n",
       "      <th>FLAG_OWN_REALTY</th>\n",
       "      <th>CNT_CHILDREN</th>\n",
       "      <th>AMT_INCOME_TOTAL</th>\n",
       "      <th>AMT_CREDIT</th>\n",
       "      <th>AMT_ANNUITY</th>\n",
       "      <th>AMT_GOODS_PRICE</th>\n",
       "      <th>REGION_POPULATION_RELATIVE</th>\n",
       "      <th>DAYS_BIRTH</th>\n",
       "      <th>...</th>\n",
       "      <th>HOUSETYPE_MODE_terraced house</th>\n",
       "      <th>WALLSMATERIAL_MODE_Block</th>\n",
       "      <th>WALLSMATERIAL_MODE_Mixed</th>\n",
       "      <th>WALLSMATERIAL_MODE_Monolithic</th>\n",
       "      <th>WALLSMATERIAL_MODE_Others</th>\n",
       "      <th>WALLSMATERIAL_MODE_Panel</th>\n",
       "      <th>WALLSMATERIAL_MODE_Stone, brick</th>\n",
       "      <th>WALLSMATERIAL_MODE_Wooden</th>\n",
       "      <th>EMERGENCYSTATE_MODE_No</th>\n",
       "      <th>EMERGENCYSTATE_MODE_Yes</th>\n",
       "    </tr>\n",
       "  </thead>\n",
       "  <tbody>\n",
       "    <tr>\n",
       "      <th>0</th>\n",
       "      <td>0</td>\n",
       "      <td>1</td>\n",
       "      <td>0</td>\n",
       "      <td>0</td>\n",
       "      <td>202500.0</td>\n",
       "      <td>406597.5</td>\n",
       "      <td>24700.5</td>\n",
       "      <td>351000.0</td>\n",
       "      <td>0.018801</td>\n",
       "      <td>-9461</td>\n",
       "      <td>...</td>\n",
       "      <td>0</td>\n",
       "      <td>0</td>\n",
       "      <td>0</td>\n",
       "      <td>0</td>\n",
       "      <td>0</td>\n",
       "      <td>0</td>\n",
       "      <td>1</td>\n",
       "      <td>0</td>\n",
       "      <td>1</td>\n",
       "      <td>0</td>\n",
       "    </tr>\n",
       "    <tr>\n",
       "      <th>1</th>\n",
       "      <td>1</td>\n",
       "      <td>1</td>\n",
       "      <td>1</td>\n",
       "      <td>0</td>\n",
       "      <td>270000.0</td>\n",
       "      <td>1293502.5</td>\n",
       "      <td>35698.5</td>\n",
       "      <td>1129500.0</td>\n",
       "      <td>0.003541</td>\n",
       "      <td>-16765</td>\n",
       "      <td>...</td>\n",
       "      <td>0</td>\n",
       "      <td>1</td>\n",
       "      <td>0</td>\n",
       "      <td>0</td>\n",
       "      <td>0</td>\n",
       "      <td>0</td>\n",
       "      <td>0</td>\n",
       "      <td>0</td>\n",
       "      <td>1</td>\n",
       "      <td>0</td>\n",
       "    </tr>\n",
       "    <tr>\n",
       "      <th>2</th>\n",
       "      <td>0</td>\n",
       "      <td>0</td>\n",
       "      <td>0</td>\n",
       "      <td>0</td>\n",
       "      <td>67500.0</td>\n",
       "      <td>135000.0</td>\n",
       "      <td>6750.0</td>\n",
       "      <td>135000.0</td>\n",
       "      <td>0.010032</td>\n",
       "      <td>-19046</td>\n",
       "      <td>...</td>\n",
       "      <td>0</td>\n",
       "      <td>0</td>\n",
       "      <td>0</td>\n",
       "      <td>0</td>\n",
       "      <td>0</td>\n",
       "      <td>0</td>\n",
       "      <td>0</td>\n",
       "      <td>0</td>\n",
       "      <td>0</td>\n",
       "      <td>0</td>\n",
       "    </tr>\n",
       "    <tr>\n",
       "      <th>3</th>\n",
       "      <td>1</td>\n",
       "      <td>1</td>\n",
       "      <td>0</td>\n",
       "      <td>0</td>\n",
       "      <td>135000.0</td>\n",
       "      <td>312682.5</td>\n",
       "      <td>29686.5</td>\n",
       "      <td>297000.0</td>\n",
       "      <td>0.008019</td>\n",
       "      <td>-19005</td>\n",
       "      <td>...</td>\n",
       "      <td>0</td>\n",
       "      <td>0</td>\n",
       "      <td>0</td>\n",
       "      <td>0</td>\n",
       "      <td>0</td>\n",
       "      <td>0</td>\n",
       "      <td>0</td>\n",
       "      <td>0</td>\n",
       "      <td>0</td>\n",
       "      <td>0</td>\n",
       "    </tr>\n",
       "    <tr>\n",
       "      <th>4</th>\n",
       "      <td>0</td>\n",
       "      <td>1</td>\n",
       "      <td>0</td>\n",
       "      <td>0</td>\n",
       "      <td>121500.0</td>\n",
       "      <td>513000.0</td>\n",
       "      <td>21865.5</td>\n",
       "      <td>513000.0</td>\n",
       "      <td>0.028663</td>\n",
       "      <td>-19932</td>\n",
       "      <td>...</td>\n",
       "      <td>0</td>\n",
       "      <td>0</td>\n",
       "      <td>0</td>\n",
       "      <td>0</td>\n",
       "      <td>0</td>\n",
       "      <td>0</td>\n",
       "      <td>0</td>\n",
       "      <td>0</td>\n",
       "      <td>0</td>\n",
       "      <td>0</td>\n",
       "    </tr>\n",
       "  </tbody>\n",
       "</table>\n",
       "<p>5 rows × 247 columns</p>\n",
       "</div>"
      ],
      "text/plain": [
       "   CODE_GENDER  FLAG_OWN_CAR  FLAG_OWN_REALTY  CNT_CHILDREN  AMT_INCOME_TOTAL  \\\n",
       "0            0             1                0             0          202500.0   \n",
       "1            1             1                1             0          270000.0   \n",
       "2            0             0                0             0           67500.0   \n",
       "3            1             1                0             0          135000.0   \n",
       "4            0             1                0             0          121500.0   \n",
       "\n",
       "   AMT_CREDIT  AMT_ANNUITY  AMT_GOODS_PRICE  REGION_POPULATION_RELATIVE  \\\n",
       "0    406597.5      24700.5         351000.0                    0.018801   \n",
       "1   1293502.5      35698.5        1129500.0                    0.003541   \n",
       "2    135000.0       6750.0         135000.0                    0.010032   \n",
       "3    312682.5      29686.5         297000.0                    0.008019   \n",
       "4    513000.0      21865.5         513000.0                    0.028663   \n",
       "\n",
       "   DAYS_BIRTH  ...  HOUSETYPE_MODE_terraced house  WALLSMATERIAL_MODE_Block  \\\n",
       "0       -9461  ...                              0                         0   \n",
       "1      -16765  ...                              0                         1   \n",
       "2      -19046  ...                              0                         0   \n",
       "3      -19005  ...                              0                         0   \n",
       "4      -19932  ...                              0                         0   \n",
       "\n",
       "   WALLSMATERIAL_MODE_Mixed  WALLSMATERIAL_MODE_Monolithic  \\\n",
       "0                         0                              0   \n",
       "1                         0                              0   \n",
       "2                         0                              0   \n",
       "3                         0                              0   \n",
       "4                         0                              0   \n",
       "\n",
       "   WALLSMATERIAL_MODE_Others  WALLSMATERIAL_MODE_Panel  \\\n",
       "0                          0                         0   \n",
       "1                          0                         0   \n",
       "2                          0                         0   \n",
       "3                          0                         0   \n",
       "4                          0                         0   \n",
       "\n",
       "   WALLSMATERIAL_MODE_Stone, brick  WALLSMATERIAL_MODE_Wooden  \\\n",
       "0                                1                          0   \n",
       "1                                0                          0   \n",
       "2                                0                          0   \n",
       "3                                0                          0   \n",
       "4                                0                          0   \n",
       "\n",
       "   EMERGENCYSTATE_MODE_No  EMERGENCYSTATE_MODE_Yes  \n",
       "0                       1                        0  \n",
       "1                       1                        0  \n",
       "2                       0                        0  \n",
       "3                       0                        0  \n",
       "4                       0                        0  \n",
       "\n",
       "[5 rows x 247 columns]"
      ]
     },
     "execution_count": 11,
     "metadata": {},
     "output_type": "execute_result"
    }
   ],
   "source": [
    "X.head()"
   ]
  },
  {
   "cell_type": "code",
   "execution_count": 12,
   "metadata": {
    "ExecuteTime": {
     "end_time": "2021-05-03T18:02:58.062642Z",
     "start_time": "2021-05-03T18:02:56.091829Z"
    }
   },
   "outputs": [],
   "source": [
    "## fix the inf problem \n",
    "X['AMT_CREDIT_DEBT_RATIO'] = X['AMT_CREDIT_DEBT_RATIO'].apply(lambda x: x if ~np.isinf(x) else 0)\n",
    "X_test['AMT_CREDIT_DEBT_RATIO'] = X_test['AMT_CREDIT_DEBT_RATIO'].apply(lambda x: x if ~np.isinf(x) else 0)"
   ]
  },
  {
   "cell_type": "code",
   "execution_count": 13,
   "metadata": {
    "ExecuteTime": {
     "end_time": "2021-05-03T18:03:33.593511Z",
     "start_time": "2021-05-03T18:02:58.115293Z"
    }
   },
   "outputs": [],
   "source": [
    "## impute missing values by its median \n",
    "imp.fit(X)\n",
    "X = imp.transform(X)\n",
    "X_test = imp.fit_transform(X_test)"
   ]
  },
  {
   "cell_type": "markdown",
   "metadata": {},
   "source": [
    "# Baseline: No sampling\n",
    "- expecting model to overfit "
   ]
  },
  {
   "cell_type": "code",
   "execution_count": 14,
   "metadata": {
    "ExecuteTime": {
     "end_time": "2021-05-03T18:08:31.688698Z",
     "start_time": "2021-05-03T18:03:33.716834Z"
    }
   },
   "outputs": [
    {
     "name": "stdout",
     "output_type": "stream",
     "text": [
      "classifaction report on training set\n",
      "              precision    recall  f1-score   support\n",
      "\n",
      "           0       1.00      1.00      1.00    226145\n",
      "           1       1.00      1.00      1.00     19860\n",
      "\n",
      "    accuracy                           1.00    246005\n",
      "   macro avg       1.00      1.00      1.00    246005\n",
      "weighted avg       1.00      1.00      1.00    246005\n",
      "\n",
      "--------------------------------------------------------------\n",
      "classifaction report on validation set\n",
      "              precision    recall  f1-score   support\n",
      "\n",
      "           0       0.92      1.00      0.96     56537\n",
      "           1       0.76      0.00      0.01      4965\n",
      "\n",
      "    accuracy                           0.92     61502\n",
      "   macro avg       0.84      0.50      0.48     61502\n",
      "weighted avg       0.91      0.92      0.88     61502\n",
      "\n"
     ]
    }
   ],
   "source": [
    "X_train, X_val, y_train, y_val = train_test_split(X, y, test_size=0.2, random_state= 42, stratify=y)\n",
    "rf = RandomForestClassifier(random_state=42, n_jobs=-1)\n",
    "rf.fit(X_train, y_train)\n",
    "y_pred_train = rf.predict(X_train)\n",
    "y_pred_val = rf.predict(X_val)\n",
    "print('classifaction report on training set')\n",
    "print(classification_report(y_train, y_pred_train, labels=[0,1]))\n",
    "print('--------------------------------------------------------------')\n",
    "print('classifaction report on validation set')\n",
    "print(classification_report(y_val, y_pred_val, labels=[0,1]))"
   ]
  },
  {
   "cell_type": "markdown",
   "metadata": {},
   "source": [
    "We know the model above is garbage - since the the the dummy classifier (i.e i==0) will score 96% accuracy; therefore the notion accuracy in this sense is meaningless. Our objective is to increase the f1-score for both classes. Ideally we want the f1-score for both classes to be close to 1 then we can use the accuracy score evaluate the performance of the model. We're going to attempt different sampling techniques to achieve our goal. "
   ]
  },
  {
   "cell_type": "markdown",
   "metadata": {},
   "source": [
    "# Sampling methods"
   ]
  },
  {
   "cell_type": "code",
   "execution_count": 15,
   "metadata": {
    "ExecuteTime": {
     "end_time": "2021-05-03T18:08:43.619431Z",
     "start_time": "2021-05-03T18:08:31.817020Z"
    }
   },
   "outputs": [],
   "source": [
    "# create another df for sampling \n",
    "diff = train_df_enc_cols.difference(test_df_enc_cols)\n",
    "cols = [c for c in train_df_enc.columns if c not in diff]\n",
    "\n",
    "df_prime = pd.DataFrame(X, columns = cols[1:])\n",
    "# add target\n",
    "df_prime['TARGET'] = y\n",
    "\n",
    "# separate classes\n",
    "df_class0 = df_prime.loc[df_prime['TARGET']==0, :]\n",
    "df_class1 = df_prime.loc[df_prime['TARGET']==1, :]\n"
   ]
  },
  {
   "cell_type": "markdown",
   "metadata": {},
   "source": [
    "## down-sampling"
   ]
  },
  {
   "cell_type": "code",
   "execution_count": 16,
   "metadata": {
    "ExecuteTime": {
     "end_time": "2021-05-03T18:08:46.070654Z",
     "start_time": "2021-05-03T18:08:43.631818Z"
    }
   },
   "outputs": [
    {
     "name": "stdout",
     "output_type": "stream",
     "text": [
      "Before sampling\n",
      "(282682, 248) (24825, 248)\n",
      "After sampling\n",
      "(24825, 248) (24825, 248)\n",
      "new df shape: (49650, 248)\n"
     ]
    }
   ],
   "source": [
    "print('Before sampling')\n",
    "print(df_class0.shape, df_class1.shape)\n",
    "\n",
    "df_class0_down_sample = df_class0.sample(df_class1.shape[0])\n",
    "\n",
    "print('After sampling')\n",
    "print(df_class0_down_sample.shape, df_class1.shape)\n",
    "\n",
    "# concat the two classes (down sample)\n",
    "df_ds = pd.concat([df_class0_down_sample, df_class1], axis = 0)\n",
    "print('new df shape:', df_ds.shape)"
   ]
  },
  {
   "cell_type": "code",
   "execution_count": 17,
   "metadata": {
    "ExecuteTime": {
     "end_time": "2021-05-03T18:08:46.259517Z",
     "start_time": "2021-05-03T18:08:46.159056Z"
    }
   },
   "outputs": [
    {
     "data": {
      "text/plain": [
       "1.0    24825\n",
       "0.0    24825\n",
       "Name: TARGET, dtype: int64"
      ]
     },
     "execution_count": 17,
     "metadata": {},
     "output_type": "execute_result"
    }
   ],
   "source": [
    "df_ds.TARGET.value_counts()"
   ]
  },
  {
   "cell_type": "code",
   "execution_count": 18,
   "metadata": {
    "ExecuteTime": {
     "end_time": "2021-05-03T18:08:47.391325Z",
     "start_time": "2021-05-03T18:08:46.357038Z"
    }
   },
   "outputs": [],
   "source": [
    "X = df_ds.drop(columns = ['TARGET'], axis=1)\n",
    "y = df_ds['TARGET']\n",
    "\n",
    "X_train, X_val, y_train, y_val = train_test_split(X, y, test_size=0.2, random_state= 42, stratify=y)"
   ]
  },
  {
   "cell_type": "markdown",
   "metadata": {},
   "source": [
    "### random forest"
   ]
  },
  {
   "cell_type": "code",
   "execution_count": 19,
   "metadata": {
    "ExecuteTime": {
     "end_time": "2021-05-03T18:09:17.725114Z",
     "start_time": "2021-05-03T18:08:47.398610Z"
    }
   },
   "outputs": [
    {
     "name": "stdout",
     "output_type": "stream",
     "text": [
      "classifaction report on training set\n",
      "              precision    recall  f1-score   support\n",
      "\n",
      "           0       1.00      1.00      1.00     19860\n",
      "           1       1.00      1.00      1.00     19860\n",
      "\n",
      "    accuracy                           1.00     39720\n",
      "   macro avg       1.00      1.00      1.00     39720\n",
      "weighted avg       1.00      1.00      1.00     39720\n",
      "\n",
      "--------------------------------------------------------------\n",
      "classifaction report on validation set\n",
      "              precision    recall  f1-score   support\n",
      "\n",
      "           0       0.68      0.69      0.69      4965\n",
      "           1       0.69      0.68      0.68      4965\n",
      "\n",
      "    accuracy                           0.68      9930\n",
      "   macro avg       0.68      0.68      0.68      9930\n",
      "weighted avg       0.68      0.68      0.68      9930\n",
      "\n"
     ]
    }
   ],
   "source": [
    "rf = RandomForestClassifier(random_state=42, n_jobs=-1)\n",
    "rf.fit(X_train, y_train)\n",
    "y_pred_train = rf.predict(X_train)\n",
    "y_pred_val = rf.predict(X_val)\n",
    "print('classifaction report on training set')\n",
    "print(classification_report(y_train, y_pred_train, labels=[0,1]))\n",
    "print('--------------------------------------------------------------')\n",
    "print('classifaction report on validation set')\n",
    "print(classification_report(y_val, y_pred_val, labels=[0,1]))"
   ]
  },
  {
   "cell_type": "code",
   "execution_count": 20,
   "metadata": {
    "ExecuteTime": {
     "end_time": "2021-05-03T18:09:17.922012Z",
     "start_time": "2021-05-03T18:09:17.765709Z"
    }
   },
   "outputs": [
    {
     "data": {
      "text/plain": [
       "(247,)"
      ]
     },
     "execution_count": 20,
     "metadata": {},
     "output_type": "execute_result"
    }
   ],
   "source": [
    "rf.feature_importances_.shape"
   ]
  },
  {
   "cell_type": "code",
   "execution_count": 21,
   "metadata": {
    "ExecuteTime": {
     "end_time": "2021-05-03T18:09:18.664950Z",
     "start_time": "2021-05-03T18:09:17.929651Z"
    }
   },
   "outputs": [
    {
     "data": {
      "text/html": [
       "<div>\n",
       "<style scoped>\n",
       "    .dataframe tbody tr th:only-of-type {\n",
       "        vertical-align: middle;\n",
       "    }\n",
       "\n",
       "    .dataframe tbody tr th {\n",
       "        vertical-align: top;\n",
       "    }\n",
       "\n",
       "    .dataframe thead th {\n",
       "        text-align: right;\n",
       "    }\n",
       "</style>\n",
       "<table border=\"1\" class=\"dataframe\">\n",
       "  <thead>\n",
       "    <tr style=\"text-align: right;\">\n",
       "      <th></th>\n",
       "      <th>feature</th>\n",
       "      <th>importance</th>\n",
       "    </tr>\n",
       "  </thead>\n",
       "  <tbody>\n",
       "    <tr>\n",
       "      <th>111</th>\n",
       "      <td>ALL_EXT_SOURCE_MEAN</td>\n",
       "      <td>0.062996</td>\n",
       "    </tr>\n",
       "    <tr>\n",
       "      <th>31</th>\n",
       "      <td>EXT_SOURCE_2</td>\n",
       "      <td>0.045729</td>\n",
       "    </tr>\n",
       "    <tr>\n",
       "      <th>32</th>\n",
       "      <td>EXT_SOURCE_3</td>\n",
       "      <td>0.042126</td>\n",
       "    </tr>\n",
       "    <tr>\n",
       "      <th>107</th>\n",
       "      <td>AMT_CREDIT_DEBT_RATIO</td>\n",
       "      <td>0.026097</td>\n",
       "    </tr>\n",
       "    <tr>\n",
       "      <th>112</th>\n",
       "      <td>PAYMENT_RATE</td>\n",
       "      <td>0.026005</td>\n",
       "    </tr>\n",
       "    <tr>\n",
       "      <th>10</th>\n",
       "      <td>DAYS_EMPLOYED</td>\n",
       "      <td>0.025586</td>\n",
       "    </tr>\n",
       "    <tr>\n",
       "      <th>9</th>\n",
       "      <td>DAYS_BIRTH</td>\n",
       "      <td>0.024729</td>\n",
       "    </tr>\n",
       "    <tr>\n",
       "      <th>110</th>\n",
       "      <td>BIRTH_IN_YEARS</td>\n",
       "      <td>0.024138</td>\n",
       "    </tr>\n",
       "    <tr>\n",
       "      <th>12</th>\n",
       "      <td>DAYS_ID_PUBLISH</td>\n",
       "      <td>0.024074</td>\n",
       "    </tr>\n",
       "    <tr>\n",
       "      <th>11</th>\n",
       "      <td>DAYS_REGISTRATION</td>\n",
       "      <td>0.023583</td>\n",
       "    </tr>\n",
       "  </tbody>\n",
       "</table>\n",
       "</div>"
      ],
      "text/plain": [
       "                   feature  importance\n",
       "111    ALL_EXT_SOURCE_MEAN    0.062996\n",
       "31            EXT_SOURCE_2    0.045729\n",
       "32            EXT_SOURCE_3    0.042126\n",
       "107  AMT_CREDIT_DEBT_RATIO    0.026097\n",
       "112           PAYMENT_RATE    0.026005\n",
       "10           DAYS_EMPLOYED    0.025586\n",
       "9               DAYS_BIRTH    0.024729\n",
       "110         BIRTH_IN_YEARS    0.024138\n",
       "12         DAYS_ID_PUBLISH    0.024074\n",
       "11       DAYS_REGISTRATION    0.023583"
      ]
     },
     "execution_count": 21,
     "metadata": {},
     "output_type": "execute_result"
    }
   ],
   "source": [
    "features = cols[1:]\n",
    "fm = {'feature': features,\n",
    "    'importance': rf.feature_importances_}\n",
    "feature_importance = pd.DataFrame(fm)\n",
    "feature_importance.sort_values(by='importance', ascending=False).head(10)"
   ]
  },
  {
   "cell_type": "markdown",
   "metadata": {},
   "source": [
    "### logistic regression"
   ]
  },
  {
   "cell_type": "code",
   "execution_count": 22,
   "metadata": {
    "ExecuteTime": {
     "end_time": "2021-05-03T18:09:38.186598Z",
     "start_time": "2021-05-03T18:09:18.671157Z"
    }
   },
   "outputs": [
    {
     "name": "stdout",
     "output_type": "stream",
     "text": [
      "classifaction report on training set\n",
      "              precision    recall  f1-score   support\n",
      "\n",
      "           0       0.68      0.68      0.68     19860\n",
      "           1       0.68      0.68      0.68     19860\n",
      "\n",
      "    accuracy                           0.68     39720\n",
      "   macro avg       0.68      0.68      0.68     39720\n",
      "weighted avg       0.68      0.68      0.68     39720\n",
      "\n",
      "--------------------------------------------------------------\n",
      "classifaction report on validation set\n",
      "              precision    recall  f1-score   support\n",
      "\n",
      "           0       0.69      0.68      0.68      4965\n",
      "           1       0.68      0.69      0.69      4965\n",
      "\n",
      "    accuracy                           0.69      9930\n",
      "   macro avg       0.69      0.69      0.69      9930\n",
      "weighted avg       0.69      0.69      0.69      9930\n",
      "\n"
     ]
    }
   ],
   "source": [
    "## logistic regression\n",
    "scaler = StandardScaler()\n",
    "scaler.fit(X)\n",
    "scaler.transform(X)\n",
    "X_std = scaler.transform(X)\n",
    "X_test_std = scaler.fit_transform(X_test)\n",
    "\n",
    "X_train, X_val, y_train, y_val = train_test_split(X_std, y, test_size=0.2, random_state= 42, stratify=y)\n",
    "logreg = LogisticRegression(solver='lbfgs', max_iter =1000, random_state=42)\n",
    "logreg.fit(X_train, y_train)\n",
    "\n",
    "y_pred_train = logreg.predict(X_train)\n",
    "y_pred_val = logreg.predict(X_val)\n",
    "print('classifaction report on training set')\n",
    "print(classification_report(y_train, y_pred_train, labels=[0,1]))\n",
    "print('--------------------------------------------------------------')\n",
    "print('classifaction report on validation set')\n",
    "print(classification_report(y_val, y_pred_val, labels=[0,1]))"
   ]
  },
  {
   "cell_type": "code",
   "execution_count": 23,
   "metadata": {
    "ExecuteTime": {
     "end_time": "2021-05-03T18:09:38.414279Z",
     "start_time": "2021-05-03T18:09:38.353895Z"
    }
   },
   "outputs": [
    {
     "data": {
      "text/plain": [
       "(1, 247)"
      ]
     },
     "execution_count": 23,
     "metadata": {},
     "output_type": "execute_result"
    }
   ],
   "source": [
    "logreg.coef_.shape"
   ]
  },
  {
   "cell_type": "code",
   "execution_count": 24,
   "metadata": {
    "ExecuteTime": {
     "end_time": "2021-05-03T18:09:38.553330Z",
     "start_time": "2021-05-03T18:09:38.420921Z"
    },
    "scrolled": true
   },
   "outputs": [
    {
     "data": {
      "text/html": [
       "<div>\n",
       "<style scoped>\n",
       "    .dataframe tbody tr th:only-of-type {\n",
       "        vertical-align: middle;\n",
       "    }\n",
       "\n",
       "    .dataframe tbody tr th {\n",
       "        vertical-align: top;\n",
       "    }\n",
       "\n",
       "    .dataframe thead th {\n",
       "        text-align: right;\n",
       "    }\n",
       "</style>\n",
       "<table border=\"1\" class=\"dataframe\">\n",
       "  <thead>\n",
       "    <tr style=\"text-align: right;\">\n",
       "      <th></th>\n",
       "      <th>feature</th>\n",
       "      <th>importance</th>\n",
       "    </tr>\n",
       "  </thead>\n",
       "  <tbody>\n",
       "    <tr>\n",
       "      <th>5</th>\n",
       "      <td>AMT_CREDIT</td>\n",
       "      <td>0.591735</td>\n",
       "    </tr>\n",
       "    <tr>\n",
       "      <th>37</th>\n",
       "      <td>COMMONAREA_AVG</td>\n",
       "      <td>0.444095</td>\n",
       "    </tr>\n",
       "    <tr>\n",
       "      <th>62</th>\n",
       "      <td>BASEMENTAREA_MEDI</td>\n",
       "      <td>0.386023</td>\n",
       "    </tr>\n",
       "    <tr>\n",
       "      <th>43</th>\n",
       "      <td>LIVINGAPARTMENTS_AVG</td>\n",
       "      <td>0.331523</td>\n",
       "    </tr>\n",
       "    <tr>\n",
       "      <th>59</th>\n",
       "      <td>NONLIVINGAPARTMENTS_MODE</td>\n",
       "      <td>0.247886</td>\n",
       "    </tr>\n",
       "    <tr>\n",
       "      <th>4</th>\n",
       "      <td>AMT_INCOME_TOTAL</td>\n",
       "      <td>0.240527</td>\n",
       "    </tr>\n",
       "    <tr>\n",
       "      <th>35</th>\n",
       "      <td>YEARS_BEGINEXPLUATATION_AVG</td>\n",
       "      <td>0.220793</td>\n",
       "    </tr>\n",
       "    <tr>\n",
       "      <th>6</th>\n",
       "      <td>AMT_ANNUITY</td>\n",
       "      <td>0.207400</td>\n",
       "    </tr>\n",
       "    <tr>\n",
       "      <th>76</th>\n",
       "      <td>OBS_30_CNT_SOCIAL_CIRCLE</td>\n",
       "      <td>0.205845</td>\n",
       "    </tr>\n",
       "    <tr>\n",
       "      <th>44</th>\n",
       "      <td>LIVINGAREA_AVG</td>\n",
       "      <td>0.193959</td>\n",
       "    </tr>\n",
       "    <tr>\n",
       "      <th>36</th>\n",
       "      <td>YEARS_BUILD_AVG</td>\n",
       "      <td>0.182830</td>\n",
       "    </tr>\n",
       "    <tr>\n",
       "      <th>39</th>\n",
       "      <td>ENTRANCES_AVG</td>\n",
       "      <td>0.161920</td>\n",
       "    </tr>\n",
       "    <tr>\n",
       "      <th>82</th>\n",
       "      <td>FLAG_DOCUMENT_3</td>\n",
       "      <td>0.151081</td>\n",
       "    </tr>\n",
       "    <tr>\n",
       "      <th>48</th>\n",
       "      <td>BASEMENTAREA_MODE</td>\n",
       "      <td>0.142404</td>\n",
       "    </tr>\n",
       "    <tr>\n",
       "      <th>1</th>\n",
       "      <td>FLAG_OWN_CAR</td>\n",
       "      <td>0.138285</td>\n",
       "    </tr>\n",
       "    <tr>\n",
       "      <th>68</th>\n",
       "      <td>FLOORSMAX_MEDI</td>\n",
       "      <td>0.137943</td>\n",
       "    </tr>\n",
       "    <tr>\n",
       "      <th>51</th>\n",
       "      <td>COMMONAREA_MODE</td>\n",
       "      <td>0.130902</td>\n",
       "    </tr>\n",
       "    <tr>\n",
       "      <th>70</th>\n",
       "      <td>LANDAREA_MEDI</td>\n",
       "      <td>0.111137</td>\n",
       "    </tr>\n",
       "    <tr>\n",
       "      <th>69</th>\n",
       "      <td>FLOORSMIN_MEDI</td>\n",
       "      <td>0.098818</td>\n",
       "    </tr>\n",
       "    <tr>\n",
       "      <th>22</th>\n",
       "      <td>REGION_RATING_CLIENT_W_CITY</td>\n",
       "      <td>0.096303</td>\n",
       "    </tr>\n",
       "  </tbody>\n",
       "</table>\n",
       "</div>"
      ],
      "text/plain": [
       "                        feature  importance\n",
       "5                    AMT_CREDIT    0.591735\n",
       "37               COMMONAREA_AVG    0.444095\n",
       "62            BASEMENTAREA_MEDI    0.386023\n",
       "43         LIVINGAPARTMENTS_AVG    0.331523\n",
       "59     NONLIVINGAPARTMENTS_MODE    0.247886\n",
       "4              AMT_INCOME_TOTAL    0.240527\n",
       "35  YEARS_BEGINEXPLUATATION_AVG    0.220793\n",
       "6                   AMT_ANNUITY    0.207400\n",
       "76     OBS_30_CNT_SOCIAL_CIRCLE    0.205845\n",
       "44               LIVINGAREA_AVG    0.193959\n",
       "36              YEARS_BUILD_AVG    0.182830\n",
       "39                ENTRANCES_AVG    0.161920\n",
       "82              FLAG_DOCUMENT_3    0.151081\n",
       "48            BASEMENTAREA_MODE    0.142404\n",
       "1                  FLAG_OWN_CAR    0.138285\n",
       "68               FLOORSMAX_MEDI    0.137943\n",
       "51              COMMONAREA_MODE    0.130902\n",
       "70                LANDAREA_MEDI    0.111137\n",
       "69               FLOORSMIN_MEDI    0.098818\n",
       "22  REGION_RATING_CLIENT_W_CITY    0.096303"
      ]
     },
     "execution_count": 24,
     "metadata": {},
     "output_type": "execute_result"
    }
   ],
   "source": [
    "#importance = model.coef_\n",
    "features = cols[1:]\n",
    "fm = {'feature': features,\n",
    "    'importance':  logreg.coef_.reshape((247,))}\n",
    "feature_importance = pd.DataFrame(fm)\n",
    "feature_importance.sort_values(by='importance', ascending=False).head(20)"
   ]
  },
  {
   "cell_type": "markdown",
   "metadata": {},
   "source": [
    "## up-sampling "
   ]
  },
  {
   "cell_type": "code",
   "execution_count": 25,
   "metadata": {
    "ExecuteTime": {
     "end_time": "2021-05-03T18:09:50.031606Z",
     "start_time": "2021-05-03T18:09:38.570328Z"
    },
    "scrolled": true
   },
   "outputs": [
    {
     "name": "stdout",
     "output_type": "stream",
     "text": [
      "Before sampling\n",
      "(282682, 248) (24825, 248)\n",
      "After sampling\n",
      "(282682, 248) (282682, 248)\n",
      "new df shape: (565364, 248)\n"
     ]
    }
   ],
   "source": [
    "print('Before sampling')\n",
    "print(df_class0.shape, df_class1.shape)\n",
    "\n",
    "df_class1_up_sample = df_class1.sample(df_class0.shape[0], replace=True)\n",
    "\n",
    "print('After sampling')\n",
    "print(df_class0.shape, df_class1_up_sample.shape)\n",
    "\n",
    "# concat the two classes (down sample)\n",
    "df_us = pd.concat([df_class0, df_class1_up_sample], axis = 0)\n",
    "print('new df shape:', df_us.shape)"
   ]
  },
  {
   "cell_type": "code",
   "execution_count": 26,
   "metadata": {
    "ExecuteTime": {
     "end_time": "2021-05-03T18:09:50.208581Z",
     "start_time": "2021-05-03T18:09:50.145305Z"
    },
    "scrolled": false
   },
   "outputs": [
    {
     "data": {
      "text/plain": [
       "1.0    282682\n",
       "0.0    282682\n",
       "Name: TARGET, dtype: int64"
      ]
     },
     "execution_count": 26,
     "metadata": {},
     "output_type": "execute_result"
    }
   ],
   "source": [
    "df_us.TARGET.value_counts()"
   ]
  },
  {
   "cell_type": "code",
   "execution_count": 27,
   "metadata": {
    "ExecuteTime": {
     "end_time": "2021-05-03T18:10:13.076120Z",
     "start_time": "2021-05-03T18:09:50.217646Z"
    }
   },
   "outputs": [],
   "source": [
    "X = df_us.drop(columns = ['TARGET'], axis=1)\n",
    "y = df_us['TARGET']\n",
    "\n",
    "X_train, X_val, y_train, y_val = train_test_split(X, y, test_size=0.2, random_state= 42, stratify=y)"
   ]
  },
  {
   "cell_type": "markdown",
   "metadata": {},
   "source": [
    "### random forest"
   ]
  },
  {
   "cell_type": "code",
   "execution_count": 28,
   "metadata": {
    "ExecuteTime": {
     "end_time": "2021-05-03T18:13:25.910221Z",
     "start_time": "2021-05-03T18:10:13.194373Z"
    }
   },
   "outputs": [
    {
     "name": "stdout",
     "output_type": "stream",
     "text": [
      "classifaction report on training set\n",
      "              precision    recall  f1-score   support\n",
      "\n",
      "           0       1.00      1.00      1.00    226145\n",
      "           1       1.00      1.00      1.00    226146\n",
      "\n",
      "    accuracy                           1.00    452291\n",
      "   macro avg       1.00      1.00      1.00    452291\n",
      "weighted avg       1.00      1.00      1.00    452291\n",
      "\n",
      "--------------------------------------------------------------\n",
      "classifaction report on validation set\n",
      "              precision    recall  f1-score   support\n",
      "\n",
      "           0       1.00      0.99      1.00     56537\n",
      "           1       0.99      1.00      1.00     56536\n",
      "\n",
      "    accuracy                           1.00    113073\n",
      "   macro avg       1.00      1.00      1.00    113073\n",
      "weighted avg       1.00      1.00      1.00    113073\n",
      "\n"
     ]
    }
   ],
   "source": [
    "rf = RandomForestClassifier(random_state=42, n_jobs=-1)\n",
    "rf.fit(X_train, y_train)\n",
    "y_pred_train = rf.predict(X_train)\n",
    "y_pred_val = rf.predict(X_val)\n",
    "print('classifaction report on training set')\n",
    "print(classification_report(y_train, y_pred_train, labels=[0,1]))\n",
    "print('--------------------------------------------------------------')\n",
    "print('classifaction report on validation set')\n",
    "print(classification_report(y_val, y_pred_val, labels=[0,1]))"
   ]
  },
  {
   "cell_type": "markdown",
   "metadata": {},
   "source": [
    "This doesn't look good ... over-fitting "
   ]
  },
  {
   "cell_type": "code",
   "execution_count": 30,
   "metadata": {
    "ExecuteTime": {
     "end_time": "2021-05-03T18:14:06.358560Z",
     "start_time": "2021-05-03T18:14:04.829534Z"
    }
   },
   "outputs": [
    {
     "data": {
      "text/html": [
       "<div>\n",
       "<style scoped>\n",
       "    .dataframe tbody tr th:only-of-type {\n",
       "        vertical-align: middle;\n",
       "    }\n",
       "\n",
       "    .dataframe tbody tr th {\n",
       "        vertical-align: top;\n",
       "    }\n",
       "\n",
       "    .dataframe thead th {\n",
       "        text-align: right;\n",
       "    }\n",
       "</style>\n",
       "<table border=\"1\" class=\"dataframe\">\n",
       "  <thead>\n",
       "    <tr style=\"text-align: right;\">\n",
       "      <th></th>\n",
       "      <th>SK_ID_CURR</th>\n",
       "      <th>TARGET</th>\n",
       "    </tr>\n",
       "  </thead>\n",
       "  <tbody>\n",
       "    <tr>\n",
       "      <th>307507</th>\n",
       "      <td>100001</td>\n",
       "      <td>0.06</td>\n",
       "    </tr>\n",
       "    <tr>\n",
       "      <th>307508</th>\n",
       "      <td>100005</td>\n",
       "      <td>0.15</td>\n",
       "    </tr>\n",
       "    <tr>\n",
       "      <th>307509</th>\n",
       "      <td>100013</td>\n",
       "      <td>0.05</td>\n",
       "    </tr>\n",
       "    <tr>\n",
       "      <th>307510</th>\n",
       "      <td>100028</td>\n",
       "      <td>0.10</td>\n",
       "    </tr>\n",
       "    <tr>\n",
       "      <th>307511</th>\n",
       "      <td>100038</td>\n",
       "      <td>0.27</td>\n",
       "    </tr>\n",
       "  </tbody>\n",
       "</table>\n",
       "</div>"
      ],
      "text/plain": [
       "        SK_ID_CURR  TARGET\n",
       "307507      100001    0.06\n",
       "307508      100005    0.15\n",
       "307509      100013    0.05\n",
       "307510      100028    0.10\n",
       "307511      100038    0.27"
      ]
     },
     "execution_count": 30,
     "metadata": {},
     "output_type": "execute_result"
    }
   ],
   "source": [
    "rf_test_pred = rf.predict_proba(X_test)[:,1]\n",
    "\n",
    "submission3_dict = {'SK_ID_CURR': Test_ids, \n",
    "            'TARGET': rf_test_pred }\n",
    "rf_submission3 = pd.DataFrame(submission3_dict)\n",
    "rf_submission3.head()"
   ]
  },
  {
   "cell_type": "code",
   "execution_count": 31,
   "metadata": {
    "ExecuteTime": {
     "end_time": "2021-05-03T18:14:28.888878Z",
     "start_time": "2021-05-03T18:14:28.884384Z"
    }
   },
   "outputs": [],
   "source": [
    "#rf_submission3.to_csv('submission3.csv', index=False) ## 73% accuracy"
   ]
  },
  {
   "cell_type": "code",
   "execution_count": 32,
   "metadata": {
    "ExecuteTime": {
     "end_time": "2021-05-03T18:15:12.239670Z",
     "start_time": "2021-05-03T18:15:12.112988Z"
    }
   },
   "outputs": [
    {
     "data": {
      "text/html": [
       "<div>\n",
       "<style scoped>\n",
       "    .dataframe tbody tr th:only-of-type {\n",
       "        vertical-align: middle;\n",
       "    }\n",
       "\n",
       "    .dataframe tbody tr th {\n",
       "        vertical-align: top;\n",
       "    }\n",
       "\n",
       "    .dataframe thead th {\n",
       "        text-align: right;\n",
       "    }\n",
       "</style>\n",
       "<table border=\"1\" class=\"dataframe\">\n",
       "  <thead>\n",
       "    <tr style=\"text-align: right;\">\n",
       "      <th></th>\n",
       "      <th>feature</th>\n",
       "      <th>importance</th>\n",
       "    </tr>\n",
       "  </thead>\n",
       "  <tbody>\n",
       "    <tr>\n",
       "      <th>111</th>\n",
       "      <td>ALL_EXT_SOURCE_MEAN</td>\n",
       "      <td>0.069198</td>\n",
       "    </tr>\n",
       "    <tr>\n",
       "      <th>31</th>\n",
       "      <td>EXT_SOURCE_2</td>\n",
       "      <td>0.045948</td>\n",
       "    </tr>\n",
       "    <tr>\n",
       "      <th>32</th>\n",
       "      <td>EXT_SOURCE_3</td>\n",
       "      <td>0.045820</td>\n",
       "    </tr>\n",
       "    <tr>\n",
       "      <th>112</th>\n",
       "      <td>PAYMENT_RATE</td>\n",
       "      <td>0.027758</td>\n",
       "    </tr>\n",
       "    <tr>\n",
       "      <th>10</th>\n",
       "      <td>DAYS_EMPLOYED</td>\n",
       "      <td>0.026476</td>\n",
       "    </tr>\n",
       "    <tr>\n",
       "      <th>9</th>\n",
       "      <td>DAYS_BIRTH</td>\n",
       "      <td>0.026189</td>\n",
       "    </tr>\n",
       "    <tr>\n",
       "      <th>107</th>\n",
       "      <td>AMT_CREDIT_DEBT_RATIO</td>\n",
       "      <td>0.025399</td>\n",
       "    </tr>\n",
       "    <tr>\n",
       "      <th>110</th>\n",
       "      <td>BIRTH_IN_YEARS</td>\n",
       "      <td>0.025036</td>\n",
       "    </tr>\n",
       "    <tr>\n",
       "      <th>12</th>\n",
       "      <td>DAYS_ID_PUBLISH</td>\n",
       "      <td>0.024598</td>\n",
       "    </tr>\n",
       "    <tr>\n",
       "      <th>11</th>\n",
       "      <td>DAYS_REGISTRATION</td>\n",
       "      <td>0.023515</td>\n",
       "    </tr>\n",
       "  </tbody>\n",
       "</table>\n",
       "</div>"
      ],
      "text/plain": [
       "                   feature  importance\n",
       "111    ALL_EXT_SOURCE_MEAN    0.069198\n",
       "31            EXT_SOURCE_2    0.045948\n",
       "32            EXT_SOURCE_3    0.045820\n",
       "112           PAYMENT_RATE    0.027758\n",
       "10           DAYS_EMPLOYED    0.026476\n",
       "9               DAYS_BIRTH    0.026189\n",
       "107  AMT_CREDIT_DEBT_RATIO    0.025399\n",
       "110         BIRTH_IN_YEARS    0.025036\n",
       "12         DAYS_ID_PUBLISH    0.024598\n",
       "11       DAYS_REGISTRATION    0.023515"
      ]
     },
     "execution_count": 32,
     "metadata": {},
     "output_type": "execute_result"
    }
   ],
   "source": [
    "features = cols[1:]\n",
    "fm = {'feature': features,\n",
    "    'importance': rf.feature_importances_}\n",
    "feature_importance = pd.DataFrame(fm)\n",
    "feature_importance.sort_values(by='importance', ascending=False).head(10)"
   ]
  },
  {
   "cell_type": "markdown",
   "metadata": {},
   "source": [
    "### logistic regression "
   ]
  },
  {
   "cell_type": "code",
   "execution_count": 33,
   "metadata": {
    "ExecuteTime": {
     "end_time": "2021-05-03T18:17:12.499393Z",
     "start_time": "2021-05-03T18:15:21.917205Z"
    }
   },
   "outputs": [
    {
     "name": "stdout",
     "output_type": "stream",
     "text": [
      "classifaction report on training set\n",
      "              precision    recall  f1-score   support\n",
      "\n",
      "           0       0.69      0.69      0.69    226145\n",
      "           1       0.69      0.68      0.69    226146\n",
      "\n",
      "    accuracy                           0.69    452291\n",
      "   macro avg       0.69      0.69      0.69    452291\n",
      "weighted avg       0.69      0.69      0.69    452291\n",
      "\n",
      "--------------------------------------------------------------\n",
      "classifaction report on validation set\n",
      "              precision    recall  f1-score   support\n",
      "\n",
      "           0       0.69      0.70      0.69     56537\n",
      "           1       0.69      0.69      0.69     56536\n",
      "\n",
      "    accuracy                           0.69    113073\n",
      "   macro avg       0.69      0.69      0.69    113073\n",
      "weighted avg       0.69      0.69      0.69    113073\n",
      "\n"
     ]
    }
   ],
   "source": [
    "scaler = StandardScaler()\n",
    "scaler.fit(X)\n",
    "scaler.transform(X)\n",
    "X_std = scaler.transform(X)\n",
    "X_test_std = scaler.fit_transform(X_test)\n",
    "\n",
    "X_train_std, X_val_std, y_train, y_val = train_test_split(X_std, y, test_size=0.2, random_state= 42, stratify=y)\n",
    "logreg = LogisticRegression(solver='lbfgs', max_iter =1000, random_state=42)\n",
    "logreg.fit(X_train_std, y_train)\n",
    "\n",
    "y_pred_train = logreg.predict(X_train_std)\n",
    "y_pred_val = logreg.predict(X_val_std)\n",
    "print('classifaction report on training set')\n",
    "print(classification_report(y_train, y_pred_train, labels=[0,1]))\n",
    "print('--------------------------------------------------------------')\n",
    "print('classifaction report on validation set')\n",
    "print(classification_report(y_val, y_pred_val, labels=[0,1]))"
   ]
  },
  {
   "cell_type": "code",
   "execution_count": null,
   "metadata": {},
   "outputs": [],
   "source": []
  },
  {
   "cell_type": "markdown",
   "metadata": {},
   "source": [
    "# SMOTE"
   ]
  },
  {
   "cell_type": "code",
   "execution_count": 34,
   "metadata": {
    "ExecuteTime": {
     "end_time": "2021-05-03T18:17:31.786301Z",
     "start_time": "2021-05-03T18:17:31.776202Z"
    }
   },
   "outputs": [],
   "source": [
    "#! pip install imbalanced-learn"
   ]
  },
  {
   "cell_type": "code",
   "execution_count": 35,
   "metadata": {
    "ExecuteTime": {
     "end_time": "2021-05-03T18:17:40.431711Z",
     "start_time": "2021-05-03T18:17:40.425286Z"
    }
   },
   "outputs": [],
   "source": [
    "#! pip install delayed"
   ]
  },
  {
   "cell_type": "code",
   "execution_count": 36,
   "metadata": {
    "ExecuteTime": {
     "end_time": "2021-05-03T18:17:56.190676Z",
     "start_time": "2021-05-03T18:17:48.839962Z"
    }
   },
   "outputs": [],
   "source": [
    "from imblearn.over_sampling import SMOTE"
   ]
  },
  {
   "cell_type": "code",
   "execution_count": 44,
   "metadata": {
    "ExecuteTime": {
     "end_time": "2021-05-03T19:07:05.724206Z",
     "start_time": "2021-05-03T19:06:57.065939Z"
    }
   },
   "outputs": [
    {
     "data": {
      "text/plain": [
       "((307507, 247), (307507,))"
      ]
     },
     "execution_count": 44,
     "metadata": {},
     "output_type": "execute_result"
    }
   ],
   "source": [
    "X = df_prime.drop(columns = ['TARGET'], axis=1)\n",
    "y = df_prime['TARGET']\n",
    "X.shape, y.shape"
   ]
  },
  {
   "cell_type": "code",
   "execution_count": 45,
   "metadata": {
    "ExecuteTime": {
     "end_time": "2021-05-03T19:07:44.790235Z",
     "start_time": "2021-05-03T19:07:44.253893Z"
    }
   },
   "outputs": [
    {
     "data": {
      "text/plain": [
       "0.0    282682\n",
       "1.0     24825\n",
       "Name: TARGET, dtype: int64"
      ]
     },
     "execution_count": 45,
     "metadata": {},
     "output_type": "execute_result"
    }
   ],
   "source": [
    "y.value_counts()"
   ]
  },
  {
   "cell_type": "code",
   "execution_count": 49,
   "metadata": {
    "ExecuteTime": {
     "end_time": "2021-05-03T19:24:17.254704Z",
     "start_time": "2021-05-03T19:23:44.855274Z"
    }
   },
   "outputs": [],
   "source": [
    "smote = SMOTE(sampling_strategy='minority')\n",
    "X_sm, y_sm = smote.fit_resample(X,y)\n",
    "\n",
    "#X_train, X_val, y_train, y_val = train_test_split(X, y, test_size=0.2, random_state= 42, stratify=y)"
   ]
  },
  {
   "cell_type": "code",
   "execution_count": 50,
   "metadata": {
    "ExecuteTime": {
     "end_time": "2021-05-03T19:24:51.933283Z",
     "start_time": "2021-05-03T19:24:50.942140Z"
    }
   },
   "outputs": [
    {
     "data": {
      "text/plain": [
       "1.0    282682\n",
       "0.0    282682\n",
       "Name: TARGET, dtype: int64"
      ]
     },
     "execution_count": 50,
     "metadata": {},
     "output_type": "execute_result"
    }
   ],
   "source": [
    "y_sm.value_counts()"
   ]
  },
  {
   "cell_type": "code",
   "execution_count": 52,
   "metadata": {
    "ExecuteTime": {
     "end_time": "2021-05-03T19:29:14.178601Z",
     "start_time": "2021-05-03T19:29:14.170163Z"
    }
   },
   "outputs": [
    {
     "data": {
      "text/plain": [
       "(565364, 247)"
      ]
     },
     "execution_count": 52,
     "metadata": {},
     "output_type": "execute_result"
    }
   ],
   "source": [
    "X_sm.shape"
   ]
  },
  {
   "cell_type": "code",
   "execution_count": 54,
   "metadata": {
    "ExecuteTime": {
     "end_time": "2021-05-03T19:29:55.389728Z",
     "start_time": "2021-05-03T19:29:55.382129Z"
    }
   },
   "outputs": [
    {
     "data": {
      "text/plain": [
       "(565364,)"
      ]
     },
     "execution_count": 54,
     "metadata": {},
     "output_type": "execute_result"
    }
   ],
   "source": [
    "y_sm.shape"
   ]
  },
  {
   "cell_type": "code",
   "execution_count": 56,
   "metadata": {
    "ExecuteTime": {
     "end_time": "2021-05-03T19:34:19.695069Z",
     "start_time": "2021-05-03T19:31:09.825607Z"
    }
   },
   "outputs": [
    {
     "name": "stdout",
     "output_type": "stream",
     "text": [
      "classifaction report on training set\n",
      "              precision    recall  f1-score   support\n",
      "\n",
      "           0       1.00      1.00      1.00    226145\n",
      "           1       1.00      1.00      1.00    226146\n",
      "\n",
      "    accuracy                           1.00    452291\n",
      "   macro avg       1.00      1.00      1.00    452291\n",
      "weighted avg       1.00      1.00      1.00    452291\n",
      "\n",
      "--------------------------------------------------------------\n",
      "classifaction report on validation set\n",
      "              precision    recall  f1-score   support\n",
      "\n",
      "           0       0.92      1.00      0.96     56537\n",
      "           1       1.00      0.91      0.95     56536\n",
      "\n",
      "    accuracy                           0.96    113073\n",
      "   macro avg       0.96      0.96      0.96    113073\n",
      "weighted avg       0.96      0.96      0.96    113073\n",
      "\n"
     ]
    }
   ],
   "source": [
    "X_train, X_val, y_train, y_val = train_test_split(X_sm, y_sm, test_size=0.2, random_state= 42, stratify=y_sm)\n",
    "rf = RandomForestClassifier(random_state=42, n_jobs=-1)\n",
    "rf.fit(X_train, y_train)\n",
    "y_pred_train = rf.predict(X_train)\n",
    "y_pred_val = rf.predict(X_val)\n",
    "print('classifaction report on training set')\n",
    "print(classification_report(y_train, y_pred_train, labels=[0,1]))\n",
    "print('--------------------------------------------------------------')\n",
    "print('classifaction report on validation set')\n",
    "print(classification_report(y_val, y_pred_val, labels=[0,1]))"
   ]
  },
  {
   "cell_type": "code",
   "execution_count": 57,
   "metadata": {
    "ExecuteTime": {
     "end_time": "2021-05-03T19:39:04.873665Z",
     "start_time": "2021-05-03T19:38:57.731989Z"
    }
   },
   "outputs": [
    {
     "data": {
      "text/html": [
       "<div>\n",
       "<style scoped>\n",
       "    .dataframe tbody tr th:only-of-type {\n",
       "        vertical-align: middle;\n",
       "    }\n",
       "\n",
       "    .dataframe tbody tr th {\n",
       "        vertical-align: top;\n",
       "    }\n",
       "\n",
       "    .dataframe thead th {\n",
       "        text-align: right;\n",
       "    }\n",
       "</style>\n",
       "<table border=\"1\" class=\"dataframe\">\n",
       "  <thead>\n",
       "    <tr style=\"text-align: right;\">\n",
       "      <th></th>\n",
       "      <th>SK_ID_CURR</th>\n",
       "      <th>TARGET</th>\n",
       "    </tr>\n",
       "  </thead>\n",
       "  <tbody>\n",
       "    <tr>\n",
       "      <th>307507</th>\n",
       "      <td>100001</td>\n",
       "      <td>0.06</td>\n",
       "    </tr>\n",
       "    <tr>\n",
       "      <th>307508</th>\n",
       "      <td>100005</td>\n",
       "      <td>0.50</td>\n",
       "    </tr>\n",
       "    <tr>\n",
       "      <th>307509</th>\n",
       "      <td>100013</td>\n",
       "      <td>0.27</td>\n",
       "    </tr>\n",
       "    <tr>\n",
       "      <th>307510</th>\n",
       "      <td>100028</td>\n",
       "      <td>0.12</td>\n",
       "    </tr>\n",
       "    <tr>\n",
       "      <th>307511</th>\n",
       "      <td>100038</td>\n",
       "      <td>0.44</td>\n",
       "    </tr>\n",
       "  </tbody>\n",
       "</table>\n",
       "</div>"
      ],
      "text/plain": [
       "        SK_ID_CURR  TARGET\n",
       "307507      100001    0.06\n",
       "307508      100005    0.50\n",
       "307509      100013    0.27\n",
       "307510      100028    0.12\n",
       "307511      100038    0.44"
      ]
     },
     "execution_count": 57,
     "metadata": {},
     "output_type": "execute_result"
    }
   ],
   "source": [
    "rf_test_pred = rf.predict_proba(X_test)[:,1]\n",
    "\n",
    "submission4_dict = {'SK_ID_CURR': Test_ids, \n",
    "            'TARGET': rf_test_pred }\n",
    "rf_submission4 = pd.DataFrame(submission4_dict)\n",
    "#rf_submission4.to_csv('submission4.csv', index=False) accuaracy 64%\n",
    "rf_submission4.head()"
   ]
  },
  {
   "cell_type": "markdown",
   "metadata": {},
   "source": [
    "# AVOID DATA LEAKAGE "
   ]
  },
  {
   "cell_type": "code",
   "execution_count": 2,
   "metadata": {
    "ExecuteTime": {
     "end_time": "2021-05-03T23:56:58.528757Z",
     "start_time": "2021-05-03T23:56:54.909664Z"
    }
   },
   "outputs": [],
   "source": []
  },
  {
   "cell_type": "code",
   "execution_count": 3,
   "metadata": {
    "ExecuteTime": {
     "end_time": "2021-05-04T00:02:15.782171Z",
     "start_time": "2021-05-04T00:02:08.443931Z"
    }
   },
   "outputs": [],
   "source": [
    "import os, sys\n",
    "sys.path.append(os.path.dirname(os.path.dirname(os.path.abspath(''))))\n",
    "from utils.data_extract_utils import extract_zip, extract_features_from_bureau\n",
    "\n",
    "import dropbox\n",
    "import pandas as pd\n",
    "from zipfile import ZipFile\n",
    "from utils.data_extract_utils import extract_zip, extract_features_from_bureau\n",
    "\n",
    "# Connect to dropbox\n",
    "dbx = dropbox.Dropbox('cHV7yAR0J6YAAAAAAAAAAVQ1NLCrOwerbaNltPWHslYXKuUTJ5_wfgJsuFcmx83o')\n",
    "\n",
    "data = {}\n",
    "for entry in dbx.files_list_folder('').entries:\n",
    "    response = dbx.files_download('/{}'.format(entry.name))\n",
    "    \n",
    "    if 'zip' in entry.name:\n",
    "        content = extract_zip(response[1].content)\n",
    "    \n",
    "        for file in content:\n",
    "            df = pd.read_csv(file[1])\n",
    "            data[entry.name.replace('.csv.zip', '')] = df"
   ]
  },
  {
   "cell_type": "code",
   "execution_count": 4,
   "metadata": {
    "ExecuteTime": {
     "end_time": "2021-05-04T00:05:17.756849Z",
     "start_time": "2021-05-04T00:02:27.747323Z"
    }
   },
   "outputs": [],
   "source": [
    "data = {}\n",
    "for entry in dbx.files_list_folder('').entries:\n",
    "    response = dbx.files_download('/{}'.format(entry.name))\n",
    "    \n",
    "    if 'zip' in entry.name:\n",
    "        content = extract_zip(response[1].content)\n",
    "    \n",
    "        for file in content:\n",
    "            df = pd.read_csv(file[1])\n",
    "            data[entry.name.replace('.csv.zip', '')] = df"
   ]
  },
  {
   "cell_type": "code",
   "execution_count": 4,
   "metadata": {
    "ExecuteTime": {
     "end_time": "2021-05-04T07:45:17.863150Z",
     "start_time": "2021-05-04T07:44:16.673567Z"
    }
   },
   "outputs": [],
   "source": [
    "df = get_temp_data(data)"
   ]
  },
  {
   "cell_type": "code",
   "execution_count": 19,
   "metadata": {
    "ExecuteTime": {
     "end_time": "2021-05-04T00:35:52.312387Z",
     "start_time": "2021-05-04T00:35:52.202121Z"
    }
   },
   "outputs": [
    {
     "data": {
      "text/html": [
       "<div>\n",
       "<style scoped>\n",
       "    .dataframe tbody tr th:only-of-type {\n",
       "        vertical-align: middle;\n",
       "    }\n",
       "\n",
       "    .dataframe tbody tr th {\n",
       "        vertical-align: top;\n",
       "    }\n",
       "\n",
       "    .dataframe thead th {\n",
       "        text-align: right;\n",
       "    }\n",
       "</style>\n",
       "<table border=\"1\" class=\"dataframe\">\n",
       "  <thead>\n",
       "    <tr style=\"text-align: right;\">\n",
       "      <th></th>\n",
       "      <th>SK_ID_CURR</th>\n",
       "      <th>TARGET</th>\n",
       "      <th>NAME_CONTRACT_TYPE</th>\n",
       "      <th>CODE_GENDER</th>\n",
       "      <th>FLAG_OWN_CAR</th>\n",
       "      <th>FLAG_OWN_REALTY</th>\n",
       "      <th>CNT_CHILDREN</th>\n",
       "      <th>AMT_INCOME_TOTAL</th>\n",
       "      <th>AMT_CREDIT</th>\n",
       "      <th>AMT_ANNUITY</th>\n",
       "      <th>...</th>\n",
       "      <th>AMT_REQ_CREDIT_BUREAU_YEAR</th>\n",
       "      <th>AMT_CREDIT_DEBT_RATIO</th>\n",
       "      <th>CREDIT_DAY_OVERDUE</th>\n",
       "      <th>DPD_COUNTS</th>\n",
       "      <th>BIRTH_IN_YEARS</th>\n",
       "      <th>ALL_EXT_SOURCE_MEAN</th>\n",
       "      <th>PAYMENT_RATE</th>\n",
       "      <th>INCOME_PER_PERSON</th>\n",
       "      <th>INCOME_CREDIT_IN_PERCENTAGE</th>\n",
       "      <th>ANNUITY_INCOME_IN_PERCENTAGE</th>\n",
       "    </tr>\n",
       "  </thead>\n",
       "  <tbody>\n",
       "    <tr>\n",
       "      <th>0</th>\n",
       "      <td>100002</td>\n",
       "      <td>1.0</td>\n",
       "      <td>Cash loans</td>\n",
       "      <td>0</td>\n",
       "      <td>1</td>\n",
       "      <td>0</td>\n",
       "      <td>0</td>\n",
       "      <td>202500.0</td>\n",
       "      <td>406597.5</td>\n",
       "      <td>24700.5</td>\n",
       "      <td>...</td>\n",
       "      <td>1.0</td>\n",
       "      <td>0.068272</td>\n",
       "      <td>0.0</td>\n",
       "      <td>3.375</td>\n",
       "      <td>25.920548</td>\n",
       "      <td>0.161787</td>\n",
       "      <td>0.060749</td>\n",
       "      <td>202500.0</td>\n",
       "      <td>0.498036</td>\n",
       "      <td>0.121978</td>\n",
       "    </tr>\n",
       "    <tr>\n",
       "      <th>1</th>\n",
       "      <td>100003</td>\n",
       "      <td>0.0</td>\n",
       "      <td>Cash loans</td>\n",
       "      <td>1</td>\n",
       "      <td>1</td>\n",
       "      <td>1</td>\n",
       "      <td>0</td>\n",
       "      <td>270000.0</td>\n",
       "      <td>1293502.5</td>\n",
       "      <td>35698.5</td>\n",
       "      <td>...</td>\n",
       "      <td>0.0</td>\n",
       "      <td>0.000000</td>\n",
       "      <td>0.0</td>\n",
       "      <td>0.000</td>\n",
       "      <td>45.931507</td>\n",
       "      <td>0.466757</td>\n",
       "      <td>0.027598</td>\n",
       "      <td>135000.0</td>\n",
       "      <td>0.208736</td>\n",
       "      <td>0.132217</td>\n",
       "    </tr>\n",
       "    <tr>\n",
       "      <th>2</th>\n",
       "      <td>100004</td>\n",
       "      <td>0.0</td>\n",
       "      <td>Revolving loans</td>\n",
       "      <td>0</td>\n",
       "      <td>0</td>\n",
       "      <td>0</td>\n",
       "      <td>0</td>\n",
       "      <td>67500.0</td>\n",
       "      <td>135000.0</td>\n",
       "      <td>6750.0</td>\n",
       "      <td>...</td>\n",
       "      <td>0.0</td>\n",
       "      <td>0.000000</td>\n",
       "      <td>0.0</td>\n",
       "      <td>0.000</td>\n",
       "      <td>52.180822</td>\n",
       "      <td>0.642739</td>\n",
       "      <td>0.050000</td>\n",
       "      <td>67500.0</td>\n",
       "      <td>0.500000</td>\n",
       "      <td>0.100000</td>\n",
       "    </tr>\n",
       "    <tr>\n",
       "      <th>3</th>\n",
       "      <td>100006</td>\n",
       "      <td>0.0</td>\n",
       "      <td>Cash loans</td>\n",
       "      <td>1</td>\n",
       "      <td>1</td>\n",
       "      <td>0</td>\n",
       "      <td>0</td>\n",
       "      <td>135000.0</td>\n",
       "      <td>312682.5</td>\n",
       "      <td>29686.5</td>\n",
       "      <td>...</td>\n",
       "      <td>NaN</td>\n",
       "      <td>NaN</td>\n",
       "      <td>NaN</td>\n",
       "      <td>NaN</td>\n",
       "      <td>52.068493</td>\n",
       "      <td>0.650442</td>\n",
       "      <td>0.094941</td>\n",
       "      <td>67500.0</td>\n",
       "      <td>0.431748</td>\n",
       "      <td>0.219900</td>\n",
       "    </tr>\n",
       "    <tr>\n",
       "      <th>4</th>\n",
       "      <td>100007</td>\n",
       "      <td>0.0</td>\n",
       "      <td>Cash loans</td>\n",
       "      <td>0</td>\n",
       "      <td>1</td>\n",
       "      <td>0</td>\n",
       "      <td>0</td>\n",
       "      <td>121500.0</td>\n",
       "      <td>513000.0</td>\n",
       "      <td>21865.5</td>\n",
       "      <td>...</td>\n",
       "      <td>0.0</td>\n",
       "      <td>0.000000</td>\n",
       "      <td>0.0</td>\n",
       "      <td>0.000</td>\n",
       "      <td>54.608219</td>\n",
       "      <td>0.322738</td>\n",
       "      <td>0.042623</td>\n",
       "      <td>121500.0</td>\n",
       "      <td>0.236842</td>\n",
       "      <td>0.179963</td>\n",
       "    </tr>\n",
       "  </tbody>\n",
       "</table>\n",
       "<p>5 rows × 131 columns</p>\n",
       "</div>"
      ],
      "text/plain": [
       "  SK_ID_CURR  TARGET NAME_CONTRACT_TYPE  CODE_GENDER  FLAG_OWN_CAR  \\\n",
       "0     100002     1.0         Cash loans            0             1   \n",
       "1     100003     0.0         Cash loans            1             1   \n",
       "2     100004     0.0    Revolving loans            0             0   \n",
       "3     100006     0.0         Cash loans            1             1   \n",
       "4     100007     0.0         Cash loans            0             1   \n",
       "\n",
       "   FLAG_OWN_REALTY  CNT_CHILDREN  AMT_INCOME_TOTAL  AMT_CREDIT  AMT_ANNUITY  \\\n",
       "0                0             0          202500.0    406597.5      24700.5   \n",
       "1                1             0          270000.0   1293502.5      35698.5   \n",
       "2                0             0           67500.0    135000.0       6750.0   \n",
       "3                0             0          135000.0    312682.5      29686.5   \n",
       "4                0             0          121500.0    513000.0      21865.5   \n",
       "\n",
       "   ...  AMT_REQ_CREDIT_BUREAU_YEAR AMT_CREDIT_DEBT_RATIO CREDIT_DAY_OVERDUE  \\\n",
       "0  ...                         1.0              0.068272                0.0   \n",
       "1  ...                         0.0              0.000000                0.0   \n",
       "2  ...                         0.0              0.000000                0.0   \n",
       "3  ...                         NaN                   NaN                NaN   \n",
       "4  ...                         0.0              0.000000                0.0   \n",
       "\n",
       "  DPD_COUNTS BIRTH_IN_YEARS ALL_EXT_SOURCE_MEAN  PAYMENT_RATE  \\\n",
       "0      3.375      25.920548            0.161787      0.060749   \n",
       "1      0.000      45.931507            0.466757      0.027598   \n",
       "2      0.000      52.180822            0.642739      0.050000   \n",
       "3        NaN      52.068493            0.650442      0.094941   \n",
       "4      0.000      54.608219            0.322738      0.042623   \n",
       "\n",
       "   INCOME_PER_PERSON  INCOME_CREDIT_IN_PERCENTAGE   \\\n",
       "0           202500.0                      0.498036   \n",
       "1           135000.0                      0.208736   \n",
       "2            67500.0                      0.500000   \n",
       "3            67500.0                      0.431748   \n",
       "4           121500.0                      0.236842   \n",
       "\n",
       "   ANNUITY_INCOME_IN_PERCENTAGE  \n",
       "0                      0.121978  \n",
       "1                      0.132217  \n",
       "2                      0.100000  \n",
       "3                      0.219900  \n",
       "4                      0.179963  \n",
       "\n",
       "[5 rows x 131 columns]"
      ]
     },
     "execution_count": 19,
     "metadata": {},
     "output_type": "execute_result"
    }
   ],
   "source": [
    "df.head()"
   ]
  },
  {
   "cell_type": "code",
   "execution_count": 7,
   "metadata": {
    "ExecuteTime": {
     "end_time": "2021-05-04T07:48:04.367658Z",
     "start_time": "2021-05-04T07:48:02.901770Z"
    }
   },
   "outputs": [],
   "source": [
    "X_train, X_val, y_train, y_val = train_test_split(train_df, y, test_size=0.2, random_state= 42, stratify=y)"
   ]
  },
  {
   "cell_type": "code",
   "execution_count": 8,
   "metadata": {
    "ExecuteTime": {
     "end_time": "2021-05-04T07:48:46.195287Z",
     "start_time": "2021-05-04T07:48:45.897710Z"
    }
   },
   "outputs": [
    {
     "data": {
      "text/plain": [
       "(14, 116)"
      ]
     },
     "execution_count": 8,
     "metadata": {},
     "output_type": "execute_result"
    }
   ],
   "source": [
    "cat_cols = list(X_train.select_dtypes(include=object).columns)\n",
    "num_cols = list(X_train.select_dtypes(include=[int, float]).columns)\n",
    "len(cat_cols),len(num_cols)"
   ]
  },
  {
   "cell_type": "code",
   "execution_count": 21,
   "metadata": {
    "ExecuteTime": {
     "end_time": "2021-05-04T03:37:17.335818Z",
     "start_time": "2021-05-04T03:37:17.307884Z"
    }
   },
   "outputs": [],
   "source": [
    "from sklearn.compose import make_column_selector"
   ]
  },
  {
   "cell_type": "code",
   "execution_count": 37,
   "metadata": {
    "ExecuteTime": {
     "end_time": "2021-05-04T07:07:11.435516Z",
     "start_time": "2021-05-04T07:07:11.294114Z"
    }
   },
   "outputs": [
    {
     "data": {
      "text/html": [
       "<div>\n",
       "<style scoped>\n",
       "    .dataframe tbody tr th:only-of-type {\n",
       "        vertical-align: middle;\n",
       "    }\n",
       "\n",
       "    .dataframe tbody tr th {\n",
       "        vertical-align: top;\n",
       "    }\n",
       "\n",
       "    .dataframe thead th {\n",
       "        text-align: right;\n",
       "    }\n",
       "</style>\n",
       "<table border=\"1\" class=\"dataframe\">\n",
       "  <thead>\n",
       "    <tr style=\"text-align: right;\">\n",
       "      <th></th>\n",
       "      <th>SK_ID_CURR</th>\n",
       "      <th>NAME_CONTRACT_TYPE</th>\n",
       "      <th>CODE_GENDER</th>\n",
       "      <th>FLAG_OWN_CAR</th>\n",
       "      <th>FLAG_OWN_REALTY</th>\n",
       "      <th>CNT_CHILDREN</th>\n",
       "      <th>AMT_INCOME_TOTAL</th>\n",
       "      <th>AMT_CREDIT</th>\n",
       "      <th>AMT_ANNUITY</th>\n",
       "      <th>AMT_GOODS_PRICE</th>\n",
       "      <th>...</th>\n",
       "      <th>AMT_REQ_CREDIT_BUREAU_YEAR</th>\n",
       "      <th>AMT_CREDIT_DEBT_RATIO</th>\n",
       "      <th>CREDIT_DAY_OVERDUE</th>\n",
       "      <th>DPD_COUNTS</th>\n",
       "      <th>BIRTH_IN_YEARS</th>\n",
       "      <th>ALL_EXT_SOURCE_MEAN</th>\n",
       "      <th>PAYMENT_RATE</th>\n",
       "      <th>INCOME_PER_PERSON</th>\n",
       "      <th>INCOME_CREDIT_IN_PERCENTAGE</th>\n",
       "      <th>ANNUITY_INCOME_IN_PERCENTAGE</th>\n",
       "    </tr>\n",
       "  </thead>\n",
       "  <tbody>\n",
       "    <tr>\n",
       "      <th>195170</th>\n",
       "      <td>326316</td>\n",
       "      <td>Cash loans</td>\n",
       "      <td>0</td>\n",
       "      <td>0</td>\n",
       "      <td>0</td>\n",
       "      <td>0</td>\n",
       "      <td>76500.0</td>\n",
       "      <td>267102.0</td>\n",
       "      <td>21415.5</td>\n",
       "      <td>247500.0</td>\n",
       "      <td>...</td>\n",
       "      <td>2.0</td>\n",
       "      <td>0.000000</td>\n",
       "      <td>0.0</td>\n",
       "      <td>0.0</td>\n",
       "      <td>30.690411</td>\n",
       "      <td>0.358137</td>\n",
       "      <td>0.080177</td>\n",
       "      <td>38250.0</td>\n",
       "      <td>0.286407</td>\n",
       "      <td>0.279941</td>\n",
       "    </tr>\n",
       "    <tr>\n",
       "      <th>50834</th>\n",
       "      <td>158869</td>\n",
       "      <td>Cash loans</td>\n",
       "      <td>0</td>\n",
       "      <td>1</td>\n",
       "      <td>0</td>\n",
       "      <td>0</td>\n",
       "      <td>180999.0</td>\n",
       "      <td>2016000.0</td>\n",
       "      <td>57564.0</td>\n",
       "      <td>2016000.0</td>\n",
       "      <td>...</td>\n",
       "      <td>NaN</td>\n",
       "      <td>NaN</td>\n",
       "      <td>NaN</td>\n",
       "      <td>NaN</td>\n",
       "      <td>56.520548</td>\n",
       "      <td>0.461411</td>\n",
       "      <td>0.028554</td>\n",
       "      <td>180999.0</td>\n",
       "      <td>0.089781</td>\n",
       "      <td>0.318035</td>\n",
       "    </tr>\n",
       "    <tr>\n",
       "      <th>223598</th>\n",
       "      <td>358982</td>\n",
       "      <td>Cash loans</td>\n",
       "      <td>1</td>\n",
       "      <td>1</td>\n",
       "      <td>1</td>\n",
       "      <td>0</td>\n",
       "      <td>54000.0</td>\n",
       "      <td>679500.0</td>\n",
       "      <td>19867.5</td>\n",
       "      <td>679500.0</td>\n",
       "      <td>...</td>\n",
       "      <td>3.0</td>\n",
       "      <td>0.364845</td>\n",
       "      <td>0.0</td>\n",
       "      <td>0.0</td>\n",
       "      <td>62.282192</td>\n",
       "      <td>0.675396</td>\n",
       "      <td>0.029238</td>\n",
       "      <td>27000.0</td>\n",
       "      <td>0.079470</td>\n",
       "      <td>0.367917</td>\n",
       "    </tr>\n",
       "    <tr>\n",
       "      <th>307014</th>\n",
       "      <td>455697</td>\n",
       "      <td>Cash loans</td>\n",
       "      <td>0</td>\n",
       "      <td>0</td>\n",
       "      <td>0</td>\n",
       "      <td>0</td>\n",
       "      <td>225000.0</td>\n",
       "      <td>1288350.0</td>\n",
       "      <td>37800.0</td>\n",
       "      <td>1125000.0</td>\n",
       "      <td>...</td>\n",
       "      <td>6.0</td>\n",
       "      <td>0.000000</td>\n",
       "      <td>0.0</td>\n",
       "      <td>0.0</td>\n",
       "      <td>46.084932</td>\n",
       "      <td>0.699247</td>\n",
       "      <td>0.029340</td>\n",
       "      <td>112500.0</td>\n",
       "      <td>0.174642</td>\n",
       "      <td>0.168000</td>\n",
       "    </tr>\n",
       "    <tr>\n",
       "      <th>152059</th>\n",
       "      <td>276249</td>\n",
       "      <td>Cash loans</td>\n",
       "      <td>1</td>\n",
       "      <td>1</td>\n",
       "      <td>1</td>\n",
       "      <td>2</td>\n",
       "      <td>171000.0</td>\n",
       "      <td>888840.0</td>\n",
       "      <td>29506.5</td>\n",
       "      <td>675000.0</td>\n",
       "      <td>...</td>\n",
       "      <td>0.0</td>\n",
       "      <td>0.249328</td>\n",
       "      <td>0.0</td>\n",
       "      <td>0.0</td>\n",
       "      <td>42.495890</td>\n",
       "      <td>0.602590</td>\n",
       "      <td>0.033197</td>\n",
       "      <td>42750.0</td>\n",
       "      <td>0.192386</td>\n",
       "      <td>0.172553</td>\n",
       "    </tr>\n",
       "    <tr>\n",
       "      <th>...</th>\n",
       "      <td>...</td>\n",
       "      <td>...</td>\n",
       "      <td>...</td>\n",
       "      <td>...</td>\n",
       "      <td>...</td>\n",
       "      <td>...</td>\n",
       "      <td>...</td>\n",
       "      <td>...</td>\n",
       "      <td>...</td>\n",
       "      <td>...</td>\n",
       "      <td>...</td>\n",
       "      <td>...</td>\n",
       "      <td>...</td>\n",
       "      <td>...</td>\n",
       "      <td>...</td>\n",
       "      <td>...</td>\n",
       "      <td>...</td>\n",
       "      <td>...</td>\n",
       "      <td>...</td>\n",
       "      <td>...</td>\n",
       "      <td>...</td>\n",
       "    </tr>\n",
       "    <tr>\n",
       "      <th>127726</th>\n",
       "      <td>248136</td>\n",
       "      <td>Cash loans</td>\n",
       "      <td>1</td>\n",
       "      <td>1</td>\n",
       "      <td>0</td>\n",
       "      <td>0</td>\n",
       "      <td>135000.0</td>\n",
       "      <td>755190.0</td>\n",
       "      <td>30078.0</td>\n",
       "      <td>675000.0</td>\n",
       "      <td>...</td>\n",
       "      <td>1.0</td>\n",
       "      <td>0.044598</td>\n",
       "      <td>0.0</td>\n",
       "      <td>0.0</td>\n",
       "      <td>60.660274</td>\n",
       "      <td>0.337843</td>\n",
       "      <td>0.039828</td>\n",
       "      <td>135000.0</td>\n",
       "      <td>0.178763</td>\n",
       "      <td>0.222800</td>\n",
       "    </tr>\n",
       "    <tr>\n",
       "      <th>199368</th>\n",
       "      <td>331135</td>\n",
       "      <td>Revolving loans</td>\n",
       "      <td>1</td>\n",
       "      <td>1</td>\n",
       "      <td>0</td>\n",
       "      <td>0</td>\n",
       "      <td>117000.0</td>\n",
       "      <td>180000.0</td>\n",
       "      <td>9000.0</td>\n",
       "      <td>180000.0</td>\n",
       "      <td>...</td>\n",
       "      <td>NaN</td>\n",
       "      <td>NaN</td>\n",
       "      <td>NaN</td>\n",
       "      <td>NaN</td>\n",
       "      <td>27.964384</td>\n",
       "      <td>0.239319</td>\n",
       "      <td>0.050000</td>\n",
       "      <td>58500.0</td>\n",
       "      <td>0.650000</td>\n",
       "      <td>0.076923</td>\n",
       "    </tr>\n",
       "    <tr>\n",
       "      <th>100274</th>\n",
       "      <td>216408</td>\n",
       "      <td>Cash loans</td>\n",
       "      <td>0</td>\n",
       "      <td>0</td>\n",
       "      <td>0</td>\n",
       "      <td>0</td>\n",
       "      <td>540000.0</td>\n",
       "      <td>724261.5</td>\n",
       "      <td>39420.0</td>\n",
       "      <td>576000.0</td>\n",
       "      <td>...</td>\n",
       "      <td>0.0</td>\n",
       "      <td>0.438762</td>\n",
       "      <td>0.0</td>\n",
       "      <td>0.0</td>\n",
       "      <td>32.093151</td>\n",
       "      <td>0.490804</td>\n",
       "      <td>0.054428</td>\n",
       "      <td>540000.0</td>\n",
       "      <td>0.745587</td>\n",
       "      <td>0.073000</td>\n",
       "    </tr>\n",
       "    <tr>\n",
       "      <th>109139</th>\n",
       "      <td>226583</td>\n",
       "      <td>Cash loans</td>\n",
       "      <td>1</td>\n",
       "      <td>1</td>\n",
       "      <td>0</td>\n",
       "      <td>0</td>\n",
       "      <td>103500.0</td>\n",
       "      <td>1236816.0</td>\n",
       "      <td>40027.5</td>\n",
       "      <td>1080000.0</td>\n",
       "      <td>...</td>\n",
       "      <td>1.0</td>\n",
       "      <td>-inf</td>\n",
       "      <td>0.0</td>\n",
       "      <td>0.0</td>\n",
       "      <td>49.542466</td>\n",
       "      <td>0.536453</td>\n",
       "      <td>0.032363</td>\n",
       "      <td>103500.0</td>\n",
       "      <td>0.083683</td>\n",
       "      <td>0.386739</td>\n",
       "    </tr>\n",
       "    <tr>\n",
       "      <th>200339</th>\n",
       "      <td>332242</td>\n",
       "      <td>Cash loans</td>\n",
       "      <td>1</td>\n",
       "      <td>1</td>\n",
       "      <td>0</td>\n",
       "      <td>1</td>\n",
       "      <td>112500.0</td>\n",
       "      <td>553806.0</td>\n",
       "      <td>26770.5</td>\n",
       "      <td>495000.0</td>\n",
       "      <td>...</td>\n",
       "      <td>3.0</td>\n",
       "      <td>0.333333</td>\n",
       "      <td>0.0</td>\n",
       "      <td>0.0</td>\n",
       "      <td>30.517808</td>\n",
       "      <td>0.405828</td>\n",
       "      <td>0.048339</td>\n",
       "      <td>37500.0</td>\n",
       "      <td>0.203140</td>\n",
       "      <td>0.237960</td>\n",
       "    </tr>\n",
       "  </tbody>\n",
       "</table>\n",
       "<p>246005 rows × 130 columns</p>\n",
       "</div>"
      ],
      "text/plain": [
       "       SK_ID_CURR NAME_CONTRACT_TYPE  CODE_GENDER  FLAG_OWN_CAR  \\\n",
       "195170     326316         Cash loans            0             0   \n",
       "50834      158869         Cash loans            0             1   \n",
       "223598     358982         Cash loans            1             1   \n",
       "307014     455697         Cash loans            0             0   \n",
       "152059     276249         Cash loans            1             1   \n",
       "...           ...                ...          ...           ...   \n",
       "127726     248136         Cash loans            1             1   \n",
       "199368     331135    Revolving loans            1             1   \n",
       "100274     216408         Cash loans            0             0   \n",
       "109139     226583         Cash loans            1             1   \n",
       "200339     332242         Cash loans            1             1   \n",
       "\n",
       "        FLAG_OWN_REALTY  CNT_CHILDREN  AMT_INCOME_TOTAL  AMT_CREDIT  \\\n",
       "195170                0             0           76500.0    267102.0   \n",
       "50834                 0             0          180999.0   2016000.0   \n",
       "223598                1             0           54000.0    679500.0   \n",
       "307014                0             0          225000.0   1288350.0   \n",
       "152059                1             2          171000.0    888840.0   \n",
       "...                 ...           ...               ...         ...   \n",
       "127726                0             0          135000.0    755190.0   \n",
       "199368                0             0          117000.0    180000.0   \n",
       "100274                0             0          540000.0    724261.5   \n",
       "109139                0             0          103500.0   1236816.0   \n",
       "200339                0             1          112500.0    553806.0   \n",
       "\n",
       "        AMT_ANNUITY  AMT_GOODS_PRICE  ... AMT_REQ_CREDIT_BUREAU_YEAR  \\\n",
       "195170      21415.5         247500.0  ...                        2.0   \n",
       "50834       57564.0        2016000.0  ...                        NaN   \n",
       "223598      19867.5         679500.0  ...                        3.0   \n",
       "307014      37800.0        1125000.0  ...                        6.0   \n",
       "152059      29506.5         675000.0  ...                        0.0   \n",
       "...             ...              ...  ...                        ...   \n",
       "127726      30078.0         675000.0  ...                        1.0   \n",
       "199368       9000.0         180000.0  ...                        NaN   \n",
       "100274      39420.0         576000.0  ...                        0.0   \n",
       "109139      40027.5        1080000.0  ...                        1.0   \n",
       "200339      26770.5         495000.0  ...                        3.0   \n",
       "\n",
       "       AMT_CREDIT_DEBT_RATIO CREDIT_DAY_OVERDUE DPD_COUNTS BIRTH_IN_YEARS  \\\n",
       "195170              0.000000                0.0        0.0      30.690411   \n",
       "50834                    NaN                NaN        NaN      56.520548   \n",
       "223598              0.364845                0.0        0.0      62.282192   \n",
       "307014              0.000000                0.0        0.0      46.084932   \n",
       "152059              0.249328                0.0        0.0      42.495890   \n",
       "...                      ...                ...        ...            ...   \n",
       "127726              0.044598                0.0        0.0      60.660274   \n",
       "199368                   NaN                NaN        NaN      27.964384   \n",
       "100274              0.438762                0.0        0.0      32.093151   \n",
       "109139                  -inf                0.0        0.0      49.542466   \n",
       "200339              0.333333                0.0        0.0      30.517808   \n",
       "\n",
       "        ALL_EXT_SOURCE_MEAN  PAYMENT_RATE  INCOME_PER_PERSON  \\\n",
       "195170             0.358137      0.080177            38250.0   \n",
       "50834              0.461411      0.028554           180999.0   \n",
       "223598             0.675396      0.029238            27000.0   \n",
       "307014             0.699247      0.029340           112500.0   \n",
       "152059             0.602590      0.033197            42750.0   \n",
       "...                     ...           ...                ...   \n",
       "127726             0.337843      0.039828           135000.0   \n",
       "199368             0.239319      0.050000            58500.0   \n",
       "100274             0.490804      0.054428           540000.0   \n",
       "109139             0.536453      0.032363           103500.0   \n",
       "200339             0.405828      0.048339            37500.0   \n",
       "\n",
       "        INCOME_CREDIT_IN_PERCENTAGE   ANNUITY_INCOME_IN_PERCENTAGE  \n",
       "195170                      0.286407                      0.279941  \n",
       "50834                       0.089781                      0.318035  \n",
       "223598                      0.079470                      0.367917  \n",
       "307014                      0.174642                      0.168000  \n",
       "152059                      0.192386                      0.172553  \n",
       "...                              ...                           ...  \n",
       "127726                      0.178763                      0.222800  \n",
       "199368                      0.650000                      0.076923  \n",
       "100274                      0.745587                      0.073000  \n",
       "109139                      0.083683                      0.386739  \n",
       "200339                      0.203140                      0.237960  \n",
       "\n",
       "[246005 rows x 130 columns]"
      ]
     },
     "execution_count": 37,
     "metadata": {},
     "output_type": "execute_result"
    }
   ],
   "source": [
    "X_train"
   ]
  },
  {
   "cell_type": "code",
   "execution_count": null,
   "metadata": {},
   "outputs": [],
   "source": []
  },
  {
   "cell_type": "code",
   "execution_count": null,
   "metadata": {},
   "outputs": [],
   "source": []
  },
  {
   "cell_type": "code",
   "execution_count": 3,
   "metadata": {
    "ExecuteTime": {
     "end_time": "2021-05-04T13:54:28.649330Z",
     "start_time": "2021-05-04T13:51:53.783214Z"
    }
   },
   "outputs": [],
   "source": [
    "import os, sys\n",
    "sys.path.append(os.path.dirname(os.path.dirname(os.path.abspath(''))))\n",
    "from utils.data_extract_utils import extract_zip, extract_features_from_bureau\n",
    "\n",
    "import dropbox\n",
    "import pandas as pd\n",
    "from zipfile import ZipFile\n",
    "from utils.data_extract_utils import extract_zip, extract_features_from_bureau\n",
    "\n",
    "# Connect to dropbox\n",
    "dbx = dropbox.Dropbox('cHV7yAR0J6YAAAAAAAAAAVQ1NLCrOwerbaNltPWHslYXKuUTJ5_wfgJsuFcmx83o')\n",
    "\n",
    "data = {}\n",
    "for entry in dbx.files_list_folder('').entries:\n",
    "    response = dbx.files_download('/{}'.format(entry.name))\n",
    "    \n",
    "    if 'zip' in entry.name:\n",
    "        content = extract_zip(response[1].content)\n",
    "    \n",
    "        for file in content:\n",
    "            df = pd.read_csv(file[1])\n",
    "            data[entry.name.replace('.csv.zip', '')] = df\n",
    "            \n",
    "import gc\n",
    "def get_temp_data(data):\n",
    "    ## combine train and test set\n",
    "    train_test = data['application_train'].append(data['application_test']).reset_index()\n",
    "\n",
    "    # join tables: bureau, bureau_balance - 1 min to execute\n",
    "    bb = extract_features_from_bureau(data['bureau'], data['bureau_balance'])\n",
    "    \n",
    "    # Join ID same datatype\n",
    "    train_test['SK_ID_CURR'] = train_test['SK_ID_CURR'].astype('Int64')\n",
    "    bb.index = bb.index.astype('Int64')\n",
    "\n",
    "    # Join Bureau(s) and Application tables\n",
    "    df = train_test.join(bb, how='left', on='SK_ID_CURR', lsuffix='_left', rsuffix='_right')\n",
    "    \n",
    "    # drop index column generated by groupby\n",
    "    df.drop(['index'], axis=1, inplace=True)\n",
    "    \n",
    "    # clean memory \n",
    "    del bb\n",
    "    gc.collect()\n",
    "    \n",
    "    # preprocess \n",
    "    ## DAYS_EMPLOYED\n",
    "    df['DAYS_EMPLOYED'].replace(365243, np.nan, inplace=True)\n",
    "    df['DAYS_EMPLOYED'] =df['DAYS_EMPLOYED'].apply(lambda x: abs(x))\n",
    "\n",
    "    df['BIRTH_IN_YEARS'] = df['DAYS_BIRTH'].apply(lambda x: abs(x)/365)\n",
    "\n",
    "    # remove 4 instances\n",
    "    df = df.loc[df['CODE_GENDER'] != 'XNA', :]\n",
    "\n",
    "\n",
    "    # add new features \n",
    "    df['ALL_EXT_SOURCE_MEAN']=df[['EXT_SOURCE_1', 'EXT_SOURCE_2', 'EXT_SOURCE_3']].mean(axis = 1)\n",
    "    df['PAYMENT_RATE'] = df['AMT_ANNUITY']/df['AMT_CREDIT']\n",
    "    df['INCOME_PER_PERSON'] = df['AMT_INCOME_TOTAL']/df['CNT_FAM_MEMBERS']\n",
    "    df['INCOME_CREDIT_IN_PERCENTAGE '] = df['AMT_INCOME_TOTAL']/df['AMT_CREDIT']\n",
    "    df['ANNUITY_INCOME_IN_PERCENTAGE'] = df['AMT_ANNUITY']/df['AMT_INCOME_TOTAL']\n",
    "\n",
    "    ## label encoder for binary values\n",
    "    bin_features = ['CODE_GENDER', 'FLAG_OWN_CAR', 'FLAG_OWN_REALTY']\n",
    "\n",
    "    replace_dict = {'CODE_GENDER': {'M': 0, 'F': 1},\n",
    "                    'FLAG_OWN_CAR': {'Y': 0, 'N': 1}, \n",
    "                    'FLAG_OWN_REALTY':{'Y': 0, 'N': 1} }\n",
    "    df.replace(replace_dict, inplace=True)\n",
    "    \n",
    "    return df"
   ]
  },
  {
   "cell_type": "code",
   "execution_count": 4,
   "metadata": {
    "ExecuteTime": {
     "end_time": "2021-05-04T13:55:25.922940Z",
     "start_time": "2021-05-04T13:54:36.335161Z"
    }
   },
   "outputs": [
    {
     "name": "stderr",
     "output_type": "stream",
     "text": [
      "/Users/eyobmanhardt/opt/anaconda3/lib/python3.7/site-packages/pandas/core/frame.py:4174: SettingWithCopyWarning: \n",
      "A value is trying to be set on a copy of a slice from a DataFrame\n",
      "\n",
      "See the caveats in the documentation: https://pandas.pydata.org/pandas-docs/stable/user_guide/indexing.html#returning-a-view-versus-a-copy\n",
      "  errors=errors,\n"
     ]
    },
    {
     "data": {
      "text/plain": [
       "(14, 116)"
      ]
     },
     "execution_count": 4,
     "metadata": {},
     "output_type": "execute_result"
    }
   ],
   "source": [
    "df = get_temp_data(data)\n",
    "\n",
    "df['AMT_CREDIT_DEBT_RATIO'] = df['AMT_CREDIT_DEBT_RATIO'].apply(lambda x: x if ~np.isinf(x) else 0)\n",
    "train_df = df.loc[df['TARGET'].notnull(), :]\n",
    "test_df = df.loc[df['TARGET'].isnull(), :]\n",
    "\n",
    "y = train_df['TARGET']\n",
    "\n",
    "train_df.drop(columns= ['TARGET'], axis=1, inplace=True)\n",
    "test_df.drop(columns= ['TARGET'], axis=1, inplace=True)\n",
    "\n",
    "X_train, X_val, y_train, y_val = train_test_split(train_df, y, test_size=0.2, random_state= 42, stratify=y)\n",
    "\n",
    "cat_cols = list(X_train.select_dtypes(include=object).columns)\n",
    "num_cols = list(X_train.select_dtypes(include=[int, float]).columns)\n",
    "len(cat_cols),len(num_cols)"
   ]
  },
  {
   "cell_type": "code",
   "execution_count": 17,
   "metadata": {
    "ExecuteTime": {
     "end_time": "2021-05-04T14:20:20.568690Z",
     "start_time": "2021-05-04T14:20:20.555833Z"
    }
   },
   "outputs": [
    {
     "data": {
      "text/plain": [
       "139"
      ]
     },
     "execution_count": 17,
     "metadata": {},
     "output_type": "execute_result"
    }
   ],
   "source": [
    "X_train['ALL_EXT_SOURCE_MEAN'].isna().sum()"
   ]
  },
  {
   "cell_type": "code",
   "execution_count": 12,
   "metadata": {
    "ExecuteTime": {
     "end_time": "2021-05-04T14:16:28.165659Z",
     "start_time": "2021-05-04T14:16:28.156262Z"
    }
   },
   "outputs": [
    {
     "data": {
      "text/plain": [
       "(246005, 130)"
      ]
     },
     "execution_count": 12,
     "metadata": {},
     "output_type": "execute_result"
    }
   ],
   "source": [
    "X_train.shape"
   ]
  },
  {
   "cell_type": "markdown",
   "metadata": {},
   "source": [
    "## Test pipeline on a smaller sample "
   ]
  },
  {
   "cell_type": "code",
   "execution_count": 5,
   "metadata": {
    "ExecuteTime": {
     "end_time": "2021-05-04T14:05:32.098549Z",
     "start_time": "2021-05-04T14:05:31.813104Z"
    }
   },
   "outputs": [
    {
     "data": {
      "text/html": [
       "<div>\n",
       "<style scoped>\n",
       "    .dataframe tbody tr th:only-of-type {\n",
       "        vertical-align: middle;\n",
       "    }\n",
       "\n",
       "    .dataframe tbody tr th {\n",
       "        vertical-align: top;\n",
       "    }\n",
       "\n",
       "    .dataframe thead th {\n",
       "        text-align: right;\n",
       "    }\n",
       "</style>\n",
       "<table border=\"1\" class=\"dataframe\">\n",
       "  <thead>\n",
       "    <tr style=\"text-align: right;\">\n",
       "      <th></th>\n",
       "      <th>SK_ID_CURR</th>\n",
       "      <th>NAME_CONTRACT_TYPE</th>\n",
       "      <th>CODE_GENDER</th>\n",
       "      <th>FLAG_OWN_CAR</th>\n",
       "      <th>FLAG_OWN_REALTY</th>\n",
       "      <th>CNT_CHILDREN</th>\n",
       "      <th>AMT_INCOME_TOTAL</th>\n",
       "      <th>AMT_CREDIT</th>\n",
       "      <th>AMT_ANNUITY</th>\n",
       "      <th>AMT_GOODS_PRICE</th>\n",
       "      <th>...</th>\n",
       "      <th>AMT_REQ_CREDIT_BUREAU_YEAR</th>\n",
       "      <th>AMT_CREDIT_DEBT_RATIO</th>\n",
       "      <th>CREDIT_DAY_OVERDUE</th>\n",
       "      <th>DPD_COUNTS</th>\n",
       "      <th>BIRTH_IN_YEARS</th>\n",
       "      <th>ALL_EXT_SOURCE_MEAN</th>\n",
       "      <th>PAYMENT_RATE</th>\n",
       "      <th>INCOME_PER_PERSON</th>\n",
       "      <th>INCOME_CREDIT_IN_PERCENTAGE</th>\n",
       "      <th>ANNUITY_INCOME_IN_PERCENTAGE</th>\n",
       "    </tr>\n",
       "  </thead>\n",
       "  <tbody>\n",
       "    <tr>\n",
       "      <th>234858</th>\n",
       "      <td>372051</td>\n",
       "      <td>Cash loans</td>\n",
       "      <td>0</td>\n",
       "      <td>0</td>\n",
       "      <td>0</td>\n",
       "      <td>0</td>\n",
       "      <td>144000.0</td>\n",
       "      <td>127350.0</td>\n",
       "      <td>15241.5</td>\n",
       "      <td>112500.0</td>\n",
       "      <td>...</td>\n",
       "      <td>0.0</td>\n",
       "      <td>0.800000</td>\n",
       "      <td>0.0</td>\n",
       "      <td>0.0</td>\n",
       "      <td>26.191781</td>\n",
       "      <td>0.251322</td>\n",
       "      <td>0.119682</td>\n",
       "      <td>72000.0</td>\n",
       "      <td>1.130742</td>\n",
       "      <td>0.105844</td>\n",
       "    </tr>\n",
       "    <tr>\n",
       "      <th>190778</th>\n",
       "      <td>321213</td>\n",
       "      <td>Cash loans</td>\n",
       "      <td>0</td>\n",
       "      <td>0</td>\n",
       "      <td>0</td>\n",
       "      <td>0</td>\n",
       "      <td>180000.0</td>\n",
       "      <td>643500.0</td>\n",
       "      <td>43132.5</td>\n",
       "      <td>643500.0</td>\n",
       "      <td>...</td>\n",
       "      <td>3.0</td>\n",
       "      <td>0.000000</td>\n",
       "      <td>0.0</td>\n",
       "      <td>0.0</td>\n",
       "      <td>50.808219</td>\n",
       "      <td>0.618440</td>\n",
       "      <td>0.067028</td>\n",
       "      <td>90000.0</td>\n",
       "      <td>0.279720</td>\n",
       "      <td>0.239625</td>\n",
       "    </tr>\n",
       "    <tr>\n",
       "      <th>149228</th>\n",
       "      <td>273012</td>\n",
       "      <td>Cash loans</td>\n",
       "      <td>1</td>\n",
       "      <td>0</td>\n",
       "      <td>0</td>\n",
       "      <td>0</td>\n",
       "      <td>157500.0</td>\n",
       "      <td>225000.0</td>\n",
       "      <td>13045.5</td>\n",
       "      <td>225000.0</td>\n",
       "      <td>...</td>\n",
       "      <td>2.0</td>\n",
       "      <td>0.000000</td>\n",
       "      <td>0.0</td>\n",
       "      <td>0.0</td>\n",
       "      <td>39.120548</td>\n",
       "      <td>0.586221</td>\n",
       "      <td>0.057980</td>\n",
       "      <td>157500.0</td>\n",
       "      <td>0.700000</td>\n",
       "      <td>0.082829</td>\n",
       "    </tr>\n",
       "    <tr>\n",
       "      <th>26076</th>\n",
       "      <td>130326</td>\n",
       "      <td>Cash loans</td>\n",
       "      <td>0</td>\n",
       "      <td>0</td>\n",
       "      <td>0</td>\n",
       "      <td>0</td>\n",
       "      <td>112500.0</td>\n",
       "      <td>619254.0</td>\n",
       "      <td>24687.0</td>\n",
       "      <td>553500.0</td>\n",
       "      <td>...</td>\n",
       "      <td>3.0</td>\n",
       "      <td>0.000000</td>\n",
       "      <td>0.0</td>\n",
       "      <td>0.0</td>\n",
       "      <td>54.772603</td>\n",
       "      <td>0.408125</td>\n",
       "      <td>0.039866</td>\n",
       "      <td>112500.0</td>\n",
       "      <td>0.181670</td>\n",
       "      <td>0.219440</td>\n",
       "    </tr>\n",
       "    <tr>\n",
       "      <th>262882</th>\n",
       "      <td>404399</td>\n",
       "      <td>Cash loans</td>\n",
       "      <td>1</td>\n",
       "      <td>0</td>\n",
       "      <td>1</td>\n",
       "      <td>0</td>\n",
       "      <td>157500.0</td>\n",
       "      <td>585000.0</td>\n",
       "      <td>32796.0</td>\n",
       "      <td>585000.0</td>\n",
       "      <td>...</td>\n",
       "      <td>0.0</td>\n",
       "      <td>0.386525</td>\n",
       "      <td>0.0</td>\n",
       "      <td>0.0</td>\n",
       "      <td>49.071233</td>\n",
       "      <td>0.573582</td>\n",
       "      <td>0.056062</td>\n",
       "      <td>78750.0</td>\n",
       "      <td>0.269231</td>\n",
       "      <td>0.208229</td>\n",
       "    </tr>\n",
       "  </tbody>\n",
       "</table>\n",
       "<p>5 rows × 130 columns</p>\n",
       "</div>"
      ],
      "text/plain": [
       "       SK_ID_CURR NAME_CONTRACT_TYPE  CODE_GENDER  FLAG_OWN_CAR  \\\n",
       "234858     372051         Cash loans            0             0   \n",
       "190778     321213         Cash loans            0             0   \n",
       "149228     273012         Cash loans            1             0   \n",
       "26076      130326         Cash loans            0             0   \n",
       "262882     404399         Cash loans            1             0   \n",
       "\n",
       "        FLAG_OWN_REALTY  CNT_CHILDREN  AMT_INCOME_TOTAL  AMT_CREDIT  \\\n",
       "234858                0             0          144000.0    127350.0   \n",
       "190778                0             0          180000.0    643500.0   \n",
       "149228                0             0          157500.0    225000.0   \n",
       "26076                 0             0          112500.0    619254.0   \n",
       "262882                1             0          157500.0    585000.0   \n",
       "\n",
       "        AMT_ANNUITY  AMT_GOODS_PRICE  ... AMT_REQ_CREDIT_BUREAU_YEAR  \\\n",
       "234858      15241.5         112500.0  ...                        0.0   \n",
       "190778      43132.5         643500.0  ...                        3.0   \n",
       "149228      13045.5         225000.0  ...                        2.0   \n",
       "26076       24687.0         553500.0  ...                        3.0   \n",
       "262882      32796.0         585000.0  ...                        0.0   \n",
       "\n",
       "       AMT_CREDIT_DEBT_RATIO CREDIT_DAY_OVERDUE DPD_COUNTS BIRTH_IN_YEARS  \\\n",
       "234858              0.800000                0.0        0.0      26.191781   \n",
       "190778              0.000000                0.0        0.0      50.808219   \n",
       "149228              0.000000                0.0        0.0      39.120548   \n",
       "26076               0.000000                0.0        0.0      54.772603   \n",
       "262882              0.386525                0.0        0.0      49.071233   \n",
       "\n",
       "        ALL_EXT_SOURCE_MEAN  PAYMENT_RATE  INCOME_PER_PERSON  \\\n",
       "234858             0.251322      0.119682            72000.0   \n",
       "190778             0.618440      0.067028            90000.0   \n",
       "149228             0.586221      0.057980           157500.0   \n",
       "26076              0.408125      0.039866           112500.0   \n",
       "262882             0.573582      0.056062            78750.0   \n",
       "\n",
       "        INCOME_CREDIT_IN_PERCENTAGE   ANNUITY_INCOME_IN_PERCENTAGE  \n",
       "234858                      1.130742                      0.105844  \n",
       "190778                      0.279720                      0.239625  \n",
       "149228                      0.700000                      0.082829  \n",
       "26076                       0.181670                      0.219440  \n",
       "262882                      0.269231                      0.208229  \n",
       "\n",
       "[5 rows x 130 columns]"
      ]
     },
     "execution_count": 5,
     "metadata": {},
     "output_type": "execute_result"
    }
   ],
   "source": [
    "X_trs = X_train.sample(1000)\n",
    "X_trs.head()"
   ]
  },
  {
   "cell_type": "code",
   "execution_count": 7,
   "metadata": {
    "ExecuteTime": {
     "end_time": "2021-05-04T14:08:30.539044Z",
     "start_time": "2021-05-04T14:08:30.522405Z"
    }
   },
   "outputs": [
    {
     "data": {
      "text/plain": [
       "NAME_CONTRACT_TYPE              0\n",
       "CODE_GENDER                     0\n",
       "FLAG_OWN_CAR                    0\n",
       "FLAG_OWN_REALTY                 0\n",
       "CNT_CHILDREN                    0\n",
       "                               ..\n",
       "ALL_EXT_SOURCE_MEAN             0\n",
       "PAYMENT_RATE                    0\n",
       "INCOME_PER_PERSON               0\n",
       "INCOME_CREDIT_IN_PERCENTAGE     0\n",
       "ANNUITY_INCOME_IN_PERCENTAGE    0\n",
       "Length: 129, dtype: int64"
      ]
     },
     "execution_count": 7,
     "metadata": {},
     "output_type": "execute_result"
    }
   ],
   "source": [
    "X_trs.drop(columns=['SK_ID_CURR'], axis=1, inplace=True)\n",
    "X_trs.isna().sum()"
   ]
  },
  {
   "cell_type": "code",
   "execution_count": 19,
   "metadata": {
    "ExecuteTime": {
     "end_time": "2021-05-04T14:22:30.260270Z",
     "start_time": "2021-05-04T14:22:30.188323Z"
    }
   },
   "outputs": [
    {
     "name": "stdout",
     "output_type": "stream",
     "text": [
      "NAME_TYPE_SUITE 3\n",
      "DAYS_EMPLOYED 171\n",
      "OWN_CAR_AGE 641\n",
      "OCCUPATION_TYPE 317\n",
      "EXT_SOURCE_1 525\n",
      "EXT_SOURCE_2 2\n",
      "EXT_SOURCE_3 204\n",
      "APARTMENTS_AVG 492\n",
      "BASEMENTAREA_AVG 571\n",
      "YEARS_BEGINEXPLUATATION_AVG 476\n",
      "YEARS_BUILD_AVG 642\n",
      "COMMONAREA_AVG 676\n",
      "ELEVATORS_AVG 514\n",
      "ENTRANCES_AVG 496\n",
      "FLOORSMAX_AVG 486\n",
      "FLOORSMIN_AVG 660\n",
      "LANDAREA_AVG 579\n",
      "LIVINGAPARTMENTS_AVG 658\n",
      "LIVINGAREA_AVG 485\n",
      "NONLIVINGAPARTMENTS_AVG 668\n",
      "NONLIVINGAREA_AVG 539\n",
      "APARTMENTS_MODE 492\n",
      "BASEMENTAREA_MODE 571\n",
      "YEARS_BEGINEXPLUATATION_MODE 476\n",
      "YEARS_BUILD_MODE 642\n",
      "COMMONAREA_MODE 676\n",
      "ELEVATORS_MODE 514\n",
      "ENTRANCES_MODE 496\n",
      "FLOORSMAX_MODE 486\n",
      "FLOORSMIN_MODE 660\n",
      "LANDAREA_MODE 579\n",
      "LIVINGAPARTMENTS_MODE 658\n",
      "LIVINGAREA_MODE 485\n",
      "NONLIVINGAPARTMENTS_MODE 668\n",
      "NONLIVINGAREA_MODE 539\n",
      "APARTMENTS_MEDI 492\n",
      "BASEMENTAREA_MEDI 571\n",
      "YEARS_BEGINEXPLUATATION_MEDI 476\n",
      "YEARS_BUILD_MEDI 642\n",
      "COMMONAREA_MEDI 676\n",
      "ELEVATORS_MEDI 514\n",
      "ENTRANCES_MEDI 496\n",
      "FLOORSMAX_MEDI 486\n",
      "FLOORSMIN_MEDI 660\n",
      "LANDAREA_MEDI 579\n",
      "LIVINGAPARTMENTS_MEDI 658\n",
      "LIVINGAREA_MEDI 485\n",
      "NONLIVINGAPARTMENTS_MEDI 668\n",
      "NONLIVINGAREA_MEDI 539\n",
      "FONDKAPREMONT_MODE 659\n",
      "HOUSETYPE_MODE 487\n",
      "TOTALAREA_MODE 473\n",
      "WALLSMATERIAL_MODE 495\n",
      "EMERGENCYSTATE_MODE 467\n",
      "OBS_30_CNT_SOCIAL_CIRCLE 2\n",
      "DEF_30_CNT_SOCIAL_CIRCLE 2\n",
      "OBS_60_CNT_SOCIAL_CIRCLE 2\n",
      "DEF_60_CNT_SOCIAL_CIRCLE 2\n",
      "AMT_REQ_CREDIT_BUREAU_HOUR 144\n",
      "AMT_REQ_CREDIT_BUREAU_DAY 144\n",
      "AMT_REQ_CREDIT_BUREAU_WEEK 144\n",
      "AMT_REQ_CREDIT_BUREAU_MON 144\n",
      "AMT_REQ_CREDIT_BUREAU_QRT 144\n",
      "AMT_REQ_CREDIT_BUREAU_YEAR 144\n",
      "AMT_CREDIT_DEBT_RATIO 152\n",
      "CREDIT_DAY_OVERDUE 152\n",
      "DPD_COUNTS 152\n"
     ]
    }
   ],
   "source": [
    "for col in list(X_trs.columns):\n",
    "    y = X_trs[col].isna().sum()\n",
    "    if y > 0:\n",
    "        print(col, y)\n",
    "        "
   ]
  },
  {
   "cell_type": "code",
   "execution_count": 33,
   "metadata": {
    "ExecuteTime": {
     "end_time": "2021-05-04T14:34:31.002083Z",
     "start_time": "2021-05-04T14:34:30.995396Z"
    }
   },
   "outputs": [],
   "source": [
    "## pipelines\n",
    "\n",
    "# one hot encoding \n",
    "categorical_pipe = Pipeline(steps=[\n",
    "    ('cat_imp', SimpleImputer(strategy='most_frequent', add_indicator=False)),\n",
    "  ('one_hot_encoder', OneHotEncoder(sparse=False, handle_unknown='ignore'))\n",
    "])\n",
    "\n",
    "# numerical \n",
    "numerical_pipe = Pipeline(steps=[\n",
    "    ('num_imp', SimpleImputer(strategy='median', add_indicator=False)),\n",
    "    (\"scale\", StandardScaler())  \n",
    "])\n",
    "\n",
    "\n",
    "# transform columns \n",
    "column_transformer = ColumnTransformer(transformers=[    \n",
    "    ('num_pip', numerical_pipe, n),\n",
    "    ('cat_pipe', categorical_pipe, c)\n",
    "])"
   ]
  },
  {
   "cell_type": "code",
   "execution_count": 31,
   "metadata": {
    "ExecuteTime": {
     "end_time": "2021-05-04T14:34:04.930674Z",
     "start_time": "2021-05-04T14:34:04.923656Z"
    }
   },
   "outputs": [],
   "source": [
    "c = [i for i in X_trs.columns if X_trs[i].dtype == object]\n",
    "n = [i for i in X_trs.columns if X_trs[i].dtype != object]"
   ]
  },
  {
   "cell_type": "code",
   "execution_count": 32,
   "metadata": {
    "ExecuteTime": {
     "end_time": "2021-05-04T14:34:16.079792Z",
     "start_time": "2021-05-04T14:34:16.073678Z"
    }
   },
   "outputs": [
    {
     "name": "stdout",
     "output_type": "stream",
     "text": [
      "13 116\n"
     ]
    }
   ],
   "source": [
    "print(len(c), len(n))"
   ]
  },
  {
   "cell_type": "code",
   "execution_count": 34,
   "metadata": {
    "ExecuteTime": {
     "end_time": "2021-05-04T14:34:38.106237Z",
     "start_time": "2021-05-04T14:34:37.993493Z"
    }
   },
   "outputs": [],
   "source": [
    "pre_processing = column_transformer.fit_transform(X_trs)"
   ]
  },
  {
   "cell_type": "code",
   "execution_count": 36,
   "metadata": {
    "ExecuteTime": {
     "end_time": "2021-05-04T14:36:20.182598Z",
     "start_time": "2021-05-04T14:36:20.117485Z"
    }
   },
   "outputs": [
    {
     "data": {
      "text/html": [
       "<div>\n",
       "<style scoped>\n",
       "    .dataframe tbody tr th:only-of-type {\n",
       "        vertical-align: middle;\n",
       "    }\n",
       "\n",
       "    .dataframe tbody tr th {\n",
       "        vertical-align: top;\n",
       "    }\n",
       "\n",
       "    .dataframe thead th {\n",
       "        text-align: right;\n",
       "    }\n",
       "</style>\n",
       "<table border=\"1\" class=\"dataframe\">\n",
       "  <thead>\n",
       "    <tr style=\"text-align: right;\">\n",
       "      <th></th>\n",
       "      <th>0</th>\n",
       "      <th>1</th>\n",
       "      <th>2</th>\n",
       "      <th>3</th>\n",
       "      <th>4</th>\n",
       "      <th>5</th>\n",
       "      <th>6</th>\n",
       "      <th>7</th>\n",
       "      <th>8</th>\n",
       "      <th>9</th>\n",
       "      <th>...</th>\n",
       "      <th>225</th>\n",
       "      <th>226</th>\n",
       "      <th>227</th>\n",
       "      <th>228</th>\n",
       "      <th>229</th>\n",
       "      <th>230</th>\n",
       "      <th>231</th>\n",
       "      <th>232</th>\n",
       "      <th>233</th>\n",
       "      <th>234</th>\n",
       "    </tr>\n",
       "  </thead>\n",
       "  <tbody>\n",
       "    <tr>\n",
       "      <th>0</th>\n",
       "      <td>-1.336232</td>\n",
       "      <td>-1.336232</td>\n",
       "      <td>-0.660895</td>\n",
       "      <td>-0.603144</td>\n",
       "      <td>-0.294351</td>\n",
       "      <td>-1.226472</td>\n",
       "      <td>-0.876465</td>\n",
       "      <td>-1.206944</td>\n",
       "      <td>-1.368633</td>\n",
       "      <td>1.418092</td>\n",
       "      <td>...</td>\n",
       "      <td>0.0</td>\n",
       "      <td>0.0</td>\n",
       "      <td>0.0</td>\n",
       "      <td>0.0</td>\n",
       "      <td>0.0</td>\n",
       "      <td>0.0</td>\n",
       "      <td>1.0</td>\n",
       "      <td>0.0</td>\n",
       "      <td>1.0</td>\n",
       "      <td>0.0</td>\n",
       "    </tr>\n",
       "    <tr>\n",
       "      <th>1</th>\n",
       "      <td>-1.336232</td>\n",
       "      <td>-1.336232</td>\n",
       "      <td>-0.660895</td>\n",
       "      <td>-0.603144</td>\n",
       "      <td>0.058813</td>\n",
       "      <td>0.122059</td>\n",
       "      <td>1.204732</td>\n",
       "      <td>0.306801</td>\n",
       "      <td>1.080360</td>\n",
       "      <td>-0.607130</td>\n",
       "      <td>...</td>\n",
       "      <td>0.0</td>\n",
       "      <td>0.0</td>\n",
       "      <td>0.0</td>\n",
       "      <td>0.0</td>\n",
       "      <td>0.0</td>\n",
       "      <td>0.0</td>\n",
       "      <td>1.0</td>\n",
       "      <td>0.0</td>\n",
       "      <td>1.0</td>\n",
       "      <td>0.0</td>\n",
       "    </tr>\n",
       "    <tr>\n",
       "      <th>2</th>\n",
       "      <td>0.748373</td>\n",
       "      <td>-1.336232</td>\n",
       "      <td>-0.660895</td>\n",
       "      <td>-0.603144</td>\n",
       "      <td>-0.161915</td>\n",
       "      <td>-0.971344</td>\n",
       "      <td>-1.040328</td>\n",
       "      <td>-0.886235</td>\n",
       "      <td>0.563060</td>\n",
       "      <td>0.354428</td>\n",
       "      <td>...</td>\n",
       "      <td>0.0</td>\n",
       "      <td>0.0</td>\n",
       "      <td>1.0</td>\n",
       "      <td>0.0</td>\n",
       "      <td>0.0</td>\n",
       "      <td>0.0</td>\n",
       "      <td>0.0</td>\n",
       "      <td>0.0</td>\n",
       "      <td>1.0</td>\n",
       "      <td>0.0</td>\n",
       "    </tr>\n",
       "    <tr>\n",
       "      <th>3</th>\n",
       "      <td>-1.336232</td>\n",
       "      <td>-1.336232</td>\n",
       "      <td>-0.660895</td>\n",
       "      <td>-0.603144</td>\n",
       "      <td>-0.603370</td>\n",
       "      <td>0.058712</td>\n",
       "      <td>-0.171651</td>\n",
       "      <td>0.050234</td>\n",
       "      <td>-0.088118</td>\n",
       "      <td>-0.933285</td>\n",
       "      <td>...</td>\n",
       "      <td>0.0</td>\n",
       "      <td>0.0</td>\n",
       "      <td>0.0</td>\n",
       "      <td>0.0</td>\n",
       "      <td>0.0</td>\n",
       "      <td>0.0</td>\n",
       "      <td>1.0</td>\n",
       "      <td>0.0</td>\n",
       "      <td>1.0</td>\n",
       "      <td>0.0</td>\n",
       "    </tr>\n",
       "    <tr>\n",
       "      <th>4</th>\n",
       "      <td>0.748373</td>\n",
       "      <td>-1.336232</td>\n",
       "      <td>1.513101</td>\n",
       "      <td>-0.603144</td>\n",
       "      <td>-0.161915</td>\n",
       "      <td>-0.030782</td>\n",
       "      <td>0.433434</td>\n",
       "      <td>0.140033</td>\n",
       "      <td>-0.986735</td>\n",
       "      <td>-0.464226</td>\n",
       "      <td>...</td>\n",
       "      <td>0.0</td>\n",
       "      <td>0.0</td>\n",
       "      <td>0.0</td>\n",
       "      <td>0.0</td>\n",
       "      <td>0.0</td>\n",
       "      <td>1.0</td>\n",
       "      <td>0.0</td>\n",
       "      <td>0.0</td>\n",
       "      <td>1.0</td>\n",
       "      <td>0.0</td>\n",
       "    </tr>\n",
       "    <tr>\n",
       "      <th>...</th>\n",
       "      <td>...</td>\n",
       "      <td>...</td>\n",
       "      <td>...</td>\n",
       "      <td>...</td>\n",
       "      <td>...</td>\n",
       "      <td>...</td>\n",
       "      <td>...</td>\n",
       "      <td>...</td>\n",
       "      <td>...</td>\n",
       "      <td>...</td>\n",
       "      <td>...</td>\n",
       "      <td>...</td>\n",
       "      <td>...</td>\n",
       "      <td>...</td>\n",
       "      <td>...</td>\n",
       "      <td>...</td>\n",
       "      <td>...</td>\n",
       "      <td>...</td>\n",
       "      <td>...</td>\n",
       "      <td>...</td>\n",
       "      <td>...</td>\n",
       "    </tr>\n",
       "    <tr>\n",
       "      <th>995</th>\n",
       "      <td>0.748373</td>\n",
       "      <td>0.748373</td>\n",
       "      <td>-0.660895</td>\n",
       "      <td>-0.603144</td>\n",
       "      <td>1.383180</td>\n",
       "      <td>2.708534</td>\n",
       "      <td>1.347777</td>\n",
       "      <td>2.359336</td>\n",
       "      <td>-0.013814</td>\n",
       "      <td>-1.249972</td>\n",
       "      <td>...</td>\n",
       "      <td>0.0</td>\n",
       "      <td>0.0</td>\n",
       "      <td>0.0</td>\n",
       "      <td>0.0</td>\n",
       "      <td>0.0</td>\n",
       "      <td>1.0</td>\n",
       "      <td>0.0</td>\n",
       "      <td>0.0</td>\n",
       "      <td>1.0</td>\n",
       "      <td>0.0</td>\n",
       "    </tr>\n",
       "    <tr>\n",
       "      <th>996</th>\n",
       "      <td>-1.336232</td>\n",
       "      <td>0.748373</td>\n",
       "      <td>-0.660895</td>\n",
       "      <td>0.878783</td>\n",
       "      <td>-0.603370</td>\n",
       "      <td>-0.383493</td>\n",
       "      <td>-0.438601</td>\n",
       "      <td>-0.244818</td>\n",
       "      <td>-0.195511</td>\n",
       "      <td>1.080667</td>\n",
       "      <td>...</td>\n",
       "      <td>0.0</td>\n",
       "      <td>0.0</td>\n",
       "      <td>0.0</td>\n",
       "      <td>0.0</td>\n",
       "      <td>0.0</td>\n",
       "      <td>0.0</td>\n",
       "      <td>1.0</td>\n",
       "      <td>0.0</td>\n",
       "      <td>1.0</td>\n",
       "      <td>0.0</td>\n",
       "    </tr>\n",
       "    <tr>\n",
       "      <th>997</th>\n",
       "      <td>0.748373</td>\n",
       "      <td>0.748373</td>\n",
       "      <td>-0.660895</td>\n",
       "      <td>-0.603144</td>\n",
       "      <td>0.058813</td>\n",
       "      <td>1.200954</td>\n",
       "      <td>0.538870</td>\n",
       "      <td>1.102159</td>\n",
       "      <td>-0.934925</td>\n",
       "      <td>1.125748</td>\n",
       "      <td>...</td>\n",
       "      <td>0.0</td>\n",
       "      <td>0.0</td>\n",
       "      <td>0.0</td>\n",
       "      <td>0.0</td>\n",
       "      <td>0.0</td>\n",
       "      <td>1.0</td>\n",
       "      <td>0.0</td>\n",
       "      <td>0.0</td>\n",
       "      <td>1.0</td>\n",
       "      <td>0.0</td>\n",
       "    </tr>\n",
       "    <tr>\n",
       "      <th>998</th>\n",
       "      <td>-1.336232</td>\n",
       "      <td>-1.336232</td>\n",
       "      <td>-0.660895</td>\n",
       "      <td>0.878783</td>\n",
       "      <td>0.500269</td>\n",
       "      <td>-1.232256</td>\n",
       "      <td>-1.337162</td>\n",
       "      <td>-1.245429</td>\n",
       "      <td>0.714862</td>\n",
       "      <td>1.204863</td>\n",
       "      <td>...</td>\n",
       "      <td>0.0</td>\n",
       "      <td>0.0</td>\n",
       "      <td>0.0</td>\n",
       "      <td>0.0</td>\n",
       "      <td>0.0</td>\n",
       "      <td>0.0</td>\n",
       "      <td>1.0</td>\n",
       "      <td>0.0</td>\n",
       "      <td>1.0</td>\n",
       "      <td>0.0</td>\n",
       "    </tr>\n",
       "    <tr>\n",
       "      <th>999</th>\n",
       "      <td>0.748373</td>\n",
       "      <td>0.748373</td>\n",
       "      <td>-0.660895</td>\n",
       "      <td>-0.603144</td>\n",
       "      <td>-1.044826</td>\n",
       "      <td>-1.293016</td>\n",
       "      <td>-1.102112</td>\n",
       "      <td>-1.271085</td>\n",
       "      <td>-0.901909</td>\n",
       "      <td>0.057350</td>\n",
       "      <td>...</td>\n",
       "      <td>0.0</td>\n",
       "      <td>0.0</td>\n",
       "      <td>0.0</td>\n",
       "      <td>0.0</td>\n",
       "      <td>0.0</td>\n",
       "      <td>0.0</td>\n",
       "      <td>1.0</td>\n",
       "      <td>0.0</td>\n",
       "      <td>1.0</td>\n",
       "      <td>0.0</td>\n",
       "    </tr>\n",
       "  </tbody>\n",
       "</table>\n",
       "<p>1000 rows × 235 columns</p>\n",
       "</div>"
      ],
      "text/plain": [
       "          0         1         2         3         4         5         6    \\\n",
       "0   -1.336232 -1.336232 -0.660895 -0.603144 -0.294351 -1.226472 -0.876465   \n",
       "1   -1.336232 -1.336232 -0.660895 -0.603144  0.058813  0.122059  1.204732   \n",
       "2    0.748373 -1.336232 -0.660895 -0.603144 -0.161915 -0.971344 -1.040328   \n",
       "3   -1.336232 -1.336232 -0.660895 -0.603144 -0.603370  0.058712 -0.171651   \n",
       "4    0.748373 -1.336232  1.513101 -0.603144 -0.161915 -0.030782  0.433434   \n",
       "..        ...       ...       ...       ...       ...       ...       ...   \n",
       "995  0.748373  0.748373 -0.660895 -0.603144  1.383180  2.708534  1.347777   \n",
       "996 -1.336232  0.748373 -0.660895  0.878783 -0.603370 -0.383493 -0.438601   \n",
       "997  0.748373  0.748373 -0.660895 -0.603144  0.058813  1.200954  0.538870   \n",
       "998 -1.336232 -1.336232 -0.660895  0.878783  0.500269 -1.232256 -1.337162   \n",
       "999  0.748373  0.748373 -0.660895 -0.603144 -1.044826 -1.293016 -1.102112   \n",
       "\n",
       "          7         8         9    ...  225  226  227  228  229  230  231  \\\n",
       "0   -1.206944 -1.368633  1.418092  ...  0.0  0.0  0.0  0.0  0.0  0.0  1.0   \n",
       "1    0.306801  1.080360 -0.607130  ...  0.0  0.0  0.0  0.0  0.0  0.0  1.0   \n",
       "2   -0.886235  0.563060  0.354428  ...  0.0  0.0  1.0  0.0  0.0  0.0  0.0   \n",
       "3    0.050234 -0.088118 -0.933285  ...  0.0  0.0  0.0  0.0  0.0  0.0  1.0   \n",
       "4    0.140033 -0.986735 -0.464226  ...  0.0  0.0  0.0  0.0  0.0  1.0  0.0   \n",
       "..        ...       ...       ...  ...  ...  ...  ...  ...  ...  ...  ...   \n",
       "995  2.359336 -0.013814 -1.249972  ...  0.0  0.0  0.0  0.0  0.0  1.0  0.0   \n",
       "996 -0.244818 -0.195511  1.080667  ...  0.0  0.0  0.0  0.0  0.0  0.0  1.0   \n",
       "997  1.102159 -0.934925  1.125748  ...  0.0  0.0  0.0  0.0  0.0  1.0  0.0   \n",
       "998 -1.245429  0.714862  1.204863  ...  0.0  0.0  0.0  0.0  0.0  0.0  1.0   \n",
       "999 -1.271085 -0.901909  0.057350  ...  0.0  0.0  0.0  0.0  0.0  0.0  1.0   \n",
       "\n",
       "     232  233  234  \n",
       "0    0.0  1.0  0.0  \n",
       "1    0.0  1.0  0.0  \n",
       "2    0.0  1.0  0.0  \n",
       "3    0.0  1.0  0.0  \n",
       "4    0.0  1.0  0.0  \n",
       "..   ...  ...  ...  \n",
       "995  0.0  1.0  0.0  \n",
       "996  0.0  1.0  0.0  \n",
       "997  0.0  1.0  0.0  \n",
       "998  0.0  1.0  0.0  \n",
       "999  0.0  1.0  0.0  \n",
       "\n",
       "[1000 rows x 235 columns]"
      ]
     },
     "execution_count": 36,
     "metadata": {},
     "output_type": "execute_result"
    }
   ],
   "source": [
    "pd.DataFrame(pre_processing)"
   ]
  },
  {
   "cell_type": "code",
   "execution_count": null,
   "metadata": {},
   "outputs": [],
   "source": []
  },
  {
   "cell_type": "code",
   "execution_count": null,
   "metadata": {},
   "outputs": [],
   "source": []
  },
  {
   "cell_type": "code",
   "execution_count": null,
   "metadata": {},
   "outputs": [],
   "source": []
  },
  {
   "cell_type": "code",
   "execution_count": null,
   "metadata": {},
   "outputs": [],
   "source": []
  },
  {
   "cell_type": "code",
   "execution_count": null,
   "metadata": {},
   "outputs": [],
   "source": []
  }
 ],
 "metadata": {
  "kernelspec": {
   "display_name": "Python 3",
   "language": "python",
   "name": "python3"
  },
  "language_info": {
   "codemirror_mode": {
    "name": "ipython",
    "version": 3
   },
   "file_extension": ".py",
   "mimetype": "text/x-python",
   "name": "python",
   "nbconvert_exporter": "python",
   "pygments_lexer": "ipython3",
   "version": "3.7.4"
  },
  "toc": {
   "base_numbering": 1,
   "nav_menu": {},
   "number_sections": true,
   "sideBar": true,
   "skip_h1_title": false,
   "title_cell": "Table of Contents",
   "title_sidebar": "Contents",
   "toc_cell": false,
   "toc_position": {},
   "toc_section_display": true,
   "toc_window_display": false
  },
  "varInspector": {
   "cols": {
    "lenName": 16,
    "lenType": 16,
    "lenVar": 40
   },
   "kernels_config": {
    "python": {
     "delete_cmd_postfix": "",
     "delete_cmd_prefix": "del ",
     "library": "var_list.py",
     "varRefreshCmd": "print(var_dic_list())"
    },
    "r": {
     "delete_cmd_postfix": ") ",
     "delete_cmd_prefix": "rm(",
     "library": "var_list.r",
     "varRefreshCmd": "cat(var_dic_list()) "
    }
   },
   "types_to_exclude": [
    "module",
    "function",
    "builtin_function_or_method",
    "instance",
    "_Feature"
   ],
   "window_display": true
  }
 },
 "nbformat": 4,
 "nbformat_minor": 2
}
