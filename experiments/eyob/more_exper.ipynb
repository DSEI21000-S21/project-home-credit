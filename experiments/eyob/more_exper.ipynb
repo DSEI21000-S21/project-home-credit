{
 "cells": [
  {
   "cell_type": "code",
   "execution_count": 1,
   "metadata": {
    "ExecuteTime": {
     "end_time": "2021-05-10T22:43:07.083088Z",
     "start_time": "2021-05-10T22:43:01.988238Z"
    }
   },
   "outputs": [
    {
     "name": "stderr",
     "output_type": "stream",
     "text": [
      "\n",
      "Bad key \"text.kerning_factor\" on line 4 in\n",
      "/Users/eyobmanhardt/opt/anaconda3/lib/python3.7/site-packages/matplotlib/mpl-data/stylelib/_classic_test_patch.mplstyle.\n",
      "You probably need to get an updated matplotlibrc file from\n",
      "https://github.com/matplotlib/matplotlib/blob/v3.1.3/matplotlibrc.template\n",
      "or from the matplotlib source distribution\n"
     ]
    }
   ],
   "source": [
    "# useful libraries \n",
    "import pandas as pd\n",
    "import numpy as np\n",
    "import matplotlib.pyplot as plt"
   ]
  },
  {
   "cell_type": "code",
   "execution_count": 2,
   "metadata": {
    "ExecuteTime": {
     "end_time": "2021-05-10T22:45:36.797354Z",
     "start_time": "2021-05-10T22:43:12.679922Z"
    }
   },
   "outputs": [],
   "source": [
    "import os, sys\n",
    "import dropbox\n",
    "#import pandas as pd\n",
    "from zipfile import ZipFile\n",
    "sys.path.append(os.path.dirname(os.path.dirname(os.path.abspath(''))))\n",
    "from utils.data_extract_utils import extract_zip, extract_features_from_bureau\n",
    "\n",
    "# say someting ....\n",
    "# sys.path.append(os.path.dirname(os.path.dirname(os.path.abspath(''))))\n",
    "\n",
    "# Connect to dropbox\n",
    "dbx = dropbox.Dropbox('cHV7yAR0J6YAAAAAAAAAAVQ1NLCrOwerbaNltPWHslYXKuUTJ5_wfgJsuFcmx83o')\n",
    "\n",
    "data = {}\n",
    "for entry in dbx.files_list_folder('').entries:\n",
    "    response = dbx.files_download('/{}'.format(entry.name))\n",
    "    \n",
    "    if 'zip' in entry.name:\n",
    "        content = extract_zip(response[1].content)\n",
    "    \n",
    "        for file in content:\n",
    "            df = pd.read_csv(file[1])\n",
    "            data[entry.name.replace('.csv.zip', '')] = df"
   ]
  },
  {
   "cell_type": "code",
   "execution_count": 87,
   "metadata": {
    "ExecuteTime": {
     "end_time": "2021-05-11T02:43:17.010002Z",
     "start_time": "2021-05-11T02:43:14.564199Z"
    }
   },
   "outputs": [],
   "source": [
    "application = data['application_train'].append(data['application_test']).reset_index()"
   ]
  },
  {
   "cell_type": "code",
   "execution_count": 4,
   "metadata": {
    "ExecuteTime": {
     "end_time": "2021-05-10T22:47:53.287052Z",
     "start_time": "2021-05-10T22:47:53.276235Z"
    }
   },
   "outputs": [],
   "source": [
    "def get_missing_data_info(df):\n",
    "    \"\"\"\n",
    "    add description .. \n",
    "    \n",
    "    \"\"\"\n",
    "    num_of_instance, _ = df.shape\n",
    "    #print(num_of_instance)\n",
    "    names = {'index': 'feature', \n",
    "             0: 'PERC_missing_data'}\n",
    "    \n",
    "    missing_df = (df.isnull() \\\n",
    "        .sum(axis=0)/num_of_instance) \\\n",
    "        .to_frame() \\\n",
    "        .reset_index() \\\n",
    "        .rename(columns=names) \\\n",
    "        .sort_values(by='PERC_missing_data', ascending=False) \\\n",
    "        .reset_index(drop=True)\n",
    "    \n",
    "    d = {}\n",
    "    # no missing \n",
    "    zero = missing_df[missing_df['PERC_missing_data'] == 0]\n",
    "    d['x = 0'] = list(zero.feature)\n",
    "    le_10 = missing_df[(missing_df['PERC_missing_data'] > 0.0) & (missing_df['PERC_missing_data'] <= 0.1)]\n",
    "    \n",
    "    d['0< x <= 25'] = list(missing_df[(missing_df['PERC_missing_data'] > 0.0) & (missing_df['PERC_missing_data'] <= 0.25)].feature)\n",
    "    \n",
    "    d['25 < x <= 50'] = list(missing_df[(missing_df['PERC_missing_data'] > 0.25) & (missing_df['PERC_missing_data'] <= 0.5)].feature)\n",
    "    \n",
    "    d['x > 50'] = list(missing_df[missing_df['PERC_missing_data'] > 0.5].feature)\n",
    "    \n",
    "    return missing_df, d"
   ]
  },
  {
   "cell_type": "code",
   "execution_count": 7,
   "metadata": {
    "ExecuteTime": {
     "end_time": "2021-05-10T22:51:06.855185Z",
     "start_time": "2021-05-10T22:51:06.849041Z"
    }
   },
   "outputs": [
    {
     "name": "stdout",
     "output_type": "stream",
     "text": [
      "good\n"
     ]
    }
   ],
   "source": [
    "cols = [i for i in list(application.columns) if i != 'TARGET']\n",
    "if 'TARGET' in cols:\n",
    "    print('ahhh')\n",
    "else:\n",
    "    print('good')"
   ]
  },
  {
   "cell_type": "code",
   "execution_count": 94,
   "metadata": {
    "ExecuteTime": {
     "end_time": "2021-05-11T02:59:17.026740Z",
     "start_time": "2021-05-11T02:59:17.017309Z"
    }
   },
   "outputs": [
    {
     "data": {
      "text/plain": [
       "['COMMONAREA_MODE',\n",
       " 'COMMONAREA_AVG',\n",
       " 'COMMONAREA_MEDI',\n",
       " 'NONLIVINGAPARTMENTS_MODE',\n",
       " 'NONLIVINGAPARTMENTS_AVG',\n",
       " 'NONLIVINGAPARTMENTS_MEDI',\n",
       " 'FONDKAPREMONT_MODE',\n",
       " 'LIVINGAPARTMENTS_MEDI',\n",
       " 'LIVINGAPARTMENTS_AVG',\n",
       " 'LIVINGAPARTMENTS_MODE',\n",
       " 'FLOORSMIN_MODE',\n",
       " 'FLOORSMIN_AVG',\n",
       " 'FLOORSMIN_MEDI',\n",
       " 'YEARS_BUILD_MEDI',\n",
       " 'YEARS_BUILD_MODE',\n",
       " 'YEARS_BUILD_AVG',\n",
       " 'OWN_CAR_AGE',\n",
       " 'LANDAREA_MEDI',\n",
       " 'LANDAREA_MODE',\n",
       " 'LANDAREA_AVG',\n",
       " 'BASEMENTAREA_MODE',\n",
       " 'BASEMENTAREA_MEDI',\n",
       " 'BASEMENTAREA_AVG',\n",
       " 'NONLIVINGAREA_AVG',\n",
       " 'NONLIVINGAREA_MEDI',\n",
       " 'NONLIVINGAREA_MODE',\n",
       " 'EXT_SOURCE_1',\n",
       " 'ELEVATORS_MEDI',\n",
       " 'ELEVATORS_MODE',\n",
       " 'ELEVATORS_AVG',\n",
       " 'WALLSMATERIAL_MODE',\n",
       " 'APARTMENTS_MODE',\n",
       " 'APARTMENTS_MEDI',\n",
       " 'APARTMENTS_AVG',\n",
       " 'ENTRANCES_AVG',\n",
       " 'ENTRANCES_MODE',\n",
       " 'ENTRANCES_MEDI']"
      ]
     },
     "execution_count": 94,
     "metadata": {},
     "output_type": "execute_result"
    }
   ],
   "source": [
    "d['x > 50']"
   ]
  },
  {
   "cell_type": "code",
   "execution_count": 8,
   "metadata": {
    "ExecuteTime": {
     "end_time": "2021-05-10T22:56:11.110203Z",
     "start_time": "2021-05-10T22:56:07.013884Z"
    }
   },
   "outputs": [
    {
     "name": "stdout",
     "output_type": "stream",
     "text": [
      "COMMONAREA_MODE\n",
      "COMMONAREA_AVG\n",
      "COMMONAREA_MEDI\n",
      "NONLIVINGAPARTMENTS_MODE\n",
      "NONLIVINGAPARTMENTS_AVG\n",
      "NONLIVINGAPARTMENTS_MEDI\n",
      "FONDKAPREMONT_MODE\n",
      "LIVINGAPARTMENTS_MEDI\n",
      "LIVINGAPARTMENTS_AVG\n",
      "LIVINGAPARTMENTS_MODE\n",
      "FLOORSMIN_MODE\n",
      "FLOORSMIN_AVG\n",
      "FLOORSMIN_MEDI\n",
      "YEARS_BUILD_MEDI\n",
      "YEARS_BUILD_MODE\n",
      "YEARS_BUILD_AVG\n",
      "OWN_CAR_AGE\n",
      "LANDAREA_MEDI\n",
      "LANDAREA_MODE\n",
      "LANDAREA_AVG\n",
      "BASEMENTAREA_MODE\n",
      "BASEMENTAREA_MEDI\n",
      "BASEMENTAREA_AVG\n",
      "NONLIVINGAREA_AVG\n",
      "NONLIVINGAREA_MEDI\n",
      "NONLIVINGAREA_MODE\n",
      "EXT_SOURCE_1\n",
      "ELEVATORS_MEDI\n",
      "ELEVATORS_MODE\n",
      "ELEVATORS_AVG\n",
      "WALLSMATERIAL_MODE\n",
      "APARTMENTS_MODE\n",
      "APARTMENTS_MEDI\n",
      "APARTMENTS_AVG\n",
      "ENTRANCES_AVG\n",
      "ENTRANCES_MODE\n",
      "ENTRANCES_MEDI\n"
     ]
    }
   ],
   "source": [
    "app_missing_info, d = get_missing_data_info(application.loc[:,cols])\n",
    "for col in d['x > 50']:\n",
    "    print(col)"
   ]
  },
  {
   "cell_type": "markdown",
   "metadata": {},
   "source": [
    "- remove all feature with missing values > 50\n",
    "- first aggergate the mean and sum of all EXT_SOURCE"
   ]
  },
  {
   "cell_type": "code",
   "execution_count": 17,
   "metadata": {
    "ExecuteTime": {
     "end_time": "2021-05-10T23:07:06.515113Z",
     "start_time": "2021-05-10T23:07:06.494238Z"
    }
   },
   "outputs": [],
   "source": [
    "tt1 = application[['EXT_SOURCE_1', 'EXT_SOURCE_2', 'EXT_SOURCE_3']].mean(axis = 1)\n",
    "tt1 = tt1.to_frame()"
   ]
  },
  {
   "cell_type": "code",
   "execution_count": 11,
   "metadata": {
    "ExecuteTime": {
     "end_time": "2021-05-10T23:01:32.000498Z",
     "start_time": "2021-05-10T23:01:31.991573Z"
    }
   },
   "outputs": [
    {
     "data": {
      "text/plain": [
       "0.9994975509115661"
      ]
     },
     "execution_count": 11,
     "metadata": {},
     "output_type": "execute_result"
    }
   ],
   "source": [
    "356076/356255"
   ]
  },
  {
   "cell_type": "code",
   "execution_count": 14,
   "metadata": {
    "ExecuteTime": {
     "end_time": "2021-05-10T23:02:12.827480Z",
     "start_time": "2021-05-10T23:02:12.756447Z"
    }
   },
   "outputs": [
    {
     "data": {
      "text/html": [
       "<div>\n",
       "<style scoped>\n",
       "    .dataframe tbody tr th:only-of-type {\n",
       "        vertical-align: middle;\n",
       "    }\n",
       "\n",
       "    .dataframe tbody tr th {\n",
       "        vertical-align: top;\n",
       "    }\n",
       "\n",
       "    .dataframe thead th {\n",
       "        text-align: right;\n",
       "    }\n",
       "</style>\n",
       "<table border=\"1\" class=\"dataframe\">\n",
       "  <thead>\n",
       "    <tr style=\"text-align: right;\">\n",
       "      <th></th>\n",
       "      <th>0</th>\n",
       "    </tr>\n",
       "  </thead>\n",
       "  <tbody>\n",
       "    <tr>\n",
       "      <th>0</th>\n",
       "      <td>0.161787</td>\n",
       "    </tr>\n",
       "    <tr>\n",
       "      <th>1</th>\n",
       "      <td>0.466757</td>\n",
       "    </tr>\n",
       "    <tr>\n",
       "      <th>2</th>\n",
       "      <td>0.642739</td>\n",
       "    </tr>\n",
       "    <tr>\n",
       "      <th>3</th>\n",
       "      <td>0.650442</td>\n",
       "    </tr>\n",
       "    <tr>\n",
       "      <th>4</th>\n",
       "      <td>0.322738</td>\n",
       "    </tr>\n",
       "  </tbody>\n",
       "</table>\n",
       "</div>"
      ],
      "text/plain": [
       "          0\n",
       "0  0.161787\n",
       "1  0.466757\n",
       "2  0.642739\n",
       "3  0.650442\n",
       "4  0.322738"
      ]
     },
     "execution_count": 14,
     "metadata": {},
     "output_type": "execute_result"
    }
   ],
   "source": [
    "tt1.head()"
   ]
  },
  {
   "cell_type": "code",
   "execution_count": 15,
   "metadata": {
    "ExecuteTime": {
     "end_time": "2021-05-10T23:03:09.845387Z",
     "start_time": "2021-05-10T23:03:09.823329Z"
    }
   },
   "outputs": [
    {
     "data": {
      "text/plain": [
       "0    179\n",
       "dtype: int64"
      ]
     },
     "execution_count": 15,
     "metadata": {},
     "output_type": "execute_result"
    }
   ],
   "source": [
    "tt1.isnull().sum()"
   ]
  },
  {
   "cell_type": "code",
   "execution_count": 18,
   "metadata": {
    "ExecuteTime": {
     "end_time": "2021-05-10T23:08:06.537769Z",
     "start_time": "2021-05-10T23:08:06.321258Z"
    }
   },
   "outputs": [
    {
     "data": {
      "text/html": [
       "<div>\n",
       "<style scoped>\n",
       "    .dataframe tbody tr th:only-of-type {\n",
       "        vertical-align: middle;\n",
       "    }\n",
       "\n",
       "    .dataframe tbody tr th {\n",
       "        vertical-align: top;\n",
       "    }\n",
       "\n",
       "    .dataframe thead th {\n",
       "        text-align: right;\n",
       "    }\n",
       "</style>\n",
       "<table border=\"1\" class=\"dataframe\">\n",
       "  <thead>\n",
       "    <tr style=\"text-align: right;\">\n",
       "      <th></th>\n",
       "      <th>0</th>\n",
       "    </tr>\n",
       "  </thead>\n",
       "  <tbody>\n",
       "    <tr>\n",
       "      <th>0</th>\n",
       "      <td>0.485361</td>\n",
       "    </tr>\n",
       "    <tr>\n",
       "      <th>1</th>\n",
       "      <td>0.933513</td>\n",
       "    </tr>\n",
       "    <tr>\n",
       "      <th>2</th>\n",
       "      <td>1.285479</td>\n",
       "    </tr>\n",
       "    <tr>\n",
       "      <th>3</th>\n",
       "      <td>0.650442</td>\n",
       "    </tr>\n",
       "    <tr>\n",
       "      <th>4</th>\n",
       "      <td>0.322738</td>\n",
       "    </tr>\n",
       "  </tbody>\n",
       "</table>\n",
       "</div>"
      ],
      "text/plain": [
       "          0\n",
       "0  0.485361\n",
       "1  0.933513\n",
       "2  1.285479\n",
       "3  0.650442\n",
       "4  0.322738"
      ]
     },
     "execution_count": 18,
     "metadata": {},
     "output_type": "execute_result"
    }
   ],
   "source": [
    "tt2 = application[['EXT_SOURCE_1', 'EXT_SOURCE_2', 'EXT_SOURCE_3']].sum(axis = 1)\n",
    "tt2 = tt2.to_frame()\n",
    "tt2.head()"
   ]
  },
  {
   "cell_type": "code",
   "execution_count": 19,
   "metadata": {
    "ExecuteTime": {
     "end_time": "2021-05-10T23:08:26.216149Z",
     "start_time": "2021-05-10T23:08:26.194925Z"
    }
   },
   "outputs": [
    {
     "data": {
      "text/html": [
       "<div>\n",
       "<style scoped>\n",
       "    .dataframe tbody tr th:only-of-type {\n",
       "        vertical-align: middle;\n",
       "    }\n",
       "\n",
       "    .dataframe tbody tr th {\n",
       "        vertical-align: top;\n",
       "    }\n",
       "\n",
       "    .dataframe thead th {\n",
       "        text-align: right;\n",
       "    }\n",
       "</style>\n",
       "<table border=\"1\" class=\"dataframe\">\n",
       "  <thead>\n",
       "    <tr style=\"text-align: right;\">\n",
       "      <th></th>\n",
       "      <th>EXT_SOURCE_1</th>\n",
       "      <th>EXT_SOURCE_2</th>\n",
       "      <th>EXT_SOURCE_3</th>\n",
       "    </tr>\n",
       "  </thead>\n",
       "  <tbody>\n",
       "    <tr>\n",
       "      <th>0</th>\n",
       "      <td>0.083037</td>\n",
       "      <td>0.262949</td>\n",
       "      <td>0.139376</td>\n",
       "    </tr>\n",
       "    <tr>\n",
       "      <th>1</th>\n",
       "      <td>0.311267</td>\n",
       "      <td>0.622246</td>\n",
       "      <td>NaN</td>\n",
       "    </tr>\n",
       "    <tr>\n",
       "      <th>2</th>\n",
       "      <td>NaN</td>\n",
       "      <td>0.555912</td>\n",
       "      <td>0.729567</td>\n",
       "    </tr>\n",
       "    <tr>\n",
       "      <th>3</th>\n",
       "      <td>NaN</td>\n",
       "      <td>0.650442</td>\n",
       "      <td>NaN</td>\n",
       "    </tr>\n",
       "    <tr>\n",
       "      <th>4</th>\n",
       "      <td>NaN</td>\n",
       "      <td>0.322738</td>\n",
       "      <td>NaN</td>\n",
       "    </tr>\n",
       "  </tbody>\n",
       "</table>\n",
       "</div>"
      ],
      "text/plain": [
       "   EXT_SOURCE_1  EXT_SOURCE_2  EXT_SOURCE_3\n",
       "0      0.083037      0.262949      0.139376\n",
       "1      0.311267      0.622246           NaN\n",
       "2           NaN      0.555912      0.729567\n",
       "3           NaN      0.650442           NaN\n",
       "4           NaN      0.322738           NaN"
      ]
     },
     "execution_count": 19,
     "metadata": {},
     "output_type": "execute_result"
    }
   ],
   "source": [
    "application[['EXT_SOURCE_1', 'EXT_SOURCE_2', 'EXT_SOURCE_3']].head()"
   ]
  },
  {
   "cell_type": "markdown",
   "metadata": {},
   "source": [
    "## categorical "
   ]
  },
  {
   "cell_type": "code",
   "execution_count": 20,
   "metadata": {
    "ExecuteTime": {
     "end_time": "2021-05-10T23:11:26.947167Z",
     "start_time": "2021-05-10T23:11:26.531643Z"
    }
   },
   "outputs": [],
   "source": [
    "cat = list(application.select_dtypes(include = [object]).columns)"
   ]
  },
  {
   "cell_type": "code",
   "execution_count": 21,
   "metadata": {
    "ExecuteTime": {
     "end_time": "2021-05-10T23:12:08.692025Z",
     "start_time": "2021-05-10T23:12:08.681690Z"
    }
   },
   "outputs": [
    {
     "data": {
      "text/plain": [
       "'NAME_CONTRACT_TYPE'"
      ]
     },
     "execution_count": 21,
     "metadata": {},
     "output_type": "execute_result"
    }
   ],
   "source": [
    "cat[0]"
   ]
  },
  {
   "cell_type": "code",
   "execution_count": 24,
   "metadata": {
    "ExecuteTime": {
     "end_time": "2021-05-10T23:13:45.276859Z",
     "start_time": "2021-05-10T23:13:45.199928Z"
    }
   },
   "outputs": [
    {
     "data": {
      "text/plain": [
       "Cash loans         326537\n",
       "Revolving loans     29718\n",
       "Name: NAME_CONTRACT_TYPE, dtype: int64"
      ]
     },
     "execution_count": 24,
     "metadata": {},
     "output_type": "execute_result"
    }
   ],
   "source": [
    "application.loc[:, cat[0]].value_counts(dropna=False)"
   ]
  },
  {
   "cell_type": "code",
   "execution_count": 28,
   "metadata": {
    "ExecuteTime": {
     "end_time": "2021-05-10T23:18:37.164768Z",
     "start_time": "2021-05-10T23:18:36.763431Z"
    }
   },
   "outputs": [
    {
     "name": "stdout",
     "output_type": "stream",
     "text": [
      "Binary: NAME_CONTRACT_TYPE\n",
      "Non-Binary CODE_GENDER 3\n",
      "Binary: FLAG_OWN_CAR\n",
      "Binary: FLAG_OWN_REALTY\n",
      "Non-Binary NAME_TYPE_SUITE 7\n",
      "Non-Binary NAME_INCOME_TYPE 8\n",
      "Non-Binary NAME_EDUCATION_TYPE 5\n",
      "Non-Binary NAME_FAMILY_STATUS 6\n",
      "Non-Binary NAME_HOUSING_TYPE 6\n",
      "Non-Binary OCCUPATION_TYPE 18\n",
      "Non-Binary WEEKDAY_APPR_PROCESS_START 7\n",
      "Non-Binary ORGANIZATION_TYPE 58\n",
      "Non-Binary FONDKAPREMONT_MODE 4\n",
      "Non-Binary HOUSETYPE_MODE 3\n",
      "Non-Binary WALLSMATERIAL_MODE 7\n",
      "Binary: EMERGENCYSTATE_MODE\n"
     ]
    }
   ],
   "source": [
    "for cc in cat:\n",
    "    num = application.loc[:, cc].nunique()\n",
    "    if num  == 2:\n",
    "        print('Binary:', cc)\n",
    "    else:\n",
    "        print('Non-Binary', cc, num)\n"
   ]
  },
  {
   "cell_type": "code",
   "execution_count": null,
   "metadata": {},
   "outputs": [],
   "source": [
    "['FONDKAPREMONT_MODE', 'HOUSETYPE_MODE', 'WALLSMATERIAL_MODE', 'EMERGENCYSTATE_MODE']"
   ]
  },
  {
   "cell_type": "code",
   "execution_count": null,
   "metadata": {},
   "outputs": [],
   "source": []
  },
  {
   "cell_type": "code",
   "execution_count": 30,
   "metadata": {
    "ExecuteTime": {
     "end_time": "2021-05-10T23:21:28.089035Z",
     "start_time": "2021-05-10T23:21:27.915007Z"
    }
   },
   "outputs": [
    {
     "name": "stdout",
     "output_type": "stream",
     "text": [
      "Cash loans         326537\n",
      "Revolving loans     29718\n",
      "Name: NAME_CONTRACT_TYPE, dtype: int64\n",
      "\n",
      "\n",
      "N    235235\n",
      "Y    121020\n",
      "Name: FLAG_OWN_CAR, dtype: int64\n",
      "\n",
      "\n",
      "Y    246970\n",
      "N    109285\n",
      "Name: FLAG_OWN_REALTY, dtype: int64\n",
      "\n",
      "\n",
      "No     185607\n",
      "NaN    167964\n",
      "Yes      2684\n",
      "Name: EMERGENCYSTATE_MODE, dtype: int64\n",
      "\n",
      "\n"
     ]
    }
   ],
   "source": [
    "binary = ['NAME_CONTRACT_TYPE', 'FLAG_OWN_CAR', \n",
    "          'FLAG_OWN_REALTY', 'EMERGENCYSTATE_MODE']\n",
    "for cc in binary:\n",
    "    print(application.loc[:, cc].value_counts(dropna=False))\n",
    "    print('\\n')\n"
   ]
  },
  {
   "cell_type": "code",
   "execution_count": null,
   "metadata": {},
   "outputs": [],
   "source": [
    "## drop EMERGENCYSTATE_MODE"
   ]
  },
  {
   "cell_type": "code",
   "execution_count": 32,
   "metadata": {
    "ExecuteTime": {
     "end_time": "2021-05-11T00:01:41.070351Z",
     "start_time": "2021-05-11T00:01:40.986459Z"
    }
   },
   "outputs": [
    {
     "data": {
      "text/plain": [
       "(356255, 123)"
      ]
     },
     "execution_count": 32,
     "metadata": {},
     "output_type": "execute_result"
    }
   ],
   "source": [
    "application.shape"
   ]
  },
  {
   "cell_type": "code",
   "execution_count": 42,
   "metadata": {
    "ExecuteTime": {
     "end_time": "2021-05-11T00:08:29.565114Z",
     "start_time": "2021-05-11T00:08:29.485126Z"
    }
   },
   "outputs": [
    {
     "data": {
      "text/html": [
       "<div>\n",
       "<style scoped>\n",
       "    .dataframe tbody tr th:only-of-type {\n",
       "        vertical-align: middle;\n",
       "    }\n",
       "\n",
       "    .dataframe tbody tr th {\n",
       "        vertical-align: top;\n",
       "    }\n",
       "\n",
       "    .dataframe thead th {\n",
       "        text-align: right;\n",
       "    }\n",
       "</style>\n",
       "<table border=\"1\" class=\"dataframe\">\n",
       "  <thead>\n",
       "    <tr style=\"text-align: right;\">\n",
       "      <th></th>\n",
       "      <th>values</th>\n",
       "      <th>count</th>\n",
       "      <th>prec of val</th>\n",
       "    </tr>\n",
       "  </thead>\n",
       "  <tbody>\n",
       "    <tr>\n",
       "      <th>0</th>\n",
       "      <td>Unaccompanied</td>\n",
       "      <td>288253</td>\n",
       "      <td>0.809120</td>\n",
       "    </tr>\n",
       "    <tr>\n",
       "      <th>1</th>\n",
       "      <td>Family</td>\n",
       "      <td>46030</td>\n",
       "      <td>0.129205</td>\n",
       "    </tr>\n",
       "    <tr>\n",
       "      <th>2</th>\n",
       "      <td>Spouse, partner</td>\n",
       "      <td>12818</td>\n",
       "      <td>0.035980</td>\n",
       "    </tr>\n",
       "    <tr>\n",
       "      <th>3</th>\n",
       "      <td>Children</td>\n",
       "      <td>3675</td>\n",
       "      <td>0.010316</td>\n",
       "    </tr>\n",
       "    <tr>\n",
       "      <th>4</th>\n",
       "      <td>NaN</td>\n",
       "      <td>2203</td>\n",
       "      <td>0.006184</td>\n",
       "    </tr>\n",
       "    <tr>\n",
       "      <th>5</th>\n",
       "      <td>Other_B</td>\n",
       "      <td>1981</td>\n",
       "      <td>0.005561</td>\n",
       "    </tr>\n",
       "    <tr>\n",
       "      <th>6</th>\n",
       "      <td>Other_A</td>\n",
       "      <td>975</td>\n",
       "      <td>0.002737</td>\n",
       "    </tr>\n",
       "    <tr>\n",
       "      <th>7</th>\n",
       "      <td>Group of people</td>\n",
       "      <td>320</td>\n",
       "      <td>0.000898</td>\n",
       "    </tr>\n",
       "  </tbody>\n",
       "</table>\n",
       "</div>"
      ],
      "text/plain": [
       "            values   count  prec of val\n",
       "0    Unaccompanied  288253     0.809120\n",
       "1           Family   46030     0.129205\n",
       "2  Spouse, partner   12818     0.035980\n",
       "3         Children    3675     0.010316\n",
       "4              NaN    2203     0.006184\n",
       "5          Other_B    1981     0.005561\n",
       "6          Other_A     975     0.002737\n",
       "7  Group of people     320     0.000898"
      ]
     },
     "execution_count": 42,
     "metadata": {},
     "output_type": "execute_result"
    }
   ],
   "source": [
    "tt = application.loc[:, 'NAME_TYPE_SUITE'].value_counts(dropna=False).to_frame().reset_index()\n",
    "tt.columns = ['values', 'count']\n",
    "tt['prec of val'] = tt['count'].apply(lambda x: x/application.shape[0])\n",
    "tt.head(8)"
   ]
  },
  {
   "cell_type": "code",
   "execution_count": 33,
   "metadata": {
    "ExecuteTime": {
     "end_time": "2021-05-11T00:02:00.975149Z",
     "start_time": "2021-05-11T00:02:00.965564Z"
    }
   },
   "outputs": [
    {
     "data": {
      "text/plain": [
       "0.8091198720017965"
      ]
     },
     "execution_count": 33,
     "metadata": {},
     "output_type": "execute_result"
    }
   ],
   "source": [
    "288253/356255"
   ]
  },
  {
   "cell_type": "code",
   "execution_count": 34,
   "metadata": {
    "ExecuteTime": {
     "end_time": "2021-05-11T00:02:28.150352Z",
     "start_time": "2021-05-11T00:02:28.141905Z"
    }
   },
   "outputs": [
    {
     "data": {
      "text/plain": [
       "0.005560623710544413"
      ]
     },
     "execution_count": 34,
     "metadata": {},
     "output_type": "execute_result"
    }
   ],
   "source": [
    "1981/356255"
   ]
  },
  {
   "cell_type": "code",
   "execution_count": 43,
   "metadata": {
    "ExecuteTime": {
     "end_time": "2021-05-11T00:24:09.723242Z",
     "start_time": "2021-05-11T00:24:09.643994Z"
    }
   },
   "outputs": [
    {
     "data": {
      "text/html": [
       "<div>\n",
       "<style scoped>\n",
       "    .dataframe tbody tr th:only-of-type {\n",
       "        vertical-align: middle;\n",
       "    }\n",
       "\n",
       "    .dataframe tbody tr th {\n",
       "        vertical-align: top;\n",
       "    }\n",
       "\n",
       "    .dataframe thead th {\n",
       "        text-align: right;\n",
       "    }\n",
       "</style>\n",
       "<table border=\"1\" class=\"dataframe\">\n",
       "  <thead>\n",
       "    <tr style=\"text-align: right;\">\n",
       "      <th></th>\n",
       "      <th>values</th>\n",
       "      <th>count</th>\n",
       "      <th>prec of val</th>\n",
       "    </tr>\n",
       "  </thead>\n",
       "  <tbody>\n",
       "    <tr>\n",
       "      <th>0</th>\n",
       "      <td>Unaccompanied</td>\n",
       "      <td>288253</td>\n",
       "      <td>0.809120</td>\n",
       "    </tr>\n",
       "    <tr>\n",
       "      <th>1</th>\n",
       "      <td>Family</td>\n",
       "      <td>46030</td>\n",
       "      <td>0.129205</td>\n",
       "    </tr>\n",
       "    <tr>\n",
       "      <th>2</th>\n",
       "      <td>Spouse, partner</td>\n",
       "      <td>12818</td>\n",
       "      <td>0.035980</td>\n",
       "    </tr>\n",
       "    <tr>\n",
       "      <th>3</th>\n",
       "      <td>other</td>\n",
       "      <td>3675</td>\n",
       "      <td>0.010316</td>\n",
       "    </tr>\n",
       "    <tr>\n",
       "      <th>4</th>\n",
       "      <td>NaN</td>\n",
       "      <td>2203</td>\n",
       "      <td>0.006184</td>\n",
       "    </tr>\n",
       "    <tr>\n",
       "      <th>5</th>\n",
       "      <td>other</td>\n",
       "      <td>1981</td>\n",
       "      <td>0.005561</td>\n",
       "    </tr>\n",
       "    <tr>\n",
       "      <th>6</th>\n",
       "      <td>other</td>\n",
       "      <td>975</td>\n",
       "      <td>0.002737</td>\n",
       "    </tr>\n",
       "    <tr>\n",
       "      <th>7</th>\n",
       "      <td>other</td>\n",
       "      <td>320</td>\n",
       "      <td>0.000898</td>\n",
       "    </tr>\n",
       "  </tbody>\n",
       "</table>\n",
       "</div>"
      ],
      "text/plain": [
       "            values   count  prec of val\n",
       "0    Unaccompanied  288253     0.809120\n",
       "1           Family   46030     0.129205\n",
       "2  Spouse, partner   12818     0.035980\n",
       "3            other    3675     0.010316\n",
       "4              NaN    2203     0.006184\n",
       "5            other    1981     0.005561\n",
       "6            other     975     0.002737\n",
       "7            other     320     0.000898"
      ]
     },
     "execution_count": 43,
     "metadata": {},
     "output_type": "execute_result"
    }
   ],
   "source": [
    "'NAME_TYPE_SUITE'\n",
    "\n",
    "tt.replace({'values': ['Children', 'Other_B', \n",
    "                       'Other_A', 'Group of people']}, 'other')"
   ]
  },
  {
   "cell_type": "code",
   "execution_count": 45,
   "metadata": {
    "ExecuteTime": {
     "end_time": "2021-05-11T00:30:55.263758Z",
     "start_time": "2021-05-11T00:30:55.179135Z"
    }
   },
   "outputs": [
    {
     "data": {
      "text/html": [
       "<div>\n",
       "<style scoped>\n",
       "    .dataframe tbody tr th:only-of-type {\n",
       "        vertical-align: middle;\n",
       "    }\n",
       "\n",
       "    .dataframe tbody tr th {\n",
       "        vertical-align: top;\n",
       "    }\n",
       "\n",
       "    .dataframe thead th {\n",
       "        text-align: right;\n",
       "    }\n",
       "</style>\n",
       "<table border=\"1\" class=\"dataframe\">\n",
       "  <thead>\n",
       "    <tr style=\"text-align: right;\">\n",
       "      <th></th>\n",
       "      <th>values</th>\n",
       "      <th>count</th>\n",
       "      <th>prec of val</th>\n",
       "    </tr>\n",
       "  </thead>\n",
       "  <tbody>\n",
       "    <tr>\n",
       "      <th>0</th>\n",
       "      <td>Working</td>\n",
       "      <td>183307</td>\n",
       "      <td>0.514539</td>\n",
       "    </tr>\n",
       "    <tr>\n",
       "      <th>1</th>\n",
       "      <td>Commercial associate</td>\n",
       "      <td>83019</td>\n",
       "      <td>0.233033</td>\n",
       "    </tr>\n",
       "    <tr>\n",
       "      <th>2</th>\n",
       "      <td>Pensioner</td>\n",
       "      <td>64635</td>\n",
       "      <td>0.181429</td>\n",
       "    </tr>\n",
       "    <tr>\n",
       "      <th>3</th>\n",
       "      <td>State servant</td>\n",
       "      <td>25235</td>\n",
       "      <td>0.070834</td>\n",
       "    </tr>\n",
       "    <tr>\n",
       "      <th>4</th>\n",
       "      <td>Unemployed</td>\n",
       "      <td>23</td>\n",
       "      <td>0.000065</td>\n",
       "    </tr>\n",
       "    <tr>\n",
       "      <th>5</th>\n",
       "      <td>Student</td>\n",
       "      <td>20</td>\n",
       "      <td>0.000056</td>\n",
       "    </tr>\n",
       "    <tr>\n",
       "      <th>6</th>\n",
       "      <td>Businessman</td>\n",
       "      <td>11</td>\n",
       "      <td>0.000031</td>\n",
       "    </tr>\n",
       "    <tr>\n",
       "      <th>7</th>\n",
       "      <td>Maternity leave</td>\n",
       "      <td>5</td>\n",
       "      <td>0.000014</td>\n",
       "    </tr>\n",
       "  </tbody>\n",
       "</table>\n",
       "</div>"
      ],
      "text/plain": [
       "                 values   count  prec of val\n",
       "0               Working  183307     0.514539\n",
       "1  Commercial associate   83019     0.233033\n",
       "2             Pensioner   64635     0.181429\n",
       "3         State servant   25235     0.070834\n",
       "4            Unemployed      23     0.000065\n",
       "5               Student      20     0.000056\n",
       "6           Businessman      11     0.000031\n",
       "7       Maternity leave       5     0.000014"
      ]
     },
     "execution_count": 45,
     "metadata": {},
     "output_type": "execute_result"
    }
   ],
   "source": [
    "tt1 = application.loc[:, 'NAME_INCOME_TYPE'].value_counts(dropna=False).to_frame().reset_index()\n",
    "tt1.columns = ['values', 'count']\n",
    "tt1['prec of val'] = tt1['count'].apply(lambda x: x/application.shape[0])\n",
    "tt1.head(8)"
   ]
  },
  {
   "cell_type": "markdown",
   "metadata": {},
   "source": [
    "- from unemployed --> mat_leave makes up less than 1% data "
   ]
  },
  {
   "cell_type": "code",
   "execution_count": null,
   "metadata": {},
   "outputs": [],
   "source": [
    "'NAME_INCOME_TYPE'\n",
    "['Unemployed', 'Student', 'Businessman', 'Maternity leave']"
   ]
  },
  {
   "cell_type": "code",
   "execution_count": 46,
   "metadata": {
    "ExecuteTime": {
     "end_time": "2021-05-11T00:39:31.005723Z",
     "start_time": "2021-05-11T00:39:30.921158Z"
    }
   },
   "outputs": [
    {
     "data": {
      "text/html": [
       "<div>\n",
       "<style scoped>\n",
       "    .dataframe tbody tr th:only-of-type {\n",
       "        vertical-align: middle;\n",
       "    }\n",
       "\n",
       "    .dataframe tbody tr th {\n",
       "        vertical-align: top;\n",
       "    }\n",
       "\n",
       "    .dataframe thead th {\n",
       "        text-align: right;\n",
       "    }\n",
       "</style>\n",
       "<table border=\"1\" class=\"dataframe\">\n",
       "  <thead>\n",
       "    <tr style=\"text-align: right;\">\n",
       "      <th></th>\n",
       "      <th>values</th>\n",
       "      <th>count</th>\n",
       "      <th>prec of val</th>\n",
       "    </tr>\n",
       "  </thead>\n",
       "  <tbody>\n",
       "    <tr>\n",
       "      <th>0</th>\n",
       "      <td>Secondary / secondary special</td>\n",
       "      <td>252379</td>\n",
       "      <td>0.708422</td>\n",
       "    </tr>\n",
       "    <tr>\n",
       "      <th>1</th>\n",
       "      <td>Higher education</td>\n",
       "      <td>87379</td>\n",
       "      <td>0.245271</td>\n",
       "    </tr>\n",
       "    <tr>\n",
       "      <th>2</th>\n",
       "      <td>Incomplete higher</td>\n",
       "      <td>12001</td>\n",
       "      <td>0.033687</td>\n",
       "    </tr>\n",
       "    <tr>\n",
       "      <th>3</th>\n",
       "      <td>Lower secondary</td>\n",
       "      <td>4291</td>\n",
       "      <td>0.012045</td>\n",
       "    </tr>\n",
       "    <tr>\n",
       "      <th>4</th>\n",
       "      <td>Academic degree</td>\n",
       "      <td>205</td>\n",
       "      <td>0.000575</td>\n",
       "    </tr>\n",
       "  </tbody>\n",
       "</table>\n",
       "</div>"
      ],
      "text/plain": [
       "                          values   count  prec of val\n",
       "0  Secondary / secondary special  252379     0.708422\n",
       "1               Higher education   87379     0.245271\n",
       "2              Incomplete higher   12001     0.033687\n",
       "3                Lower secondary    4291     0.012045\n",
       "4                Academic degree     205     0.000575"
      ]
     },
     "execution_count": 46,
     "metadata": {},
     "output_type": "execute_result"
    }
   ],
   "source": [
    "tt2 = application.loc[:, 'NAME_EDUCATION_TYPE'].value_counts(dropna=False).to_frame().reset_index()\n",
    "tt2.columns = ['values', 'count']\n",
    "tt2['prec of val'] = tt2['count'].apply(lambda x: x/application.shape[0])\n",
    "tt2.head(8)"
   ]
  },
  {
   "cell_type": "markdown",
   "metadata": {},
   "source": [
    "- Combine higher, incomplete higher, and Acadmic degree --> attempted higher education \n",
    "- combine Secondary / secondary special and Lower secondary\t --> have sometype of licience \n"
   ]
  },
  {
   "cell_type": "code",
   "execution_count": null,
   "metadata": {},
   "outputs": [],
   "source": [
    "def combine(x):\n",
    "    if x == \"incomplete higher\" or x == 'Academic degree':\n",
    "        return 'Higher education'\n",
    "    else:\n",
    "        return 'Secondary / secondary special'"
   ]
  },
  {
   "cell_type": "code",
   "execution_count": null,
   "metadata": {},
   "outputs": [],
   "source": []
  },
  {
   "cell_type": "code",
   "execution_count": 47,
   "metadata": {
    "ExecuteTime": {
     "end_time": "2021-05-11T00:50:58.207723Z",
     "start_time": "2021-05-11T00:50:58.129675Z"
    }
   },
   "outputs": [
    {
     "data": {
      "text/html": [
       "<div>\n",
       "<style scoped>\n",
       "    .dataframe tbody tr th:only-of-type {\n",
       "        vertical-align: middle;\n",
       "    }\n",
       "\n",
       "    .dataframe tbody tr th {\n",
       "        vertical-align: top;\n",
       "    }\n",
       "\n",
       "    .dataframe thead th {\n",
       "        text-align: right;\n",
       "    }\n",
       "</style>\n",
       "<table border=\"1\" class=\"dataframe\">\n",
       "  <thead>\n",
       "    <tr style=\"text-align: right;\">\n",
       "      <th></th>\n",
       "      <th>values</th>\n",
       "      <th>count</th>\n",
       "      <th>prec of val</th>\n",
       "    </tr>\n",
       "  </thead>\n",
       "  <tbody>\n",
       "    <tr>\n",
       "      <th>0</th>\n",
       "      <td>Married</td>\n",
       "      <td>228715</td>\n",
       "      <td>0.641998</td>\n",
       "    </tr>\n",
       "    <tr>\n",
       "      <th>1</th>\n",
       "      <td>Single / not married</td>\n",
       "      <td>52480</td>\n",
       "      <td>0.147310</td>\n",
       "    </tr>\n",
       "    <tr>\n",
       "      <th>2</th>\n",
       "      <td>Civil marriage</td>\n",
       "      <td>34036</td>\n",
       "      <td>0.095538</td>\n",
       "    </tr>\n",
       "    <tr>\n",
       "      <th>3</th>\n",
       "      <td>Separated</td>\n",
       "      <td>22725</td>\n",
       "      <td>0.063789</td>\n",
       "    </tr>\n",
       "    <tr>\n",
       "      <th>4</th>\n",
       "      <td>Widow</td>\n",
       "      <td>18297</td>\n",
       "      <td>0.051359</td>\n",
       "    </tr>\n",
       "    <tr>\n",
       "      <th>5</th>\n",
       "      <td>Unknown</td>\n",
       "      <td>2</td>\n",
       "      <td>0.000006</td>\n",
       "    </tr>\n",
       "  </tbody>\n",
       "</table>\n",
       "</div>"
      ],
      "text/plain": [
       "                 values   count  prec of val\n",
       "0               Married  228715     0.641998\n",
       "1  Single / not married   52480     0.147310\n",
       "2        Civil marriage   34036     0.095538\n",
       "3             Separated   22725     0.063789\n",
       "4                 Widow   18297     0.051359\n",
       "5               Unknown       2     0.000006"
      ]
     },
     "execution_count": 47,
     "metadata": {},
     "output_type": "execute_result"
    }
   ],
   "source": [
    "tt3 = application.loc[:, 'NAME_FAMILY_STATUS'].value_counts(dropna=False).to_frame().reset_index()\n",
    "tt3.columns = ['values', 'count']\n",
    "tt3['prec of val'] = tt3['count'].apply(lambda x: x/application.shape[0])\n",
    "tt3.head(8)"
   ]
  },
  {
   "cell_type": "code",
   "execution_count": null,
   "metadata": {},
   "outputs": [],
   "source": []
  },
  {
   "cell_type": "code",
   "execution_count": null,
   "metadata": {},
   "outputs": [],
   "source": []
  },
  {
   "cell_type": "code",
   "execution_count": null,
   "metadata": {},
   "outputs": [],
   "source": []
  },
  {
   "cell_type": "code",
   "execution_count": 48,
   "metadata": {
    "ExecuteTime": {
     "end_time": "2021-05-11T00:53:29.500913Z",
     "start_time": "2021-05-11T00:53:29.383754Z"
    }
   },
   "outputs": [
    {
     "data": {
      "text/html": [
       "<div>\n",
       "<style scoped>\n",
       "    .dataframe tbody tr th:only-of-type {\n",
       "        vertical-align: middle;\n",
       "    }\n",
       "\n",
       "    .dataframe tbody tr th {\n",
       "        vertical-align: top;\n",
       "    }\n",
       "\n",
       "    .dataframe thead th {\n",
       "        text-align: right;\n",
       "    }\n",
       "</style>\n",
       "<table border=\"1\" class=\"dataframe\">\n",
       "  <thead>\n",
       "    <tr style=\"text-align: right;\">\n",
       "      <th></th>\n",
       "      <th>values</th>\n",
       "      <th>count</th>\n",
       "      <th>prec of val</th>\n",
       "    </tr>\n",
       "  </thead>\n",
       "  <tbody>\n",
       "    <tr>\n",
       "      <th>0</th>\n",
       "      <td>House / apartment</td>\n",
       "      <td>316513</td>\n",
       "      <td>0.888445</td>\n",
       "    </tr>\n",
       "    <tr>\n",
       "      <th>1</th>\n",
       "      <td>With parents</td>\n",
       "      <td>17074</td>\n",
       "      <td>0.047926</td>\n",
       "    </tr>\n",
       "    <tr>\n",
       "      <th>2</th>\n",
       "      <td>Municipal apartment</td>\n",
       "      <td>12800</td>\n",
       "      <td>0.035929</td>\n",
       "    </tr>\n",
       "    <tr>\n",
       "      <th>3</th>\n",
       "      <td>Rented apartment</td>\n",
       "      <td>5599</td>\n",
       "      <td>0.015716</td>\n",
       "    </tr>\n",
       "    <tr>\n",
       "      <th>4</th>\n",
       "      <td>Office apartment</td>\n",
       "      <td>3024</td>\n",
       "      <td>0.008488</td>\n",
       "    </tr>\n",
       "    <tr>\n",
       "      <th>5</th>\n",
       "      <td>Co-op apartment</td>\n",
       "      <td>1245</td>\n",
       "      <td>0.003495</td>\n",
       "    </tr>\n",
       "  </tbody>\n",
       "</table>\n",
       "</div>"
      ],
      "text/plain": [
       "                values   count  prec of val\n",
       "0    House / apartment  316513     0.888445\n",
       "1         With parents   17074     0.047926\n",
       "2  Municipal apartment   12800     0.035929\n",
       "3     Rented apartment    5599     0.015716\n",
       "4     Office apartment    3024     0.008488\n",
       "5      Co-op apartment    1245     0.003495"
      ]
     },
     "execution_count": 48,
     "metadata": {},
     "output_type": "execute_result"
    }
   ],
   "source": [
    "tt4 = application.loc[:, 'NAME_HOUSING_TYPE'].value_counts(dropna=False).to_frame().reset_index()\n",
    "tt4.columns = ['values', 'count']\n",
    "tt4['prec of val'] = tt4['count'].apply(lambda x: x/application.shape[0])\n",
    "tt4.head(8)"
   ]
  },
  {
   "cell_type": "markdown",
   "metadata": {},
   "source": [
    "- combine (Municipal apartment, Rented apartment, Office apartment, Co-op apartmen) ---> rented apartment "
   ]
  },
  {
   "cell_type": "code",
   "execution_count": null,
   "metadata": {},
   "outputs": [],
   "source": [
    "'NAME_HOUSING_TYPE'\n",
    "['Municipal apartment', 'Office apartment', 'Co-op apartment']"
   ]
  },
  {
   "cell_type": "code",
   "execution_count": null,
   "metadata": {},
   "outputs": [],
   "source": []
  },
  {
   "cell_type": "code",
   "execution_count": 51,
   "metadata": {
    "ExecuteTime": {
     "end_time": "2021-05-11T01:02:23.095065Z",
     "start_time": "2021-05-11T01:02:23.002991Z"
    }
   },
   "outputs": [
    {
     "data": {
      "text/html": [
       "<div>\n",
       "<style scoped>\n",
       "    .dataframe tbody tr th:only-of-type {\n",
       "        vertical-align: middle;\n",
       "    }\n",
       "\n",
       "    .dataframe tbody tr th {\n",
       "        vertical-align: top;\n",
       "    }\n",
       "\n",
       "    .dataframe thead th {\n",
       "        text-align: right;\n",
       "    }\n",
       "</style>\n",
       "<table border=\"1\" class=\"dataframe\">\n",
       "  <thead>\n",
       "    <tr style=\"text-align: right;\">\n",
       "      <th></th>\n",
       "      <th>values</th>\n",
       "      <th>count</th>\n",
       "      <th>prec of val</th>\n",
       "    </tr>\n",
       "  </thead>\n",
       "  <tbody>\n",
       "    <tr>\n",
       "      <th>0</th>\n",
       "      <td>NaN</td>\n",
       "      <td>111996</td>\n",
       "      <td>0.314370</td>\n",
       "    </tr>\n",
       "    <tr>\n",
       "      <th>1</th>\n",
       "      <td>Laborers</td>\n",
       "      <td>63841</td>\n",
       "      <td>0.179200</td>\n",
       "    </tr>\n",
       "    <tr>\n",
       "      <th>2</th>\n",
       "      <td>Sales staff</td>\n",
       "      <td>37174</td>\n",
       "      <td>0.104347</td>\n",
       "    </tr>\n",
       "    <tr>\n",
       "      <th>3</th>\n",
       "      <td>Core staff</td>\n",
       "      <td>31931</td>\n",
       "      <td>0.089630</td>\n",
       "    </tr>\n",
       "    <tr>\n",
       "      <th>4</th>\n",
       "      <td>Managers</td>\n",
       "      <td>24945</td>\n",
       "      <td>0.070020</td>\n",
       "    </tr>\n",
       "    <tr>\n",
       "      <th>5</th>\n",
       "      <td>Drivers</td>\n",
       "      <td>21376</td>\n",
       "      <td>0.060002</td>\n",
       "    </tr>\n",
       "    <tr>\n",
       "      <th>6</th>\n",
       "      <td>High skill tech staff</td>\n",
       "      <td>13234</td>\n",
       "      <td>0.037148</td>\n",
       "    </tr>\n",
       "    <tr>\n",
       "      <th>7</th>\n",
       "      <td>Accountants</td>\n",
       "      <td>11441</td>\n",
       "      <td>0.032115</td>\n",
       "    </tr>\n",
       "    <tr>\n",
       "      <th>8</th>\n",
       "      <td>Medicine staff</td>\n",
       "      <td>9853</td>\n",
       "      <td>0.027657</td>\n",
       "    </tr>\n",
       "    <tr>\n",
       "      <th>9</th>\n",
       "      <td>Security staff</td>\n",
       "      <td>7636</td>\n",
       "      <td>0.021434</td>\n",
       "    </tr>\n",
       "    <tr>\n",
       "      <th>10</th>\n",
       "      <td>Cooking staff</td>\n",
       "      <td>6840</td>\n",
       "      <td>0.019200</td>\n",
       "    </tr>\n",
       "    <tr>\n",
       "      <th>11</th>\n",
       "      <td>Cleaning staff</td>\n",
       "      <td>5309</td>\n",
       "      <td>0.014902</td>\n",
       "    </tr>\n",
       "    <tr>\n",
       "      <th>12</th>\n",
       "      <td>Private service staff</td>\n",
       "      <td>3107</td>\n",
       "      <td>0.008721</td>\n",
       "    </tr>\n",
       "    <tr>\n",
       "      <th>13</th>\n",
       "      <td>Low-skill Laborers</td>\n",
       "      <td>2365</td>\n",
       "      <td>0.006639</td>\n",
       "    </tr>\n",
       "    <tr>\n",
       "      <th>14</th>\n",
       "      <td>Waiters/barmen staff</td>\n",
       "      <td>1526</td>\n",
       "      <td>0.004283</td>\n",
       "    </tr>\n",
       "    <tr>\n",
       "      <th>15</th>\n",
       "      <td>Secretaries</td>\n",
       "      <td>1518</td>\n",
       "      <td>0.004261</td>\n",
       "    </tr>\n",
       "    <tr>\n",
       "      <th>16</th>\n",
       "      <td>Realty agents</td>\n",
       "      <td>889</td>\n",
       "      <td>0.002495</td>\n",
       "    </tr>\n",
       "    <tr>\n",
       "      <th>17</th>\n",
       "      <td>HR staff</td>\n",
       "      <td>667</td>\n",
       "      <td>0.001872</td>\n",
       "    </tr>\n",
       "    <tr>\n",
       "      <th>18</th>\n",
       "      <td>IT staff</td>\n",
       "      <td>607</td>\n",
       "      <td>0.001704</td>\n",
       "    </tr>\n",
       "  </tbody>\n",
       "</table>\n",
       "</div>"
      ],
      "text/plain": [
       "                   values   count  prec of val\n",
       "0                     NaN  111996     0.314370\n",
       "1                Laborers   63841     0.179200\n",
       "2             Sales staff   37174     0.104347\n",
       "3              Core staff   31931     0.089630\n",
       "4                Managers   24945     0.070020\n",
       "5                 Drivers   21376     0.060002\n",
       "6   High skill tech staff   13234     0.037148\n",
       "7             Accountants   11441     0.032115\n",
       "8          Medicine staff    9853     0.027657\n",
       "9          Security staff    7636     0.021434\n",
       "10          Cooking staff    6840     0.019200\n",
       "11         Cleaning staff    5309     0.014902\n",
       "12  Private service staff    3107     0.008721\n",
       "13     Low-skill Laborers    2365     0.006639\n",
       "14   Waiters/barmen staff    1526     0.004283\n",
       "15            Secretaries    1518     0.004261\n",
       "16          Realty agents     889     0.002495\n",
       "17               HR staff     667     0.001872\n",
       "18               IT staff     607     0.001704"
      ]
     },
     "execution_count": 51,
     "metadata": {},
     "output_type": "execute_result"
    }
   ],
   "source": [
    "tt5 = application.loc[:, 'OCCUPATION_TYPE'].value_counts(dropna=False).to_frame().reset_index()\n",
    "tt5.columns = ['values', 'count']\n",
    "tt5['prec of val'] = tt5['count'].apply(lambda x: x/application.shape[0])\n",
    "tt5.head(20)"
   ]
  },
  {
   "cell_type": "code",
   "execution_count": 73,
   "metadata": {
    "ExecuteTime": {
     "end_time": "2021-05-11T02:04:05.668972Z",
     "start_time": "2021-05-11T02:04:05.637283Z"
    }
   },
   "outputs": [
    {
     "data": {
      "text/plain": [
       "['Medicine staff',\n",
       " 'Security staff',\n",
       " 'Cooking staff',\n",
       " 'Cleaning staff',\n",
       " 'Private service staff',\n",
       " 'Low-skill Laborers',\n",
       " 'Waiters/barmen staff',\n",
       " 'Secretaries',\n",
       " 'Realty agents',\n",
       " 'HR staff',\n",
       " 'IT staff']"
      ]
     },
     "execution_count": 73,
     "metadata": {},
     "output_type": "execute_result"
    }
   ],
   "source": [
    "other_occp = list(tt5.loc[tt5['prec of val'] < 0.03, 'values'].values)\n",
    "other_occp"
   ]
  },
  {
   "cell_type": "code",
   "execution_count": 52,
   "metadata": {
    "ExecuteTime": {
     "end_time": "2021-05-11T01:03:57.763267Z",
     "start_time": "2021-05-11T01:03:57.683279Z"
    }
   },
   "outputs": [
    {
     "data": {
      "text/html": [
       "<div>\n",
       "<style scoped>\n",
       "    .dataframe tbody tr th:only-of-type {\n",
       "        vertical-align: middle;\n",
       "    }\n",
       "\n",
       "    .dataframe tbody tr th {\n",
       "        vertical-align: top;\n",
       "    }\n",
       "\n",
       "    .dataframe thead th {\n",
       "        text-align: right;\n",
       "    }\n",
       "</style>\n",
       "<table border=\"1\" class=\"dataframe\">\n",
       "  <thead>\n",
       "    <tr style=\"text-align: right;\">\n",
       "      <th></th>\n",
       "      <th>values</th>\n",
       "      <th>count</th>\n",
       "      <th>prec of val</th>\n",
       "    </tr>\n",
       "  </thead>\n",
       "  <tbody>\n",
       "    <tr>\n",
       "      <th>0</th>\n",
       "      <td>Business Entity Type 3</td>\n",
       "      <td>78832</td>\n",
       "      <td>0.221280</td>\n",
       "    </tr>\n",
       "    <tr>\n",
       "      <th>1</th>\n",
       "      <td>XNA</td>\n",
       "      <td>64648</td>\n",
       "      <td>0.181466</td>\n",
       "    </tr>\n",
       "    <tr>\n",
       "      <th>2</th>\n",
       "      <td>Self-employed</td>\n",
       "      <td>44332</td>\n",
       "      <td>0.124439</td>\n",
       "    </tr>\n",
       "    <tr>\n",
       "      <th>3</th>\n",
       "      <td>Other</td>\n",
       "      <td>19390</td>\n",
       "      <td>0.054427</td>\n",
       "    </tr>\n",
       "    <tr>\n",
       "      <th>4</th>\n",
       "      <td>Medicine</td>\n",
       "      <td>12909</td>\n",
       "      <td>0.036235</td>\n",
       "    </tr>\n",
       "    <tr>\n",
       "      <th>5</th>\n",
       "      <td>Business Entity Type 2</td>\n",
       "      <td>12032</td>\n",
       "      <td>0.033774</td>\n",
       "    </tr>\n",
       "    <tr>\n",
       "      <th>6</th>\n",
       "      <td>Government</td>\n",
       "      <td>11912</td>\n",
       "      <td>0.033437</td>\n",
       "    </tr>\n",
       "    <tr>\n",
       "      <th>7</th>\n",
       "      <td>School</td>\n",
       "      <td>10180</td>\n",
       "      <td>0.028575</td>\n",
       "    </tr>\n",
       "    <tr>\n",
       "      <th>8</th>\n",
       "      <td>Trade: type 7</td>\n",
       "      <td>9134</td>\n",
       "      <td>0.025639</td>\n",
       "    </tr>\n",
       "    <tr>\n",
       "      <th>9</th>\n",
       "      <td>Kindergarten</td>\n",
       "      <td>7918</td>\n",
       "      <td>0.022226</td>\n",
       "    </tr>\n",
       "    <tr>\n",
       "      <th>10</th>\n",
       "      <td>Construction</td>\n",
       "      <td>7760</td>\n",
       "      <td>0.021782</td>\n",
       "    </tr>\n",
       "    <tr>\n",
       "      <th>11</th>\n",
       "      <td>Business Entity Type 1</td>\n",
       "      <td>6871</td>\n",
       "      <td>0.019287</td>\n",
       "    </tr>\n",
       "    <tr>\n",
       "      <th>12</th>\n",
       "      <td>Transport: type 4</td>\n",
       "      <td>6282</td>\n",
       "      <td>0.017633</td>\n",
       "    </tr>\n",
       "    <tr>\n",
       "      <th>13</th>\n",
       "      <td>Trade: type 3</td>\n",
       "      <td>4070</td>\n",
       "      <td>0.011424</td>\n",
       "    </tr>\n",
       "    <tr>\n",
       "      <th>14</th>\n",
       "      <td>Industry: type 9</td>\n",
       "      <td>3867</td>\n",
       "      <td>0.010855</td>\n",
       "    </tr>\n",
       "    <tr>\n",
       "      <th>15</th>\n",
       "      <td>Industry: type 3</td>\n",
       "      <td>3767</td>\n",
       "      <td>0.010574</td>\n",
       "    </tr>\n",
       "    <tr>\n",
       "      <th>16</th>\n",
       "      <td>Security</td>\n",
       "      <td>3719</td>\n",
       "      <td>0.010439</td>\n",
       "    </tr>\n",
       "    <tr>\n",
       "      <th>17</th>\n",
       "      <td>Housing</td>\n",
       "      <td>3393</td>\n",
       "      <td>0.009524</td>\n",
       "    </tr>\n",
       "    <tr>\n",
       "      <th>18</th>\n",
       "      <td>Military</td>\n",
       "      <td>3164</td>\n",
       "      <td>0.008881</td>\n",
       "    </tr>\n",
       "    <tr>\n",
       "      <th>19</th>\n",
       "      <td>Industry: type 11</td>\n",
       "      <td>3120</td>\n",
       "      <td>0.008758</td>\n",
       "    </tr>\n",
       "  </tbody>\n",
       "</table>\n",
       "</div>"
      ],
      "text/plain": [
       "                    values  count  prec of val\n",
       "0   Business Entity Type 3  78832     0.221280\n",
       "1                      XNA  64648     0.181466\n",
       "2            Self-employed  44332     0.124439\n",
       "3                    Other  19390     0.054427\n",
       "4                 Medicine  12909     0.036235\n",
       "5   Business Entity Type 2  12032     0.033774\n",
       "6               Government  11912     0.033437\n",
       "7                   School  10180     0.028575\n",
       "8            Trade: type 7   9134     0.025639\n",
       "9             Kindergarten   7918     0.022226\n",
       "10            Construction   7760     0.021782\n",
       "11  Business Entity Type 1   6871     0.019287\n",
       "12       Transport: type 4   6282     0.017633\n",
       "13           Trade: type 3   4070     0.011424\n",
       "14        Industry: type 9   3867     0.010855\n",
       "15        Industry: type 3   3767     0.010574\n",
       "16                Security   3719     0.010439\n",
       "17                 Housing   3393     0.009524\n",
       "18                Military   3164     0.008881\n",
       "19       Industry: type 11   3120     0.008758"
      ]
     },
     "execution_count": 52,
     "metadata": {},
     "output_type": "execute_result"
    }
   ],
   "source": [
    "tt6 = application.loc[:, 'ORGANIZATION_TYPE'].value_counts(dropna=False).to_frame().reset_index()\n",
    "tt6.columns = ['values', 'count']\n",
    "tt6['prec of val'] = tt6['count'].apply(lambda x: x/application.shape[0])\n",
    "tt6.head(20)"
   ]
  },
  {
   "cell_type": "markdown",
   "metadata": {},
   "source": [
    "- orgnization type < 1% of data merge with other "
   ]
  },
  {
   "cell_type": "code",
   "execution_count": 61,
   "metadata": {
    "ExecuteTime": {
     "end_time": "2021-05-11T01:20:28.795808Z",
     "start_time": "2021-05-11T01:20:28.784236Z"
    }
   },
   "outputs": [
    {
     "data": {
      "text/plain": [
       "0.21672116882570075"
      ]
     },
     "execution_count": 61,
     "metadata": {},
     "output_type": "execute_result"
    }
   ],
   "source": [
    "tt6.loc[tt6['prec of val'] < 0.02, 'prec of val'].sum()"
   ]
  },
  {
   "cell_type": "code",
   "execution_count": 62,
   "metadata": {
    "ExecuteTime": {
     "end_time": "2021-05-11T01:20:44.841547Z",
     "start_time": "2021-05-11T01:20:44.832912Z"
    }
   },
   "outputs": [
    {
     "data": {
      "text/plain": [
       "0.26672116882570074"
      ]
     },
     "execution_count": 62,
     "metadata": {},
     "output_type": "execute_result"
    }
   ],
   "source": [
    "0.21672116882570075+0.05"
   ]
  },
  {
   "cell_type": "code",
   "execution_count": 71,
   "metadata": {
    "ExecuteTime": {
     "end_time": "2021-05-11T02:00:45.946432Z",
     "start_time": "2021-05-11T02:00:45.141456Z"
    }
   },
   "outputs": [],
   "source": [
    "## make this into a function \n",
    "other_org = list(tt6.loc[tt6['prec of val'] < 0.02, 'values'].values)\n",
    "other_occp = list(tt5.loc[tt5['prec of val'] < 0.03, 'values'].values)"
   ]
  },
  {
   "cell_type": "code",
   "execution_count": 86,
   "metadata": {
    "ExecuteTime": {
     "end_time": "2021-05-11T02:42:56.766873Z",
     "start_time": "2021-05-11T02:42:56.211356Z"
    }
   },
   "outputs": [],
   "source": [
    "def get_columns_x(col_name, threshhold):\n",
    "    temp = application.loc[:, col_name].value_counts(dropna=False).to_frame().reset_index()\n",
    "    temp.columns = ['values', 'count']\n",
    "    temp['prec of val'] = temp['count'].apply(lambda x: x/application.shape[0])\n",
    "    groups = list(temp.loc[temp['prec of val'] <threshhold, 'values'].values)\n",
    "    \n",
    "    return groups"
   ]
  },
  {
   "cell_type": "code",
   "execution_count": 88,
   "metadata": {
    "ExecuteTime": {
     "end_time": "2021-05-11T02:44:39.828423Z",
     "start_time": "2021-05-11T02:44:39.489679Z"
    }
   },
   "outputs": [],
   "source": [
    "oc = get_columns_x('OCCUPATION_TYPE', 0.03)"
   ]
  },
  {
   "cell_type": "code",
   "execution_count": 89,
   "metadata": {
    "ExecuteTime": {
     "end_time": "2021-05-11T02:44:59.361439Z",
     "start_time": "2021-05-11T02:44:59.309720Z"
    }
   },
   "outputs": [
    {
     "data": {
      "text/plain": [
       "True"
      ]
     },
     "execution_count": 89,
     "metadata": {},
     "output_type": "execute_result"
    }
   ],
   "source": [
    "oc ="
   ]
  },
  {
   "cell_type": "code",
   "execution_count": 80,
   "metadata": {
    "ExecuteTime": {
     "end_time": "2021-05-11T02:32:09.243091Z",
     "start_time": "2021-05-11T02:32:09.235837Z"
    }
   },
   "outputs": [],
   "source": [
    "# helper functions\n",
    "def get_missing_data_info(df):\n",
    "    \"\"\"\n",
    "    add description .. \n",
    "    \n",
    "    \"\"\"\n",
    "    num_of_instance, _ = df.shape\n",
    "    #print(num_of_instance)\n",
    "    names = {'index': 'feature', \n",
    "             0: 'PERC_missing_data'}\n",
    "    \n",
    "    missing_df = (df.isnull() \\\n",
    "        .sum(axis=0)/num_of_instance) \\\n",
    "        .to_frame() \\\n",
    "        .reset_index() \\\n",
    "        .rename(columns=names) \\\n",
    "        .sort_values(by='PERC_missing_data', ascending=False) \\\n",
    "        .reset_index(drop=True)\n",
    "    \n",
    "    d = {}\n",
    "    # no missing \n",
    "    zero = missing_df[missing_df['PERC_missing_data'] == 0]\n",
    "    d['x = 0'] = list(zero.feature)\n",
    "    le_10 = missing_df[(missing_df['PERC_missing_data'] > 0.0) & (missing_df['PERC_missing_data'] <= 0.1)]\n",
    "    \n",
    "    d['0< x <= 25'] = list(missing_df[(missing_df['PERC_missing_data'] > 0.0) & (missing_df['PERC_missing_data'] <= 0.25)].feature)\n",
    "    \n",
    "    d['25 < x <= 50'] = list(missing_df[(missing_df['PERC_missing_data'] > 0.25) & (missing_df['PERC_missing_data'] <= 0.5)].feature)\n",
    "    \n",
    "    d['x > 50'] = list(missing_df[missing_df['PERC_missing_data'] > 0.5].feature)\n",
    "    \n",
    "    return missing_df, d\n",
    "\n",
    "def combine(x):\n",
    "    if x == \"Incomplete higher\" or x == 'Academic degree':\n",
    "        return 'Higher education'\n",
    "    elif x == 'Lower secondary':\n",
    "        return 'Secondary / secondary special'\n",
    "    else:\n",
    "        return x\n",
    "    \n",
    "def get_columns_x(col_name, threshhold):\n",
    "    temp = application.loc[:, col_name].value_counts(dropna=False).to_frame().reset_index()\n",
    "    temp.columns = ['values', 'count']\n",
    "    temp['prec of val'] = temp['count'].apply(lambda x: x/application.shape[0])\n",
    "    groups = list(temp.loc[temp['prec of val'] <threshhold, 'values'].values)\n",
    "    \n",
    "    return groups\n",
    "\n",
    "def corr_with_target(application):\n",
    "    target = application.loc[application['TARGET'].notnull(), 'TARGET']\n",
    "    train_df = application.loc[application['TARGET'].notnull(), :].drop(columns=['TARGET']).select_dtypes(include = [int, float])\n",
    "\n",
    "    corr_col = [i for i in train_df.columns if i not in ['index', 'SK_ID_CURR']]\n",
    "    corr_arr = pd.Series([target.corr(train_df[i]) for i in corr_col])\n",
    "    \n",
    "    name = pd.Series(corr_col)\n",
    "    df_dict = {'feature': name, 'corr with target': corr_arr}\n",
    "    corr_df = pd.DataFrame(df_dict).sort_values(by = 'corr with target',ascending=False)\n",
    "    \n",
    "    return corr_df"
   ]
  },
  {
   "cell_type": "code",
   "execution_count": 90,
   "metadata": {
    "ExecuteTime": {
     "end_time": "2021-05-11T02:45:20.426075Z",
     "start_time": "2021-05-11T02:45:16.222831Z"
    }
   },
   "outputs": [],
   "source": [
    "\n",
    "# fix categorical data \n",
    "\n",
    "# 'NAME_TYPE_SUITE'\n",
    "application.replace({'NAME_TYPE_SUITE': ['Children', \n",
    "                                         'Other_B', \n",
    "                                         'Other_A', \n",
    "                                         'Group of people']}, \n",
    "                    'Other', inplace = True)\n",
    "\n",
    "\n",
    "# 'NAME_INCOME_TYPE'\n",
    "application.replace({'NAME_INCOME_TYPE': ['Unemployed', \n",
    "                                          'Student', \n",
    "                                          'Businessman', \n",
    "                                          'Maternity leave']}, \n",
    "                    'Other', inplace=True)\n",
    "\n",
    "# NAME_EDUCATION_TYPE\n",
    "application['NAME_EDUCATION_TYPE'] = application['NAME_EDUCATION_TYPE'].apply(lambda x: combine(x))\n",
    "\n",
    "#'NAME_HOUSING_TYPE'\n",
    "application.replace({'NAME_HOUSING_TYPE': ['Municipal apartment', \n",
    "                                           'Office apartment', \n",
    "                                           'Co-op apartment']}, \n",
    "                    'Rented apartment', inplace = True)\n",
    "\n",
    "# OCCUPATION_TYPE\n",
    "application.replace({'OCCUPATION_TYPE': other_occp}, \n",
    "                    'Other', inplace = True)\n",
    "\n",
    "# ORGANIZATION_TYPE \n",
    "application.replace({'ORGANIZATION_TYPE': other_org}, \n",
    "                    'Other', inplace = True)\n",
    "\n",
    "# drop cat features - low variance and high % of missing val\n",
    "application.drop(columns = ['FONDKAPREMONT_MODE', \n",
    "                            'HOUSETYPE_MODE', \n",
    "                            'WALLSMATERIAL_MODE', \n",
    "                            'EMERGENCYSTATE_MODE'], \n",
    "                 axis = 1, inplace=True)\n",
    "\n",
    "## label encoder for binary values\n",
    "bin_features = ['CODE_GENDER', 'FLAG_OWN_CAR', 'FLAG_OWN_REALTY']\n",
    "\n",
    "replace_dict = {'CODE_GENDER': {'M': 0, 'F': 1},\n",
    "                'FLAG_OWN_CAR': {'Y': 0, 'N': 1}, \n",
    "                'FLAG_OWN_REALTY':{'Y': 0, 'N': 1},\n",
    "               'NAME_EDUCATION_TYPE': {'Higher education': 1,\n",
    "                                      'Secondary / secondary special': 0}}\n",
    "\n",
    "application.replace(replace_dict, inplace=True)\n",
    "\n",
    "\n",
    "# remove few instances\n",
    "application = application.loc[application['CODE_GENDER'] != 'XNA', :]\n",
    "application = application.loc[application['NAME_FAMILY_STATUS'] != 'Unknown', :]\n",
    "\n",
    "\n",
    "# drop_features > 50% of missing vals (both: cat, num)\n",
    "cols = [i for i in list(application.columns) if i != 'TARGET']\n",
    "_, missing_dict = get_missing_data_info(application.loc[:,cols])\n",
    "drop_cols = missing_dict['x > 50']\n",
    "\n",
    "# keep EXT_SOURCE_1 --> highly corr with target \n",
    "drop_cols.remove('EXT_SOURCE_1')\n",
    "\n",
    "application.drop(columns = drop_cols, axis = 1, inplace = True)\n",
    "\n",
    "# Numerical features \n",
    "\n",
    "## DAYS_EMPLOYED\n",
    "application['DAYS_EMPLOYED'].replace(365243, np.nan, inplace=True)\n",
    "application['DAYS_EMPLOYED'] =application['DAYS_EMPLOYED'].apply(lambda x: abs(x))\n",
    "\n",
    "application['BIRTH_IN_YEARS'] = application['DAYS_BIRTH'].apply(lambda x: abs(x)/365)\n",
    "\n",
    "\n",
    "\n",
    "# # remove few instances\n",
    "# application = application.loc[application['CODE_GENDER'] != 'XNA', :]\n",
    "# application = application.loc[application['NAME_FAMILY_STATUS'] != 'Unknown', :]\n",
    "\n",
    "\n",
    "# add new features \n",
    "application['ALL_EXT_SOURCE_MEAN']=application[['EXT_SOURCE_1', 'EXT_SOURCE_2', 'EXT_SOURCE_3']].mean(axis = 1)\n",
    "application['PAYMENT_RATE'] = application['AMT_ANNUITY']/application['AMT_CREDIT']\n",
    "application['INCOME_PER_PERSON'] = application['AMT_INCOME_TOTAL']/application['CNT_FAM_MEMBERS']\n",
    "application['INCOME_CREDIT_IN_PERCENTAGE '] = application['AMT_INCOME_TOTAL']/application['AMT_CREDIT']\n",
    "application['ANNUITY_INCOME_IN_PERCENTAGE'] = application['AMT_ANNUITY']/application['AMT_INCOME_TOTAL']\n",
    "\n",
    "doc_cols = [i for i in list(application.columns) if 'FLAG_DOCUMENT' in i]\n",
    "application['ALL_FLAG_DOCUMENT_SUM']=application[doc_cols].mean(axis = 1)\n",
    "\n",
    "## drop indiv doc columns \n",
    "application.drop(columns = doc_cols, axis = 1, inplace = True)\n",
    "\n",
    "if 'index' in list(application.columns):\n",
    "    application.drop(columns = ['index'], axis = 1, inplace = True)\n",
    "    print('index column removed')\n",
    "\n",
    "\n",
    "## label encoder for binary values\n",
    "# bin_features = ['CODE_GENDER', 'FLAG_OWN_CAR', 'FLAG_OWN_REALTY']\n",
    "\n",
    "# replace_dict = {'CODE_GENDER': {'M': 0, 'F': 1},\n",
    "#                 'FLAG_OWN_CAR': {'Y': 0, 'N': 1}, \n",
    "#                 'FLAG_OWN_REALTY':{'Y': 0, 'N': 1} }\n",
    "# application.replace(replace_dict, inplace=True)"
   ]
  },
  {
   "cell_type": "code",
   "execution_count": 77,
   "metadata": {
    "ExecuteTime": {
     "end_time": "2021-05-11T02:24:46.535992Z",
     "start_time": "2021-05-11T02:24:46.462270Z"
    }
   },
   "outputs": [
    {
     "data": {
      "text/html": [
       "<div>\n",
       "<style scoped>\n",
       "    .dataframe tbody tr th:only-of-type {\n",
       "        vertical-align: middle;\n",
       "    }\n",
       "\n",
       "    .dataframe tbody tr th {\n",
       "        vertical-align: top;\n",
       "    }\n",
       "\n",
       "    .dataframe thead th {\n",
       "        text-align: right;\n",
       "    }\n",
       "</style>\n",
       "<table border=\"1\" class=\"dataframe\">\n",
       "  <thead>\n",
       "    <tr style=\"text-align: right;\">\n",
       "      <th></th>\n",
       "      <th>index</th>\n",
       "      <th>NAME_TYPE_SUITE</th>\n",
       "    </tr>\n",
       "  </thead>\n",
       "  <tbody>\n",
       "    <tr>\n",
       "      <th>0</th>\n",
       "      <td>Unaccompanied</td>\n",
       "      <td>288250</td>\n",
       "    </tr>\n",
       "    <tr>\n",
       "      <th>1</th>\n",
       "      <td>Family</td>\n",
       "      <td>46029</td>\n",
       "    </tr>\n",
       "    <tr>\n",
       "      <th>2</th>\n",
       "      <td>Spouse, partner</td>\n",
       "      <td>12818</td>\n",
       "    </tr>\n",
       "    <tr>\n",
       "      <th>3</th>\n",
       "      <td>Other</td>\n",
       "      <td>6951</td>\n",
       "    </tr>\n",
       "    <tr>\n",
       "      <th>4</th>\n",
       "      <td>NaN</td>\n",
       "      <td>2201</td>\n",
       "    </tr>\n",
       "  </tbody>\n",
       "</table>\n",
       "</div>"
      ],
      "text/plain": [
       "             index  NAME_TYPE_SUITE\n",
       "0    Unaccompanied           288250\n",
       "1           Family            46029\n",
       "2  Spouse, partner            12818\n",
       "3            Other             6951\n",
       "4              NaN             2201"
      ]
     },
     "execution_count": 77,
     "metadata": {},
     "output_type": "execute_result"
    }
   ],
   "source": [
    "application.loc[:, 'NAME_TYPE_SUITE'].value_counts(dropna=False).to_frame().reset_index()"
   ]
  },
  {
   "cell_type": "code",
   "execution_count": 78,
   "metadata": {
    "ExecuteTime": {
     "end_time": "2021-05-11T02:26:06.438004Z",
     "start_time": "2021-05-11T02:26:06.370969Z"
    }
   },
   "outputs": [
    {
     "data": {
      "text/html": [
       "<div>\n",
       "<style scoped>\n",
       "    .dataframe tbody tr th:only-of-type {\n",
       "        vertical-align: middle;\n",
       "    }\n",
       "\n",
       "    .dataframe tbody tr th {\n",
       "        vertical-align: top;\n",
       "    }\n",
       "\n",
       "    .dataframe thead th {\n",
       "        text-align: right;\n",
       "    }\n",
       "</style>\n",
       "<table border=\"1\" class=\"dataframe\">\n",
       "  <thead>\n",
       "    <tr style=\"text-align: right;\">\n",
       "      <th></th>\n",
       "      <th>index</th>\n",
       "      <th>NAME_INCOME_TYPE</th>\n",
       "    </tr>\n",
       "  </thead>\n",
       "  <tbody>\n",
       "    <tr>\n",
       "      <th>0</th>\n",
       "      <td>Working</td>\n",
       "      <td>183304</td>\n",
       "    </tr>\n",
       "    <tr>\n",
       "      <th>1</th>\n",
       "      <td>Commercial associate</td>\n",
       "      <td>83016</td>\n",
       "    </tr>\n",
       "    <tr>\n",
       "      <th>2</th>\n",
       "      <td>Pensioner</td>\n",
       "      <td>64635</td>\n",
       "    </tr>\n",
       "    <tr>\n",
       "      <th>3</th>\n",
       "      <td>State servant</td>\n",
       "      <td>25235</td>\n",
       "    </tr>\n",
       "    <tr>\n",
       "      <th>4</th>\n",
       "      <td>Other</td>\n",
       "      <td>59</td>\n",
       "    </tr>\n",
       "  </tbody>\n",
       "</table>\n",
       "</div>"
      ],
      "text/plain": [
       "                  index  NAME_INCOME_TYPE\n",
       "0               Working            183304\n",
       "1  Commercial associate             83016\n",
       "2             Pensioner             64635\n",
       "3         State servant             25235\n",
       "4                 Other                59"
      ]
     },
     "execution_count": 78,
     "metadata": {},
     "output_type": "execute_result"
    }
   ],
   "source": [
    "application.loc[:, 'NAME_INCOME_TYPE'].value_counts(dropna=False).to_frame().reset_index()"
   ]
  },
  {
   "cell_type": "code",
   "execution_count": 91,
   "metadata": {
    "ExecuteTime": {
     "end_time": "2021-05-11T02:45:30.404667Z",
     "start_time": "2021-05-11T02:45:30.363062Z"
    }
   },
   "outputs": [
    {
     "data": {
      "text/html": [
       "<div>\n",
       "<style scoped>\n",
       "    .dataframe tbody tr th:only-of-type {\n",
       "        vertical-align: middle;\n",
       "    }\n",
       "\n",
       "    .dataframe tbody tr th {\n",
       "        vertical-align: top;\n",
       "    }\n",
       "\n",
       "    .dataframe thead th {\n",
       "        text-align: right;\n",
       "    }\n",
       "</style>\n",
       "<table border=\"1\" class=\"dataframe\">\n",
       "  <thead>\n",
       "    <tr style=\"text-align: right;\">\n",
       "      <th></th>\n",
       "      <th>index</th>\n",
       "      <th>NAME_EDUCATION_TYPE</th>\n",
       "    </tr>\n",
       "  </thead>\n",
       "  <tbody>\n",
       "    <tr>\n",
       "      <th>0</th>\n",
       "      <td>0</td>\n",
       "      <td>256667</td>\n",
       "    </tr>\n",
       "    <tr>\n",
       "      <th>1</th>\n",
       "      <td>1</td>\n",
       "      <td>99582</td>\n",
       "    </tr>\n",
       "  </tbody>\n",
       "</table>\n",
       "</div>"
      ],
      "text/plain": [
       "   index  NAME_EDUCATION_TYPE\n",
       "0      0               256667\n",
       "1      1                99582"
      ]
     },
     "execution_count": 91,
     "metadata": {},
     "output_type": "execute_result"
    }
   ],
   "source": [
    "application.loc[:, 'NAME_EDUCATION_TYPE'].value_counts(dropna=False).to_frame().reset_index()"
   ]
  },
  {
   "cell_type": "code",
   "execution_count": 81,
   "metadata": {
    "ExecuteTime": {
     "end_time": "2021-05-11T02:33:13.536065Z",
     "start_time": "2021-05-11T02:33:13.470069Z"
    }
   },
   "outputs": [
    {
     "data": {
      "text/html": [
       "<div>\n",
       "<style scoped>\n",
       "    .dataframe tbody tr th:only-of-type {\n",
       "        vertical-align: middle;\n",
       "    }\n",
       "\n",
       "    .dataframe tbody tr th {\n",
       "        vertical-align: top;\n",
       "    }\n",
       "\n",
       "    .dataframe thead th {\n",
       "        text-align: right;\n",
       "    }\n",
       "</style>\n",
       "<table border=\"1\" class=\"dataframe\">\n",
       "  <thead>\n",
       "    <tr style=\"text-align: right;\">\n",
       "      <th></th>\n",
       "      <th>index</th>\n",
       "      <th>NAME_HOUSING_TYPE</th>\n",
       "    </tr>\n",
       "  </thead>\n",
       "  <tbody>\n",
       "    <tr>\n",
       "      <th>0</th>\n",
       "      <td>House / apartment</td>\n",
       "      <td>316509</td>\n",
       "    </tr>\n",
       "    <tr>\n",
       "      <th>1</th>\n",
       "      <td>Rented apartment</td>\n",
       "      <td>22666</td>\n",
       "    </tr>\n",
       "    <tr>\n",
       "      <th>2</th>\n",
       "      <td>With parents</td>\n",
       "      <td>17074</td>\n",
       "    </tr>\n",
       "  </tbody>\n",
       "</table>\n",
       "</div>"
      ],
      "text/plain": [
       "               index  NAME_HOUSING_TYPE\n",
       "0  House / apartment             316509\n",
       "1   Rented apartment              22666\n",
       "2       With parents              17074"
      ]
     },
     "execution_count": 81,
     "metadata": {},
     "output_type": "execute_result"
    }
   ],
   "source": [
    "application.loc[:, 'NAME_HOUSING_TYPE'].value_counts(dropna=False).to_frame().reset_index()"
   ]
  },
  {
   "cell_type": "code",
   "execution_count": 82,
   "metadata": {
    "ExecuteTime": {
     "end_time": "2021-05-11T02:34:32.166530Z",
     "start_time": "2021-05-11T02:34:32.099956Z"
    }
   },
   "outputs": [
    {
     "data": {
      "text/html": [
       "<div>\n",
       "<style scoped>\n",
       "    .dataframe tbody tr th:only-of-type {\n",
       "        vertical-align: middle;\n",
       "    }\n",
       "\n",
       "    .dataframe tbody tr th {\n",
       "        vertical-align: top;\n",
       "    }\n",
       "\n",
       "    .dataframe thead th {\n",
       "        text-align: right;\n",
       "    }\n",
       "</style>\n",
       "<table border=\"1\" class=\"dataframe\">\n",
       "  <thead>\n",
       "    <tr style=\"text-align: right;\">\n",
       "      <th></th>\n",
       "      <th>index</th>\n",
       "      <th>OCCUPATION_TYPE</th>\n",
       "    </tr>\n",
       "  </thead>\n",
       "  <tbody>\n",
       "    <tr>\n",
       "      <th>0</th>\n",
       "      <td>NaN</td>\n",
       "      <td>111994</td>\n",
       "    </tr>\n",
       "    <tr>\n",
       "      <th>1</th>\n",
       "      <td>Laborers</td>\n",
       "      <td>63841</td>\n",
       "    </tr>\n",
       "    <tr>\n",
       "      <th>2</th>\n",
       "      <td>Other</td>\n",
       "      <td>40316</td>\n",
       "    </tr>\n",
       "    <tr>\n",
       "      <th>3</th>\n",
       "      <td>Sales staff</td>\n",
       "      <td>37174</td>\n",
       "    </tr>\n",
       "    <tr>\n",
       "      <th>4</th>\n",
       "      <td>Core staff</td>\n",
       "      <td>31930</td>\n",
       "    </tr>\n",
       "    <tr>\n",
       "      <th>5</th>\n",
       "      <td>Managers</td>\n",
       "      <td>24944</td>\n",
       "    </tr>\n",
       "    <tr>\n",
       "      <th>6</th>\n",
       "      <td>Drivers</td>\n",
       "      <td>21376</td>\n",
       "    </tr>\n",
       "    <tr>\n",
       "      <th>7</th>\n",
       "      <td>High skill tech staff</td>\n",
       "      <td>13234</td>\n",
       "    </tr>\n",
       "    <tr>\n",
       "      <th>8</th>\n",
       "      <td>Accountants</td>\n",
       "      <td>11440</td>\n",
       "    </tr>\n",
       "  </tbody>\n",
       "</table>\n",
       "</div>"
      ],
      "text/plain": [
       "                   index  OCCUPATION_TYPE\n",
       "0                    NaN           111994\n",
       "1               Laborers            63841\n",
       "2                  Other            40316\n",
       "3            Sales staff            37174\n",
       "4             Core staff            31930\n",
       "5               Managers            24944\n",
       "6                Drivers            21376\n",
       "7  High skill tech staff            13234\n",
       "8            Accountants            11440"
      ]
     },
     "execution_count": 82,
     "metadata": {},
     "output_type": "execute_result"
    }
   ],
   "source": [
    "application.loc[:, 'OCCUPATION_TYPE'].value_counts(dropna=False).to_frame().reset_index()"
   ]
  },
  {
   "cell_type": "code",
   "execution_count": 84,
   "metadata": {
    "ExecuteTime": {
     "end_time": "2021-05-11T02:36:01.239142Z",
     "start_time": "2021-05-11T02:36:01.155645Z"
    }
   },
   "outputs": [
    {
     "data": {
      "text/html": [
       "<div>\n",
       "<style scoped>\n",
       "    .dataframe tbody tr th:only-of-type {\n",
       "        vertical-align: middle;\n",
       "    }\n",
       "\n",
       "    .dataframe tbody tr th {\n",
       "        vertical-align: top;\n",
       "    }\n",
       "\n",
       "    .dataframe thead th {\n",
       "        text-align: right;\n",
       "    }\n",
       "</style>\n",
       "<table border=\"1\" class=\"dataframe\">\n",
       "  <thead>\n",
       "    <tr style=\"text-align: right;\">\n",
       "      <th></th>\n",
       "      <th>index</th>\n",
       "      <th>ORGANIZATION_TYPE</th>\n",
       "    </tr>\n",
       "  </thead>\n",
       "  <tbody>\n",
       "    <tr>\n",
       "      <th>0</th>\n",
       "      <td>Other</td>\n",
       "      <td>96595</td>\n",
       "    </tr>\n",
       "    <tr>\n",
       "      <th>1</th>\n",
       "      <td>Business Entity Type 3</td>\n",
       "      <td>78832</td>\n",
       "    </tr>\n",
       "    <tr>\n",
       "      <th>2</th>\n",
       "      <td>XNA</td>\n",
       "      <td>64648</td>\n",
       "    </tr>\n",
       "    <tr>\n",
       "      <th>3</th>\n",
       "      <td>Self-employed</td>\n",
       "      <td>44332</td>\n",
       "    </tr>\n",
       "    <tr>\n",
       "      <th>4</th>\n",
       "      <td>Medicine</td>\n",
       "      <td>12908</td>\n",
       "    </tr>\n",
       "    <tr>\n",
       "      <th>5</th>\n",
       "      <td>Business Entity Type 2</td>\n",
       "      <td>12031</td>\n",
       "    </tr>\n",
       "    <tr>\n",
       "      <th>6</th>\n",
       "      <td>Government</td>\n",
       "      <td>11912</td>\n",
       "    </tr>\n",
       "    <tr>\n",
       "      <th>7</th>\n",
       "      <td>School</td>\n",
       "      <td>10180</td>\n",
       "    </tr>\n",
       "    <tr>\n",
       "      <th>8</th>\n",
       "      <td>Trade: type 7</td>\n",
       "      <td>9134</td>\n",
       "    </tr>\n",
       "    <tr>\n",
       "      <th>9</th>\n",
       "      <td>Kindergarten</td>\n",
       "      <td>7917</td>\n",
       "    </tr>\n",
       "    <tr>\n",
       "      <th>10</th>\n",
       "      <td>Construction</td>\n",
       "      <td>7760</td>\n",
       "    </tr>\n",
       "  </tbody>\n",
       "</table>\n",
       "</div>"
      ],
      "text/plain": [
       "                     index  ORGANIZATION_TYPE\n",
       "0                    Other              96595\n",
       "1   Business Entity Type 3              78832\n",
       "2                      XNA              64648\n",
       "3            Self-employed              44332\n",
       "4                 Medicine              12908\n",
       "5   Business Entity Type 2              12031\n",
       "6               Government              11912\n",
       "7                   School              10180\n",
       "8            Trade: type 7               9134\n",
       "9             Kindergarten               7917\n",
       "10            Construction               7760"
      ]
     },
     "execution_count": 84,
     "metadata": {},
     "output_type": "execute_result"
    }
   ],
   "source": [
    "application.loc[:, 'ORGANIZATION_TYPE'].value_counts(dropna=False).to_frame().reset_index()"
   ]
  },
  {
   "cell_type": "code",
   "execution_count": 93,
   "metadata": {
    "ExecuteTime": {
     "end_time": "2021-05-11T02:50:47.348742Z",
     "start_time": "2021-05-11T02:50:46.717009Z"
    }
   },
   "outputs": [
    {
     "data": {
      "text/plain": [
       "(48744, 124)"
      ]
     },
     "execution_count": 93,
     "metadata": {},
     "output_type": "execute_result"
    }
   ],
   "source": [
    "Xt = application.loc[application['TARGET'].isnull(), :].drop(columns=['TARGET'], axis=1)\n",
    "Xt.shape"
   ]
  },
  {
   "cell_type": "code",
   "execution_count": 98,
   "metadata": {
    "ExecuteTime": {
     "end_time": "2021-05-11T03:09:04.965567Z",
     "start_time": "2021-05-11T03:09:04.955861Z"
    }
   },
   "outputs": [
    {
     "data": {
      "text/plain": [
       "['FLAG_DOCUMENT_2',\n",
       " 'FLAG_DOCUMENT_3',\n",
       " 'FLAG_DOCUMENT_4',\n",
       " 'FLAG_DOCUMENT_5',\n",
       " 'FLAG_DOCUMENT_6',\n",
       " 'FLAG_DOCUMENT_7',\n",
       " 'FLAG_DOCUMENT_8',\n",
       " 'FLAG_DOCUMENT_9',\n",
       " 'FLAG_DOCUMENT_10',\n",
       " 'FLAG_DOCUMENT_11',\n",
       " 'FLAG_DOCUMENT_12',\n",
       " 'FLAG_DOCUMENT_13',\n",
       " 'FLAG_DOCUMENT_14',\n",
       " 'FLAG_DOCUMENT_15',\n",
       " 'FLAG_DOCUMENT_16',\n",
       " 'FLAG_DOCUMENT_17',\n",
       " 'FLAG_DOCUMENT_18',\n",
       " 'FLAG_DOCUMENT_19',\n",
       " 'FLAG_DOCUMENT_20',\n",
       " 'FLAG_DOCUMENT_21']"
      ]
     },
     "execution_count": 98,
     "metadata": {},
     "output_type": "execute_result"
    }
   ],
   "source": [
    "doc_cols = [i for i in list(application.columns) if 'FLAG_DOCUMENT' in i]\n",
    "doc_cols"
   ]
  },
  {
   "cell_type": "code",
   "execution_count": 96,
   "metadata": {
    "ExecuteTime": {
     "end_time": "2021-05-11T03:06:24.283407Z",
     "start_time": "2021-05-11T03:06:23.942226Z"
    }
   },
   "outputs": [
    {
     "data": {
      "text/plain": [
       "True"
      ]
     },
     "execution_count": 96,
     "metadata": {},
     "output_type": "execute_result"
    }
   ],
   "source": [
    "\"FLAG_DOCUMENT\" in \"FLAG_DOCUMENT_2\""
   ]
  },
  {
   "cell_type": "code",
   "execution_count": 97,
   "metadata": {
    "ExecuteTime": {
     "end_time": "2021-05-11T03:06:55.204923Z",
     "start_time": "2021-05-11T03:06:55.194472Z"
    }
   },
   "outputs": [
    {
     "data": {
      "text/plain": [
       "['index',\n",
       " 'SK_ID_CURR',\n",
       " 'TARGET',\n",
       " 'NAME_CONTRACT_TYPE',\n",
       " 'CODE_GENDER',\n",
       " 'FLAG_OWN_CAR',\n",
       " 'FLAG_OWN_REALTY',\n",
       " 'CNT_CHILDREN',\n",
       " 'AMT_INCOME_TOTAL',\n",
       " 'AMT_CREDIT',\n",
       " 'AMT_ANNUITY',\n",
       " 'AMT_GOODS_PRICE',\n",
       " 'NAME_TYPE_SUITE',\n",
       " 'NAME_INCOME_TYPE',\n",
       " 'NAME_EDUCATION_TYPE',\n",
       " 'NAME_FAMILY_STATUS',\n",
       " 'NAME_HOUSING_TYPE',\n",
       " 'REGION_POPULATION_RELATIVE',\n",
       " 'DAYS_BIRTH',\n",
       " 'DAYS_EMPLOYED',\n",
       " 'DAYS_REGISTRATION',\n",
       " 'DAYS_ID_PUBLISH',\n",
       " 'OWN_CAR_AGE',\n",
       " 'FLAG_MOBIL',\n",
       " 'FLAG_EMP_PHONE',\n",
       " 'FLAG_WORK_PHONE',\n",
       " 'FLAG_CONT_MOBILE',\n",
       " 'FLAG_PHONE',\n",
       " 'FLAG_EMAIL',\n",
       " 'OCCUPATION_TYPE',\n",
       " 'CNT_FAM_MEMBERS',\n",
       " 'REGION_RATING_CLIENT',\n",
       " 'REGION_RATING_CLIENT_W_CITY',\n",
       " 'WEEKDAY_APPR_PROCESS_START',\n",
       " 'HOUR_APPR_PROCESS_START',\n",
       " 'REG_REGION_NOT_LIVE_REGION',\n",
       " 'REG_REGION_NOT_WORK_REGION',\n",
       " 'LIVE_REGION_NOT_WORK_REGION',\n",
       " 'REG_CITY_NOT_LIVE_CITY',\n",
       " 'REG_CITY_NOT_WORK_CITY',\n",
       " 'LIVE_CITY_NOT_WORK_CITY',\n",
       " 'ORGANIZATION_TYPE',\n",
       " 'EXT_SOURCE_1',\n",
       " 'EXT_SOURCE_2',\n",
       " 'EXT_SOURCE_3',\n",
       " 'APARTMENTS_AVG',\n",
       " 'BASEMENTAREA_AVG',\n",
       " 'YEARS_BEGINEXPLUATATION_AVG',\n",
       " 'YEARS_BUILD_AVG',\n",
       " 'COMMONAREA_AVG',\n",
       " 'ELEVATORS_AVG',\n",
       " 'ENTRANCES_AVG',\n",
       " 'FLOORSMAX_AVG',\n",
       " 'FLOORSMIN_AVG',\n",
       " 'LANDAREA_AVG',\n",
       " 'LIVINGAPARTMENTS_AVG',\n",
       " 'LIVINGAREA_AVG',\n",
       " 'NONLIVINGAPARTMENTS_AVG',\n",
       " 'NONLIVINGAREA_AVG',\n",
       " 'APARTMENTS_MODE',\n",
       " 'BASEMENTAREA_MODE',\n",
       " 'YEARS_BEGINEXPLUATATION_MODE',\n",
       " 'YEARS_BUILD_MODE',\n",
       " 'COMMONAREA_MODE',\n",
       " 'ELEVATORS_MODE',\n",
       " 'ENTRANCES_MODE',\n",
       " 'FLOORSMAX_MODE',\n",
       " 'FLOORSMIN_MODE',\n",
       " 'LANDAREA_MODE',\n",
       " 'LIVINGAPARTMENTS_MODE',\n",
       " 'LIVINGAREA_MODE',\n",
       " 'NONLIVINGAPARTMENTS_MODE',\n",
       " 'NONLIVINGAREA_MODE',\n",
       " 'APARTMENTS_MEDI',\n",
       " 'BASEMENTAREA_MEDI',\n",
       " 'YEARS_BEGINEXPLUATATION_MEDI',\n",
       " 'YEARS_BUILD_MEDI',\n",
       " 'COMMONAREA_MEDI',\n",
       " 'ELEVATORS_MEDI',\n",
       " 'ENTRANCES_MEDI',\n",
       " 'FLOORSMAX_MEDI',\n",
       " 'FLOORSMIN_MEDI',\n",
       " 'LANDAREA_MEDI',\n",
       " 'LIVINGAPARTMENTS_MEDI',\n",
       " 'LIVINGAREA_MEDI',\n",
       " 'NONLIVINGAPARTMENTS_MEDI',\n",
       " 'NONLIVINGAREA_MEDI',\n",
       " 'TOTALAREA_MODE',\n",
       " 'OBS_30_CNT_SOCIAL_CIRCLE',\n",
       " 'DEF_30_CNT_SOCIAL_CIRCLE',\n",
       " 'OBS_60_CNT_SOCIAL_CIRCLE',\n",
       " 'DEF_60_CNT_SOCIAL_CIRCLE',\n",
       " 'DAYS_LAST_PHONE_CHANGE',\n",
       " 'FLAG_DOCUMENT_2',\n",
       " 'FLAG_DOCUMENT_3',\n",
       " 'FLAG_DOCUMENT_4',\n",
       " 'FLAG_DOCUMENT_5',\n",
       " 'FLAG_DOCUMENT_6',\n",
       " 'FLAG_DOCUMENT_7',\n",
       " 'FLAG_DOCUMENT_8',\n",
       " 'FLAG_DOCUMENT_9',\n",
       " 'FLAG_DOCUMENT_10',\n",
       " 'FLAG_DOCUMENT_11',\n",
       " 'FLAG_DOCUMENT_12',\n",
       " 'FLAG_DOCUMENT_13',\n",
       " 'FLAG_DOCUMENT_14',\n",
       " 'FLAG_DOCUMENT_15',\n",
       " 'FLAG_DOCUMENT_16',\n",
       " 'FLAG_DOCUMENT_17',\n",
       " 'FLAG_DOCUMENT_18',\n",
       " 'FLAG_DOCUMENT_19',\n",
       " 'FLAG_DOCUMENT_20',\n",
       " 'FLAG_DOCUMENT_21',\n",
       " 'AMT_REQ_CREDIT_BUREAU_HOUR',\n",
       " 'AMT_REQ_CREDIT_BUREAU_DAY',\n",
       " 'AMT_REQ_CREDIT_BUREAU_WEEK',\n",
       " 'AMT_REQ_CREDIT_BUREAU_MON',\n",
       " 'AMT_REQ_CREDIT_BUREAU_QRT',\n",
       " 'AMT_REQ_CREDIT_BUREAU_YEAR',\n",
       " 'BIRTH_IN_YEARS',\n",
       " 'ALL_EXT_SOURCE_MEAN',\n",
       " 'PAYMENT_RATE',\n",
       " 'INCOME_PER_PERSON',\n",
       " 'INCOME_CREDIT_IN_PERCENTAGE ',\n",
       " 'ANNUITY_INCOME_IN_PERCENTAGE']"
      ]
     },
     "execution_count": 97,
     "metadata": {},
     "output_type": "execute_result"
    }
   ],
   "source": [
    "list(application.columns)"
   ]
  },
  {
   "cell_type": "code",
   "execution_count": 99,
   "metadata": {
    "ExecuteTime": {
     "end_time": "2021-05-11T03:17:35.587897Z",
     "start_time": "2021-05-11T03:17:35.551902Z"
    }
   },
   "outputs": [
    {
     "data": {
      "text/plain": [
       "0    330879\n",
       "1     25370\n",
       "Name: FLAG_EMAIL, dtype: int64"
      ]
     },
     "execution_count": 99,
     "metadata": {},
     "output_type": "execute_result"
    }
   ],
   "source": [
    "application.loc[:, 'FLAG_EMAIL'].value_counts()"
   ]
  },
  {
   "cell_type": "code",
   "execution_count": 100,
   "metadata": {
    "ExecuteTime": {
     "end_time": "2021-05-11T03:18:44.849033Z",
     "start_time": "2021-05-11T03:18:44.793600Z"
    }
   },
   "outputs": [
    {
     "data": {
      "text/plain": [
       "1    356247\n",
       "0         2\n",
       "Name: FLAG_MOBIL, dtype: int64"
      ]
     },
     "execution_count": 100,
     "metadata": {},
     "output_type": "execute_result"
    }
   ],
   "source": [
    "application.loc[:, 'FLAG_MOBIL'].value_counts()"
   ]
  },
  {
   "cell_type": "code",
   "execution_count": 101,
   "metadata": {
    "ExecuteTime": {
     "end_time": "2021-05-11T03:19:19.297156Z",
     "start_time": "2021-05-11T03:19:19.244240Z"
    }
   },
   "outputs": [
    {
     "data": {
      "text/plain": [
       "1    291588\n",
       "0     64661\n",
       "Name: FLAG_EMP_PHONE, dtype: int64"
      ]
     },
     "execution_count": 101,
     "metadata": {},
     "output_type": "execute_result"
    }
   ],
   "source": [
    "application.loc[:, 'FLAG_EMP_PHONE'].value_counts()"
   ]
  },
  {
   "cell_type": "code",
   "execution_count": 102,
   "metadata": {
    "ExecuteTime": {
     "end_time": "2021-05-11T03:20:04.660243Z",
     "start_time": "2021-05-11T03:20:04.623103Z"
    }
   },
   "outputs": [
    {
     "data": {
      "text/plain": [
       "0    284968\n",
       "1     71281\n",
       "Name: FLAG_WORK_PHONE, dtype: int64"
      ]
     },
     "execution_count": 102,
     "metadata": {},
     "output_type": "execute_result"
    }
   ],
   "source": [
    "application.loc[:, 'FLAG_WORK_PHONE'].value_counts()"
   ]
  },
  {
   "cell_type": "code",
   "execution_count": 103,
   "metadata": {
    "ExecuteTime": {
     "end_time": "2021-05-11T03:20:38.072616Z",
     "start_time": "2021-05-11T03:20:38.001464Z"
    }
   },
   "outputs": [
    {
     "data": {
      "text/plain": [
       "1    355597\n",
       "0       652\n",
       "Name: FLAG_CONT_MOBILE, dtype: int64"
      ]
     },
     "execution_count": 103,
     "metadata": {},
     "output_type": "execute_result"
    }
   ],
   "source": [
    "application.loc[:, 'FLAG_CONT_MOBILE'].value_counts()"
   ]
  },
  {
   "cell_type": "code",
   "execution_count": 104,
   "metadata": {
    "ExecuteTime": {
     "end_time": "2021-05-11T03:21:18.874841Z",
     "start_time": "2021-05-11T03:21:18.837571Z"
    }
   },
   "outputs": [
    {
     "data": {
      "text/plain": [
       "0    256997\n",
       "1     99252\n",
       "Name: FLAG_PHONE, dtype: int64"
      ]
     },
     "execution_count": 104,
     "metadata": {},
     "output_type": "execute_result"
    }
   ],
   "source": [
    "application.loc[:, 'FLAG_PHONE'].value_counts()"
   ]
  },
  {
   "cell_type": "code",
   "execution_count": 110,
   "metadata": {
    "ExecuteTime": {
     "end_time": "2021-05-11T03:52:03.222405Z",
     "start_time": "2021-05-11T03:52:01.005883Z"
    }
   },
   "outputs": [],
   "source": [
    "target = application.loc[application['TARGET'].notnull(), 'TARGET']\n",
    "train_df = application.loc[application['TARGET'].notnull(), :].drop(columns=['TARGET']).select_dtypes(include = [int, float])"
   ]
  },
  {
   "cell_type": "code",
   "execution_count": 113,
   "metadata": {
    "ExecuteTime": {
     "end_time": "2021-05-11T03:53:40.682748Z",
     "start_time": "2021-05-11T03:53:40.099195Z"
    }
   },
   "outputs": [
    {
     "data": {
      "text/plain": [
       "0.021851250991688637"
      ]
     },
     "execution_count": 113,
     "metadata": {},
     "output_type": "execute_result"
    }
   ],
   "source": [
    "target.corr(train_df['FLAG_OWN_CAR'])"
   ]
  },
  {
   "cell_type": "code",
   "execution_count": 115,
   "metadata": {
    "ExecuteTime": {
     "end_time": "2021-05-11T03:57:12.083013Z",
     "start_time": "2021-05-11T03:57:11.697681Z"
    }
   },
   "outputs": [
    {
     "data": {
      "text/plain": [
       "['FLAG_OWN_CAR',\n",
       " 'FLAG_OWN_REALTY',\n",
       " 'CNT_CHILDREN',\n",
       " 'AMT_INCOME_TOTAL',\n",
       " 'AMT_CREDIT',\n",
       " 'AMT_ANNUITY',\n",
       " 'AMT_GOODS_PRICE',\n",
       " 'NAME_EDUCATION_TYPE',\n",
       " 'REGION_POPULATION_RELATIVE',\n",
       " 'DAYS_BIRTH',\n",
       " 'DAYS_EMPLOYED',\n",
       " 'DAYS_REGISTRATION',\n",
       " 'DAYS_ID_PUBLISH',\n",
       " 'OWN_CAR_AGE',\n",
       " 'FLAG_MOBIL',\n",
       " 'FLAG_EMP_PHONE',\n",
       " 'FLAG_WORK_PHONE',\n",
       " 'FLAG_CONT_MOBILE',\n",
       " 'FLAG_PHONE',\n",
       " 'FLAG_EMAIL',\n",
       " 'CNT_FAM_MEMBERS',\n",
       " 'REGION_RATING_CLIENT',\n",
       " 'REGION_RATING_CLIENT_W_CITY',\n",
       " 'HOUR_APPR_PROCESS_START',\n",
       " 'REG_REGION_NOT_LIVE_REGION',\n",
       " 'REG_REGION_NOT_WORK_REGION',\n",
       " 'LIVE_REGION_NOT_WORK_REGION',\n",
       " 'REG_CITY_NOT_LIVE_CITY',\n",
       " 'REG_CITY_NOT_WORK_CITY',\n",
       " 'LIVE_CITY_NOT_WORK_CITY',\n",
       " 'EXT_SOURCE_1',\n",
       " 'EXT_SOURCE_2',\n",
       " 'EXT_SOURCE_3',\n",
       " 'APARTMENTS_AVG',\n",
       " 'BASEMENTAREA_AVG',\n",
       " 'YEARS_BEGINEXPLUATATION_AVG',\n",
       " 'YEARS_BUILD_AVG',\n",
       " 'COMMONAREA_AVG',\n",
       " 'ELEVATORS_AVG',\n",
       " 'ENTRANCES_AVG',\n",
       " 'FLOORSMAX_AVG',\n",
       " 'FLOORSMIN_AVG',\n",
       " 'LANDAREA_AVG',\n",
       " 'LIVINGAPARTMENTS_AVG',\n",
       " 'LIVINGAREA_AVG',\n",
       " 'NONLIVINGAPARTMENTS_AVG',\n",
       " 'NONLIVINGAREA_AVG',\n",
       " 'APARTMENTS_MODE',\n",
       " 'BASEMENTAREA_MODE',\n",
       " 'YEARS_BEGINEXPLUATATION_MODE',\n",
       " 'YEARS_BUILD_MODE',\n",
       " 'COMMONAREA_MODE',\n",
       " 'ELEVATORS_MODE',\n",
       " 'ENTRANCES_MODE',\n",
       " 'FLOORSMAX_MODE',\n",
       " 'FLOORSMIN_MODE',\n",
       " 'LANDAREA_MODE',\n",
       " 'LIVINGAPARTMENTS_MODE',\n",
       " 'LIVINGAREA_MODE',\n",
       " 'NONLIVINGAPARTMENTS_MODE',\n",
       " 'NONLIVINGAREA_MODE',\n",
       " 'APARTMENTS_MEDI',\n",
       " 'BASEMENTAREA_MEDI',\n",
       " 'YEARS_BEGINEXPLUATATION_MEDI',\n",
       " 'YEARS_BUILD_MEDI',\n",
       " 'COMMONAREA_MEDI',\n",
       " 'ELEVATORS_MEDI',\n",
       " 'ENTRANCES_MEDI',\n",
       " 'FLOORSMAX_MEDI',\n",
       " 'FLOORSMIN_MEDI',\n",
       " 'LANDAREA_MEDI',\n",
       " 'LIVINGAPARTMENTS_MEDI',\n",
       " 'LIVINGAREA_MEDI',\n",
       " 'NONLIVINGAPARTMENTS_MEDI',\n",
       " 'NONLIVINGAREA_MEDI',\n",
       " 'TOTALAREA_MODE',\n",
       " 'OBS_30_CNT_SOCIAL_CIRCLE',\n",
       " 'DEF_30_CNT_SOCIAL_CIRCLE',\n",
       " 'OBS_60_CNT_SOCIAL_CIRCLE',\n",
       " 'DEF_60_CNT_SOCIAL_CIRCLE',\n",
       " 'DAYS_LAST_PHONE_CHANGE',\n",
       " 'FLAG_DOCUMENT_2',\n",
       " 'FLAG_DOCUMENT_3',\n",
       " 'FLAG_DOCUMENT_4',\n",
       " 'FLAG_DOCUMENT_5',\n",
       " 'FLAG_DOCUMENT_6',\n",
       " 'FLAG_DOCUMENT_7',\n",
       " 'FLAG_DOCUMENT_8',\n",
       " 'FLAG_DOCUMENT_9',\n",
       " 'FLAG_DOCUMENT_10',\n",
       " 'FLAG_DOCUMENT_11',\n",
       " 'FLAG_DOCUMENT_12',\n",
       " 'FLAG_DOCUMENT_13',\n",
       " 'FLAG_DOCUMENT_14',\n",
       " 'FLAG_DOCUMENT_15',\n",
       " 'FLAG_DOCUMENT_16',\n",
       " 'FLAG_DOCUMENT_17',\n",
       " 'FLAG_DOCUMENT_18',\n",
       " 'FLAG_DOCUMENT_19',\n",
       " 'FLAG_DOCUMENT_20',\n",
       " 'FLAG_DOCUMENT_21',\n",
       " 'AMT_REQ_CREDIT_BUREAU_HOUR',\n",
       " 'AMT_REQ_CREDIT_BUREAU_DAY',\n",
       " 'AMT_REQ_CREDIT_BUREAU_WEEK',\n",
       " 'AMT_REQ_CREDIT_BUREAU_MON',\n",
       " 'AMT_REQ_CREDIT_BUREAU_QRT',\n",
       " 'AMT_REQ_CREDIT_BUREAU_YEAR',\n",
       " 'BIRTH_IN_YEARS',\n",
       " 'ALL_EXT_SOURCE_MEAN',\n",
       " 'PAYMENT_RATE',\n",
       " 'INCOME_PER_PERSON',\n",
       " 'INCOME_CREDIT_IN_PERCENTAGE ',\n",
       " 'ANNUITY_INCOME_IN_PERCENTAGE']"
      ]
     },
     "execution_count": 115,
     "metadata": {},
     "output_type": "execute_result"
    }
   ],
   "source": [
    "corr_col = [i for i in train_df.columns if i not in ['index', 'SK_ID_CURR']]\n",
    "corr_col"
   ]
  },
  {
   "cell_type": "code",
   "execution_count": 128,
   "metadata": {
    "ExecuteTime": {
     "end_time": "2021-05-11T04:08:34.355333Z",
     "start_time": "2021-05-11T04:08:33.470224Z"
    }
   },
   "outputs": [],
   "source": [
    "corr_arr = pd.Series([target.corr(train_df[i]) for i in corr_col])"
   ]
  },
  {
   "cell_type": "code",
   "execution_count": 130,
   "metadata": {
    "ExecuteTime": {
     "end_time": "2021-05-11T04:08:53.336379Z",
     "start_time": "2021-05-11T04:08:53.308928Z"
    }
   },
   "outputs": [
    {
     "data": {
      "text/plain": [
       "0      0.021851\n",
       "1      0.006145\n",
       "2      0.019188\n",
       "3     -0.003980\n",
       "4     -0.030371\n",
       "         ...   \n",
       "108   -0.222053\n",
       "109    0.012703\n",
       "110   -0.006572\n",
       "111   -0.001816\n",
       "112    0.014261\n",
       "Length: 113, dtype: float64"
      ]
     },
     "execution_count": 130,
     "metadata": {},
     "output_type": "execute_result"
    }
   ],
   "source": [
    "corr_ar "
   ]
  },
  {
   "cell_type": "code",
   "execution_count": 136,
   "metadata": {
    "ExecuteTime": {
     "end_time": "2021-05-11T04:14:52.006011Z",
     "start_time": "2021-05-11T04:14:51.957787Z"
    }
   },
   "outputs": [
    {
     "data": {
      "text/html": [
       "<div>\n",
       "<style scoped>\n",
       "    .dataframe tbody tr th:only-of-type {\n",
       "        vertical-align: middle;\n",
       "    }\n",
       "\n",
       "    .dataframe tbody tr th {\n",
       "        vertical-align: top;\n",
       "    }\n",
       "\n",
       "    .dataframe thead th {\n",
       "        text-align: right;\n",
       "    }\n",
       "</style>\n",
       "<table border=\"1\" class=\"dataframe\">\n",
       "  <thead>\n",
       "    <tr style=\"text-align: right;\">\n",
       "      <th></th>\n",
       "      <th>feature</th>\n",
       "      <th>corr with target</th>\n",
       "    </tr>\n",
       "  </thead>\n",
       "  <tbody>\n",
       "    <tr>\n",
       "      <th>9</th>\n",
       "      <td>DAYS_BIRTH</td>\n",
       "      <td>0.078244</td>\n",
       "    </tr>\n",
       "    <tr>\n",
       "      <th>22</th>\n",
       "      <td>REGION_RATING_CLIENT_W_CITY</td>\n",
       "      <td>0.060895</td>\n",
       "    </tr>\n",
       "    <tr>\n",
       "      <th>21</th>\n",
       "      <td>REGION_RATING_CLIENT</td>\n",
       "      <td>0.058901</td>\n",
       "    </tr>\n",
       "    <tr>\n",
       "      <th>80</th>\n",
       "      <td>DAYS_LAST_PHONE_CHANGE</td>\n",
       "      <td>0.055220</td>\n",
       "    </tr>\n",
       "    <tr>\n",
       "      <th>12</th>\n",
       "      <td>DAYS_ID_PUBLISH</td>\n",
       "      <td>0.051457</td>\n",
       "    </tr>\n",
       "  </tbody>\n",
       "</table>\n",
       "</div>"
      ],
      "text/plain": [
       "                        feature  corr with target\n",
       "9                    DAYS_BIRTH          0.078244\n",
       "22  REGION_RATING_CLIENT_W_CITY          0.060895\n",
       "21         REGION_RATING_CLIENT          0.058901\n",
       "80       DAYS_LAST_PHONE_CHANGE          0.055220\n",
       "12              DAYS_ID_PUBLISH          0.051457"
      ]
     },
     "execution_count": 136,
     "metadata": {},
     "output_type": "execute_result"
    }
   ],
   "source": [
    "corr_arr = pd.Series([target.corr(train_df[i]) for i in corr_col])\n",
    "name = pd.Series(corr_col)\n",
    "df_dict = {'feature': name, 'corr with target': corr_arr}\n",
    "corr_df = pd.DataFrame(df_dict).sort_values(by = 'corr with target',ascending=False)\n",
    "corr_df.head()"
   ]
  },
  {
   "cell_type": "code",
   "execution_count": 137,
   "metadata": {
    "ExecuteTime": {
     "end_time": "2021-05-11T04:15:32.705131Z",
     "start_time": "2021-05-11T04:15:32.692537Z"
    }
   },
   "outputs": [
    {
     "data": {
      "text/html": [
       "<div>\n",
       "<style scoped>\n",
       "    .dataframe tbody tr th:only-of-type {\n",
       "        vertical-align: middle;\n",
       "    }\n",
       "\n",
       "    .dataframe tbody tr th {\n",
       "        vertical-align: top;\n",
       "    }\n",
       "\n",
       "    .dataframe thead th {\n",
       "        text-align: right;\n",
       "    }\n",
       "</style>\n",
       "<table border=\"1\" class=\"dataframe\">\n",
       "  <thead>\n",
       "    <tr style=\"text-align: right;\">\n",
       "      <th></th>\n",
       "      <th>feature</th>\n",
       "      <th>corr with target</th>\n",
       "    </tr>\n",
       "  </thead>\n",
       "  <tbody>\n",
       "    <tr>\n",
       "      <th>107</th>\n",
       "      <td>BIRTH_IN_YEARS</td>\n",
       "      <td>-0.078244</td>\n",
       "    </tr>\n",
       "    <tr>\n",
       "      <th>30</th>\n",
       "      <td>EXT_SOURCE_1</td>\n",
       "      <td>-0.155316</td>\n",
       "    </tr>\n",
       "    <tr>\n",
       "      <th>31</th>\n",
       "      <td>EXT_SOURCE_2</td>\n",
       "      <td>-0.160470</td>\n",
       "    </tr>\n",
       "    <tr>\n",
       "      <th>32</th>\n",
       "      <td>EXT_SOURCE_3</td>\n",
       "      <td>-0.178926</td>\n",
       "    </tr>\n",
       "    <tr>\n",
       "      <th>108</th>\n",
       "      <td>ALL_EXT_SOURCE_MEAN</td>\n",
       "      <td>-0.222053</td>\n",
       "    </tr>\n",
       "  </tbody>\n",
       "</table>\n",
       "</div>"
      ],
      "text/plain": [
       "                 feature  corr with target\n",
       "107       BIRTH_IN_YEARS         -0.078244\n",
       "30          EXT_SOURCE_1         -0.155316\n",
       "31          EXT_SOURCE_2         -0.160470\n",
       "32          EXT_SOURCE_3         -0.178926\n",
       "108  ALL_EXT_SOURCE_MEAN         -0.222053"
      ]
     },
     "execution_count": 137,
     "metadata": {},
     "output_type": "execute_result"
    }
   ],
   "source": [
    "corr_df.tail()"
   ]
  },
  {
   "cell_type": "code",
   "execution_count": 131,
   "metadata": {
    "ExecuteTime": {
     "end_time": "2021-05-11T04:09:01.748516Z",
     "start_time": "2021-05-11T04:09:01.738307Z"
    }
   },
   "outputs": [
    {
     "data": {
      "text/plain": [
       "0                      FLAG_OWN_CAR\n",
       "1                   FLAG_OWN_REALTY\n",
       "2                      CNT_CHILDREN\n",
       "3                  AMT_INCOME_TOTAL\n",
       "4                        AMT_CREDIT\n",
       "                   ...             \n",
       "108             ALL_EXT_SOURCE_MEAN\n",
       "109                    PAYMENT_RATE\n",
       "110               INCOME_PER_PERSON\n",
       "111    INCOME_CREDIT_IN_PERCENTAGE \n",
       "112    ANNUITY_INCOME_IN_PERCENTAGE\n",
       "Length: 113, dtype: object"
      ]
     },
     "execution_count": 131,
     "metadata": {},
     "output_type": "execute_result"
    }
   ],
   "source": [
    "name"
   ]
  },
  {
   "cell_type": "code",
   "execution_count": 126,
   "metadata": {
    "ExecuteTime": {
     "end_time": "2021-05-11T04:07:35.221133Z",
     "start_time": "2021-05-11T04:07:35.214414Z"
    }
   },
   "outputs": [],
   "source": [
    "name = pd.Series(corr_col)"
   ]
  },
  {
   "cell_type": "code",
   "execution_count": 132,
   "metadata": {
    "ExecuteTime": {
     "end_time": "2021-05-11T04:09:47.166578Z",
     "start_time": "2021-05-11T04:09:46.758312Z"
    }
   },
   "outputs": [
    {
     "ename": "ValueError",
     "evalue": "Other Series must have a name",
     "output_type": "error",
     "traceback": [
      "\u001b[0;31m---------------------------------------------------------------------------\u001b[0m",
      "\u001b[0;31mValueError\u001b[0m                                Traceback (most recent call last)",
      "\u001b[0;32m<ipython-input-132-e38ac588b1ed>\u001b[0m in \u001b[0;36m<module>\u001b[0;34m\u001b[0m\n\u001b[0;32m----> 1\u001b[0;31m \u001b[0mcorr_ar\u001b[0m \u001b[0;34m.\u001b[0m\u001b[0mto_frame\u001b[0m\u001b[0;34m(\u001b[0m\u001b[0;34m)\u001b[0m\u001b[0;34m.\u001b[0m\u001b[0mjoin\u001b[0m\u001b[0;34m(\u001b[0m\u001b[0mname\u001b[0m\u001b[0;34m)\u001b[0m\u001b[0;34m\u001b[0m\u001b[0;34m\u001b[0m\u001b[0m\n\u001b[0m",
      "\u001b[0;32m~/opt/anaconda3/lib/python3.7/site-packages/pandas/core/frame.py\u001b[0m in \u001b[0;36mjoin\u001b[0;34m(self, other, on, how, lsuffix, rsuffix, sort)\u001b[0m\n\u001b[1;32m   7873\u001b[0m         \"\"\"\n\u001b[1;32m   7874\u001b[0m         return self._join_compat(\n\u001b[0;32m-> 7875\u001b[0;31m             \u001b[0mother\u001b[0m\u001b[0;34m,\u001b[0m \u001b[0mon\u001b[0m\u001b[0;34m=\u001b[0m\u001b[0mon\u001b[0m\u001b[0;34m,\u001b[0m \u001b[0mhow\u001b[0m\u001b[0;34m=\u001b[0m\u001b[0mhow\u001b[0m\u001b[0;34m,\u001b[0m \u001b[0mlsuffix\u001b[0m\u001b[0;34m=\u001b[0m\u001b[0mlsuffix\u001b[0m\u001b[0;34m,\u001b[0m \u001b[0mrsuffix\u001b[0m\u001b[0;34m=\u001b[0m\u001b[0mrsuffix\u001b[0m\u001b[0;34m,\u001b[0m \u001b[0msort\u001b[0m\u001b[0;34m=\u001b[0m\u001b[0msort\u001b[0m\u001b[0;34m\u001b[0m\u001b[0;34m\u001b[0m\u001b[0m\n\u001b[0m\u001b[1;32m   7876\u001b[0m         )\n\u001b[1;32m   7877\u001b[0m \u001b[0;34m\u001b[0m\u001b[0m\n",
      "\u001b[0;32m~/opt/anaconda3/lib/python3.7/site-packages/pandas/core/frame.py\u001b[0m in \u001b[0;36m_join_compat\u001b[0;34m(self, other, on, how, lsuffix, rsuffix, sort)\u001b[0m\n\u001b[1;32m   7884\u001b[0m         \u001b[0;32mif\u001b[0m \u001b[0misinstance\u001b[0m\u001b[0;34m(\u001b[0m\u001b[0mother\u001b[0m\u001b[0;34m,\u001b[0m \u001b[0mSeries\u001b[0m\u001b[0;34m)\u001b[0m\u001b[0;34m:\u001b[0m\u001b[0;34m\u001b[0m\u001b[0;34m\u001b[0m\u001b[0m\n\u001b[1;32m   7885\u001b[0m             \u001b[0;32mif\u001b[0m \u001b[0mother\u001b[0m\u001b[0;34m.\u001b[0m\u001b[0mname\u001b[0m \u001b[0;32mis\u001b[0m \u001b[0;32mNone\u001b[0m\u001b[0;34m:\u001b[0m\u001b[0;34m\u001b[0m\u001b[0;34m\u001b[0m\u001b[0m\n\u001b[0;32m-> 7886\u001b[0;31m                 \u001b[0;32mraise\u001b[0m \u001b[0mValueError\u001b[0m\u001b[0;34m(\u001b[0m\u001b[0;34m\"Other Series must have a name\"\u001b[0m\u001b[0;34m)\u001b[0m\u001b[0;34m\u001b[0m\u001b[0;34m\u001b[0m\u001b[0m\n\u001b[0m\u001b[1;32m   7887\u001b[0m             \u001b[0mother\u001b[0m \u001b[0;34m=\u001b[0m \u001b[0mDataFrame\u001b[0m\u001b[0;34m(\u001b[0m\u001b[0;34m{\u001b[0m\u001b[0mother\u001b[0m\u001b[0;34m.\u001b[0m\u001b[0mname\u001b[0m\u001b[0;34m:\u001b[0m \u001b[0mother\u001b[0m\u001b[0;34m}\u001b[0m\u001b[0;34m)\u001b[0m\u001b[0;34m\u001b[0m\u001b[0;34m\u001b[0m\u001b[0m\n\u001b[1;32m   7888\u001b[0m \u001b[0;34m\u001b[0m\u001b[0m\n",
      "\u001b[0;31mValueError\u001b[0m: Other Series must have a name"
     ]
    }
   ],
   "source": [
    "corr_ar .to_frame().join(name)"
   ]
  },
  {
   "cell_type": "code",
   "execution_count": 124,
   "metadata": {
    "ExecuteTime": {
     "end_time": "2021-05-11T04:05:22.031207Z",
     "start_time": "2021-05-11T04:05:22.020081Z"
    }
   },
   "outputs": [
    {
     "data": {
      "text/plain": [
       "0      0.021851\n",
       "1      0.006145\n",
       "2      0.019188\n",
       "3     -0.003980\n",
       "4     -0.030371\n",
       "         ...   \n",
       "108   -0.222053\n",
       "109    0.012703\n",
       "110   -0.006572\n",
       "111   -0.001816\n",
       "112    0.014261\n",
       "Length: 113, dtype: float64"
      ]
     },
     "execution_count": 124,
     "metadata": {},
     "output_type": "execute_result"
    }
   ],
   "source": [
    "corr_ar"
   ]
  },
  {
   "cell_type": "code",
   "execution_count": 119,
   "metadata": {
    "ExecuteTime": {
     "end_time": "2021-05-11T03:59:01.138846Z",
     "start_time": "2021-05-11T03:59:01.128808Z"
    }
   },
   "outputs": [
    {
     "data": {
      "text/plain": [
       "[-0.2220528669193609,\n",
       " -0.17892558500020928,\n",
       " -0.1604701488076733,\n",
       " -0.15531608150734533,\n",
       " -0.07824384822893445,\n",
       " -0.07495854303154034,\n",
       " -0.05338930271475458,\n",
       " -0.044006878686108294,\n",
       " -0.043771394234479774,\n",
       " -0.04322957891465342,\n",
       " -0.03964669449611322,\n",
       " -0.03722458661814109,\n",
       " -0.034202272890432595,\n",
       " -0.03386630597702336,\n",
       " -0.03361598977570253,\n",
       " -0.033396745746269614,\n",
       " -0.03300117368038642,\n",
       " -0.03274329971622148,\n",
       " -0.032700098602900136,\n",
       " -0.03259925892645475,\n",
       " -0.032134426289234075,\n",
       " -0.03068837982801088,\n",
       " -0.03037113793363464,\n",
       " -0.029501849040104135,\n",
       " -0.029187996511464944,\n",
       " -0.02860374216456787,\n",
       " -0.027287851803987503,\n",
       " -0.025034706201995518,\n",
       " -0.024624809676221146,\n",
       " -0.024162310186414317,\n",
       " -0.023799698959328545,\n",
       " -0.023397154438522774,\n",
       " -0.02274792583194022,\n",
       " -0.02232204091081997,\n",
       " -0.022145387174521795,\n",
       " -0.02208339584413382,\n",
       " -0.022064168994454566,\n",
       " -0.019954047075780287,\n",
       " -0.019176869271546566,\n",
       " -0.01902938913175245,\n",
       " -0.018575852748632018,\n",
       " -0.018552659744450924,\n",
       " -0.01739171870746615,\n",
       " -0.016343215972683997,\n",
       " -0.013580320897414086,\n",
       " -0.013338936481636648,\n",
       " -0.012817921723809229,\n",
       " -0.012712643499852768,\n",
       " -0.012460671318002008,\n",
       " -0.011615261692900909,\n",
       " -0.011583576573736872,\n",
       " -0.011258099998680805,\n",
       " -0.010887101502953928,\n",
       " -0.0101762593630715,\n",
       " -0.009992228211077389,\n",
       " -0.009726792550547222,\n",
       " -0.009464144109223046,\n",
       " -0.009035567071106216,\n",
       " -0.008042119265966124,\n",
       " -0.007952916033537542,\n",
       " -0.006571920626988684,\n",
       " -0.00653586449222744,\n",
       " -0.004352774083508944,\n",
       " -0.004229715802155774,\n",
       " -0.003980307622930964,\n",
       " -0.003377666483513235,\n",
       " -0.003177480875673988,\n",
       " -0.0027585014792761028,\n",
       " -0.002672136598976076,\n",
       " -0.002022382275301607,\n",
       " -0.001815893430159782,\n",
       " -0.0017598038498584864,\n",
       " -0.0015578369190692195,\n",
       " -0.0014624484442774643,\n",
       " -0.001413920396894859,\n",
       " -0.0013576605917942337,\n",
       " -0.0007557660980240527,\n",
       " -0.0003086282275498353,\n",
       " 0.0002152634766822697,\n",
       " 0.0003703771741308286,\n",
       " 0.0005344064639592676,\n",
       " 0.0007867998529185796,\n",
       " 0.0009300102517977857,\n",
       " 0.0027040599800401666,\n",
       " 0.0028232800403346146,\n",
       " 0.0037085223780373103,\n",
       " 0.0054171113269272314,\n",
       " 0.005575233119256145,\n",
       " 0.006144577001697573,\n",
       " 0.006945180339774307,\n",
       " 0.009027553866957659,\n",
       " 0.009135987149031716,\n",
       " 0.00931039441015671,\n",
       " 0.012702674768498066,\n",
       " 0.014260954038017337,\n",
       " 0.019188026097727254,\n",
       " 0.019933331568119834,\n",
       " 0.021851250991688637,\n",
       " 0.028534465110982975,\n",
       " 0.03129450054750864,\n",
       " 0.0322607147335172,\n",
       " 0.032518474261872786,\n",
       " 0.0376109157803513,\n",
       " 0.04197761780477102,\n",
       " 0.04433839613225632,\n",
       " 0.04439376575193779,\n",
       " 0.04598506775660304,\n",
       " 0.05099403326378373,\n",
       " 0.051457382675429965,\n",
       " 0.05521979404139338,\n",
       " 0.05890069959143283,\n",
       " 0.06089464349478297,\n",
       " 0.07824384822893453]"
      ]
     },
     "execution_count": 119,
     "metadata": {},
     "output_type": "execute_result"
    }
   ],
   "source": [
    "corr_ar"
   ]
  },
  {
   "cell_type": "code",
   "execution_count": 138,
   "metadata": {
    "ExecuteTime": {
     "end_time": "2021-05-11T04:27:40.848609Z",
     "start_time": "2021-05-11T04:27:40.419167Z"
    }
   },
   "outputs": [],
   "source": [
    "def corr_with_target(application):\n",
    "    target = application.loc[application['TARGET'].notnull(), 'TARGET']\n",
    "    train_df = application.loc[application['TARGET'].notnull(), :].drop(columns=['TARGET']).select_dtypes(include = [int, float])\n",
    "\n",
    "    corr_col = [i for i in train_df.columns if i not in ['index', 'SK_ID_CURR']]\n",
    "    corr_arr = pd.Series([target.corr(train_df[i]) for i in corr_col])\n",
    "    \n",
    "    name = pd.Series(corr_col)\n",
    "    df_dict = {'feature': name, 'corr with target': corr_arr}\n",
    "    corr_df = pd.DataFrame(df_dict).sort_values(by = 'corr with target',ascending=False)\n",
    "    \n",
    "    return corr_df"
   ]
  },
  {
   "cell_type": "code",
   "execution_count": 139,
   "metadata": {
    "ExecuteTime": {
     "end_time": "2021-05-11T04:27:55.558399Z",
     "start_time": "2021-05-11T04:27:52.090650Z"
    }
   },
   "outputs": [],
   "source": [
    "xx = corr_with_target(application)"
   ]
  },
  {
   "cell_type": "code",
   "execution_count": 140,
   "metadata": {
    "ExecuteTime": {
     "end_time": "2021-05-11T04:28:01.574308Z",
     "start_time": "2021-05-11T04:28:01.560665Z"
    }
   },
   "outputs": [
    {
     "data": {
      "text/html": [
       "<div>\n",
       "<style scoped>\n",
       "    .dataframe tbody tr th:only-of-type {\n",
       "        vertical-align: middle;\n",
       "    }\n",
       "\n",
       "    .dataframe tbody tr th {\n",
       "        vertical-align: top;\n",
       "    }\n",
       "\n",
       "    .dataframe thead th {\n",
       "        text-align: right;\n",
       "    }\n",
       "</style>\n",
       "<table border=\"1\" class=\"dataframe\">\n",
       "  <thead>\n",
       "    <tr style=\"text-align: right;\">\n",
       "      <th></th>\n",
       "      <th>feature</th>\n",
       "      <th>corr with target</th>\n",
       "    </tr>\n",
       "  </thead>\n",
       "  <tbody>\n",
       "    <tr>\n",
       "      <th>9</th>\n",
       "      <td>DAYS_BIRTH</td>\n",
       "      <td>0.078244</td>\n",
       "    </tr>\n",
       "    <tr>\n",
       "      <th>22</th>\n",
       "      <td>REGION_RATING_CLIENT_W_CITY</td>\n",
       "      <td>0.060895</td>\n",
       "    </tr>\n",
       "    <tr>\n",
       "      <th>21</th>\n",
       "      <td>REGION_RATING_CLIENT</td>\n",
       "      <td>0.058901</td>\n",
       "    </tr>\n",
       "    <tr>\n",
       "      <th>80</th>\n",
       "      <td>DAYS_LAST_PHONE_CHANGE</td>\n",
       "      <td>0.055220</td>\n",
       "    </tr>\n",
       "    <tr>\n",
       "      <th>12</th>\n",
       "      <td>DAYS_ID_PUBLISH</td>\n",
       "      <td>0.051457</td>\n",
       "    </tr>\n",
       "  </tbody>\n",
       "</table>\n",
       "</div>"
      ],
      "text/plain": [
       "                        feature  corr with target\n",
       "9                    DAYS_BIRTH          0.078244\n",
       "22  REGION_RATING_CLIENT_W_CITY          0.060895\n",
       "21         REGION_RATING_CLIENT          0.058901\n",
       "80       DAYS_LAST_PHONE_CHANGE          0.055220\n",
       "12              DAYS_ID_PUBLISH          0.051457"
      ]
     },
     "execution_count": 140,
     "metadata": {},
     "output_type": "execute_result"
    }
   ],
   "source": [
    "xx.head()"
   ]
  },
  {
   "cell_type": "code",
   "execution_count": 141,
   "metadata": {
    "ExecuteTime": {
     "end_time": "2021-05-11T04:43:55.459584Z",
     "start_time": "2021-05-11T04:43:55.444341Z"
    }
   },
   "outputs": [],
   "source": [
    "yy = [1,2,4].remove(4)\n",
    "yy"
   ]
  },
  {
   "cell_type": "code",
   "execution_count": 142,
   "metadata": {
    "ExecuteTime": {
     "end_time": "2021-05-11T04:44:00.714596Z",
     "start_time": "2021-05-11T04:44:00.709373Z"
    }
   },
   "outputs": [],
   "source": [
    "yy"
   ]
  },
  {
   "cell_type": "markdown",
   "metadata": {},
   "source": [
    "## Take away from notebook"
   ]
  },
  {
   "cell_type": "code",
   "execution_count": null,
   "metadata": {},
   "outputs": [],
   "source": [
    "# helper functions\n",
    "def get_missing_data_info(df):\n",
    "    \"\"\"\n",
    "    add description .. \n",
    "    \n",
    "    \"\"\"\n",
    "    num_of_instance, _ = df.shape\n",
    "    #print(num_of_instance)\n",
    "    names = {'index': 'feature', \n",
    "             0: 'PERC_missing_data'}\n",
    "    \n",
    "    missing_df = (df.isnull() \\\n",
    "        .sum(axis=0)/num_of_instance) \\\n",
    "        .to_frame() \\\n",
    "        .reset_index() \\\n",
    "        .rename(columns=names) \\\n",
    "        .sort_values(by='PERC_missing_data', ascending=False) \\\n",
    "        .reset_index(drop=True)\n",
    "    \n",
    "    d = {}\n",
    "    # no missing \n",
    "    zero = missing_df[missing_df['PERC_missing_data'] == 0]\n",
    "    d['x = 0'] = list(zero.feature)\n",
    "    le_10 = missing_df[(missing_df['PERC_missing_data'] > 0.0) & (missing_df['PERC_missing_data'] <= 0.1)]\n",
    "    \n",
    "    d['0< x <= 25'] = list(missing_df[(missing_df['PERC_missing_data'] > 0.0) & (missing_df['PERC_missing_data'] <= 0.25)].feature)\n",
    "    \n",
    "    d['25 < x <= 50'] = list(missing_df[(missing_df['PERC_missing_data'] > 0.25) & (missing_df['PERC_missing_data'] <= 0.5)].feature)\n",
    "    \n",
    "    d['x > 50'] = list(missing_df[missing_df['PERC_missing_data'] > 0.5].feature)\n",
    "    \n",
    "    return missing_df, d\n",
    "\n",
    "def combine(x):\n",
    "    if x == \"Incomplete higher\" or x == 'Academic degree':\n",
    "        return 'Higher education'\n",
    "    elif x == 'Lower secondary':\n",
    "        return 'Secondary / secondary special'\n",
    "    else:\n",
    "        return x\n",
    "    \n",
    "def get_columns_x(col_name, threshhold):\n",
    "    temp = application.loc[:, col_name].value_counts(dropna=False).to_frame().reset_index()\n",
    "    temp.columns = ['values', 'count']\n",
    "    temp['prec of val'] = temp['count'].apply(lambda x: x/application.shape[0])\n",
    "    groups = list(temp.loc[temp['prec of val'] <threshhold, 'values'].values)\n",
    "    \n",
    "    return groups\n",
    "\n",
    "def corr_with_target(application):\n",
    "    target = application.loc[application['TARGET'].notnull(), 'TARGET']\n",
    "    train_df = application.loc[application['TARGET'].notnull(), :].drop(columns=['TARGET']).select_dtypes(include = [int, float])\n",
    "\n",
    "    corr_col = [i for i in train_df.columns if i not in ['index', 'SK_ID_CURR']]\n",
    "    corr_arr = pd.Series([target.corr(train_df[i]) for i in corr_col])\n",
    "    \n",
    "    name = pd.Series(corr_col)\n",
    "    df_dict = {'feature': name, 'corr with target': corr_arr}\n",
    "    corr_df = pd.DataFrame(df_dict).sort_values(by = 'corr with target',ascending=False)\n",
    "    \n",
    "    return corr_df"
   ]
  },
  {
   "cell_type": "code",
   "execution_count": null,
   "metadata": {},
   "outputs": [],
   "source": [
    "def clean_application(data):\n",
    "    \n",
    "    # get table \n",
    "    application = data['application_train'].append(data['application_test']).reset_index()\n",
    "    \n",
    "    # fix categorical data \n",
    "\n",
    "    # 'NAME_TYPE_SUITE'\n",
    "    application.replace({'NAME_TYPE_SUITE': ['Children', \n",
    "                                             'Other_B', \n",
    "                                             'Other_A', \n",
    "                                             'Group of people']}, \n",
    "                        'Other', inplace = True)\n",
    "\n",
    "\n",
    "    # 'NAME_INCOME_TYPE'\n",
    "    application.replace({'NAME_INCOME_TYPE': ['Unemployed', \n",
    "                                              'Student', \n",
    "                                              'Businessman', \n",
    "                                              'Maternity leave']}, \n",
    "                        'Other', inplace=True)\n",
    "\n",
    "    # NAME_EDUCATION_TYPE\n",
    "    application['NAME_EDUCATION_TYPE'] = application['NAME_EDUCATION_TYPE'].apply(lambda x: combine(x))\n",
    "\n",
    "    #'NAME_HOUSING_TYPE'\n",
    "    application.replace({'NAME_HOUSING_TYPE': ['Municipal apartment', \n",
    "                                               'Office apartment', \n",
    "                                               'Co-op apartment']}, \n",
    "                        'Rented apartment', inplace = True)\n",
    "\n",
    "    # OCCUPATION_TYPE\n",
    "    application.replace({'OCCUPATION_TYPE': other_occp}, \n",
    "                        'Other', inplace = True)\n",
    "\n",
    "    # ORGANIZATION_TYPE \n",
    "    application.replace({'ORGANIZATION_TYPE': other_org}, \n",
    "                        'Other', inplace = True)\n",
    "\n",
    "    # drop cat features - low variance and high % of missing val\n",
    "    application.drop(columns = ['FONDKAPREMONT_MODE', \n",
    "                                'HOUSETYPE_MODE', \n",
    "                                'WALLSMATERIAL_MODE', \n",
    "                                'EMERGENCYSTATE_MODE'], \n",
    "                     axis = 1, inplace=True)\n",
    "\n",
    "    ## label encoder for binary values\n",
    "    bin_features = ['CODE_GENDER', 'FLAG_OWN_CAR', 'FLAG_OWN_REALTY']\n",
    "\n",
    "    replace_dict = {'CODE_GENDER': {'M': 0, 'F': 1},\n",
    "                    'FLAG_OWN_CAR': {'Y': 0, 'N': 1}, \n",
    "                    'FLAG_OWN_REALTY':{'Y': 0, 'N': 1},\n",
    "                   'NAME_EDUCATION_TYPE': {'Higher education': 1,\n",
    "                                          'Secondary / secondary special': 0}}\n",
    "\n",
    "    application.replace(replace_dict, inplace=True)\n",
    "\n",
    "\n",
    "    # remove few instances with low appearance\n",
    "    application = application.loc[application['CODE_GENDER'] != 'XNA', :]\n",
    "    application = application.loc[application['NAME_FAMILY_STATUS'] != 'Unknown', :]\n",
    "\n",
    "\n",
    "    # drop_features > 50% of missing vals (both: cat, num)\n",
    "    cols = [i for i in list(application.columns) if i != 'TARGET']\n",
    "    _, missing_dict = get_missing_data_info(application.loc[:,cols])\n",
    "    drop_cols = missing_dict['x > 50']\n",
    "\n",
    "    # keep EXT_SOURCE_1 --> highly corr with target \n",
    "    drop_cols.remove('EXT_SOURCE_1')\n",
    "    application.drop(columns = drop_cols, axis = 1, inplace = True)\n",
    "\n",
    "    # Numerical features \n",
    "\n",
    "    ## DAYS_EMPLOYED\n",
    "    application['DAYS_EMPLOYED'].replace(365243, np.nan, inplace=True)\n",
    "    application['DAYS_EMPLOYED'] =application['DAYS_EMPLOYED'].apply(lambda x: abs(x))\n",
    "\n",
    "    application['BIRTH_IN_YEARS'] = application['DAYS_BIRTH'].apply(lambda x: abs(x)/365)\n",
    "\n",
    "\n",
    "    # add new features \n",
    "    application['ALL_EXT_SOURCE_MEAN']=application[['EXT_SOURCE_1', 'EXT_SOURCE_2', 'EXT_SOURCE_3']].mean(axis = 1)\n",
    "    application['PAYMENT_RATE'] = application['AMT_ANNUITY']/application['AMT_CREDIT']\n",
    "    application['INCOME_PER_PERSON'] = application['AMT_INCOME_TOTAL']/application['CNT_FAM_MEMBERS']\n",
    "    application['INCOME_CREDIT_IN_PERCENTAGE '] = application['AMT_INCOME_TOTAL']/application['AMT_CREDIT']\n",
    "    application['ANNUITY_INCOME_IN_PERCENTAGE'] = application['AMT_ANNUITY']/application['AMT_INCOME_TOTAL']\n",
    "\n",
    "    doc_cols = [i for i in list(application.columns) if 'FLAG_DOCUMENT' in i]\n",
    "    application['ALL_FLAG_DOCUMENT_SUM']=application[doc_cols].mean(axis = 1)\n",
    "\n",
    "    ## drop indiv doc columns \n",
    "    application.drop(columns = doc_cols, axis = 1, inplace = True)\n",
    "\n",
    "    if 'index' in list(application.columns):\n",
    "        application.drop(columns = ['index'], axis = 1, inplace = True)\n",
    "        print('index column removed')\n",
    "\n",
    "    return application\n",
    "\n"
   ]
  },
  {
   "cell_type": "code",
   "execution_count": null,
   "metadata": {},
   "outputs": [],
   "source": []
  },
  {
   "cell_type": "code",
   "execution_count": null,
   "metadata": {},
   "outputs": [],
   "source": []
  },
  {
   "cell_type": "code",
   "execution_count": null,
   "metadata": {},
   "outputs": [],
   "source": []
  }
 ],
 "metadata": {
  "kernelspec": {
   "display_name": "Python 3",
   "language": "python",
   "name": "python3"
  },
  "language_info": {
   "codemirror_mode": {
    "name": "ipython",
    "version": 3
   },
   "file_extension": ".py",
   "mimetype": "text/x-python",
   "name": "python",
   "nbconvert_exporter": "python",
   "pygments_lexer": "ipython3",
   "version": "3.7.4"
  },
  "toc": {
   "base_numbering": 1,
   "nav_menu": {},
   "number_sections": true,
   "sideBar": true,
   "skip_h1_title": false,
   "title_cell": "Table of Contents",
   "title_sidebar": "Contents",
   "toc_cell": false,
   "toc_position": {},
   "toc_section_display": true,
   "toc_window_display": false
  },
  "varInspector": {
   "cols": {
    "lenName": 16,
    "lenType": 16,
    "lenVar": 40
   },
   "kernels_config": {
    "python": {
     "delete_cmd_postfix": "",
     "delete_cmd_prefix": "del ",
     "library": "var_list.py",
     "varRefreshCmd": "print(var_dic_list())"
    },
    "r": {
     "delete_cmd_postfix": ") ",
     "delete_cmd_prefix": "rm(",
     "library": "var_list.r",
     "varRefreshCmd": "cat(var_dic_list()) "
    }
   },
   "types_to_exclude": [
    "module",
    "function",
    "builtin_function_or_method",
    "instance",
    "_Feature"
   ],
   "window_display": false
  }
 },
 "nbformat": 4,
 "nbformat_minor": 2
}
