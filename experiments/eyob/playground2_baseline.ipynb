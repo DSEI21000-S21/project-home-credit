{
 "cells": [
  {
   "cell_type": "code",
   "execution_count": 1,
   "metadata": {
    "ExecuteTime": {
     "end_time": "2021-04-26T04:18:39.917546Z",
     "start_time": "2021-04-26T04:18:36.432299Z"
    }
   },
   "outputs": [
    {
     "name": "stderr",
     "output_type": "stream",
     "text": [
      "\n",
      "Bad key \"text.kerning_factor\" on line 4 in\n",
      "/Users/eyobmanhardt/opt/anaconda3/lib/python3.7/site-packages/matplotlib/mpl-data/stylelib/_classic_test_patch.mplstyle.\n",
      "You probably need to get an updated matplotlibrc file from\n",
      "https://github.com/matplotlib/matplotlib/blob/v3.1.3/matplotlibrc.template\n",
      "or from the matplotlib source distribution\n"
     ]
    }
   ],
   "source": [
    "import pandas as pd\n",
    "import numpy as np\n",
    "#import matplotlib\n",
    "import matplotlib.pyplot as plt"
   ]
  },
  {
   "cell_type": "code",
   "execution_count": 1,
   "metadata": {
    "ExecuteTime": {
     "end_time": "2021-05-01T22:24:41.223742Z",
     "start_time": "2021-05-01T22:24:31.156943Z"
    }
   },
   "outputs": [],
   "source": [
    "import os, sys\n",
    "sys.path.append(os.path.dirname(os.path.dirname(os.path.abspath(''))))\n",
    "\n",
    "import dropbox\n",
    "from zipfile import ZipFile\n",
    "import pandas as pd\n",
    "from utils.data_extract_utils import extract_zip\n",
    "\n",
    "# Connect to dropbox\n",
    "dbx = dropbox.Dropbox('cHV7yAR0J6YAAAAAAAAAAVQ1NLCrOwerbaNltPWHslYXKuUTJ5_wfgJsuFcmx83o')"
   ]
  },
  {
   "cell_type": "code",
   "execution_count": 2,
   "metadata": {
    "ExecuteTime": {
     "end_time": "2021-05-01T22:28:08.360131Z",
     "start_time": "2021-05-01T22:25:02.142701Z"
    }
   },
   "outputs": [],
   "source": [
    "# Download, and extract data from dropbox into memory. \n",
    "data = {}\n",
    "for entry in dbx.files_list_folder('').entries:\n",
    "    response = dbx.files_download('/{}'.format(entry.name))\n",
    "    \n",
    "    if 'zip' in entry.name:\n",
    "        content = extract_zip(response[1].content)\n",
    "    \n",
    "        for file in content:\n",
    "            df = pd.read_csv(file[1])\n",
    "            data[entry.name.replace('.csv.zip', '')] = df\n",
    "            "
   ]
  },
  {
   "cell_type": "markdown",
   "metadata": {},
   "source": [
    "**note**\n",
    "\n",
    "- make the code above into a function and add it to the utils module \n",
    "- also add a carrage return i.e a loading bar "
   ]
  },
  {
   "cell_type": "markdown",
   "metadata": {},
   "source": [
    "# Create a complete DataFrame\n",
    "- a dataframe that contains all of the features "
   ]
  },
  {
   "cell_type": "code",
   "execution_count": 4,
   "metadata": {
    "ExecuteTime": {
     "end_time": "2021-05-01T22:30:59.815701Z",
     "start_time": "2021-05-01T22:30:59.808024Z"
    }
   },
   "outputs": [
    {
     "data": {
      "text/plain": [
       "dict_keys(['application_test', 'application_train', 'bureau_balance', 'bureau', 'credit_card_balance', 'installments_payments', 'POS_CASH_balance', 'previous_application'])"
      ]
     },
     "execution_count": 4,
     "metadata": {},
     "output_type": "execute_result"
    }
   ],
   "source": [
    "data.keys()"
   ]
  },
  {
   "cell_type": "code",
   "execution_count": 5,
   "metadata": {
    "ExecuteTime": {
     "end_time": "2021-05-01T22:35:57.383879Z",
     "start_time": "2021-05-01T22:35:57.377600Z"
    }
   },
   "outputs": [],
   "source": [
    "## create tables \n",
    "application_train = data['application_train']\n",
    "bureau_balance = data['bureau_balance']\n",
    "bureau = data['bureau']\n",
    "credit_card_balance = data['credit_card_balance']\n",
    "installments_payments = data['installments_payments']\n",
    "POS_CASH_balance = data['POS_CASH_balance']\n",
    "previous_application = data['previous_application']\n",
    "application_test = data['application_test']"
   ]
  },
  {
   "cell_type": "code",
   "execution_count": 10,
   "metadata": {
    "ExecuteTime": {
     "end_time": "2021-05-01T23:31:09.345276Z",
     "start_time": "2021-05-01T23:31:09.338498Z"
    }
   },
   "outputs": [],
   "source": [
    "def OHE(df, contain_nan=True):\n",
    "    all_cols = list(df.columns)\n",
    "    cat_col = list(df.select_dtypes(include=object).columns)\n",
    "    df = pd.get_dummies(df, columns=cat_col, dummy_na=contain_nan)\n",
    "    new_cols = set(list(df.columns)).difference(set(all_cols))\n",
    "    return new_cols, df"
   ]
  },
  {
   "cell_type": "code",
   "execution_count": 11,
   "metadata": {
    "ExecuteTime": {
     "end_time": "2021-05-01T23:31:25.443971Z",
     "start_time": "2021-05-01T23:31:24.433163Z"
    }
   },
   "outputs": [],
   "source": [
    "cc, _ = OHE(application_train, contain_nan=True)"
   ]
  },
  {
   "cell_type": "code",
   "execution_count": 14,
   "metadata": {
    "ExecuteTime": {
     "end_time": "2021-05-01T23:32:40.971352Z",
     "start_time": "2021-05-01T23:32:40.964837Z"
    }
   },
   "outputs": [
    {
     "data": {
      "text/plain": [
       "156"
      ]
     },
     "execution_count": 14,
     "metadata": {},
     "output_type": "execute_result"
    }
   ],
   "source": [
    "len(cc)"
   ]
  },
  {
   "cell_type": "code",
   "execution_count": 6,
   "metadata": {
    "ExecuteTime": {
     "end_time": "2021-05-01T23:21:16.407155Z",
     "start_time": "2021-05-01T23:21:16.259619Z"
    }
   },
   "outputs": [
    {
     "data": {
      "text/plain": [
       "Index(['NAME_CONTRACT_TYPE', 'CODE_GENDER', 'FLAG_OWN_CAR', 'FLAG_OWN_REALTY',\n",
       "       'NAME_TYPE_SUITE', 'NAME_INCOME_TYPE', 'NAME_EDUCATION_TYPE',\n",
       "       'NAME_FAMILY_STATUS', 'NAME_HOUSING_TYPE', 'OCCUPATION_TYPE',\n",
       "       'WEEKDAY_APPR_PROCESS_START', 'ORGANIZATION_TYPE', 'FONDKAPREMONT_MODE',\n",
       "       'HOUSETYPE_MODE', 'WALLSMATERIAL_MODE', 'EMERGENCYSTATE_MODE'],\n",
       "      dtype='object')"
      ]
     },
     "execution_count": 6,
     "metadata": {},
     "output_type": "execute_result"
    }
   ],
   "source": [
    "application_train.select_dtypes(include=object).columns"
   ]
  },
  {
   "cell_type": "code",
   "execution_count": 16,
   "metadata": {
    "ExecuteTime": {
     "end_time": "2021-05-02T12:23:35.477303Z",
     "start_time": "2021-05-02T12:23:33.782021Z"
    }
   },
   "outputs": [],
   "source": [
    "## combine train and test set\n",
    "train_test = application_train.append(application_test).reset_index()"
   ]
  },
  {
   "cell_type": "code",
   "execution_count": 17,
   "metadata": {
    "ExecuteTime": {
     "end_time": "2021-05-02T12:24:29.499370Z",
     "start_time": "2021-05-02T12:24:29.478851Z"
    }
   },
   "outputs": [
    {
     "data": {
      "text/plain": [
       "(356255, 123)"
      ]
     },
     "execution_count": 17,
     "metadata": {},
     "output_type": "execute_result"
    }
   ],
   "source": [
    "train_test.shape"
   ]
  },
  {
   "cell_type": "code",
   "execution_count": 18,
   "metadata": {
    "ExecuteTime": {
     "end_time": "2021-05-02T12:25:00.090262Z",
     "start_time": "2021-05-02T12:25:00.081546Z"
    }
   },
   "outputs": [
    {
     "data": {
      "text/plain": [
       "(307511, 122)"
      ]
     },
     "execution_count": 18,
     "metadata": {},
     "output_type": "execute_result"
    }
   ],
   "source": [
    "application_train.shape"
   ]
  },
  {
   "cell_type": "code",
   "execution_count": 19,
   "metadata": {
    "ExecuteTime": {
     "end_time": "2021-05-02T12:25:43.407005Z",
     "start_time": "2021-05-02T12:25:43.397603Z"
    }
   },
   "outputs": [
    {
     "data": {
      "text/plain": [
       "(48744, 121)"
      ]
     },
     "execution_count": 19,
     "metadata": {},
     "output_type": "execute_result"
    }
   ],
   "source": [
    "application_test.shape"
   ]
  },
  {
   "cell_type": "code",
   "execution_count": 20,
   "metadata": {
    "ExecuteTime": {
     "end_time": "2021-05-02T12:26:22.049056Z",
     "start_time": "2021-05-02T12:26:22.029243Z"
    }
   },
   "outputs": [
    {
     "data": {
      "text/plain": [
       "356255"
      ]
     },
     "execution_count": 20,
     "metadata": {},
     "output_type": "execute_result"
    }
   ],
   "source": [
    "307511+48744"
   ]
  },
  {
   "cell_type": "code",
   "execution_count": 25,
   "metadata": {
    "ExecuteTime": {
     "end_time": "2021-05-02T13:13:08.820435Z",
     "start_time": "2021-05-02T13:13:08.813386Z"
    }
   },
   "outputs": [],
   "source": [
    "from data_extract_utils import extract_features_from_bureau"
   ]
  },
  {
   "cell_type": "code",
   "execution_count": 23,
   "metadata": {
    "ExecuteTime": {
     "end_time": "2021-05-02T13:01:52.760929Z",
     "start_time": "2021-05-02T13:01:51.722782Z"
    }
   },
   "outputs": [
    {
     "ename": "NameError",
     "evalue": "name 'data' is not defined",
     "output_type": "error",
     "traceback": [
      "\u001b[0;31m---------------------------------------------------------------------------\u001b[0m",
      "\u001b[0;31mNameError\u001b[0m                                 Traceback (most recent call last)",
      "\u001b[0;32m<ipython-input-23-93d3d825f309>\u001b[0m in \u001b[0;36m<module>\u001b[0;34m\u001b[0m\n\u001b[0;32m----> 1\u001b[0;31m \u001b[0mbb\u001b[0m \u001b[0;34m=\u001b[0m \u001b[0mextract_features_from_bureau\u001b[0m\u001b[0;34m(\u001b[0m\u001b[0mbureau\u001b[0m\u001b[0;34m,\u001b[0m \u001b[0mbureau_balance\u001b[0m\u001b[0;34m)\u001b[0m\u001b[0;34m\u001b[0m\u001b[0;34m\u001b[0m\u001b[0m\n\u001b[0m",
      "\u001b[0;32m~/Desktop/applied_ml_final_project/project-home-credit/experiments/eyob/data_extract_utils.py\u001b[0m in \u001b[0;36mextract_features_from_bureau\u001b[0;34m(bureau_df, bureau_balances_df)\u001b[0m\n\u001b[1;32m     11\u001b[0m \u001b[0;32mdef\u001b[0m \u001b[0mextract_features_from_bureau\u001b[0m\u001b[0;34m(\u001b[0m\u001b[0mbureau_df\u001b[0m\u001b[0;34m,\u001b[0m \u001b[0mbureau_balances_df\u001b[0m\u001b[0;34m)\u001b[0m\u001b[0;34m:\u001b[0m\u001b[0;34m\u001b[0m\u001b[0;34m\u001b[0m\u001b[0m\n\u001b[1;32m     12\u001b[0m     \u001b[0mbureau_df\u001b[0m\u001b[0;34m[\u001b[0m\u001b[0;34m'AMT_CREDIT_SUM_DEBT'\u001b[0m\u001b[0;34m]\u001b[0m \u001b[0;34m=\u001b[0m \u001b[0mbureau_df\u001b[0m\u001b[0;34m[\u001b[0m\u001b[0;34m'AMT_CREDIT_SUM_DEBT'\u001b[0m\u001b[0;34m]\u001b[0m\u001b[0;34m.\u001b[0m\u001b[0mfillna\u001b[0m\u001b[0;34m(\u001b[0m\u001b[0mvalue\u001b[0m\u001b[0;34m=\u001b[0m\u001b[0;36m0\u001b[0m\u001b[0;34m)\u001b[0m\u001b[0;34m\u001b[0m\u001b[0;34m\u001b[0m\u001b[0m\n\u001b[0;32m---> 13\u001b[0;31m     \u001b[0mbureau_df\u001b[0m\u001b[0;34m[\u001b[0m\u001b[0;34m'AMT_CREDIT_DEBT_RATIO'\u001b[0m\u001b[0;34m]\u001b[0m \u001b[0;34m=\u001b[0m  \u001b[0mbureau_df\u001b[0m\u001b[0;34m[\u001b[0m\u001b[0;34m'AMT_CREDIT_SUM_DEBT'\u001b[0m\u001b[0;34m]\u001b[0m\u001b[0;34m/\u001b[0m\u001b[0mdata\u001b[0m\u001b[0;34m[\u001b[0m\u001b[0;34m'bureau'\u001b[0m\u001b[0;34m]\u001b[0m\u001b[0;34m[\u001b[0m\u001b[0;34m'AMT_CREDIT_SUM'\u001b[0m\u001b[0;34m]\u001b[0m\u001b[0;34m\u001b[0m\u001b[0;34m\u001b[0m\u001b[0m\n\u001b[0m\u001b[1;32m     14\u001b[0m     \u001b[0mbureau_df\u001b[0m\u001b[0;34m[\u001b[0m\u001b[0;34m'AMT_CREDIT_DEBT_RATIO'\u001b[0m\u001b[0;34m]\u001b[0m \u001b[0;34m=\u001b[0m \u001b[0mbureau_df\u001b[0m\u001b[0;34m[\u001b[0m\u001b[0;34m'AMT_CREDIT_DEBT_RATIO'\u001b[0m\u001b[0;34m]\u001b[0m\u001b[0;34m.\u001b[0m\u001b[0mfillna\u001b[0m\u001b[0;34m(\u001b[0m\u001b[0mvalue\u001b[0m\u001b[0;34m=\u001b[0m\u001b[0;36m0\u001b[0m\u001b[0;34m)\u001b[0m\u001b[0;34m\u001b[0m\u001b[0;34m\u001b[0m\u001b[0m\n\u001b[1;32m     15\u001b[0m \u001b[0;34m\u001b[0m\u001b[0m\n",
      "\u001b[0;31mNameError\u001b[0m: name 'data' is not defined"
     ]
    }
   ],
   "source": [
    "bb = extract_features_from_bureau(bureau, bureau_balance)"
   ]
  },
  {
   "cell_type": "code",
   "execution_count": 26,
   "metadata": {
    "ExecuteTime": {
     "end_time": "2021-05-02T13:13:40.086570Z",
     "start_time": "2021-05-02T13:13:39.997370Z"
    }
   },
   "outputs": [
    {
     "ename": "TypeError",
     "evalue": "extract_features_from_bureau() takes 2 positional arguments but 3 were given",
     "output_type": "error",
     "traceback": [
      "\u001b[0;31m---------------------------------------------------------------------------\u001b[0m",
      "\u001b[0;31mTypeError\u001b[0m                                 Traceback (most recent call last)",
      "\u001b[0;32m<ipython-input-26-4e29e88b0b67>\u001b[0m in \u001b[0;36m<module>\u001b[0;34m\u001b[0m\n\u001b[0;32m----> 1\u001b[0;31m \u001b[0mbb\u001b[0m \u001b[0;34m=\u001b[0m \u001b[0mextract_features_from_bureau\u001b[0m\u001b[0;34m(\u001b[0m\u001b[0mbureau\u001b[0m\u001b[0;34m,\u001b[0m \u001b[0mbureau_balance\u001b[0m\u001b[0;34m,\u001b[0m \u001b[0mdata\u001b[0m\u001b[0;34m)\u001b[0m\u001b[0;34m\u001b[0m\u001b[0;34m\u001b[0m\u001b[0m\n\u001b[0m",
      "\u001b[0;31mTypeError\u001b[0m: extract_features_from_bureau() takes 2 positional arguments but 3 were given"
     ]
    }
   ],
   "source": [
    "bb = extract_features_from_bureau(bureau, bureau_balance, data)"
   ]
  },
  {
   "cell_type": "code",
   "execution_count": 27,
   "metadata": {
    "ExecuteTime": {
     "end_time": "2021-05-02T13:15:58.676448Z",
     "start_time": "2021-05-02T13:15:58.663013Z"
    }
   },
   "outputs": [],
   "source": [
    "## Amerius functions \n",
    "def extract_features_from_bureau(bureau_df, bureau_balances_df):\n",
    "    bureau_df['AMT_CREDIT_SUM_DEBT'] = bureau_df['AMT_CREDIT_SUM_DEBT'].fillna(value=0)\n",
    "    bureau_df['AMT_CREDIT_DEBT_RATIO'] =  bureau_df['AMT_CREDIT_SUM_DEBT']/data['bureau']['AMT_CREDIT_SUM']\n",
    "    bureau_df['AMT_CREDIT_DEBT_RATIO'] = bureau_df['AMT_CREDIT_DEBT_RATIO'].fillna(value=0)\n",
    "    \n",
    "    \n",
    "    bureau_df = bureau_df.set_index('SK_ID_BUREAU')\n",
    "    \n",
    "    DPD_STATUS_MAP = {\n",
    "        'C': 0, \n",
    "        'X': 0,\n",
    "        '0': 0,\n",
    "        '1': 1,\n",
    "        '2': 2,\n",
    "        '3': 3,\n",
    "        '4': 4,\n",
    "        '5': 5,\n",
    "    }\n",
    "    def sum_of_dpd(x):\n",
    "        return x['STATUS'].map(DPD_STATUS_MAP).sum()\n",
    "\n",
    "    dpd_counts_df = bureau_balances_df.groupby(['SK_ID_BUREAU']).apply(sum_of_dpd)\n",
    "    \n",
    "    dpd_counts_df = pd.DataFrame(dpd_counts_df, columns=['DPD_COUNTS']);\n",
    "    bureau_with_dpds = pd.concat([bureau_df, dpd_counts_df], axis=1)\n",
    "    \n",
    "    bureau_with_dpds = bureau_with_dpds.set_index('SK_ID_CURR')\n",
    "    \n",
    "    return bureau_with_dpds[:][['AMT_CREDIT_DEBT_RATIO', 'CREDIT_DAY_OVERDUE', 'DPD_COUNTS']]"
   ]
  },
  {
   "cell_type": "code",
   "execution_count": 28,
   "metadata": {
    "ExecuteTime": {
     "end_time": "2021-05-02T13:27:22.991282Z",
     "start_time": "2021-05-02T13:16:31.041785Z"
    }
   },
   "outputs": [],
   "source": [
    "bb = extract_features_from_bureau(bureau, bureau_balance)"
   ]
  },
  {
   "cell_type": "code",
   "execution_count": 31,
   "metadata": {
    "ExecuteTime": {
     "end_time": "2021-05-02T13:44:59.641160Z",
     "start_time": "2021-05-02T13:44:59.634516Z"
    }
   },
   "outputs": [
    {
     "data": {
      "text/plain": [
       "(1759469, 3)"
      ]
     },
     "execution_count": 31,
     "metadata": {},
     "output_type": "execute_result"
    }
   ],
   "source": [
    "bb.shape"
   ]
  },
  {
   "cell_type": "code",
   "execution_count": 32,
   "metadata": {
    "ExecuteTime": {
     "end_time": "2021-05-02T13:45:44.489598Z",
     "start_time": "2021-05-02T13:45:44.084666Z"
    }
   },
   "outputs": [
    {
     "name": "stdout",
     "output_type": "stream",
     "text": [
      "<class 'pandas.core.frame.DataFrame'>\n",
      "Float64Index: 1759469 entries, 166497.0 to 134450.0\n",
      "Data columns (total 3 columns):\n",
      " #   Column                 Dtype  \n",
      "---  ------                 -----  \n",
      " 0   AMT_CREDIT_DEBT_RATIO  float64\n",
      " 1   CREDIT_DAY_OVERDUE     float64\n",
      " 2   DPD_COUNTS             float64\n",
      "dtypes: float64(3)\n",
      "memory usage: 53.7 MB\n"
     ]
    }
   ],
   "source": [
    "bb.info()"
   ]
  },
  {
   "cell_type": "code",
   "execution_count": 33,
   "metadata": {
    "ExecuteTime": {
     "end_time": "2021-05-02T13:47:27.052769Z",
     "start_time": "2021-05-02T13:47:26.822128Z"
    }
   },
   "outputs": [
    {
     "data": {
      "text/plain": [
       "942074"
      ]
     },
     "execution_count": 33,
     "metadata": {},
     "output_type": "execute_result"
    }
   ],
   "source": [
    "bb['DPD_COUNTS'].isnull().sum()"
   ]
  },
  {
   "cell_type": "code",
   "execution_count": 34,
   "metadata": {
    "ExecuteTime": {
     "end_time": "2021-05-02T13:47:58.411867Z",
     "start_time": "2021-05-02T13:47:58.319512Z"
    }
   },
   "outputs": [
    {
     "data": {
      "text/plain": [
       "0.5354308601060889"
      ]
     },
     "execution_count": 34,
     "metadata": {},
     "output_type": "execute_result"
    }
   ],
   "source": [
    "942074/1759469"
   ]
  },
  {
   "cell_type": "code",
   "execution_count": 30,
   "metadata": {
    "ExecuteTime": {
     "end_time": "2021-05-02T13:30:13.714794Z",
     "start_time": "2021-05-02T13:30:13.697505Z"
    }
   },
   "outputs": [
    {
     "data": {
      "text/html": [
       "<div>\n",
       "<style scoped>\n",
       "    .dataframe tbody tr th:only-of-type {\n",
       "        vertical-align: middle;\n",
       "    }\n",
       "\n",
       "    .dataframe tbody tr th {\n",
       "        vertical-align: top;\n",
       "    }\n",
       "\n",
       "    .dataframe thead th {\n",
       "        text-align: right;\n",
       "    }\n",
       "</style>\n",
       "<table border=\"1\" class=\"dataframe\">\n",
       "  <thead>\n",
       "    <tr style=\"text-align: right;\">\n",
       "      <th></th>\n",
       "      <th>AMT_CREDIT_DEBT_RATIO</th>\n",
       "      <th>CREDIT_DAY_OVERDUE</th>\n",
       "      <th>DPD_COUNTS</th>\n",
       "    </tr>\n",
       "    <tr>\n",
       "      <th>SK_ID_CURR</th>\n",
       "      <th></th>\n",
       "      <th></th>\n",
       "      <th></th>\n",
       "    </tr>\n",
       "  </thead>\n",
       "  <tbody>\n",
       "    <tr>\n",
       "      <th>166497.0</th>\n",
       "      <td>0.000000</td>\n",
       "      <td>0.0</td>\n",
       "      <td>NaN</td>\n",
       "    </tr>\n",
       "    <tr>\n",
       "      <th>166497.0</th>\n",
       "      <td>0.000000</td>\n",
       "      <td>0.0</td>\n",
       "      <td>NaN</td>\n",
       "    </tr>\n",
       "    <tr>\n",
       "      <th>166497.0</th>\n",
       "      <td>0.000000</td>\n",
       "      <td>0.0</td>\n",
       "      <td>NaN</td>\n",
       "    </tr>\n",
       "    <tr>\n",
       "      <th>166497.0</th>\n",
       "      <td>0.000000</td>\n",
       "      <td>0.0</td>\n",
       "      <td>NaN</td>\n",
       "    </tr>\n",
       "    <tr>\n",
       "      <th>166497.0</th>\n",
       "      <td>1.000000</td>\n",
       "      <td>0.0</td>\n",
       "      <td>NaN</td>\n",
       "    </tr>\n",
       "    <tr>\n",
       "      <th>356385.0</th>\n",
       "      <td>0.312983</td>\n",
       "      <td>0.0</td>\n",
       "      <td>NaN</td>\n",
       "    </tr>\n",
       "    <tr>\n",
       "      <th>375916.0</th>\n",
       "      <td>0.000000</td>\n",
       "      <td>0.0</td>\n",
       "      <td>NaN</td>\n",
       "    </tr>\n",
       "    <tr>\n",
       "      <th>375916.0</th>\n",
       "      <td>0.000000</td>\n",
       "      <td>0.0</td>\n",
       "      <td>NaN</td>\n",
       "    </tr>\n",
       "    <tr>\n",
       "      <th>375916.0</th>\n",
       "      <td>0.000000</td>\n",
       "      <td>0.0</td>\n",
       "      <td>NaN</td>\n",
       "    </tr>\n",
       "    <tr>\n",
       "      <th>375916.0</th>\n",
       "      <td>1.075000</td>\n",
       "      <td>0.0</td>\n",
       "      <td>NaN</td>\n",
       "    </tr>\n",
       "    <tr>\n",
       "      <th>375916.0</th>\n",
       "      <td>0.000000</td>\n",
       "      <td>0.0</td>\n",
       "      <td>NaN</td>\n",
       "    </tr>\n",
       "    <tr>\n",
       "      <th>101767.0</th>\n",
       "      <td>0.000000</td>\n",
       "      <td>0.0</td>\n",
       "      <td>NaN</td>\n",
       "    </tr>\n",
       "    <tr>\n",
       "      <th>101767.0</th>\n",
       "      <td>0.000000</td>\n",
       "      <td>0.0</td>\n",
       "      <td>NaN</td>\n",
       "    </tr>\n",
       "    <tr>\n",
       "      <th>101767.0</th>\n",
       "      <td>0.000000</td>\n",
       "      <td>0.0</td>\n",
       "      <td>NaN</td>\n",
       "    </tr>\n",
       "    <tr>\n",
       "      <th>101767.0</th>\n",
       "      <td>0.000000</td>\n",
       "      <td>0.0</td>\n",
       "      <td>NaN</td>\n",
       "    </tr>\n",
       "    <tr>\n",
       "      <th>101767.0</th>\n",
       "      <td>0.000000</td>\n",
       "      <td>0.0</td>\n",
       "      <td>NaN</td>\n",
       "    </tr>\n",
       "    <tr>\n",
       "      <th>408140.0</th>\n",
       "      <td>0.000000</td>\n",
       "      <td>0.0</td>\n",
       "      <td>NaN</td>\n",
       "    </tr>\n",
       "    <tr>\n",
       "      <th>408140.0</th>\n",
       "      <td>0.000000</td>\n",
       "      <td>0.0</td>\n",
       "      <td>NaN</td>\n",
       "    </tr>\n",
       "    <tr>\n",
       "      <th>251574.0</th>\n",
       "      <td>0.000000</td>\n",
       "      <td>0.0</td>\n",
       "      <td>NaN</td>\n",
       "    </tr>\n",
       "    <tr>\n",
       "      <th>251574.0</th>\n",
       "      <td>0.000000</td>\n",
       "      <td>0.0</td>\n",
       "      <td>NaN</td>\n",
       "    </tr>\n",
       "  </tbody>\n",
       "</table>\n",
       "</div>"
      ],
      "text/plain": [
       "            AMT_CREDIT_DEBT_RATIO  CREDIT_DAY_OVERDUE  DPD_COUNTS\n",
       "SK_ID_CURR                                                       \n",
       "166497.0                 0.000000                 0.0         NaN\n",
       "166497.0                 0.000000                 0.0         NaN\n",
       "166497.0                 0.000000                 0.0         NaN\n",
       "166497.0                 0.000000                 0.0         NaN\n",
       "166497.0                 1.000000                 0.0         NaN\n",
       "356385.0                 0.312983                 0.0         NaN\n",
       "375916.0                 0.000000                 0.0         NaN\n",
       "375916.0                 0.000000                 0.0         NaN\n",
       "375916.0                 0.000000                 0.0         NaN\n",
       "375916.0                 1.075000                 0.0         NaN\n",
       "375916.0                 0.000000                 0.0         NaN\n",
       "101767.0                 0.000000                 0.0         NaN\n",
       "101767.0                 0.000000                 0.0         NaN\n",
       "101767.0                 0.000000                 0.0         NaN\n",
       "101767.0                 0.000000                 0.0         NaN\n",
       "101767.0                 0.000000                 0.0         NaN\n",
       "408140.0                 0.000000                 0.0         NaN\n",
       "408140.0                 0.000000                 0.0         NaN\n",
       "251574.0                 0.000000                 0.0         NaN\n",
       "251574.0                 0.000000                 0.0         NaN"
      ]
     },
     "execution_count": 30,
     "metadata": {},
     "output_type": "execute_result"
    }
   ],
   "source": [
    "bb.head(20)"
   ]
  },
  {
   "cell_type": "code",
   "execution_count": 36,
   "metadata": {
    "ExecuteTime": {
     "end_time": "2021-05-02T13:58:30.620095Z",
     "start_time": "2021-05-02T13:58:30.586573Z"
    }
   },
   "outputs": [
    {
     "data": {
      "text/html": [
       "<div>\n",
       "<style scoped>\n",
       "    .dataframe tbody tr th:only-of-type {\n",
       "        vertical-align: middle;\n",
       "    }\n",
       "\n",
       "    .dataframe tbody tr th {\n",
       "        vertical-align: top;\n",
       "    }\n",
       "\n",
       "    .dataframe thead th {\n",
       "        text-align: right;\n",
       "    }\n",
       "</style>\n",
       "<table border=\"1\" class=\"dataframe\">\n",
       "  <thead>\n",
       "    <tr style=\"text-align: right;\">\n",
       "      <th></th>\n",
       "      <th>SK_ID_CURR</th>\n",
       "      <th>AMT_CREDIT_DEBT_RATIO</th>\n",
       "      <th>CREDIT_DAY_OVERDUE</th>\n",
       "      <th>DPD_COUNTS</th>\n",
       "    </tr>\n",
       "  </thead>\n",
       "  <tbody>\n",
       "    <tr>\n",
       "      <th>0</th>\n",
       "      <td>166497.0</td>\n",
       "      <td>0.0</td>\n",
       "      <td>0.0</td>\n",
       "      <td>NaN</td>\n",
       "    </tr>\n",
       "    <tr>\n",
       "      <th>1</th>\n",
       "      <td>166497.0</td>\n",
       "      <td>0.0</td>\n",
       "      <td>0.0</td>\n",
       "      <td>NaN</td>\n",
       "    </tr>\n",
       "    <tr>\n",
       "      <th>2</th>\n",
       "      <td>166497.0</td>\n",
       "      <td>0.0</td>\n",
       "      <td>0.0</td>\n",
       "      <td>NaN</td>\n",
       "    </tr>\n",
       "    <tr>\n",
       "      <th>3</th>\n",
       "      <td>166497.0</td>\n",
       "      <td>0.0</td>\n",
       "      <td>0.0</td>\n",
       "      <td>NaN</td>\n",
       "    </tr>\n",
       "    <tr>\n",
       "      <th>4</th>\n",
       "      <td>166497.0</td>\n",
       "      <td>1.0</td>\n",
       "      <td>0.0</td>\n",
       "      <td>NaN</td>\n",
       "    </tr>\n",
       "  </tbody>\n",
       "</table>\n",
       "</div>"
      ],
      "text/plain": [
       "   SK_ID_CURR  AMT_CREDIT_DEBT_RATIO  CREDIT_DAY_OVERDUE  DPD_COUNTS\n",
       "0    166497.0                    0.0                 0.0         NaN\n",
       "1    166497.0                    0.0                 0.0         NaN\n",
       "2    166497.0                    0.0                 0.0         NaN\n",
       "3    166497.0                    0.0                 0.0         NaN\n",
       "4    166497.0                    1.0                 0.0         NaN"
      ]
     },
     "execution_count": 36,
     "metadata": {},
     "output_type": "execute_result"
    }
   ],
   "source": [
    "bb.reset_index(inplace=True)\n",
    "bb.head()"
   ]
  },
  {
   "cell_type": "code",
   "execution_count": 42,
   "metadata": {
    "ExecuteTime": {
     "end_time": "2021-05-02T14:11:53.378630Z",
     "start_time": "2021-05-02T14:11:52.105730Z"
    }
   },
   "outputs": [
    {
     "data": {
      "text/html": [
       "<div>\n",
       "<style scoped>\n",
       "    .dataframe tbody tr th:only-of-type {\n",
       "        vertical-align: middle;\n",
       "    }\n",
       "\n",
       "    .dataframe tbody tr th {\n",
       "        vertical-align: top;\n",
       "    }\n",
       "\n",
       "    .dataframe thead th {\n",
       "        text-align: right;\n",
       "    }\n",
       "</style>\n",
       "<table border=\"1\" class=\"dataframe\">\n",
       "  <thead>\n",
       "    <tr style=\"text-align: right;\">\n",
       "      <th></th>\n",
       "      <th>SK_ID_CURR</th>\n",
       "      <th>AMT_CREDIT_DEBT_RATIO</th>\n",
       "      <th>CREDIT_DAY_OVERDUE</th>\n",
       "      <th>DPD_COUNTS</th>\n",
       "    </tr>\n",
       "  </thead>\n",
       "  <tbody>\n",
       "    <tr>\n",
       "      <th>0</th>\n",
       "      <td>166497</td>\n",
       "      <td>0.0</td>\n",
       "      <td>0.0</td>\n",
       "      <td>NaN</td>\n",
       "    </tr>\n",
       "    <tr>\n",
       "      <th>1</th>\n",
       "      <td>166497</td>\n",
       "      <td>0.0</td>\n",
       "      <td>0.0</td>\n",
       "      <td>NaN</td>\n",
       "    </tr>\n",
       "    <tr>\n",
       "      <th>2</th>\n",
       "      <td>166497</td>\n",
       "      <td>0.0</td>\n",
       "      <td>0.0</td>\n",
       "      <td>NaN</td>\n",
       "    </tr>\n",
       "    <tr>\n",
       "      <th>3</th>\n",
       "      <td>166497</td>\n",
       "      <td>0.0</td>\n",
       "      <td>0.0</td>\n",
       "      <td>NaN</td>\n",
       "    </tr>\n",
       "    <tr>\n",
       "      <th>4</th>\n",
       "      <td>166497</td>\n",
       "      <td>1.0</td>\n",
       "      <td>0.0</td>\n",
       "      <td>NaN</td>\n",
       "    </tr>\n",
       "  </tbody>\n",
       "</table>\n",
       "</div>"
      ],
      "text/plain": [
       "   SK_ID_CURR  AMT_CREDIT_DEBT_RATIO  CREDIT_DAY_OVERDUE  DPD_COUNTS\n",
       "0      166497                    0.0                 0.0         NaN\n",
       "1      166497                    0.0                 0.0         NaN\n",
       "2      166497                    0.0                 0.0         NaN\n",
       "3      166497                    0.0                 0.0         NaN\n",
       "4      166497                    1.0                 0.0         NaN"
      ]
     },
     "execution_count": 42,
     "metadata": {},
     "output_type": "execute_result"
    }
   ],
   "source": [
    "bb['SK_ID_CURR'] = bb['SK_ID_CURR'].astype('Int64')\n",
    "bb.head()"
   ]
  },
  {
   "cell_type": "code",
   "execution_count": 44,
   "metadata": {
    "ExecuteTime": {
     "end_time": "2021-05-02T14:14:07.106186Z",
     "start_time": "2021-05-02T14:14:07.096474Z"
    }
   },
   "outputs": [],
   "source": [
    "train_test['SK_ID_CURR'] = train_test['SK_ID_CURR'].astype('Int64')"
   ]
  },
  {
   "cell_type": "code",
   "execution_count": 47,
   "metadata": {
    "ExecuteTime": {
     "end_time": "2021-05-02T14:16:33.757343Z",
     "start_time": "2021-05-02T14:16:33.748027Z"
    }
   },
   "outputs": [
    {
     "data": {
      "text/plain": [
       "Int64Dtype()"
      ]
     },
     "execution_count": 47,
     "metadata": {},
     "output_type": "execute_result"
    }
   ],
   "source": [
    "bb['SK_ID_CURR'].dtype"
   ]
  },
  {
   "cell_type": "code",
   "execution_count": 48,
   "metadata": {
    "ExecuteTime": {
     "end_time": "2021-05-02T14:17:04.823943Z",
     "start_time": "2021-05-02T14:17:04.811810Z"
    }
   },
   "outputs": [
    {
     "data": {
      "text/plain": [
       "Int64Dtype()"
      ]
     },
     "execution_count": 48,
     "metadata": {},
     "output_type": "execute_result"
    }
   ],
   "source": [
    "train_test['SK_ID_CURR'].dtype"
   ]
  },
  {
   "cell_type": "code",
   "execution_count": 50,
   "metadata": {
    "ExecuteTime": {
     "end_time": "2021-05-02T14:26:30.506252Z",
     "start_time": "2021-05-02T14:26:26.803007Z"
    }
   },
   "outputs": [],
   "source": [
    "train_test_bb = train_test.merge(bb, how='left', on='SK_ID_CURR')"
   ]
  },
  {
   "cell_type": "code",
   "execution_count": 51,
   "metadata": {
    "ExecuteTime": {
     "end_time": "2021-05-02T14:27:22.792494Z",
     "start_time": "2021-05-02T14:27:22.673253Z"
    }
   },
   "outputs": [
    {
     "data": {
      "text/html": [
       "<div>\n",
       "<style scoped>\n",
       "    .dataframe tbody tr th:only-of-type {\n",
       "        vertical-align: middle;\n",
       "    }\n",
       "\n",
       "    .dataframe tbody tr th {\n",
       "        vertical-align: top;\n",
       "    }\n",
       "\n",
       "    .dataframe thead th {\n",
       "        text-align: right;\n",
       "    }\n",
       "</style>\n",
       "<table border=\"1\" class=\"dataframe\">\n",
       "  <thead>\n",
       "    <tr style=\"text-align: right;\">\n",
       "      <th></th>\n",
       "      <th>index</th>\n",
       "      <th>SK_ID_CURR</th>\n",
       "      <th>TARGET</th>\n",
       "      <th>NAME_CONTRACT_TYPE</th>\n",
       "      <th>CODE_GENDER</th>\n",
       "      <th>FLAG_OWN_CAR</th>\n",
       "      <th>FLAG_OWN_REALTY</th>\n",
       "      <th>CNT_CHILDREN</th>\n",
       "      <th>AMT_INCOME_TOTAL</th>\n",
       "      <th>AMT_CREDIT</th>\n",
       "      <th>...</th>\n",
       "      <th>FLAG_DOCUMENT_21</th>\n",
       "      <th>AMT_REQ_CREDIT_BUREAU_HOUR</th>\n",
       "      <th>AMT_REQ_CREDIT_BUREAU_DAY</th>\n",
       "      <th>AMT_REQ_CREDIT_BUREAU_WEEK</th>\n",
       "      <th>AMT_REQ_CREDIT_BUREAU_MON</th>\n",
       "      <th>AMT_REQ_CREDIT_BUREAU_QRT</th>\n",
       "      <th>AMT_REQ_CREDIT_BUREAU_YEAR</th>\n",
       "      <th>AMT_CREDIT_DEBT_RATIO</th>\n",
       "      <th>CREDIT_DAY_OVERDUE</th>\n",
       "      <th>DPD_COUNTS</th>\n",
       "    </tr>\n",
       "  </thead>\n",
       "  <tbody>\n",
       "    <tr>\n",
       "      <th>0</th>\n",
       "      <td>0</td>\n",
       "      <td>100002</td>\n",
       "      <td>1.0</td>\n",
       "      <td>Cash loans</td>\n",
       "      <td>M</td>\n",
       "      <td>N</td>\n",
       "      <td>Y</td>\n",
       "      <td>0</td>\n",
       "      <td>202500.0</td>\n",
       "      <td>406597.5</td>\n",
       "      <td>...</td>\n",
       "      <td>0</td>\n",
       "      <td>0.0</td>\n",
       "      <td>0.0</td>\n",
       "      <td>0.0</td>\n",
       "      <td>0.0</td>\n",
       "      <td>0.0</td>\n",
       "      <td>1.0</td>\n",
       "      <td>0.00000</td>\n",
       "      <td>0.0</td>\n",
       "      <td>6.0</td>\n",
       "    </tr>\n",
       "    <tr>\n",
       "      <th>1</th>\n",
       "      <td>0</td>\n",
       "      <td>100002</td>\n",
       "      <td>1.0</td>\n",
       "      <td>Cash loans</td>\n",
       "      <td>M</td>\n",
       "      <td>N</td>\n",
       "      <td>Y</td>\n",
       "      <td>0</td>\n",
       "      <td>202500.0</td>\n",
       "      <td>406597.5</td>\n",
       "      <td>...</td>\n",
       "      <td>0</td>\n",
       "      <td>0.0</td>\n",
       "      <td>0.0</td>\n",
       "      <td>0.0</td>\n",
       "      <td>0.0</td>\n",
       "      <td>0.0</td>\n",
       "      <td>1.0</td>\n",
       "      <td>0.54618</td>\n",
       "      <td>0.0</td>\n",
       "      <td>6.0</td>\n",
       "    </tr>\n",
       "    <tr>\n",
       "      <th>2</th>\n",
       "      <td>0</td>\n",
       "      <td>100002</td>\n",
       "      <td>1.0</td>\n",
       "      <td>Cash loans</td>\n",
       "      <td>M</td>\n",
       "      <td>N</td>\n",
       "      <td>Y</td>\n",
       "      <td>0</td>\n",
       "      <td>202500.0</td>\n",
       "      <td>406597.5</td>\n",
       "      <td>...</td>\n",
       "      <td>0</td>\n",
       "      <td>0.0</td>\n",
       "      <td>0.0</td>\n",
       "      <td>0.0</td>\n",
       "      <td>0.0</td>\n",
       "      <td>0.0</td>\n",
       "      <td>1.0</td>\n",
       "      <td>0.00000</td>\n",
       "      <td>0.0</td>\n",
       "      <td>1.0</td>\n",
       "    </tr>\n",
       "    <tr>\n",
       "      <th>3</th>\n",
       "      <td>0</td>\n",
       "      <td>100002</td>\n",
       "      <td>1.0</td>\n",
       "      <td>Cash loans</td>\n",
       "      <td>M</td>\n",
       "      <td>N</td>\n",
       "      <td>Y</td>\n",
       "      <td>0</td>\n",
       "      <td>202500.0</td>\n",
       "      <td>406597.5</td>\n",
       "      <td>...</td>\n",
       "      <td>0</td>\n",
       "      <td>0.0</td>\n",
       "      <td>0.0</td>\n",
       "      <td>0.0</td>\n",
       "      <td>0.0</td>\n",
       "      <td>0.0</td>\n",
       "      <td>1.0</td>\n",
       "      <td>0.00000</td>\n",
       "      <td>0.0</td>\n",
       "      <td>0.0</td>\n",
       "    </tr>\n",
       "    <tr>\n",
       "      <th>4</th>\n",
       "      <td>0</td>\n",
       "      <td>100002</td>\n",
       "      <td>1.0</td>\n",
       "      <td>Cash loans</td>\n",
       "      <td>M</td>\n",
       "      <td>N</td>\n",
       "      <td>Y</td>\n",
       "      <td>0</td>\n",
       "      <td>202500.0</td>\n",
       "      <td>406597.5</td>\n",
       "      <td>...</td>\n",
       "      <td>0</td>\n",
       "      <td>0.0</td>\n",
       "      <td>0.0</td>\n",
       "      <td>0.0</td>\n",
       "      <td>0.0</td>\n",
       "      <td>0.0</td>\n",
       "      <td>1.0</td>\n",
       "      <td>0.00000</td>\n",
       "      <td>0.0</td>\n",
       "      <td>6.0</td>\n",
       "    </tr>\n",
       "  </tbody>\n",
       "</table>\n",
       "<p>5 rows × 126 columns</p>\n",
       "</div>"
      ],
      "text/plain": [
       "   index  SK_ID_CURR  TARGET NAME_CONTRACT_TYPE CODE_GENDER FLAG_OWN_CAR  \\\n",
       "0      0      100002     1.0         Cash loans           M            N   \n",
       "1      0      100002     1.0         Cash loans           M            N   \n",
       "2      0      100002     1.0         Cash loans           M            N   \n",
       "3      0      100002     1.0         Cash loans           M            N   \n",
       "4      0      100002     1.0         Cash loans           M            N   \n",
       "\n",
       "  FLAG_OWN_REALTY  CNT_CHILDREN  AMT_INCOME_TOTAL  AMT_CREDIT  ...  \\\n",
       "0               Y             0          202500.0    406597.5  ...   \n",
       "1               Y             0          202500.0    406597.5  ...   \n",
       "2               Y             0          202500.0    406597.5  ...   \n",
       "3               Y             0          202500.0    406597.5  ...   \n",
       "4               Y             0          202500.0    406597.5  ...   \n",
       "\n",
       "   FLAG_DOCUMENT_21  AMT_REQ_CREDIT_BUREAU_HOUR AMT_REQ_CREDIT_BUREAU_DAY  \\\n",
       "0                 0                         0.0                       0.0   \n",
       "1                 0                         0.0                       0.0   \n",
       "2                 0                         0.0                       0.0   \n",
       "3                 0                         0.0                       0.0   \n",
       "4                 0                         0.0                       0.0   \n",
       "\n",
       "  AMT_REQ_CREDIT_BUREAU_WEEK AMT_REQ_CREDIT_BUREAU_MON  \\\n",
       "0                        0.0                       0.0   \n",
       "1                        0.0                       0.0   \n",
       "2                        0.0                       0.0   \n",
       "3                        0.0                       0.0   \n",
       "4                        0.0                       0.0   \n",
       "\n",
       "  AMT_REQ_CREDIT_BUREAU_QRT AMT_REQ_CREDIT_BUREAU_YEAR  AMT_CREDIT_DEBT_RATIO  \\\n",
       "0                       0.0                        1.0                0.00000   \n",
       "1                       0.0                        1.0                0.54618   \n",
       "2                       0.0                        1.0                0.00000   \n",
       "3                       0.0                        1.0                0.00000   \n",
       "4                       0.0                        1.0                0.00000   \n",
       "\n",
       "   CREDIT_DAY_OVERDUE  DPD_COUNTS  \n",
       "0                 0.0         6.0  \n",
       "1                 0.0         6.0  \n",
       "2                 0.0         1.0  \n",
       "3                 0.0         0.0  \n",
       "4                 0.0         6.0  \n",
       "\n",
       "[5 rows x 126 columns]"
      ]
     },
     "execution_count": 51,
     "metadata": {},
     "output_type": "execute_result"
    }
   ],
   "source": [
    "train_test_bb.head()"
   ]
  },
  {
   "cell_type": "code",
   "execution_count": 52,
   "metadata": {
    "ExecuteTime": {
     "end_time": "2021-05-02T14:29:54.804548Z",
     "start_time": "2021-05-02T14:29:54.796539Z"
    }
   },
   "outputs": [
    {
     "data": {
      "text/plain": [
       "(1766872, 126)"
      ]
     },
     "execution_count": 52,
     "metadata": {},
     "output_type": "execute_result"
    }
   ],
   "source": [
    "train_test_bb.shape"
   ]
  },
  {
   "cell_type": "code",
   "execution_count": 54,
   "metadata": {
    "ExecuteTime": {
     "end_time": "2021-05-02T14:35:41.213967Z",
     "start_time": "2021-05-02T14:35:41.191693Z"
    }
   },
   "outputs": [
    {
     "data": {
      "text/plain": [
       "(1716428, 18)"
      ]
     },
     "execution_count": 54,
     "metadata": {},
     "output_type": "execute_result"
    }
   ],
   "source": [
    "bureau.shape"
   ]
  },
  {
   "cell_type": "code",
   "execution_count": 60,
   "metadata": {
    "ExecuteTime": {
     "end_time": "2021-05-02T16:52:54.866873Z",
     "start_time": "2021-05-02T16:52:53.451949Z"
    }
   },
   "outputs": [],
   "source": [
    "df = train_test.join(bb, how='left', on='SK_ID_CURR', lsuffix='_left', rsuffix='_right',)"
   ]
  },
  {
   "cell_type": "code",
   "execution_count": 61,
   "metadata": {
    "ExecuteTime": {
     "end_time": "2021-05-02T16:53:46.037782Z",
     "start_time": "2021-05-02T16:53:46.029051Z"
    }
   },
   "outputs": [
    {
     "data": {
      "text/plain": [
       "(356255, 127)"
      ]
     },
     "execution_count": 61,
     "metadata": {},
     "output_type": "execute_result"
    }
   ],
   "source": [
    "df.shape"
   ]
  },
  {
   "cell_type": "code",
   "execution_count": 62,
   "metadata": {
    "ExecuteTime": {
     "end_time": "2021-05-02T16:54:47.567096Z",
     "start_time": "2021-05-02T16:54:47.521456Z"
    }
   },
   "outputs": [
    {
     "data": {
      "text/html": [
       "<div>\n",
       "<style scoped>\n",
       "    .dataframe tbody tr th:only-of-type {\n",
       "        vertical-align: middle;\n",
       "    }\n",
       "\n",
       "    .dataframe tbody tr th {\n",
       "        vertical-align: top;\n",
       "    }\n",
       "\n",
       "    .dataframe thead th {\n",
       "        text-align: right;\n",
       "    }\n",
       "</style>\n",
       "<table border=\"1\" class=\"dataframe\">\n",
       "  <thead>\n",
       "    <tr style=\"text-align: right;\">\n",
       "      <th></th>\n",
       "      <th>index</th>\n",
       "      <th>SK_ID_CURR_left</th>\n",
       "      <th>TARGET</th>\n",
       "      <th>NAME_CONTRACT_TYPE</th>\n",
       "      <th>CODE_GENDER</th>\n",
       "      <th>FLAG_OWN_CAR</th>\n",
       "      <th>FLAG_OWN_REALTY</th>\n",
       "      <th>CNT_CHILDREN</th>\n",
       "      <th>AMT_INCOME_TOTAL</th>\n",
       "      <th>AMT_CREDIT</th>\n",
       "      <th>...</th>\n",
       "      <th>AMT_REQ_CREDIT_BUREAU_HOUR</th>\n",
       "      <th>AMT_REQ_CREDIT_BUREAU_DAY</th>\n",
       "      <th>AMT_REQ_CREDIT_BUREAU_WEEK</th>\n",
       "      <th>AMT_REQ_CREDIT_BUREAU_MON</th>\n",
       "      <th>AMT_REQ_CREDIT_BUREAU_QRT</th>\n",
       "      <th>AMT_REQ_CREDIT_BUREAU_YEAR</th>\n",
       "      <th>SK_ID_CURR_right</th>\n",
       "      <th>AMT_CREDIT_DEBT_RATIO</th>\n",
       "      <th>CREDIT_DAY_OVERDUE</th>\n",
       "      <th>DPD_COUNTS</th>\n",
       "    </tr>\n",
       "  </thead>\n",
       "  <tbody>\n",
       "    <tr>\n",
       "      <th>0</th>\n",
       "      <td>0</td>\n",
       "      <td>100002</td>\n",
       "      <td>1.0</td>\n",
       "      <td>Cash loans</td>\n",
       "      <td>M</td>\n",
       "      <td>N</td>\n",
       "      <td>Y</td>\n",
       "      <td>0</td>\n",
       "      <td>202500.0</td>\n",
       "      <td>406597.5</td>\n",
       "      <td>...</td>\n",
       "      <td>0.0</td>\n",
       "      <td>0.0</td>\n",
       "      <td>0.0</td>\n",
       "      <td>0.0</td>\n",
       "      <td>0.0</td>\n",
       "      <td>1.0</td>\n",
       "      <td>267358</td>\n",
       "      <td>0.00000</td>\n",
       "      <td>0.0</td>\n",
       "      <td>1.0</td>\n",
       "    </tr>\n",
       "    <tr>\n",
       "      <th>1</th>\n",
       "      <td>1</td>\n",
       "      <td>100003</td>\n",
       "      <td>0.0</td>\n",
       "      <td>Cash loans</td>\n",
       "      <td>F</td>\n",
       "      <td>N</td>\n",
       "      <td>N</td>\n",
       "      <td>0</td>\n",
       "      <td>270000.0</td>\n",
       "      <td>1293502.5</td>\n",
       "      <td>...</td>\n",
       "      <td>0.0</td>\n",
       "      <td>0.0</td>\n",
       "      <td>0.0</td>\n",
       "      <td>0.0</td>\n",
       "      <td>0.0</td>\n",
       "      <td>0.0</td>\n",
       "      <td>&lt;NA&gt;</td>\n",
       "      <td>NaN</td>\n",
       "      <td>NaN</td>\n",
       "      <td>1.0</td>\n",
       "    </tr>\n",
       "    <tr>\n",
       "      <th>2</th>\n",
       "      <td>2</td>\n",
       "      <td>100004</td>\n",
       "      <td>0.0</td>\n",
       "      <td>Revolving loans</td>\n",
       "      <td>M</td>\n",
       "      <td>Y</td>\n",
       "      <td>Y</td>\n",
       "      <td>0</td>\n",
       "      <td>67500.0</td>\n",
       "      <td>135000.0</td>\n",
       "      <td>...</td>\n",
       "      <td>0.0</td>\n",
       "      <td>0.0</td>\n",
       "      <td>0.0</td>\n",
       "      <td>0.0</td>\n",
       "      <td>0.0</td>\n",
       "      <td>0.0</td>\n",
       "      <td>267358</td>\n",
       "      <td>0.00000</td>\n",
       "      <td>0.0</td>\n",
       "      <td>2.0</td>\n",
       "    </tr>\n",
       "    <tr>\n",
       "      <th>3</th>\n",
       "      <td>3</td>\n",
       "      <td>100006</td>\n",
       "      <td>0.0</td>\n",
       "      <td>Cash loans</td>\n",
       "      <td>F</td>\n",
       "      <td>N</td>\n",
       "      <td>Y</td>\n",
       "      <td>0</td>\n",
       "      <td>135000.0</td>\n",
       "      <td>312682.5</td>\n",
       "      <td>...</td>\n",
       "      <td>NaN</td>\n",
       "      <td>NaN</td>\n",
       "      <td>NaN</td>\n",
       "      <td>NaN</td>\n",
       "      <td>NaN</td>\n",
       "      <td>NaN</td>\n",
       "      <td>186604</td>\n",
       "      <td>0.00000</td>\n",
       "      <td>0.0</td>\n",
       "      <td>0.0</td>\n",
       "    </tr>\n",
       "    <tr>\n",
       "      <th>4</th>\n",
       "      <td>4</td>\n",
       "      <td>100007</td>\n",
       "      <td>0.0</td>\n",
       "      <td>Cash loans</td>\n",
       "      <td>M</td>\n",
       "      <td>N</td>\n",
       "      <td>Y</td>\n",
       "      <td>0</td>\n",
       "      <td>121500.0</td>\n",
       "      <td>513000.0</td>\n",
       "      <td>...</td>\n",
       "      <td>0.0</td>\n",
       "      <td>0.0</td>\n",
       "      <td>0.0</td>\n",
       "      <td>0.0</td>\n",
       "      <td>0.0</td>\n",
       "      <td>0.0</td>\n",
       "      <td>186604</td>\n",
       "      <td>0.99725</td>\n",
       "      <td>0.0</td>\n",
       "      <td>0.0</td>\n",
       "    </tr>\n",
       "  </tbody>\n",
       "</table>\n",
       "<p>5 rows × 127 columns</p>\n",
       "</div>"
      ],
      "text/plain": [
       "   index  SK_ID_CURR_left  TARGET NAME_CONTRACT_TYPE CODE_GENDER FLAG_OWN_CAR  \\\n",
       "0      0           100002     1.0         Cash loans           M            N   \n",
       "1      1           100003     0.0         Cash loans           F            N   \n",
       "2      2           100004     0.0    Revolving loans           M            Y   \n",
       "3      3           100006     0.0         Cash loans           F            N   \n",
       "4      4           100007     0.0         Cash loans           M            N   \n",
       "\n",
       "  FLAG_OWN_REALTY  CNT_CHILDREN  AMT_INCOME_TOTAL  AMT_CREDIT  ...  \\\n",
       "0               Y             0          202500.0    406597.5  ...   \n",
       "1               N             0          270000.0   1293502.5  ...   \n",
       "2               Y             0           67500.0    135000.0  ...   \n",
       "3               Y             0          135000.0    312682.5  ...   \n",
       "4               Y             0          121500.0    513000.0  ...   \n",
       "\n",
       "   AMT_REQ_CREDIT_BUREAU_HOUR  AMT_REQ_CREDIT_BUREAU_DAY  \\\n",
       "0                         0.0                        0.0   \n",
       "1                         0.0                        0.0   \n",
       "2                         0.0                        0.0   \n",
       "3                         NaN                        NaN   \n",
       "4                         0.0                        0.0   \n",
       "\n",
       "  AMT_REQ_CREDIT_BUREAU_WEEK AMT_REQ_CREDIT_BUREAU_MON  \\\n",
       "0                        0.0                       0.0   \n",
       "1                        0.0                       0.0   \n",
       "2                        0.0                       0.0   \n",
       "3                        NaN                       NaN   \n",
       "4                        0.0                       0.0   \n",
       "\n",
       "  AMT_REQ_CREDIT_BUREAU_QRT AMT_REQ_CREDIT_BUREAU_YEAR SK_ID_CURR_right  \\\n",
       "0                       0.0                        1.0           267358   \n",
       "1                       0.0                        0.0             <NA>   \n",
       "2                       0.0                        0.0           267358   \n",
       "3                       NaN                        NaN           186604   \n",
       "4                       0.0                        0.0           186604   \n",
       "\n",
       "   AMT_CREDIT_DEBT_RATIO  CREDIT_DAY_OVERDUE  DPD_COUNTS  \n",
       "0                0.00000                 0.0         1.0  \n",
       "1                    NaN                 NaN         1.0  \n",
       "2                0.00000                 0.0         2.0  \n",
       "3                0.00000                 0.0         0.0  \n",
       "4                0.99725                 0.0         0.0  \n",
       "\n",
       "[5 rows x 127 columns]"
      ]
     },
     "execution_count": 62,
     "metadata": {},
     "output_type": "execute_result"
    }
   ],
   "source": [
    "df.head()"
   ]
  },
  {
   "cell_type": "code",
   "execution_count": null,
   "metadata": {},
   "outputs": [],
   "source": [
    "## something is fishhy "
   ]
  },
  {
   "cell_type": "code",
   "execution_count": 57,
   "metadata": {
    "ExecuteTime": {
     "end_time": "2021-05-02T14:56:10.887397Z",
     "start_time": "2021-05-02T14:45:25.808721Z"
    }
   },
   "outputs": [],
   "source": [
    "DPD_STATUS_MAP = {\n",
    "    'C': 0, \n",
    "    'X': 0,\n",
    "    '0': 0,\n",
    "    '1': 1,\n",
    "    '2': 2,\n",
    "    '3': 3,\n",
    "    '4': 4,\n",
    "    '5': 5,\n",
    "}\n",
    "def sum_of_dpd(x):\n",
    "    return x['STATUS'].map(DPD_STATUS_MAP).sum()\n",
    "\n",
    "dpd_counts_df = bureau_balance.groupby(['SK_ID_BUREAU']).apply(sum_of_dpd)"
   ]
  },
  {
   "cell_type": "code",
   "execution_count": 58,
   "metadata": {
    "ExecuteTime": {
     "end_time": "2021-05-02T14:57:42.728841Z",
     "start_time": "2021-05-02T14:57:42.720465Z"
    }
   },
   "outputs": [
    {
     "data": {
      "text/plain": [
       "(817395,)"
      ]
     },
     "execution_count": 58,
     "metadata": {},
     "output_type": "execute_result"
    }
   ],
   "source": [
    "dpd_counts_df.shape"
   ]
  },
  {
   "cell_type": "code",
   "execution_count": 59,
   "metadata": {
    "ExecuteTime": {
     "end_time": "2021-05-02T15:01:45.354561Z",
     "start_time": "2021-05-02T15:01:45.344308Z"
    }
   },
   "outputs": [
    {
     "data": {
      "text/plain": [
       "SK_ID_BUREAU\n",
       "5001709     0\n",
       "5001710     0\n",
       "5001711     0\n",
       "5001712     0\n",
       "5001713     0\n",
       "           ..\n",
       "6842884     0\n",
       "6842885    60\n",
       "6842886     0\n",
       "6842887     0\n",
       "6842888     1\n",
       "Length: 817395, dtype: int64"
      ]
     },
     "execution_count": 59,
     "metadata": {},
     "output_type": "execute_result"
    }
   ],
   "source": [
    "dpd_counts_df"
   ]
  },
  {
   "cell_type": "code",
   "execution_count": 65,
   "metadata": {
    "ExecuteTime": {
     "end_time": "2021-05-02T17:43:43.871927Z",
     "start_time": "2021-05-02T17:43:42.766498Z"
    }
   },
   "outputs": [
    {
     "data": {
      "text/plain": [
       "False"
      ]
     },
     "execution_count": 65,
     "metadata": {},
     "output_type": "execute_result"
    }
   ],
   "source": [
    "## bingo\n",
    "bb.SK_ID_CURR.is_unique"
   ]
  },
  {
   "cell_type": "code",
   "execution_count": 66,
   "metadata": {
    "ExecuteTime": {
     "end_time": "2021-05-02T17:44:51.498420Z",
     "start_time": "2021-05-02T17:44:51.482420Z"
    }
   },
   "outputs": [
    {
     "data": {
      "text/html": [
       "<div>\n",
       "<style scoped>\n",
       "    .dataframe tbody tr th:only-of-type {\n",
       "        vertical-align: middle;\n",
       "    }\n",
       "\n",
       "    .dataframe tbody tr th {\n",
       "        vertical-align: top;\n",
       "    }\n",
       "\n",
       "    .dataframe thead th {\n",
       "        text-align: right;\n",
       "    }\n",
       "</style>\n",
       "<table border=\"1\" class=\"dataframe\">\n",
       "  <thead>\n",
       "    <tr style=\"text-align: right;\">\n",
       "      <th></th>\n",
       "      <th>SK_ID_CURR</th>\n",
       "      <th>AMT_CREDIT_DEBT_RATIO</th>\n",
       "      <th>CREDIT_DAY_OVERDUE</th>\n",
       "      <th>DPD_COUNTS</th>\n",
       "    </tr>\n",
       "  </thead>\n",
       "  <tbody>\n",
       "    <tr>\n",
       "      <th>0</th>\n",
       "      <td>166497</td>\n",
       "      <td>0.0</td>\n",
       "      <td>0.0</td>\n",
       "      <td>NaN</td>\n",
       "    </tr>\n",
       "    <tr>\n",
       "      <th>1</th>\n",
       "      <td>166497</td>\n",
       "      <td>0.0</td>\n",
       "      <td>0.0</td>\n",
       "      <td>NaN</td>\n",
       "    </tr>\n",
       "    <tr>\n",
       "      <th>2</th>\n",
       "      <td>166497</td>\n",
       "      <td>0.0</td>\n",
       "      <td>0.0</td>\n",
       "      <td>NaN</td>\n",
       "    </tr>\n",
       "    <tr>\n",
       "      <th>3</th>\n",
       "      <td>166497</td>\n",
       "      <td>0.0</td>\n",
       "      <td>0.0</td>\n",
       "      <td>NaN</td>\n",
       "    </tr>\n",
       "    <tr>\n",
       "      <th>4</th>\n",
       "      <td>166497</td>\n",
       "      <td>1.0</td>\n",
       "      <td>0.0</td>\n",
       "      <td>NaN</td>\n",
       "    </tr>\n",
       "  </tbody>\n",
       "</table>\n",
       "</div>"
      ],
      "text/plain": [
       "   SK_ID_CURR  AMT_CREDIT_DEBT_RATIO  CREDIT_DAY_OVERDUE  DPD_COUNTS\n",
       "0      166497                    0.0                 0.0         NaN\n",
       "1      166497                    0.0                 0.0         NaN\n",
       "2      166497                    0.0                 0.0         NaN\n",
       "3      166497                    0.0                 0.0         NaN\n",
       "4      166497                    1.0                 0.0         NaN"
      ]
     },
     "execution_count": 66,
     "metadata": {},
     "output_type": "execute_result"
    }
   ],
   "source": [
    "bb.head()"
   ]
  },
  {
   "cell_type": "code",
   "execution_count": 68,
   "metadata": {
    "ExecuteTime": {
     "end_time": "2021-05-02T17:50:34.244754Z",
     "start_time": "2021-05-02T17:50:33.131342Z"
    }
   },
   "outputs": [],
   "source": [
    "new_bb = bb.groupby('SK_ID_CURR').agg({'AMT_CREDIT_DEBT_RATIO': \n",
    "                                       'mean', 'CREDIT_DAY_OVERDUE': 'mean',\n",
    "                                      'DPD_COUNTS': 'mean'})"
   ]
  },
  {
   "cell_type": "code",
   "execution_count": 69,
   "metadata": {
    "ExecuteTime": {
     "end_time": "2021-05-02T17:51:23.452686Z",
     "start_time": "2021-05-02T17:51:23.437962Z"
    }
   },
   "outputs": [
    {
     "data": {
      "text/html": [
       "<div>\n",
       "<style scoped>\n",
       "    .dataframe tbody tr th:only-of-type {\n",
       "        vertical-align: middle;\n",
       "    }\n",
       "\n",
       "    .dataframe tbody tr th {\n",
       "        vertical-align: top;\n",
       "    }\n",
       "\n",
       "    .dataframe thead th {\n",
       "        text-align: right;\n",
       "    }\n",
       "</style>\n",
       "<table border=\"1\" class=\"dataframe\">\n",
       "  <thead>\n",
       "    <tr style=\"text-align: right;\">\n",
       "      <th></th>\n",
       "      <th>AMT_CREDIT_DEBT_RATIO</th>\n",
       "      <th>CREDIT_DAY_OVERDUE</th>\n",
       "      <th>DPD_COUNTS</th>\n",
       "    </tr>\n",
       "    <tr>\n",
       "      <th>SK_ID_CURR</th>\n",
       "      <th></th>\n",
       "      <th></th>\n",
       "      <th></th>\n",
       "    </tr>\n",
       "  </thead>\n",
       "  <tbody>\n",
       "    <tr>\n",
       "      <th>100001</th>\n",
       "      <td>0.282518</td>\n",
       "      <td>0.0</td>\n",
       "      <td>0.142857</td>\n",
       "    </tr>\n",
       "    <tr>\n",
       "      <th>100002</th>\n",
       "      <td>0.068272</td>\n",
       "      <td>0.0</td>\n",
       "      <td>3.375000</td>\n",
       "    </tr>\n",
       "    <tr>\n",
       "      <th>100003</th>\n",
       "      <td>0.000000</td>\n",
       "      <td>0.0</td>\n",
       "      <td>NaN</td>\n",
       "    </tr>\n",
       "    <tr>\n",
       "      <th>100004</th>\n",
       "      <td>0.000000</td>\n",
       "      <td>0.0</td>\n",
       "      <td>NaN</td>\n",
       "    </tr>\n",
       "    <tr>\n",
       "      <th>100005</th>\n",
       "      <td>0.601256</td>\n",
       "      <td>0.0</td>\n",
       "      <td>0.000000</td>\n",
       "    </tr>\n",
       "  </tbody>\n",
       "</table>\n",
       "</div>"
      ],
      "text/plain": [
       "            AMT_CREDIT_DEBT_RATIO  CREDIT_DAY_OVERDUE  DPD_COUNTS\n",
       "SK_ID_CURR                                                       \n",
       "100001                   0.282518                 0.0    0.142857\n",
       "100002                   0.068272                 0.0    3.375000\n",
       "100003                   0.000000                 0.0         NaN\n",
       "100004                   0.000000                 0.0         NaN\n",
       "100005                   0.601256                 0.0    0.000000"
      ]
     },
     "execution_count": 69,
     "metadata": {},
     "output_type": "execute_result"
    }
   ],
   "source": [
    "new_bb.head()"
   ]
  },
  {
   "cell_type": "code",
   "execution_count": 70,
   "metadata": {
    "ExecuteTime": {
     "end_time": "2021-05-02T17:52:12.870428Z",
     "start_time": "2021-05-02T17:52:12.828196Z"
    }
   },
   "outputs": [
    {
     "data": {
      "text/plain": [
       "(305811, 3)"
      ]
     },
     "execution_count": 70,
     "metadata": {},
     "output_type": "execute_result"
    }
   ],
   "source": [
    "new_bb.shape"
   ]
  },
  {
   "cell_type": "code",
   "execution_count": 71,
   "metadata": {
    "ExecuteTime": {
     "end_time": "2021-05-02T17:56:56.654178Z",
     "start_time": "2021-05-02T17:56:56.644775Z"
    }
   },
   "outputs": [
    {
     "data": {
      "text/plain": [
       "(356255, 123)"
      ]
     },
     "execution_count": 71,
     "metadata": {},
     "output_type": "execute_result"
    }
   ],
   "source": [
    "train_test.shape"
   ]
  },
  {
   "cell_type": "code",
   "execution_count": 73,
   "metadata": {
    "ExecuteTime": {
     "end_time": "2021-05-02T17:58:22.947581Z",
     "start_time": "2021-05-02T17:58:22.940706Z"
    }
   },
   "outputs": [
    {
     "data": {
      "text/plain": [
       "0.8584047943186762"
      ]
     },
     "execution_count": 73,
     "metadata": {},
     "output_type": "execute_result"
    }
   ],
   "source": [
    "305811/356255"
   ]
  },
  {
   "cell_type": "code",
   "execution_count": 74,
   "metadata": {
    "ExecuteTime": {
     "end_time": "2021-05-02T18:00:48.205015Z",
     "start_time": "2021-05-02T18:00:44.758128Z"
    }
   },
   "outputs": [],
   "source": [
    "df = train_test.join(new_bb, how='left', on='SK_ID_CURR', lsuffix='_left', rsuffix='_right')"
   ]
  },
  {
   "cell_type": "code",
   "execution_count": 75,
   "metadata": {
    "ExecuteTime": {
     "end_time": "2021-05-02T18:01:34.312428Z",
     "start_time": "2021-05-02T18:01:34.266582Z"
    }
   },
   "outputs": [
    {
     "data": {
      "text/html": [
       "<div>\n",
       "<style scoped>\n",
       "    .dataframe tbody tr th:only-of-type {\n",
       "        vertical-align: middle;\n",
       "    }\n",
       "\n",
       "    .dataframe tbody tr th {\n",
       "        vertical-align: top;\n",
       "    }\n",
       "\n",
       "    .dataframe thead th {\n",
       "        text-align: right;\n",
       "    }\n",
       "</style>\n",
       "<table border=\"1\" class=\"dataframe\">\n",
       "  <thead>\n",
       "    <tr style=\"text-align: right;\">\n",
       "      <th></th>\n",
       "      <th>index</th>\n",
       "      <th>SK_ID_CURR</th>\n",
       "      <th>TARGET</th>\n",
       "      <th>NAME_CONTRACT_TYPE</th>\n",
       "      <th>CODE_GENDER</th>\n",
       "      <th>FLAG_OWN_CAR</th>\n",
       "      <th>FLAG_OWN_REALTY</th>\n",
       "      <th>CNT_CHILDREN</th>\n",
       "      <th>AMT_INCOME_TOTAL</th>\n",
       "      <th>AMT_CREDIT</th>\n",
       "      <th>...</th>\n",
       "      <th>FLAG_DOCUMENT_21</th>\n",
       "      <th>AMT_REQ_CREDIT_BUREAU_HOUR</th>\n",
       "      <th>AMT_REQ_CREDIT_BUREAU_DAY</th>\n",
       "      <th>AMT_REQ_CREDIT_BUREAU_WEEK</th>\n",
       "      <th>AMT_REQ_CREDIT_BUREAU_MON</th>\n",
       "      <th>AMT_REQ_CREDIT_BUREAU_QRT</th>\n",
       "      <th>AMT_REQ_CREDIT_BUREAU_YEAR</th>\n",
       "      <th>AMT_CREDIT_DEBT_RATIO</th>\n",
       "      <th>CREDIT_DAY_OVERDUE</th>\n",
       "      <th>DPD_COUNTS</th>\n",
       "    </tr>\n",
       "  </thead>\n",
       "  <tbody>\n",
       "    <tr>\n",
       "      <th>0</th>\n",
       "      <td>0</td>\n",
       "      <td>100002</td>\n",
       "      <td>1.0</td>\n",
       "      <td>Cash loans</td>\n",
       "      <td>M</td>\n",
       "      <td>N</td>\n",
       "      <td>Y</td>\n",
       "      <td>0</td>\n",
       "      <td>202500.0</td>\n",
       "      <td>406597.5</td>\n",
       "      <td>...</td>\n",
       "      <td>0</td>\n",
       "      <td>0.0</td>\n",
       "      <td>0.0</td>\n",
       "      <td>0.0</td>\n",
       "      <td>0.0</td>\n",
       "      <td>0.0</td>\n",
       "      <td>1.0</td>\n",
       "      <td>0.068272</td>\n",
       "      <td>0.0</td>\n",
       "      <td>3.375</td>\n",
       "    </tr>\n",
       "    <tr>\n",
       "      <th>1</th>\n",
       "      <td>1</td>\n",
       "      <td>100003</td>\n",
       "      <td>0.0</td>\n",
       "      <td>Cash loans</td>\n",
       "      <td>F</td>\n",
       "      <td>N</td>\n",
       "      <td>N</td>\n",
       "      <td>0</td>\n",
       "      <td>270000.0</td>\n",
       "      <td>1293502.5</td>\n",
       "      <td>...</td>\n",
       "      <td>0</td>\n",
       "      <td>0.0</td>\n",
       "      <td>0.0</td>\n",
       "      <td>0.0</td>\n",
       "      <td>0.0</td>\n",
       "      <td>0.0</td>\n",
       "      <td>0.0</td>\n",
       "      <td>0.000000</td>\n",
       "      <td>0.0</td>\n",
       "      <td>NaN</td>\n",
       "    </tr>\n",
       "    <tr>\n",
       "      <th>2</th>\n",
       "      <td>2</td>\n",
       "      <td>100004</td>\n",
       "      <td>0.0</td>\n",
       "      <td>Revolving loans</td>\n",
       "      <td>M</td>\n",
       "      <td>Y</td>\n",
       "      <td>Y</td>\n",
       "      <td>0</td>\n",
       "      <td>67500.0</td>\n",
       "      <td>135000.0</td>\n",
       "      <td>...</td>\n",
       "      <td>0</td>\n",
       "      <td>0.0</td>\n",
       "      <td>0.0</td>\n",
       "      <td>0.0</td>\n",
       "      <td>0.0</td>\n",
       "      <td>0.0</td>\n",
       "      <td>0.0</td>\n",
       "      <td>0.000000</td>\n",
       "      <td>0.0</td>\n",
       "      <td>NaN</td>\n",
       "    </tr>\n",
       "    <tr>\n",
       "      <th>3</th>\n",
       "      <td>3</td>\n",
       "      <td>100006</td>\n",
       "      <td>0.0</td>\n",
       "      <td>Cash loans</td>\n",
       "      <td>F</td>\n",
       "      <td>N</td>\n",
       "      <td>Y</td>\n",
       "      <td>0</td>\n",
       "      <td>135000.0</td>\n",
       "      <td>312682.5</td>\n",
       "      <td>...</td>\n",
       "      <td>0</td>\n",
       "      <td>NaN</td>\n",
       "      <td>NaN</td>\n",
       "      <td>NaN</td>\n",
       "      <td>NaN</td>\n",
       "      <td>NaN</td>\n",
       "      <td>NaN</td>\n",
       "      <td>NaN</td>\n",
       "      <td>NaN</td>\n",
       "      <td>NaN</td>\n",
       "    </tr>\n",
       "    <tr>\n",
       "      <th>4</th>\n",
       "      <td>4</td>\n",
       "      <td>100007</td>\n",
       "      <td>0.0</td>\n",
       "      <td>Cash loans</td>\n",
       "      <td>M</td>\n",
       "      <td>N</td>\n",
       "      <td>Y</td>\n",
       "      <td>0</td>\n",
       "      <td>121500.0</td>\n",
       "      <td>513000.0</td>\n",
       "      <td>...</td>\n",
       "      <td>0</td>\n",
       "      <td>0.0</td>\n",
       "      <td>0.0</td>\n",
       "      <td>0.0</td>\n",
       "      <td>0.0</td>\n",
       "      <td>0.0</td>\n",
       "      <td>0.0</td>\n",
       "      <td>0.000000</td>\n",
       "      <td>0.0</td>\n",
       "      <td>NaN</td>\n",
       "    </tr>\n",
       "  </tbody>\n",
       "</table>\n",
       "<p>5 rows × 126 columns</p>\n",
       "</div>"
      ],
      "text/plain": [
       "   index SK_ID_CURR  TARGET NAME_CONTRACT_TYPE CODE_GENDER FLAG_OWN_CAR  \\\n",
       "0      0     100002     1.0         Cash loans           M            N   \n",
       "1      1     100003     0.0         Cash loans           F            N   \n",
       "2      2     100004     0.0    Revolving loans           M            Y   \n",
       "3      3     100006     0.0         Cash loans           F            N   \n",
       "4      4     100007     0.0         Cash loans           M            N   \n",
       "\n",
       "  FLAG_OWN_REALTY  CNT_CHILDREN  AMT_INCOME_TOTAL  AMT_CREDIT  ...  \\\n",
       "0               Y             0          202500.0    406597.5  ...   \n",
       "1               N             0          270000.0   1293502.5  ...   \n",
       "2               Y             0           67500.0    135000.0  ...   \n",
       "3               Y             0          135000.0    312682.5  ...   \n",
       "4               Y             0          121500.0    513000.0  ...   \n",
       "\n",
       "   FLAG_DOCUMENT_21  AMT_REQ_CREDIT_BUREAU_HOUR AMT_REQ_CREDIT_BUREAU_DAY  \\\n",
       "0                 0                         0.0                       0.0   \n",
       "1                 0                         0.0                       0.0   \n",
       "2                 0                         0.0                       0.0   \n",
       "3                 0                         NaN                       NaN   \n",
       "4                 0                         0.0                       0.0   \n",
       "\n",
       "  AMT_REQ_CREDIT_BUREAU_WEEK AMT_REQ_CREDIT_BUREAU_MON  \\\n",
       "0                        0.0                       0.0   \n",
       "1                        0.0                       0.0   \n",
       "2                        0.0                       0.0   \n",
       "3                        NaN                       NaN   \n",
       "4                        0.0                       0.0   \n",
       "\n",
       "  AMT_REQ_CREDIT_BUREAU_QRT AMT_REQ_CREDIT_BUREAU_YEAR  AMT_CREDIT_DEBT_RATIO  \\\n",
       "0                       0.0                        1.0               0.068272   \n",
       "1                       0.0                        0.0               0.000000   \n",
       "2                       0.0                        0.0               0.000000   \n",
       "3                       NaN                        NaN                    NaN   \n",
       "4                       0.0                        0.0               0.000000   \n",
       "\n",
       "   CREDIT_DAY_OVERDUE  DPD_COUNTS  \n",
       "0                 0.0       3.375  \n",
       "1                 0.0         NaN  \n",
       "2                 0.0         NaN  \n",
       "3                 NaN         NaN  \n",
       "4                 0.0         NaN  \n",
       "\n",
       "[5 rows x 126 columns]"
      ]
     },
     "execution_count": 75,
     "metadata": {},
     "output_type": "execute_result"
    }
   ],
   "source": [
    "df.head()"
   ]
  },
  {
   "cell_type": "code",
   "execution_count": 76,
   "metadata": {
    "ExecuteTime": {
     "end_time": "2021-05-02T18:02:37.014621Z",
     "start_time": "2021-05-02T18:02:37.007474Z"
    }
   },
   "outputs": [
    {
     "data": {
      "text/plain": [
       "(356255, 126)"
      ]
     },
     "execution_count": 76,
     "metadata": {},
     "output_type": "execute_result"
    }
   ],
   "source": [
    "df.shape"
   ]
  },
  {
   "cell_type": "code",
   "execution_count": null,
   "metadata": {},
   "outputs": [],
   "source": []
  },
  {
   "cell_type": "code",
   "execution_count": 55,
   "metadata": {
    "ExecuteTime": {
     "end_time": "2021-05-02T14:36:16.330043Z",
     "start_time": "2021-05-02T14:36:16.321054Z"
    }
   },
   "outputs": [
    {
     "data": {
      "text/plain": [
       "(27299925, 3)"
      ]
     },
     "execution_count": 55,
     "metadata": {},
     "output_type": "execute_result"
    }
   ],
   "source": [
    "bureau_balance.shape"
   ]
  },
  {
   "cell_type": "code",
   "execution_count": 53,
   "metadata": {
    "ExecuteTime": {
     "end_time": "2021-05-02T14:33:00.638695Z",
     "start_time": "2021-05-02T14:33:00.630515Z"
    }
   },
   "outputs": [
    {
     "data": {
      "text/plain": [
       "False"
      ]
     },
     "execution_count": 53,
     "metadata": {},
     "output_type": "execute_result"
    }
   ],
   "source": [
    "356255 > 1766872"
   ]
  },
  {
   "cell_type": "code",
   "execution_count": 35,
   "metadata": {
    "ExecuteTime": {
     "end_time": "2021-05-02T13:48:48.397438Z",
     "start_time": "2021-05-02T13:48:48.316925Z"
    }
   },
   "outputs": [
    {
     "data": {
      "text/html": [
       "<div>\n",
       "<style scoped>\n",
       "    .dataframe tbody tr th:only-of-type {\n",
       "        vertical-align: middle;\n",
       "    }\n",
       "\n",
       "    .dataframe tbody tr th {\n",
       "        vertical-align: top;\n",
       "    }\n",
       "\n",
       "    .dataframe thead th {\n",
       "        text-align: right;\n",
       "    }\n",
       "</style>\n",
       "<table border=\"1\" class=\"dataframe\">\n",
       "  <thead>\n",
       "    <tr style=\"text-align: right;\">\n",
       "      <th></th>\n",
       "      <th>AMT_CREDIT_DEBT_RATIO</th>\n",
       "      <th>CREDIT_DAY_OVERDUE</th>\n",
       "      <th>DPD_COUNTS</th>\n",
       "    </tr>\n",
       "    <tr>\n",
       "      <th>SK_ID_CURR</th>\n",
       "      <th></th>\n",
       "      <th></th>\n",
       "      <th></th>\n",
       "    </tr>\n",
       "  </thead>\n",
       "  <tbody>\n",
       "    <tr>\n",
       "      <th>176066.0</th>\n",
       "      <td>0.518866</td>\n",
       "      <td>20.0</td>\n",
       "      <td>NaN</td>\n",
       "    </tr>\n",
       "    <tr>\n",
       "      <th>287908.0</th>\n",
       "      <td>0.740034</td>\n",
       "      <td>319.0</td>\n",
       "      <td>NaN</td>\n",
       "    </tr>\n",
       "    <tr>\n",
       "      <th>449409.0</th>\n",
       "      <td>0.000000</td>\n",
       "      <td>2187.0</td>\n",
       "      <td>45.0</td>\n",
       "    </tr>\n",
       "    <tr>\n",
       "      <th>226496.0</th>\n",
       "      <td>0.000000</td>\n",
       "      <td>8.0</td>\n",
       "      <td>2.0</td>\n",
       "    </tr>\n",
       "    <tr>\n",
       "      <th>402077.0</th>\n",
       "      <td>0.726311</td>\n",
       "      <td>22.0</td>\n",
       "      <td>3.0</td>\n",
       "    </tr>\n",
       "    <tr>\n",
       "      <th>...</th>\n",
       "      <td>...</td>\n",
       "      <td>...</td>\n",
       "      <td>...</td>\n",
       "    </tr>\n",
       "    <tr>\n",
       "      <th>339321.0</th>\n",
       "      <td>0.708440</td>\n",
       "      <td>14.0</td>\n",
       "      <td>NaN</td>\n",
       "    </tr>\n",
       "    <tr>\n",
       "      <th>221708.0</th>\n",
       "      <td>0.012750</td>\n",
       "      <td>2654.0</td>\n",
       "      <td>NaN</td>\n",
       "    </tr>\n",
       "    <tr>\n",
       "      <th>212415.0</th>\n",
       "      <td>0.901193</td>\n",
       "      <td>8.0</td>\n",
       "      <td>0.0</td>\n",
       "    </tr>\n",
       "    <tr>\n",
       "      <th>322455.0</th>\n",
       "      <td>0.719905</td>\n",
       "      <td>37.0</td>\n",
       "      <td>0.0</td>\n",
       "    </tr>\n",
       "    <tr>\n",
       "      <th>425613.0</th>\n",
       "      <td>0.008655</td>\n",
       "      <td>1931.0</td>\n",
       "      <td>NaN</td>\n",
       "    </tr>\n",
       "  </tbody>\n",
       "</table>\n",
       "<p>4217 rows × 3 columns</p>\n",
       "</div>"
      ],
      "text/plain": [
       "            AMT_CREDIT_DEBT_RATIO  CREDIT_DAY_OVERDUE  DPD_COUNTS\n",
       "SK_ID_CURR                                                       \n",
       "176066.0                 0.518866                20.0         NaN\n",
       "287908.0                 0.740034               319.0         NaN\n",
       "449409.0                 0.000000              2187.0        45.0\n",
       "226496.0                 0.000000                 8.0         2.0\n",
       "402077.0                 0.726311                22.0         3.0\n",
       "...                           ...                 ...         ...\n",
       "339321.0                 0.708440                14.0         NaN\n",
       "221708.0                 0.012750              2654.0         NaN\n",
       "212415.0                 0.901193                 8.0         0.0\n",
       "322455.0                 0.719905                37.0         0.0\n",
       "425613.0                 0.008655              1931.0         NaN\n",
       "\n",
       "[4217 rows x 3 columns]"
      ]
     },
     "execution_count": 35,
     "metadata": {},
     "output_type": "execute_result"
    }
   ],
   "source": [
    "bb[bb['CREDIT_DAY_OVERDUE'] > 0]"
   ]
  },
  {
   "cell_type": "code",
   "execution_count": 15,
   "metadata": {
    "ExecuteTime": {
     "end_time": "2021-05-02T12:21:13.853564Z",
     "start_time": "2021-05-02T12:21:13.713095Z"
    }
   },
   "outputs": [
    {
     "data": {
      "text/plain": [
       "0         0.161787\n",
       "1         0.466757\n",
       "2         0.642739\n",
       "3         0.650442\n",
       "4         0.322738\n",
       "            ...   \n",
       "307506    0.413601\n",
       "307507    0.115992\n",
       "307508    0.499536\n",
       "307509    0.587593\n",
       "307510    0.518984\n",
       "Length: 307511, dtype: float64"
      ]
     },
     "execution_count": 15,
     "metadata": {},
     "output_type": "execute_result"
    }
   ],
   "source": [
    "application_train[['EXT_SOURCE_1', 'EXT_SOURCE_2', 'EXT_SOURCE_3']].mean(axis = 1)"
   ]
  },
  {
   "cell_type": "code",
   "execution_count": null,
   "metadata": {},
   "outputs": [],
   "source": []
  },
  {
   "cell_type": "code",
   "execution_count": null,
   "metadata": {},
   "outputs": [],
   "source": []
  },
  {
   "cell_type": "code",
   "execution_count": null,
   "metadata": {},
   "outputs": [],
   "source": []
  },
  {
   "cell_type": "code",
   "execution_count": null,
   "metadata": {},
   "outputs": [],
   "source": []
  },
  {
   "cell_type": "code",
   "execution_count": 2,
   "metadata": {
    "ExecuteTime": {
     "end_time": "2021-04-26T04:19:29.553321Z",
     "start_time": "2021-04-26T04:19:20.925433Z"
    }
   },
   "outputs": [],
   "source": [
    "application_train = pd.read_csv('home-credit-default-risk/application_train.csv')\n",
    "application_test = pd.read_csv('home-credit-default-risk/application_test.csv')"
   ]
  },
  {
   "cell_type": "code",
   "execution_count": 3,
   "metadata": {
    "ExecuteTime": {
     "end_time": "2021-04-26T04:24:05.463264Z",
     "start_time": "2021-04-26T04:24:02.010150Z"
    }
   },
   "outputs": [],
   "source": [
    "from sklearn.model_selection import train_test_split"
   ]
  },
  {
   "cell_type": "code",
   "execution_count": 5,
   "metadata": {
    "ExecuteTime": {
     "end_time": "2021-04-26T04:25:22.221018Z",
     "start_time": "2021-04-26T04:25:20.578028Z"
    }
   },
   "outputs": [
    {
     "name": "stdout",
     "output_type": "stream",
     "text": [
      "(246008, 121) (61503, 121) (246008,) (61503,)\n"
     ]
    }
   ],
   "source": [
    "X, y = application_train.drop('TARGET', axis=1), application_train['TARGET']\n",
    "X_train, X_val, y_train, y_val = train_test_split(X, y, \n",
    "                                                  test_size=0.2, \n",
    "                                                  random_state=42,\n",
    "                                                  stratify = y) \n",
    "print(X_train.shape, X_val.shape, y_train.shape, y_val.shape)"
   ]
  },
  {
   "cell_type": "code",
   "execution_count": 8,
   "metadata": {
    "ExecuteTime": {
     "end_time": "2021-04-26T04:27:05.737542Z",
     "start_time": "2021-04-26T04:27:05.723476Z"
    }
   },
   "outputs": [
    {
     "data": {
      "text/plain": [
       "0    226148\n",
       "1     19860\n",
       "Name: TARGET, dtype: int64"
      ]
     },
     "execution_count": 8,
     "metadata": {},
     "output_type": "execute_result"
    }
   ],
   "source": [
    "y_train.value_counts()"
   ]
  },
  {
   "cell_type": "code",
   "execution_count": 9,
   "metadata": {
    "ExecuteTime": {
     "end_time": "2021-04-26T04:27:40.294474Z",
     "start_time": "2021-04-26T04:27:40.284525Z"
    }
   },
   "outputs": [
    {
     "data": {
      "text/plain": [
       "0.9192709180189262"
      ]
     },
     "execution_count": 9,
     "metadata": {},
     "output_type": "execute_result"
    }
   ],
   "source": [
    "226148/(226148+19860)"
   ]
  },
  {
   "cell_type": "code",
   "execution_count": 14,
   "metadata": {
    "ExecuteTime": {
     "end_time": "2021-04-26T04:39:34.746431Z",
     "start_time": "2021-04-26T04:39:34.438482Z"
    }
   },
   "outputs": [],
   "source": [
    "categorical_features = list(application_train.select_dtypes(include=object))\n",
    "numerical_features = list(application_train.select_dtypes(include=float))\n",
    "discreate_features = list(application_train.select_dtypes(include=int))"
   ]
  },
  {
   "cell_type": "code",
   "execution_count": 11,
   "metadata": {
    "ExecuteTime": {
     "end_time": "2021-04-26T04:38:11.053977Z",
     "start_time": "2021-04-26T04:38:11.044962Z"
    }
   },
   "outputs": [
    {
     "data": {
      "text/plain": [
       "['NAME_CONTRACT_TYPE',\n",
       " 'CODE_GENDER',\n",
       " 'FLAG_OWN_CAR',\n",
       " 'FLAG_OWN_REALTY',\n",
       " 'NAME_TYPE_SUITE',\n",
       " 'NAME_INCOME_TYPE',\n",
       " 'NAME_EDUCATION_TYPE',\n",
       " 'NAME_FAMILY_STATUS',\n",
       " 'NAME_HOUSING_TYPE',\n",
       " 'OCCUPATION_TYPE',\n",
       " 'WEEKDAY_APPR_PROCESS_START',\n",
       " 'ORGANIZATION_TYPE',\n",
       " 'FONDKAPREMONT_MODE',\n",
       " 'HOUSETYPE_MODE',\n",
       " 'WALLSMATERIAL_MODE',\n",
       " 'EMERGENCYSTATE_MODE']"
      ]
     },
     "execution_count": 11,
     "metadata": {},
     "output_type": "execute_result"
    }
   ],
   "source": [
    "categorical_features"
   ]
  },
  {
   "cell_type": "code",
   "execution_count": 12,
   "metadata": {
    "ExecuteTime": {
     "end_time": "2021-04-26T04:38:38.822295Z",
     "start_time": "2021-04-26T04:38:38.798605Z"
    }
   },
   "outputs": [
    {
     "data": {
      "text/plain": [
       "['AMT_INCOME_TOTAL',\n",
       " 'AMT_CREDIT',\n",
       " 'AMT_ANNUITY',\n",
       " 'AMT_GOODS_PRICE',\n",
       " 'REGION_POPULATION_RELATIVE',\n",
       " 'DAYS_REGISTRATION',\n",
       " 'OWN_CAR_AGE',\n",
       " 'CNT_FAM_MEMBERS',\n",
       " 'EXT_SOURCE_1',\n",
       " 'EXT_SOURCE_2',\n",
       " 'EXT_SOURCE_3',\n",
       " 'APARTMENTS_AVG',\n",
       " 'BASEMENTAREA_AVG',\n",
       " 'YEARS_BEGINEXPLUATATION_AVG',\n",
       " 'YEARS_BUILD_AVG',\n",
       " 'COMMONAREA_AVG',\n",
       " 'ELEVATORS_AVG',\n",
       " 'ENTRANCES_AVG',\n",
       " 'FLOORSMAX_AVG',\n",
       " 'FLOORSMIN_AVG',\n",
       " 'LANDAREA_AVG',\n",
       " 'LIVINGAPARTMENTS_AVG',\n",
       " 'LIVINGAREA_AVG',\n",
       " 'NONLIVINGAPARTMENTS_AVG',\n",
       " 'NONLIVINGAREA_AVG',\n",
       " 'APARTMENTS_MODE',\n",
       " 'BASEMENTAREA_MODE',\n",
       " 'YEARS_BEGINEXPLUATATION_MODE',\n",
       " 'YEARS_BUILD_MODE',\n",
       " 'COMMONAREA_MODE',\n",
       " 'ELEVATORS_MODE',\n",
       " 'ENTRANCES_MODE',\n",
       " 'FLOORSMAX_MODE',\n",
       " 'FLOORSMIN_MODE',\n",
       " 'LANDAREA_MODE',\n",
       " 'LIVINGAPARTMENTS_MODE',\n",
       " 'LIVINGAREA_MODE',\n",
       " 'NONLIVINGAPARTMENTS_MODE',\n",
       " 'NONLIVINGAREA_MODE',\n",
       " 'APARTMENTS_MEDI',\n",
       " 'BASEMENTAREA_MEDI',\n",
       " 'YEARS_BEGINEXPLUATATION_MEDI',\n",
       " 'YEARS_BUILD_MEDI',\n",
       " 'COMMONAREA_MEDI',\n",
       " 'ELEVATORS_MEDI',\n",
       " 'ENTRANCES_MEDI',\n",
       " 'FLOORSMAX_MEDI',\n",
       " 'FLOORSMIN_MEDI',\n",
       " 'LANDAREA_MEDI',\n",
       " 'LIVINGAPARTMENTS_MEDI',\n",
       " 'LIVINGAREA_MEDI',\n",
       " 'NONLIVINGAPARTMENTS_MEDI',\n",
       " 'NONLIVINGAREA_MEDI',\n",
       " 'TOTALAREA_MODE',\n",
       " 'OBS_30_CNT_SOCIAL_CIRCLE',\n",
       " 'DEF_30_CNT_SOCIAL_CIRCLE',\n",
       " 'OBS_60_CNT_SOCIAL_CIRCLE',\n",
       " 'DEF_60_CNT_SOCIAL_CIRCLE',\n",
       " 'DAYS_LAST_PHONE_CHANGE',\n",
       " 'AMT_REQ_CREDIT_BUREAU_HOUR',\n",
       " 'AMT_REQ_CREDIT_BUREAU_DAY',\n",
       " 'AMT_REQ_CREDIT_BUREAU_WEEK',\n",
       " 'AMT_REQ_CREDIT_BUREAU_MON',\n",
       " 'AMT_REQ_CREDIT_BUREAU_QRT',\n",
       " 'AMT_REQ_CREDIT_BUREAU_YEAR']"
      ]
     },
     "execution_count": 12,
     "metadata": {},
     "output_type": "execute_result"
    }
   ],
   "source": [
    "numerical_features"
   ]
  },
  {
   "cell_type": "code",
   "execution_count": 15,
   "metadata": {
    "ExecuteTime": {
     "end_time": "2021-04-26T04:39:38.746674Z",
     "start_time": "2021-04-26T04:39:38.737483Z"
    }
   },
   "outputs": [
    {
     "data": {
      "text/plain": [
       "['SK_ID_CURR',\n",
       " 'TARGET',\n",
       " 'CNT_CHILDREN',\n",
       " 'DAYS_BIRTH',\n",
       " 'DAYS_EMPLOYED',\n",
       " 'DAYS_ID_PUBLISH',\n",
       " 'FLAG_MOBIL',\n",
       " 'FLAG_EMP_PHONE',\n",
       " 'FLAG_WORK_PHONE',\n",
       " 'FLAG_CONT_MOBILE',\n",
       " 'FLAG_PHONE',\n",
       " 'FLAG_EMAIL',\n",
       " 'REGION_RATING_CLIENT',\n",
       " 'REGION_RATING_CLIENT_W_CITY',\n",
       " 'HOUR_APPR_PROCESS_START',\n",
       " 'REG_REGION_NOT_LIVE_REGION',\n",
       " 'REG_REGION_NOT_WORK_REGION',\n",
       " 'LIVE_REGION_NOT_WORK_REGION',\n",
       " 'REG_CITY_NOT_LIVE_CITY',\n",
       " 'REG_CITY_NOT_WORK_CITY',\n",
       " 'LIVE_CITY_NOT_WORK_CITY',\n",
       " 'FLAG_DOCUMENT_2',\n",
       " 'FLAG_DOCUMENT_3',\n",
       " 'FLAG_DOCUMENT_4',\n",
       " 'FLAG_DOCUMENT_5',\n",
       " 'FLAG_DOCUMENT_6',\n",
       " 'FLAG_DOCUMENT_7',\n",
       " 'FLAG_DOCUMENT_8',\n",
       " 'FLAG_DOCUMENT_9',\n",
       " 'FLAG_DOCUMENT_10',\n",
       " 'FLAG_DOCUMENT_11',\n",
       " 'FLAG_DOCUMENT_12',\n",
       " 'FLAG_DOCUMENT_13',\n",
       " 'FLAG_DOCUMENT_14',\n",
       " 'FLAG_DOCUMENT_15',\n",
       " 'FLAG_DOCUMENT_16',\n",
       " 'FLAG_DOCUMENT_17',\n",
       " 'FLAG_DOCUMENT_18',\n",
       " 'FLAG_DOCUMENT_19',\n",
       " 'FLAG_DOCUMENT_20',\n",
       " 'FLAG_DOCUMENT_21']"
      ]
     },
     "execution_count": 15,
     "metadata": {},
     "output_type": "execute_result"
    }
   ],
   "source": [
    "discreate_features"
   ]
  },
  {
   "cell_type": "code",
   "execution_count": 16,
   "metadata": {
    "ExecuteTime": {
     "end_time": "2021-04-26T05:10:54.703975Z",
     "start_time": "2021-04-26T05:10:54.696398Z"
    }
   },
   "outputs": [
    {
     "data": {
      "text/plain": [
       "(307511, 122)"
      ]
     },
     "execution_count": 16,
     "metadata": {},
     "output_type": "execute_result"
    }
   ],
   "source": [
    "application_train.shape"
   ]
  },
  {
   "cell_type": "code",
   "execution_count": 18,
   "metadata": {
    "ExecuteTime": {
     "end_time": "2021-04-26T05:12:55.652053Z",
     "start_time": "2021-04-26T05:12:55.271000Z"
    }
   },
   "outputs": [],
   "source": [
    "NM = application_train.dropna()"
   ]
  },
  {
   "cell_type": "code",
   "execution_count": 19,
   "metadata": {
    "ExecuteTime": {
     "end_time": "2021-04-26T05:13:15.075394Z",
     "start_time": "2021-04-26T05:13:15.066128Z"
    }
   },
   "outputs": [
    {
     "data": {
      "text/plain": [
       "0    8076\n",
       "1     526\n",
       "Name: TARGET, dtype: int64"
      ]
     },
     "execution_count": 19,
     "metadata": {},
     "output_type": "execute_result"
    }
   ],
   "source": [
    "NM['TARGET'].value_counts()"
   ]
  },
  {
   "cell_type": "code",
   "execution_count": 20,
   "metadata": {
    "ExecuteTime": {
     "end_time": "2021-04-26T05:13:44.102672Z",
     "start_time": "2021-04-26T05:13:44.096892Z"
    }
   },
   "outputs": [
    {
     "data": {
      "text/plain": [
       "0.06114857009997675"
      ]
     },
     "execution_count": 20,
     "metadata": {},
     "output_type": "execute_result"
    }
   ],
   "source": [
    "526/(8076+526)"
   ]
  },
  {
   "cell_type": "code",
   "execution_count": 21,
   "metadata": {
    "ExecuteTime": {
     "end_time": "2021-04-26T05:15:25.844525Z",
     "start_time": "2021-04-26T05:15:25.157318Z"
    }
   },
   "outputs": [
    {
     "data": {
      "text/plain": [
       "SK_ID_CURR                       0\n",
       "NAME_CONTRACT_TYPE               0\n",
       "CODE_GENDER                      0\n",
       "FLAG_OWN_CAR                     0\n",
       "FLAG_OWN_REALTY                  0\n",
       "                              ... \n",
       "AMT_REQ_CREDIT_BUREAU_DAY     6049\n",
       "AMT_REQ_CREDIT_BUREAU_WEEK    6049\n",
       "AMT_REQ_CREDIT_BUREAU_MON     6049\n",
       "AMT_REQ_CREDIT_BUREAU_QRT     6049\n",
       "AMT_REQ_CREDIT_BUREAU_YEAR    6049\n",
       "Length: 121, dtype: int64"
      ]
     },
     "execution_count": 21,
     "metadata": {},
     "output_type": "execute_result"
    }
   ],
   "source": [
    "application_test.isna().sum()"
   ]
  },
  {
   "cell_type": "code",
   "execution_count": 22,
   "metadata": {
    "ExecuteTime": {
     "end_time": "2021-04-26T05:16:28.947048Z",
     "start_time": "2021-04-26T05:16:28.939525Z"
    }
   },
   "outputs": [
    {
     "data": {
      "text/plain": [
       "(48744, 121)"
      ]
     },
     "execution_count": 22,
     "metadata": {},
     "output_type": "execute_result"
    }
   ],
   "source": [
    "application_test.shape"
   ]
  },
  {
   "cell_type": "code",
   "execution_count": 23,
   "metadata": {
    "ExecuteTime": {
     "end_time": "2021-04-26T12:12:11.166098Z",
     "start_time": "2021-04-26T12:12:01.096480Z"
    }
   },
   "outputs": [
    {
     "name": "stdout",
     "output_type": "stream",
     "text": [
      "train shape: (307511, 246)\n",
      "test shape: (48744, 242)\n"
     ]
    }
   ],
   "source": [
    "ohe_train = pd.get_dummies(application_train)\n",
    "ohe_test = pd.get_dummies(application_test)\n",
    "\n",
    "print('train shape:', ohe_train.shape) \n",
    "print('test shape:', ohe_test.shape) "
   ]
  },
  {
   "cell_type": "code",
   "execution_count": 24,
   "metadata": {
    "ExecuteTime": {
     "end_time": "2021-04-26T12:14:14.043292Z",
     "start_time": "2021-04-26T12:14:13.918372Z"
    }
   },
   "outputs": [
    {
     "name": "stdout",
     "output_type": "stream",
     "text": [
      "{'NAME_INCOME_TYPE_Maternity leave', 'CODE_GENDER_XNA', 'NAME_FAMILY_STATUS_Unknown', 'TARGET'}\n"
     ]
    }
   ],
   "source": [
    "ohe_train_cols = set(ohe_train.columns)\n",
    "ohe_test_cols = set(ohe_test.columns)\n",
    "\n",
    "print(ohe_train_cols.difference(ohe_test_cols))"
   ]
  },
  {
   "cell_type": "code",
   "execution_count": 25,
   "metadata": {
    "ExecuteTime": {
     "end_time": "2021-04-26T12:18:47.063594Z",
     "start_time": "2021-04-26T12:18:44.679224Z"
    }
   },
   "outputs": [
    {
     "name": "stdout",
     "output_type": "stream",
     "text": [
      "train shape: (307511, 242)\n",
      "test shape: (48744, 242)\n"
     ]
    }
   ],
   "source": [
    "y = ohe_train['TARGET']\n",
    "## align dataframes \n",
    "X, X_test = ohe_train.align(ohe_test, join='inner', axis=1)\n",
    "print('train shape:', X.shape)\n",
    "print('test shape:', X_test.shape)"
   ]
  },
  {
   "cell_type": "code",
   "execution_count": 26,
   "metadata": {
    "ExecuteTime": {
     "end_time": "2021-04-26T12:34:21.666807Z",
     "start_time": "2021-04-26T12:34:19.193706Z"
    }
   },
   "outputs": [],
   "source": [
    "# basic preproccessing based on eda part 1\n",
    "\n",
    "## DAYS_EMPLOYED: train\n",
    "X['DAYS_EMPLOYED'].replace(365243, np.nan, inplace=True)\n",
    "X['DAYS_EMPLOYED'] =X['DAYS_EMPLOYED'].apply(lambda x: abs(x))\n",
    "\n",
    "X['BIRTH_IN_YEARS'] = X['DAYS_BIRTH'].apply(lambda x: abs(x)/365)\n",
    "\n",
    "# DAYS_EMPLOYED: test\n",
    "X_test['DAYS_EMPLOYED'].replace(365243, np.nan, inplace=True)\n",
    "X_test['DAYS_EMPLOYED'] =X_test['DAYS_EMPLOYED'].apply(lambda x: abs(x))\n",
    "\n",
    "X_test['BIRTH_IN_YEARS'] = X_test['DAYS_BIRTH'].apply(lambda x: abs(x)/365)\n"
   ]
  },
  {
   "cell_type": "code",
   "execution_count": 28,
   "metadata": {
    "ExecuteTime": {
     "end_time": "2021-04-26T12:44:09.019770Z",
     "start_time": "2021-04-26T12:44:00.558238Z"
    }
   },
   "outputs": [
    {
     "name": "stdout",
     "output_type": "stream",
     "text": [
      "train shape: (10746, 243)\n",
      "test shape: (2221, 243)\n"
     ]
    }
   ],
   "source": [
    "## simple - drop all na isntances \n",
    "X_simple = X.dropna()\n",
    "X_test_simple = X_test.dropna()\n",
    "print('train shape:', X_simple.shape)\n",
    "print('test shape:', X_test_simple.shape)"
   ]
  },
  {
   "cell_type": "code",
   "execution_count": 29,
   "metadata": {
    "ExecuteTime": {
     "end_time": "2021-04-26T12:45:02.188538Z",
     "start_time": "2021-04-26T12:45:00.474160Z"
    }
   },
   "outputs": [
    {
     "data": {
      "text/html": [
       "<div>\n",
       "<style scoped>\n",
       "    .dataframe tbody tr th:only-of-type {\n",
       "        vertical-align: middle;\n",
       "    }\n",
       "\n",
       "    .dataframe tbody tr th {\n",
       "        vertical-align: top;\n",
       "    }\n",
       "\n",
       "    .dataframe thead th {\n",
       "        text-align: right;\n",
       "    }\n",
       "</style>\n",
       "<table border=\"1\" class=\"dataframe\">\n",
       "  <thead>\n",
       "    <tr style=\"text-align: right;\">\n",
       "      <th></th>\n",
       "      <th>SK_ID_CURR</th>\n",
       "      <th>CNT_CHILDREN</th>\n",
       "      <th>AMT_INCOME_TOTAL</th>\n",
       "      <th>AMT_CREDIT</th>\n",
       "      <th>AMT_ANNUITY</th>\n",
       "      <th>AMT_GOODS_PRICE</th>\n",
       "      <th>REGION_POPULATION_RELATIVE</th>\n",
       "      <th>DAYS_BIRTH</th>\n",
       "      <th>DAYS_EMPLOYED</th>\n",
       "      <th>DAYS_REGISTRATION</th>\n",
       "      <th>...</th>\n",
       "      <th>WALLSMATERIAL_MODE_Block</th>\n",
       "      <th>WALLSMATERIAL_MODE_Mixed</th>\n",
       "      <th>WALLSMATERIAL_MODE_Monolithic</th>\n",
       "      <th>WALLSMATERIAL_MODE_Others</th>\n",
       "      <th>WALLSMATERIAL_MODE_Panel</th>\n",
       "      <th>WALLSMATERIAL_MODE_Stone, brick</th>\n",
       "      <th>WALLSMATERIAL_MODE_Wooden</th>\n",
       "      <th>EMERGENCYSTATE_MODE_No</th>\n",
       "      <th>EMERGENCYSTATE_MODE_Yes</th>\n",
       "      <th>BIRTH_IN_YEARS</th>\n",
       "    </tr>\n",
       "  </thead>\n",
       "  <tbody>\n",
       "    <tr>\n",
       "      <th>71</th>\n",
       "      <td>100083</td>\n",
       "      <td>0</td>\n",
       "      <td>103500.0</td>\n",
       "      <td>573628.5</td>\n",
       "      <td>24435.0</td>\n",
       "      <td>463500.0</td>\n",
       "      <td>0.009657</td>\n",
       "      <td>-15406</td>\n",
       "      <td>892.0</td>\n",
       "      <td>-341.0</td>\n",
       "      <td>...</td>\n",
       "      <td>0</td>\n",
       "      <td>0</td>\n",
       "      <td>0</td>\n",
       "      <td>0</td>\n",
       "      <td>0</td>\n",
       "      <td>1</td>\n",
       "      <td>0</td>\n",
       "      <td>1</td>\n",
       "      <td>0</td>\n",
       "      <td>42.208219</td>\n",
       "    </tr>\n",
       "    <tr>\n",
       "      <th>124</th>\n",
       "      <td>100145</td>\n",
       "      <td>1</td>\n",
       "      <td>202500.0</td>\n",
       "      <td>260725.5</td>\n",
       "      <td>16789.5</td>\n",
       "      <td>198000.0</td>\n",
       "      <td>0.018850</td>\n",
       "      <td>-16282</td>\n",
       "      <td>4375.0</td>\n",
       "      <td>-762.0</td>\n",
       "      <td>...</td>\n",
       "      <td>0</td>\n",
       "      <td>0</td>\n",
       "      <td>0</td>\n",
       "      <td>0</td>\n",
       "      <td>1</td>\n",
       "      <td>0</td>\n",
       "      <td>0</td>\n",
       "      <td>1</td>\n",
       "      <td>0</td>\n",
       "      <td>44.608219</td>\n",
       "    </tr>\n",
       "    <tr>\n",
       "      <th>152</th>\n",
       "      <td>100179</td>\n",
       "      <td>0</td>\n",
       "      <td>202500.0</td>\n",
       "      <td>675000.0</td>\n",
       "      <td>53329.5</td>\n",
       "      <td>675000.0</td>\n",
       "      <td>0.031329</td>\n",
       "      <td>-11375</td>\n",
       "      <td>2311.0</td>\n",
       "      <td>-180.0</td>\n",
       "      <td>...</td>\n",
       "      <td>0</td>\n",
       "      <td>0</td>\n",
       "      <td>1</td>\n",
       "      <td>0</td>\n",
       "      <td>0</td>\n",
       "      <td>0</td>\n",
       "      <td>0</td>\n",
       "      <td>1</td>\n",
       "      <td>0</td>\n",
       "      <td>31.164384</td>\n",
       "    </tr>\n",
       "    <tr>\n",
       "      <th>161</th>\n",
       "      <td>100190</td>\n",
       "      <td>0</td>\n",
       "      <td>162000.0</td>\n",
       "      <td>263686.5</td>\n",
       "      <td>24781.5</td>\n",
       "      <td>238500.0</td>\n",
       "      <td>0.022625</td>\n",
       "      <td>-13972</td>\n",
       "      <td>4472.0</td>\n",
       "      <td>-464.0</td>\n",
       "      <td>...</td>\n",
       "      <td>0</td>\n",
       "      <td>0</td>\n",
       "      <td>0</td>\n",
       "      <td>0</td>\n",
       "      <td>1</td>\n",
       "      <td>0</td>\n",
       "      <td>0</td>\n",
       "      <td>1</td>\n",
       "      <td>0</td>\n",
       "      <td>38.279452</td>\n",
       "    </tr>\n",
       "    <tr>\n",
       "      <th>164</th>\n",
       "      <td>100193</td>\n",
       "      <td>0</td>\n",
       "      <td>225000.0</td>\n",
       "      <td>296280.0</td>\n",
       "      <td>15124.5</td>\n",
       "      <td>225000.0</td>\n",
       "      <td>0.020246</td>\n",
       "      <td>-17879</td>\n",
       "      <td>940.0</td>\n",
       "      <td>-2294.0</td>\n",
       "      <td>...</td>\n",
       "      <td>0</td>\n",
       "      <td>0</td>\n",
       "      <td>0</td>\n",
       "      <td>0</td>\n",
       "      <td>0</td>\n",
       "      <td>1</td>\n",
       "      <td>0</td>\n",
       "      <td>1</td>\n",
       "      <td>0</td>\n",
       "      <td>48.983562</td>\n",
       "    </tr>\n",
       "  </tbody>\n",
       "</table>\n",
       "<p>5 rows × 243 columns</p>\n",
       "</div>"
      ],
      "text/plain": [
       "     SK_ID_CURR  CNT_CHILDREN  AMT_INCOME_TOTAL  AMT_CREDIT  AMT_ANNUITY  \\\n",
       "71       100083             0          103500.0    573628.5      24435.0   \n",
       "124      100145             1          202500.0    260725.5      16789.5   \n",
       "152      100179             0          202500.0    675000.0      53329.5   \n",
       "161      100190             0          162000.0    263686.5      24781.5   \n",
       "164      100193             0          225000.0    296280.0      15124.5   \n",
       "\n",
       "     AMT_GOODS_PRICE  REGION_POPULATION_RELATIVE  DAYS_BIRTH  DAYS_EMPLOYED  \\\n",
       "71          463500.0                    0.009657      -15406          892.0   \n",
       "124         198000.0                    0.018850      -16282         4375.0   \n",
       "152         675000.0                    0.031329      -11375         2311.0   \n",
       "161         238500.0                    0.022625      -13972         4472.0   \n",
       "164         225000.0                    0.020246      -17879          940.0   \n",
       "\n",
       "     DAYS_REGISTRATION  ...  WALLSMATERIAL_MODE_Block  \\\n",
       "71              -341.0  ...                         0   \n",
       "124             -762.0  ...                         0   \n",
       "152             -180.0  ...                         0   \n",
       "161             -464.0  ...                         0   \n",
       "164            -2294.0  ...                         0   \n",
       "\n",
       "     WALLSMATERIAL_MODE_Mixed  WALLSMATERIAL_MODE_Monolithic  \\\n",
       "71                          0                              0   \n",
       "124                         0                              0   \n",
       "152                         0                              1   \n",
       "161                         0                              0   \n",
       "164                         0                              0   \n",
       "\n",
       "     WALLSMATERIAL_MODE_Others  WALLSMATERIAL_MODE_Panel  \\\n",
       "71                           0                         0   \n",
       "124                          0                         1   \n",
       "152                          0                         0   \n",
       "161                          0                         1   \n",
       "164                          0                         0   \n",
       "\n",
       "     WALLSMATERIAL_MODE_Stone, brick  WALLSMATERIAL_MODE_Wooden  \\\n",
       "71                                 1                          0   \n",
       "124                                0                          0   \n",
       "152                                0                          0   \n",
       "161                                0                          0   \n",
       "164                                1                          0   \n",
       "\n",
       "     EMERGENCYSTATE_MODE_No  EMERGENCYSTATE_MODE_Yes  BIRTH_IN_YEARS  \n",
       "71                        1                        0       42.208219  \n",
       "124                       1                        0       44.608219  \n",
       "152                       1                        0       31.164384  \n",
       "161                       1                        0       38.279452  \n",
       "164                       1                        0       48.983562  \n",
       "\n",
       "[5 rows x 243 columns]"
      ]
     },
     "execution_count": 29,
     "metadata": {},
     "output_type": "execute_result"
    }
   ],
   "source": [
    "X_simple.head()"
   ]
  },
  {
   "cell_type": "code",
   "execution_count": 35,
   "metadata": {
    "ExecuteTime": {
     "end_time": "2021-04-26T12:48:25.730874Z",
     "start_time": "2021-04-26T12:48:25.524623Z"
    }
   },
   "outputs": [
    {
     "data": {
      "text/plain": [
       "(10746,)"
      ]
     },
     "execution_count": 35,
     "metadata": {},
     "output_type": "execute_result"
    }
   ],
   "source": [
    "y_simple = y[list(X_simple.index)]\n",
    "y_simple.shape"
   ]
  },
  {
   "cell_type": "code",
   "execution_count": 47,
   "metadata": {
    "ExecuteTime": {
     "end_time": "2021-04-26T13:10:06.942362Z",
     "start_time": "2021-04-26T13:10:06.936004Z"
    }
   },
   "outputs": [],
   "source": [
    "from sklearn.model_selection import train_test_split\n",
    "from sklearn.model_selection import cross_val_score \n",
    "\n",
    "from sklearn.linear_model import LogisticRegression\n",
    "from sklearn.dummy import DummyClassifier\n",
    "from sklearn.ensemble import RandomForestClassifier\n",
    "\n",
    "from sklearn.metrics import roc_auc_score"
   ]
  },
  {
   "cell_type": "code",
   "execution_count": 38,
   "metadata": {
    "ExecuteTime": {
     "end_time": "2021-04-26T13:02:49.093950Z",
     "start_time": "2021-04-26T13:02:48.967120Z"
    }
   },
   "outputs": [
    {
     "name": "stderr",
     "output_type": "stream",
     "text": [
      "/Users/eyobmanhardt/opt/anaconda3/lib/python3.7/site-packages/pandas/core/frame.py:4174: SettingWithCopyWarning: \n",
      "A value is trying to be set on a copy of a slice from a DataFrame\n",
      "\n",
      "See the caveats in the documentation: https://pandas.pydata.org/pandas-docs/stable/user_guide/indexing.html#returning-a-view-versus-a-copy\n",
      "  errors=errors,\n"
     ]
    }
   ],
   "source": [
    "Test_simple_ids = X_test_simple ['SK_ID_CURR']\n",
    "X_simple.drop(columns= ['SK_ID_CURR'], inplace=True)\n",
    "X_test_simple.drop(columns= ['SK_ID_CURR'], inplace=True)\n"
   ]
  },
  {
   "cell_type": "code",
   "execution_count": 42,
   "metadata": {
    "ExecuteTime": {
     "end_time": "2021-04-26T13:06:04.665554Z",
     "start_time": "2021-04-26T13:06:04.627065Z"
    }
   },
   "outputs": [],
   "source": [
    "X_train, X_val, y_train, y_val = train_test_split(X_simple, \n",
    "                                                  y_simple,\n",
    "                                                  test_size=0.2,\n",
    "                                                  random_state=42,\n",
    "                                                  stratify=y_simple)"
   ]
  },
  {
   "cell_type": "code",
   "execution_count": 43,
   "metadata": {
    "ExecuteTime": {
     "end_time": "2021-04-26T13:06:06.224630Z",
     "start_time": "2021-04-26T13:06:06.211066Z"
    }
   },
   "outputs": [
    {
     "data": {
      "text/plain": [
       "0    8070\n",
       "1     526\n",
       "Name: TARGET, dtype: int64"
      ]
     },
     "execution_count": 43,
     "metadata": {},
     "output_type": "execute_result"
    }
   ],
   "source": [
    "y_train.value_counts()"
   ]
  },
  {
   "cell_type": "code",
   "execution_count": 44,
   "metadata": {
    "ExecuteTime": {
     "end_time": "2021-04-26T13:06:28.098856Z",
     "start_time": "2021-04-26T13:06:28.088038Z"
    }
   },
   "outputs": [
    {
     "data": {
      "text/plain": [
       "0.9388087482550024"
      ]
     },
     "execution_count": 44,
     "metadata": {},
     "output_type": "execute_result"
    }
   ],
   "source": [
    "8070/(8070+ 526)"
   ]
  },
  {
   "cell_type": "code",
   "execution_count": 45,
   "metadata": {
    "ExecuteTime": {
     "end_time": "2021-04-26T13:06:46.166869Z",
     "start_time": "2021-04-26T13:06:46.156335Z"
    }
   },
   "outputs": [
    {
     "data": {
      "text/plain": [
       "0    10089\n",
       "1      657\n",
       "Name: TARGET, dtype: int64"
      ]
     },
     "execution_count": 45,
     "metadata": {},
     "output_type": "execute_result"
    }
   ],
   "source": [
    "y_simple.value_counts()"
   ]
  },
  {
   "cell_type": "code",
   "execution_count": 46,
   "metadata": {
    "ExecuteTime": {
     "end_time": "2021-04-26T13:07:04.310227Z",
     "start_time": "2021-04-26T13:07:04.302532Z"
    }
   },
   "outputs": [
    {
     "data": {
      "text/plain": [
       "0.9388609715242882"
      ]
     },
     "execution_count": 46,
     "metadata": {},
     "output_type": "execute_result"
    }
   ],
   "source": [
    "10089/(10089+657)"
   ]
  },
  {
   "cell_type": "code",
   "execution_count": 54,
   "metadata": {
    "ExecuteTime": {
     "end_time": "2021-04-26T13:13:15.598268Z",
     "start_time": "2021-04-26T13:13:15.593601Z"
    }
   },
   "outputs": [],
   "source": [
    "dummy_clf = DummyClassifier(strategy=\"most_frequent\")\n",
    "dummy_clf.fit(X_train, y_train)"
   ]
  },
  {
   "cell_type": "code",
   "execution_count": 55,
   "metadata": {
    "ExecuteTime": {
     "end_time": "2021-04-26T13:13:18.544790Z",
     "start_time": "2021-04-26T13:13:18.445965Z"
    }
   },
   "outputs": [
    {
     "data": {
      "text/plain": [
       "0.9388087990584033"
      ]
     },
     "execution_count": 55,
     "metadata": {},
     "output_type": "execute_result"
    }
   ],
   "source": [
    "cross_val_score(dummy_clf, X_train, y_train, cv =5, scoring='accuracy').mean()"
   ]
  },
  {
   "cell_type": "code",
   "execution_count": 56,
   "metadata": {
    "ExecuteTime": {
     "end_time": "2021-04-26T13:14:27.537667Z",
     "start_time": "2021-04-26T13:14:27.522738Z"
    }
   },
   "outputs": [
    {
     "data": {
      "text/plain": [
       "DummyClassifier(constant=None, random_state=None, strategy='most_frequent')"
      ]
     },
     "execution_count": 56,
     "metadata": {},
     "output_type": "execute_result"
    }
   ],
   "source": [
    "dummy_clf.fit(X_train, y_train)"
   ]
  },
  {
   "cell_type": "code",
   "execution_count": 57,
   "metadata": {
    "ExecuteTime": {
     "end_time": "2021-04-26T13:14:56.670243Z",
     "start_time": "2021-04-26T13:14:56.664258Z"
    }
   },
   "outputs": [],
   "source": [
    "y1_test = dummy_clf.predict(X_test)"
   ]
  },
  {
   "cell_type": "code",
   "execution_count": 58,
   "metadata": {
    "ExecuteTime": {
     "end_time": "2021-04-26T13:21:57.510203Z",
     "start_time": "2021-04-26T13:21:57.500900Z"
    }
   },
   "outputs": [
    {
     "data": {
      "text/plain": [
       "0.9390697674418604"
      ]
     },
     "execution_count": 58,
     "metadata": {},
     "output_type": "execute_result"
    }
   ],
   "source": [
    "dummy_clf.score(X_val, y_val)"
   ]
  },
  {
   "cell_type": "code",
   "execution_count": 60,
   "metadata": {
    "ExecuteTime": {
     "end_time": "2021-04-26T13:26:32.973191Z",
     "start_time": "2021-04-26T13:26:30.792903Z"
    }
   },
   "outputs": [
    {
     "data": {
      "text/plain": [
       "RandomForestClassifier(bootstrap=True, ccp_alpha=0.0, class_weight=None,\n",
       "                       criterion='gini', max_depth=None, max_features='auto',\n",
       "                       max_leaf_nodes=None, max_samples=None,\n",
       "                       min_impurity_decrease=0.0, min_impurity_split=None,\n",
       "                       min_samples_leaf=1, min_samples_split=2,\n",
       "                       min_weight_fraction_leaf=0.0, n_estimators=100,\n",
       "                       n_jobs=-1, oob_score=False, random_state=42, verbose=0,\n",
       "                       warm_start=False)"
      ]
     },
     "execution_count": 60,
     "metadata": {},
     "output_type": "execute_result"
    }
   ],
   "source": [
    "rfc = RandomForestClassifier(random_state=42, n_jobs=-1)\n",
    "rfc.fit(X_train, y_train)"
   ]
  },
  {
   "cell_type": "code",
   "execution_count": 61,
   "metadata": {
    "ExecuteTime": {
     "end_time": "2021-04-26T13:26:44.071096Z",
     "start_time": "2021-04-26T13:26:43.947037Z"
    }
   },
   "outputs": [
    {
     "data": {
      "text/plain": [
       "array([4.29253057e-03, 1.46068888e-02, 1.51585195e-02, 1.57614673e-02,\n",
       "       1.51747765e-02, 1.30419945e-02, 1.90878442e-02, 1.96878342e-02,\n",
       "       2.32358546e-02, 1.84647631e-02, 1.59127107e-02, 0.00000000e+00,\n",
       "       0.00000000e+00, 2.74324971e-03, 2.37338350e-04, 2.92610002e-03,\n",
       "       2.24787590e-03, 5.50541029e-03, 3.42297223e-03, 3.37859418e-03,\n",
       "       1.19063678e-02, 5.55431361e-04, 1.18557122e-03, 1.60975209e-03,\n",
       "       9.20389622e-04, 2.20454886e-03, 1.95245992e-03, 3.84460781e-02,\n",
       "       3.41291831e-02, 4.07905509e-02, 1.30004859e-02, 1.26715863e-02,\n",
       "       1.20167038e-02, 1.27317273e-02, 1.53877721e-02, 4.99231176e-03,\n",
       "       8.62220866e-03, 5.30670902e-03, 6.23862267e-03, 1.47794364e-02,\n",
       "       1.28847339e-02, 1.54140830e-02, 5.81738860e-03, 8.03348271e-03,\n",
       "       1.17484160e-02, 1.35738990e-02, 1.24400408e-02, 1.21256741e-02,\n",
       "       1.37341653e-02, 4.20967065e-03, 6.90681114e-03, 5.18947235e-03,\n",
       "       6.98124620e-03, 1.47820531e-02, 1.18881889e-02, 1.44134801e-02,\n",
       "       4.79545859e-03, 7.86455725e-03, 1.28912297e-02, 1.34074025e-02,\n",
       "       1.16438153e-02, 1.15308341e-02, 1.31970816e-02, 4.73914582e-03,\n",
       "       7.87064811e-03, 5.88672158e-03, 6.81187202e-03, 1.57240655e-02,\n",
       "       1.25168560e-02, 1.52737994e-02, 5.63327793e-03, 9.11899980e-03,\n",
       "       1.35011536e-02, 7.11117408e-03, 3.37898842e-03, 7.64834363e-03,\n",
       "       2.74299674e-03, 1.51704171e-02, 0.00000000e+00, 2.44761637e-03,\n",
       "       0.00000000e+00, 5.59709421e-04, 1.77626617e-05, 4.70134377e-04,\n",
       "       2.03580114e-03, 3.98284376e-04, 0.00000000e+00, 1.54935739e-04,\n",
       "       0.00000000e+00, 2.03023431e-04, 7.75529757e-04, 4.40274760e-04,\n",
       "       1.09637297e-04, 0.00000000e+00, 1.62355180e-04, 6.17687117e-04,\n",
       "       2.56313315e-04, 0.00000000e+00, 7.76874943e-04, 1.43065898e-03,\n",
       "       2.11829643e-03, 5.33871591e-03, 5.41717934e-03, 1.06797016e-02,\n",
       "       9.46936698e-04, 9.40616186e-04, 2.44767601e-03, 2.52253668e-03,\n",
       "       0.00000000e+00, 0.00000000e+00, 2.17262437e-03, 2.03290732e-03,\n",
       "       4.47868214e-04, 1.70540132e-03, 3.29397008e-04, 8.57822517e-04,\n",
       "       4.51516300e-04, 1.84953097e-03, 2.28803168e-03, 0.00000000e+00,\n",
       "       2.20835697e-03, 0.00000000e+00, 1.10792246e-03, 0.00000000e+00,\n",
       "       0.00000000e+00, 2.46504324e-03, 0.00000000e+00, 2.40905022e-03,\n",
       "       1.50460206e-03, 6.39889871e-04, 2.58805974e-03, 2.35713594e-03,\n",
       "       2.45892384e-03, 1.71133292e-03, 1.86175657e-03, 6.58871924e-04,\n",
       "       7.03061502e-04, 1.94484652e-03, 2.04402201e-03, 7.68166869e-04,\n",
       "       3.88592465e-04, 1.89429365e-03, 1.15394741e-03, 3.27014945e-04,\n",
       "       5.75133298e-04, 1.39976371e-03, 2.71408336e-03, 3.62705927e-04,\n",
       "       1.33974214e-03, 3.76083482e-04, 3.01586270e-03, 4.00715007e-04,\n",
       "       1.88660364e-03, 7.02131115e-04, 5.95487052e-04, 5.43100066e-04,\n",
       "       1.80909424e-03, 1.39077295e-04, 1.26260867e-03, 1.05080285e-03,\n",
       "       2.93221209e-03, 2.24210217e-03, 1.69601755e-03, 1.51633711e-03,\n",
       "       1.83124359e-03, 2.28030166e-03, 2.15935847e-03, 3.94322086e-04,\n",
       "       7.36824412e-04, 3.85968446e-04, 7.72794241e-04, 1.92676715e-03,\n",
       "       3.22962705e-03, 0.00000000e+00, 1.26586722e-03, 0.00000000e+00,\n",
       "       1.86754086e-05, 3.93433294e-04, 1.03130338e-03, 0.00000000e+00,\n",
       "       1.28810175e-03, 2.51191751e-04, 0.00000000e+00, 5.63496181e-04,\n",
       "       1.36706041e-05, 0.00000000e+00, 1.91277125e-04, 9.06632848e-05,\n",
       "       3.29148459e-05, 8.77734615e-04, 0.00000000e+00, 6.80763347e-04,\n",
       "       0.00000000e+00, 5.14619281e-04, 4.33076451e-04, 5.75989486e-04,\n",
       "       0.00000000e+00, 9.22186820e-04, 8.19691263e-04, 4.44516885e-04,\n",
       "       1.48456343e-03, 2.13552037e-04, 4.71668885e-04, 7.31709865e-04,\n",
       "       0.00000000e+00, 3.39381723e-04, 5.96847146e-04, 7.60388390e-04,\n",
       "       6.60333318e-04, 2.97234518e-03, 3.25609309e-04, 1.29938133e-05,\n",
       "       0.00000000e+00, 3.17325143e-04, 9.00857714e-04, 0.00000000e+00,\n",
       "       0.00000000e+00, 2.00128117e-04, 1.19463022e-03, 0.00000000e+00,\n",
       "       6.47976632e-04, 2.09055338e-03, 1.83274954e-03, 4.85979870e-04,\n",
       "       0.00000000e+00, 1.71960949e-03, 6.99232738e-04, 1.95070949e-03,\n",
       "       1.86654593e-03, 6.18430593e-04, 8.33132902e-04, 3.61014483e-04,\n",
       "       1.51210963e-03, 1.60940565e-04, 1.00508348e-04, 7.02706202e-04,\n",
       "       2.25476753e-03, 2.69467359e-03, 7.54817593e-04, 4.68522999e-04,\n",
       "       5.96642452e-04, 1.82454834e-02])"
      ]
     },
     "execution_count": 61,
     "metadata": {},
     "output_type": "execute_result"
    }
   ],
   "source": [
    "rfc.feature_importances_"
   ]
  },
  {
   "cell_type": "code",
   "execution_count": 63,
   "metadata": {
    "ExecuteTime": {
     "end_time": "2021-04-26T13:29:53.361939Z",
     "start_time": "2021-04-26T13:29:53.356165Z"
    }
   },
   "outputs": [],
   "source": [
    "features = list(X_simple.columns)"
   ]
  },
  {
   "cell_type": "code",
   "execution_count": 64,
   "metadata": {
    "ExecuteTime": {
     "end_time": "2021-04-26T13:29:55.770189Z",
     "start_time": "2021-04-26T13:29:55.252556Z"
    }
   },
   "outputs": [
    {
     "data": {
      "text/html": [
       "<div>\n",
       "<style scoped>\n",
       "    .dataframe tbody tr th:only-of-type {\n",
       "        vertical-align: middle;\n",
       "    }\n",
       "\n",
       "    .dataframe tbody tr th {\n",
       "        vertical-align: top;\n",
       "    }\n",
       "\n",
       "    .dataframe thead th {\n",
       "        text-align: right;\n",
       "    }\n",
       "</style>\n",
       "<table border=\"1\" class=\"dataframe\">\n",
       "  <thead>\n",
       "    <tr style=\"text-align: right;\">\n",
       "      <th></th>\n",
       "      <th>feature</th>\n",
       "      <th>importance</th>\n",
       "    </tr>\n",
       "  </thead>\n",
       "  <tbody>\n",
       "    <tr>\n",
       "      <th>29</th>\n",
       "      <td>EXT_SOURCE_3</td>\n",
       "      <td>0.040791</td>\n",
       "    </tr>\n",
       "    <tr>\n",
       "      <th>27</th>\n",
       "      <td>EXT_SOURCE_1</td>\n",
       "      <td>0.038446</td>\n",
       "    </tr>\n",
       "    <tr>\n",
       "      <th>28</th>\n",
       "      <td>EXT_SOURCE_2</td>\n",
       "      <td>0.034129</td>\n",
       "    </tr>\n",
       "    <tr>\n",
       "      <th>8</th>\n",
       "      <td>DAYS_REGISTRATION</td>\n",
       "      <td>0.023236</td>\n",
       "    </tr>\n",
       "    <tr>\n",
       "      <th>7</th>\n",
       "      <td>DAYS_EMPLOYED</td>\n",
       "      <td>0.019688</td>\n",
       "    </tr>\n",
       "    <tr>\n",
       "      <th>6</th>\n",
       "      <td>DAYS_BIRTH</td>\n",
       "      <td>0.019088</td>\n",
       "    </tr>\n",
       "    <tr>\n",
       "      <th>9</th>\n",
       "      <td>DAYS_ID_PUBLISH</td>\n",
       "      <td>0.018465</td>\n",
       "    </tr>\n",
       "    <tr>\n",
       "      <th>241</th>\n",
       "      <td>BIRTH_IN_YEARS</td>\n",
       "      <td>0.018245</td>\n",
       "    </tr>\n",
       "    <tr>\n",
       "      <th>10</th>\n",
       "      <td>OWN_CAR_AGE</td>\n",
       "      <td>0.015913</td>\n",
       "    </tr>\n",
       "    <tr>\n",
       "      <th>3</th>\n",
       "      <td>AMT_ANNUITY</td>\n",
       "      <td>0.015761</td>\n",
       "    </tr>\n",
       "  </tbody>\n",
       "</table>\n",
       "</div>"
      ],
      "text/plain": [
       "               feature  importance\n",
       "29        EXT_SOURCE_3    0.040791\n",
       "27        EXT_SOURCE_1    0.038446\n",
       "28        EXT_SOURCE_2    0.034129\n",
       "8    DAYS_REGISTRATION    0.023236\n",
       "7        DAYS_EMPLOYED    0.019688\n",
       "6           DAYS_BIRTH    0.019088\n",
       "9      DAYS_ID_PUBLISH    0.018465\n",
       "241     BIRTH_IN_YEARS    0.018245\n",
       "10         OWN_CAR_AGE    0.015913\n",
       "3          AMT_ANNUITY    0.015761"
      ]
     },
     "execution_count": 64,
     "metadata": {},
     "output_type": "execute_result"
    }
   ],
   "source": [
    "fm = {'feature': features,\n",
    "    'importance': rfc.feature_importances_}\n",
    "feature_importance = pd.DataFrame(fm)\n",
    "feature_importance.sort_values(by='importance', ascending=False).head(10)"
   ]
  },
  {
   "cell_type": "code",
   "execution_count": 65,
   "metadata": {
    "ExecuteTime": {
     "end_time": "2021-04-26T13:32:56.616751Z",
     "start_time": "2021-04-26T13:32:56.377129Z"
    }
   },
   "outputs": [
    {
     "data": {
      "text/plain": [
       "array([[0.97, 0.03],\n",
       "       [0.99, 0.01],\n",
       "       [0.99, 0.01],\n",
       "       ...,\n",
       "       [0.97, 0.03],\n",
       "       [0.99, 0.01],\n",
       "       [0.98, 0.02]])"
      ]
     },
     "execution_count": 65,
     "metadata": {},
     "output_type": "execute_result"
    }
   ],
   "source": [
    "rfc.predict_proba(X_train)"
   ]
  },
  {
   "cell_type": "markdown",
   "metadata": {
    "ExecuteTime": {
     "end_time": "2021-04-26T13:49:14.980351Z",
     "start_time": "2021-04-26T13:49:13.800656Z"
    }
   },
   "source": [
    "In order to submit to kaggle - we can't drop any instances from the test set i.e the submission file needs to contain 48744 instances. "
   ]
  },
  {
   "cell_type": "code",
   "execution_count": 69,
   "metadata": {
    "ExecuteTime": {
     "end_time": "2021-04-26T14:09:04.819084Z",
     "start_time": "2021-04-26T14:08:44.323168Z"
    }
   },
   "outputs": [],
   "source": [
    "# change our approach\n",
    "from sklearn.impute import SimpleImputer\n",
    "\n",
    "imp = SimpleImputer(strategy='median')\n",
    "\n",
    "Test_ids = X_test['SK_ID_CURR']\n",
    "X.drop(columns= ['SK_ID_CURR'], inplace=True)\n",
    "X_test.drop(columns= ['SK_ID_CURR'], inplace=True)\n",
    "\n",
    "imp.fit(X)\n",
    "X1 = imp.transform(X)\n",
    "X1_test = imp.transform(X_test)"
   ]
  },
  {
   "cell_type": "code",
   "execution_count": 70,
   "metadata": {
    "ExecuteTime": {
     "end_time": "2021-04-26T14:09:20.601873Z",
     "start_time": "2021-04-26T14:09:16.842559Z"
    }
   },
   "outputs": [],
   "source": [
    "X_train, X_val, y_train, y_val = train_test_split(X1, \n",
    "                                                  y,\n",
    "                                                  test_size=0.2,\n",
    "                                                  random_state=42,\n",
    "                                                  stratify=y)"
   ]
  },
  {
   "cell_type": "code",
   "execution_count": 71,
   "metadata": {
    "ExecuteTime": {
     "end_time": "2021-04-26T14:09:44.184264Z",
     "start_time": "2021-04-26T14:09:43.434946Z"
    }
   },
   "outputs": [
    {
     "data": {
      "text/plain": [
       "0    226148\n",
       "1     19860\n",
       "Name: TARGET, dtype: int64"
      ]
     },
     "execution_count": 71,
     "metadata": {},
     "output_type": "execute_result"
    }
   ],
   "source": [
    "y_train.value_counts()"
   ]
  },
  {
   "cell_type": "code",
   "execution_count": 72,
   "metadata": {
    "ExecuteTime": {
     "end_time": "2021-04-26T14:10:05.268389Z",
     "start_time": "2021-04-26T14:10:05.208338Z"
    }
   },
   "outputs": [
    {
     "data": {
      "text/plain": [
       "0.9192709180189262"
      ]
     },
     "execution_count": 72,
     "metadata": {},
     "output_type": "execute_result"
    }
   ],
   "source": [
    "226148/(226148+19860)"
   ]
  },
  {
   "cell_type": "code",
   "execution_count": 73,
   "metadata": {
    "ExecuteTime": {
     "end_time": "2021-04-26T14:10:23.037792Z",
     "start_time": "2021-04-26T14:10:22.975786Z"
    }
   },
   "outputs": [
    {
     "data": {
      "text/plain": [
       "0    282686\n",
       "1     24825\n",
       "Name: TARGET, dtype: int64"
      ]
     },
     "execution_count": 73,
     "metadata": {},
     "output_type": "execute_result"
    }
   ],
   "source": [
    "y.value_counts()"
   ]
  },
  {
   "cell_type": "code",
   "execution_count": 74,
   "metadata": {
    "ExecuteTime": {
     "end_time": "2021-04-26T14:10:44.494079Z",
     "start_time": "2021-04-26T14:10:44.483742Z"
    }
   },
   "outputs": [
    {
     "data": {
      "text/plain": [
       "0.9192711805431351"
      ]
     },
     "execution_count": 74,
     "metadata": {},
     "output_type": "execute_result"
    }
   ],
   "source": [
    "282686/(282686+24825)"
   ]
  },
  {
   "cell_type": "code",
   "execution_count": 75,
   "metadata": {
    "ExecuteTime": {
     "end_time": "2021-04-26T14:13:53.822966Z",
     "start_time": "2021-04-26T14:12:20.073402Z"
    }
   },
   "outputs": [
    {
     "data": {
      "text/plain": [
       "RandomForestClassifier(bootstrap=True, ccp_alpha=0.0, class_weight=None,\n",
       "                       criterion='gini', max_depth=None, max_features='auto',\n",
       "                       max_leaf_nodes=None, max_samples=None,\n",
       "                       min_impurity_decrease=0.0, min_impurity_split=None,\n",
       "                       min_samples_leaf=1, min_samples_split=2,\n",
       "                       min_weight_fraction_leaf=0.0, n_estimators=100,\n",
       "                       n_jobs=-1, oob_score=False, random_state=42, verbose=0,\n",
       "                       warm_start=False)"
      ]
     },
     "execution_count": 75,
     "metadata": {},
     "output_type": "execute_result"
    }
   ],
   "source": [
    "rfc1 = RandomForestClassifier(random_state=42, n_jobs=-1)\n",
    "rfc1.fit(X_train, y_train)"
   ]
  },
  {
   "cell_type": "code",
   "execution_count": 78,
   "metadata": {
    "ExecuteTime": {
     "end_time": "2021-04-26T14:23:43.033259Z",
     "start_time": "2021-04-26T14:23:41.696150Z"
    }
   },
   "outputs": [
    {
     "data": {
      "text/html": [
       "<div>\n",
       "<style scoped>\n",
       "    .dataframe tbody tr th:only-of-type {\n",
       "        vertical-align: middle;\n",
       "    }\n",
       "\n",
       "    .dataframe tbody tr th {\n",
       "        vertical-align: top;\n",
       "    }\n",
       "\n",
       "    .dataframe thead th {\n",
       "        text-align: right;\n",
       "    }\n",
       "</style>\n",
       "<table border=\"1\" class=\"dataframe\">\n",
       "  <thead>\n",
       "    <tr style=\"text-align: right;\">\n",
       "      <th></th>\n",
       "      <th>feature</th>\n",
       "      <th>importance</th>\n",
       "    </tr>\n",
       "  </thead>\n",
       "  <tbody>\n",
       "    <tr>\n",
       "      <th>29</th>\n",
       "      <td>EXT_SOURCE_3</td>\n",
       "      <td>0.040791</td>\n",
       "    </tr>\n",
       "    <tr>\n",
       "      <th>27</th>\n",
       "      <td>EXT_SOURCE_1</td>\n",
       "      <td>0.038446</td>\n",
       "    </tr>\n",
       "    <tr>\n",
       "      <th>28</th>\n",
       "      <td>EXT_SOURCE_2</td>\n",
       "      <td>0.034129</td>\n",
       "    </tr>\n",
       "    <tr>\n",
       "      <th>8</th>\n",
       "      <td>DAYS_REGISTRATION</td>\n",
       "      <td>0.023236</td>\n",
       "    </tr>\n",
       "    <tr>\n",
       "      <th>7</th>\n",
       "      <td>DAYS_EMPLOYED</td>\n",
       "      <td>0.019688</td>\n",
       "    </tr>\n",
       "    <tr>\n",
       "      <th>6</th>\n",
       "      <td>DAYS_BIRTH</td>\n",
       "      <td>0.019088</td>\n",
       "    </tr>\n",
       "    <tr>\n",
       "      <th>9</th>\n",
       "      <td>DAYS_ID_PUBLISH</td>\n",
       "      <td>0.018465</td>\n",
       "    </tr>\n",
       "    <tr>\n",
       "      <th>241</th>\n",
       "      <td>BIRTH_IN_YEARS</td>\n",
       "      <td>0.018245</td>\n",
       "    </tr>\n",
       "    <tr>\n",
       "      <th>10</th>\n",
       "      <td>OWN_CAR_AGE</td>\n",
       "      <td>0.015913</td>\n",
       "    </tr>\n",
       "    <tr>\n",
       "      <th>3</th>\n",
       "      <td>AMT_ANNUITY</td>\n",
       "      <td>0.015761</td>\n",
       "    </tr>\n",
       "  </tbody>\n",
       "</table>\n",
       "</div>"
      ],
      "text/plain": [
       "               feature  importance\n",
       "29        EXT_SOURCE_3    0.040791\n",
       "27        EXT_SOURCE_1    0.038446\n",
       "28        EXT_SOURCE_2    0.034129\n",
       "8    DAYS_REGISTRATION    0.023236\n",
       "7        DAYS_EMPLOYED    0.019688\n",
       "6           DAYS_BIRTH    0.019088\n",
       "9      DAYS_ID_PUBLISH    0.018465\n",
       "241     BIRTH_IN_YEARS    0.018245\n",
       "10         OWN_CAR_AGE    0.015913\n",
       "3          AMT_ANNUITY    0.015761"
      ]
     },
     "execution_count": 78,
     "metadata": {},
     "output_type": "execute_result"
    }
   ],
   "source": [
    "features = list(X.columns)\n",
    "fm = {'feature': features,\n",
    "    'importance': rfc.feature_importances_}\n",
    "feature_importance = pd.DataFrame(fm)\n",
    "feature_importance.sort_values(by='importance', ascending=False).head(10)"
   ]
  },
  {
   "cell_type": "code",
   "execution_count": 79,
   "metadata": {
    "ExecuteTime": {
     "end_time": "2021-04-26T14:25:11.764253Z",
     "start_time": "2021-04-26T14:25:02.649944Z"
    }
   },
   "outputs": [
    {
     "data": {
      "text/plain": [
       "0.9193535274702047"
      ]
     },
     "execution_count": 79,
     "metadata": {},
     "output_type": "execute_result"
    }
   ],
   "source": [
    "rfc1.score(X_val, y_val)"
   ]
  },
  {
   "cell_type": "code",
   "execution_count": 82,
   "metadata": {
    "ExecuteTime": {
     "end_time": "2021-04-26T14:37:07.203387Z",
     "start_time": "2021-04-26T14:37:06.677698Z"
    }
   },
   "outputs": [],
   "source": [
    "rfc_test_pred = rfc.predict_proba(X1_test)[:,1]"
   ]
  },
  {
   "cell_type": "code",
   "execution_count": 83,
   "metadata": {
    "ExecuteTime": {
     "end_time": "2021-04-26T14:37:35.781124Z",
     "start_time": "2021-04-26T14:37:35.703522Z"
    }
   },
   "outputs": [
    {
     "data": {
      "text/html": [
       "<div>\n",
       "<style scoped>\n",
       "    .dataframe tbody tr th:only-of-type {\n",
       "        vertical-align: middle;\n",
       "    }\n",
       "\n",
       "    .dataframe tbody tr th {\n",
       "        vertical-align: top;\n",
       "    }\n",
       "\n",
       "    .dataframe thead th {\n",
       "        text-align: right;\n",
       "    }\n",
       "</style>\n",
       "<table border=\"1\" class=\"dataframe\">\n",
       "  <thead>\n",
       "    <tr style=\"text-align: right;\">\n",
       "      <th></th>\n",
       "      <th>SK_ID_CURR</th>\n",
       "      <th>TARGET</th>\n",
       "    </tr>\n",
       "  </thead>\n",
       "  <tbody>\n",
       "    <tr>\n",
       "      <th>0</th>\n",
       "      <td>100001</td>\n",
       "      <td>0.11</td>\n",
       "    </tr>\n",
       "    <tr>\n",
       "      <th>1</th>\n",
       "      <td>100005</td>\n",
       "      <td>0.03</td>\n",
       "    </tr>\n",
       "    <tr>\n",
       "      <th>2</th>\n",
       "      <td>100013</td>\n",
       "      <td>0.06</td>\n",
       "    </tr>\n",
       "    <tr>\n",
       "      <th>3</th>\n",
       "      <td>100028</td>\n",
       "      <td>0.03</td>\n",
       "    </tr>\n",
       "    <tr>\n",
       "      <th>4</th>\n",
       "      <td>100038</td>\n",
       "      <td>0.04</td>\n",
       "    </tr>\n",
       "  </tbody>\n",
       "</table>\n",
       "</div>"
      ],
      "text/plain": [
       "   SK_ID_CURR  TARGET\n",
       "0      100001    0.11\n",
       "1      100005    0.03\n",
       "2      100013    0.06\n",
       "3      100028    0.03\n",
       "4      100038    0.04"
      ]
     },
     "execution_count": 83,
     "metadata": {},
     "output_type": "execute_result"
    }
   ],
   "source": [
    "submission1_dict = {'SK_ID_CURR': Test_ids, \n",
    "            'TARGET': rfc_test_pred}\n",
    "rfc_submission1 = pd.DataFrame(submission1_dict)\n",
    "rfc_submission1.head()"
   ]
  },
  {
   "cell_type": "code",
   "execution_count": 84,
   "metadata": {
    "ExecuteTime": {
     "end_time": "2021-04-26T14:38:46.940130Z",
     "start_time": "2021-04-26T14:38:44.240570Z"
    }
   },
   "outputs": [],
   "source": [
    "rfc_submission1.to_csv('submission1.csv', index=False)"
   ]
  },
  {
   "cell_type": "code",
   "execution_count": 85,
   "metadata": {
    "ExecuteTime": {
     "end_time": "2021-04-27T16:11:59.537629Z",
     "start_time": "2021-04-27T16:11:57.474490Z"
    }
   },
   "outputs": [],
   "source": [
    "logreg = LogisticRegression(solver='lbfgs')"
   ]
  },
  {
   "cell_type": "code",
   "execution_count": 87,
   "metadata": {
    "ExecuteTime": {
     "end_time": "2021-04-27T16:13:18.438269Z",
     "start_time": "2021-04-27T16:12:42.144716Z"
    }
   },
   "outputs": [
    {
     "name": "stderr",
     "output_type": "stream",
     "text": [
      "/Users/eyobmanhardt/opt/anaconda3/lib/python3.7/site-packages/sklearn/linear_model/_logistic.py:939: ConvergenceWarning: lbfgs failed to converge (status=1):\n",
      "STOP: TOTAL NO. of ITERATIONS REACHED LIMIT.\n",
      "\n",
      "Increase the number of iterations (max_iter) or scale the data as shown in:\n",
      "    https://scikit-learn.org/stable/modules/preprocessing.html.\n",
      "Please also refer to the documentation for alternative solver options:\n",
      "    https://scikit-learn.org/stable/modules/linear_model.html#logistic-regression\n",
      "  extra_warning_msg=_LOGISTIC_SOLVER_CONVERGENCE_MSG)\n"
     ]
    },
    {
     "data": {
      "text/plain": [
       "LogisticRegression(C=1.0, class_weight=None, dual=False, fit_intercept=True,\n",
       "                   intercept_scaling=1, l1_ratio=None, max_iter=100,\n",
       "                   multi_class='auto', n_jobs=None, penalty='l2',\n",
       "                   random_state=None, solver='lbfgs', tol=0.0001, verbose=0,\n",
       "                   warm_start=False)"
      ]
     },
     "execution_count": 87,
     "metadata": {},
     "output_type": "execute_result"
    }
   ],
   "source": [
    "logreg.fit(X_train, y_train)"
   ]
  },
  {
   "cell_type": "code",
   "execution_count": 88,
   "metadata": {
    "ExecuteTime": {
     "end_time": "2021-04-27T16:13:48.793529Z",
     "start_time": "2021-04-27T16:13:47.527100Z"
    }
   },
   "outputs": [
    {
     "data": {
      "text/plain": [
       "0.9192627882020097"
      ]
     },
     "execution_count": 88,
     "metadata": {},
     "output_type": "execute_result"
    }
   ],
   "source": [
    "logreg.score(X_train, y_train)"
   ]
  },
  {
   "cell_type": "code",
   "execution_count": 89,
   "metadata": {
    "ExecuteTime": {
     "end_time": "2021-04-27T16:14:17.170708Z",
     "start_time": "2021-04-27T16:14:11.678759Z"
    }
   },
   "outputs": [
    {
     "data": {
      "text/plain": [
       "0.9192722306228964"
      ]
     },
     "execution_count": 89,
     "metadata": {},
     "output_type": "execute_result"
    }
   ],
   "source": [
    "logreg.score(X_val, y_val)"
   ]
  },
  {
   "cell_type": "code",
   "execution_count": 90,
   "metadata": {
    "ExecuteTime": {
     "end_time": "2021-04-27T16:16:23.647595Z",
     "start_time": "2021-04-27T16:16:21.157248Z"
    }
   },
   "outputs": [],
   "source": [
    "logreg_test_pred = logreg.predict_proba(X1_test)[:,1]"
   ]
  },
  {
   "cell_type": "code",
   "execution_count": 91,
   "metadata": {
    "ExecuteTime": {
     "end_time": "2021-04-27T16:17:26.275530Z",
     "start_time": "2021-04-27T16:17:23.089208Z"
    }
   },
   "outputs": [
    {
     "data": {
      "text/html": [
       "<div>\n",
       "<style scoped>\n",
       "    .dataframe tbody tr th:only-of-type {\n",
       "        vertical-align: middle;\n",
       "    }\n",
       "\n",
       "    .dataframe tbody tr th {\n",
       "        vertical-align: top;\n",
       "    }\n",
       "\n",
       "    .dataframe thead th {\n",
       "        text-align: right;\n",
       "    }\n",
       "</style>\n",
       "<table border=\"1\" class=\"dataframe\">\n",
       "  <thead>\n",
       "    <tr style=\"text-align: right;\">\n",
       "      <th></th>\n",
       "      <th>SK_ID_CURR</th>\n",
       "      <th>TARGET</th>\n",
       "    </tr>\n",
       "  </thead>\n",
       "  <tbody>\n",
       "    <tr>\n",
       "      <th>0</th>\n",
       "      <td>100001</td>\n",
       "      <td>0.076801</td>\n",
       "    </tr>\n",
       "    <tr>\n",
       "      <th>1</th>\n",
       "      <td>100005</td>\n",
       "      <td>0.081547</td>\n",
       "    </tr>\n",
       "    <tr>\n",
       "      <th>2</th>\n",
       "      <td>100013</td>\n",
       "      <td>0.040890</td>\n",
       "    </tr>\n",
       "    <tr>\n",
       "      <th>3</th>\n",
       "      <td>100028</td>\n",
       "      <td>0.024820</td>\n",
       "    </tr>\n",
       "    <tr>\n",
       "      <th>4</th>\n",
       "      <td>100038</td>\n",
       "      <td>0.066380</td>\n",
       "    </tr>\n",
       "  </tbody>\n",
       "</table>\n",
       "</div>"
      ],
      "text/plain": [
       "   SK_ID_CURR    TARGET\n",
       "0      100001  0.076801\n",
       "1      100005  0.081547\n",
       "2      100013  0.040890\n",
       "3      100028  0.024820\n",
       "4      100038  0.066380"
      ]
     },
     "execution_count": 91,
     "metadata": {},
     "output_type": "execute_result"
    }
   ],
   "source": [
    "submission2_dict = {'SK_ID_CURR': Test_ids, \n",
    "            'TARGET': logreg_test_pred }\n",
    "logreg_submission2 = pd.DataFrame(submission2_dict)\n",
    "logreg_submission2.head()"
   ]
  },
  {
   "cell_type": "code",
   "execution_count": 92,
   "metadata": {
    "ExecuteTime": {
     "end_time": "2021-04-27T16:19:44.165697Z",
     "start_time": "2021-04-27T16:19:41.925411Z"
    }
   },
   "outputs": [],
   "source": [
    "logreg_submission2.to_csv('submission2.csv', index=False)"
   ]
  },
  {
   "cell_type": "code",
   "execution_count": null,
   "metadata": {},
   "outputs": [],
   "source": []
  }
 ],
 "metadata": {
  "kernelspec": {
   "display_name": "Python 3",
   "language": "python",
   "name": "python3"
  },
  "language_info": {
   "codemirror_mode": {
    "name": "ipython",
    "version": 3
   },
   "file_extension": ".py",
   "mimetype": "text/x-python",
   "name": "python",
   "nbconvert_exporter": "python",
   "pygments_lexer": "ipython3",
   "version": "3.7.4"
  },
  "toc": {
   "base_numbering": 1,
   "nav_menu": {},
   "number_sections": true,
   "sideBar": true,
   "skip_h1_title": false,
   "title_cell": "Table of Contents",
   "title_sidebar": "Contents",
   "toc_cell": false,
   "toc_position": {},
   "toc_section_display": true,
   "toc_window_display": false
  },
  "varInspector": {
   "cols": {
    "lenName": 16,
    "lenType": 16,
    "lenVar": 40
   },
   "kernels_config": {
    "python": {
     "delete_cmd_postfix": "",
     "delete_cmd_prefix": "del ",
     "library": "var_list.py",
     "varRefreshCmd": "print(var_dic_list())"
    },
    "r": {
     "delete_cmd_postfix": ") ",
     "delete_cmd_prefix": "rm(",
     "library": "var_list.r",
     "varRefreshCmd": "cat(var_dic_list()) "
    }
   },
   "types_to_exclude": [
    "module",
    "function",
    "builtin_function_or_method",
    "instance",
    "_Feature"
   ],
   "window_display": true
  }
 },
 "nbformat": 4,
 "nbformat_minor": 2
}
