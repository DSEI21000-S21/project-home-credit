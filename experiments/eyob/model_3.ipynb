{
 "cells": [
  {
   "cell_type": "code",
   "execution_count": 1,
   "metadata": {
    "ExecuteTime": {
     "end_time": "2021-05-26T18:22:33.848469Z",
     "start_time": "2021-05-26T18:22:17.035657Z"
    }
   },
   "outputs": [
    {
     "name": "stderr",
     "output_type": "stream",
     "text": [
      "\n",
      "Bad key \"text.kerning_factor\" on line 4 in\n",
      "/Users/eyobmanhardt/opt/anaconda3/lib/python3.7/site-packages/matplotlib/mpl-data/stylelib/_classic_test_patch.mplstyle.\n",
      "You probably need to get an updated matplotlibrc file from\n",
      "https://github.com/matplotlib/matplotlib/blob/v3.1.3/matplotlibrc.template\n",
      "or from the matplotlib source distribution\n"
     ]
    }
   ],
   "source": [
    "# sklearn utilties \n",
    "from sklearn.model_selection import train_test_split\n",
    "from sklearn.model_selection import cross_validate\n",
    "from sklearn.model_selection import cross_val_score \n",
    "from sklearn.metrics import roc_auc_score\n",
    "from sklearn.metrics import classification_report\n",
    "from sklearn.metrics import confusion_matrix\n",
    "from sklearn.metrics import balanced_accuracy_score\n",
    "from sklearn.pipeline import Pipeline\n",
    "from sklearn.compose import ColumnTransformer\n",
    "from sklearn.impute import SimpleImputer\n",
    "from sklearn.preprocessing import StandardScaler, OneHotEncoder\n",
    "\n",
    "# classifiers  \n",
    "from sklearn.linear_model import LogisticRegression\n",
    "# from sklearn.dummy import DummyClassifier\n",
    "# from sklearn.ensemble import RandomForestClassifier\n",
    "\n",
    "# sampling \n",
    "# from imblearn.over_sampling import RandomOverSampler\n",
    "# from imblearn.under_sampling import RandomUnderSampler\n",
    "from imblearn.over_sampling import SMOTE\n",
    "from imblearn.pipeline import make_pipeline\n",
    "\n",
    "# useful libraries \n",
    "import pandas as pd\n",
    "import numpy as np\n",
    "import matplotlib.pyplot as plt\n",
    "\n",
    "# more lib\n",
    "import os, sys\n",
    "import dropbox\n",
    "from zipfile import ZipFile\n",
    "sys.path.append(os.path.dirname(os.path.dirname(os.path.abspath(''))))\n",
    "from utils.data_extract_utils import extract_zip, extract_features_from_bureau, get_clean_credit, remove_highly_correlated_columns,extract_features_from_installments_payments\n",
    "import gc\n"
   ]
  },
  {
   "cell_type": "code",
   "execution_count": 2,
   "metadata": {
    "ExecuteTime": {
     "end_time": "2021-05-26T18:22:33.921418Z",
     "start_time": "2021-05-26T18:22:33.859650Z"
    }
   },
   "outputs": [],
   "source": [
    "# helper functions\n",
    "def get_missing_data_info(df):\n",
    "    \"\"\"\n",
    "    add description .. \n",
    "    \n",
    "    \"\"\"\n",
    "    num_of_instance, _ = df.shape\n",
    "    #print(num_of_instance)\n",
    "    names = {'index': 'feature', \n",
    "             0: 'PERC_missing_data'}\n",
    "    \n",
    "    missing_df = (df.isnull() \\\n",
    "        .sum(axis=0)/num_of_instance) \\\n",
    "        .to_frame() \\\n",
    "        .reset_index() \\\n",
    "        .rename(columns=names) \\\n",
    "        .sort_values(by='PERC_missing_data', ascending=False) \\\n",
    "        .reset_index(drop=True)\n",
    "    \n",
    "    d = {}\n",
    "    # no missing \n",
    "    zero = missing_df[missing_df['PERC_missing_data'] == 0]\n",
    "    d['x = 0'] = list(zero.feature)\n",
    "    le_10 = missing_df[(missing_df['PERC_missing_data'] > 0.0) & (missing_df['PERC_missing_data'] <= 0.1)]\n",
    "    \n",
    "    d['0< x <= 25'] = list(missing_df[(missing_df['PERC_missing_data'] > 0.0) & (missing_df['PERC_missing_data'] <= 0.25)].feature)\n",
    "    \n",
    "    d['25 < x <= 50'] = list(missing_df[(missing_df['PERC_missing_data'] > 0.25) & (missing_df['PERC_missing_data'] <= 0.5)].feature)\n",
    "    \n",
    "    d['x > 50'] = list(missing_df[missing_df['PERC_missing_data'] > 0.5].feature)\n",
    "    \n",
    "    return missing_df, d\n",
    "\n",
    "def combine(x):\n",
    "    if x == \"Incomplete higher\" or x == 'Academic degree':\n",
    "        return 'Higher education'\n",
    "    elif x == 'Lower secondary':\n",
    "        return 'Secondary / secondary special'\n",
    "    else:\n",
    "        return x\n",
    "    \n",
    "def get_columns_x(application, col_name, threshhold):\n",
    "    temp = application.loc[:, col_name].value_counts(dropna=False).to_frame().reset_index()\n",
    "    temp.columns = ['values', 'count']\n",
    "    temp['prec of val'] = temp['count'].apply(lambda x: x/application.shape[0])\n",
    "    groups = list(temp.loc[temp['prec of val'] <threshhold, 'values'].values)\n",
    "    \n",
    "    return groups\n",
    "\n",
    "def corr_with_target(application):\n",
    "    target = application.loc[application['TARGET'].notnull(), 'TARGET']\n",
    "    train_df = application.loc[application['TARGET'].notnull(), :].drop(columns=['TARGET']).select_dtypes(include = [int, float])\n",
    "\n",
    "    corr_col = [i for i in train_df.columns if i not in ['index', 'SK_ID_CURR']]\n",
    "    corr_arr = pd.Series([target.corr(train_df[i]) for i in corr_col])\n",
    "    \n",
    "    name = pd.Series(corr_col)\n",
    "    df_dict = {'feature': name, 'corr with target': corr_arr}\n",
    "    corr_df = pd.DataFrame(df_dict).sort_values(by = 'corr with target',ascending=False)\n",
    "    \n",
    "    return corr_df\n",
    "\n",
    "def clean_application(data):\n",
    "\n",
    "    # get table \n",
    "    application = data['application_train'].copy().append(data['application_test']).reset_index()\n",
    "    \n",
    "    # fix categorical data \n",
    "\n",
    "    # 'NAME_TYPE_SUITE'\n",
    "    application.replace({'NAME_TYPE_SUITE': ['Children', \n",
    "                                             'Other_B', \n",
    "                                             'Other_A', \n",
    "                                             'Group of people']}, \n",
    "                        'Other', inplace = True)\n",
    "\n",
    "\n",
    "    # 'NAME_INCOME_TYPE'\n",
    "    application.replace({'NAME_INCOME_TYPE': ['Unemployed', \n",
    "                                              'Student', \n",
    "                                              'Businessman', \n",
    "                                              'Maternity leave']}, \n",
    "                        'Other', inplace=True)\n",
    "\n",
    "    # NAME_EDUCATION_TYPE\n",
    "    application['NAME_EDUCATION_TYPE'] = application['NAME_EDUCATION_TYPE'].apply(lambda x: combine(x))\n",
    "\n",
    "    #'NAME_HOUSING_TYPE'\n",
    "    application.replace({'NAME_HOUSING_TYPE': ['Municipal apartment', \n",
    "                                               'Office apartment', \n",
    "                                               'Co-op apartment']}, \n",
    "                        'Rented apartment', inplace = True)\n",
    "\n",
    "    # OCCUPATION_TYPE\n",
    "    other_occp = get_columns_x(application, 'OCCUPATION_TYPE', 0.03)  \n",
    "    application.replace({'OCCUPATION_TYPE': other_occp}, \n",
    "                        'Other', inplace = True)\n",
    "\n",
    "    # ORGANIZATION_TYPE\n",
    "    other_org = get_columns_x(application, 'ORGANIZATION_TYPE', 0.02)  \n",
    "    application.replace({'ORGANIZATION_TYPE': other_org}, \n",
    "                        'Other', inplace = True)\n",
    "\n",
    "    # drop cat features - low variance and high % of missing val\n",
    "    application.drop(columns = ['FONDKAPREMONT_MODE', \n",
    "                                'HOUSETYPE_MODE', \n",
    "                                'WALLSMATERIAL_MODE', \n",
    "                                'EMERGENCYSTATE_MODE'], \n",
    "                     axis = 1, inplace=True)\n",
    "\n",
    "    ## label encoder for binary values\n",
    "    bin_features = ['CODE_GENDER', 'FLAG_OWN_CAR', 'FLAG_OWN_REALTY']\n",
    "\n",
    "    replace_dict = {'CODE_GENDER': {'M': 0, 'F': 1},\n",
    "                    'FLAG_OWN_CAR': {'Y': 0, 'N': 1}, \n",
    "                    'FLAG_OWN_REALTY':{'Y': 0, 'N': 1},\n",
    "                   'NAME_EDUCATION_TYPE': {'Higher education': 1,\n",
    "                                          'Secondary / secondary special': 0}}\n",
    "\n",
    "    application.replace(replace_dict, inplace=True)\n",
    "\n",
    "\n",
    "    # remove few instances with low appearance\n",
    "    application = application.loc[application['CODE_GENDER'] != 'XNA', :]\n",
    "    application = application.loc[application['NAME_FAMILY_STATUS'] != 'Unknown', :]\n",
    "\n",
    "\n",
    "    # drop_features > 50% of missing vals (both: cat, num)\n",
    "    cols = [i for i in list(application.columns) if i != 'TARGET']\n",
    "    _, missing_dict = get_missing_data_info(application.loc[:,cols])\n",
    "    drop_cols = missing_dict['x > 50']\n",
    "\n",
    "    # keep EXT_SOURCE_1 --> highly corr with target \n",
    "    drop_cols.remove('EXT_SOURCE_1')\n",
    "    application.drop(columns = drop_cols, axis = 1, inplace = True)\n",
    "\n",
    "    # Numerical features \n",
    "\n",
    "    ## DAYS_EMPLOYED\n",
    "    application['DAYS_EMPLOYED'].replace(365243, np.nan, inplace=True)\n",
    "    application['DAYS_EMPLOYED'] =application['DAYS_EMPLOYED'].apply(lambda x: abs(x))\n",
    "\n",
    "    application['BIRTH_IN_YEARS'] = application['DAYS_BIRTH'].apply(lambda x: abs(x)/365)\n",
    "\n",
    "\n",
    "    # add new features \n",
    "    application['ALL_EXT_SOURCE_MEAN']=application[['EXT_SOURCE_1', 'EXT_SOURCE_2', 'EXT_SOURCE_3']].mean(axis = 1)\n",
    "    application['PAYMENT_RATE'] = application['AMT_ANNUITY']/application['AMT_CREDIT']\n",
    "    application['INCOME_PER_PERSON'] = application['AMT_INCOME_TOTAL']/application['CNT_FAM_MEMBERS']\n",
    "    application['INCOME_CREDIT_IN_PERCENTAGE '] = application['AMT_INCOME_TOTAL']/application['AMT_CREDIT']\n",
    "    application['ANNUITY_INCOME_IN_PERCENTAGE'] = application['AMT_ANNUITY']/application['AMT_INCOME_TOTAL']\n",
    "\n",
    "    doc_cols = [i for i in list(application.columns) if 'FLAG_DOCUMENT' in i]\n",
    "    application['ALL_FLAG_DOCUMENT_SUM']=application[doc_cols].mean(axis = 1)\n",
    "\n",
    "    ## drop indiv doc columns + other useless columns \n",
    "    application.drop(columns = doc_cols, axis = 1, inplace = True)\n",
    "    application.drop(columns = ['FLAG_CONT_MOBILE','FLAG_MOBIL', 'DAYS_BIRTH'], axis = 1, inplace = True)\n",
    "    \n",
    "\n",
    "    if 'index' in list(application.columns):\n",
    "        application.drop(columns = ['index'], axis = 1, inplace = True)\n",
    "        print('index column removed')\n",
    "\n",
    "    return application\n",
    "\n",
    "def join_tables(data):\n",
    "    # credit card table\n",
    "    cc = get_clean_credit(data['credit_card_balance'])\n",
    "    cc_agg = cc.groupby('SK_ID_CURR').agg(['min', 'max', 'mean','var'])\n",
    "    cc_agg.columns = pd.Index(list(map(lambda x: 'CC' + '_' + x[0] + '_' + x[1], list(cc_agg.columns))))\n",
    "    \n",
    "    # main aplication \n",
    "    train_test = clean_application(data)\n",
    "    train_test.set_index('SK_ID_CURR', inplace=True, drop=False)\n",
    "    \n",
    "    # burea/balance table\n",
    "    bb = extract_features_from_bureau(data['bureau'], data['bureau_balance'])\n",
    "    \n",
    "    # isntallments payments table\n",
    "    ip = extract_features_from_installments_payments(data['installments_payments'])\n",
    "    \n",
    "    # join table\n",
    "    df = pd.concat([train_test, bb, ip, cc_agg], axis=1) \n",
    "    df = df.reset_index(drop=True)\n",
    "    df['SK_ID_CURR'] = df['SK_ID_CURR'].astype('Int64')\n",
    "    # for safety \n",
    "    df = df.loc[df['SK_ID_CURR'].notnull(), :]\n",
    "    \n",
    "    # clean memory\n",
    "    del cc\n",
    "    del cc_agg\n",
    "    del train_test\n",
    "    del bb\n",
    "    del ip\n",
    "    gc.collect()\n",
    "    \n",
    "    return df\n"
   ]
  },
  {
   "cell_type": "code",
   "execution_count": 3,
   "metadata": {
    "ExecuteTime": {
     "end_time": "2021-05-26T18:26:52.435781Z",
     "start_time": "2021-05-26T18:22:33.948287Z"
    }
   },
   "outputs": [],
   "source": [
    "# Connect to dropbox\n",
    "dbx = dropbox.Dropbox('cHV7yAR0J6YAAAAAAAAAAVQ1NLCrOwerbaNltPWHslYXKuUTJ5_wfgJsuFcmx83o')\n",
    "\n",
    "data = {}\n",
    "for entry in dbx.files_list_folder('').entries:\n",
    "    response = dbx.files_download('/{}'.format(entry.name))\n",
    "    \n",
    "    if 'zip' in entry.name:\n",
    "        content = extract_zip(response[1].content)\n",
    "    \n",
    "        for file in content:\n",
    "            df = pd.read_csv(file[1])\n",
    "            data[entry.name.replace('.csv.zip', '')] = df\n",
    "            \n"
   ]
  },
  {
   "cell_type": "code",
   "execution_count": 4,
   "metadata": {
    "ExecuteTime": {
     "end_time": "2021-05-26T18:29:25.792307Z",
     "start_time": "2021-05-26T18:26:57.348486Z"
    }
   },
   "outputs": [
    {
     "name": "stderr",
     "output_type": "stream",
     "text": [
      "/Users/eyobmanhardt/Desktop/applied_ml_final_project/project-home-credit/utils/data_extract_utils.py:90: SettingWithCopyWarning: \n",
      "A value is trying to be set on a copy of a slice from a DataFrame.\n",
      "Try using .loc[row_indexer,col_indexer] = value instead\n",
      "\n",
      "See the caveats in the documentation: https://pandas.pydata.org/pandas-docs/stable/user_guide/indexing.html#returning-a-view-versus-a-copy\n",
      "  full_trimmed['SK_DPD_SUM'] = dpd_counts_sum['SK_DPD']\n",
      "/Users/eyobmanhardt/Desktop/applied_ml_final_project/project-home-credit/utils/data_extract_utils.py:91: SettingWithCopyWarning: \n",
      "A value is trying to be set on a copy of a slice from a DataFrame.\n",
      "Try using .loc[row_indexer,col_indexer] = value instead\n",
      "\n",
      "See the caveats in the documentation: https://pandas.pydata.org/pandas-docs/stable/user_guide/indexing.html#returning-a-view-versus-a-copy\n",
      "  full_trimmed['SK_DPD_DEF_SUM'] = dpd_df_counts_sum['SK_DPD_DEF']\n"
     ]
    },
    {
     "name": "stdout",
     "output_type": "stream",
     "text": [
      "index column removed\n"
     ]
    },
    {
     "data": {
      "text/plain": [
       "(356249, 104)"
      ]
     },
     "execution_count": 4,
     "metadata": {},
     "output_type": "execute_result"
    }
   ],
   "source": [
    "main_df = join_tables(data)\n",
    "main_df.shape"
   ]
  },
  {
   "cell_type": "code",
   "execution_count": 7,
   "metadata": {
    "ExecuteTime": {
     "end_time": "2021-05-26T18:36:27.687569Z",
     "start_time": "2021-05-26T18:36:27.104102Z"
    }
   },
   "outputs": [
    {
     "data": {
      "text/plain": [
       "((307505, 102), (307505,), (48744, 102))"
      ]
     },
     "execution_count": 7,
     "metadata": {},
     "output_type": "execute_result"
    }
   ],
   "source": [
    "X, y = (main_df.loc[(main_df['TARGET'].notnull()) & (main_df['SK_ID_CURR'].notnull()), :].drop(columns=['TARGET', 'SK_ID_CURR'], axis=1), \n",
    "        main_df.loc[(main_df['TARGET'].notnull()) & (main_df['SK_ID_CURR'].notnull()), 'TARGET'])\n",
    "\n",
    "# test set for kaggle\n",
    "test_ids = main_df.loc[(main_df['TARGET'].isnull()) & (main_df['SK_ID_CURR'].notnull()), 'SK_ID_CURR']\n",
    "X_test = main_df.loc[(main_df['TARGET'].isnull()) & (main_df['SK_ID_CURR'].notnull()), :].drop(columns=['TARGET', 'SK_ID_CURR'], axis=1)\n",
    "\n",
    "X.shape, y.shape, X_test.shape"
   ]
  },
  {
   "cell_type": "code",
   "execution_count": 8,
   "metadata": {
    "ExecuteTime": {
     "end_time": "2021-05-26T18:36:45.198931Z",
     "start_time": "2021-05-26T18:36:34.934361Z"
    }
   },
   "outputs": [
    {
     "data": {
      "text/plain": [
       "(9, 93)"
      ]
     },
     "execution_count": 8,
     "metadata": {},
     "output_type": "execute_result"
    }
   ],
   "source": [
    "cat_cols = list(X.select_dtypes(include=object).columns)\n",
    "num_cols = list(X.select_dtypes(include=[int, float]).columns)\n",
    "len(cat_cols),len(num_cols)"
   ]
  },
  {
   "cell_type": "code",
   "execution_count": 9,
   "metadata": {
    "ExecuteTime": {
     "end_time": "2021-05-26T18:36:59.954170Z",
     "start_time": "2021-05-26T18:36:59.943244Z"
    }
   },
   "outputs": [],
   "source": [
    "## pipelines\n",
    "\n",
    "# one hot encoding \n",
    "categorical_pipe = Pipeline(steps=[\n",
    "    ('cat_imp', SimpleImputer(strategy='most_frequent', add_indicator=False)),\n",
    "  ('one_hot_encoder', OneHotEncoder(sparse=False, handle_unknown='ignore'))\n",
    "])\n",
    "\n",
    "# numerical \n",
    "numerical_pipe = Pipeline(steps=[\n",
    "    ('num_imp', SimpleImputer(strategy='median', add_indicator=False)),\n",
    "    (\"scale\", StandardScaler())  \n",
    "])\n",
    "\n",
    "\n",
    "# transform columns \n",
    "column_transformer = ColumnTransformer(transformers=[    \n",
    "    ('num_pip', numerical_pipe, num_cols),\n",
    "    ('cat_pipe', categorical_pipe, cat_cols)\n",
    "])"
   ]
  },
  {
   "cell_type": "code",
   "execution_count": 10,
   "metadata": {
    "ExecuteTime": {
     "end_time": "2021-05-26T18:37:14.268771Z",
     "start_time": "2021-05-26T18:37:06.333587Z"
    }
   },
   "outputs": [],
   "source": [
    "# apply preprocessing to X\n",
    "X_trans = column_transformer.fit_transform(X)"
   ]
  },
  {
   "cell_type": "code",
   "execution_count": 11,
   "metadata": {
    "ExecuteTime": {
     "end_time": "2021-05-26T18:38:02.103503Z",
     "start_time": "2021-05-26T18:37:38.660881Z"
    }
   },
   "outputs": [],
   "source": [
    "# smote sampling\n",
    "smote = SMOTE(sampling_strategy='minority')\n",
    "X_sm, y_sm = smote.fit_resample(X_trans,y)\n",
    "\n",
    "X_train, X_val, y_train, y_val = train_test_split(X_sm, y_sm, test_size=0.2, random_state= 42, stratify=y_sm)"
   ]
  },
  {
   "cell_type": "code",
   "execution_count": 12,
   "metadata": {
    "ExecuteTime": {
     "end_time": "2021-05-26T18:39:58.158955Z",
     "start_time": "2021-05-26T18:39:58.027352Z"
    }
   },
   "outputs": [],
   "source": [
    "from sklearn.metrics import confusion_matrix\n",
    "from sklearn.metrics import ConfusionMatrixDisplay\n",
    "from sklearn.metrics import roc_curve\n",
    "from sklearn.metrics import RocCurveDisplay"
   ]
  },
  {
   "cell_type": "code",
   "execution_count": 13,
   "metadata": {
    "ExecuteTime": {
     "end_time": "2021-05-26T18:44:42.154545Z",
     "start_time": "2021-05-26T18:42:58.660194Z"
    }
   },
   "outputs": [
    {
     "data": {
      "text/plain": [
       "LogisticRegression(max_iter=1000, random_state=42)"
      ]
     },
     "execution_count": 13,
     "metadata": {},
     "output_type": "execute_result"
    }
   ],
   "source": [
    "logreg= LogisticRegression(solver='lbfgs', random_state=42,max_iter=1000)\n",
    "logreg.fit(X_train, y_train)"
   ]
  },
  {
   "cell_type": "code",
   "execution_count": 15,
   "metadata": {
    "ExecuteTime": {
     "end_time": "2021-05-26T18:45:27.085480Z",
     "start_time": "2021-05-26T18:45:26.023010Z"
    }
   },
   "outputs": [
    {
     "data": {
      "image/png": "[encoded data removed]",
      "text/plain": [
       "<Figure size 432x288 with 2 Axes>"
      ]
     },
     "metadata": {
      "needs_background": "light"
     },
     "output_type": "display_data"
    }
   ],
   "source": [
    "y_pred_log = logreg.predict(X_val)\n",
    "cm = confusion_matrix(y_val, y_pred)\n",
    "cm_display = ConfusionMatrixDisplay(cm, ).plot()\n",
    "plt.show()"
   ]
  },
  {
   "cell_type": "code",
   "execution_count": 16,
   "metadata": {
    "ExecuteTime": {
     "end_time": "2021-05-26T18:48:19.411630Z",
     "start_time": "2021-05-26T18:48:19.284131Z"
    }
   },
   "outputs": [
    {
     "data": {
      "text/plain": [
       "array([0., 1.])"
      ]
     },
     "execution_count": 16,
     "metadata": {},
     "output_type": "execute_result"
    }
   ],
   "source": [
    "logreg.classes_"
   ]
  },
  {
   "cell_type": "code",
   "execution_count": 17,
   "metadata": {
    "ExecuteTime": {
     "end_time": "2021-05-26T18:50:00.649299Z",
     "start_time": "2021-05-26T18:50:00.608936Z"
    }
   },
   "outputs": [],
   "source": [
    "y_score =logreg.decision_function(X_val)"
   ]
  },
  {
   "cell_type": "code",
   "execution_count": 21,
   "metadata": {
    "ExecuteTime": {
     "end_time": "2021-05-26T18:51:00.930541Z",
     "start_time": "2021-05-26T18:51:00.501515Z"
    }
   },
   "outputs": [
    {
     "data": {
      "image/png": "[encoded data removed]",
      "text/plain": [
       "<Figure size 432x288 with 1 Axes>"
      ]
     },
     "metadata": {
      "needs_background": "light"
     },
     "output_type": "display_data"
    }
   ],
   "source": [
    "y_score =logreg.decision_function(X_val)\n",
    "fpr, tpr, _ = roc_curve(y_val, y_score, pos_label=logreg.classes_[1])\n",
    "roc_display = RocCurveDisplay(fpr=fpr, tpr=tpr).plot()"
   ]
  },
  {
   "cell_type": "code",
   "execution_count": 33,
   "metadata": {
    "ExecuteTime": {
     "end_time": "2021-05-26T19:24:16.525155Z",
     "start_time": "2021-05-26T19:24:16.111521Z"
    }
   },
   "outputs": [
    {
     "name": "stdout",
     "output_type": "stream",
     "text": [
      "classifaction report on validation set\n",
      "              precision    recall  f1-score   support\n",
      "\n",
      "           0       0.71      0.70      0.70     56536\n",
      "           1       0.70      0.71      0.71     56536\n",
      "\n",
      "    accuracy                           0.71    113072\n",
      "   macro avg       0.71      0.71      0.71    113072\n",
      "weighted avg       0.71      0.71      0.71    113072\n",
      "\n"
     ]
    }
   ],
   "source": [
    "print('classifaction report on validation set')\n",
    "print(classification_report(y_val, y_pred, labels=[0,1]))"
   ]
  },
  {
   "cell_type": "code",
   "execution_count": 23,
   "metadata": {
    "ExecuteTime": {
     "end_time": "2021-05-26T19:00:43.101721Z",
     "start_time": "2021-05-26T19:00:43.072546Z"
    }
   },
   "outputs": [],
   "source": [
    "from sklearn.linear_model import SGDClassifier"
   ]
  },
  {
   "cell_type": "code",
   "execution_count": 24,
   "metadata": {
    "ExecuteTime": {
     "end_time": "2021-05-26T19:00:59.246532Z",
     "start_time": "2021-05-26T19:00:50.422467Z"
    }
   },
   "outputs": [
    {
     "data": {
      "text/plain": [
       "SGDClassifier()"
      ]
     },
     "execution_count": 24,
     "metadata": {},
     "output_type": "execute_result"
    }
   ],
   "source": [
    "sgd = SGDClassifier(max_iter=1000, tol=1e-3)\n",
    "sgd.fit(X_train, y_train)"
   ]
  },
  {
   "cell_type": "code",
   "execution_count": 26,
   "metadata": {
    "ExecuteTime": {
     "end_time": "2021-05-26T19:03:22.952376Z",
     "start_time": "2021-05-26T19:03:22.558135Z"
    }
   },
   "outputs": [
    {
     "data": {
      "image/png": "[encoded data removed]",
      "text/plain": [
       "<Figure size 432x288 with 2 Axes>"
      ]
     },
     "metadata": {
      "needs_background": "light"
     },
     "output_type": "display_data"
    }
   ],
   "source": [
    "y_pred_sgd = sgd.predict(X_val)\n",
    "cm_sgd = confusion_matrix(y_val, y_pred_sgd)\n",
    "cm_display = ConfusionMatrixDisplay(cm_sgd).plot()\n",
    "plt.show()"
   ]
  },
  {
   "cell_type": "code",
   "execution_count": 27,
   "metadata": {
    "ExecuteTime": {
     "end_time": "2021-05-26T19:08:15.789049Z",
     "start_time": "2021-05-26T19:08:15.243631Z"
    }
   },
   "outputs": [
    {
     "data": {
      "image/png": "[encoded data removed]",
      "text/plain": [
       "<Figure size 432x288 with 1 Axes>"
      ]
     },
     "metadata": {
      "needs_background": "light"
     },
     "output_type": "display_data"
    }
   ],
   "source": [
    "y_score_sgd =sgd.decision_function(X_val)\n",
    "fpr, tpr, _ = roc_curve(y_val, y_score_sgd, pos_label=sgd.classes_[1])\n",
    "roc_display = RocCurveDisplay(fpr=fpr, tpr=tpr).plot()\n",
    "plt.show()"
   ]
  },
  {
   "cell_type": "code",
   "execution_count": 32,
   "metadata": {
    "ExecuteTime": {
     "end_time": "2021-05-26T19:23:30.725220Z",
     "start_time": "2021-05-26T19:23:29.881225Z"
    }
   },
   "outputs": [
    {
     "name": "stdout",
     "output_type": "stream",
     "text": [
      "classifaction report on validation set\n",
      "              precision    recall  f1-score   support\n",
      "\n",
      "           0       0.72      0.65      0.69     56536\n",
      "           1       0.68      0.75      0.72     56536\n",
      "\n",
      "    accuracy                           0.70    113072\n",
      "   macro avg       0.70      0.70      0.70    113072\n",
      "weighted avg       0.70      0.70      0.70    113072\n",
      "\n"
     ]
    }
   ],
   "source": [
    "print('classifaction report on validation set')\n",
    "print(classification_report(y_val, y_pred_sgd, labels=[0,1]))"
   ]
  },
  {
   "cell_type": "code",
   "execution_count": 28,
   "metadata": {
    "ExecuteTime": {
     "end_time": "2021-05-26T19:12:26.427804Z",
     "start_time": "2021-05-26T19:12:26.263467Z"
    }
   },
   "outputs": [
    {
     "data": {
      "text/plain": [
       "KNeighborsClassifier()"
      ]
     },
     "execution_count": 28,
     "metadata": {},
     "output_type": "execute_result"
    }
   ],
   "source": [
    "from sklearn.neighbors import KNeighborsClassifier\n",
    "knn = KNeighborsClassifier()\n",
    "knn.fit(X_train, y_train)"
   ]
  },
  {
   "cell_type": "code",
   "execution_count": 31,
   "metadata": {
    "ExecuteTime": {
     "end_time": "2021-05-26T19:20:52.779289Z",
     "start_time": "2021-05-26T19:20:52.775047Z"
    }
   },
   "outputs": [],
   "source": [
    "# y_pred_knn = knn.predict(X_val)\n",
    "# # cm_knn = confusion_matrix(y_val, y_pred_knn)\n",
    "# # cm_display = ConfusionMatrixDisplay(cm_knn).plot()\n",
    "# # plt.show()\n",
    "### takes too long to compute :("
   ]
  },
  {
   "cell_type": "code",
   "execution_count": 37,
   "metadata": {
    "ExecuteTime": {
     "end_time": "2021-05-27T04:20:11.861311Z",
     "start_time": "2021-05-27T04:20:11.072972Z"
    }
   },
   "outputs": [
    {
     "data": {
      "image/png": "[encoded data removed]",
      "text/plain": [
       "<Figure size 864x576 with 3 Axes>"
      ]
     },
     "metadata": {
      "needs_background": "light"
     },
     "output_type": "display_data"
    }
   ],
   "source": [
    "fig, (ax1, ax2) = plt.subplots(1, 2, figsize=(12, 8))\n",
    "\n",
    "y_pred_log = logreg.predict(X_val)\n",
    "cm_log = confusion_matrix(y_val, y_pred_log)\n",
    "\n",
    "y_pred_sgd = sgd.predict(X_val)\n",
    "cm_sgd = confusion_matrix(y_val, y_pred_sgd)\n",
    "\n",
    "ConfusionMatrixDisplay(cm_log).plot( ax=ax1, colorbar=False)\n",
    "ConfusionMatrixDisplay(cm_sgd).plot(ax=ax2)\n",
    "ax1.set_title('LogReg')\n",
    "ax2.set_title('SGDC')\n",
    "plt.show()"
   ]
  },
  {
   "cell_type": "code",
   "execution_count": 38,
   "metadata": {
    "ExecuteTime": {
     "end_time": "2021-05-27T04:23:25.897824Z",
     "start_time": "2021-05-27T04:23:24.580992Z"
    }
   },
   "outputs": [
    {
     "data": {
      "image/png": "[encoded data removed]",
      "text/plain": [
       "<Figure size 864x576 with 2 Axes>"
      ]
     },
     "metadata": {
      "needs_background": "light"
     },
     "output_type": "display_data"
    }
   ],
   "source": [
    "fig, (ax1, ax2) = plt.subplots(1, 2, figsize=(12, 8))\n",
    "\n",
    "y_score =logreg.decision_function(X_val)\n",
    "fpr1, tpr1, _ = roc_curve(y_val, y_score, pos_label=logreg.classes_[1])\n",
    "roc_display = RocCurveDisplay(fpr=fpr1, tpr=tpr1).plot(ax=ax1)\n",
    "\n",
    "y_score_sgd =sgd.decision_function(X_val)\n",
    "fpr2, tpr2, _ = roc_curve(y_val, y_score_sgd, pos_label=sgd.classes_[1])\n",
    "roc_display = RocCurveDisplay(fpr=fpr2, tpr=tpr2).plot(ax=ax2)\n",
    "\n",
    "ax1.set_title('LogReg')\n",
    "ax2.set_title('SGDC')\n",
    "plt.show()"
   ]
  },
  {
   "cell_type": "code",
   "execution_count": null,
   "metadata": {},
   "outputs": [],
   "source": []
  }
 ],
 "metadata": {
  "kernelspec": {
   "display_name": "Python 3",
   "language": "python",
   "name": "python3"
  },
  "language_info": {
   "codemirror_mode": {
    "name": "ipython",
    "version": 3
   },
   "file_extension": ".py",
   "mimetype": "text/x-python",
   "name": "python",
   "nbconvert_exporter": "python",
   "pygments_lexer": "ipython3",
   "version": "3.7.4"
  },
  "toc": {
   "base_numbering": 1,
   "nav_menu": {},
   "number_sections": true,
   "sideBar": true,
   "skip_h1_title": false,
   "title_cell": "Table of Contents",
   "title_sidebar": "Contents",
   "toc_cell": false,
   "toc_position": {},
   "toc_section_display": true,
   "toc_window_display": false
  },
  "varInspector": {
   "cols": {
    "lenName": 16,
    "lenType": 16,
    "lenVar": 40
   },
   "kernels_config": {
    "python": {
     "delete_cmd_postfix": "",
     "delete_cmd_prefix": "del ",
     "library": "var_list.py",
     "varRefreshCmd": "print(var_dic_list())"
    },
    "r": {
     "delete_cmd_postfix": ") ",
     "delete_cmd_prefix": "rm(",
     "library": "var_list.r",
     "varRefreshCmd": "cat(var_dic_list()) "
    }
   },
   "types_to_exclude": [
    "module",
    "function",
    "builtin_function_or_method",
    "instance",
    "_Feature"
   ],
   "window_display": false
  }
 },
 "nbformat": 4,
 "nbformat_minor": 2
}
