{
 "cells": [
  {
   "cell_type": "code",
   "execution_count": 1,
   "metadata": {
    "ExecuteTime": {
     "end_time": "2021-05-11T19:06:09.189815Z",
     "start_time": "2021-05-11T19:05:53.221845Z"
    }
   },
   "outputs": [
    {
     "name": "stderr",
     "output_type": "stream",
     "text": [
      "\n",
      "Bad key \"text.kerning_factor\" on line 4 in\n",
      "/Users/eyobmanhardt/opt/anaconda3/lib/python3.7/site-packages/matplotlib/mpl-data/stylelib/_classic_test_patch.mplstyle.\n",
      "You probably need to get an updated matplotlibrc file from\n",
      "https://github.com/matplotlib/matplotlib/blob/v3.1.3/matplotlibrc.template\n",
      "or from the matplotlib source distribution\n"
     ]
    }
   ],
   "source": [
    "# sklearn utilties \n",
    "from sklearn.model_selection import train_test_split\n",
    "from sklearn.model_selection import cross_validate\n",
    "from sklearn.model_selection import cross_val_score \n",
    "from sklearn.metrics import roc_auc_score\n",
    "from sklearn.metrics import classification_report\n",
    "from sklearn.metrics import confusion_matrix\n",
    "from sklearn.metrics import balanced_accuracy_score\n",
    "from sklearn.pipeline import Pipeline\n",
    "from sklearn.compose import ColumnTransformer\n",
    "from sklearn.impute import SimpleImputer\n",
    "from sklearn.preprocessing import StandardScaler, OneHotEncoder\n",
    "\n",
    "# classifiers  \n",
    "from sklearn.linear_model import LogisticRegression\n",
    "# from sklearn.dummy import DummyClassifier\n",
    "# from sklearn.ensemble import RandomForestClassifier\n",
    "\n",
    "# sampling \n",
    "# from imblearn.over_sampling import RandomOverSampler\n",
    "# from imblearn.under_sampling import RandomUnderSampler\n",
    "from imblearn.over_sampling import SMOTE\n",
    "from imblearn.pipeline import make_pipeline\n",
    "\n",
    "# useful libraries \n",
    "import pandas as pd\n",
    "import numpy as np\n",
    "import matplotlib.pyplot as plt\n",
    "\n",
    "# more lib\n",
    "import os, sys\n",
    "import dropbox\n",
    "from zipfile import ZipFile\n",
    "sys.path.append(os.path.dirname(os.path.dirname(os.path.abspath(''))))\n",
    "from utils.data_extract_utils import extract_zip, extract_features_from_bureau, get_clean_credit, remove_highly_correlated_columns,extract_features_from_installments_payments\n",
    "import gc\n"
   ]
  },
  {
   "cell_type": "code",
   "execution_count": 2,
   "metadata": {
    "ExecuteTime": {
     "end_time": "2021-05-11T19:06:09.283409Z",
     "start_time": "2021-05-11T19:06:09.213376Z"
    }
   },
   "outputs": [],
   "source": [
    "# helper functions\n",
    "def get_missing_data_info(df):\n",
    "    \"\"\"\n",
    "    add description .. \n",
    "    \n",
    "    \"\"\"\n",
    "    num_of_instance, _ = df.shape\n",
    "    #print(num_of_instance)\n",
    "    names = {'index': 'feature', \n",
    "             0: 'PERC_missing_data'}\n",
    "    \n",
    "    missing_df = (df.isnull() \\\n",
    "        .sum(axis=0)/num_of_instance) \\\n",
    "        .to_frame() \\\n",
    "        .reset_index() \\\n",
    "        .rename(columns=names) \\\n",
    "        .sort_values(by='PERC_missing_data', ascending=False) \\\n",
    "        .reset_index(drop=True)\n",
    "    \n",
    "    d = {}\n",
    "    # no missing \n",
    "    zero = missing_df[missing_df['PERC_missing_data'] == 0]\n",
    "    d['x = 0'] = list(zero.feature)\n",
    "    le_10 = missing_df[(missing_df['PERC_missing_data'] > 0.0) & (missing_df['PERC_missing_data'] <= 0.1)]\n",
    "    \n",
    "    d['0< x <= 25'] = list(missing_df[(missing_df['PERC_missing_data'] > 0.0) & (missing_df['PERC_missing_data'] <= 0.25)].feature)\n",
    "    \n",
    "    d['25 < x <= 50'] = list(missing_df[(missing_df['PERC_missing_data'] > 0.25) & (missing_df['PERC_missing_data'] <= 0.5)].feature)\n",
    "    \n",
    "    d['x > 50'] = list(missing_df[missing_df['PERC_missing_data'] > 0.5].feature)\n",
    "    \n",
    "    return missing_df, d\n",
    "\n",
    "def combine(x):\n",
    "    if x == \"Incomplete higher\" or x == 'Academic degree':\n",
    "        return 'Higher education'\n",
    "    elif x == 'Lower secondary':\n",
    "        return 'Secondary / secondary special'\n",
    "    else:\n",
    "        return x\n",
    "    \n",
    "def get_columns_x(application, col_name, threshhold):\n",
    "    temp = application.loc[:, col_name].value_counts(dropna=False).to_frame().reset_index()\n",
    "    temp.columns = ['values', 'count']\n",
    "    temp['prec of val'] = temp['count'].apply(lambda x: x/application.shape[0])\n",
    "    groups = list(temp.loc[temp['prec of val'] <threshhold, 'values'].values)\n",
    "    \n",
    "    return groups\n",
    "\n",
    "def corr_with_target(application):\n",
    "    target = application.loc[application['TARGET'].notnull(), 'TARGET']\n",
    "    train_df = application.loc[application['TARGET'].notnull(), :].drop(columns=['TARGET']).select_dtypes(include = [int, float])\n",
    "\n",
    "    corr_col = [i for i in train_df.columns if i not in ['index', 'SK_ID_CURR']]\n",
    "    corr_arr = pd.Series([target.corr(train_df[i]) for i in corr_col])\n",
    "    \n",
    "    name = pd.Series(corr_col)\n",
    "    df_dict = {'feature': name, 'corr with target': corr_arr}\n",
    "    corr_df = pd.DataFrame(df_dict).sort_values(by = 'corr with target',ascending=False)\n",
    "    \n",
    "    return corr_df\n",
    "\n",
    "def clean_application(data):\n",
    "\n",
    "    # get table \n",
    "    application = data['application_train'].copy().append(data['application_test']).reset_index()\n",
    "    \n",
    "    # fix categorical data \n",
    "\n",
    "    # 'NAME_TYPE_SUITE'\n",
    "    application.replace({'NAME_TYPE_SUITE': ['Children', \n",
    "                                             'Other_B', \n",
    "                                             'Other_A', \n",
    "                                             'Group of people']}, \n",
    "                        'Other', inplace = True)\n",
    "\n",
    "\n",
    "    # 'NAME_INCOME_TYPE'\n",
    "    application.replace({'NAME_INCOME_TYPE': ['Unemployed', \n",
    "                                              'Student', \n",
    "                                              'Businessman', \n",
    "                                              'Maternity leave']}, \n",
    "                        'Other', inplace=True)\n",
    "\n",
    "    # NAME_EDUCATION_TYPE\n",
    "    application['NAME_EDUCATION_TYPE'] = application['NAME_EDUCATION_TYPE'].apply(lambda x: combine(x))\n",
    "\n",
    "    #'NAME_HOUSING_TYPE'\n",
    "    application.replace({'NAME_HOUSING_TYPE': ['Municipal apartment', \n",
    "                                               'Office apartment', \n",
    "                                               'Co-op apartment']}, \n",
    "                        'Rented apartment', inplace = True)\n",
    "\n",
    "    # OCCUPATION_TYPE\n",
    "    other_occp = get_columns_x(application, 'OCCUPATION_TYPE', 0.03)  \n",
    "    application.replace({'OCCUPATION_TYPE': other_occp}, \n",
    "                        'Other', inplace = True)\n",
    "\n",
    "    # ORGANIZATION_TYPE\n",
    "    other_org = get_columns_x(application, 'ORGANIZATION_TYPE', 0.02)  \n",
    "    application.replace({'ORGANIZATION_TYPE': other_org}, \n",
    "                        'Other', inplace = True)\n",
    "\n",
    "    # drop cat features - low variance and high % of missing val\n",
    "    application.drop(columns = ['FONDKAPREMONT_MODE', \n",
    "                                'HOUSETYPE_MODE', \n",
    "                                'WALLSMATERIAL_MODE', \n",
    "                                'EMERGENCYSTATE_MODE'], \n",
    "                     axis = 1, inplace=True)\n",
    "\n",
    "    ## label encoder for binary values\n",
    "    bin_features = ['CODE_GENDER', 'FLAG_OWN_CAR', 'FLAG_OWN_REALTY']\n",
    "\n",
    "    replace_dict = {'CODE_GENDER': {'M': 0, 'F': 1},\n",
    "                    'FLAG_OWN_CAR': {'Y': 0, 'N': 1}, \n",
    "                    'FLAG_OWN_REALTY':{'Y': 0, 'N': 1},\n",
    "                   'NAME_EDUCATION_TYPE': {'Higher education': 1,\n",
    "                                          'Secondary / secondary special': 0}}\n",
    "\n",
    "    application.replace(replace_dict, inplace=True)\n",
    "\n",
    "\n",
    "    # remove few instances with low appearance\n",
    "    application = application.loc[application['CODE_GENDER'] != 'XNA', :]\n",
    "    application = application.loc[application['NAME_FAMILY_STATUS'] != 'Unknown', :]\n",
    "\n",
    "\n",
    "    # drop_features > 50% of missing vals (both: cat, num)\n",
    "    cols = [i for i in list(application.columns) if i != 'TARGET']\n",
    "    _, missing_dict = get_missing_data_info(application.loc[:,cols])\n",
    "    drop_cols = missing_dict['x > 50']\n",
    "\n",
    "    # keep EXT_SOURCE_1 --> highly corr with target \n",
    "    drop_cols.remove('EXT_SOURCE_1')\n",
    "    application.drop(columns = drop_cols, axis = 1, inplace = True)\n",
    "\n",
    "    # Numerical features \n",
    "\n",
    "    ## DAYS_EMPLOYED\n",
    "    application['DAYS_EMPLOYED'].replace(365243, np.nan, inplace=True)\n",
    "    application['DAYS_EMPLOYED'] =application['DAYS_EMPLOYED'].apply(lambda x: abs(x))\n",
    "\n",
    "    application['BIRTH_IN_YEARS'] = application['DAYS_BIRTH'].apply(lambda x: abs(x)/365)\n",
    "\n",
    "\n",
    "    # add new features \n",
    "    application['ALL_EXT_SOURCE_MEAN']=application[['EXT_SOURCE_1', 'EXT_SOURCE_2', 'EXT_SOURCE_3']].mean(axis = 1)\n",
    "    application['PAYMENT_RATE'] = application['AMT_ANNUITY']/application['AMT_CREDIT']\n",
    "    application['INCOME_PER_PERSON'] = application['AMT_INCOME_TOTAL']/application['CNT_FAM_MEMBERS']\n",
    "    application['INCOME_CREDIT_IN_PERCENTAGE '] = application['AMT_INCOME_TOTAL']/application['AMT_CREDIT']\n",
    "    application['ANNUITY_INCOME_IN_PERCENTAGE'] = application['AMT_ANNUITY']/application['AMT_INCOME_TOTAL']\n",
    "\n",
    "    doc_cols = [i for i in list(application.columns) if 'FLAG_DOCUMENT' in i]\n",
    "    application['ALL_FLAG_DOCUMENT_SUM']=application[doc_cols].mean(axis = 1)\n",
    "\n",
    "    ## drop indiv doc columns + other useless columns \n",
    "    application.drop(columns = doc_cols, axis = 1, inplace = True)\n",
    "    application.drop(columns = ['FLAG_CONT_MOBILE','FLAG_MOBIL', 'DAYS_BIRTH'], axis = 1, inplace = True)\n",
    "    \n",
    "\n",
    "    if 'index' in list(application.columns):\n",
    "        application.drop(columns = ['index'], axis = 1, inplace = True)\n",
    "        print('index column removed')\n",
    "\n",
    "    return application\n",
    "\n",
    "def join_tables(data):\n",
    "    # credit card table\n",
    "    cc = get_clean_credit(data['credit_card_balance'])\n",
    "    cc_agg = cc.groupby('SK_ID_CURR').agg(['min', 'max', 'mean','var'])\n",
    "    cc_agg.columns = pd.Index(list(map(lambda x: 'CC' + '_' + x[0] + '_' + x[1], list(cc_agg.columns))))\n",
    "    \n",
    "    # main aplication \n",
    "    train_test = clean_application(data)\n",
    "    train_test.set_index('SK_ID_CURR', inplace=True, drop=False)\n",
    "    \n",
    "    # burea/balance table\n",
    "    bb = extract_features_from_bureau(data['bureau'], data['bureau_balance'])\n",
    "    \n",
    "    # isntallments payments table\n",
    "    ip = extract_features_from_installments_payments(data['installments_payments'])\n",
    "    \n",
    "    # join table\n",
    "    df = pd.concat([train_test, bb, ip, cc_agg], axis=1) \n",
    "    df = df.reset_index(drop=True)\n",
    "    df['SK_ID_CURR'] = df['SK_ID_CURR'].astype('Int64')\n",
    "    \n",
    "    # clean memory\n",
    "    del cc\n",
    "    del cc_agg\n",
    "    del train_test\n",
    "    del bb\n",
    "    del ip\n",
    "    gc.collect()\n",
    "    \n",
    "    return df\n"
   ]
  },
  {
   "cell_type": "code",
   "execution_count": 3,
   "metadata": {
    "ExecuteTime": {
     "end_time": "2021-05-11T19:08:48.642306Z",
     "start_time": "2021-05-11T19:06:09.342393Z"
    }
   },
   "outputs": [],
   "source": [
    "# Connect to dropbox\n",
    "dbx = dropbox.Dropbox('cHV7yAR0J6YAAAAAAAAAAVQ1NLCrOwerbaNltPWHslYXKuUTJ5_wfgJsuFcmx83o')\n",
    "\n",
    "data = {}\n",
    "for entry in dbx.files_list_folder('').entries:\n",
    "    response = dbx.files_download('/{}'.format(entry.name))\n",
    "    \n",
    "    if 'zip' in entry.name:\n",
    "        content = extract_zip(response[1].content)\n",
    "    \n",
    "        for file in content:\n",
    "            df = pd.read_csv(file[1])\n",
    "            data[entry.name.replace('.csv.zip', '')] = df\n",
    "            \n"
   ]
  },
  {
   "cell_type": "code",
   "execution_count": 4,
   "metadata": {
    "ExecuteTime": {
     "end_time": "2021-05-11T19:11:33.925425Z",
     "start_time": "2021-05-11T19:08:56.659042Z"
    }
   },
   "outputs": [
    {
     "name": "stderr",
     "output_type": "stream",
     "text": [
      "/Users/eyobmanhardt/Desktop/applied_ml_final_project/project-home-credit/utils/data_extract_utils.py:90: SettingWithCopyWarning: \n",
      "A value is trying to be set on a copy of a slice from a DataFrame.\n",
      "Try using .loc[row_indexer,col_indexer] = value instead\n",
      "\n",
      "See the caveats in the documentation: https://pandas.pydata.org/pandas-docs/stable/user_guide/indexing.html#returning-a-view-versus-a-copy\n",
      "  full_trimmed['SK_DPD_SUM'] = dpd_counts_sum['SK_DPD']\n",
      "/Users/eyobmanhardt/Desktop/applied_ml_final_project/project-home-credit/utils/data_extract_utils.py:91: SettingWithCopyWarning: \n",
      "A value is trying to be set on a copy of a slice from a DataFrame.\n",
      "Try using .loc[row_indexer,col_indexer] = value instead\n",
      "\n",
      "See the caveats in the documentation: https://pandas.pydata.org/pandas-docs/stable/user_guide/indexing.html#returning-a-view-versus-a-copy\n",
      "  full_trimmed['SK_DPD_DEF_SUM'] = dpd_df_counts_sum['SK_DPD_DEF']\n"
     ]
    },
    {
     "name": "stdout",
     "output_type": "stream",
     "text": [
      "index column removed\n"
     ]
    },
    {
     "data": {
      "text/plain": [
       "(356254, 104)"
      ]
     },
     "execution_count": 4,
     "metadata": {},
     "output_type": "execute_result"
    }
   ],
   "source": [
    "main_df = join_tables(data)\n",
    "main_df.shape"
   ]
  },
  {
   "cell_type": "code",
   "execution_count": 5,
   "metadata": {
    "ExecuteTime": {
     "end_time": "2021-05-11T19:11:41.436745Z",
     "start_time": "2021-05-11T19:11:40.141096Z"
    }
   },
   "outputs": [],
   "source": [
    "X, y = (main_df.loc[(main_df['TARGET'].notnull()) & (main_df['SK_ID_CURR'].notnull()), :].drop(columns=['TARGET', 'SK_ID_CURR'], axis=1), \n",
    "        main_df.loc[(main_df['TARGET'].notnull()) & (main_df['SK_ID_CURR'].notnull()), 'TARGET'])\n",
    "\n",
    "# test set for kaggle\n",
    "test_ids = main_df.loc[(main_df['TARGET'].isnull()) & (main_df['SK_ID_CURR'].notnull()), 'SK_ID_CURR']\n",
    "X_test = main_df.loc[(main_df['TARGET'].isnull()) & (main_df['SK_ID_CURR'].notnull()), :].drop(columns=['TARGET', 'SK_ID_CURR'], axis=1)"
   ]
  },
  {
   "cell_type": "code",
   "execution_count": 6,
   "metadata": {
    "ExecuteTime": {
     "end_time": "2021-05-11T19:20:33.991612Z",
     "start_time": "2021-05-11T19:20:33.983318Z"
    }
   },
   "outputs": [
    {
     "data": {
      "text/plain": [
       "((307505, 102), (307505,))"
      ]
     },
     "execution_count": 6,
     "metadata": {},
     "output_type": "execute_result"
    }
   ],
   "source": [
    "X.shape, y.shape"
   ]
  },
  {
   "cell_type": "code",
   "execution_count": 7,
   "metadata": {
    "ExecuteTime": {
     "end_time": "2021-05-11T19:20:39.849037Z",
     "start_time": "2021-05-11T19:20:39.839662Z"
    }
   },
   "outputs": [
    {
     "data": {
      "text/plain": [
       "((48744,), (48744, 102))"
      ]
     },
     "execution_count": 7,
     "metadata": {},
     "output_type": "execute_result"
    }
   ],
   "source": [
    "test_ids.shape, X_test.shape"
   ]
  },
  {
   "cell_type": "code",
   "execution_count": 8,
   "metadata": {
    "ExecuteTime": {
     "end_time": "2021-05-11T19:20:45.775028Z",
     "start_time": "2021-05-11T19:20:45.067691Z"
    }
   },
   "outputs": [
    {
     "data": {
      "text/plain": [
       "(9, 93)"
      ]
     },
     "execution_count": 8,
     "metadata": {},
     "output_type": "execute_result"
    }
   ],
   "source": [
    "cat_cols = list(X.select_dtypes(include=object).columns)\n",
    "num_cols = list(X.select_dtypes(include=[int, float]).columns)\n",
    "len(cat_cols),len(num_cols)"
   ]
  },
  {
   "cell_type": "code",
   "execution_count": 9,
   "metadata": {
    "ExecuteTime": {
     "end_time": "2021-05-11T19:20:50.248986Z",
     "start_time": "2021-05-11T19:20:50.238109Z"
    }
   },
   "outputs": [],
   "source": [
    "## pipelines\n",
    "\n",
    "# one hot encoding \n",
    "categorical_pipe = Pipeline(steps=[\n",
    "    ('cat_imp', SimpleImputer(strategy='most_frequent', add_indicator=False)),\n",
    "  ('one_hot_encoder', OneHotEncoder(sparse=False, handle_unknown='ignore'))\n",
    "])\n",
    "\n",
    "# numerical \n",
    "numerical_pipe = Pipeline(steps=[\n",
    "    ('num_imp', SimpleImputer(strategy='median', add_indicator=False)),\n",
    "    (\"scale\", StandardScaler())  \n",
    "])\n",
    "\n",
    "\n",
    "# transform columns \n",
    "column_transformer = ColumnTransformer(transformers=[    \n",
    "    ('num_pip', numerical_pipe, num_cols),\n",
    "    ('cat_pipe', categorical_pipe, cat_cols)\n",
    "])"
   ]
  },
  {
   "cell_type": "code",
   "execution_count": 10,
   "metadata": {
    "ExecuteTime": {
     "end_time": "2021-05-11T09:29:02.910654Z",
     "start_time": "2021-05-11T09:28:55.380871Z"
    }
   },
   "outputs": [],
   "source": [
    "# apply preprocessing to X\n",
    "X_trans = column_transformer.fit_transform(X)"
   ]
  },
  {
   "cell_type": "code",
   "execution_count": 14,
   "metadata": {
    "ExecuteTime": {
     "end_time": "2021-05-11T16:03:12.422206Z",
     "start_time": "2021-05-11T16:00:27.945633Z"
    }
   },
   "outputs": [
    {
     "name": "stdout",
     "output_type": "stream",
     "text": [
      "classifaction report on training set\n",
      "              precision    recall  f1-score   support\n",
      "\n",
      "           0       0.71      0.70      0.70    226144\n",
      "           1       0.70      0.71      0.71    226144\n",
      "\n",
      "    accuracy                           0.71    452288\n",
      "   macro avg       0.71      0.71      0.71    452288\n",
      "weighted avg       0.71      0.71      0.71    452288\n",
      "\n",
      "--------------------------------------------------------------\n",
      "classifaction report on validation set\n",
      "              precision    recall  f1-score   support\n",
      "\n",
      "           0       0.71      0.70      0.71     56536\n",
      "           1       0.70      0.71      0.71     56536\n",
      "\n",
      "    accuracy                           0.71    113072\n",
      "   macro avg       0.71      0.71      0.71    113072\n",
      "weighted avg       0.71      0.71      0.71    113072\n",
      "\n"
     ]
    }
   ],
   "source": [
    "# smote sampling\n",
    "smote = SMOTE(sampling_strategy='minority')\n",
    "X_sm, y_sm = smote.fit_resample(X_trans,y)\n",
    "\n",
    "X_train, X_val, y_train, y_val = train_test_split(X_sm, y_sm, test_size=0.2, random_state= 42, stratify=y_sm)\n",
    "logreg= LogisticRegression(solver='lbfgs', random_state=42,max_iter=1000)\n",
    "logreg.fit(X_train, y_train)\n",
    "y_pred_train = logreg.predict(X_train)\n",
    "y_pred_val = logreg.predict(X_val)\n",
    "print('classifaction report on training set')\n",
    "print(classification_report(y_train, y_pred_train, labels=[0,1]))\n",
    "print('--------------------------------------------------------------')\n",
    "print('classifaction report on validation set')\n",
    "print(classification_report(y_val, y_pred_val, labels=[0,1]))"
   ]
  },
  {
   "cell_type": "code",
   "execution_count": 15,
   "metadata": {
    "ExecuteTime": {
     "end_time": "2021-05-11T16:04:46.263113Z",
     "start_time": "2021-05-11T16:04:46.037613Z"
    }
   },
   "outputs": [],
   "source": [
    "from sklearn.metrics import plot_roc_curve"
   ]
  },
  {
   "cell_type": "code",
   "execution_count": 16,
   "metadata": {
    "ExecuteTime": {
     "end_time": "2021-05-11T16:06:48.787835Z",
     "start_time": "2021-05-11T16:06:14.446408Z"
    }
   },
   "outputs": [
    {
     "data": {
      "image/png": "[encoded data removed]",
      "text/plain": [
       "<Figure size 432x288 with 1 Axes>"
      ]
     },
     "metadata": {
      "needs_background": "light"
     },
     "output_type": "display_data"
    }
   ],
   "source": [
    "plot_roc_curve(logreg, X_val, y_val,)\n",
    "plt.show()"
   ]
  },
  {
   "cell_type": "code",
   "execution_count": null,
   "metadata": {},
   "outputs": [],
   "source": []
  },
  {
   "cell_type": "code",
   "execution_count": 12,
   "metadata": {
    "ExecuteTime": {
     "end_time": "2021-05-11T09:31:21.335866Z",
     "start_time": "2021-05-11T09:31:19.599845Z"
    }
   },
   "outputs": [
    {
     "data": {
      "text/html": [
       "<div>\n",
       "<style scoped>\n",
       "    .dataframe tbody tr th:only-of-type {\n",
       "        vertical-align: middle;\n",
       "    }\n",
       "\n",
       "    .dataframe tbody tr th {\n",
       "        vertical-align: top;\n",
       "    }\n",
       "\n",
       "    .dataframe thead th {\n",
       "        text-align: right;\n",
       "    }\n",
       "</style>\n",
       "<table border=\"1\" class=\"dataframe\">\n",
       "  <thead>\n",
       "    <tr style=\"text-align: right;\">\n",
       "      <th></th>\n",
       "      <th>SK_ID_CURR</th>\n",
       "      <th>TARGET</th>\n",
       "    </tr>\n",
       "  </thead>\n",
       "  <tbody>\n",
       "    <tr>\n",
       "      <th>0</th>\n",
       "      <td>100001</td>\n",
       "      <td>0.485330</td>\n",
       "    </tr>\n",
       "    <tr>\n",
       "      <th>4</th>\n",
       "      <td>100005</td>\n",
       "      <td>0.738758</td>\n",
       "    </tr>\n",
       "    <tr>\n",
       "      <th>12</th>\n",
       "      <td>100013</td>\n",
       "      <td>0.220487</td>\n",
       "    </tr>\n",
       "    <tr>\n",
       "      <th>27</th>\n",
       "      <td>100028</td>\n",
       "      <td>0.186892</td>\n",
       "    </tr>\n",
       "    <tr>\n",
       "      <th>37</th>\n",
       "      <td>100038</td>\n",
       "      <td>0.667689</td>\n",
       "    </tr>\n",
       "  </tbody>\n",
       "</table>\n",
       "</div>"
      ],
      "text/plain": [
       "    SK_ID_CURR    TARGET\n",
       "0       100001  0.485330\n",
       "4       100005  0.738758\n",
       "12      100013  0.220487\n",
       "27      100028  0.186892\n",
       "37      100038  0.667689"
      ]
     },
     "execution_count": 12,
     "metadata": {},
     "output_type": "execute_result"
    }
   ],
   "source": [
    "X_test_trans = column_transformer.transform(X_test)\n",
    "logreg_test_pred = logreg.predict_proba(X_test_trans )[:,1]\n",
    "\n",
    "submission6_dict = {'SK_ID_CURR': test_ids, \n",
    "            'TARGET': logreg_test_pred }\n",
    "logreg_submission6 = pd.DataFrame(submission6_dict)\n",
    "logreg_submission6.head()"
   ]
  },
  {
   "cell_type": "code",
   "execution_count": 13,
   "metadata": {
    "ExecuteTime": {
     "end_time": "2021-05-11T09:53:18.736836Z",
     "start_time": "2021-05-11T09:53:17.170819Z"
    }
   },
   "outputs": [],
   "source": [
    "#logreg_submission6.to_csv('submission6.csv', index=False) # 74.36%"
   ]
  },
  {
   "cell_type": "code",
   "execution_count": null,
   "metadata": {},
   "outputs": [],
   "source": [
    "Best Hyperparameters: {'solver': 'lbfgs', 'penalty': 'l2', 'C': 0.0007212256683896816}"
   ]
  },
  {
   "cell_type": "code",
   "execution_count": 11,
   "metadata": {
    "ExecuteTime": {
     "end_time": "2021-05-11T19:23:35.614978Z",
     "start_time": "2021-05-11T19:23:35.599830Z"
    }
   },
   "outputs": [],
   "source": [
    "logreg=LogisticRegression(solver = 'lbfgs', penalty = 'l2', \n",
    "                          C = 0.0007212256683896816, max_iter = 1000,\n",
    "                         random_state=42)"
   ]
  },
  {
   "cell_type": "code",
   "execution_count": 12,
   "metadata": {
    "ExecuteTime": {
     "end_time": "2021-05-11T19:24:37.623066Z",
     "start_time": "2021-05-11T19:24:02.094162Z"
    }
   },
   "outputs": [],
   "source": [
    "X_trans = column_transformer.fit_transform(X)\n",
    "X_test_trans = column_transformer.transform(X_test)\n",
    "\n",
    "# smote sampling\n",
    "smote = SMOTE(sampling_strategy='minority')\n",
    "X_sm, y_sm = smote.fit_resample(X_trans, y)\n",
    "\n",
    "X_train, X_val, y_train, y_val = train_test_split(X_sm, y_sm, test_size=0.2, random_state= 42, stratify=y_sm)"
   ]
  },
  {
   "cell_type": "code",
   "execution_count": 14,
   "metadata": {
    "ExecuteTime": {
     "end_time": "2021-05-11T19:26:02.168899Z",
     "start_time": "2021-05-11T19:25:49.457328Z"
    }
   },
   "outputs": [
    {
     "name": "stdout",
     "output_type": "stream",
     "text": [
      "--------------------------------------------------------------\n",
      "classifaction report on validation set\n",
      "              precision    recall  f1-score   support\n",
      "\n",
      "           0       0.70      0.70      0.70     56536\n",
      "           1       0.70      0.71      0.70     56536\n",
      "\n",
      "    accuracy                           0.70    113072\n",
      "   macro avg       0.70      0.70      0.70    113072\n",
      "weighted avg       0.70      0.70      0.70    113072\n",
      "\n"
     ]
    }
   ],
   "source": [
    "logreg.fit(X_train, y_train)\n",
    "print('--------------------------------------------------------------')\n",
    "y_pred_val = logreg.predict(X_val)\n",
    "print('classifaction report on validation set')\n",
    "print(classification_report(y_val, y_pred_val, labels=[0,1]))"
   ]
  },
  {
   "cell_type": "code",
   "execution_count": 15,
   "metadata": {
    "ExecuteTime": {
     "end_time": "2021-05-11T19:27:09.894450Z",
     "start_time": "2021-05-11T19:27:08.631552Z"
    }
   },
   "outputs": [
    {
     "data": {
      "image/png": "[encoded data removed]",
      "text/plain": [
       "<Figure size 432x288 with 1 Axes>"
      ]
     },
     "metadata": {
      "needs_background": "light"
     },
     "output_type": "display_data"
    }
   ],
   "source": [
    "from sklearn.metrics import plot_roc_curve\n",
    "plot_roc_curve(logreg, X_val, y_val,)\n",
    "plt.show()"
   ]
  },
  {
   "cell_type": "code",
   "execution_count": 16,
   "metadata": {
    "ExecuteTime": {
     "end_time": "2021-05-11T19:28:08.923086Z",
     "start_time": "2021-05-11T19:28:08.738478Z"
    }
   },
   "outputs": [
    {
     "data": {
      "text/html": [
       "<div>\n",
       "<style scoped>\n",
       "    .dataframe tbody tr th:only-of-type {\n",
       "        vertical-align: middle;\n",
       "    }\n",
       "\n",
       "    .dataframe tbody tr th {\n",
       "        vertical-align: top;\n",
       "    }\n",
       "\n",
       "    .dataframe thead th {\n",
       "        text-align: right;\n",
       "    }\n",
       "</style>\n",
       "<table border=\"1\" class=\"dataframe\">\n",
       "  <thead>\n",
       "    <tr style=\"text-align: right;\">\n",
       "      <th></th>\n",
       "      <th>SK_ID_CURR</th>\n",
       "      <th>TARGET</th>\n",
       "    </tr>\n",
       "  </thead>\n",
       "  <tbody>\n",
       "    <tr>\n",
       "      <th>0</th>\n",
       "      <td>100001</td>\n",
       "      <td>0.472095</td>\n",
       "    </tr>\n",
       "    <tr>\n",
       "      <th>4</th>\n",
       "      <td>100005</td>\n",
       "      <td>0.718468</td>\n",
       "    </tr>\n",
       "    <tr>\n",
       "      <th>12</th>\n",
       "      <td>100013</td>\n",
       "      <td>0.237753</td>\n",
       "    </tr>\n",
       "    <tr>\n",
       "      <th>27</th>\n",
       "      <td>100028</td>\n",
       "      <td>0.229969</td>\n",
       "    </tr>\n",
       "    <tr>\n",
       "      <th>37</th>\n",
       "      <td>100038</td>\n",
       "      <td>0.682162</td>\n",
       "    </tr>\n",
       "  </tbody>\n",
       "</table>\n",
       "</div>"
      ],
      "text/plain": [
       "    SK_ID_CURR    TARGET\n",
       "0       100001  0.472095\n",
       "4       100005  0.718468\n",
       "12      100013  0.237753\n",
       "27      100028  0.229969\n",
       "37      100038  0.682162"
      ]
     },
     "execution_count": 16,
     "metadata": {},
     "output_type": "execute_result"
    }
   ],
   "source": [
    "logreg_test_pred = logreg.predict_proba(X_test_trans )[:,1]\n",
    "\n",
    "submission7_dict = {'SK_ID_CURR': test_ids, \n",
    "            'TARGET': logreg_test_pred }\n",
    "logreg_submission7 = pd.DataFrame(submission7_dict)\n",
    "logreg_submission7.head()"
   ]
  },
  {
   "cell_type": "code",
   "execution_count": 17,
   "metadata": {
    "ExecuteTime": {
     "end_time": "2021-05-11T19:29:18.146907Z",
     "start_time": "2021-05-11T19:29:17.808413Z"
    }
   },
   "outputs": [],
   "source": [
    "logreg_submission7.to_csv('submission7.csv', index=False)"
   ]
  },
  {
   "cell_type": "code",
   "execution_count": 18,
   "metadata": {
    "ExecuteTime": {
     "end_time": "2021-05-11T19:53:46.747995Z",
     "start_time": "2021-05-11T19:53:46.735469Z"
    }
   },
   "outputs": [
    {
     "data": {
      "text/plain": [
       "(48744, 140)"
      ]
     },
     "execution_count": 18,
     "metadata": {},
     "output_type": "execute_result"
    }
   ],
   "source": [
    "X_test_trans.shape"
   ]
  },
  {
   "cell_type": "code",
   "execution_count": null,
   "metadata": {},
   "outputs": [],
   "source": []
  },
  {
   "cell_type": "code",
   "execution_count": null,
   "metadata": {},
   "outputs": [],
   "source": []
  },
  {
   "cell_type": "code",
   "execution_count": null,
   "metadata": {},
   "outputs": [],
   "source": []
  },
  {
   "cell_type": "code",
   "execution_count": null,
   "metadata": {},
   "outputs": [],
   "source": []
  },
  {
   "cell_type": "code",
   "execution_count": null,
   "metadata": {},
   "outputs": [],
   "source": []
  },
  {
   "cell_type": "code",
   "execution_count": 10,
   "metadata": {
    "ExecuteTime": {
     "end_time": "2021-05-11T17:37:12.747884Z",
     "start_time": "2021-05-11T17:37:12.742949Z"
    }
   },
   "outputs": [],
   "source": [
    "from sklearn.model_selection import GridSearchCV"
   ]
  },
  {
   "cell_type": "code",
   "execution_count": 11,
   "metadata": {
    "ExecuteTime": {
     "end_time": "2021-05-11T17:38:01.214678Z",
     "start_time": "2021-05-11T17:37:27.526566Z"
    }
   },
   "outputs": [],
   "source": [
    "# apply preprocessing to X\n",
    "X_trans = column_transformer.fit_transform(X)\n",
    "X_test_trans = column_transformer.transform(X_test)\n",
    "\n",
    "# smote sampling\n",
    "smote = SMOTE(sampling_strategy='minority')\n",
    "X_sm, y_sm = smote.fit_resample(X_trans, y)\n",
    "\n",
    "X_train, X_val, y_train, y_val = train_test_split(X_sm, y_sm, test_size=0.2, random_state= 42, stratify=y_sm)"
   ]
  },
  {
   "cell_type": "code",
   "execution_count": 12,
   "metadata": {
    "ExecuteTime": {
     "end_time": "2021-05-11T17:38:17.064431Z",
     "start_time": "2021-05-11T17:38:16.877788Z"
    }
   },
   "outputs": [],
   "source": [
    "grid = [\n",
    "    {'penalty': ['l1', 'l2', 'elasticnet', 'none'],\n",
    "    'C': np.logspace(-4,4,4),\n",
    "    'solver': ['lbfs', 'newton-cg', 'liblinear', 'saga', 'sag'],\n",
    "    'max_iter': [100, 1000, 5000]\n",
    "    }\n",
    "]"
   ]
  },
  {
   "cell_type": "code",
   "execution_count": null,
   "metadata": {
    "ExecuteTime": {
     "start_time": "2021-05-11T17:38:17.777Z"
    }
   },
   "outputs": [
    {
     "name": "stdout",
     "output_type": "stream",
     "text": [
      "Fitting 2 folds for each of 240 candidates, totalling 480 fits\n"
     ]
    }
   ],
   "source": [
    "logreg=LogisticRegression()\n",
    "\n",
    "logreg_cv=GridSearchCV(logreg, param_grid= grid, \n",
    "                       cv=2, verbose= True,\n",
    "                      n_jobs=-1)\n",
    "logreg_cv.fit(X_train,y_train)\n",
    "print(\"best tuned hpyerparameters: \",logreg_cv.best_params_)\n",
    "print(\"accuracy :\",logreg_cv.best_score_)"
   ]
  },
  {
   "cell_type": "code",
   "execution_count": null,
   "metadata": {},
   "outputs": [],
   "source": []
  },
  {
   "cell_type": "code",
   "execution_count": null,
   "metadata": {
    "ExecuteTime": {
     "end_time": "2021-05-11T15:10:46.850009Z",
     "start_time": "2021-05-11T15:10:46.671696Z"
    }
   },
   "outputs": [],
   "source": []
  },
  {
   "cell_type": "code",
   "execution_count": null,
   "metadata": {
    "ExecuteTime": {
     "end_time": "2021-05-11T15:12:12.168343Z",
     "start_time": "2021-05-11T15:12:12.158872Z"
    }
   },
   "outputs": [],
   "source": []
  },
  {
   "cell_type": "code",
   "execution_count": null,
   "metadata": {},
   "outputs": [],
   "source": []
  },
  {
   "cell_type": "code",
   "execution_count": null,
   "metadata": {},
   "outputs": [],
   "source": []
  },
  {
   "cell_type": "code",
   "execution_count": null,
   "metadata": {},
   "outputs": [],
   "source": []
  },
  {
   "cell_type": "code",
   "execution_count": null,
   "metadata": {},
   "outputs": [],
   "source": []
  },
  {
   "cell_type": "code",
   "execution_count": null,
   "metadata": {},
   "outputs": [],
   "source": []
  },
  {
   "cell_type": "code",
   "execution_count": null,
   "metadata": {},
   "outputs": [],
   "source": []
  },
  {
   "cell_type": "code",
   "execution_count": null,
   "metadata": {},
   "outputs": [],
   "source": []
  },
  {
   "cell_type": "code",
   "execution_count": null,
   "metadata": {},
   "outputs": [],
   "source": []
  },
  {
   "cell_type": "code",
   "execution_count": null,
   "metadata": {},
   "outputs": [],
   "source": []
  },
  {
   "cell_type": "code",
   "execution_count": null,
   "metadata": {},
   "outputs": [],
   "source": []
  },
  {
   "cell_type": "code",
   "execution_count": null,
   "metadata": {},
   "outputs": [],
   "source": []
  },
  {
   "cell_type": "code",
   "execution_count": null,
   "metadata": {},
   "outputs": [],
   "source": []
  },
  {
   "cell_type": "code",
   "execution_count": null,
   "metadata": {},
   "outputs": [],
   "source": []
  },
  {
   "cell_type": "code",
   "execution_count": null,
   "metadata": {},
   "outputs": [],
   "source": [
    "# get column names"
   ]
  },
  {
   "cell_type": "code",
   "execution_count": 74,
   "metadata": {
    "ExecuteTime": {
     "end_time": "2021-05-11T14:20:32.306078Z",
     "start_time": "2021-05-11T14:20:31.956082Z"
    }
   },
   "outputs": [],
   "source": [
    "def join_tables_2(data):\n",
    "    # credit card table\n",
    "    cc = get_clean_credit(data['credit_card_balance'])\n",
    "    cc_agg = cc.groupby('SK_ID_CURR').agg(['min', 'max', 'mean','var'])\n",
    "    cc_agg.columns = pd.Index(list(map(lambda x: 'CC' + '_' + x[0] + '_' + x[1], list(cc_agg.columns))))\n",
    "    \n",
    "    # main aplication \n",
    "    train_test = clean_application(data)\n",
    "    train_test.set_index('SK_ID_CURR', inplace=True, drop=False)\n",
    "    \n",
    "    # burea/balance table\n",
    "    bb = extract_features_from_bureau(data['bureau'], data['bureau_balance'])\n",
    "    \n",
    "    # isntallments payments table\n",
    "    ip = extract_features_from_installments_payments(data['installments_payments'])\n",
    "    \n",
    "    # join table\n",
    "    df = pd.concat([train_test, bb, ip, cc_agg], axis=1) \n",
    "    df = df.reset_index(drop=True)\n",
    "    df['SK_ID_CURR'] = df['SK_ID_CURR'].astype('Int64')\n",
    "    df = df.loc[df['SK_ID_CURR'].notnull(), :]\n",
    "    \n",
    "    # clean memory\n",
    "    del cc\n",
    "    del cc_agg\n",
    "    del train_test\n",
    "    del bb\n",
    "    del ip\n",
    "    gc.collect()\n",
    "    \n",
    "    return df\n",
    "\n",
    "def clean(df):\n",
    "    cols = [i for i in list(df.columns) if i != 'TARGET']\n",
    "\n",
    "    before = set(list(df[cols].columns))\n",
    "\n",
    "    df_ohe = pd.get_dummies(df.loc[:, cols])\n",
    "\n",
    "    after = set(list(df_ohe.columns))\n",
    "    diff = after.difference(before)\n",
    "\n",
    "    # more cat cols\n",
    "    more_cols = [i for i in list(df_ohe.columns) if (i not in diff and df_ohe[i].nunique() < 25)]\n",
    "\n",
    "    # impute cat\n",
    "    cat_like_cols = more_cols + list(diff)\n",
    "    values = dict(map(lambda x: (x,df_ohe.loc[:, x].mode()[0]), cat_like_cols))\n",
    "    df_ohe.fillna(value=values, inplace=True)\n",
    "\n",
    "    # impute num\n",
    "    num_like_cols = [i for i in list(df_ohe.columns) if i not in cat_like_cols + ['TARGET', 'SK_ID_CURR']]\n",
    "    val = dict(map(lambda x: (x,df_ohe.loc[:, x].median()), num_like_cols))\n",
    "    df_ohe.fillna(value=val, inplace=True)\n",
    "    \n",
    "    return df_ohe, num_like_cols, cat_like_cols\n"
   ]
  },
  {
   "cell_type": "code",
   "execution_count": 65,
   "metadata": {
    "ExecuteTime": {
     "end_time": "2021-05-11T13:59:05.936076Z",
     "start_time": "2021-05-11T13:59:05.567713Z"
    }
   },
   "outputs": [],
   "source": [
    "# pipeline\n",
    "\n",
    "pipe = Pipeline(steps=[\n",
    "    ('scale', StandardScaler()),\n",
    "    ('logreg', LogisticRegression(solver='lbfgs', random_state=42,max_iter=1000), )\n",
    "])"
   ]
  },
  {
   "cell_type": "code",
   "execution_count": 67,
   "metadata": {
    "ExecuteTime": {
     "end_time": "2021-05-11T14:05:01.258207Z",
     "start_time": "2021-05-11T14:00:50.720206Z"
    }
   },
   "outputs": [
    {
     "name": "stderr",
     "output_type": "stream",
     "text": [
      "/Users/eyobmanhardt/Desktop/applied_ml_final_project/project-home-credit/utils/data_extract_utils.py:90: SettingWithCopyWarning: \n",
      "A value is trying to be set on a copy of a slice from a DataFrame.\n",
      "Try using .loc[row_indexer,col_indexer] = value instead\n",
      "\n",
      "See the caveats in the documentation: https://pandas.pydata.org/pandas-docs/stable/user_guide/indexing.html#returning-a-view-versus-a-copy\n",
      "  full_trimmed['SK_DPD_SUM'] = dpd_counts_sum['SK_DPD']\n",
      "/Users/eyobmanhardt/Desktop/applied_ml_final_project/project-home-credit/utils/data_extract_utils.py:91: SettingWithCopyWarning: \n",
      "A value is trying to be set on a copy of a slice from a DataFrame.\n",
      "Try using .loc[row_indexer,col_indexer] = value instead\n",
      "\n",
      "See the caveats in the documentation: https://pandas.pydata.org/pandas-docs/stable/user_guide/indexing.html#returning-a-view-versus-a-copy\n",
      "  full_trimmed['SK_DPD_DEF_SUM'] = dpd_df_counts_sum['SK_DPD_DEF']\n"
     ]
    },
    {
     "name": "stdout",
     "output_type": "stream",
     "text": [
      "index column removed\n"
     ]
    }
   ],
   "source": [
    "final_df = join_tables_2(data)"
   ]
  },
  {
   "cell_type": "code",
   "execution_count": null,
   "metadata": {},
   "outputs": [],
   "source": [
    "y = final_df.loc[final_df['TARGET'].notnull(), 'TARGET']"
   ]
  },
  {
   "cell_type": "code",
   "execution_count": 70,
   "metadata": {
    "ExecuteTime": {
     "end_time": "2021-05-11T14:16:41.137977Z",
     "start_time": "2021-05-11T14:16:41.121842Z"
    }
   },
   "outputs": [
    {
     "data": {
      "text/plain": [
       "((307505,), (356249, 104))"
      ]
     },
     "execution_count": 70,
     "metadata": {},
     "output_type": "execute_result"
    }
   ],
   "source": [
    "y.shape, final_df.shape"
   ]
  },
  {
   "cell_type": "code",
   "execution_count": 75,
   "metadata": {
    "ExecuteTime": {
     "end_time": "2021-05-11T14:20:53.992170Z",
     "start_time": "2021-05-11T14:20:51.421332Z"
    }
   },
   "outputs": [],
   "source": [
    "final_df_clean, num_like_cols, cat_like_cols = clean(final_df)"
   ]
  },
  {
   "cell_type": "code",
   "execution_count": 77,
   "metadata": {
    "ExecuteTime": {
     "end_time": "2021-05-11T14:22:33.131809Z",
     "start_time": "2021-05-11T14:22:32.499333Z"
    }
   },
   "outputs": [],
   "source": [
    "X = final_df_clean.loc[final_df['TARGET'].notnull(), :].drop(columns=['SK_ID_CURR'], axis=1)\n",
    "       \n",
    "\n",
    "# test set for kaggle\n",
    "test_ids = final_df_clean.loc[final_df['TARGET'].isnull(), 'SK_ID_CURR']\n",
    "X_test = final_df_clean.loc[final_df['TARGET'].isnull(), :].drop(columns=['SK_ID_CURR'], axis=1)"
   ]
  },
  {
   "cell_type": "code",
   "execution_count": 78,
   "metadata": {
    "ExecuteTime": {
     "end_time": "2021-05-11T14:23:01.049025Z",
     "start_time": "2021-05-11T14:23:01.038762Z"
    }
   },
   "outputs": [
    {
     "data": {
      "text/plain": [
       "((307505, 140), (48744, 140), (48744,))"
      ]
     },
     "execution_count": 78,
     "metadata": {},
     "output_type": "execute_result"
    }
   ],
   "source": [
    "X.shape, X_test.shape, test_ids.shape "
   ]
  },
  {
   "cell_type": "code",
   "execution_count": 80,
   "metadata": {
    "ExecuteTime": {
     "end_time": "2021-05-11T14:26:28.198394Z",
     "start_time": "2021-05-11T14:26:02.127452Z"
    }
   },
   "outputs": [],
   "source": [
    "# smote sampling\n",
    "smote = SMOTE(sampling_strategy='minority')\n",
    "X_sm, y_sm = smote.fit_resample(X, y)\n",
    "\n",
    "# X_train, X_val, y_train, y_val = train_test_split(X_sm, y_sm, test_size=0.2, random_state= 42, stratify=y_sm)"
   ]
  },
  {
   "cell_type": "code",
   "execution_count": 81,
   "metadata": {
    "ExecuteTime": {
     "end_time": "2021-05-11T14:30:36.707128Z",
     "start_time": "2021-05-11T14:29:23.847805Z"
    }
   },
   "outputs": [
    {
     "data": {
      "text/plain": [
       "Pipeline(steps=[('scale', StandardScaler()),\n",
       "                ('logreg', LogisticRegression(max_iter=1000, random_state=42))])"
      ]
     },
     "execution_count": 81,
     "metadata": {},
     "output_type": "execute_result"
    }
   ],
   "source": [
    "X_train, X_val, y_train, y_val = train_test_split(X_sm, y_sm, test_size=0.2, random_state= 42, stratify=y_sm)\n",
    "pipe.fit(X_train, y_train)"
   ]
  },
  {
   "cell_type": "code",
   "execution_count": null,
   "metadata": {},
   "outputs": [],
   "source": []
  },
  {
   "cell_type": "code",
   "execution_count": 87,
   "metadata": {
    "ExecuteTime": {
     "end_time": "2021-05-11T14:35:28.482026Z",
     "start_time": "2021-05-11T14:35:28.450593Z"
    }
   },
   "outputs": [],
   "source": [
    "feature_importance = pipe.named_steps['logreg'].coef_.T.reshape((140,))"
   ]
  },
  {
   "cell_type": "code",
   "execution_count": 88,
   "metadata": {
    "ExecuteTime": {
     "end_time": "2021-05-11T14:35:51.233503Z",
     "start_time": "2021-05-11T14:35:51.227276Z"
    }
   },
   "outputs": [
    {
     "data": {
      "text/plain": [
       "(140,)"
      ]
     },
     "execution_count": 88,
     "metadata": {},
     "output_type": "execute_result"
    }
   ],
   "source": [
    "feature_importance.shape"
   ]
  },
  {
   "cell_type": "code",
   "execution_count": 89,
   "metadata": {
    "ExecuteTime": {
     "end_time": "2021-05-11T14:37:15.273427Z",
     "start_time": "2021-05-11T14:37:09.777831Z"
    }
   },
   "outputs": [
    {
     "name": "stdout",
     "output_type": "stream",
     "text": [
      "classifaction report on training set\n",
      "              precision    recall  f1-score   support\n",
      "\n",
      "           0       0.92      1.00      0.96    226144\n",
      "           1       1.00      0.91      0.95    226144\n",
      "\n",
      "    accuracy                           0.95    452288\n",
      "   macro avg       0.96      0.95      0.95    452288\n",
      "weighted avg       0.96      0.95      0.95    452288\n",
      "\n",
      "--------------------------------------------------------------\n",
      "classifaction report on validation set\n",
      "              precision    recall  f1-score   support\n",
      "\n",
      "           0       0.92      1.00      0.96     56536\n",
      "           1       1.00      0.91      0.95     56536\n",
      "\n",
      "    accuracy                           0.95    113072\n",
      "   macro avg       0.96      0.95      0.95    113072\n",
      "weighted avg       0.96      0.95      0.95    113072\n",
      "\n"
     ]
    }
   ],
   "source": [
    "y_pred_train = pipe.predict(X_train)\n",
    "y_pred_val = pipe.predict(X_val)\n",
    "print('classifaction report on training set')\n",
    "print(classification_report(y_train, y_pred_train, labels=[0,1]))\n",
    "print('--------------------------------------------------------------')\n",
    "print('classifaction report on validation set')\n",
    "print(classification_report(y_val, y_pred_val, labels=[0,1]))"
   ]
  },
  {
   "cell_type": "code",
   "execution_count": 90,
   "metadata": {
    "ExecuteTime": {
     "end_time": "2021-05-11T14:52:14.964295Z",
     "start_time": "2021-05-11T14:52:14.023142Z"
    }
   },
   "outputs": [
    {
     "data": {
      "text/html": [
       "<div>\n",
       "<style scoped>\n",
       "    .dataframe tbody tr th:only-of-type {\n",
       "        vertical-align: middle;\n",
       "    }\n",
       "\n",
       "    .dataframe tbody tr th {\n",
       "        vertical-align: top;\n",
       "    }\n",
       "\n",
       "    .dataframe thead th {\n",
       "        text-align: right;\n",
       "    }\n",
       "</style>\n",
       "<table border=\"1\" class=\"dataframe\">\n",
       "  <thead>\n",
       "    <tr style=\"text-align: right;\">\n",
       "      <th></th>\n",
       "      <th>SK_ID_CURR</th>\n",
       "      <th>TARGET</th>\n",
       "    </tr>\n",
       "  </thead>\n",
       "  <tbody>\n",
       "    <tr>\n",
       "      <th>0</th>\n",
       "      <td>100001</td>\n",
       "      <td>0.071279</td>\n",
       "    </tr>\n",
       "    <tr>\n",
       "      <th>4</th>\n",
       "      <td>100005</td>\n",
       "      <td>0.153105</td>\n",
       "    </tr>\n",
       "    <tr>\n",
       "      <th>12</th>\n",
       "      <td>100013</td>\n",
       "      <td>0.139751</td>\n",
       "    </tr>\n",
       "    <tr>\n",
       "      <th>27</th>\n",
       "      <td>100028</td>\n",
       "      <td>0.019854</td>\n",
       "    </tr>\n",
       "    <tr>\n",
       "      <th>37</th>\n",
       "      <td>100038</td>\n",
       "      <td>0.145650</td>\n",
       "    </tr>\n",
       "  </tbody>\n",
       "</table>\n",
       "</div>"
      ],
      "text/plain": [
       "    SK_ID_CURR    TARGET\n",
       "0       100001  0.071279\n",
       "4       100005  0.153105\n",
       "12      100013  0.139751\n",
       "27      100028  0.019854\n",
       "37      100038  0.145650"
      ]
     },
     "execution_count": 90,
     "metadata": {},
     "output_type": "execute_result"
    }
   ],
   "source": [
    "logreg_test_pred = pipe.predict_proba(X_test)[:,1]\n",
    "\n",
    "submission7_dict = {'SK_ID_CURR': test_ids, \n",
    "            'TARGET': logreg_test_pred }\n",
    "logreg_submission7 = pd.DataFrame(submission7_dict)\n",
    "logreg_submission7.head()"
   ]
  },
  {
   "cell_type": "code",
   "execution_count": 91,
   "metadata": {
    "ExecuteTime": {
     "end_time": "2021-05-11T14:52:54.047466Z",
     "start_time": "2021-05-11T14:52:54.037921Z"
    }
   },
   "outputs": [
    {
     "data": {
      "text/plain": [
       "(307505, 140)"
      ]
     },
     "execution_count": 91,
     "metadata": {},
     "output_type": "execute_result"
    }
   ],
   "source": [
    "X.shape"
   ]
  },
  {
   "cell_type": "code",
   "execution_count": null,
   "metadata": {},
   "outputs": [],
   "source": []
  },
  {
   "cell_type": "code",
   "execution_count": null,
   "metadata": {},
   "outputs": [],
   "source": []
  },
  {
   "cell_type": "code",
   "execution_count": null,
   "metadata": {},
   "outputs": [],
   "source": []
  },
  {
   "cell_type": "code",
   "execution_count": null,
   "metadata": {},
   "outputs": [],
   "source": []
  },
  {
   "cell_type": "code",
   "execution_count": null,
   "metadata": {},
   "outputs": [],
   "source": []
  },
  {
   "cell_type": "code",
   "execution_count": null,
   "metadata": {},
   "outputs": [],
   "source": []
  },
  {
   "cell_type": "code",
   "execution_count": null,
   "metadata": {},
   "outputs": [],
   "source": []
  },
  {
   "cell_type": "code",
   "execution_count": null,
   "metadata": {},
   "outputs": [],
   "source": []
  },
  {
   "cell_type": "code",
   "execution_count": null,
   "metadata": {},
   "outputs": [],
   "source": []
  },
  {
   "cell_type": "code",
   "execution_count": null,
   "metadata": {},
   "outputs": [],
   "source": []
  },
  {
   "cell_type": "code",
   "execution_count": null,
   "metadata": {},
   "outputs": [],
   "source": []
  },
  {
   "cell_type": "code",
   "execution_count": null,
   "metadata": {},
   "outputs": [],
   "source": []
  },
  {
   "cell_type": "code",
   "execution_count": null,
   "metadata": {},
   "outputs": [],
   "source": []
  },
  {
   "cell_type": "code",
   "execution_count": null,
   "metadata": {},
   "outputs": [],
   "source": []
  },
  {
   "cell_type": "code",
   "execution_count": null,
   "metadata": {},
   "outputs": [],
   "source": []
  },
  {
   "cell_type": "code",
   "execution_count": null,
   "metadata": {},
   "outputs": [],
   "source": []
  },
  {
   "cell_type": "code",
   "execution_count": null,
   "metadata": {},
   "outputs": [],
   "source": []
  },
  {
   "cell_type": "code",
   "execution_count": null,
   "metadata": {},
   "outputs": [],
   "source": []
  },
  {
   "cell_type": "code",
   "execution_count": null,
   "metadata": {},
   "outputs": [],
   "source": []
  },
  {
   "cell_type": "code",
   "execution_count": 30,
   "metadata": {
    "ExecuteTime": {
     "end_time": "2021-05-11T11:38:50.876320Z",
     "start_time": "2021-05-11T11:34:54.861212Z"
    },
    "scrolled": true
   },
   "outputs": [
    {
     "name": "stderr",
     "output_type": "stream",
     "text": [
      "/Users/eyobmanhardt/Desktop/applied_ml_final_project/project-home-credit/utils/data_extract_utils.py:90: SettingWithCopyWarning: \n",
      "A value is trying to be set on a copy of a slice from a DataFrame.\n",
      "Try using .loc[row_indexer,col_indexer] = value instead\n",
      "\n",
      "See the caveats in the documentation: https://pandas.pydata.org/pandas-docs/stable/user_guide/indexing.html#returning-a-view-versus-a-copy\n",
      "  full_trimmed['SK_DPD_SUM'] = dpd_counts_sum['SK_DPD']\n",
      "/Users/eyobmanhardt/Desktop/applied_ml_final_project/project-home-credit/utils/data_extract_utils.py:91: SettingWithCopyWarning: \n",
      "A value is trying to be set on a copy of a slice from a DataFrame.\n",
      "Try using .loc[row_indexer,col_indexer] = value instead\n",
      "\n",
      "See the caveats in the documentation: https://pandas.pydata.org/pandas-docs/stable/user_guide/indexing.html#returning-a-view-versus-a-copy\n",
      "  full_trimmed['SK_DPD_DEF_SUM'] = dpd_df_counts_sum['SK_DPD_DEF']\n"
     ]
    },
    {
     "name": "stdout",
     "output_type": "stream",
     "text": [
      "index column removed\n"
     ]
    }
   ],
   "source": [
    "dd = join_tables_2(data)"
   ]
  },
  {
   "cell_type": "code",
   "execution_count": 31,
   "metadata": {
    "ExecuteTime": {
     "end_time": "2021-05-11T11:42:17.682415Z",
     "start_time": "2021-05-11T11:42:17.663060Z"
    }
   },
   "outputs": [],
   "source": [
    "cols = [i for i in list(dd.columns) if i != 'TARGET']"
   ]
  },
  {
   "cell_type": "code",
   "execution_count": 32,
   "metadata": {
    "ExecuteTime": {
     "end_time": "2021-05-11T11:43:06.172514Z",
     "start_time": "2021-05-11T11:43:01.294796Z"
    }
   },
   "outputs": [],
   "source": [
    "dont_crash = pd.get_dummies(dd.loc[:, cols])"
   ]
  },
  {
   "cell_type": "code",
   "execution_count": 33,
   "metadata": {
    "ExecuteTime": {
     "end_time": "2021-05-11T11:43:51.365133Z",
     "start_time": "2021-05-11T11:43:51.333324Z"
    }
   },
   "outputs": [
    {
     "data": {
      "text/html": [
       "<div>\n",
       "<style scoped>\n",
       "    .dataframe tbody tr th:only-of-type {\n",
       "        vertical-align: middle;\n",
       "    }\n",
       "\n",
       "    .dataframe tbody tr th {\n",
       "        vertical-align: top;\n",
       "    }\n",
       "\n",
       "    .dataframe thead th {\n",
       "        text-align: right;\n",
       "    }\n",
       "</style>\n",
       "<table border=\"1\" class=\"dataframe\">\n",
       "  <thead>\n",
       "    <tr style=\"text-align: right;\">\n",
       "      <th></th>\n",
       "      <th>SK_ID_CURR</th>\n",
       "      <th>FLAG_OWN_CAR</th>\n",
       "      <th>FLAG_OWN_REALTY</th>\n",
       "      <th>CNT_CHILDREN</th>\n",
       "      <th>AMT_INCOME_TOTAL</th>\n",
       "      <th>AMT_CREDIT</th>\n",
       "      <th>AMT_ANNUITY</th>\n",
       "      <th>AMT_GOODS_PRICE</th>\n",
       "      <th>NAME_EDUCATION_TYPE</th>\n",
       "      <th>REGION_POPULATION_RELATIVE</th>\n",
       "      <th>...</th>\n",
       "      <th>ORGANIZATION_TYPE_Business Entity Type 3</th>\n",
       "      <th>ORGANIZATION_TYPE_Construction</th>\n",
       "      <th>ORGANIZATION_TYPE_Government</th>\n",
       "      <th>ORGANIZATION_TYPE_Kindergarten</th>\n",
       "      <th>ORGANIZATION_TYPE_Medicine</th>\n",
       "      <th>ORGANIZATION_TYPE_Other</th>\n",
       "      <th>ORGANIZATION_TYPE_School</th>\n",
       "      <th>ORGANIZATION_TYPE_Self-employed</th>\n",
       "      <th>ORGANIZATION_TYPE_Trade: type 7</th>\n",
       "      <th>ORGANIZATION_TYPE_XNA</th>\n",
       "    </tr>\n",
       "  </thead>\n",
       "  <tbody>\n",
       "    <tr>\n",
       "      <th>0</th>\n",
       "      <td>100001</td>\n",
       "      <td>1.0</td>\n",
       "      <td>0.0</td>\n",
       "      <td>0.0</td>\n",
       "      <td>135000.0</td>\n",
       "      <td>568800.0</td>\n",
       "      <td>20560.5</td>\n",
       "      <td>450000.0</td>\n",
       "      <td>1.0</td>\n",
       "      <td>0.018850</td>\n",
       "      <td>...</td>\n",
       "      <td>0</td>\n",
       "      <td>0</td>\n",
       "      <td>0</td>\n",
       "      <td>1</td>\n",
       "      <td>0</td>\n",
       "      <td>0</td>\n",
       "      <td>0</td>\n",
       "      <td>0</td>\n",
       "      <td>0</td>\n",
       "      <td>0</td>\n",
       "    </tr>\n",
       "    <tr>\n",
       "      <th>1</th>\n",
       "      <td>100002</td>\n",
       "      <td>1.0</td>\n",
       "      <td>0.0</td>\n",
       "      <td>0.0</td>\n",
       "      <td>202500.0</td>\n",
       "      <td>406597.5</td>\n",
       "      <td>24700.5</td>\n",
       "      <td>351000.0</td>\n",
       "      <td>0.0</td>\n",
       "      <td>0.018801</td>\n",
       "      <td>...</td>\n",
       "      <td>1</td>\n",
       "      <td>0</td>\n",
       "      <td>0</td>\n",
       "      <td>0</td>\n",
       "      <td>0</td>\n",
       "      <td>0</td>\n",
       "      <td>0</td>\n",
       "      <td>0</td>\n",
       "      <td>0</td>\n",
       "      <td>0</td>\n",
       "    </tr>\n",
       "    <tr>\n",
       "      <th>2</th>\n",
       "      <td>100003</td>\n",
       "      <td>1.0</td>\n",
       "      <td>1.0</td>\n",
       "      <td>0.0</td>\n",
       "      <td>270000.0</td>\n",
       "      <td>1293502.5</td>\n",
       "      <td>35698.5</td>\n",
       "      <td>1129500.0</td>\n",
       "      <td>1.0</td>\n",
       "      <td>0.003541</td>\n",
       "      <td>...</td>\n",
       "      <td>0</td>\n",
       "      <td>0</td>\n",
       "      <td>0</td>\n",
       "      <td>0</td>\n",
       "      <td>0</td>\n",
       "      <td>0</td>\n",
       "      <td>1</td>\n",
       "      <td>0</td>\n",
       "      <td>0</td>\n",
       "      <td>0</td>\n",
       "    </tr>\n",
       "    <tr>\n",
       "      <th>3</th>\n",
       "      <td>100004</td>\n",
       "      <td>0.0</td>\n",
       "      <td>0.0</td>\n",
       "      <td>0.0</td>\n",
       "      <td>67500.0</td>\n",
       "      <td>135000.0</td>\n",
       "      <td>6750.0</td>\n",
       "      <td>135000.0</td>\n",
       "      <td>0.0</td>\n",
       "      <td>0.010032</td>\n",
       "      <td>...</td>\n",
       "      <td>0</td>\n",
       "      <td>0</td>\n",
       "      <td>1</td>\n",
       "      <td>0</td>\n",
       "      <td>0</td>\n",
       "      <td>0</td>\n",
       "      <td>0</td>\n",
       "      <td>0</td>\n",
       "      <td>0</td>\n",
       "      <td>0</td>\n",
       "    </tr>\n",
       "    <tr>\n",
       "      <th>4</th>\n",
       "      <td>100005</td>\n",
       "      <td>1.0</td>\n",
       "      <td>0.0</td>\n",
       "      <td>0.0</td>\n",
       "      <td>99000.0</td>\n",
       "      <td>222768.0</td>\n",
       "      <td>17370.0</td>\n",
       "      <td>180000.0</td>\n",
       "      <td>0.0</td>\n",
       "      <td>0.035792</td>\n",
       "      <td>...</td>\n",
       "      <td>0</td>\n",
       "      <td>0</td>\n",
       "      <td>0</td>\n",
       "      <td>0</td>\n",
       "      <td>0</td>\n",
       "      <td>0</td>\n",
       "      <td>0</td>\n",
       "      <td>1</td>\n",
       "      <td>0</td>\n",
       "      <td>0</td>\n",
       "    </tr>\n",
       "  </tbody>\n",
       "</table>\n",
       "<p>5 rows × 141 columns</p>\n",
       "</div>"
      ],
      "text/plain": [
       "   SK_ID_CURR  FLAG_OWN_CAR  FLAG_OWN_REALTY  CNT_CHILDREN  AMT_INCOME_TOTAL  \\\n",
       "0      100001           1.0              0.0           0.0          135000.0   \n",
       "1      100002           1.0              0.0           0.0          202500.0   \n",
       "2      100003           1.0              1.0           0.0          270000.0   \n",
       "3      100004           0.0              0.0           0.0           67500.0   \n",
       "4      100005           1.0              0.0           0.0           99000.0   \n",
       "\n",
       "   AMT_CREDIT  AMT_ANNUITY  AMT_GOODS_PRICE  NAME_EDUCATION_TYPE  \\\n",
       "0    568800.0      20560.5         450000.0                  1.0   \n",
       "1    406597.5      24700.5         351000.0                  0.0   \n",
       "2   1293502.5      35698.5        1129500.0                  1.0   \n",
       "3    135000.0       6750.0         135000.0                  0.0   \n",
       "4    222768.0      17370.0         180000.0                  0.0   \n",
       "\n",
       "   REGION_POPULATION_RELATIVE  ...  ORGANIZATION_TYPE_Business Entity Type 3  \\\n",
       "0                    0.018850  ...                                         0   \n",
       "1                    0.018801  ...                                         1   \n",
       "2                    0.003541  ...                                         0   \n",
       "3                    0.010032  ...                                         0   \n",
       "4                    0.035792  ...                                         0   \n",
       "\n",
       "   ORGANIZATION_TYPE_Construction  ORGANIZATION_TYPE_Government  \\\n",
       "0                               0                             0   \n",
       "1                               0                             0   \n",
       "2                               0                             0   \n",
       "3                               0                             1   \n",
       "4                               0                             0   \n",
       "\n",
       "   ORGANIZATION_TYPE_Kindergarten  ORGANIZATION_TYPE_Medicine  \\\n",
       "0                               1                           0   \n",
       "1                               0                           0   \n",
       "2                               0                           0   \n",
       "3                               0                           0   \n",
       "4                               0                           0   \n",
       "\n",
       "   ORGANIZATION_TYPE_Other  ORGANIZATION_TYPE_School  \\\n",
       "0                        0                         0   \n",
       "1                        0                         0   \n",
       "2                        0                         1   \n",
       "3                        0                         0   \n",
       "4                        0                         0   \n",
       "\n",
       "   ORGANIZATION_TYPE_Self-employed  ORGANIZATION_TYPE_Trade: type 7  \\\n",
       "0                                0                                0   \n",
       "1                                0                                0   \n",
       "2                                0                                0   \n",
       "3                                0                                0   \n",
       "4                                1                                0   \n",
       "\n",
       "   ORGANIZATION_TYPE_XNA  \n",
       "0                      0  \n",
       "1                      0  \n",
       "2                      0  \n",
       "3                      0  \n",
       "4                      0  \n",
       "\n",
       "[5 rows x 141 columns]"
      ]
     },
     "execution_count": 33,
     "metadata": {},
     "output_type": "execute_result"
    }
   ],
   "source": [
    "dont_crash.head()"
   ]
  },
  {
   "cell_type": "code",
   "execution_count": 44,
   "metadata": {
    "ExecuteTime": {
     "end_time": "2021-05-11T12:08:14.789798Z",
     "start_time": "2021-05-11T12:08:14.698646Z"
    }
   },
   "outputs": [
    {
     "data": {
      "text/plain": [
       "0"
      ]
     },
     "execution_count": 44,
     "metadata": {},
     "output_type": "execute_result"
    }
   ],
   "source": [
    "dont_crash['FLAG_OWN_CAR'].value_counts().argmax()"
   ]
  },
  {
   "cell_type": "code",
   "execution_count": 45,
   "metadata": {
    "ExecuteTime": {
     "end_time": "2021-05-11T12:08:40.548818Z",
     "start_time": "2021-05-11T12:08:40.534189Z"
    }
   },
   "outputs": [
    {
     "data": {
      "text/plain": [
       "1.0    235231\n",
       "0.0    121018\n",
       "Name: FLAG_OWN_CAR, dtype: int64"
      ]
     },
     "execution_count": 45,
     "metadata": {},
     "output_type": "execute_result"
    }
   ],
   "source": [
    "dont_crash['FLAG_OWN_CAR'].value_counts()"
   ]
  },
  {
   "cell_type": "code",
   "execution_count": 48,
   "metadata": {
    "ExecuteTime": {
     "end_time": "2021-05-11T12:12:33.198748Z",
     "start_time": "2021-05-11T12:12:33.123986Z"
    }
   },
   "outputs": [
    {
     "data": {
      "text/plain": [
       "1.0"
      ]
     },
     "execution_count": 48,
     "metadata": {},
     "output_type": "execute_result"
    }
   ],
   "source": [
    "i = dont_crash['FLAG_OWN_CAR'].mode()[0]\n",
    "i"
   ]
  },
  {
   "cell_type": "code",
   "execution_count": 49,
   "metadata": {
    "ExecuteTime": {
     "end_time": "2021-05-11T12:14:50.568547Z",
     "start_time": "2021-05-11T12:14:50.511994Z"
    }
   },
   "outputs": [
    {
     "data": {
      "text/plain": [
       "2"
      ]
     },
     "execution_count": 49,
     "metadata": {},
     "output_type": "execute_result"
    }
   ],
   "source": [
    "dont_crash['FLAG_OWN_CAR'].nunique()"
   ]
  },
  {
   "cell_type": "code",
   "execution_count": 52,
   "metadata": {
    "ExecuteTime": {
     "end_time": "2021-05-11T12:21:21.337439Z",
     "start_time": "2021-05-11T12:21:20.313392Z"
    }
   },
   "outputs": [],
   "source": [
    "more_cols = [i for i in list(dont_crash.columns) if (i not in diff and dont_crash[i].nunique() < 25)]"
   ]
  },
  {
   "cell_type": "code",
   "execution_count": 53,
   "metadata": {
    "ExecuteTime": {
     "end_time": "2021-05-11T12:21:36.777620Z",
     "start_time": "2021-05-11T12:21:36.727258Z"
    }
   },
   "outputs": [
    {
     "data": {
      "text/plain": [
       "['FLAG_OWN_CAR',\n",
       " 'FLAG_OWN_REALTY',\n",
       " 'CNT_CHILDREN',\n",
       " 'NAME_EDUCATION_TYPE',\n",
       " 'FLAG_EMP_PHONE',\n",
       " 'FLAG_WORK_PHONE',\n",
       " 'FLAG_PHONE',\n",
       " 'FLAG_EMAIL',\n",
       " 'CNT_FAM_MEMBERS',\n",
       " 'REGION_RATING_CLIENT',\n",
       " 'REGION_RATING_CLIENT_W_CITY',\n",
       " 'HOUR_APPR_PROCESS_START',\n",
       " 'REG_REGION_NOT_LIVE_REGION',\n",
       " 'REG_REGION_NOT_WORK_REGION',\n",
       " 'LIVE_REGION_NOT_WORK_REGION',\n",
       " 'REG_CITY_NOT_LIVE_CITY',\n",
       " 'REG_CITY_NOT_WORK_CITY',\n",
       " 'LIVE_CITY_NOT_WORK_CITY',\n",
       " 'DEF_30_CNT_SOCIAL_CIRCLE',\n",
       " 'DEF_60_CNT_SOCIAL_CIRCLE',\n",
       " 'AMT_REQ_CREDIT_BUREAU_HOUR',\n",
       " 'AMT_REQ_CREDIT_BUREAU_DAY',\n",
       " 'AMT_REQ_CREDIT_BUREAU_WEEK',\n",
       " 'AMT_REQ_CREDIT_BUREAU_MON',\n",
       " 'AMT_REQ_CREDIT_BUREAU_QRT',\n",
       " 'ALL_FLAG_DOCUMENT_SUM',\n",
       " 'CC_MONTHS_BALANCE_max',\n",
       " 'CC_NAME_CONTRACT_STATUS_Completed_min',\n",
       " 'CC_NAME_CONTRACT_STATUS_Completed_max',\n",
       " 'CC_SK_DPD_SUM_min',\n",
       " 'CC_SK_DPD_DEF_SUM_min']"
      ]
     },
     "execution_count": 53,
     "metadata": {},
     "output_type": "execute_result"
    }
   ],
   "source": [
    "more_cols"
   ]
  },
  {
   "cell_type": "code",
   "execution_count": null,
   "metadata": {},
   "outputs": [],
   "source": [
    "cat_like_cols = more_cols + list(diff)\n",
    "for col in cat_like_cols:\n",
    "    dont_crash.fillna()"
   ]
  },
  {
   "cell_type": "code",
   "execution_count": 58,
   "metadata": {
    "ExecuteTime": {
     "end_time": "2021-05-11T12:41:42.722059Z",
     "start_time": "2021-05-11T12:41:42.314628Z"
    }
   },
   "outputs": [],
   "source": [
    "def clean(df):\n",
    "    cols = [i for i in list(df.columns) if i != 'TARGET']\n",
    "\n",
    "    before = set(list(df[cols].columns))\n",
    "\n",
    "    df_ohe = pd.get_dummies(df.loc[:, cols])\n",
    "\n",
    "    after = set(list(df_ohe.columns))\n",
    "    diff = after.difference(before)\n",
    "\n",
    "    # more cat cols\n",
    "    more_cols = [i for i in list(df_ohe.columns) if (i not in diff and df_ohe[i].nunique() < 25)]\n",
    "\n",
    "    # impute cat\n",
    "    cat_like_cols = more_cols + list(diff)\n",
    "    values = dict(map(lambda x: (x,df_ohe.loc[:, x].mode()[0]), cat_like_cols))\n",
    "    df_ohe.fillna(value=values, inplace=True)\n",
    "\n",
    "    # impute num\n",
    "    num_like_cols = [i for i in list(df_ohe.columns) if i not in cat_like_cols + ['TARGET', 'SK_ID_CURR']]\n",
    "    val = dict(map(lambda x: (x,df_ohe.loc[:, x].median()), num_like_cols))\n",
    "    df_ohe.fillna(value=val, inplace=True)\n",
    "    \n",
    "    return df, num_like_cols, cat_like_cols"
   ]
  },
  {
   "cell_type": "code",
   "execution_count": 63,
   "metadata": {
    "ExecuteTime": {
     "end_time": "2021-05-11T12:57:52.494060Z",
     "start_time": "2021-05-11T12:57:52.353185Z"
    }
   },
   "outputs": [
    {
     "data": {
      "text/plain": [
       "False"
      ]
     },
     "execution_count": 63,
     "metadata": {},
     "output_type": "execute_result"
    }
   ],
   "source": [
    "'TARGET' in num_like_cols"
   ]
  },
  {
   "cell_type": "code",
   "execution_count": 61,
   "metadata": {
    "ExecuteTime": {
     "end_time": "2021-05-11T12:56:44.076114Z",
     "start_time": "2021-05-11T12:56:43.307718Z"
    }
   },
   "outputs": [
    {
     "data": {
      "text/html": [
       "<div>\n",
       "<style scoped>\n",
       "    .dataframe tbody tr th:only-of-type {\n",
       "        vertical-align: middle;\n",
       "    }\n",
       "\n",
       "    .dataframe tbody tr th {\n",
       "        vertical-align: top;\n",
       "    }\n",
       "\n",
       "    .dataframe thead th {\n",
       "        text-align: right;\n",
       "    }\n",
       "</style>\n",
       "<table border=\"1\" class=\"dataframe\">\n",
       "  <thead>\n",
       "    <tr style=\"text-align: right;\">\n",
       "      <th></th>\n",
       "      <th>SK_ID_CURR</th>\n",
       "      <th>FLAG_OWN_CAR</th>\n",
       "      <th>FLAG_OWN_REALTY</th>\n",
       "      <th>CNT_CHILDREN</th>\n",
       "      <th>AMT_INCOME_TOTAL</th>\n",
       "      <th>AMT_CREDIT</th>\n",
       "      <th>AMT_ANNUITY</th>\n",
       "      <th>AMT_GOODS_PRICE</th>\n",
       "      <th>NAME_EDUCATION_TYPE</th>\n",
       "      <th>REGION_POPULATION_RELATIVE</th>\n",
       "      <th>...</th>\n",
       "      <th>ORGANIZATION_TYPE_Business Entity Type 3</th>\n",
       "      <th>ORGANIZATION_TYPE_Construction</th>\n",
       "      <th>ORGANIZATION_TYPE_Government</th>\n",
       "      <th>ORGANIZATION_TYPE_Kindergarten</th>\n",
       "      <th>ORGANIZATION_TYPE_Medicine</th>\n",
       "      <th>ORGANIZATION_TYPE_Other</th>\n",
       "      <th>ORGANIZATION_TYPE_School</th>\n",
       "      <th>ORGANIZATION_TYPE_Self-employed</th>\n",
       "      <th>ORGANIZATION_TYPE_Trade: type 7</th>\n",
       "      <th>ORGANIZATION_TYPE_XNA</th>\n",
       "    </tr>\n",
       "  </thead>\n",
       "  <tbody>\n",
       "    <tr>\n",
       "      <th>0</th>\n",
       "      <td>100001</td>\n",
       "      <td>1.0</td>\n",
       "      <td>0.0</td>\n",
       "      <td>0.0</td>\n",
       "      <td>135000.0</td>\n",
       "      <td>568800.0</td>\n",
       "      <td>20560.5</td>\n",
       "      <td>450000.0</td>\n",
       "      <td>1.0</td>\n",
       "      <td>0.018850</td>\n",
       "      <td>...</td>\n",
       "      <td>0</td>\n",
       "      <td>0</td>\n",
       "      <td>0</td>\n",
       "      <td>1</td>\n",
       "      <td>0</td>\n",
       "      <td>0</td>\n",
       "      <td>0</td>\n",
       "      <td>0</td>\n",
       "      <td>0</td>\n",
       "      <td>0</td>\n",
       "    </tr>\n",
       "    <tr>\n",
       "      <th>1</th>\n",
       "      <td>100002</td>\n",
       "      <td>1.0</td>\n",
       "      <td>0.0</td>\n",
       "      <td>0.0</td>\n",
       "      <td>202500.0</td>\n",
       "      <td>406597.5</td>\n",
       "      <td>24700.5</td>\n",
       "      <td>351000.0</td>\n",
       "      <td>0.0</td>\n",
       "      <td>0.018801</td>\n",
       "      <td>...</td>\n",
       "      <td>1</td>\n",
       "      <td>0</td>\n",
       "      <td>0</td>\n",
       "      <td>0</td>\n",
       "      <td>0</td>\n",
       "      <td>0</td>\n",
       "      <td>0</td>\n",
       "      <td>0</td>\n",
       "      <td>0</td>\n",
       "      <td>0</td>\n",
       "    </tr>\n",
       "    <tr>\n",
       "      <th>2</th>\n",
       "      <td>100003</td>\n",
       "      <td>1.0</td>\n",
       "      <td>1.0</td>\n",
       "      <td>0.0</td>\n",
       "      <td>270000.0</td>\n",
       "      <td>1293502.5</td>\n",
       "      <td>35698.5</td>\n",
       "      <td>1129500.0</td>\n",
       "      <td>1.0</td>\n",
       "      <td>0.003541</td>\n",
       "      <td>...</td>\n",
       "      <td>0</td>\n",
       "      <td>0</td>\n",
       "      <td>0</td>\n",
       "      <td>0</td>\n",
       "      <td>0</td>\n",
       "      <td>0</td>\n",
       "      <td>1</td>\n",
       "      <td>0</td>\n",
       "      <td>0</td>\n",
       "      <td>0</td>\n",
       "    </tr>\n",
       "    <tr>\n",
       "      <th>3</th>\n",
       "      <td>100004</td>\n",
       "      <td>0.0</td>\n",
       "      <td>0.0</td>\n",
       "      <td>0.0</td>\n",
       "      <td>67500.0</td>\n",
       "      <td>135000.0</td>\n",
       "      <td>6750.0</td>\n",
       "      <td>135000.0</td>\n",
       "      <td>0.0</td>\n",
       "      <td>0.010032</td>\n",
       "      <td>...</td>\n",
       "      <td>0</td>\n",
       "      <td>0</td>\n",
       "      <td>1</td>\n",
       "      <td>0</td>\n",
       "      <td>0</td>\n",
       "      <td>0</td>\n",
       "      <td>0</td>\n",
       "      <td>0</td>\n",
       "      <td>0</td>\n",
       "      <td>0</td>\n",
       "    </tr>\n",
       "    <tr>\n",
       "      <th>4</th>\n",
       "      <td>100005</td>\n",
       "      <td>1.0</td>\n",
       "      <td>0.0</td>\n",
       "      <td>0.0</td>\n",
       "      <td>99000.0</td>\n",
       "      <td>222768.0</td>\n",
       "      <td>17370.0</td>\n",
       "      <td>180000.0</td>\n",
       "      <td>0.0</td>\n",
       "      <td>0.035792</td>\n",
       "      <td>...</td>\n",
       "      <td>0</td>\n",
       "      <td>0</td>\n",
       "      <td>0</td>\n",
       "      <td>0</td>\n",
       "      <td>0</td>\n",
       "      <td>0</td>\n",
       "      <td>0</td>\n",
       "      <td>1</td>\n",
       "      <td>0</td>\n",
       "      <td>0</td>\n",
       "    </tr>\n",
       "    <tr>\n",
       "      <th>...</th>\n",
       "      <td>...</td>\n",
       "      <td>...</td>\n",
       "      <td>...</td>\n",
       "      <td>...</td>\n",
       "      <td>...</td>\n",
       "      <td>...</td>\n",
       "      <td>...</td>\n",
       "      <td>...</td>\n",
       "      <td>...</td>\n",
       "      <td>...</td>\n",
       "      <td>...</td>\n",
       "      <td>...</td>\n",
       "      <td>...</td>\n",
       "      <td>...</td>\n",
       "      <td>...</td>\n",
       "      <td>...</td>\n",
       "      <td>...</td>\n",
       "      <td>...</td>\n",
       "      <td>...</td>\n",
       "      <td>...</td>\n",
       "      <td>...</td>\n",
       "    </tr>\n",
       "    <tr>\n",
       "      <th>356249</th>\n",
       "      <td>456251</td>\n",
       "      <td>1.0</td>\n",
       "      <td>1.0</td>\n",
       "      <td>0.0</td>\n",
       "      <td>157500.0</td>\n",
       "      <td>254700.0</td>\n",
       "      <td>27558.0</td>\n",
       "      <td>225000.0</td>\n",
       "      <td>0.0</td>\n",
       "      <td>0.032561</td>\n",
       "      <td>...</td>\n",
       "      <td>0</td>\n",
       "      <td>0</td>\n",
       "      <td>0</td>\n",
       "      <td>0</td>\n",
       "      <td>0</td>\n",
       "      <td>1</td>\n",
       "      <td>0</td>\n",
       "      <td>0</td>\n",
       "      <td>0</td>\n",
       "      <td>0</td>\n",
       "    </tr>\n",
       "    <tr>\n",
       "      <th>356250</th>\n",
       "      <td>456252</td>\n",
       "      <td>1.0</td>\n",
       "      <td>0.0</td>\n",
       "      <td>0.0</td>\n",
       "      <td>72000.0</td>\n",
       "      <td>269550.0</td>\n",
       "      <td>12001.5</td>\n",
       "      <td>225000.0</td>\n",
       "      <td>0.0</td>\n",
       "      <td>0.025164</td>\n",
       "      <td>...</td>\n",
       "      <td>0</td>\n",
       "      <td>0</td>\n",
       "      <td>0</td>\n",
       "      <td>0</td>\n",
       "      <td>0</td>\n",
       "      <td>0</td>\n",
       "      <td>0</td>\n",
       "      <td>0</td>\n",
       "      <td>0</td>\n",
       "      <td>1</td>\n",
       "    </tr>\n",
       "    <tr>\n",
       "      <th>356251</th>\n",
       "      <td>456253</td>\n",
       "      <td>1.0</td>\n",
       "      <td>0.0</td>\n",
       "      <td>0.0</td>\n",
       "      <td>153000.0</td>\n",
       "      <td>677664.0</td>\n",
       "      <td>29979.0</td>\n",
       "      <td>585000.0</td>\n",
       "      <td>1.0</td>\n",
       "      <td>0.005002</td>\n",
       "      <td>...</td>\n",
       "      <td>0</td>\n",
       "      <td>0</td>\n",
       "      <td>0</td>\n",
       "      <td>0</td>\n",
       "      <td>0</td>\n",
       "      <td>0</td>\n",
       "      <td>1</td>\n",
       "      <td>0</td>\n",
       "      <td>0</td>\n",
       "      <td>0</td>\n",
       "    </tr>\n",
       "    <tr>\n",
       "      <th>356252</th>\n",
       "      <td>456254</td>\n",
       "      <td>1.0</td>\n",
       "      <td>0.0</td>\n",
       "      <td>0.0</td>\n",
       "      <td>171000.0</td>\n",
       "      <td>370107.0</td>\n",
       "      <td>20205.0</td>\n",
       "      <td>319500.0</td>\n",
       "      <td>0.0</td>\n",
       "      <td>0.005313</td>\n",
       "      <td>...</td>\n",
       "      <td>0</td>\n",
       "      <td>0</td>\n",
       "      <td>0</td>\n",
       "      <td>0</td>\n",
       "      <td>0</td>\n",
       "      <td>1</td>\n",
       "      <td>0</td>\n",
       "      <td>0</td>\n",
       "      <td>0</td>\n",
       "      <td>0</td>\n",
       "    </tr>\n",
       "    <tr>\n",
       "      <th>356253</th>\n",
       "      <td>456255</td>\n",
       "      <td>1.0</td>\n",
       "      <td>1.0</td>\n",
       "      <td>0.0</td>\n",
       "      <td>157500.0</td>\n",
       "      <td>675000.0</td>\n",
       "      <td>49117.5</td>\n",
       "      <td>675000.0</td>\n",
       "      <td>1.0</td>\n",
       "      <td>0.046220</td>\n",
       "      <td>...</td>\n",
       "      <td>1</td>\n",
       "      <td>0</td>\n",
       "      <td>0</td>\n",
       "      <td>0</td>\n",
       "      <td>0</td>\n",
       "      <td>0</td>\n",
       "      <td>0</td>\n",
       "      <td>0</td>\n",
       "      <td>0</td>\n",
       "      <td>0</td>\n",
       "    </tr>\n",
       "  </tbody>\n",
       "</table>\n",
       "<p>356249 rows × 141 columns</p>\n",
       "</div>"
      ],
      "text/plain": [
       "        SK_ID_CURR  FLAG_OWN_CAR  FLAG_OWN_REALTY  CNT_CHILDREN  \\\n",
       "0           100001           1.0              0.0           0.0   \n",
       "1           100002           1.0              0.0           0.0   \n",
       "2           100003           1.0              1.0           0.0   \n",
       "3           100004           0.0              0.0           0.0   \n",
       "4           100005           1.0              0.0           0.0   \n",
       "...            ...           ...              ...           ...   \n",
       "356249      456251           1.0              1.0           0.0   \n",
       "356250      456252           1.0              0.0           0.0   \n",
       "356251      456253           1.0              0.0           0.0   \n",
       "356252      456254           1.0              0.0           0.0   \n",
       "356253      456255           1.0              1.0           0.0   \n",
       "\n",
       "        AMT_INCOME_TOTAL  AMT_CREDIT  AMT_ANNUITY  AMT_GOODS_PRICE  \\\n",
       "0               135000.0    568800.0      20560.5         450000.0   \n",
       "1               202500.0    406597.5      24700.5         351000.0   \n",
       "2               270000.0   1293502.5      35698.5        1129500.0   \n",
       "3                67500.0    135000.0       6750.0         135000.0   \n",
       "4                99000.0    222768.0      17370.0         180000.0   \n",
       "...                  ...         ...          ...              ...   \n",
       "356249          157500.0    254700.0      27558.0         225000.0   \n",
       "356250           72000.0    269550.0      12001.5         225000.0   \n",
       "356251          153000.0    677664.0      29979.0         585000.0   \n",
       "356252          171000.0    370107.0      20205.0         319500.0   \n",
       "356253          157500.0    675000.0      49117.5         675000.0   \n",
       "\n",
       "        NAME_EDUCATION_TYPE  REGION_POPULATION_RELATIVE  ...  \\\n",
       "0                       1.0                    0.018850  ...   \n",
       "1                       0.0                    0.018801  ...   \n",
       "2                       1.0                    0.003541  ...   \n",
       "3                       0.0                    0.010032  ...   \n",
       "4                       0.0                    0.035792  ...   \n",
       "...                     ...                         ...  ...   \n",
       "356249                  0.0                    0.032561  ...   \n",
       "356250                  0.0                    0.025164  ...   \n",
       "356251                  1.0                    0.005002  ...   \n",
       "356252                  0.0                    0.005313  ...   \n",
       "356253                  1.0                    0.046220  ...   \n",
       "\n",
       "        ORGANIZATION_TYPE_Business Entity Type 3  \\\n",
       "0                                              0   \n",
       "1                                              1   \n",
       "2                                              0   \n",
       "3                                              0   \n",
       "4                                              0   \n",
       "...                                          ...   \n",
       "356249                                         0   \n",
       "356250                                         0   \n",
       "356251                                         0   \n",
       "356252                                         0   \n",
       "356253                                         1   \n",
       "\n",
       "        ORGANIZATION_TYPE_Construction  ORGANIZATION_TYPE_Government  \\\n",
       "0                                    0                             0   \n",
       "1                                    0                             0   \n",
       "2                                    0                             0   \n",
       "3                                    0                             1   \n",
       "4                                    0                             0   \n",
       "...                                ...                           ...   \n",
       "356249                               0                             0   \n",
       "356250                               0                             0   \n",
       "356251                               0                             0   \n",
       "356252                               0                             0   \n",
       "356253                               0                             0   \n",
       "\n",
       "        ORGANIZATION_TYPE_Kindergarten  ORGANIZATION_TYPE_Medicine  \\\n",
       "0                                    1                           0   \n",
       "1                                    0                           0   \n",
       "2                                    0                           0   \n",
       "3                                    0                           0   \n",
       "4                                    0                           0   \n",
       "...                                ...                         ...   \n",
       "356249                               0                           0   \n",
       "356250                               0                           0   \n",
       "356251                               0                           0   \n",
       "356252                               0                           0   \n",
       "356253                               0                           0   \n",
       "\n",
       "        ORGANIZATION_TYPE_Other  ORGANIZATION_TYPE_School  \\\n",
       "0                             0                         0   \n",
       "1                             0                         0   \n",
       "2                             0                         1   \n",
       "3                             0                         0   \n",
       "4                             0                         0   \n",
       "...                         ...                       ...   \n",
       "356249                        1                         0   \n",
       "356250                        0                         0   \n",
       "356251                        0                         1   \n",
       "356252                        1                         0   \n",
       "356253                        0                         0   \n",
       "\n",
       "        ORGANIZATION_TYPE_Self-employed  ORGANIZATION_TYPE_Trade: type 7  \\\n",
       "0                                     0                                0   \n",
       "1                                     0                                0   \n",
       "2                                     0                                0   \n",
       "3                                     0                                0   \n",
       "4                                     1                                0   \n",
       "...                                 ...                              ...   \n",
       "356249                                0                                0   \n",
       "356250                                0                                0   \n",
       "356251                                0                                0   \n",
       "356252                                0                                0   \n",
       "356253                                0                                0   \n",
       "\n",
       "        ORGANIZATION_TYPE_XNA  \n",
       "0                           0  \n",
       "1                           0  \n",
       "2                           0  \n",
       "3                           0  \n",
       "4                           0  \n",
       "...                       ...  \n",
       "356249                      0  \n",
       "356250                      1  \n",
       "356251                      0  \n",
       "356252                      0  \n",
       "356253                      0  \n",
       "\n",
       "[356249 rows x 141 columns]"
      ]
     },
     "execution_count": 61,
     "metadata": {},
     "output_type": "execute_result"
    }
   ],
   "source": [
    "num_like_cols = [i for i in list(dont_crash.columns) if i not in cat_like_cols + ['TARGET', 'SK_ID_CURR']]\n",
    "val = dict(map(lambda x: (x,dont_crash.loc[:, x].median()), num_like_cols))\n",
    "dont_crash.fillna(value=val)"
   ]
  },
  {
   "cell_type": "code",
   "execution_count": null,
   "metadata": {},
   "outputs": [],
   "source": []
  },
  {
   "cell_type": "code",
   "execution_count": 60,
   "metadata": {
    "ExecuteTime": {
     "end_time": "2021-05-11T12:43:27.806441Z",
     "start_time": "2021-05-11T12:43:26.234954Z"
    }
   },
   "outputs": [
    {
     "data": {
      "text/html": [
       "<div>\n",
       "<style scoped>\n",
       "    .dataframe tbody tr th:only-of-type {\n",
       "        vertical-align: middle;\n",
       "    }\n",
       "\n",
       "    .dataframe tbody tr th {\n",
       "        vertical-align: top;\n",
       "    }\n",
       "\n",
       "    .dataframe thead th {\n",
       "        text-align: right;\n",
       "    }\n",
       "</style>\n",
       "<table border=\"1\" class=\"dataframe\">\n",
       "  <thead>\n",
       "    <tr style=\"text-align: right;\">\n",
       "      <th></th>\n",
       "      <th>SK_ID_CURR</th>\n",
       "      <th>FLAG_OWN_CAR</th>\n",
       "      <th>FLAG_OWN_REALTY</th>\n",
       "      <th>CNT_CHILDREN</th>\n",
       "      <th>AMT_INCOME_TOTAL</th>\n",
       "      <th>AMT_CREDIT</th>\n",
       "      <th>AMT_ANNUITY</th>\n",
       "      <th>AMT_GOODS_PRICE</th>\n",
       "      <th>NAME_EDUCATION_TYPE</th>\n",
       "      <th>REGION_POPULATION_RELATIVE</th>\n",
       "      <th>...</th>\n",
       "      <th>ORGANIZATION_TYPE_Business Entity Type 3</th>\n",
       "      <th>ORGANIZATION_TYPE_Construction</th>\n",
       "      <th>ORGANIZATION_TYPE_Government</th>\n",
       "      <th>ORGANIZATION_TYPE_Kindergarten</th>\n",
       "      <th>ORGANIZATION_TYPE_Medicine</th>\n",
       "      <th>ORGANIZATION_TYPE_Other</th>\n",
       "      <th>ORGANIZATION_TYPE_School</th>\n",
       "      <th>ORGANIZATION_TYPE_Self-employed</th>\n",
       "      <th>ORGANIZATION_TYPE_Trade: type 7</th>\n",
       "      <th>ORGANIZATION_TYPE_XNA</th>\n",
       "    </tr>\n",
       "  </thead>\n",
       "  <tbody>\n",
       "    <tr>\n",
       "      <th>0</th>\n",
       "      <td>100001</td>\n",
       "      <td>1.0</td>\n",
       "      <td>0.0</td>\n",
       "      <td>0.0</td>\n",
       "      <td>135000.0</td>\n",
       "      <td>568800.0</td>\n",
       "      <td>20560.5</td>\n",
       "      <td>450000.0</td>\n",
       "      <td>1.0</td>\n",
       "      <td>0.018850</td>\n",
       "      <td>...</td>\n",
       "      <td>0</td>\n",
       "      <td>0</td>\n",
       "      <td>0</td>\n",
       "      <td>1</td>\n",
       "      <td>0</td>\n",
       "      <td>0</td>\n",
       "      <td>0</td>\n",
       "      <td>0</td>\n",
       "      <td>0</td>\n",
       "      <td>0</td>\n",
       "    </tr>\n",
       "    <tr>\n",
       "      <th>1</th>\n",
       "      <td>100002</td>\n",
       "      <td>1.0</td>\n",
       "      <td>0.0</td>\n",
       "      <td>0.0</td>\n",
       "      <td>202500.0</td>\n",
       "      <td>406597.5</td>\n",
       "      <td>24700.5</td>\n",
       "      <td>351000.0</td>\n",
       "      <td>0.0</td>\n",
       "      <td>0.018801</td>\n",
       "      <td>...</td>\n",
       "      <td>1</td>\n",
       "      <td>0</td>\n",
       "      <td>0</td>\n",
       "      <td>0</td>\n",
       "      <td>0</td>\n",
       "      <td>0</td>\n",
       "      <td>0</td>\n",
       "      <td>0</td>\n",
       "      <td>0</td>\n",
       "      <td>0</td>\n",
       "    </tr>\n",
       "    <tr>\n",
       "      <th>2</th>\n",
       "      <td>100003</td>\n",
       "      <td>1.0</td>\n",
       "      <td>1.0</td>\n",
       "      <td>0.0</td>\n",
       "      <td>270000.0</td>\n",
       "      <td>1293502.5</td>\n",
       "      <td>35698.5</td>\n",
       "      <td>1129500.0</td>\n",
       "      <td>1.0</td>\n",
       "      <td>0.003541</td>\n",
       "      <td>...</td>\n",
       "      <td>0</td>\n",
       "      <td>0</td>\n",
       "      <td>0</td>\n",
       "      <td>0</td>\n",
       "      <td>0</td>\n",
       "      <td>0</td>\n",
       "      <td>1</td>\n",
       "      <td>0</td>\n",
       "      <td>0</td>\n",
       "      <td>0</td>\n",
       "    </tr>\n",
       "    <tr>\n",
       "      <th>3</th>\n",
       "      <td>100004</td>\n",
       "      <td>0.0</td>\n",
       "      <td>0.0</td>\n",
       "      <td>0.0</td>\n",
       "      <td>67500.0</td>\n",
       "      <td>135000.0</td>\n",
       "      <td>6750.0</td>\n",
       "      <td>135000.0</td>\n",
       "      <td>0.0</td>\n",
       "      <td>0.010032</td>\n",
       "      <td>...</td>\n",
       "      <td>0</td>\n",
       "      <td>0</td>\n",
       "      <td>1</td>\n",
       "      <td>0</td>\n",
       "      <td>0</td>\n",
       "      <td>0</td>\n",
       "      <td>0</td>\n",
       "      <td>0</td>\n",
       "      <td>0</td>\n",
       "      <td>0</td>\n",
       "    </tr>\n",
       "    <tr>\n",
       "      <th>4</th>\n",
       "      <td>100005</td>\n",
       "      <td>1.0</td>\n",
       "      <td>0.0</td>\n",
       "      <td>0.0</td>\n",
       "      <td>99000.0</td>\n",
       "      <td>222768.0</td>\n",
       "      <td>17370.0</td>\n",
       "      <td>180000.0</td>\n",
       "      <td>0.0</td>\n",
       "      <td>0.035792</td>\n",
       "      <td>...</td>\n",
       "      <td>0</td>\n",
       "      <td>0</td>\n",
       "      <td>0</td>\n",
       "      <td>0</td>\n",
       "      <td>0</td>\n",
       "      <td>0</td>\n",
       "      <td>0</td>\n",
       "      <td>1</td>\n",
       "      <td>0</td>\n",
       "      <td>0</td>\n",
       "    </tr>\n",
       "    <tr>\n",
       "      <th>...</th>\n",
       "      <td>...</td>\n",
       "      <td>...</td>\n",
       "      <td>...</td>\n",
       "      <td>...</td>\n",
       "      <td>...</td>\n",
       "      <td>...</td>\n",
       "      <td>...</td>\n",
       "      <td>...</td>\n",
       "      <td>...</td>\n",
       "      <td>...</td>\n",
       "      <td>...</td>\n",
       "      <td>...</td>\n",
       "      <td>...</td>\n",
       "      <td>...</td>\n",
       "      <td>...</td>\n",
       "      <td>...</td>\n",
       "      <td>...</td>\n",
       "      <td>...</td>\n",
       "      <td>...</td>\n",
       "      <td>...</td>\n",
       "      <td>...</td>\n",
       "    </tr>\n",
       "    <tr>\n",
       "      <th>356249</th>\n",
       "      <td>456251</td>\n",
       "      <td>1.0</td>\n",
       "      <td>1.0</td>\n",
       "      <td>0.0</td>\n",
       "      <td>157500.0</td>\n",
       "      <td>254700.0</td>\n",
       "      <td>27558.0</td>\n",
       "      <td>225000.0</td>\n",
       "      <td>0.0</td>\n",
       "      <td>0.032561</td>\n",
       "      <td>...</td>\n",
       "      <td>0</td>\n",
       "      <td>0</td>\n",
       "      <td>0</td>\n",
       "      <td>0</td>\n",
       "      <td>0</td>\n",
       "      <td>1</td>\n",
       "      <td>0</td>\n",
       "      <td>0</td>\n",
       "      <td>0</td>\n",
       "      <td>0</td>\n",
       "    </tr>\n",
       "    <tr>\n",
       "      <th>356250</th>\n",
       "      <td>456252</td>\n",
       "      <td>1.0</td>\n",
       "      <td>0.0</td>\n",
       "      <td>0.0</td>\n",
       "      <td>72000.0</td>\n",
       "      <td>269550.0</td>\n",
       "      <td>12001.5</td>\n",
       "      <td>225000.0</td>\n",
       "      <td>0.0</td>\n",
       "      <td>0.025164</td>\n",
       "      <td>...</td>\n",
       "      <td>0</td>\n",
       "      <td>0</td>\n",
       "      <td>0</td>\n",
       "      <td>0</td>\n",
       "      <td>0</td>\n",
       "      <td>0</td>\n",
       "      <td>0</td>\n",
       "      <td>0</td>\n",
       "      <td>0</td>\n",
       "      <td>1</td>\n",
       "    </tr>\n",
       "    <tr>\n",
       "      <th>356251</th>\n",
       "      <td>456253</td>\n",
       "      <td>1.0</td>\n",
       "      <td>0.0</td>\n",
       "      <td>0.0</td>\n",
       "      <td>153000.0</td>\n",
       "      <td>677664.0</td>\n",
       "      <td>29979.0</td>\n",
       "      <td>585000.0</td>\n",
       "      <td>1.0</td>\n",
       "      <td>0.005002</td>\n",
       "      <td>...</td>\n",
       "      <td>0</td>\n",
       "      <td>0</td>\n",
       "      <td>0</td>\n",
       "      <td>0</td>\n",
       "      <td>0</td>\n",
       "      <td>0</td>\n",
       "      <td>1</td>\n",
       "      <td>0</td>\n",
       "      <td>0</td>\n",
       "      <td>0</td>\n",
       "    </tr>\n",
       "    <tr>\n",
       "      <th>356252</th>\n",
       "      <td>456254</td>\n",
       "      <td>1.0</td>\n",
       "      <td>0.0</td>\n",
       "      <td>0.0</td>\n",
       "      <td>171000.0</td>\n",
       "      <td>370107.0</td>\n",
       "      <td>20205.0</td>\n",
       "      <td>319500.0</td>\n",
       "      <td>0.0</td>\n",
       "      <td>0.005313</td>\n",
       "      <td>...</td>\n",
       "      <td>0</td>\n",
       "      <td>0</td>\n",
       "      <td>0</td>\n",
       "      <td>0</td>\n",
       "      <td>0</td>\n",
       "      <td>1</td>\n",
       "      <td>0</td>\n",
       "      <td>0</td>\n",
       "      <td>0</td>\n",
       "      <td>0</td>\n",
       "    </tr>\n",
       "    <tr>\n",
       "      <th>356253</th>\n",
       "      <td>456255</td>\n",
       "      <td>1.0</td>\n",
       "      <td>1.0</td>\n",
       "      <td>0.0</td>\n",
       "      <td>157500.0</td>\n",
       "      <td>675000.0</td>\n",
       "      <td>49117.5</td>\n",
       "      <td>675000.0</td>\n",
       "      <td>1.0</td>\n",
       "      <td>0.046220</td>\n",
       "      <td>...</td>\n",
       "      <td>1</td>\n",
       "      <td>0</td>\n",
       "      <td>0</td>\n",
       "      <td>0</td>\n",
       "      <td>0</td>\n",
       "      <td>0</td>\n",
       "      <td>0</td>\n",
       "      <td>0</td>\n",
       "      <td>0</td>\n",
       "      <td>0</td>\n",
       "    </tr>\n",
       "  </tbody>\n",
       "</table>\n",
       "<p>356249 rows × 141 columns</p>\n",
       "</div>"
      ],
      "text/plain": [
       "        SK_ID_CURR  FLAG_OWN_CAR  FLAG_OWN_REALTY  CNT_CHILDREN  \\\n",
       "0           100001           1.0              0.0           0.0   \n",
       "1           100002           1.0              0.0           0.0   \n",
       "2           100003           1.0              1.0           0.0   \n",
       "3           100004           0.0              0.0           0.0   \n",
       "4           100005           1.0              0.0           0.0   \n",
       "...            ...           ...              ...           ...   \n",
       "356249      456251           1.0              1.0           0.0   \n",
       "356250      456252           1.0              0.0           0.0   \n",
       "356251      456253           1.0              0.0           0.0   \n",
       "356252      456254           1.0              0.0           0.0   \n",
       "356253      456255           1.0              1.0           0.0   \n",
       "\n",
       "        AMT_INCOME_TOTAL  AMT_CREDIT  AMT_ANNUITY  AMT_GOODS_PRICE  \\\n",
       "0               135000.0    568800.0      20560.5         450000.0   \n",
       "1               202500.0    406597.5      24700.5         351000.0   \n",
       "2               270000.0   1293502.5      35698.5        1129500.0   \n",
       "3                67500.0    135000.0       6750.0         135000.0   \n",
       "4                99000.0    222768.0      17370.0         180000.0   \n",
       "...                  ...         ...          ...              ...   \n",
       "356249          157500.0    254700.0      27558.0         225000.0   \n",
       "356250           72000.0    269550.0      12001.5         225000.0   \n",
       "356251          153000.0    677664.0      29979.0         585000.0   \n",
       "356252          171000.0    370107.0      20205.0         319500.0   \n",
       "356253          157500.0    675000.0      49117.5         675000.0   \n",
       "\n",
       "        NAME_EDUCATION_TYPE  REGION_POPULATION_RELATIVE  ...  \\\n",
       "0                       1.0                    0.018850  ...   \n",
       "1                       0.0                    0.018801  ...   \n",
       "2                       1.0                    0.003541  ...   \n",
       "3                       0.0                    0.010032  ...   \n",
       "4                       0.0                    0.035792  ...   \n",
       "...                     ...                         ...  ...   \n",
       "356249                  0.0                    0.032561  ...   \n",
       "356250                  0.0                    0.025164  ...   \n",
       "356251                  1.0                    0.005002  ...   \n",
       "356252                  0.0                    0.005313  ...   \n",
       "356253                  1.0                    0.046220  ...   \n",
       "\n",
       "        ORGANIZATION_TYPE_Business Entity Type 3  \\\n",
       "0                                              0   \n",
       "1                                              1   \n",
       "2                                              0   \n",
       "3                                              0   \n",
       "4                                              0   \n",
       "...                                          ...   \n",
       "356249                                         0   \n",
       "356250                                         0   \n",
       "356251                                         0   \n",
       "356252                                         0   \n",
       "356253                                         1   \n",
       "\n",
       "        ORGANIZATION_TYPE_Construction  ORGANIZATION_TYPE_Government  \\\n",
       "0                                    0                             0   \n",
       "1                                    0                             0   \n",
       "2                                    0                             0   \n",
       "3                                    0                             1   \n",
       "4                                    0                             0   \n",
       "...                                ...                           ...   \n",
       "356249                               0                             0   \n",
       "356250                               0                             0   \n",
       "356251                               0                             0   \n",
       "356252                               0                             0   \n",
       "356253                               0                             0   \n",
       "\n",
       "        ORGANIZATION_TYPE_Kindergarten  ORGANIZATION_TYPE_Medicine  \\\n",
       "0                                    1                           0   \n",
       "1                                    0                           0   \n",
       "2                                    0                           0   \n",
       "3                                    0                           0   \n",
       "4                                    0                           0   \n",
       "...                                ...                         ...   \n",
       "356249                               0                           0   \n",
       "356250                               0                           0   \n",
       "356251                               0                           0   \n",
       "356252                               0                           0   \n",
       "356253                               0                           0   \n",
       "\n",
       "        ORGANIZATION_TYPE_Other  ORGANIZATION_TYPE_School  \\\n",
       "0                             0                         0   \n",
       "1                             0                         0   \n",
       "2                             0                         1   \n",
       "3                             0                         0   \n",
       "4                             0                         0   \n",
       "...                         ...                       ...   \n",
       "356249                        1                         0   \n",
       "356250                        0                         0   \n",
       "356251                        0                         1   \n",
       "356252                        1                         0   \n",
       "356253                        0                         0   \n",
       "\n",
       "        ORGANIZATION_TYPE_Self-employed  ORGANIZATION_TYPE_Trade: type 7  \\\n",
       "0                                     0                                0   \n",
       "1                                     0                                0   \n",
       "2                                     0                                0   \n",
       "3                                     0                                0   \n",
       "4                                     1                                0   \n",
       "...                                 ...                              ...   \n",
       "356249                                0                                0   \n",
       "356250                                0                                0   \n",
       "356251                                0                                0   \n",
       "356252                                0                                0   \n",
       "356253                                0                                0   \n",
       "\n",
       "        ORGANIZATION_TYPE_XNA  \n",
       "0                           0  \n",
       "1                           0  \n",
       "2                           0  \n",
       "3                           0  \n",
       "4                           0  \n",
       "...                       ...  \n",
       "356249                      0  \n",
       "356250                      1  \n",
       "356251                      0  \n",
       "356252                      0  \n",
       "356253                      0  \n",
       "\n",
       "[356249 rows x 141 columns]"
      ]
     },
     "execution_count": 60,
     "metadata": {},
     "output_type": "execute_result"
    }
   ],
   "source": [
    "dont_crash.fillna(value=values)"
   ]
  },
  {
   "cell_type": "code",
   "execution_count": 59,
   "metadata": {
    "ExecuteTime": {
     "end_time": "2021-05-11T12:41:59.333567Z",
     "start_time": "2021-05-11T12:41:59.289999Z"
    }
   },
   "outputs": [
    {
     "data": {
      "text/plain": [
       "{'FLAG_OWN_CAR': 1.0,\n",
       " 'FLAG_OWN_REALTY': 0.0,\n",
       " 'CNT_CHILDREN': 0.0,\n",
       " 'NAME_EDUCATION_TYPE': 0.0,\n",
       " 'FLAG_EMP_PHONE': 1.0,\n",
       " 'FLAG_WORK_PHONE': 0.0,\n",
       " 'FLAG_PHONE': 0.0,\n",
       " 'FLAG_EMAIL': 0.0,\n",
       " 'CNT_FAM_MEMBERS': 2.0,\n",
       " 'REGION_RATING_CLIENT': 2.0,\n",
       " 'REGION_RATING_CLIENT_W_CITY': 2.0,\n",
       " 'HOUR_APPR_PROCESS_START': 10.0,\n",
       " 'REG_REGION_NOT_LIVE_REGION': 0.0,\n",
       " 'REG_REGION_NOT_WORK_REGION': 0.0,\n",
       " 'LIVE_REGION_NOT_WORK_REGION': 0.0,\n",
       " 'REG_CITY_NOT_LIVE_CITY': 0.0,\n",
       " 'REG_CITY_NOT_WORK_CITY': 0.0,\n",
       " 'LIVE_CITY_NOT_WORK_CITY': 0.0,\n",
       " 'DEF_30_CNT_SOCIAL_CIRCLE': 0.0,\n",
       " 'DEF_60_CNT_SOCIAL_CIRCLE': 0.0,\n",
       " 'AMT_REQ_CREDIT_BUREAU_HOUR': 0.0,\n",
       " 'AMT_REQ_CREDIT_BUREAU_DAY': 0.0,\n",
       " 'AMT_REQ_CREDIT_BUREAU_WEEK': 0.0,\n",
       " 'AMT_REQ_CREDIT_BUREAU_MON': 0.0,\n",
       " 'AMT_REQ_CREDIT_BUREAU_QRT': 0.0,\n",
       " 'ALL_FLAG_DOCUMENT_SUM': 0.05,\n",
       " 'CC_MONTHS_BALANCE_max': -1.0,\n",
       " 'CC_NAME_CONTRACT_STATUS_Completed_min': 0.0,\n",
       " 'CC_NAME_CONTRACT_STATUS_Completed_max': 0.0,\n",
       " 'CC_SK_DPD_SUM_min': 0.0,\n",
       " 'CC_SK_DPD_DEF_SUM_min': 0.0,\n",
       " 'OCCUPATION_TYPE_Managers': 0,\n",
       " 'OCCUPATION_TYPE_Drivers': 0,\n",
       " 'NAME_INCOME_TYPE_Commercial associate': 0,\n",
       " 'ORGANIZATION_TYPE_Other': 0,\n",
       " 'NAME_INCOME_TYPE_Other': 0,\n",
       " 'NAME_HOUSING_TYPE_With parents': 0,\n",
       " 'OCCUPATION_TYPE_Accountants': 0,\n",
       " 'OCCUPATION_TYPE_High skill tech staff': 0,\n",
       " 'NAME_FAMILY_STATUS_Civil marriage': 0,\n",
       " 'ORGANIZATION_TYPE_Construction': 0,\n",
       " 'ORGANIZATION_TYPE_School': 0,\n",
       " 'OCCUPATION_TYPE_Core staff': 0,\n",
       " 'WEEKDAY_APPR_PROCESS_START_WEDNESDAY': 0,\n",
       " 'NAME_TYPE_SUITE_Spouse, partner': 0,\n",
       " 'OCCUPATION_TYPE_Sales staff': 0,\n",
       " 'WEEKDAY_APPR_PROCESS_START_SUNDAY': 0,\n",
       " 'NAME_FAMILY_STATUS_Single / not married': 0,\n",
       " 'WEEKDAY_APPR_PROCESS_START_SATURDAY': 0,\n",
       " 'WEEKDAY_APPR_PROCESS_START_MONDAY': 0,\n",
       " 'ORGANIZATION_TYPE_Medicine': 0,\n",
       " 'NAME_INCOME_TYPE_Pensioner': 0,\n",
       " 'NAME_CONTRACT_TYPE_Cash loans': 1,\n",
       " 'NAME_FAMILY_STATUS_Married': 1,\n",
       " 'WEEKDAY_APPR_PROCESS_START_TUESDAY': 0,\n",
       " 'NAME_TYPE_SUITE_Other': 0,\n",
       " 'NAME_TYPE_SUITE_Unaccompanied': 1,\n",
       " 'ORGANIZATION_TYPE_Trade: type 7': 0,\n",
       " 'NAME_FAMILY_STATUS_Separated': 0,\n",
       " 'OCCUPATION_TYPE_Other': 0,\n",
       " 'WEEKDAY_APPR_PROCESS_START_THURSDAY': 0,\n",
       " 'ORGANIZATION_TYPE_Government': 0,\n",
       " 'ORGANIZATION_TYPE_Kindergarten': 0,\n",
       " 'CODE_GENDER_1': 1,\n",
       " 'NAME_CONTRACT_TYPE_Revolving loans': 0,\n",
       " 'WEEKDAY_APPR_PROCESS_START_FRIDAY': 0,\n",
       " 'OCCUPATION_TYPE_Laborers': 0,\n",
       " 'ORGANIZATION_TYPE_XNA': 0,\n",
       " 'NAME_INCOME_TYPE_State servant': 0,\n",
       " 'NAME_HOUSING_TYPE_House / apartment': 1,\n",
       " 'CODE_GENDER_0': 0,\n",
       " 'NAME_TYPE_SUITE_Family': 0,\n",
       " 'ORGANIZATION_TYPE_Self-employed': 0,\n",
       " 'NAME_HOUSING_TYPE_Rented apartment': 0,\n",
       " 'NAME_INCOME_TYPE_Working': 1,\n",
       " 'ORGANIZATION_TYPE_Business Entity Type 3': 0,\n",
       " 'NAME_FAMILY_STATUS_Widow': 0,\n",
       " 'ORGANIZATION_TYPE_Business Entity Type 2': 0}"
      ]
     },
     "execution_count": 59,
     "metadata": {},
     "output_type": "execute_result"
    }
   ],
   "source": [
    "values"
   ]
  },
  {
   "cell_type": "code",
   "execution_count": 55,
   "metadata": {
    "ExecuteTime": {
     "end_time": "2021-05-11T12:25:19.747425Z",
     "start_time": "2021-05-11T12:25:19.700738Z"
    }
   },
   "outputs": [
    {
     "data": {
      "text/plain": [
       "-1.0     61885\n",
       "-2.0     32500\n",
       "-3.0      6292\n",
       "-4.0      2878\n",
       "-12.0        1\n",
       "-11.0        1\n",
       "-5.0         1\n",
       "Name: CC_MONTHS_BALANCE_max, dtype: int64"
      ]
     },
     "execution_count": 55,
     "metadata": {},
     "output_type": "execute_result"
    }
   ],
   "source": [
    "dont_crash.loc[:, 'CC_MONTHS_BALANCE_max'].value_counts()"
   ]
  },
  {
   "cell_type": "code",
   "execution_count": 56,
   "metadata": {
    "ExecuteTime": {
     "end_time": "2021-05-11T12:26:19.788448Z",
     "start_time": "2021-05-11T12:26:19.773890Z"
    }
   },
   "outputs": [
    {
     "data": {
      "text/plain": [
       "-1.0"
      ]
     },
     "execution_count": 56,
     "metadata": {},
     "output_type": "execute_result"
    }
   ],
   "source": [
    "dont_crash.loc[:, 'CC_MONTHS_BALANCE_max'].mode()[0]"
   ]
  },
  {
   "cell_type": "code",
   "execution_count": 51,
   "metadata": {
    "ExecuteTime": {
     "end_time": "2021-05-11T12:20:57.978661Z",
     "start_time": "2021-05-11T12:20:57.971651Z"
    }
   },
   "outputs": [],
   "source": [
    "before = set(list(dd[cols].columns))\n",
    "after = set(list(dont_crash.columns))\n",
    "diff = after.difference(before)"
   ]
  },
  {
   "cell_type": "code",
   "execution_count": 42,
   "metadata": {
    "ExecuteTime": {
     "end_time": "2021-05-11T12:01:20.749645Z",
     "start_time": "2021-05-11T12:01:20.422432Z"
    }
   },
   "outputs": [
    {
     "name": "stdout",
     "output_type": "stream",
     "text": [
      "{'OCCUPATION_TYPE_Managers', 'OCCUPATION_TYPE_Drivers', 'NAME_INCOME_TYPE_Commercial associate', 'ORGANIZATION_TYPE_Other', 'NAME_INCOME_TYPE_Other', 'NAME_HOUSING_TYPE_With parents', 'OCCUPATION_TYPE_Accountants', 'OCCUPATION_TYPE_High skill tech staff', 'NAME_FAMILY_STATUS_Civil marriage', 'ORGANIZATION_TYPE_Construction', 'ORGANIZATION_TYPE_School', 'OCCUPATION_TYPE_Core staff', 'WEEKDAY_APPR_PROCESS_START_WEDNESDAY', 'NAME_TYPE_SUITE_Spouse, partner', 'OCCUPATION_TYPE_Sales staff', 'WEEKDAY_APPR_PROCESS_START_SUNDAY', 'NAME_FAMILY_STATUS_Single / not married', 'WEEKDAY_APPR_PROCESS_START_SATURDAY', 'WEEKDAY_APPR_PROCESS_START_MONDAY', 'ORGANIZATION_TYPE_Medicine', 'NAME_INCOME_TYPE_Pensioner', 'NAME_CONTRACT_TYPE_Cash loans', 'NAME_FAMILY_STATUS_Married', 'WEEKDAY_APPR_PROCESS_START_TUESDAY', 'NAME_TYPE_SUITE_Other', 'NAME_TYPE_SUITE_Unaccompanied', 'ORGANIZATION_TYPE_Trade: type 7', 'NAME_FAMILY_STATUS_Separated', 'OCCUPATION_TYPE_Other', 'WEEKDAY_APPR_PROCESS_START_THURSDAY', 'ORGANIZATION_TYPE_Government', 'ORGANIZATION_TYPE_Kindergarten', 'CODE_GENDER_1', 'NAME_CONTRACT_TYPE_Revolving loans', 'WEEKDAY_APPR_PROCESS_START_FRIDAY', 'OCCUPATION_TYPE_Laborers', 'ORGANIZATION_TYPE_XNA', 'NAME_INCOME_TYPE_State servant', 'NAME_HOUSING_TYPE_House / apartment', 'CODE_GENDER_0', 'NAME_TYPE_SUITE_Family', 'ORGANIZATION_TYPE_Self-employed', 'NAME_HOUSING_TYPE_Rented apartment', 'NAME_INCOME_TYPE_Working', 'ORGANIZATION_TYPE_Business Entity Type 3', 'NAME_FAMILY_STATUS_Widow', 'ORGANIZATION_TYPE_Business Entity Type 2'}\n"
     ]
    }
   ],
   "source": [
    "before = set(list(dd[cols].columns))\n",
    "after = set(list(dont_crash.columns))\n",
    "print(after.difference(before))"
   ]
  },
  {
   "cell_type": "code",
   "execution_count": null,
   "metadata": {},
   "outputs": [],
   "source": [
    "# perserve order\n",
    "new_cols = [i for i in list]"
   ]
  },
  {
   "cell_type": "code",
   "execution_count": 40,
   "metadata": {
    "ExecuteTime": {
     "end_time": "2021-05-11T11:51:13.092844Z",
     "start_time": "2021-05-11T11:51:12.940535Z"
    }
   },
   "outputs": [
    {
     "data": {
      "text/html": [
       "<div>\n",
       "<style scoped>\n",
       "    .dataframe tbody tr th:only-of-type {\n",
       "        vertical-align: middle;\n",
       "    }\n",
       "\n",
       "    .dataframe tbody tr th {\n",
       "        vertical-align: top;\n",
       "    }\n",
       "\n",
       "    .dataframe thead th {\n",
       "        text-align: right;\n",
       "    }\n",
       "</style>\n",
       "<table border=\"1\" class=\"dataframe\">\n",
       "  <thead>\n",
       "    <tr style=\"text-align: right;\">\n",
       "      <th></th>\n",
       "      <th>m_count</th>\n",
       "    </tr>\n",
       "  </thead>\n",
       "  <tbody>\n",
       "    <tr>\n",
       "      <th>SK_ID_CURR</th>\n",
       "      <td>0</td>\n",
       "    </tr>\n",
       "    <tr>\n",
       "      <th>FLAG_OWN_CAR</th>\n",
       "      <td>0</td>\n",
       "    </tr>\n",
       "    <tr>\n",
       "      <th>FLAG_OWN_REALTY</th>\n",
       "      <td>0</td>\n",
       "    </tr>\n",
       "    <tr>\n",
       "      <th>CNT_CHILDREN</th>\n",
       "      <td>0</td>\n",
       "    </tr>\n",
       "    <tr>\n",
       "      <th>AMT_INCOME_TOTAL</th>\n",
       "      <td>0</td>\n",
       "    </tr>\n",
       "  </tbody>\n",
       "</table>\n",
       "</div>"
      ],
      "text/plain": [
       "                  m_count\n",
       "SK_ID_CURR              0\n",
       "FLAG_OWN_CAR            0\n",
       "FLAG_OWN_REALTY         0\n",
       "CNT_CHILDREN            0\n",
       "AMT_INCOME_TOTAL        0"
      ]
     },
     "execution_count": 40,
     "metadata": {},
     "output_type": "execute_result"
    }
   ],
   "source": [
    "dt = dont_crash.isna().sum().to_frame()\n",
    "dt.columns = ['m_count']\n",
    "dt.head()"
   ]
  },
  {
   "cell_type": "code",
   "execution_count": 41,
   "metadata": {
    "ExecuteTime": {
     "end_time": "2021-05-11T11:52:04.732426Z",
     "start_time": "2021-05-11T11:52:04.566655Z"
    }
   },
   "outputs": [
    {
     "data": {
      "text/html": [
       "<div>\n",
       "<style scoped>\n",
       "    .dataframe tbody tr th:only-of-type {\n",
       "        vertical-align: middle;\n",
       "    }\n",
       "\n",
       "    .dataframe tbody tr th {\n",
       "        vertical-align: top;\n",
       "    }\n",
       "\n",
       "    .dataframe thead th {\n",
       "        text-align: right;\n",
       "    }\n",
       "</style>\n",
       "<table border=\"1\" class=\"dataframe\">\n",
       "  <thead>\n",
       "    <tr style=\"text-align: right;\">\n",
       "      <th></th>\n",
       "      <th>m_count</th>\n",
       "    </tr>\n",
       "  </thead>\n",
       "  <tbody>\n",
       "    <tr>\n",
       "      <th>AMT_ANNUITY</th>\n",
       "      <td>36</td>\n",
       "    </tr>\n",
       "    <tr>\n",
       "      <th>AMT_GOODS_PRICE</th>\n",
       "      <td>276</td>\n",
       "    </tr>\n",
       "    <tr>\n",
       "      <th>DAYS_EMPLOYED</th>\n",
       "      <td>64648</td>\n",
       "    </tr>\n",
       "    <tr>\n",
       "      <th>EXT_SOURCE_1</th>\n",
       "      <td>193907</td>\n",
       "    </tr>\n",
       "    <tr>\n",
       "      <th>EXT_SOURCE_2</th>\n",
       "      <td>668</td>\n",
       "    </tr>\n",
       "    <tr>\n",
       "      <th>...</th>\n",
       "      <td>...</td>\n",
       "    </tr>\n",
       "    <tr>\n",
       "      <th>CC_SK_DPD_SUM_var</th>\n",
       "      <td>253383</td>\n",
       "    </tr>\n",
       "    <tr>\n",
       "      <th>CC_SK_DPD_DEF_SUM_min</th>\n",
       "      <td>252691</td>\n",
       "    </tr>\n",
       "    <tr>\n",
       "      <th>CC_SK_DPD_DEF_SUM_max</th>\n",
       "      <td>252691</td>\n",
       "    </tr>\n",
       "    <tr>\n",
       "      <th>CC_SK_DPD_DEF_SUM_mean</th>\n",
       "      <td>252691</td>\n",
       "    </tr>\n",
       "    <tr>\n",
       "      <th>CC_SK_DPD_DEF_SUM_var</th>\n",
       "      <td>253383</td>\n",
       "    </tr>\n",
       "  </tbody>\n",
       "</table>\n",
       "<p>66 rows × 1 columns</p>\n",
       "</div>"
      ],
      "text/plain": [
       "                        m_count\n",
       "AMT_ANNUITY                  36\n",
       "AMT_GOODS_PRICE             276\n",
       "DAYS_EMPLOYED             64648\n",
       "EXT_SOURCE_1             193907\n",
       "EXT_SOURCE_2                668\n",
       "...                         ...\n",
       "CC_SK_DPD_SUM_var        253383\n",
       "CC_SK_DPD_DEF_SUM_min    252691\n",
       "CC_SK_DPD_DEF_SUM_max    252691\n",
       "CC_SK_DPD_DEF_SUM_mean   252691\n",
       "CC_SK_DPD_DEF_SUM_var    253383\n",
       "\n",
       "[66 rows x 1 columns]"
      ]
     },
     "execution_count": 41,
     "metadata": {},
     "output_type": "execute_result"
    }
   ],
   "source": [
    "dt[dt['m_count'] > 0]"
   ]
  },
  {
   "cell_type": "code",
   "execution_count": 35,
   "metadata": {
    "ExecuteTime": {
     "end_time": "2021-05-11T11:45:53.092334Z",
     "start_time": "2021-05-11T11:45:53.084594Z"
    }
   },
   "outputs": [
    {
     "data": {
      "text/plain": [
       "(307505, 102)"
      ]
     },
     "execution_count": 35,
     "metadata": {},
     "output_type": "execute_result"
    }
   ],
   "source": [
    "X.shape"
   ]
  },
  {
   "cell_type": "code",
   "execution_count": 36,
   "metadata": {
    "ExecuteTime": {
     "end_time": "2021-05-11T11:46:45.029565Z",
     "start_time": "2021-05-11T11:46:45.021847Z"
    }
   },
   "outputs": [
    {
     "data": {
      "text/plain": [
       "307505"
      ]
     },
     "execution_count": 36,
     "metadata": {},
     "output_type": "execute_result"
    }
   ],
   "source": [
    "356249 - 48744"
   ]
  },
  {
   "cell_type": "code",
   "execution_count": null,
   "metadata": {},
   "outputs": [],
   "source": []
  },
  {
   "cell_type": "code",
   "execution_count": null,
   "metadata": {},
   "outputs": [],
   "source": []
  },
  {
   "cell_type": "code",
   "execution_count": null,
   "metadata": {},
   "outputs": [],
   "source": []
  },
  {
   "cell_type": "code",
   "execution_count": null,
   "metadata": {},
   "outputs": [],
   "source": []
  },
  {
   "cell_type": "code",
   "execution_count": null,
   "metadata": {},
   "outputs": [],
   "source": []
  },
  {
   "cell_type": "code",
   "execution_count": null,
   "metadata": {},
   "outputs": [],
   "source": []
  },
  {
   "cell_type": "code",
   "execution_count": null,
   "metadata": {},
   "outputs": [],
   "source": []
  },
  {
   "cell_type": "code",
   "execution_count": null,
   "metadata": {},
   "outputs": [],
   "source": []
  },
  {
   "cell_type": "code",
   "execution_count": null,
   "metadata": {},
   "outputs": [],
   "source": []
  },
  {
   "cell_type": "code",
   "execution_count": null,
   "metadata": {},
   "outputs": [],
   "source": []
  },
  {
   "cell_type": "code",
   "execution_count": 18,
   "metadata": {
    "ExecuteTime": {
     "end_time": "2021-05-11T10:13:36.935472Z",
     "start_time": "2021-05-11T10:13:36.815137Z"
    }
   },
   "outputs": [
    {
     "data": {
      "text/plain": [
       "array(['x0_Cash loans', 'x0_Revolving loans', 'x1_0', 'x1_1', 'x2_Family',\n",
       "       'x2_Other', 'x2_Spouse, partner', 'x2_Unaccompanied',\n",
       "       'x3_Commercial associate', 'x3_Other', 'x3_Pensioner',\n",
       "       'x3_State servant', 'x3_Working', 'x4_Civil marriage',\n",
       "       'x4_Married', 'x4_Separated', 'x4_Single / not married',\n",
       "       'x4_Widow', 'x5_House / apartment', 'x5_Rented apartment',\n",
       "       'x5_With parents', 'x6_Accountants', 'x6_Core staff', 'x6_Drivers',\n",
       "       'x6_High skill tech staff', 'x6_Laborers', 'x6_Managers',\n",
       "       'x6_Other', 'x6_Sales staff', 'x7_FRIDAY', 'x7_MONDAY',\n",
       "       'x7_SATURDAY', 'x7_SUNDAY', 'x7_THURSDAY', 'x7_TUESDAY',\n",
       "       'x7_WEDNESDAY', 'x8_Business Entity Type 2',\n",
       "       'x8_Business Entity Type 3', 'x8_Construction', 'x8_Government',\n",
       "       'x8_Kindergarten', 'x8_Medicine', 'x8_Other', 'x8_School',\n",
       "       'x8_Self-employed', 'x8_Trade: type 7', 'x8_XNA'], dtype=object)"
      ]
     },
     "execution_count": 18,
     "metadata": {},
     "output_type": "execute_result"
    }
   ],
   "source": [
    "column_transformer.named_transformers_['cat_pipe'].named_steps['one_hot_encoder'].get_feature_names()"
   ]
  },
  {
   "cell_type": "code",
   "execution_count": 20,
   "metadata": {
    "ExecuteTime": {
     "end_time": "2021-05-11T10:17:31.867366Z",
     "start_time": "2021-05-11T10:17:24.856177Z"
    }
   },
   "outputs": [
    {
     "data": {
      "text/html": [
       "<div>\n",
       "<style scoped>\n",
       "    .dataframe tbody tr th:only-of-type {\n",
       "        vertical-align: middle;\n",
       "    }\n",
       "\n",
       "    .dataframe tbody tr th {\n",
       "        vertical-align: top;\n",
       "    }\n",
       "\n",
       "    .dataframe thead th {\n",
       "        text-align: right;\n",
       "    }\n",
       "</style>\n",
       "<table border=\"1\" class=\"dataframe\">\n",
       "  <thead>\n",
       "    <tr style=\"text-align: right;\">\n",
       "      <th></th>\n",
       "      <th>0</th>\n",
       "      <th>1</th>\n",
       "      <th>2</th>\n",
       "      <th>3</th>\n",
       "      <th>4</th>\n",
       "      <th>5</th>\n",
       "      <th>6</th>\n",
       "      <th>7</th>\n",
       "      <th>8</th>\n",
       "      <th>9</th>\n",
       "      <th>...</th>\n",
       "      <th>130</th>\n",
       "      <th>131</th>\n",
       "      <th>132</th>\n",
       "      <th>133</th>\n",
       "      <th>134</th>\n",
       "      <th>135</th>\n",
       "      <th>136</th>\n",
       "      <th>137</th>\n",
       "      <th>138</th>\n",
       "      <th>139</th>\n",
       "    </tr>\n",
       "  </thead>\n",
       "  <tbody>\n",
       "    <tr>\n",
       "      <th>0</th>\n",
       "      <td>0.717914</td>\n",
       "      <td>-0.664541</td>\n",
       "      <td>-0.577536</td>\n",
       "      <td>0.142134</td>\n",
       "      <td>-0.478097</td>\n",
       "      <td>-0.166147</td>\n",
       "      <td>-0.507239</td>\n",
       "      <td>-0.619585</td>\n",
       "      <td>-0.149442</td>\n",
       "      <td>-0.755839</td>\n",
       "      <td>...</td>\n",
       "      <td>1.0</td>\n",
       "      <td>0.0</td>\n",
       "      <td>0.0</td>\n",
       "      <td>0.0</td>\n",
       "      <td>0.0</td>\n",
       "      <td>0.0</td>\n",
       "      <td>0.0</td>\n",
       "      <td>0.0</td>\n",
       "      <td>0.0</td>\n",
       "      <td>0.0</td>\n",
       "    </tr>\n",
       "    <tr>\n",
       "      <th>1</th>\n",
       "      <td>0.717914</td>\n",
       "      <td>1.504799</td>\n",
       "      <td>-0.577536</td>\n",
       "      <td>0.426794</td>\n",
       "      <td>1.725431</td>\n",
       "      <td>0.592674</td>\n",
       "      <td>1.600859</td>\n",
       "      <td>1.613983</td>\n",
       "      <td>-1.252735</td>\n",
       "      <td>-0.497899</td>\n",
       "      <td>...</td>\n",
       "      <td>0.0</td>\n",
       "      <td>0.0</td>\n",
       "      <td>0.0</td>\n",
       "      <td>0.0</td>\n",
       "      <td>0.0</td>\n",
       "      <td>0.0</td>\n",
       "      <td>1.0</td>\n",
       "      <td>0.0</td>\n",
       "      <td>0.0</td>\n",
       "      <td>0.0</td>\n",
       "    </tr>\n",
       "    <tr>\n",
       "      <th>2</th>\n",
       "      <td>-1.392925</td>\n",
       "      <td>-0.664541</td>\n",
       "      <td>-0.577536</td>\n",
       "      <td>-0.427188</td>\n",
       "      <td>-1.152885</td>\n",
       "      <td>-1.404664</td>\n",
       "      <td>-1.092145</td>\n",
       "      <td>-0.619585</td>\n",
       "      <td>-0.783438</td>\n",
       "      <td>-0.948708</td>\n",
       "      <td>...</td>\n",
       "      <td>0.0</td>\n",
       "      <td>0.0</td>\n",
       "      <td>1.0</td>\n",
       "      <td>0.0</td>\n",
       "      <td>0.0</td>\n",
       "      <td>0.0</td>\n",
       "      <td>0.0</td>\n",
       "      <td>0.0</td>\n",
       "      <td>0.0</td>\n",
       "      <td>0.0</td>\n",
       "    </tr>\n",
       "    <tr>\n",
       "      <th>3</th>\n",
       "      <td>0.717914</td>\n",
       "      <td>-0.664541</td>\n",
       "      <td>-0.577536</td>\n",
       "      <td>-0.142527</td>\n",
       "      <td>-0.711430</td>\n",
       "      <td>0.177869</td>\n",
       "      <td>-0.653465</td>\n",
       "      <td>-0.619585</td>\n",
       "      <td>-0.928977</td>\n",
       "      <td>0.368609</td>\n",
       "      <td>...</td>\n",
       "      <td>1.0</td>\n",
       "      <td>0.0</td>\n",
       "      <td>0.0</td>\n",
       "      <td>0.0</td>\n",
       "      <td>0.0</td>\n",
       "      <td>0.0</td>\n",
       "      <td>0.0</td>\n",
       "      <td>0.0</td>\n",
       "      <td>0.0</td>\n",
       "      <td>0.0</td>\n",
       "    </tr>\n",
       "    <tr>\n",
       "      <th>4</th>\n",
       "      <td>0.717914</td>\n",
       "      <td>-0.664541</td>\n",
       "      <td>-0.577536</td>\n",
       "      <td>-0.199459</td>\n",
       "      <td>-0.213739</td>\n",
       "      <td>-0.361751</td>\n",
       "      <td>-0.068560</td>\n",
       "      <td>-0.619585</td>\n",
       "      <td>0.563577</td>\n",
       "      <td>0.368141</td>\n",
       "      <td>...</td>\n",
       "      <td>0.0</td>\n",
       "      <td>0.0</td>\n",
       "      <td>0.0</td>\n",
       "      <td>0.0</td>\n",
       "      <td>0.0</td>\n",
       "      <td>1.0</td>\n",
       "      <td>0.0</td>\n",
       "      <td>0.0</td>\n",
       "      <td>0.0</td>\n",
       "      <td>0.0</td>\n",
       "    </tr>\n",
       "    <tr>\n",
       "      <th>...</th>\n",
       "      <td>...</td>\n",
       "      <td>...</td>\n",
       "      <td>...</td>\n",
       "      <td>...</td>\n",
       "      <td>...</td>\n",
       "      <td>...</td>\n",
       "      <td>...</td>\n",
       "      <td>...</td>\n",
       "      <td>...</td>\n",
       "      <td>...</td>\n",
       "      <td>...</td>\n",
       "      <td>...</td>\n",
       "      <td>...</td>\n",
       "      <td>...</td>\n",
       "      <td>...</td>\n",
       "      <td>...</td>\n",
       "      <td>...</td>\n",
       "      <td>...</td>\n",
       "      <td>...</td>\n",
       "      <td>...</td>\n",
       "      <td>...</td>\n",
       "    </tr>\n",
       "    <tr>\n",
       "      <th>307500</th>\n",
       "      <td>0.717914</td>\n",
       "      <td>1.504799</td>\n",
       "      <td>-0.577536</td>\n",
       "      <td>-0.047640</td>\n",
       "      <td>-0.855489</td>\n",
       "      <td>0.031010</td>\n",
       "      <td>-0.848434</td>\n",
       "      <td>-0.619585</td>\n",
       "      <td>0.845401</td>\n",
       "      <td>-0.943559</td>\n",
       "      <td>...</td>\n",
       "      <td>0.0</td>\n",
       "      <td>0.0</td>\n",
       "      <td>0.0</td>\n",
       "      <td>0.0</td>\n",
       "      <td>0.0</td>\n",
       "      <td>1.0</td>\n",
       "      <td>0.0</td>\n",
       "      <td>0.0</td>\n",
       "      <td>0.0</td>\n",
       "      <td>0.0</td>\n",
       "    </tr>\n",
       "    <tr>\n",
       "      <th>307501</th>\n",
       "      <td>0.717914</td>\n",
       "      <td>-0.664541</td>\n",
       "      <td>-0.577536</td>\n",
       "      <td>-0.408210</td>\n",
       "      <td>-0.818594</td>\n",
       "      <td>-1.042330</td>\n",
       "      <td>-0.848434</td>\n",
       "      <td>-0.619585</td>\n",
       "      <td>0.310601</td>\n",
       "      <td>-0.282560</td>\n",
       "      <td>...</td>\n",
       "      <td>0.0</td>\n",
       "      <td>0.0</td>\n",
       "      <td>0.0</td>\n",
       "      <td>0.0</td>\n",
       "      <td>0.0</td>\n",
       "      <td>0.0</td>\n",
       "      <td>0.0</td>\n",
       "      <td>0.0</td>\n",
       "      <td>0.0</td>\n",
       "      <td>1.0</td>\n",
       "    </tr>\n",
       "    <tr>\n",
       "      <th>307502</th>\n",
       "      <td>0.717914</td>\n",
       "      <td>-0.664541</td>\n",
       "      <td>-0.577536</td>\n",
       "      <td>-0.066618</td>\n",
       "      <td>0.195371</td>\n",
       "      <td>0.198050</td>\n",
       "      <td>0.126409</td>\n",
       "      <td>1.613983</td>\n",
       "      <td>-1.147105</td>\n",
       "      <td>2.654019</td>\n",
       "      <td>...</td>\n",
       "      <td>0.0</td>\n",
       "      <td>0.0</td>\n",
       "      <td>0.0</td>\n",
       "      <td>0.0</td>\n",
       "      <td>0.0</td>\n",
       "      <td>0.0</td>\n",
       "      <td>1.0</td>\n",
       "      <td>0.0</td>\n",
       "      <td>0.0</td>\n",
       "      <td>0.0</td>\n",
       "    </tr>\n",
       "    <tr>\n",
       "      <th>307503</th>\n",
       "      <td>0.717914</td>\n",
       "      <td>-0.664541</td>\n",
       "      <td>-0.577536</td>\n",
       "      <td>0.009292</td>\n",
       "      <td>-0.568758</td>\n",
       "      <td>-0.476319</td>\n",
       "      <td>-0.592538</td>\n",
       "      <td>-0.619585</td>\n",
       "      <td>-1.124620</td>\n",
       "      <td>1.186432</td>\n",
       "      <td>...</td>\n",
       "      <td>0.0</td>\n",
       "      <td>0.0</td>\n",
       "      <td>0.0</td>\n",
       "      <td>0.0</td>\n",
       "      <td>0.0</td>\n",
       "      <td>1.0</td>\n",
       "      <td>0.0</td>\n",
       "      <td>0.0</td>\n",
       "      <td>0.0</td>\n",
       "      <td>0.0</td>\n",
       "    </tr>\n",
       "    <tr>\n",
       "      <th>307504</th>\n",
       "      <td>0.717914</td>\n",
       "      <td>1.504799</td>\n",
       "      <td>-0.577536</td>\n",
       "      <td>-0.047640</td>\n",
       "      <td>0.188753</td>\n",
       "      <td>1.518535</td>\n",
       "      <td>0.370120</td>\n",
       "      <td>1.613983</td>\n",
       "      <td>1.832943</td>\n",
       "      <td>-0.463258</td>\n",
       "      <td>...</td>\n",
       "      <td>1.0</td>\n",
       "      <td>0.0</td>\n",
       "      <td>0.0</td>\n",
       "      <td>0.0</td>\n",
       "      <td>0.0</td>\n",
       "      <td>0.0</td>\n",
       "      <td>0.0</td>\n",
       "      <td>0.0</td>\n",
       "      <td>0.0</td>\n",
       "      <td>0.0</td>\n",
       "    </tr>\n",
       "  </tbody>\n",
       "</table>\n",
       "<p>307505 rows × 140 columns</p>\n",
       "</div>"
      ],
      "text/plain": [
       "             0         1         2         3         4         5         6    \\\n",
       "0       0.717914 -0.664541 -0.577536  0.142134 -0.478097 -0.166147 -0.507239   \n",
       "1       0.717914  1.504799 -0.577536  0.426794  1.725431  0.592674  1.600859   \n",
       "2      -1.392925 -0.664541 -0.577536 -0.427188 -1.152885 -1.404664 -1.092145   \n",
       "3       0.717914 -0.664541 -0.577536 -0.142527 -0.711430  0.177869 -0.653465   \n",
       "4       0.717914 -0.664541 -0.577536 -0.199459 -0.213739 -0.361751 -0.068560   \n",
       "...          ...       ...       ...       ...       ...       ...       ...   \n",
       "307500  0.717914  1.504799 -0.577536 -0.047640 -0.855489  0.031010 -0.848434   \n",
       "307501  0.717914 -0.664541 -0.577536 -0.408210 -0.818594 -1.042330 -0.848434   \n",
       "307502  0.717914 -0.664541 -0.577536 -0.066618  0.195371  0.198050  0.126409   \n",
       "307503  0.717914 -0.664541 -0.577536  0.009292 -0.568758 -0.476319 -0.592538   \n",
       "307504  0.717914  1.504799 -0.577536 -0.047640  0.188753  1.518535  0.370120   \n",
       "\n",
       "             7         8         9    ...  130  131  132  133  134  135  136  \\\n",
       "0      -0.619585 -0.149442 -0.755839  ...  1.0  0.0  0.0  0.0  0.0  0.0  0.0   \n",
       "1       1.613983 -1.252735 -0.497899  ...  0.0  0.0  0.0  0.0  0.0  0.0  1.0   \n",
       "2      -0.619585 -0.783438 -0.948708  ...  0.0  0.0  1.0  0.0  0.0  0.0  0.0   \n",
       "3      -0.619585 -0.928977  0.368609  ...  1.0  0.0  0.0  0.0  0.0  0.0  0.0   \n",
       "4      -0.619585  0.563577  0.368141  ...  0.0  0.0  0.0  0.0  0.0  1.0  0.0   \n",
       "...          ...       ...       ...  ...  ...  ...  ...  ...  ...  ...  ...   \n",
       "307500 -0.619585  0.845401 -0.943559  ...  0.0  0.0  0.0  0.0  0.0  1.0  0.0   \n",
       "307501 -0.619585  0.310601 -0.282560  ...  0.0  0.0  0.0  0.0  0.0  0.0  0.0   \n",
       "307502  1.613983 -1.147105  2.654019  ...  0.0  0.0  0.0  0.0  0.0  0.0  1.0   \n",
       "307503 -0.619585 -1.124620  1.186432  ...  0.0  0.0  0.0  0.0  0.0  1.0  0.0   \n",
       "307504  1.613983  1.832943 -0.463258  ...  1.0  0.0  0.0  0.0  0.0  0.0  0.0   \n",
       "\n",
       "        137  138  139  \n",
       "0       0.0  0.0  0.0  \n",
       "1       0.0  0.0  0.0  \n",
       "2       0.0  0.0  0.0  \n",
       "3       0.0  0.0  0.0  \n",
       "4       0.0  0.0  0.0  \n",
       "...     ...  ...  ...  \n",
       "307500  0.0  0.0  0.0  \n",
       "307501  0.0  0.0  1.0  \n",
       "307502  0.0  0.0  0.0  \n",
       "307503  0.0  0.0  0.0  \n",
       "307504  0.0  0.0  0.0  \n",
       "\n",
       "[307505 rows x 140 columns]"
      ]
     },
     "execution_count": 20,
     "metadata": {},
     "output_type": "execute_result"
    }
   ],
   "source": [
    "pd.DataFrame(X_trans).head()"
   ]
  },
  {
   "cell_type": "code",
   "execution_count": 28,
   "metadata": {
    "ExecuteTime": {
     "end_time": "2021-05-11T11:04:04.847190Z",
     "start_time": "2021-05-11T11:04:04.698849Z"
    }
   },
   "outputs": [
    {
     "data": {
      "text/html": [
       "<div>\n",
       "<style scoped>\n",
       "    .dataframe tbody tr th:only-of-type {\n",
       "        vertical-align: middle;\n",
       "    }\n",
       "\n",
       "    .dataframe tbody tr th {\n",
       "        vertical-align: top;\n",
       "    }\n",
       "\n",
       "    .dataframe thead th {\n",
       "        text-align: right;\n",
       "    }\n",
       "</style>\n",
       "<table border=\"1\" class=\"dataframe\">\n",
       "  <thead>\n",
       "    <tr style=\"text-align: right;\">\n",
       "      <th></th>\n",
       "      <th>NAME_CONTRACT_TYPE</th>\n",
       "      <th>CODE_GENDER</th>\n",
       "      <th>FLAG_OWN_CAR</th>\n",
       "      <th>FLAG_OWN_REALTY</th>\n",
       "      <th>CNT_CHILDREN</th>\n",
       "      <th>AMT_INCOME_TOTAL</th>\n",
       "      <th>AMT_CREDIT</th>\n",
       "      <th>AMT_ANNUITY</th>\n",
       "      <th>AMT_GOODS_PRICE</th>\n",
       "      <th>NAME_TYPE_SUITE</th>\n",
       "      <th>...</th>\n",
       "      <th>CC_NAME_CONTRACT_STATUS_Completed_mean</th>\n",
       "      <th>CC_NAME_CONTRACT_STATUS_Completed_var</th>\n",
       "      <th>CC_SK_DPD_SUM_min</th>\n",
       "      <th>CC_SK_DPD_SUM_max</th>\n",
       "      <th>CC_SK_DPD_SUM_mean</th>\n",
       "      <th>CC_SK_DPD_SUM_var</th>\n",
       "      <th>CC_SK_DPD_DEF_SUM_min</th>\n",
       "      <th>CC_SK_DPD_DEF_SUM_max</th>\n",
       "      <th>CC_SK_DPD_DEF_SUM_mean</th>\n",
       "      <th>CC_SK_DPD_DEF_SUM_var</th>\n",
       "    </tr>\n",
       "  </thead>\n",
       "  <tbody>\n",
       "    <tr>\n",
       "      <th>1</th>\n",
       "      <td>Cash loans</td>\n",
       "      <td>0</td>\n",
       "      <td>1.0</td>\n",
       "      <td>0.0</td>\n",
       "      <td>0.0</td>\n",
       "      <td>202500.0</td>\n",
       "      <td>406597.5</td>\n",
       "      <td>24700.5</td>\n",
       "      <td>351000.0</td>\n",
       "      <td>Unaccompanied</td>\n",
       "      <td>...</td>\n",
       "      <td>NaN</td>\n",
       "      <td>NaN</td>\n",
       "      <td>NaN</td>\n",
       "      <td>NaN</td>\n",
       "      <td>NaN</td>\n",
       "      <td>NaN</td>\n",
       "      <td>NaN</td>\n",
       "      <td>NaN</td>\n",
       "      <td>NaN</td>\n",
       "      <td>NaN</td>\n",
       "    </tr>\n",
       "    <tr>\n",
       "      <th>2</th>\n",
       "      <td>Cash loans</td>\n",
       "      <td>1</td>\n",
       "      <td>1.0</td>\n",
       "      <td>1.0</td>\n",
       "      <td>0.0</td>\n",
       "      <td>270000.0</td>\n",
       "      <td>1293502.5</td>\n",
       "      <td>35698.5</td>\n",
       "      <td>1129500.0</td>\n",
       "      <td>Family</td>\n",
       "      <td>...</td>\n",
       "      <td>NaN</td>\n",
       "      <td>NaN</td>\n",
       "      <td>NaN</td>\n",
       "      <td>NaN</td>\n",
       "      <td>NaN</td>\n",
       "      <td>NaN</td>\n",
       "      <td>NaN</td>\n",
       "      <td>NaN</td>\n",
       "      <td>NaN</td>\n",
       "      <td>NaN</td>\n",
       "    </tr>\n",
       "    <tr>\n",
       "      <th>3</th>\n",
       "      <td>Revolving loans</td>\n",
       "      <td>0</td>\n",
       "      <td>0.0</td>\n",
       "      <td>0.0</td>\n",
       "      <td>0.0</td>\n",
       "      <td>67500.0</td>\n",
       "      <td>135000.0</td>\n",
       "      <td>6750.0</td>\n",
       "      <td>135000.0</td>\n",
       "      <td>Unaccompanied</td>\n",
       "      <td>...</td>\n",
       "      <td>NaN</td>\n",
       "      <td>NaN</td>\n",
       "      <td>NaN</td>\n",
       "      <td>NaN</td>\n",
       "      <td>NaN</td>\n",
       "      <td>NaN</td>\n",
       "      <td>NaN</td>\n",
       "      <td>NaN</td>\n",
       "      <td>NaN</td>\n",
       "      <td>NaN</td>\n",
       "    </tr>\n",
       "    <tr>\n",
       "      <th>5</th>\n",
       "      <td>Cash loans</td>\n",
       "      <td>1</td>\n",
       "      <td>1.0</td>\n",
       "      <td>0.0</td>\n",
       "      <td>0.0</td>\n",
       "      <td>135000.0</td>\n",
       "      <td>312682.5</td>\n",
       "      <td>29686.5</td>\n",
       "      <td>297000.0</td>\n",
       "      <td>Unaccompanied</td>\n",
       "      <td>...</td>\n",
       "      <td>0.0</td>\n",
       "      <td>0.0</td>\n",
       "      <td>0.0</td>\n",
       "      <td>0.0</td>\n",
       "      <td>0.0</td>\n",
       "      <td>0.0</td>\n",
       "      <td>0.0</td>\n",
       "      <td>0.0</td>\n",
       "      <td>0.0</td>\n",
       "      <td>0.0</td>\n",
       "    </tr>\n",
       "    <tr>\n",
       "      <th>6</th>\n",
       "      <td>Cash loans</td>\n",
       "      <td>0</td>\n",
       "      <td>1.0</td>\n",
       "      <td>0.0</td>\n",
       "      <td>0.0</td>\n",
       "      <td>121500.0</td>\n",
       "      <td>513000.0</td>\n",
       "      <td>21865.5</td>\n",
       "      <td>513000.0</td>\n",
       "      <td>Unaccompanied</td>\n",
       "      <td>...</td>\n",
       "      <td>NaN</td>\n",
       "      <td>NaN</td>\n",
       "      <td>NaN</td>\n",
       "      <td>NaN</td>\n",
       "      <td>NaN</td>\n",
       "      <td>NaN</td>\n",
       "      <td>NaN</td>\n",
       "      <td>NaN</td>\n",
       "      <td>NaN</td>\n",
       "      <td>NaN</td>\n",
       "    </tr>\n",
       "  </tbody>\n",
       "</table>\n",
       "<p>5 rows × 102 columns</p>\n",
       "</div>"
      ],
      "text/plain": [
       "  NAME_CONTRACT_TYPE CODE_GENDER  FLAG_OWN_CAR  FLAG_OWN_REALTY  CNT_CHILDREN  \\\n",
       "1         Cash loans           0           1.0              0.0           0.0   \n",
       "2         Cash loans           1           1.0              1.0           0.0   \n",
       "3    Revolving loans           0           0.0              0.0           0.0   \n",
       "5         Cash loans           1           1.0              0.0           0.0   \n",
       "6         Cash loans           0           1.0              0.0           0.0   \n",
       "\n",
       "   AMT_INCOME_TOTAL  AMT_CREDIT  AMT_ANNUITY  AMT_GOODS_PRICE NAME_TYPE_SUITE  \\\n",
       "1          202500.0    406597.5      24700.5         351000.0   Unaccompanied   \n",
       "2          270000.0   1293502.5      35698.5        1129500.0          Family   \n",
       "3           67500.0    135000.0       6750.0         135000.0   Unaccompanied   \n",
       "5          135000.0    312682.5      29686.5         297000.0   Unaccompanied   \n",
       "6          121500.0    513000.0      21865.5         513000.0   Unaccompanied   \n",
       "\n",
       "   ... CC_NAME_CONTRACT_STATUS_Completed_mean  \\\n",
       "1  ...                                    NaN   \n",
       "2  ...                                    NaN   \n",
       "3  ...                                    NaN   \n",
       "5  ...                                    0.0   \n",
       "6  ...                                    NaN   \n",
       "\n",
       "   CC_NAME_CONTRACT_STATUS_Completed_var CC_SK_DPD_SUM_min CC_SK_DPD_SUM_max  \\\n",
       "1                                    NaN               NaN               NaN   \n",
       "2                                    NaN               NaN               NaN   \n",
       "3                                    NaN               NaN               NaN   \n",
       "5                                    0.0               0.0               0.0   \n",
       "6                                    NaN               NaN               NaN   \n",
       "\n",
       "   CC_SK_DPD_SUM_mean  CC_SK_DPD_SUM_var  CC_SK_DPD_DEF_SUM_min  \\\n",
       "1                 NaN                NaN                    NaN   \n",
       "2                 NaN                NaN                    NaN   \n",
       "3                 NaN                NaN                    NaN   \n",
       "5                 0.0                0.0                    0.0   \n",
       "6                 NaN                NaN                    NaN   \n",
       "\n",
       "   CC_SK_DPD_DEF_SUM_max  CC_SK_DPD_DEF_SUM_mean  CC_SK_DPD_DEF_SUM_var  \n",
       "1                    NaN                     NaN                    NaN  \n",
       "2                    NaN                     NaN                    NaN  \n",
       "3                    NaN                     NaN                    NaN  \n",
       "5                    0.0                     0.0                    0.0  \n",
       "6                    NaN                     NaN                    NaN  \n",
       "\n",
       "[5 rows x 102 columns]"
      ]
     },
     "execution_count": 28,
     "metadata": {},
     "output_type": "execute_result"
    }
   ],
   "source": [
    "X.head()"
   ]
  },
  {
   "cell_type": "code",
   "execution_count": null,
   "metadata": {},
   "outputs": [],
   "source": []
  },
  {
   "cell_type": "code",
   "execution_count": 23,
   "metadata": {
    "ExecuteTime": {
     "end_time": "2021-05-11T10:50:54.752468Z",
     "start_time": "2021-05-11T10:50:48.152866Z"
    }
   },
   "outputs": [],
   "source": [
    "from feature_importance import FeatureImportance"
   ]
  },
  {
   "cell_type": "code",
   "execution_count": 24,
   "metadata": {
    "ExecuteTime": {
     "end_time": "2021-05-11T10:52:08.734993Z",
     "start_time": "2021-05-11T10:52:08.720047Z"
    }
   },
   "outputs": [],
   "source": [
    "categorical_pipe = Pipeline(steps=[\n",
    "    ('cat_imp', SimpleImputer(strategy='most_frequent', add_indicator=False)),\n",
    "  ('one_hot_encoder', OneHotEncoder(sparse=False, handle_unknown='ignore'))\n",
    "])\n",
    "\n",
    "# numerical \n",
    "numerical_pipe = Pipeline(steps=[\n",
    "    ('num_imp', SimpleImputer(strategy='median', add_indicator=False)),\n",
    "    (\"scale\", StandardScaler())  \n",
    "])\n",
    "\n",
    "\n",
    "# transform columns \n",
    "ct = ColumnTransformer(transformers=[    \n",
    "    ('num_pip', numerical_pipe, num_cols),\n",
    "    ('cat_pipe', categorical_pipe, cat_cols)\n",
    "])"
   ]
  },
  {
   "cell_type": "code",
   "execution_count": 25,
   "metadata": {
    "ExecuteTime": {
     "end_time": "2021-05-11T10:52:31.462623Z",
     "start_time": "2021-05-11T10:52:31.412730Z"
    }
   },
   "outputs": [],
   "source": [
    "pipe_model = Pipeline([\n",
    "    ('col_trans_step', ct),\n",
    "    ('logistic_reg', LogisticRegression(solver='lbfgs', random_state=42,max_iter=1000))\n",
    "])"
   ]
  },
  {
   "cell_type": "code",
   "execution_count": 26,
   "metadata": {
    "ExecuteTime": {
     "end_time": "2021-05-11T10:53:21.764636Z",
     "start_time": "2021-05-11T10:53:20.926303Z"
    }
   },
   "outputs": [
    {
     "ename": "ValueError",
     "evalue": "Specifying the columns using strings is only supported for pandas DataFrames",
     "output_type": "error",
     "traceback": [
      "\u001b[0;31m---------------------------------------------------------------------------\u001b[0m",
      "\u001b[0;31mAttributeError\u001b[0m                            Traceback (most recent call last)",
      "\u001b[0;32m~/opt/anaconda3/lib/python3.7/site-packages/sklearn/utils/__init__.py\u001b[0m in \u001b[0;36m_get_column_indices\u001b[0;34m(X, key)\u001b[0m\n\u001b[1;32m    373\u001b[0m         \u001b[0;32mtry\u001b[0m\u001b[0;34m:\u001b[0m\u001b[0;34m\u001b[0m\u001b[0;34m\u001b[0m\u001b[0m\n\u001b[0;32m--> 374\u001b[0;31m             \u001b[0mall_columns\u001b[0m \u001b[0;34m=\u001b[0m \u001b[0mX\u001b[0m\u001b[0;34m.\u001b[0m\u001b[0mcolumns\u001b[0m\u001b[0;34m\u001b[0m\u001b[0;34m\u001b[0m\u001b[0m\n\u001b[0m\u001b[1;32m    375\u001b[0m         \u001b[0;32mexcept\u001b[0m \u001b[0mAttributeError\u001b[0m\u001b[0;34m:\u001b[0m\u001b[0;34m\u001b[0m\u001b[0;34m\u001b[0m\u001b[0m\n",
      "\u001b[0;31mAttributeError\u001b[0m: 'numpy.ndarray' object has no attribute 'columns'",
      "\nDuring handling of the above exception, another exception occurred:\n",
      "\u001b[0;31mValueError\u001b[0m                                Traceback (most recent call last)",
      "\u001b[0;32m<ipython-input-26-44abcbd3a4aa>\u001b[0m in \u001b[0;36m<module>\u001b[0;34m\u001b[0m\n\u001b[0;32m----> 1\u001b[0;31m \u001b[0mpipe_model\u001b[0m\u001b[0;34m.\u001b[0m\u001b[0mfit\u001b[0m\u001b[0;34m(\u001b[0m\u001b[0mX_train\u001b[0m\u001b[0;34m,\u001b[0m \u001b[0my_train\u001b[0m\u001b[0;34m)\u001b[0m\u001b[0;34m\u001b[0m\u001b[0;34m\u001b[0m\u001b[0m\n\u001b[0m",
      "\u001b[0;32m~/opt/anaconda3/lib/python3.7/site-packages/sklearn/pipeline.py\u001b[0m in \u001b[0;36mfit\u001b[0;34m(self, X, y, **fit_params)\u001b[0m\n\u001b[1;32m    339\u001b[0m         \"\"\"\n\u001b[1;32m    340\u001b[0m         \u001b[0mfit_params_steps\u001b[0m \u001b[0;34m=\u001b[0m \u001b[0mself\u001b[0m\u001b[0;34m.\u001b[0m\u001b[0m_check_fit_params\u001b[0m\u001b[0;34m(\u001b[0m\u001b[0;34m**\u001b[0m\u001b[0mfit_params\u001b[0m\u001b[0;34m)\u001b[0m\u001b[0;34m\u001b[0m\u001b[0;34m\u001b[0m\u001b[0m\n\u001b[0;32m--> 341\u001b[0;31m         \u001b[0mXt\u001b[0m \u001b[0;34m=\u001b[0m \u001b[0mself\u001b[0m\u001b[0;34m.\u001b[0m\u001b[0m_fit\u001b[0m\u001b[0;34m(\u001b[0m\u001b[0mX\u001b[0m\u001b[0;34m,\u001b[0m \u001b[0my\u001b[0m\u001b[0;34m,\u001b[0m \u001b[0;34m**\u001b[0m\u001b[0mfit_params_steps\u001b[0m\u001b[0;34m)\u001b[0m\u001b[0;34m\u001b[0m\u001b[0;34m\u001b[0m\u001b[0m\n\u001b[0m\u001b[1;32m    342\u001b[0m         with _print_elapsed_time('Pipeline',\n\u001b[1;32m    343\u001b[0m                                  self._log_message(len(self.steps) - 1)):\n",
      "\u001b[0;32m~/opt/anaconda3/lib/python3.7/site-packages/sklearn/pipeline.py\u001b[0m in \u001b[0;36m_fit\u001b[0;34m(self, X, y, **fit_params_steps)\u001b[0m\n\u001b[1;32m    305\u001b[0m                 \u001b[0mmessage_clsname\u001b[0m\u001b[0;34m=\u001b[0m\u001b[0;34m'Pipeline'\u001b[0m\u001b[0;34m,\u001b[0m\u001b[0;34m\u001b[0m\u001b[0;34m\u001b[0m\u001b[0m\n\u001b[1;32m    306\u001b[0m                 \u001b[0mmessage\u001b[0m\u001b[0;34m=\u001b[0m\u001b[0mself\u001b[0m\u001b[0;34m.\u001b[0m\u001b[0m_log_message\u001b[0m\u001b[0;34m(\u001b[0m\u001b[0mstep_idx\u001b[0m\u001b[0;34m)\u001b[0m\u001b[0;34m,\u001b[0m\u001b[0;34m\u001b[0m\u001b[0;34m\u001b[0m\u001b[0m\n\u001b[0;32m--> 307\u001b[0;31m                 **fit_params_steps[name])\n\u001b[0m\u001b[1;32m    308\u001b[0m             \u001b[0;31m# Replace the transformer of the step with the fitted\u001b[0m\u001b[0;34m\u001b[0m\u001b[0;34m\u001b[0m\u001b[0;34m\u001b[0m\u001b[0m\n\u001b[1;32m    309\u001b[0m             \u001b[0;31m# transformer. This is necessary when loading the transformer\u001b[0m\u001b[0;34m\u001b[0m\u001b[0;34m\u001b[0m\u001b[0;34m\u001b[0m\u001b[0m\n",
      "\u001b[0;32m~/opt/anaconda3/lib/python3.7/site-packages/joblib/memory.py\u001b[0m in \u001b[0;36m__call__\u001b[0;34m(self, *args, **kwargs)\u001b[0m\n\u001b[1;32m    353\u001b[0m \u001b[0;34m\u001b[0m\u001b[0m\n\u001b[1;32m    354\u001b[0m     \u001b[0;32mdef\u001b[0m \u001b[0m__call__\u001b[0m\u001b[0;34m(\u001b[0m\u001b[0mself\u001b[0m\u001b[0;34m,\u001b[0m \u001b[0;34m*\u001b[0m\u001b[0margs\u001b[0m\u001b[0;34m,\u001b[0m \u001b[0;34m**\u001b[0m\u001b[0mkwargs\u001b[0m\u001b[0;34m)\u001b[0m\u001b[0;34m:\u001b[0m\u001b[0;34m\u001b[0m\u001b[0;34m\u001b[0m\u001b[0m\n\u001b[0;32m--> 355\u001b[0;31m         \u001b[0;32mreturn\u001b[0m \u001b[0mself\u001b[0m\u001b[0;34m.\u001b[0m\u001b[0mfunc\u001b[0m\u001b[0;34m(\u001b[0m\u001b[0;34m*\u001b[0m\u001b[0margs\u001b[0m\u001b[0;34m,\u001b[0m \u001b[0;34m**\u001b[0m\u001b[0mkwargs\u001b[0m\u001b[0;34m)\u001b[0m\u001b[0;34m\u001b[0m\u001b[0;34m\u001b[0m\u001b[0m\n\u001b[0m\u001b[1;32m    356\u001b[0m \u001b[0;34m\u001b[0m\u001b[0m\n\u001b[1;32m    357\u001b[0m     \u001b[0;32mdef\u001b[0m \u001b[0mcall_and_shelve\u001b[0m\u001b[0;34m(\u001b[0m\u001b[0mself\u001b[0m\u001b[0;34m,\u001b[0m \u001b[0;34m*\u001b[0m\u001b[0margs\u001b[0m\u001b[0;34m,\u001b[0m \u001b[0;34m**\u001b[0m\u001b[0mkwargs\u001b[0m\u001b[0;34m)\u001b[0m\u001b[0;34m:\u001b[0m\u001b[0;34m\u001b[0m\u001b[0;34m\u001b[0m\u001b[0m\n",
      "\u001b[0;32m~/opt/anaconda3/lib/python3.7/site-packages/sklearn/pipeline.py\u001b[0m in \u001b[0;36m_fit_transform_one\u001b[0;34m(transformer, X, y, weight, message_clsname, message, **fit_params)\u001b[0m\n\u001b[1;32m    752\u001b[0m     \u001b[0;32mwith\u001b[0m \u001b[0m_print_elapsed_time\u001b[0m\u001b[0;34m(\u001b[0m\u001b[0mmessage_clsname\u001b[0m\u001b[0;34m,\u001b[0m \u001b[0mmessage\u001b[0m\u001b[0;34m)\u001b[0m\u001b[0;34m:\u001b[0m\u001b[0;34m\u001b[0m\u001b[0;34m\u001b[0m\u001b[0m\n\u001b[1;32m    753\u001b[0m         \u001b[0;32mif\u001b[0m \u001b[0mhasattr\u001b[0m\u001b[0;34m(\u001b[0m\u001b[0mtransformer\u001b[0m\u001b[0;34m,\u001b[0m \u001b[0;34m'fit_transform'\u001b[0m\u001b[0;34m)\u001b[0m\u001b[0;34m:\u001b[0m\u001b[0;34m\u001b[0m\u001b[0;34m\u001b[0m\u001b[0m\n\u001b[0;32m--> 754\u001b[0;31m             \u001b[0mres\u001b[0m \u001b[0;34m=\u001b[0m \u001b[0mtransformer\u001b[0m\u001b[0;34m.\u001b[0m\u001b[0mfit_transform\u001b[0m\u001b[0;34m(\u001b[0m\u001b[0mX\u001b[0m\u001b[0;34m,\u001b[0m \u001b[0my\u001b[0m\u001b[0;34m,\u001b[0m \u001b[0;34m**\u001b[0m\u001b[0mfit_params\u001b[0m\u001b[0;34m)\u001b[0m\u001b[0;34m\u001b[0m\u001b[0;34m\u001b[0m\u001b[0m\n\u001b[0m\u001b[1;32m    755\u001b[0m         \u001b[0;32melse\u001b[0m\u001b[0;34m:\u001b[0m\u001b[0;34m\u001b[0m\u001b[0;34m\u001b[0m\u001b[0m\n\u001b[1;32m    756\u001b[0m             \u001b[0mres\u001b[0m \u001b[0;34m=\u001b[0m \u001b[0mtransformer\u001b[0m\u001b[0;34m.\u001b[0m\u001b[0mfit\u001b[0m\u001b[0;34m(\u001b[0m\u001b[0mX\u001b[0m\u001b[0;34m,\u001b[0m \u001b[0my\u001b[0m\u001b[0;34m,\u001b[0m \u001b[0;34m**\u001b[0m\u001b[0mfit_params\u001b[0m\u001b[0;34m)\u001b[0m\u001b[0;34m.\u001b[0m\u001b[0mtransform\u001b[0m\u001b[0;34m(\u001b[0m\u001b[0mX\u001b[0m\u001b[0;34m)\u001b[0m\u001b[0;34m\u001b[0m\u001b[0;34m\u001b[0m\u001b[0m\n",
      "\u001b[0;32m~/opt/anaconda3/lib/python3.7/site-packages/sklearn/compose/_column_transformer.py\u001b[0m in \u001b[0;36mfit_transform\u001b[0;34m(self, X, y)\u001b[0m\n\u001b[1;32m    503\u001b[0m         \u001b[0mself\u001b[0m\u001b[0;34m.\u001b[0m\u001b[0m_validate_transformers\u001b[0m\u001b[0;34m(\u001b[0m\u001b[0;34m)\u001b[0m\u001b[0;34m\u001b[0m\u001b[0;34m\u001b[0m\u001b[0m\n\u001b[1;32m    504\u001b[0m         \u001b[0mself\u001b[0m\u001b[0;34m.\u001b[0m\u001b[0m_validate_column_callables\u001b[0m\u001b[0;34m(\u001b[0m\u001b[0mX\u001b[0m\u001b[0;34m)\u001b[0m\u001b[0;34m\u001b[0m\u001b[0;34m\u001b[0m\u001b[0m\n\u001b[0;32m--> 505\u001b[0;31m         \u001b[0mself\u001b[0m\u001b[0;34m.\u001b[0m\u001b[0m_validate_remainder\u001b[0m\u001b[0;34m(\u001b[0m\u001b[0mX\u001b[0m\u001b[0;34m)\u001b[0m\u001b[0;34m\u001b[0m\u001b[0;34m\u001b[0m\u001b[0m\n\u001b[0m\u001b[1;32m    506\u001b[0m \u001b[0;34m\u001b[0m\u001b[0m\n\u001b[1;32m    507\u001b[0m         \u001b[0mresult\u001b[0m \u001b[0;34m=\u001b[0m \u001b[0mself\u001b[0m\u001b[0;34m.\u001b[0m\u001b[0m_fit_transform\u001b[0m\u001b[0;34m(\u001b[0m\u001b[0mX\u001b[0m\u001b[0;34m,\u001b[0m \u001b[0my\u001b[0m\u001b[0;34m,\u001b[0m \u001b[0m_fit_transform_one\u001b[0m\u001b[0;34m)\u001b[0m\u001b[0;34m\u001b[0m\u001b[0;34m\u001b[0m\u001b[0m\n",
      "\u001b[0;32m~/opt/anaconda3/lib/python3.7/site-packages/sklearn/compose/_column_transformer.py\u001b[0m in \u001b[0;36m_validate_remainder\u001b[0;34m(self, X)\u001b[0m\n\u001b[1;32m    330\u001b[0m         \u001b[0mcols\u001b[0m \u001b[0;34m=\u001b[0m \u001b[0;34m[\u001b[0m\u001b[0;34m]\u001b[0m\u001b[0;34m\u001b[0m\u001b[0;34m\u001b[0m\u001b[0m\n\u001b[1;32m    331\u001b[0m         \u001b[0;32mfor\u001b[0m \u001b[0mcolumns\u001b[0m \u001b[0;32min\u001b[0m \u001b[0mself\u001b[0m\u001b[0;34m.\u001b[0m\u001b[0m_columns\u001b[0m\u001b[0;34m:\u001b[0m\u001b[0;34m\u001b[0m\u001b[0;34m\u001b[0m\u001b[0m\n\u001b[0;32m--> 332\u001b[0;31m             \u001b[0mcols\u001b[0m\u001b[0;34m.\u001b[0m\u001b[0mextend\u001b[0m\u001b[0;34m(\u001b[0m\u001b[0m_get_column_indices\u001b[0m\u001b[0;34m(\u001b[0m\u001b[0mX\u001b[0m\u001b[0;34m,\u001b[0m \u001b[0mcolumns\u001b[0m\u001b[0;34m)\u001b[0m\u001b[0;34m)\u001b[0m\u001b[0;34m\u001b[0m\u001b[0;34m\u001b[0m\u001b[0m\n\u001b[0m\u001b[1;32m    333\u001b[0m \u001b[0;34m\u001b[0m\u001b[0m\n\u001b[1;32m    334\u001b[0m         \u001b[0mremaining_idx\u001b[0m \u001b[0;34m=\u001b[0m \u001b[0msorted\u001b[0m\u001b[0;34m(\u001b[0m\u001b[0mset\u001b[0m\u001b[0;34m(\u001b[0m\u001b[0mrange\u001b[0m\u001b[0;34m(\u001b[0m\u001b[0mself\u001b[0m\u001b[0;34m.\u001b[0m\u001b[0m_n_features\u001b[0m\u001b[0;34m)\u001b[0m\u001b[0;34m)\u001b[0m \u001b[0;34m-\u001b[0m \u001b[0mset\u001b[0m\u001b[0;34m(\u001b[0m\u001b[0mcols\u001b[0m\u001b[0;34m)\u001b[0m\u001b[0;34m)\u001b[0m\u001b[0;34m\u001b[0m\u001b[0;34m\u001b[0m\u001b[0m\n",
      "\u001b[0;32m~/opt/anaconda3/lib/python3.7/site-packages/sklearn/utils/__init__.py\u001b[0m in \u001b[0;36m_get_column_indices\u001b[0;34m(X, key)\u001b[0m\n\u001b[1;32m    374\u001b[0m             \u001b[0mall_columns\u001b[0m \u001b[0;34m=\u001b[0m \u001b[0mX\u001b[0m\u001b[0;34m.\u001b[0m\u001b[0mcolumns\u001b[0m\u001b[0;34m\u001b[0m\u001b[0;34m\u001b[0m\u001b[0m\n\u001b[1;32m    375\u001b[0m         \u001b[0;32mexcept\u001b[0m \u001b[0mAttributeError\u001b[0m\u001b[0;34m:\u001b[0m\u001b[0;34m\u001b[0m\u001b[0;34m\u001b[0m\u001b[0m\n\u001b[0;32m--> 376\u001b[0;31m             raise ValueError(\"Specifying the columns using strings is only \"\n\u001b[0m\u001b[1;32m    377\u001b[0m                              \"supported for pandas DataFrames\")\n\u001b[1;32m    378\u001b[0m         \u001b[0;32mif\u001b[0m \u001b[0misinstance\u001b[0m\u001b[0;34m(\u001b[0m\u001b[0mkey\u001b[0m\u001b[0;34m,\u001b[0m \u001b[0mstr\u001b[0m\u001b[0;34m)\u001b[0m\u001b[0;34m:\u001b[0m\u001b[0;34m\u001b[0m\u001b[0;34m\u001b[0m\u001b[0m\n",
      "\u001b[0;31mValueError\u001b[0m: Specifying the columns using strings is only supported for pandas DataFrames"
     ]
    }
   ],
   "source": [
    "pipe_model.fit(X_train, y_train)"
   ]
  },
  {
   "cell_type": "code",
   "execution_count": null,
   "metadata": {},
   "outputs": [],
   "source": []
  },
  {
   "cell_type": "code",
   "execution_count": null,
   "metadata": {},
   "outputs": [],
   "source": []
  },
  {
   "cell_type": "code",
   "execution_count": null,
   "metadata": {},
   "outputs": [],
   "source": []
  },
  {
   "cell_type": "code",
   "execution_count": null,
   "metadata": {},
   "outputs": [],
   "source": []
  },
  {
   "cell_type": "code",
   "execution_count": null,
   "metadata": {},
   "outputs": [],
   "source": []
  },
  {
   "cell_type": "code",
   "execution_count": null,
   "metadata": {},
   "outputs": [],
   "source": []
  },
  {
   "cell_type": "code",
   "execution_count": null,
   "metadata": {},
   "outputs": [],
   "source": []
  },
  {
   "cell_type": "code",
   "execution_count": null,
   "metadata": {},
   "outputs": [],
   "source": []
  },
  {
   "cell_type": "code",
   "execution_count": null,
   "metadata": {},
   "outputs": [],
   "source": []
  },
  {
   "cell_type": "code",
   "execution_count": null,
   "metadata": {},
   "outputs": [],
   "source": []
  },
  {
   "cell_type": "code",
   "execution_count": null,
   "metadata": {},
   "outputs": [],
   "source": []
  },
  {
   "cell_type": "code",
   "execution_count": null,
   "metadata": {},
   "outputs": [],
   "source": []
  },
  {
   "cell_type": "code",
   "execution_count": null,
   "metadata": {},
   "outputs": [],
   "source": []
  },
  {
   "cell_type": "code",
   "execution_count": null,
   "metadata": {},
   "outputs": [],
   "source": []
  },
  {
   "cell_type": "code",
   "execution_count": null,
   "metadata": {},
   "outputs": [],
   "source": []
  },
  {
   "cell_type": "code",
   "execution_count": null,
   "metadata": {},
   "outputs": [],
   "source": []
  },
  {
   "cell_type": "code",
   "execution_count": null,
   "metadata": {},
   "outputs": [],
   "source": []
  },
  {
   "cell_type": "code",
   "execution_count": null,
   "metadata": {},
   "outputs": [],
   "source": []
  },
  {
   "cell_type": "code",
   "execution_count": null,
   "metadata": {},
   "outputs": [],
   "source": []
  },
  {
   "cell_type": "code",
   "execution_count": null,
   "metadata": {},
   "outputs": [],
   "source": []
  },
  {
   "cell_type": "code",
   "execution_count": null,
   "metadata": {},
   "outputs": [],
   "source": []
  },
  {
   "cell_type": "code",
   "execution_count": null,
   "metadata": {},
   "outputs": [],
   "source": []
  },
  {
   "cell_type": "code",
   "execution_count": null,
   "metadata": {},
   "outputs": [],
   "source": []
  },
  {
   "cell_type": "code",
   "execution_count": null,
   "metadata": {},
   "outputs": [],
   "source": []
  },
  {
   "cell_type": "code",
   "execution_count": null,
   "metadata": {},
   "outputs": [],
   "source": []
  },
  {
   "cell_type": "code",
   "execution_count": null,
   "metadata": {},
   "outputs": [],
   "source": []
  },
  {
   "cell_type": "code",
   "execution_count": null,
   "metadata": {},
   "outputs": [],
   "source": []
  },
  {
   "cell_type": "code",
   "execution_count": null,
   "metadata": {},
   "outputs": [],
   "source": []
  },
  {
   "cell_type": "code",
   "execution_count": null,
   "metadata": {},
   "outputs": [],
   "source": []
  },
  {
   "cell_type": "code",
   "execution_count": null,
   "metadata": {},
   "outputs": [],
   "source": []
  },
  {
   "cell_type": "code",
   "execution_count": null,
   "metadata": {},
   "outputs": [],
   "source": []
  },
  {
   "cell_type": "code",
   "execution_count": 20,
   "metadata": {
    "ExecuteTime": {
     "end_time": "2021-05-11T07:00:31.797551Z",
     "start_time": "2021-05-11T07:00:27.507611Z"
    }
   },
   "outputs": [
    {
     "name": "stderr",
     "output_type": "stream",
     "text": [
      "/Users/eyobmanhardt/Desktop/applied_ml_final_project/project-home-credit/utils/data_extract_utils.py:91: SettingWithCopyWarning: \n",
      "A value is trying to be set on a copy of a slice from a DataFrame.\n",
      "Try using .loc[row_indexer,col_indexer] = value instead\n",
      "\n",
      "See the caveats in the documentation: https://pandas.pydata.org/pandas-docs/stable/user_guide/indexing.html#returning-a-view-versus-a-copy\n",
      "  full_trimmed['SK_DPD_DEF_SUM'] = dpd_df_counts_sum['SK_DPD_DEF']\n",
      "/Users/eyobmanhardt/Desktop/applied_ml_final_project/project-home-credit/utils/data_extract_utils.py:92: SettingWithCopyWarning: \n",
      "A value is trying to be set on a copy of a slice from a DataFrame.\n",
      "Try using .loc[row_indexer,col_indexer] = value instead\n",
      "\n",
      "See the caveats in the documentation: https://pandas.pydata.org/pandas-docs/stable/user_guide/indexing.html#returning-a-view-versus-a-copy\n",
      "  \n"
     ]
    },
    {
     "data": {
      "text/html": [
       "<div>\n",
       "<style scoped>\n",
       "    .dataframe tbody tr th:only-of-type {\n",
       "        vertical-align: middle;\n",
       "    }\n",
       "\n",
       "    .dataframe tbody tr th {\n",
       "        vertical-align: top;\n",
       "    }\n",
       "\n",
       "    .dataframe thead th {\n",
       "        text-align: right;\n",
       "    }\n",
       "</style>\n",
       "<table border=\"1\" class=\"dataframe\">\n",
       "  <thead>\n",
       "    <tr style=\"text-align: right;\">\n",
       "      <th></th>\n",
       "      <th>MONTHS_BALANCE</th>\n",
       "      <th>AMT_BALANCE</th>\n",
       "      <th>AMT_CREDIT_LIMIT_ACTUAL</th>\n",
       "      <th>AMT_RECEIVABLE_PRINCIPAL</th>\n",
       "      <th>AMT_TOTAL_RECEIVABLE</th>\n",
       "      <th>NAME_CONTRACT_STATUS_Completed</th>\n",
       "      <th>SK_ID_CURR</th>\n",
       "      <th>SK_DPD_SUM</th>\n",
       "      <th>SK_DPD_DEF_SUM</th>\n",
       "    </tr>\n",
       "  </thead>\n",
       "  <tbody>\n",
       "    <tr>\n",
       "      <th>0</th>\n",
       "      <td>-6</td>\n",
       "      <td>56.970</td>\n",
       "      <td>135000</td>\n",
       "      <td>0.000</td>\n",
       "      <td>0.000</td>\n",
       "      <td>0</td>\n",
       "      <td>378907</td>\n",
       "      <td>0.0</td>\n",
       "      <td>0.0</td>\n",
       "    </tr>\n",
       "    <tr>\n",
       "      <th>1</th>\n",
       "      <td>-1</td>\n",
       "      <td>63975.555</td>\n",
       "      <td>45000</td>\n",
       "      <td>60175.080</td>\n",
       "      <td>64875.555</td>\n",
       "      <td>0</td>\n",
       "      <td>363914</td>\n",
       "      <td>0.0</td>\n",
       "      <td>0.0</td>\n",
       "    </tr>\n",
       "    <tr>\n",
       "      <th>2</th>\n",
       "      <td>-7</td>\n",
       "      <td>31815.225</td>\n",
       "      <td>450000</td>\n",
       "      <td>26926.425</td>\n",
       "      <td>31460.085</td>\n",
       "      <td>0</td>\n",
       "      <td>371185</td>\n",
       "      <td>1.0</td>\n",
       "      <td>1.0</td>\n",
       "    </tr>\n",
       "    <tr>\n",
       "      <th>3</th>\n",
       "      <td>-4</td>\n",
       "      <td>236572.110</td>\n",
       "      <td>225000</td>\n",
       "      <td>224949.285</td>\n",
       "      <td>233048.970</td>\n",
       "      <td>0</td>\n",
       "      <td>337855</td>\n",
       "      <td>0.0</td>\n",
       "      <td>0.0</td>\n",
       "    </tr>\n",
       "    <tr>\n",
       "      <th>4</th>\n",
       "      <td>-1</td>\n",
       "      <td>453919.455</td>\n",
       "      <td>450000</td>\n",
       "      <td>443044.395</td>\n",
       "      <td>453919.455</td>\n",
       "      <td>0</td>\n",
       "      <td>126868</td>\n",
       "      <td>0.0</td>\n",
       "      <td>0.0</td>\n",
       "    </tr>\n",
       "  </tbody>\n",
       "</table>\n",
       "</div>"
      ],
      "text/plain": [
       "   MONTHS_BALANCE  AMT_BALANCE  AMT_CREDIT_LIMIT_ACTUAL  \\\n",
       "0              -6       56.970                   135000   \n",
       "1              -1    63975.555                    45000   \n",
       "2              -7    31815.225                   450000   \n",
       "3              -4   236572.110                   225000   \n",
       "4              -1   453919.455                   450000   \n",
       "\n",
       "   AMT_RECEIVABLE_PRINCIPAL  AMT_TOTAL_RECEIVABLE  \\\n",
       "0                     0.000                 0.000   \n",
       "1                 60175.080             64875.555   \n",
       "2                 26926.425             31460.085   \n",
       "3                224949.285            233048.970   \n",
       "4                443044.395            453919.455   \n",
       "\n",
       "   NAME_CONTRACT_STATUS_Completed  SK_ID_CURR  SK_DPD_SUM  SK_DPD_DEF_SUM  \n",
       "0                               0      378907         0.0             0.0  \n",
       "1                               0      363914         0.0             0.0  \n",
       "2                               0      371185         1.0             1.0  \n",
       "3                               0      337855         0.0             0.0  \n",
       "4                               0      126868         0.0             0.0  "
      ]
     },
     "execution_count": 20,
     "metadata": {},
     "output_type": "execute_result"
    }
   ],
   "source": [
    "cc = get_clean_credit(data['credit_card_balance'])\n",
    "cc.head()"
   ]
  },
  {
   "cell_type": "code",
   "execution_count": 9,
   "metadata": {
    "ExecuteTime": {
     "end_time": "2021-05-11T06:18:51.946476Z",
     "start_time": "2021-05-11T06:18:51.847518Z"
    }
   },
   "outputs": [
    {
     "data": {
      "text/plain": [
       "(3840312, 9)"
      ]
     },
     "execution_count": 9,
     "metadata": {},
     "output_type": "execute_result"
    }
   ],
   "source": [
    "cc.shape"
   ]
  },
  {
   "cell_type": "code",
   "execution_count": 21,
   "metadata": {
    "ExecuteTime": {
     "end_time": "2021-05-11T07:00:48.491223Z",
     "start_time": "2021-05-11T07:00:45.414169Z"
    },
    "scrolled": true
   },
   "outputs": [
    {
     "data": {
      "text/html": [
       "<div>\n",
       "<style scoped>\n",
       "    .dataframe tbody tr th:only-of-type {\n",
       "        vertical-align: middle;\n",
       "    }\n",
       "\n",
       "    .dataframe tbody tr th {\n",
       "        vertical-align: top;\n",
       "    }\n",
       "\n",
       "    .dataframe thead tr th {\n",
       "        text-align: left;\n",
       "    }\n",
       "\n",
       "    .dataframe thead tr:last-of-type th {\n",
       "        text-align: right;\n",
       "    }\n",
       "</style>\n",
       "<table border=\"1\" class=\"dataframe\">\n",
       "  <thead>\n",
       "    <tr>\n",
       "      <th></th>\n",
       "      <th colspan=\"4\" halign=\"left\">MONTHS_BALANCE</th>\n",
       "      <th colspan=\"4\" halign=\"left\">AMT_BALANCE</th>\n",
       "      <th colspan=\"2\" halign=\"left\">AMT_CREDIT_LIMIT_ACTUAL</th>\n",
       "      <th>...</th>\n",
       "      <th colspan=\"2\" halign=\"left\">NAME_CONTRACT_STATUS_Completed</th>\n",
       "      <th colspan=\"4\" halign=\"left\">SK_DPD_SUM</th>\n",
       "      <th colspan=\"4\" halign=\"left\">SK_DPD_DEF_SUM</th>\n",
       "    </tr>\n",
       "    <tr>\n",
       "      <th></th>\n",
       "      <th>min</th>\n",
       "      <th>max</th>\n",
       "      <th>mean</th>\n",
       "      <th>var</th>\n",
       "      <th>min</th>\n",
       "      <th>max</th>\n",
       "      <th>mean</th>\n",
       "      <th>var</th>\n",
       "      <th>min</th>\n",
       "      <th>max</th>\n",
       "      <th>...</th>\n",
       "      <th>mean</th>\n",
       "      <th>var</th>\n",
       "      <th>min</th>\n",
       "      <th>max</th>\n",
       "      <th>mean</th>\n",
       "      <th>var</th>\n",
       "      <th>min</th>\n",
       "      <th>max</th>\n",
       "      <th>mean</th>\n",
       "      <th>var</th>\n",
       "    </tr>\n",
       "    <tr>\n",
       "      <th>SK_ID_CURR</th>\n",
       "      <th></th>\n",
       "      <th></th>\n",
       "      <th></th>\n",
       "      <th></th>\n",
       "      <th></th>\n",
       "      <th></th>\n",
       "      <th></th>\n",
       "      <th></th>\n",
       "      <th></th>\n",
       "      <th></th>\n",
       "      <th></th>\n",
       "      <th></th>\n",
       "      <th></th>\n",
       "      <th></th>\n",
       "      <th></th>\n",
       "      <th></th>\n",
       "      <th></th>\n",
       "      <th></th>\n",
       "      <th></th>\n",
       "      <th></th>\n",
       "      <th></th>\n",
       "    </tr>\n",
       "  </thead>\n",
       "  <tbody>\n",
       "    <tr>\n",
       "      <th>100006</th>\n",
       "      <td>-6</td>\n",
       "      <td>-1</td>\n",
       "      <td>-3.5</td>\n",
       "      <td>3.5</td>\n",
       "      <td>0.0</td>\n",
       "      <td>0.00</td>\n",
       "      <td>0.000000</td>\n",
       "      <td>0.000000e+00</td>\n",
       "      <td>270000</td>\n",
       "      <td>270000</td>\n",
       "      <td>...</td>\n",
       "      <td>0.000000</td>\n",
       "      <td>0.000000</td>\n",
       "      <td>0.0</td>\n",
       "      <td>0.0</td>\n",
       "      <td>0.000000</td>\n",
       "      <td>0.000000</td>\n",
       "      <td>0.0</td>\n",
       "      <td>0.0</td>\n",
       "      <td>0.000000</td>\n",
       "      <td>0.000000</td>\n",
       "    </tr>\n",
       "    <tr>\n",
       "      <th>100011</th>\n",
       "      <td>-75</td>\n",
       "      <td>-2</td>\n",
       "      <td>-38.5</td>\n",
       "      <td>462.5</td>\n",
       "      <td>0.0</td>\n",
       "      <td>189000.00</td>\n",
       "      <td>54482.111149</td>\n",
       "      <td>4.641321e+09</td>\n",
       "      <td>90000</td>\n",
       "      <td>180000</td>\n",
       "      <td>...</td>\n",
       "      <td>0.000000</td>\n",
       "      <td>0.000000</td>\n",
       "      <td>0.0</td>\n",
       "      <td>36.0</td>\n",
       "      <td>0.486486</td>\n",
       "      <td>17.513514</td>\n",
       "      <td>0.0</td>\n",
       "      <td>4.0</td>\n",
       "      <td>0.054054</td>\n",
       "      <td>0.216216</td>\n",
       "    </tr>\n",
       "    <tr>\n",
       "      <th>100013</th>\n",
       "      <td>-96</td>\n",
       "      <td>-1</td>\n",
       "      <td>-48.5</td>\n",
       "      <td>776.0</td>\n",
       "      <td>0.0</td>\n",
       "      <td>161420.22</td>\n",
       "      <td>18159.919219</td>\n",
       "      <td>1.869473e+09</td>\n",
       "      <td>45000</td>\n",
       "      <td>157500</td>\n",
       "      <td>...</td>\n",
       "      <td>0.000000</td>\n",
       "      <td>0.000000</td>\n",
       "      <td>0.0</td>\n",
       "      <td>128.0</td>\n",
       "      <td>1.333333</td>\n",
       "      <td>170.666667</td>\n",
       "      <td>0.0</td>\n",
       "      <td>7.0</td>\n",
       "      <td>0.072917</td>\n",
       "      <td>0.510417</td>\n",
       "    </tr>\n",
       "    <tr>\n",
       "      <th>100021</th>\n",
       "      <td>-18</td>\n",
       "      <td>-2</td>\n",
       "      <td>-10.0</td>\n",
       "      <td>25.5</td>\n",
       "      <td>0.0</td>\n",
       "      <td>0.00</td>\n",
       "      <td>0.000000</td>\n",
       "      <td>0.000000e+00</td>\n",
       "      <td>675000</td>\n",
       "      <td>675000</td>\n",
       "      <td>...</td>\n",
       "      <td>0.588235</td>\n",
       "      <td>0.257353</td>\n",
       "      <td>0.0</td>\n",
       "      <td>0.0</td>\n",
       "      <td>0.000000</td>\n",
       "      <td>0.000000</td>\n",
       "      <td>0.0</td>\n",
       "      <td>0.0</td>\n",
       "      <td>0.000000</td>\n",
       "      <td>0.000000</td>\n",
       "    </tr>\n",
       "    <tr>\n",
       "      <th>100023</th>\n",
       "      <td>-11</td>\n",
       "      <td>-4</td>\n",
       "      <td>-7.5</td>\n",
       "      <td>6.0</td>\n",
       "      <td>0.0</td>\n",
       "      <td>0.00</td>\n",
       "      <td>0.000000</td>\n",
       "      <td>0.000000e+00</td>\n",
       "      <td>45000</td>\n",
       "      <td>225000</td>\n",
       "      <td>...</td>\n",
       "      <td>0.000000</td>\n",
       "      <td>0.000000</td>\n",
       "      <td>0.0</td>\n",
       "      <td>0.0</td>\n",
       "      <td>0.000000</td>\n",
       "      <td>0.000000</td>\n",
       "      <td>0.0</td>\n",
       "      <td>0.0</td>\n",
       "      <td>0.000000</td>\n",
       "      <td>0.000000</td>\n",
       "    </tr>\n",
       "  </tbody>\n",
       "</table>\n",
       "<p>5 rows × 32 columns</p>\n",
       "</div>"
      ],
      "text/plain": [
       "           MONTHS_BALANCE                  AMT_BALANCE             \\\n",
       "                      min max  mean    var         min        max   \n",
       "SK_ID_CURR                                                          \n",
       "100006                 -6  -1  -3.5    3.5         0.0       0.00   \n",
       "100011                -75  -2 -38.5  462.5         0.0  189000.00   \n",
       "100013                -96  -1 -48.5  776.0         0.0  161420.22   \n",
       "100021                -18  -2 -10.0   25.5         0.0       0.00   \n",
       "100023                -11  -4  -7.5    6.0         0.0       0.00   \n",
       "\n",
       "                                       AMT_CREDIT_LIMIT_ACTUAL          ...  \\\n",
       "                    mean           var                     min     max  ...   \n",
       "SK_ID_CURR                                                              ...   \n",
       "100006          0.000000  0.000000e+00                  270000  270000  ...   \n",
       "100011      54482.111149  4.641321e+09                   90000  180000  ...   \n",
       "100013      18159.919219  1.869473e+09                   45000  157500  ...   \n",
       "100021          0.000000  0.000000e+00                  675000  675000  ...   \n",
       "100023          0.000000  0.000000e+00                   45000  225000  ...   \n",
       "\n",
       "           NAME_CONTRACT_STATUS_Completed           SK_DPD_SUM         \\\n",
       "                                     mean       var        min    max   \n",
       "SK_ID_CURR                                                              \n",
       "100006                           0.000000  0.000000        0.0    0.0   \n",
       "100011                           0.000000  0.000000        0.0   36.0   \n",
       "100013                           0.000000  0.000000        0.0  128.0   \n",
       "100021                           0.588235  0.257353        0.0    0.0   \n",
       "100023                           0.000000  0.000000        0.0    0.0   \n",
       "\n",
       "                                 SK_DPD_DEF_SUM                           \n",
       "                mean         var            min  max      mean       var  \n",
       "SK_ID_CURR                                                                \n",
       "100006      0.000000    0.000000            0.0  0.0  0.000000  0.000000  \n",
       "100011      0.486486   17.513514            0.0  4.0  0.054054  0.216216  \n",
       "100013      1.333333  170.666667            0.0  7.0  0.072917  0.510417  \n",
       "100021      0.000000    0.000000            0.0  0.0  0.000000  0.000000  \n",
       "100023      0.000000    0.000000            0.0  0.0  0.000000  0.000000  \n",
       "\n",
       "[5 rows x 32 columns]"
      ]
     },
     "execution_count": 21,
     "metadata": {},
     "output_type": "execute_result"
    }
   ],
   "source": [
    "cc_agg = cc.groupby('SK_ID_CURR').agg(['min', 'max', 'mean','var'])\n",
    "cc_agg.head()"
   ]
  },
  {
   "cell_type": "code",
   "execution_count": 22,
   "metadata": {
    "ExecuteTime": {
     "end_time": "2021-05-11T07:01:05.765059Z",
     "start_time": "2021-05-11T07:01:05.758110Z"
    }
   },
   "outputs": [
    {
     "data": {
      "text/plain": [
       "(103558, 32)"
      ]
     },
     "execution_count": 22,
     "metadata": {},
     "output_type": "execute_result"
    }
   ],
   "source": [
    "cc_agg.shape"
   ]
  },
  {
   "cell_type": "code",
   "execution_count": 23,
   "metadata": {
    "ExecuteTime": {
     "end_time": "2021-05-11T07:01:18.929205Z",
     "start_time": "2021-05-11T07:01:18.877855Z"
    }
   },
   "outputs": [
    {
     "data": {
      "text/html": [
       "<div>\n",
       "<style scoped>\n",
       "    .dataframe tbody tr th:only-of-type {\n",
       "        vertical-align: middle;\n",
       "    }\n",
       "\n",
       "    .dataframe tbody tr th {\n",
       "        vertical-align: top;\n",
       "    }\n",
       "\n",
       "    .dataframe thead th {\n",
       "        text-align: right;\n",
       "    }\n",
       "</style>\n",
       "<table border=\"1\" class=\"dataframe\">\n",
       "  <thead>\n",
       "    <tr style=\"text-align: right;\">\n",
       "      <th></th>\n",
       "      <th>CC_MONTHS_BALANCE_min</th>\n",
       "      <th>CC_MONTHS_BALANCE_max</th>\n",
       "      <th>CC_MONTHS_BALANCE_mean</th>\n",
       "      <th>CC_MONTHS_BALANCE_var</th>\n",
       "      <th>CC_AMT_BALANCE_min</th>\n",
       "      <th>CC_AMT_BALANCE_max</th>\n",
       "      <th>CC_AMT_BALANCE_mean</th>\n",
       "      <th>CC_AMT_BALANCE_var</th>\n",
       "      <th>CC_AMT_CREDIT_LIMIT_ACTUAL_min</th>\n",
       "      <th>CC_AMT_CREDIT_LIMIT_ACTUAL_max</th>\n",
       "      <th>...</th>\n",
       "      <th>CC_NAME_CONTRACT_STATUS_Completed_mean</th>\n",
       "      <th>CC_NAME_CONTRACT_STATUS_Completed_var</th>\n",
       "      <th>CC_SK_DPD_SUM_min</th>\n",
       "      <th>CC_SK_DPD_SUM_max</th>\n",
       "      <th>CC_SK_DPD_SUM_mean</th>\n",
       "      <th>CC_SK_DPD_SUM_var</th>\n",
       "      <th>CC_SK_DPD_DEF_SUM_min</th>\n",
       "      <th>CC_SK_DPD_DEF_SUM_max</th>\n",
       "      <th>CC_SK_DPD_DEF_SUM_mean</th>\n",
       "      <th>CC_SK_DPD_DEF_SUM_var</th>\n",
       "    </tr>\n",
       "    <tr>\n",
       "      <th>SK_ID_CURR</th>\n",
       "      <th></th>\n",
       "      <th></th>\n",
       "      <th></th>\n",
       "      <th></th>\n",
       "      <th></th>\n",
       "      <th></th>\n",
       "      <th></th>\n",
       "      <th></th>\n",
       "      <th></th>\n",
       "      <th></th>\n",
       "      <th></th>\n",
       "      <th></th>\n",
       "      <th></th>\n",
       "      <th></th>\n",
       "      <th></th>\n",
       "      <th></th>\n",
       "      <th></th>\n",
       "      <th></th>\n",
       "      <th></th>\n",
       "      <th></th>\n",
       "      <th></th>\n",
       "    </tr>\n",
       "  </thead>\n",
       "  <tbody>\n",
       "    <tr>\n",
       "      <th>100006</th>\n",
       "      <td>-6</td>\n",
       "      <td>-1</td>\n",
       "      <td>-3.5</td>\n",
       "      <td>3.5</td>\n",
       "      <td>0.0</td>\n",
       "      <td>0.00</td>\n",
       "      <td>0.000000</td>\n",
       "      <td>0.000000e+00</td>\n",
       "      <td>270000</td>\n",
       "      <td>270000</td>\n",
       "      <td>...</td>\n",
       "      <td>0.000000</td>\n",
       "      <td>0.000000</td>\n",
       "      <td>0.0</td>\n",
       "      <td>0.0</td>\n",
       "      <td>0.000000</td>\n",
       "      <td>0.000000</td>\n",
       "      <td>0.0</td>\n",
       "      <td>0.0</td>\n",
       "      <td>0.000000</td>\n",
       "      <td>0.000000</td>\n",
       "    </tr>\n",
       "    <tr>\n",
       "      <th>100011</th>\n",
       "      <td>-75</td>\n",
       "      <td>-2</td>\n",
       "      <td>-38.5</td>\n",
       "      <td>462.5</td>\n",
       "      <td>0.0</td>\n",
       "      <td>189000.00</td>\n",
       "      <td>54482.111149</td>\n",
       "      <td>4.641321e+09</td>\n",
       "      <td>90000</td>\n",
       "      <td>180000</td>\n",
       "      <td>...</td>\n",
       "      <td>0.000000</td>\n",
       "      <td>0.000000</td>\n",
       "      <td>0.0</td>\n",
       "      <td>36.0</td>\n",
       "      <td>0.486486</td>\n",
       "      <td>17.513514</td>\n",
       "      <td>0.0</td>\n",
       "      <td>4.0</td>\n",
       "      <td>0.054054</td>\n",
       "      <td>0.216216</td>\n",
       "    </tr>\n",
       "    <tr>\n",
       "      <th>100013</th>\n",
       "      <td>-96</td>\n",
       "      <td>-1</td>\n",
       "      <td>-48.5</td>\n",
       "      <td>776.0</td>\n",
       "      <td>0.0</td>\n",
       "      <td>161420.22</td>\n",
       "      <td>18159.919219</td>\n",
       "      <td>1.869473e+09</td>\n",
       "      <td>45000</td>\n",
       "      <td>157500</td>\n",
       "      <td>...</td>\n",
       "      <td>0.000000</td>\n",
       "      <td>0.000000</td>\n",
       "      <td>0.0</td>\n",
       "      <td>128.0</td>\n",
       "      <td>1.333333</td>\n",
       "      <td>170.666667</td>\n",
       "      <td>0.0</td>\n",
       "      <td>7.0</td>\n",
       "      <td>0.072917</td>\n",
       "      <td>0.510417</td>\n",
       "    </tr>\n",
       "    <tr>\n",
       "      <th>100021</th>\n",
       "      <td>-18</td>\n",
       "      <td>-2</td>\n",
       "      <td>-10.0</td>\n",
       "      <td>25.5</td>\n",
       "      <td>0.0</td>\n",
       "      <td>0.00</td>\n",
       "      <td>0.000000</td>\n",
       "      <td>0.000000e+00</td>\n",
       "      <td>675000</td>\n",
       "      <td>675000</td>\n",
       "      <td>...</td>\n",
       "      <td>0.588235</td>\n",
       "      <td>0.257353</td>\n",
       "      <td>0.0</td>\n",
       "      <td>0.0</td>\n",
       "      <td>0.000000</td>\n",
       "      <td>0.000000</td>\n",
       "      <td>0.0</td>\n",
       "      <td>0.0</td>\n",
       "      <td>0.000000</td>\n",
       "      <td>0.000000</td>\n",
       "    </tr>\n",
       "    <tr>\n",
       "      <th>100023</th>\n",
       "      <td>-11</td>\n",
       "      <td>-4</td>\n",
       "      <td>-7.5</td>\n",
       "      <td>6.0</td>\n",
       "      <td>0.0</td>\n",
       "      <td>0.00</td>\n",
       "      <td>0.000000</td>\n",
       "      <td>0.000000e+00</td>\n",
       "      <td>45000</td>\n",
       "      <td>225000</td>\n",
       "      <td>...</td>\n",
       "      <td>0.000000</td>\n",
       "      <td>0.000000</td>\n",
       "      <td>0.0</td>\n",
       "      <td>0.0</td>\n",
       "      <td>0.000000</td>\n",
       "      <td>0.000000</td>\n",
       "      <td>0.0</td>\n",
       "      <td>0.0</td>\n",
       "      <td>0.000000</td>\n",
       "      <td>0.000000</td>\n",
       "    </tr>\n",
       "  </tbody>\n",
       "</table>\n",
       "<p>5 rows × 32 columns</p>\n",
       "</div>"
      ],
      "text/plain": [
       "            CC_MONTHS_BALANCE_min  CC_MONTHS_BALANCE_max  \\\n",
       "SK_ID_CURR                                                 \n",
       "100006                         -6                     -1   \n",
       "100011                        -75                     -2   \n",
       "100013                        -96                     -1   \n",
       "100021                        -18                     -2   \n",
       "100023                        -11                     -4   \n",
       "\n",
       "            CC_MONTHS_BALANCE_mean  CC_MONTHS_BALANCE_var  CC_AMT_BALANCE_min  \\\n",
       "SK_ID_CURR                                                                      \n",
       "100006                        -3.5                    3.5                 0.0   \n",
       "100011                       -38.5                  462.5                 0.0   \n",
       "100013                       -48.5                  776.0                 0.0   \n",
       "100021                       -10.0                   25.5                 0.0   \n",
       "100023                        -7.5                    6.0                 0.0   \n",
       "\n",
       "            CC_AMT_BALANCE_max  CC_AMT_BALANCE_mean  CC_AMT_BALANCE_var  \\\n",
       "SK_ID_CURR                                                                \n",
       "100006                    0.00             0.000000        0.000000e+00   \n",
       "100011               189000.00         54482.111149        4.641321e+09   \n",
       "100013               161420.22         18159.919219        1.869473e+09   \n",
       "100021                    0.00             0.000000        0.000000e+00   \n",
       "100023                    0.00             0.000000        0.000000e+00   \n",
       "\n",
       "            CC_AMT_CREDIT_LIMIT_ACTUAL_min  CC_AMT_CREDIT_LIMIT_ACTUAL_max  \\\n",
       "SK_ID_CURR                                                                   \n",
       "100006                              270000                          270000   \n",
       "100011                               90000                          180000   \n",
       "100013                               45000                          157500   \n",
       "100021                              675000                          675000   \n",
       "100023                               45000                          225000   \n",
       "\n",
       "            ...  CC_NAME_CONTRACT_STATUS_Completed_mean  \\\n",
       "SK_ID_CURR  ...                                           \n",
       "100006      ...                                0.000000   \n",
       "100011      ...                                0.000000   \n",
       "100013      ...                                0.000000   \n",
       "100021      ...                                0.588235   \n",
       "100023      ...                                0.000000   \n",
       "\n",
       "            CC_NAME_CONTRACT_STATUS_Completed_var  CC_SK_DPD_SUM_min  \\\n",
       "SK_ID_CURR                                                             \n",
       "100006                                   0.000000                0.0   \n",
       "100011                                   0.000000                0.0   \n",
       "100013                                   0.000000                0.0   \n",
       "100021                                   0.257353                0.0   \n",
       "100023                                   0.000000                0.0   \n",
       "\n",
       "            CC_SK_DPD_SUM_max  CC_SK_DPD_SUM_mean  CC_SK_DPD_SUM_var  \\\n",
       "SK_ID_CURR                                                             \n",
       "100006                    0.0            0.000000           0.000000   \n",
       "100011                   36.0            0.486486          17.513514   \n",
       "100013                  128.0            1.333333         170.666667   \n",
       "100021                    0.0            0.000000           0.000000   \n",
       "100023                    0.0            0.000000           0.000000   \n",
       "\n",
       "            CC_SK_DPD_DEF_SUM_min  CC_SK_DPD_DEF_SUM_max  \\\n",
       "SK_ID_CURR                                                 \n",
       "100006                        0.0                    0.0   \n",
       "100011                        0.0                    4.0   \n",
       "100013                        0.0                    7.0   \n",
       "100021                        0.0                    0.0   \n",
       "100023                        0.0                    0.0   \n",
       "\n",
       "            CC_SK_DPD_DEF_SUM_mean  CC_SK_DPD_DEF_SUM_var  \n",
       "SK_ID_CURR                                                 \n",
       "100006                    0.000000               0.000000  \n",
       "100011                    0.054054               0.216216  \n",
       "100013                    0.072917               0.510417  \n",
       "100021                    0.000000               0.000000  \n",
       "100023                    0.000000               0.000000  \n",
       "\n",
       "[5 rows x 32 columns]"
      ]
     },
     "execution_count": 23,
     "metadata": {},
     "output_type": "execute_result"
    }
   ],
   "source": [
    "cc_agg.columns = pd.Index(list(map(lambda x: 'CC' + '_' + x[0] + '_' + x[1], list(cc_agg.columns))))\n",
    "cc_agg.head()"
   ]
  },
  {
   "cell_type": "code",
   "execution_count": 28,
   "metadata": {
    "ExecuteTime": {
     "end_time": "2021-05-11T07:21:23.212732Z",
     "start_time": "2021-05-11T07:21:13.993606Z"
    }
   },
   "outputs": [
    {
     "name": "stdout",
     "output_type": "stream",
     "text": [
      "index column removed\n"
     ]
    }
   ],
   "source": [
    "train_test = clean_application(data)"
   ]
  },
  {
   "cell_type": "code",
   "execution_count": 30,
   "metadata": {
    "ExecuteTime": {
     "end_time": "2021-05-11T07:26:26.991932Z",
     "start_time": "2021-05-11T07:23:28.500108Z"
    }
   },
   "outputs": [],
   "source": [
    "cc = get_clean_credit(data['credit_card_balance'])\n",
    "cc_agg = cc.groupby('SK_ID_CURR').agg(['min', 'max', 'mean','var'])\n",
    "cc_agg.columns = pd.Index(list(map(lambda x: 'CC' + '_' + x[0] + '_' + x[1], list(cc_agg.columns))))\n",
    "\n",
    "train_test = clean_application(data)\n",
    "train_test.set_index('SK_ID_CURR', inplace=True, drop=False)\n",
    "\n",
    "bb = extract_features_from_bureau(data['bureau'], data['bureau_balance'])\n",
    "ip = extract_features_from_installments_payments(data['installments_payments'])\n",
    "\n",
    "df = pd.concat([train_test, bb, ip, cc_agg], axis=1) \n",
    "df = df.reset_index(drop=True)\n",
    "df['SK_ID_CURR'] = df['SK_ID_CURR'].astype('Int64')\n"
   ]
  },
  {
   "cell_type": "code",
   "execution_count": 29,
   "metadata": {
    "ExecuteTime": {
     "end_time": "2021-05-11T07:21:45.206926Z",
     "start_time": "2021-05-11T07:21:45.190980Z"
    }
   },
   "outputs": [
    {
     "data": {
      "text/plain": [
       "(356249, 68)"
      ]
     },
     "execution_count": 29,
     "metadata": {},
     "output_type": "execute_result"
    }
   ],
   "source": [
    "train_test.shape"
   ]
  },
  {
   "cell_type": "code",
   "execution_count": 31,
   "metadata": {
    "ExecuteTime": {
     "end_time": "2021-05-11T07:27:01.201759Z",
     "start_time": "2021-05-11T07:27:01.170405Z"
    }
   },
   "outputs": [
    {
     "data": {
      "text/plain": [
       "((305811, 3), (339587, 1))"
      ]
     },
     "execution_count": 31,
     "metadata": {},
     "output_type": "execute_result"
    }
   ],
   "source": [
    "bb.shape, ip.shape"
   ]
  },
  {
   "cell_type": "code",
   "execution_count": 32,
   "metadata": {
    "ExecuteTime": {
     "end_time": "2021-05-11T07:28:53.249722Z",
     "start_time": "2021-05-11T07:28:49.279096Z"
    }
   },
   "outputs": [],
   "source": [
    "df = pd.concat([train_test, bb, ip, cc_agg], axis=1)  "
   ]
  },
  {
   "cell_type": "code",
   "execution_count": 33,
   "metadata": {
    "ExecuteTime": {
     "end_time": "2021-05-11T07:29:04.887470Z",
     "start_time": "2021-05-11T07:29:04.880192Z"
    }
   },
   "outputs": [
    {
     "data": {
      "text/plain": [
       "(356254, 104)"
      ]
     },
     "execution_count": 33,
     "metadata": {},
     "output_type": "execute_result"
    }
   ],
   "source": [
    "df.shape"
   ]
  },
  {
   "cell_type": "code",
   "execution_count": 34,
   "metadata": {
    "ExecuteTime": {
     "end_time": "2021-05-11T07:29:24.880182Z",
     "start_time": "2021-05-11T07:29:24.786818Z"
    }
   },
   "outputs": [
    {
     "data": {
      "text/html": [
       "<div>\n",
       "<style scoped>\n",
       "    .dataframe tbody tr th:only-of-type {\n",
       "        vertical-align: middle;\n",
       "    }\n",
       "\n",
       "    .dataframe tbody tr th {\n",
       "        vertical-align: top;\n",
       "    }\n",
       "\n",
       "    .dataframe thead th {\n",
       "        text-align: right;\n",
       "    }\n",
       "</style>\n",
       "<table border=\"1\" class=\"dataframe\">\n",
       "  <thead>\n",
       "    <tr style=\"text-align: right;\">\n",
       "      <th></th>\n",
       "      <th>SK_ID_CURR</th>\n",
       "      <th>TARGET</th>\n",
       "      <th>NAME_CONTRACT_TYPE</th>\n",
       "      <th>CODE_GENDER</th>\n",
       "      <th>FLAG_OWN_CAR</th>\n",
       "      <th>FLAG_OWN_REALTY</th>\n",
       "      <th>CNT_CHILDREN</th>\n",
       "      <th>AMT_INCOME_TOTAL</th>\n",
       "      <th>AMT_CREDIT</th>\n",
       "      <th>AMT_ANNUITY</th>\n",
       "      <th>...</th>\n",
       "      <th>CC_NAME_CONTRACT_STATUS_Completed_mean</th>\n",
       "      <th>CC_NAME_CONTRACT_STATUS_Completed_var</th>\n",
       "      <th>CC_SK_DPD_SUM_min</th>\n",
       "      <th>CC_SK_DPD_SUM_max</th>\n",
       "      <th>CC_SK_DPD_SUM_mean</th>\n",
       "      <th>CC_SK_DPD_SUM_var</th>\n",
       "      <th>CC_SK_DPD_DEF_SUM_min</th>\n",
       "      <th>CC_SK_DPD_DEF_SUM_max</th>\n",
       "      <th>CC_SK_DPD_DEF_SUM_mean</th>\n",
       "      <th>CC_SK_DPD_DEF_SUM_var</th>\n",
       "    </tr>\n",
       "    <tr>\n",
       "      <th>SK_ID_CURR</th>\n",
       "      <th></th>\n",
       "      <th></th>\n",
       "      <th></th>\n",
       "      <th></th>\n",
       "      <th></th>\n",
       "      <th></th>\n",
       "      <th></th>\n",
       "      <th></th>\n",
       "      <th></th>\n",
       "      <th></th>\n",
       "      <th></th>\n",
       "      <th></th>\n",
       "      <th></th>\n",
       "      <th></th>\n",
       "      <th></th>\n",
       "      <th></th>\n",
       "      <th></th>\n",
       "      <th></th>\n",
       "      <th></th>\n",
       "      <th></th>\n",
       "      <th></th>\n",
       "    </tr>\n",
       "  </thead>\n",
       "  <tbody>\n",
       "    <tr>\n",
       "      <th>100001.0</th>\n",
       "      <td>100001.0</td>\n",
       "      <td>NaN</td>\n",
       "      <td>Cash loans</td>\n",
       "      <td>1</td>\n",
       "      <td>1.0</td>\n",
       "      <td>0.0</td>\n",
       "      <td>0.0</td>\n",
       "      <td>135000.0</td>\n",
       "      <td>568800.0</td>\n",
       "      <td>20560.5</td>\n",
       "      <td>...</td>\n",
       "      <td>NaN</td>\n",
       "      <td>NaN</td>\n",
       "      <td>NaN</td>\n",
       "      <td>NaN</td>\n",
       "      <td>NaN</td>\n",
       "      <td>NaN</td>\n",
       "      <td>NaN</td>\n",
       "      <td>NaN</td>\n",
       "      <td>NaN</td>\n",
       "      <td>NaN</td>\n",
       "    </tr>\n",
       "    <tr>\n",
       "      <th>100002.0</th>\n",
       "      <td>100002.0</td>\n",
       "      <td>1.0</td>\n",
       "      <td>Cash loans</td>\n",
       "      <td>0</td>\n",
       "      <td>1.0</td>\n",
       "      <td>0.0</td>\n",
       "      <td>0.0</td>\n",
       "      <td>202500.0</td>\n",
       "      <td>406597.5</td>\n",
       "      <td>24700.5</td>\n",
       "      <td>...</td>\n",
       "      <td>NaN</td>\n",
       "      <td>NaN</td>\n",
       "      <td>NaN</td>\n",
       "      <td>NaN</td>\n",
       "      <td>NaN</td>\n",
       "      <td>NaN</td>\n",
       "      <td>NaN</td>\n",
       "      <td>NaN</td>\n",
       "      <td>NaN</td>\n",
       "      <td>NaN</td>\n",
       "    </tr>\n",
       "    <tr>\n",
       "      <th>100003.0</th>\n",
       "      <td>100003.0</td>\n",
       "      <td>0.0</td>\n",
       "      <td>Cash loans</td>\n",
       "      <td>1</td>\n",
       "      <td>1.0</td>\n",
       "      <td>1.0</td>\n",
       "      <td>0.0</td>\n",
       "      <td>270000.0</td>\n",
       "      <td>1293502.5</td>\n",
       "      <td>35698.5</td>\n",
       "      <td>...</td>\n",
       "      <td>NaN</td>\n",
       "      <td>NaN</td>\n",
       "      <td>NaN</td>\n",
       "      <td>NaN</td>\n",
       "      <td>NaN</td>\n",
       "      <td>NaN</td>\n",
       "      <td>NaN</td>\n",
       "      <td>NaN</td>\n",
       "      <td>NaN</td>\n",
       "      <td>NaN</td>\n",
       "    </tr>\n",
       "    <tr>\n",
       "      <th>100004.0</th>\n",
       "      <td>100004.0</td>\n",
       "      <td>0.0</td>\n",
       "      <td>Revolving loans</td>\n",
       "      <td>0</td>\n",
       "      <td>0.0</td>\n",
       "      <td>0.0</td>\n",
       "      <td>0.0</td>\n",
       "      <td>67500.0</td>\n",
       "      <td>135000.0</td>\n",
       "      <td>6750.0</td>\n",
       "      <td>...</td>\n",
       "      <td>NaN</td>\n",
       "      <td>NaN</td>\n",
       "      <td>NaN</td>\n",
       "      <td>NaN</td>\n",
       "      <td>NaN</td>\n",
       "      <td>NaN</td>\n",
       "      <td>NaN</td>\n",
       "      <td>NaN</td>\n",
       "      <td>NaN</td>\n",
       "      <td>NaN</td>\n",
       "    </tr>\n",
       "    <tr>\n",
       "      <th>100005.0</th>\n",
       "      <td>100005.0</td>\n",
       "      <td>NaN</td>\n",
       "      <td>Cash loans</td>\n",
       "      <td>0</td>\n",
       "      <td>1.0</td>\n",
       "      <td>0.0</td>\n",
       "      <td>0.0</td>\n",
       "      <td>99000.0</td>\n",
       "      <td>222768.0</td>\n",
       "      <td>17370.0</td>\n",
       "      <td>...</td>\n",
       "      <td>NaN</td>\n",
       "      <td>NaN</td>\n",
       "      <td>NaN</td>\n",
       "      <td>NaN</td>\n",
       "      <td>NaN</td>\n",
       "      <td>NaN</td>\n",
       "      <td>NaN</td>\n",
       "      <td>NaN</td>\n",
       "      <td>NaN</td>\n",
       "      <td>NaN</td>\n",
       "    </tr>\n",
       "  </tbody>\n",
       "</table>\n",
       "<p>5 rows × 104 columns</p>\n",
       "</div>"
      ],
      "text/plain": [
       "            SK_ID_CURR  TARGET NAME_CONTRACT_TYPE CODE_GENDER  FLAG_OWN_CAR  \\\n",
       "SK_ID_CURR                                                                    \n",
       "100001.0      100001.0     NaN         Cash loans           1           1.0   \n",
       "100002.0      100002.0     1.0         Cash loans           0           1.0   \n",
       "100003.0      100003.0     0.0         Cash loans           1           1.0   \n",
       "100004.0      100004.0     0.0    Revolving loans           0           0.0   \n",
       "100005.0      100005.0     NaN         Cash loans           0           1.0   \n",
       "\n",
       "            FLAG_OWN_REALTY  CNT_CHILDREN  AMT_INCOME_TOTAL  AMT_CREDIT  \\\n",
       "SK_ID_CURR                                                                \n",
       "100001.0                0.0           0.0          135000.0    568800.0   \n",
       "100002.0                0.0           0.0          202500.0    406597.5   \n",
       "100003.0                1.0           0.0          270000.0   1293502.5   \n",
       "100004.0                0.0           0.0           67500.0    135000.0   \n",
       "100005.0                0.0           0.0           99000.0    222768.0   \n",
       "\n",
       "            AMT_ANNUITY  ...  CC_NAME_CONTRACT_STATUS_Completed_mean  \\\n",
       "SK_ID_CURR               ...                                           \n",
       "100001.0        20560.5  ...                                     NaN   \n",
       "100002.0        24700.5  ...                                     NaN   \n",
       "100003.0        35698.5  ...                                     NaN   \n",
       "100004.0         6750.0  ...                                     NaN   \n",
       "100005.0        17370.0  ...                                     NaN   \n",
       "\n",
       "           CC_NAME_CONTRACT_STATUS_Completed_var CC_SK_DPD_SUM_min  \\\n",
       "SK_ID_CURR                                                           \n",
       "100001.0                                     NaN               NaN   \n",
       "100002.0                                     NaN               NaN   \n",
       "100003.0                                     NaN               NaN   \n",
       "100004.0                                     NaN               NaN   \n",
       "100005.0                                     NaN               NaN   \n",
       "\n",
       "            CC_SK_DPD_SUM_max CC_SK_DPD_SUM_mean CC_SK_DPD_SUM_var  \\\n",
       "SK_ID_CURR                                                           \n",
       "100001.0                  NaN                NaN               NaN   \n",
       "100002.0                  NaN                NaN               NaN   \n",
       "100003.0                  NaN                NaN               NaN   \n",
       "100004.0                  NaN                NaN               NaN   \n",
       "100005.0                  NaN                NaN               NaN   \n",
       "\n",
       "            CC_SK_DPD_DEF_SUM_min  CC_SK_DPD_DEF_SUM_max  \\\n",
       "SK_ID_CURR                                                 \n",
       "100001.0                      NaN                    NaN   \n",
       "100002.0                      NaN                    NaN   \n",
       "100003.0                      NaN                    NaN   \n",
       "100004.0                      NaN                    NaN   \n",
       "100005.0                      NaN                    NaN   \n",
       "\n",
       "            CC_SK_DPD_DEF_SUM_mean  CC_SK_DPD_DEF_SUM_var  \n",
       "SK_ID_CURR                                                 \n",
       "100001.0                       NaN                    NaN  \n",
       "100002.0                       NaN                    NaN  \n",
       "100003.0                       NaN                    NaN  \n",
       "100004.0                       NaN                    NaN  \n",
       "100005.0                       NaN                    NaN  \n",
       "\n",
       "[5 rows x 104 columns]"
      ]
     },
     "execution_count": 34,
     "metadata": {},
     "output_type": "execute_result"
    }
   ],
   "source": [
    "df.head()"
   ]
  },
  {
   "cell_type": "code",
   "execution_count": 36,
   "metadata": {
    "ExecuteTime": {
     "end_time": "2021-05-11T07:33:56.424385Z",
     "start_time": "2021-05-11T07:33:55.892320Z"
    }
   },
   "outputs": [
    {
     "data": {
      "text/html": [
       "<div>\n",
       "<style scoped>\n",
       "    .dataframe tbody tr th:only-of-type {\n",
       "        vertical-align: middle;\n",
       "    }\n",
       "\n",
       "    .dataframe tbody tr th {\n",
       "        vertical-align: top;\n",
       "    }\n",
       "\n",
       "    .dataframe thead th {\n",
       "        text-align: right;\n",
       "    }\n",
       "</style>\n",
       "<table border=\"1\" class=\"dataframe\">\n",
       "  <thead>\n",
       "    <tr style=\"text-align: right;\">\n",
       "      <th></th>\n",
       "      <th>SK_ID_CURR</th>\n",
       "      <th>TARGET</th>\n",
       "      <th>NAME_CONTRACT_TYPE</th>\n",
       "      <th>CODE_GENDER</th>\n",
       "      <th>FLAG_OWN_CAR</th>\n",
       "      <th>FLAG_OWN_REALTY</th>\n",
       "      <th>CNT_CHILDREN</th>\n",
       "      <th>AMT_INCOME_TOTAL</th>\n",
       "      <th>AMT_CREDIT</th>\n",
       "      <th>AMT_ANNUITY</th>\n",
       "      <th>...</th>\n",
       "      <th>CC_NAME_CONTRACT_STATUS_Completed_mean</th>\n",
       "      <th>CC_NAME_CONTRACT_STATUS_Completed_var</th>\n",
       "      <th>CC_SK_DPD_SUM_min</th>\n",
       "      <th>CC_SK_DPD_SUM_max</th>\n",
       "      <th>CC_SK_DPD_SUM_mean</th>\n",
       "      <th>CC_SK_DPD_SUM_var</th>\n",
       "      <th>CC_SK_DPD_DEF_SUM_min</th>\n",
       "      <th>CC_SK_DPD_DEF_SUM_max</th>\n",
       "      <th>CC_SK_DPD_DEF_SUM_mean</th>\n",
       "      <th>CC_SK_DPD_DEF_SUM_var</th>\n",
       "    </tr>\n",
       "  </thead>\n",
       "  <tbody>\n",
       "    <tr>\n",
       "      <th>0</th>\n",
       "      <td>100001.0</td>\n",
       "      <td>NaN</td>\n",
       "      <td>Cash loans</td>\n",
       "      <td>1</td>\n",
       "      <td>1.0</td>\n",
       "      <td>0.0</td>\n",
       "      <td>0.0</td>\n",
       "      <td>135000.0</td>\n",
       "      <td>568800.0</td>\n",
       "      <td>20560.5</td>\n",
       "      <td>...</td>\n",
       "      <td>NaN</td>\n",
       "      <td>NaN</td>\n",
       "      <td>NaN</td>\n",
       "      <td>NaN</td>\n",
       "      <td>NaN</td>\n",
       "      <td>NaN</td>\n",
       "      <td>NaN</td>\n",
       "      <td>NaN</td>\n",
       "      <td>NaN</td>\n",
       "      <td>NaN</td>\n",
       "    </tr>\n",
       "    <tr>\n",
       "      <th>1</th>\n",
       "      <td>100002.0</td>\n",
       "      <td>1.0</td>\n",
       "      <td>Cash loans</td>\n",
       "      <td>0</td>\n",
       "      <td>1.0</td>\n",
       "      <td>0.0</td>\n",
       "      <td>0.0</td>\n",
       "      <td>202500.0</td>\n",
       "      <td>406597.5</td>\n",
       "      <td>24700.5</td>\n",
       "      <td>...</td>\n",
       "      <td>NaN</td>\n",
       "      <td>NaN</td>\n",
       "      <td>NaN</td>\n",
       "      <td>NaN</td>\n",
       "      <td>NaN</td>\n",
       "      <td>NaN</td>\n",
       "      <td>NaN</td>\n",
       "      <td>NaN</td>\n",
       "      <td>NaN</td>\n",
       "      <td>NaN</td>\n",
       "    </tr>\n",
       "    <tr>\n",
       "      <th>2</th>\n",
       "      <td>100003.0</td>\n",
       "      <td>0.0</td>\n",
       "      <td>Cash loans</td>\n",
       "      <td>1</td>\n",
       "      <td>1.0</td>\n",
       "      <td>1.0</td>\n",
       "      <td>0.0</td>\n",
       "      <td>270000.0</td>\n",
       "      <td>1293502.5</td>\n",
       "      <td>35698.5</td>\n",
       "      <td>...</td>\n",
       "      <td>NaN</td>\n",
       "      <td>NaN</td>\n",
       "      <td>NaN</td>\n",
       "      <td>NaN</td>\n",
       "      <td>NaN</td>\n",
       "      <td>NaN</td>\n",
       "      <td>NaN</td>\n",
       "      <td>NaN</td>\n",
       "      <td>NaN</td>\n",
       "      <td>NaN</td>\n",
       "    </tr>\n",
       "    <tr>\n",
       "      <th>3</th>\n",
       "      <td>100004.0</td>\n",
       "      <td>0.0</td>\n",
       "      <td>Revolving loans</td>\n",
       "      <td>0</td>\n",
       "      <td>0.0</td>\n",
       "      <td>0.0</td>\n",
       "      <td>0.0</td>\n",
       "      <td>67500.0</td>\n",
       "      <td>135000.0</td>\n",
       "      <td>6750.0</td>\n",
       "      <td>...</td>\n",
       "      <td>NaN</td>\n",
       "      <td>NaN</td>\n",
       "      <td>NaN</td>\n",
       "      <td>NaN</td>\n",
       "      <td>NaN</td>\n",
       "      <td>NaN</td>\n",
       "      <td>NaN</td>\n",
       "      <td>NaN</td>\n",
       "      <td>NaN</td>\n",
       "      <td>NaN</td>\n",
       "    </tr>\n",
       "    <tr>\n",
       "      <th>4</th>\n",
       "      <td>100005.0</td>\n",
       "      <td>NaN</td>\n",
       "      <td>Cash loans</td>\n",
       "      <td>0</td>\n",
       "      <td>1.0</td>\n",
       "      <td>0.0</td>\n",
       "      <td>0.0</td>\n",
       "      <td>99000.0</td>\n",
       "      <td>222768.0</td>\n",
       "      <td>17370.0</td>\n",
       "      <td>...</td>\n",
       "      <td>NaN</td>\n",
       "      <td>NaN</td>\n",
       "      <td>NaN</td>\n",
       "      <td>NaN</td>\n",
       "      <td>NaN</td>\n",
       "      <td>NaN</td>\n",
       "      <td>NaN</td>\n",
       "      <td>NaN</td>\n",
       "      <td>NaN</td>\n",
       "      <td>NaN</td>\n",
       "    </tr>\n",
       "    <tr>\n",
       "      <th>...</th>\n",
       "      <td>...</td>\n",
       "      <td>...</td>\n",
       "      <td>...</td>\n",
       "      <td>...</td>\n",
       "      <td>...</td>\n",
       "      <td>...</td>\n",
       "      <td>...</td>\n",
       "      <td>...</td>\n",
       "      <td>...</td>\n",
       "      <td>...</td>\n",
       "      <td>...</td>\n",
       "      <td>...</td>\n",
       "      <td>...</td>\n",
       "      <td>...</td>\n",
       "      <td>...</td>\n",
       "      <td>...</td>\n",
       "      <td>...</td>\n",
       "      <td>...</td>\n",
       "      <td>...</td>\n",
       "      <td>...</td>\n",
       "      <td>...</td>\n",
       "    </tr>\n",
       "    <tr>\n",
       "      <th>356249</th>\n",
       "      <td>456251.0</td>\n",
       "      <td>0.0</td>\n",
       "      <td>Cash loans</td>\n",
       "      <td>0</td>\n",
       "      <td>1.0</td>\n",
       "      <td>1.0</td>\n",
       "      <td>0.0</td>\n",
       "      <td>157500.0</td>\n",
       "      <td>254700.0</td>\n",
       "      <td>27558.0</td>\n",
       "      <td>...</td>\n",
       "      <td>NaN</td>\n",
       "      <td>NaN</td>\n",
       "      <td>NaN</td>\n",
       "      <td>NaN</td>\n",
       "      <td>NaN</td>\n",
       "      <td>NaN</td>\n",
       "      <td>NaN</td>\n",
       "      <td>NaN</td>\n",
       "      <td>NaN</td>\n",
       "      <td>NaN</td>\n",
       "    </tr>\n",
       "    <tr>\n",
       "      <th>356250</th>\n",
       "      <td>456252.0</td>\n",
       "      <td>0.0</td>\n",
       "      <td>Cash loans</td>\n",
       "      <td>1</td>\n",
       "      <td>1.0</td>\n",
       "      <td>0.0</td>\n",
       "      <td>0.0</td>\n",
       "      <td>72000.0</td>\n",
       "      <td>269550.0</td>\n",
       "      <td>12001.5</td>\n",
       "      <td>...</td>\n",
       "      <td>NaN</td>\n",
       "      <td>NaN</td>\n",
       "      <td>NaN</td>\n",
       "      <td>NaN</td>\n",
       "      <td>NaN</td>\n",
       "      <td>NaN</td>\n",
       "      <td>NaN</td>\n",
       "      <td>NaN</td>\n",
       "      <td>NaN</td>\n",
       "      <td>NaN</td>\n",
       "    </tr>\n",
       "    <tr>\n",
       "      <th>356251</th>\n",
       "      <td>456253.0</td>\n",
       "      <td>0.0</td>\n",
       "      <td>Cash loans</td>\n",
       "      <td>1</td>\n",
       "      <td>1.0</td>\n",
       "      <td>0.0</td>\n",
       "      <td>0.0</td>\n",
       "      <td>153000.0</td>\n",
       "      <td>677664.0</td>\n",
       "      <td>29979.0</td>\n",
       "      <td>...</td>\n",
       "      <td>NaN</td>\n",
       "      <td>NaN</td>\n",
       "      <td>NaN</td>\n",
       "      <td>NaN</td>\n",
       "      <td>NaN</td>\n",
       "      <td>NaN</td>\n",
       "      <td>NaN</td>\n",
       "      <td>NaN</td>\n",
       "      <td>NaN</td>\n",
       "      <td>NaN</td>\n",
       "    </tr>\n",
       "    <tr>\n",
       "      <th>356252</th>\n",
       "      <td>456254.0</td>\n",
       "      <td>1.0</td>\n",
       "      <td>Cash loans</td>\n",
       "      <td>1</td>\n",
       "      <td>1.0</td>\n",
       "      <td>0.0</td>\n",
       "      <td>0.0</td>\n",
       "      <td>171000.0</td>\n",
       "      <td>370107.0</td>\n",
       "      <td>20205.0</td>\n",
       "      <td>...</td>\n",
       "      <td>NaN</td>\n",
       "      <td>NaN</td>\n",
       "      <td>NaN</td>\n",
       "      <td>NaN</td>\n",
       "      <td>NaN</td>\n",
       "      <td>NaN</td>\n",
       "      <td>NaN</td>\n",
       "      <td>NaN</td>\n",
       "      <td>NaN</td>\n",
       "      <td>NaN</td>\n",
       "    </tr>\n",
       "    <tr>\n",
       "      <th>356253</th>\n",
       "      <td>456255.0</td>\n",
       "      <td>0.0</td>\n",
       "      <td>Cash loans</td>\n",
       "      <td>1</td>\n",
       "      <td>1.0</td>\n",
       "      <td>1.0</td>\n",
       "      <td>0.0</td>\n",
       "      <td>157500.0</td>\n",
       "      <td>675000.0</td>\n",
       "      <td>49117.5</td>\n",
       "      <td>...</td>\n",
       "      <td>NaN</td>\n",
       "      <td>NaN</td>\n",
       "      <td>NaN</td>\n",
       "      <td>NaN</td>\n",
       "      <td>NaN</td>\n",
       "      <td>NaN</td>\n",
       "      <td>NaN</td>\n",
       "      <td>NaN</td>\n",
       "      <td>NaN</td>\n",
       "      <td>NaN</td>\n",
       "    </tr>\n",
       "  </tbody>\n",
       "</table>\n",
       "<p>356254 rows × 104 columns</p>\n",
       "</div>"
      ],
      "text/plain": [
       "        SK_ID_CURR  TARGET NAME_CONTRACT_TYPE CODE_GENDER  FLAG_OWN_CAR  \\\n",
       "0         100001.0     NaN         Cash loans           1           1.0   \n",
       "1         100002.0     1.0         Cash loans           0           1.0   \n",
       "2         100003.0     0.0         Cash loans           1           1.0   \n",
       "3         100004.0     0.0    Revolving loans           0           0.0   \n",
       "4         100005.0     NaN         Cash loans           0           1.0   \n",
       "...            ...     ...                ...         ...           ...   \n",
       "356249    456251.0     0.0         Cash loans           0           1.0   \n",
       "356250    456252.0     0.0         Cash loans           1           1.0   \n",
       "356251    456253.0     0.0         Cash loans           1           1.0   \n",
       "356252    456254.0     1.0         Cash loans           1           1.0   \n",
       "356253    456255.0     0.0         Cash loans           1           1.0   \n",
       "\n",
       "        FLAG_OWN_REALTY  CNT_CHILDREN  AMT_INCOME_TOTAL  AMT_CREDIT  \\\n",
       "0                   0.0           0.0          135000.0    568800.0   \n",
       "1                   0.0           0.0          202500.0    406597.5   \n",
       "2                   1.0           0.0          270000.0   1293502.5   \n",
       "3                   0.0           0.0           67500.0    135000.0   \n",
       "4                   0.0           0.0           99000.0    222768.0   \n",
       "...                 ...           ...               ...         ...   \n",
       "356249              1.0           0.0          157500.0    254700.0   \n",
       "356250              0.0           0.0           72000.0    269550.0   \n",
       "356251              0.0           0.0          153000.0    677664.0   \n",
       "356252              0.0           0.0          171000.0    370107.0   \n",
       "356253              1.0           0.0          157500.0    675000.0   \n",
       "\n",
       "        AMT_ANNUITY  ...  CC_NAME_CONTRACT_STATUS_Completed_mean  \\\n",
       "0           20560.5  ...                                     NaN   \n",
       "1           24700.5  ...                                     NaN   \n",
       "2           35698.5  ...                                     NaN   \n",
       "3            6750.0  ...                                     NaN   \n",
       "4           17370.0  ...                                     NaN   \n",
       "...             ...  ...                                     ...   \n",
       "356249      27558.0  ...                                     NaN   \n",
       "356250      12001.5  ...                                     NaN   \n",
       "356251      29979.0  ...                                     NaN   \n",
       "356252      20205.0  ...                                     NaN   \n",
       "356253      49117.5  ...                                     NaN   \n",
       "\n",
       "       CC_NAME_CONTRACT_STATUS_Completed_var CC_SK_DPD_SUM_min  \\\n",
       "0                                        NaN               NaN   \n",
       "1                                        NaN               NaN   \n",
       "2                                        NaN               NaN   \n",
       "3                                        NaN               NaN   \n",
       "4                                        NaN               NaN   \n",
       "...                                      ...               ...   \n",
       "356249                                   NaN               NaN   \n",
       "356250                                   NaN               NaN   \n",
       "356251                                   NaN               NaN   \n",
       "356252                                   NaN               NaN   \n",
       "356253                                   NaN               NaN   \n",
       "\n",
       "        CC_SK_DPD_SUM_max CC_SK_DPD_SUM_mean CC_SK_DPD_SUM_var  \\\n",
       "0                     NaN                NaN               NaN   \n",
       "1                     NaN                NaN               NaN   \n",
       "2                     NaN                NaN               NaN   \n",
       "3                     NaN                NaN               NaN   \n",
       "4                     NaN                NaN               NaN   \n",
       "...                   ...                ...               ...   \n",
       "356249                NaN                NaN               NaN   \n",
       "356250                NaN                NaN               NaN   \n",
       "356251                NaN                NaN               NaN   \n",
       "356252                NaN                NaN               NaN   \n",
       "356253                NaN                NaN               NaN   \n",
       "\n",
       "        CC_SK_DPD_DEF_SUM_min  CC_SK_DPD_DEF_SUM_max  CC_SK_DPD_DEF_SUM_mean  \\\n",
       "0                         NaN                    NaN                     NaN   \n",
       "1                         NaN                    NaN                     NaN   \n",
       "2                         NaN                    NaN                     NaN   \n",
       "3                         NaN                    NaN                     NaN   \n",
       "4                         NaN                    NaN                     NaN   \n",
       "...                       ...                    ...                     ...   \n",
       "356249                    NaN                    NaN                     NaN   \n",
       "356250                    NaN                    NaN                     NaN   \n",
       "356251                    NaN                    NaN                     NaN   \n",
       "356252                    NaN                    NaN                     NaN   \n",
       "356253                    NaN                    NaN                     NaN   \n",
       "\n",
       "        CC_SK_DPD_DEF_SUM_var  \n",
       "0                         NaN  \n",
       "1                         NaN  \n",
       "2                         NaN  \n",
       "3                         NaN  \n",
       "4                         NaN  \n",
       "...                       ...  \n",
       "356249                    NaN  \n",
       "356250                    NaN  \n",
       "356251                    NaN  \n",
       "356252                    NaN  \n",
       "356253                    NaN  \n",
       "\n",
       "[356254 rows x 104 columns]"
      ]
     },
     "execution_count": 36,
     "metadata": {},
     "output_type": "execute_result"
    }
   ],
   "source": [
    "df = df.reset_index(drop=True)"
   ]
  },
  {
   "cell_type": "code",
   "execution_count": 37,
   "metadata": {
    "ExecuteTime": {
     "end_time": "2021-05-11T07:35:33.557804Z",
     "start_time": "2021-05-11T07:35:32.298662Z"
    }
   },
   "outputs": [
    {
     "data": {
      "text/plain": [
       "['CC_SK_DPD_DEF_SUM_var',\n",
       " 'CC_NAME_CONTRACT_STATUS_Completed_var',\n",
       " 'CC_MONTHS_BALANCE_var',\n",
       " 'CC_AMT_CREDIT_LIMIT_ACTUAL_var',\n",
       " 'CC_AMT_RECEIVABLE_PRINCIPAL_var',\n",
       " 'CC_AMT_TOTAL_RECEIVABLE_var',\n",
       " 'CC_AMT_BALANCE_var',\n",
       " 'CC_SK_DPD_SUM_var',\n",
       " 'CC_SK_DPD_SUM_max',\n",
       " 'CC_AMT_RECEIVABLE_PRINCIPAL_min',\n",
       " 'CC_MONTHS_BALANCE_min',\n",
       " 'CC_MONTHS_BALANCE_max',\n",
       " 'CC_MONTHS_BALANCE_mean',\n",
       " 'CC_SK_DPD_SUM_min',\n",
       " 'CC_AMT_BALANCE_min',\n",
       " 'CC_AMT_BALANCE_max',\n",
       " 'CC_AMT_BALANCE_mean',\n",
       " 'CC_AMT_CREDIT_LIMIT_ACTUAL_min',\n",
       " 'CC_AMT_CREDIT_LIMIT_ACTUAL_max',\n",
       " 'CC_AMT_CREDIT_LIMIT_ACTUAL_mean',\n",
       " 'CC_SK_DPD_DEF_SUM_max',\n",
       " 'CC_SK_DPD_DEF_SUM_mean',\n",
       " 'CC_AMT_RECEIVABLE_PRINCIPAL_max',\n",
       " 'CC_AMT_TOTAL_RECEIVABLE_mean',\n",
       " 'CC_SK_DPD_SUM_mean',\n",
       " 'CC_NAME_CONTRACT_STATUS_Completed_mean',\n",
       " 'CC_NAME_CONTRACT_STATUS_Completed_max',\n",
       " 'CC_NAME_CONTRACT_STATUS_Completed_min',\n",
       " 'CC_AMT_TOTAL_RECEIVABLE_max',\n",
       " 'CC_AMT_TOTAL_RECEIVABLE_min',\n",
       " 'CC_SK_DPD_DEF_SUM_min',\n",
       " 'CC_AMT_RECEIVABLE_PRINCIPAL_mean',\n",
       " 'EXT_SOURCE_1']"
      ]
     },
     "execution_count": 37,
     "metadata": {},
     "output_type": "execute_result"
    }
   ],
   "source": [
    "cols = [i for i in list(df.columns) if i != 'TARGET']\n",
    "_, missing_dict = get_missing_data_info(df.loc[:,cols])\n",
    "drop_cols = missing_dict['x > 50']\n",
    "drop_cols"
   ]
  },
  {
   "cell_type": "code",
   "execution_count": null,
   "metadata": {},
   "outputs": [],
   "source": []
  },
  {
   "cell_type": "code",
   "execution_count": 38,
   "metadata": {
    "ExecuteTime": {
     "end_time": "2021-05-11T07:39:38.701804Z",
     "start_time": "2021-05-11T07:39:37.176252Z"
    }
   },
   "outputs": [],
   "source": [
    "cc_df, md = get_missing_data_info(data['credit_card_balance'])"
   ]
  },
  {
   "cell_type": "code",
   "execution_count": 39,
   "metadata": {
    "ExecuteTime": {
     "end_time": "2021-05-11T07:39:51.844691Z",
     "start_time": "2021-05-11T07:39:51.829554Z"
    }
   },
   "outputs": [
    {
     "data": {
      "text/html": [
       "<div>\n",
       "<style scoped>\n",
       "    .dataframe tbody tr th:only-of-type {\n",
       "        vertical-align: middle;\n",
       "    }\n",
       "\n",
       "    .dataframe tbody tr th {\n",
       "        vertical-align: top;\n",
       "    }\n",
       "\n",
       "    .dataframe thead th {\n",
       "        text-align: right;\n",
       "    }\n",
       "</style>\n",
       "<table border=\"1\" class=\"dataframe\">\n",
       "  <thead>\n",
       "    <tr style=\"text-align: right;\">\n",
       "      <th></th>\n",
       "      <th>feature</th>\n",
       "      <th>PERC_missing_data</th>\n",
       "    </tr>\n",
       "  </thead>\n",
       "  <tbody>\n",
       "    <tr>\n",
       "      <th>0</th>\n",
       "      <td>AMT_PAYMENT_CURRENT</td>\n",
       "      <td>0.199981</td>\n",
       "    </tr>\n",
       "    <tr>\n",
       "      <th>1</th>\n",
       "      <td>AMT_DRAWINGS_ATM_CURRENT</td>\n",
       "      <td>0.195249</td>\n",
       "    </tr>\n",
       "    <tr>\n",
       "      <th>2</th>\n",
       "      <td>CNT_DRAWINGS_POS_CURRENT</td>\n",
       "      <td>0.195249</td>\n",
       "    </tr>\n",
       "    <tr>\n",
       "      <th>3</th>\n",
       "      <td>AMT_DRAWINGS_OTHER_CURRENT</td>\n",
       "      <td>0.195249</td>\n",
       "    </tr>\n",
       "    <tr>\n",
       "      <th>4</th>\n",
       "      <td>AMT_DRAWINGS_POS_CURRENT</td>\n",
       "      <td>0.195249</td>\n",
       "    </tr>\n",
       "  </tbody>\n",
       "</table>\n",
       "</div>"
      ],
      "text/plain": [
       "                      feature  PERC_missing_data\n",
       "0         AMT_PAYMENT_CURRENT           0.199981\n",
       "1    AMT_DRAWINGS_ATM_CURRENT           0.195249\n",
       "2    CNT_DRAWINGS_POS_CURRENT           0.195249\n",
       "3  AMT_DRAWINGS_OTHER_CURRENT           0.195249\n",
       "4    AMT_DRAWINGS_POS_CURRENT           0.195249"
      ]
     },
     "execution_count": 39,
     "metadata": {},
     "output_type": "execute_result"
    }
   ],
   "source": [
    "cc_df.head()"
   ]
  },
  {
   "cell_type": "code",
   "execution_count": 41,
   "metadata": {
    "ExecuteTime": {
     "end_time": "2021-05-11T07:40:26.953561Z",
     "start_time": "2021-05-11T07:40:26.926043Z"
    }
   },
   "outputs": [
    {
     "data": {
      "text/html": [
       "<div>\n",
       "<style scoped>\n",
       "    .dataframe tbody tr th:only-of-type {\n",
       "        vertical-align: middle;\n",
       "    }\n",
       "\n",
       "    .dataframe tbody tr th {\n",
       "        vertical-align: top;\n",
       "    }\n",
       "\n",
       "    .dataframe thead th {\n",
       "        text-align: right;\n",
       "    }\n",
       "</style>\n",
       "<table border=\"1\" class=\"dataframe\">\n",
       "  <thead>\n",
       "    <tr style=\"text-align: right;\">\n",
       "      <th></th>\n",
       "      <th>feature</th>\n",
       "      <th>PERC_missing_data</th>\n",
       "    </tr>\n",
       "  </thead>\n",
       "  <tbody>\n",
       "    <tr>\n",
       "      <th>3</th>\n",
       "      <td>AMT_DRAWINGS_OTHER_CURRENT</td>\n",
       "      <td>0.195249</td>\n",
       "    </tr>\n",
       "    <tr>\n",
       "      <th>4</th>\n",
       "      <td>AMT_DRAWINGS_POS_CURRENT</td>\n",
       "      <td>0.195249</td>\n",
       "    </tr>\n",
       "    <tr>\n",
       "      <th>5</th>\n",
       "      <td>CNT_DRAWINGS_OTHER_CURRENT</td>\n",
       "      <td>0.195249</td>\n",
       "    </tr>\n",
       "    <tr>\n",
       "      <th>6</th>\n",
       "      <td>CNT_DRAWINGS_ATM_CURRENT</td>\n",
       "      <td>0.195249</td>\n",
       "    </tr>\n",
       "    <tr>\n",
       "      <th>7</th>\n",
       "      <td>CNT_INSTALMENT_MATURE_CUM</td>\n",
       "      <td>0.079482</td>\n",
       "    </tr>\n",
       "    <tr>\n",
       "      <th>8</th>\n",
       "      <td>AMT_INST_MIN_REGULARITY</td>\n",
       "      <td>0.079482</td>\n",
       "    </tr>\n",
       "    <tr>\n",
       "      <th>9</th>\n",
       "      <td>SK_ID_PREV</td>\n",
       "      <td>0.000000</td>\n",
       "    </tr>\n",
       "    <tr>\n",
       "      <th>10</th>\n",
       "      <td>AMT_TOTAL_RECEIVABLE</td>\n",
       "      <td>0.000000</td>\n",
       "    </tr>\n",
       "    <tr>\n",
       "      <th>11</th>\n",
       "      <td>SK_DPD</td>\n",
       "      <td>0.000000</td>\n",
       "    </tr>\n",
       "    <tr>\n",
       "      <th>12</th>\n",
       "      <td>NAME_CONTRACT_STATUS</td>\n",
       "      <td>0.000000</td>\n",
       "    </tr>\n",
       "    <tr>\n",
       "      <th>13</th>\n",
       "      <td>CNT_DRAWINGS_CURRENT</td>\n",
       "      <td>0.000000</td>\n",
       "    </tr>\n",
       "    <tr>\n",
       "      <th>14</th>\n",
       "      <td>AMT_PAYMENT_TOTAL_CURRENT</td>\n",
       "      <td>0.000000</td>\n",
       "    </tr>\n",
       "    <tr>\n",
       "      <th>15</th>\n",
       "      <td>AMT_RECIVABLE</td>\n",
       "      <td>0.000000</td>\n",
       "    </tr>\n",
       "    <tr>\n",
       "      <th>16</th>\n",
       "      <td>AMT_RECEIVABLE_PRINCIPAL</td>\n",
       "      <td>0.000000</td>\n",
       "    </tr>\n",
       "    <tr>\n",
       "      <th>17</th>\n",
       "      <td>SK_ID_CURR</td>\n",
       "      <td>0.000000</td>\n",
       "    </tr>\n",
       "    <tr>\n",
       "      <th>18</th>\n",
       "      <td>AMT_DRAWINGS_CURRENT</td>\n",
       "      <td>0.000000</td>\n",
       "    </tr>\n",
       "    <tr>\n",
       "      <th>19</th>\n",
       "      <td>AMT_CREDIT_LIMIT_ACTUAL</td>\n",
       "      <td>0.000000</td>\n",
       "    </tr>\n",
       "    <tr>\n",
       "      <th>20</th>\n",
       "      <td>AMT_BALANCE</td>\n",
       "      <td>0.000000</td>\n",
       "    </tr>\n",
       "    <tr>\n",
       "      <th>21</th>\n",
       "      <td>MONTHS_BALANCE</td>\n",
       "      <td>0.000000</td>\n",
       "    </tr>\n",
       "    <tr>\n",
       "      <th>22</th>\n",
       "      <td>SK_DPD_DEF</td>\n",
       "      <td>0.000000</td>\n",
       "    </tr>\n",
       "  </tbody>\n",
       "</table>\n",
       "</div>"
      ],
      "text/plain": [
       "                       feature  PERC_missing_data\n",
       "3   AMT_DRAWINGS_OTHER_CURRENT           0.195249\n",
       "4     AMT_DRAWINGS_POS_CURRENT           0.195249\n",
       "5   CNT_DRAWINGS_OTHER_CURRENT           0.195249\n",
       "6     CNT_DRAWINGS_ATM_CURRENT           0.195249\n",
       "7    CNT_INSTALMENT_MATURE_CUM           0.079482\n",
       "8      AMT_INST_MIN_REGULARITY           0.079482\n",
       "9                   SK_ID_PREV           0.000000\n",
       "10        AMT_TOTAL_RECEIVABLE           0.000000\n",
       "11                      SK_DPD           0.000000\n",
       "12        NAME_CONTRACT_STATUS           0.000000\n",
       "13        CNT_DRAWINGS_CURRENT           0.000000\n",
       "14   AMT_PAYMENT_TOTAL_CURRENT           0.000000\n",
       "15               AMT_RECIVABLE           0.000000\n",
       "16    AMT_RECEIVABLE_PRINCIPAL           0.000000\n",
       "17                  SK_ID_CURR           0.000000\n",
       "18        AMT_DRAWINGS_CURRENT           0.000000\n",
       "19     AMT_CREDIT_LIMIT_ACTUAL           0.000000\n",
       "20                 AMT_BALANCE           0.000000\n",
       "21              MONTHS_BALANCE           0.000000\n",
       "22                  SK_DPD_DEF           0.000000"
      ]
     },
     "execution_count": 41,
     "metadata": {},
     "output_type": "execute_result"
    }
   ],
   "source": [
    "cc_df.tail(20)"
   ]
  },
  {
   "cell_type": "code",
   "execution_count": 42,
   "metadata": {
    "ExecuteTime": {
     "end_time": "2021-05-11T07:42:38.736325Z",
     "start_time": "2021-05-11T07:42:38.571693Z"
    }
   },
   "outputs": [
    {
     "data": {
      "text/html": [
       "<div>\n",
       "<style scoped>\n",
       "    .dataframe tbody tr th:only-of-type {\n",
       "        vertical-align: middle;\n",
       "    }\n",
       "\n",
       "    .dataframe tbody tr th {\n",
       "        vertical-align: top;\n",
       "    }\n",
       "\n",
       "    .dataframe thead th {\n",
       "        text-align: right;\n",
       "    }\n",
       "</style>\n",
       "<table border=\"1\" class=\"dataframe\">\n",
       "  <thead>\n",
       "    <tr style=\"text-align: right;\">\n",
       "      <th></th>\n",
       "      <th>SK_ID_CURR</th>\n",
       "      <th>AMT_BALANCE</th>\n",
       "      <th>AMT_PAYMENT_TOTAL_CURRENT</th>\n",
       "    </tr>\n",
       "  </thead>\n",
       "  <tbody>\n",
       "    <tr>\n",
       "      <th>0</th>\n",
       "      <td>378907</td>\n",
       "      <td>56.970</td>\n",
       "      <td>1800.0</td>\n",
       "    </tr>\n",
       "    <tr>\n",
       "      <th>1</th>\n",
       "      <td>363914</td>\n",
       "      <td>63975.555</td>\n",
       "      <td>2250.0</td>\n",
       "    </tr>\n",
       "    <tr>\n",
       "      <th>2</th>\n",
       "      <td>371185</td>\n",
       "      <td>31815.225</td>\n",
       "      <td>2250.0</td>\n",
       "    </tr>\n",
       "    <tr>\n",
       "      <th>3</th>\n",
       "      <td>337855</td>\n",
       "      <td>236572.110</td>\n",
       "      <td>11925.0</td>\n",
       "    </tr>\n",
       "    <tr>\n",
       "      <th>4</th>\n",
       "      <td>126868</td>\n",
       "      <td>453919.455</td>\n",
       "      <td>27000.0</td>\n",
       "    </tr>\n",
       "  </tbody>\n",
       "</table>\n",
       "</div>"
      ],
      "text/plain": [
       "   SK_ID_CURR  AMT_BALANCE  AMT_PAYMENT_TOTAL_CURRENT\n",
       "0      378907       56.970                     1800.0\n",
       "1      363914    63975.555                     2250.0\n",
       "2      371185    31815.225                     2250.0\n",
       "3      337855   236572.110                    11925.0\n",
       "4      126868   453919.455                    27000.0"
      ]
     },
     "execution_count": 42,
     "metadata": {},
     "output_type": "execute_result"
    }
   ],
   "source": [
    "cc_test = data['credit_card_balance'].loc[:, ['SK_ID_CURR', 'AMT_BALANCE', 'AMT_PAYMENT_TOTAL_CURRENT']]\n",
    "cc_test.head()"
   ]
  },
  {
   "cell_type": "code",
   "execution_count": 43,
   "metadata": {
    "ExecuteTime": {
     "end_time": "2021-05-11T07:43:48.085517Z",
     "start_time": "2021-05-11T07:43:47.058198Z"
    }
   },
   "outputs": [
    {
     "data": {
      "text/html": [
       "<div>\n",
       "<style scoped>\n",
       "    .dataframe tbody tr th:only-of-type {\n",
       "        vertical-align: middle;\n",
       "    }\n",
       "\n",
       "    .dataframe tbody tr th {\n",
       "        vertical-align: top;\n",
       "    }\n",
       "\n",
       "    .dataframe thead tr th {\n",
       "        text-align: left;\n",
       "    }\n",
       "\n",
       "    .dataframe thead tr:last-of-type th {\n",
       "        text-align: right;\n",
       "    }\n",
       "</style>\n",
       "<table border=\"1\" class=\"dataframe\">\n",
       "  <thead>\n",
       "    <tr>\n",
       "      <th></th>\n",
       "      <th colspan=\"4\" halign=\"left\">AMT_BALANCE</th>\n",
       "      <th colspan=\"4\" halign=\"left\">AMT_PAYMENT_TOTAL_CURRENT</th>\n",
       "    </tr>\n",
       "    <tr>\n",
       "      <th></th>\n",
       "      <th>min</th>\n",
       "      <th>max</th>\n",
       "      <th>mean</th>\n",
       "      <th>var</th>\n",
       "      <th>min</th>\n",
       "      <th>max</th>\n",
       "      <th>mean</th>\n",
       "      <th>var</th>\n",
       "    </tr>\n",
       "    <tr>\n",
       "      <th>SK_ID_CURR</th>\n",
       "      <th></th>\n",
       "      <th></th>\n",
       "      <th></th>\n",
       "      <th></th>\n",
       "      <th></th>\n",
       "      <th></th>\n",
       "      <th></th>\n",
       "      <th></th>\n",
       "    </tr>\n",
       "  </thead>\n",
       "  <tbody>\n",
       "    <tr>\n",
       "      <th>100006</th>\n",
       "      <td>0.0</td>\n",
       "      <td>0.00</td>\n",
       "      <td>0.000000</td>\n",
       "      <td>0.000000e+00</td>\n",
       "      <td>0.0</td>\n",
       "      <td>0.0</td>\n",
       "      <td>0.000000</td>\n",
       "      <td>0.000000e+00</td>\n",
       "    </tr>\n",
       "    <tr>\n",
       "      <th>100011</th>\n",
       "      <td>0.0</td>\n",
       "      <td>189000.00</td>\n",
       "      <td>54482.111149</td>\n",
       "      <td>4.641321e+09</td>\n",
       "      <td>0.0</td>\n",
       "      <td>55485.0</td>\n",
       "      <td>4520.067568</td>\n",
       "      <td>5.585877e+07</td>\n",
       "    </tr>\n",
       "    <tr>\n",
       "      <th>100013</th>\n",
       "      <td>0.0</td>\n",
       "      <td>161420.22</td>\n",
       "      <td>18159.919219</td>\n",
       "      <td>1.869473e+09</td>\n",
       "      <td>0.0</td>\n",
       "      <td>153675.0</td>\n",
       "      <td>6817.172344</td>\n",
       "      <td>4.722214e+08</td>\n",
       "    </tr>\n",
       "    <tr>\n",
       "      <th>100021</th>\n",
       "      <td>0.0</td>\n",
       "      <td>0.00</td>\n",
       "      <td>0.000000</td>\n",
       "      <td>0.000000e+00</td>\n",
       "      <td>0.0</td>\n",
       "      <td>0.0</td>\n",
       "      <td>0.000000</td>\n",
       "      <td>0.000000e+00</td>\n",
       "    </tr>\n",
       "    <tr>\n",
       "      <th>100023</th>\n",
       "      <td>0.0</td>\n",
       "      <td>0.00</td>\n",
       "      <td>0.000000</td>\n",
       "      <td>0.000000e+00</td>\n",
       "      <td>0.0</td>\n",
       "      <td>0.0</td>\n",
       "      <td>0.000000</td>\n",
       "      <td>0.000000e+00</td>\n",
       "    </tr>\n",
       "  </tbody>\n",
       "</table>\n",
       "</div>"
      ],
      "text/plain": [
       "           AMT_BALANCE                                         \\\n",
       "                   min        max          mean           var   \n",
       "SK_ID_CURR                                                      \n",
       "100006             0.0       0.00      0.000000  0.000000e+00   \n",
       "100011             0.0  189000.00  54482.111149  4.641321e+09   \n",
       "100013             0.0  161420.22  18159.919219  1.869473e+09   \n",
       "100021             0.0       0.00      0.000000  0.000000e+00   \n",
       "100023             0.0       0.00      0.000000  0.000000e+00   \n",
       "\n",
       "           AMT_PAYMENT_TOTAL_CURRENT                                       \n",
       "                                 min       max         mean           var  \n",
       "SK_ID_CURR                                                                 \n",
       "100006                           0.0       0.0     0.000000  0.000000e+00  \n",
       "100011                           0.0   55485.0  4520.067568  5.585877e+07  \n",
       "100013                           0.0  153675.0  6817.172344  4.722214e+08  \n",
       "100021                           0.0       0.0     0.000000  0.000000e+00  \n",
       "100023                           0.0       0.0     0.000000  0.000000e+00  "
      ]
     },
     "execution_count": 43,
     "metadata": {},
     "output_type": "execute_result"
    }
   ],
   "source": [
    "cc_test_agg = cc_test.groupby('SK_ID_CURR').agg(['min', 'max', 'mean','var'])\n",
    "cc_test_agg.head()"
   ]
  },
  {
   "cell_type": "code",
   "execution_count": 44,
   "metadata": {
    "ExecuteTime": {
     "end_time": "2021-05-11T07:44:03.116031Z",
     "start_time": "2021-05-11T07:44:03.105874Z"
    }
   },
   "outputs": [
    {
     "data": {
      "text/plain": [
       "(103558, 8)"
      ]
     },
     "execution_count": 44,
     "metadata": {},
     "output_type": "execute_result"
    }
   ],
   "source": [
    "cc_test_agg.shape"
   ]
  },
  {
   "cell_type": "code",
   "execution_count": null,
   "metadata": {},
   "outputs": [],
   "source": [
    "## about 30% of credit is sampled from application ....."
   ]
  },
  {
   "cell_type": "code",
   "execution_count": null,
   "metadata": {},
   "outputs": [],
   "source": []
  },
  {
   "cell_type": "code",
   "execution_count": null,
   "metadata": {},
   "outputs": [],
   "source": []
  },
  {
   "cell_type": "code",
   "execution_count": null,
   "metadata": {},
   "outputs": [],
   "source": [
    "## pipelines\n",
    "\n",
    "# one hot encoding \n",
    "categorical_pipe = Pipeline(steps=[\n",
    "    ('cat_imp', SimpleImputer(strategy='most_frequent', add_indicator=False)),\n",
    "  ('one_hot_encoder', OneHotEncoder(sparse=False, handle_unknown='ignore'))\n",
    "])\n",
    "\n",
    "# numerical \n",
    "numerical_pipe = Pipeline(steps=[\n",
    "    ('num_imp', SimpleImputer(strategy='median', add_indicator=False)),\n",
    "    (\"scale\", StandardScaler())  \n",
    "])\n",
    "\n",
    "\n",
    "# transform columns \n",
    "column_transformer = ColumnTransformer(transformers=[    \n",
    "    ('num_pip', numerical_pipe, num_cols),\n",
    "    ('cat_pipe', categorical_pipe, cat_cols)\n",
    "])"
   ]
  }
 ],
 "metadata": {
  "kernelspec": {
   "display_name": "Python 3",
   "language": "python",
   "name": "python3"
  },
  "language_info": {
   "codemirror_mode": {
    "name": "ipython",
    "version": 3
   },
   "file_extension": ".py",
   "mimetype": "text/x-python",
   "name": "python",
   "nbconvert_exporter": "python",
   "pygments_lexer": "ipython3",
   "version": "3.7.4"
  },
  "toc": {
   "base_numbering": 1,
   "nav_menu": {},
   "number_sections": true,
   "sideBar": true,
   "skip_h1_title": false,
   "title_cell": "Table of Contents",
   "title_sidebar": "Contents",
   "toc_cell": false,
   "toc_position": {},
   "toc_section_display": true,
   "toc_window_display": false
  },
  "varInspector": {
   "cols": {
    "lenName": 16,
    "lenType": 16,
    "lenVar": 40
   },
   "kernels_config": {
    "python": {
     "delete_cmd_postfix": "",
     "delete_cmd_prefix": "del ",
     "library": "var_list.py",
     "varRefreshCmd": "print(var_dic_list())"
    },
    "r": {
     "delete_cmd_postfix": ") ",
     "delete_cmd_prefix": "rm(",
     "library": "var_list.r",
     "varRefreshCmd": "cat(var_dic_list()) "
    }
   },
   "types_to_exclude": [
    "module",
    "function",
    "builtin_function_or_method",
    "instance",
    "_Feature"
   ],
   "window_display": false
  }
 },
 "nbformat": 4,
 "nbformat_minor": 2
}
