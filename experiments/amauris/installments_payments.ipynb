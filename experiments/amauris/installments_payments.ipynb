{
 "cells": [
  {
   "cell_type": "code",
   "execution_count": 1,
   "metadata": {},
   "outputs": [],
   "source": [
    "import os, sys\n",
    "sys.path.append(os.path.dirname(os.path.dirname(os.path.abspath(''))))\n",
    "\n",
    "import pandas as pd\n",
    "import numpy as np\n",
    "from matplotlib import pyplot as plt\n",
    "from utils.data_extract_utils import get_home_credit_data, extract_zip, extract_features_from_installments_payments, EXTRACTRED_BUREAU_COLUMNS"
   ]
  },
  {
   "cell_type": "code",
   "execution_count": 2,
   "metadata": {},
   "outputs": [
    {
     "name": "stdout",
     "output_type": "stream",
     "text": [
      "dict_keys(['application_test', 'application_train', 'bureau_balance', 'bureau', 'credit_card_balance', 'installments_payments', 'POS_CASH_balance', 'previous_application'])\n"
     ]
    }
   ],
   "source": [
    "# Download, and extract data from dropbox into memory. \n",
    "data = get_home_credit_data()\n",
    "print(data.keys())"
   ]
  },
  {
   "cell_type": "code",
   "execution_count": 3,
   "metadata": {},
   "outputs": [
    {
     "data": {
      "text/html": [
       "<div>\n",
       "<style scoped>\n",
       "    .dataframe tbody tr th:only-of-type {\n",
       "        vertical-align: middle;\n",
       "    }\n",
       "\n",
       "    .dataframe tbody tr th {\n",
       "        vertical-align: top;\n",
       "    }\n",
       "\n",
       "    .dataframe thead th {\n",
       "        text-align: right;\n",
       "    }\n",
       "</style>\n",
       "<table border=\"1\" class=\"dataframe\">\n",
       "  <thead>\n",
       "    <tr style=\"text-align: right;\">\n",
       "      <th></th>\n",
       "      <th>SK_ID_PREV</th>\n",
       "      <th>SK_ID_CURR</th>\n",
       "      <th>NUM_INSTALMENT_VERSION</th>\n",
       "      <th>NUM_INSTALMENT_NUMBER</th>\n",
       "      <th>DAYS_INSTALMENT</th>\n",
       "      <th>DAYS_ENTRY_PAYMENT</th>\n",
       "      <th>AMT_INSTALMENT</th>\n",
       "      <th>AMT_PAYMENT</th>\n",
       "    </tr>\n",
       "  </thead>\n",
       "  <tbody>\n",
       "    <tr>\n",
       "      <th>0</th>\n",
       "      <td>1054186</td>\n",
       "      <td>161674</td>\n",
       "      <td>1.0</td>\n",
       "      <td>6</td>\n",
       "      <td>-1180.0</td>\n",
       "      <td>-1187.0</td>\n",
       "      <td>6948.360</td>\n",
       "      <td>6948.360</td>\n",
       "    </tr>\n",
       "    <tr>\n",
       "      <th>1</th>\n",
       "      <td>1330831</td>\n",
       "      <td>151639</td>\n",
       "      <td>0.0</td>\n",
       "      <td>34</td>\n",
       "      <td>-2156.0</td>\n",
       "      <td>-2156.0</td>\n",
       "      <td>1716.525</td>\n",
       "      <td>1716.525</td>\n",
       "    </tr>\n",
       "    <tr>\n",
       "      <th>2</th>\n",
       "      <td>2085231</td>\n",
       "      <td>193053</td>\n",
       "      <td>2.0</td>\n",
       "      <td>1</td>\n",
       "      <td>-63.0</td>\n",
       "      <td>-63.0</td>\n",
       "      <td>25425.000</td>\n",
       "      <td>25425.000</td>\n",
       "    </tr>\n",
       "    <tr>\n",
       "      <th>3</th>\n",
       "      <td>2452527</td>\n",
       "      <td>199697</td>\n",
       "      <td>1.0</td>\n",
       "      <td>3</td>\n",
       "      <td>-2418.0</td>\n",
       "      <td>-2426.0</td>\n",
       "      <td>24350.130</td>\n",
       "      <td>24350.130</td>\n",
       "    </tr>\n",
       "    <tr>\n",
       "      <th>4</th>\n",
       "      <td>2714724</td>\n",
       "      <td>167756</td>\n",
       "      <td>1.0</td>\n",
       "      <td>2</td>\n",
       "      <td>-1383.0</td>\n",
       "      <td>-1366.0</td>\n",
       "      <td>2165.040</td>\n",
       "      <td>2160.585</td>\n",
       "    </tr>\n",
       "  </tbody>\n",
       "</table>\n",
       "</div>"
      ],
      "text/plain": [
       "   SK_ID_PREV  SK_ID_CURR  NUM_INSTALMENT_VERSION  NUM_INSTALMENT_NUMBER  \\\n",
       "0     1054186      161674                     1.0                      6   \n",
       "1     1330831      151639                     0.0                     34   \n",
       "2     2085231      193053                     2.0                      1   \n",
       "3     2452527      199697                     1.0                      3   \n",
       "4     2714724      167756                     1.0                      2   \n",
       "\n",
       "   DAYS_INSTALMENT  DAYS_ENTRY_PAYMENT  AMT_INSTALMENT  AMT_PAYMENT  \n",
       "0          -1180.0             -1187.0        6948.360     6948.360  \n",
       "1          -2156.0             -2156.0        1716.525     1716.525  \n",
       "2            -63.0               -63.0       25425.000    25425.000  \n",
       "3          -2418.0             -2426.0       24350.130    24350.130  \n",
       "4          -1383.0             -1366.0        2165.040     2160.585  "
      ]
     },
     "metadata": {},
     "output_type": "display_data"
    }
   ],
   "source": [
    "installments_payments_df = data['installments_payments']\n",
    "display(installments_payments_df.head())"
   ]
  },
  {
   "cell_type": "code",
   "execution_count": 4,
   "metadata": {},
   "outputs": [
    {
     "name": "stdout",
     "output_type": "stream",
     "text": [
      "<class 'pandas.core.frame.DataFrame'>\n",
      "RangeIndex: 13605401 entries, 0 to 13605400\n",
      "Data columns (total 8 columns):\n",
      " #   Column                  Non-Null Count     Dtype  \n",
      "---  ------                  --------------     -----  \n",
      " 0   SK_ID_PREV              13605401 non-null  int64  \n",
      " 1   SK_ID_CURR              13605401 non-null  int64  \n",
      " 2   NUM_INSTALMENT_VERSION  13605401 non-null  float64\n",
      " 3   NUM_INSTALMENT_NUMBER   13605401 non-null  int64  \n",
      " 4   DAYS_INSTALMENT         13605401 non-null  float64\n",
      " 5   DAYS_ENTRY_PAYMENT      13602496 non-null  float64\n",
      " 6   AMT_INSTALMENT          13605401 non-null  float64\n",
      " 7   AMT_PAYMENT             13602496 non-null  float64\n",
      "dtypes: float64(5), int64(3)\n",
      "memory usage: 830.4 MB\n"
     ]
    },
    {
     "data": {
      "text/plain": [
       "None"
      ]
     },
     "metadata": {},
     "output_type": "display_data"
    }
   ],
   "source": [
    "display(installments_payments_df.info(null_counts = True))"
   ]
  },
  {
   "cell_type": "markdown",
   "metadata": {},
   "source": [
    "All values are present, no need to fill anything"
   ]
  },
  {
   "cell_type": "code",
   "execution_count": 5,
   "metadata": {},
   "outputs": [
    {
     "data": {
      "text/html": [
       "<div>\n",
       "<style scoped>\n",
       "    .dataframe tbody tr th:only-of-type {\n",
       "        vertical-align: middle;\n",
       "    }\n",
       "\n",
       "    .dataframe tbody tr th {\n",
       "        vertical-align: top;\n",
       "    }\n",
       "\n",
       "    .dataframe thead th {\n",
       "        text-align: right;\n",
       "    }\n",
       "</style>\n",
       "<table border=\"1\" class=\"dataframe\">\n",
       "  <thead>\n",
       "    <tr style=\"text-align: right;\">\n",
       "      <th></th>\n",
       "      <th>SK_ID_PREV</th>\n",
       "      <th>SK_ID_CURR</th>\n",
       "      <th>NUM_INSTALMENT_VERSION</th>\n",
       "      <th>NUM_INSTALMENT_NUMBER</th>\n",
       "      <th>DAYS_INSTALMENT</th>\n",
       "      <th>DAYS_ENTRY_PAYMENT</th>\n",
       "      <th>AMT_INSTALMENT</th>\n",
       "      <th>AMT_PAYMENT</th>\n",
       "    </tr>\n",
       "  </thead>\n",
       "  <tbody>\n",
       "    <tr>\n",
       "      <th>count</th>\n",
       "      <td>13605401.00000</td>\n",
       "      <td>13605401.00000</td>\n",
       "      <td>13605401.00000</td>\n",
       "      <td>13605401.00000</td>\n",
       "      <td>13605401.00000</td>\n",
       "      <td>13602496.00000</td>\n",
       "      <td>13605401.00000</td>\n",
       "      <td>13602496.00000</td>\n",
       "    </tr>\n",
       "    <tr>\n",
       "      <th>mean</th>\n",
       "      <td>1903364.96955</td>\n",
       "      <td>278444.88174</td>\n",
       "      <td>0.85664</td>\n",
       "      <td>18.87090</td>\n",
       "      <td>-1042.26999</td>\n",
       "      <td>-1051.11368</td>\n",
       "      <td>17050.90699</td>\n",
       "      <td>17238.22325</td>\n",
       "    </tr>\n",
       "    <tr>\n",
       "      <th>std</th>\n",
       "      <td>536202.90555</td>\n",
       "      <td>102718.31041</td>\n",
       "      <td>1.03522</td>\n",
       "      <td>26.66407</td>\n",
       "      <td>800.94628</td>\n",
       "      <td>800.58588</td>\n",
       "      <td>50570.25443</td>\n",
       "      <td>54735.78398</td>\n",
       "    </tr>\n",
       "    <tr>\n",
       "      <th>min</th>\n",
       "      <td>1000001.00000</td>\n",
       "      <td>100001.00000</td>\n",
       "      <td>0.00000</td>\n",
       "      <td>1.00000</td>\n",
       "      <td>-2922.00000</td>\n",
       "      <td>-4921.00000</td>\n",
       "      <td>0.00000</td>\n",
       "      <td>0.00000</td>\n",
       "    </tr>\n",
       "    <tr>\n",
       "      <th>25%</th>\n",
       "      <td>1434191.00000</td>\n",
       "      <td>189639.00000</td>\n",
       "      <td>0.00000</td>\n",
       "      <td>4.00000</td>\n",
       "      <td>-1654.00000</td>\n",
       "      <td>-1662.00000</td>\n",
       "      <td>4226.08500</td>\n",
       "      <td>3398.26500</td>\n",
       "    </tr>\n",
       "    <tr>\n",
       "      <th>50%</th>\n",
       "      <td>1896520.00000</td>\n",
       "      <td>278685.00000</td>\n",
       "      <td>1.00000</td>\n",
       "      <td>8.00000</td>\n",
       "      <td>-818.00000</td>\n",
       "      <td>-827.00000</td>\n",
       "      <td>8884.08000</td>\n",
       "      <td>8125.51500</td>\n",
       "    </tr>\n",
       "    <tr>\n",
       "      <th>75%</th>\n",
       "      <td>2369094.00000</td>\n",
       "      <td>367530.00000</td>\n",
       "      <td>1.00000</td>\n",
       "      <td>19.00000</td>\n",
       "      <td>-361.00000</td>\n",
       "      <td>-370.00000</td>\n",
       "      <td>16710.21000</td>\n",
       "      <td>16108.42500</td>\n",
       "    </tr>\n",
       "    <tr>\n",
       "      <th>max</th>\n",
       "      <td>2843499.00000</td>\n",
       "      <td>456255.00000</td>\n",
       "      <td>178.00000</td>\n",
       "      <td>277.00000</td>\n",
       "      <td>-1.00000</td>\n",
       "      <td>-1.00000</td>\n",
       "      <td>3771487.84500</td>\n",
       "      <td>3771487.84500</td>\n",
       "    </tr>\n",
       "  </tbody>\n",
       "</table>\n",
       "</div>"
      ],
      "text/plain": [
       "           SK_ID_PREV      SK_ID_CURR NUM_INSTALMENT_VERSION  \\\n",
       "count  13605401.00000  13605401.00000         13605401.00000   \n",
       "mean    1903364.96955    278444.88174                0.85664   \n",
       "std      536202.90555    102718.31041                1.03522   \n",
       "min     1000001.00000    100001.00000                0.00000   \n",
       "25%     1434191.00000    189639.00000                0.00000   \n",
       "50%     1896520.00000    278685.00000                1.00000   \n",
       "75%     2369094.00000    367530.00000                1.00000   \n",
       "max     2843499.00000    456255.00000              178.00000   \n",
       "\n",
       "      NUM_INSTALMENT_NUMBER DAYS_INSTALMENT DAYS_ENTRY_PAYMENT  \\\n",
       "count        13605401.00000  13605401.00000     13602496.00000   \n",
       "mean               18.87090     -1042.26999        -1051.11368   \n",
       "std                26.66407       800.94628          800.58588   \n",
       "min                 1.00000     -2922.00000        -4921.00000   \n",
       "25%                 4.00000     -1654.00000        -1662.00000   \n",
       "50%                 8.00000      -818.00000         -827.00000   \n",
       "75%                19.00000      -361.00000         -370.00000   \n",
       "max               277.00000        -1.00000           -1.00000   \n",
       "\n",
       "       AMT_INSTALMENT     AMT_PAYMENT  \n",
       "count  13605401.00000  13602496.00000  \n",
       "mean      17050.90699     17238.22325  \n",
       "std       50570.25443     54735.78398  \n",
       "min           0.00000         0.00000  \n",
       "25%        4226.08500      3398.26500  \n",
       "50%        8884.08000      8125.51500  \n",
       "75%       16710.21000     16108.42500  \n",
       "max     3771487.84500   3771487.84500  "
      ]
     },
     "metadata": {},
     "output_type": "display_data"
    }
   ],
   "source": [
    "display(installments_payments_df.describe().apply(lambda s: s.apply('{0:.5f}'.format)))"
   ]
  },
  {
   "cell_type": "code",
   "execution_count": 6,
   "metadata": {},
   "outputs": [
    {
     "data": {
      "text/html": [
       "<div>\n",
       "<style scoped>\n",
       "    .dataframe tbody tr th:only-of-type {\n",
       "        vertical-align: middle;\n",
       "    }\n",
       "\n",
       "    .dataframe tbody tr th {\n",
       "        vertical-align: top;\n",
       "    }\n",
       "\n",
       "    .dataframe thead th {\n",
       "        text-align: right;\n",
       "    }\n",
       "</style>\n",
       "<table border=\"1\" class=\"dataframe\">\n",
       "  <thead>\n",
       "    <tr style=\"text-align: right;\">\n",
       "      <th></th>\n",
       "      <th>SK_ID_PREV</th>\n",
       "      <th>SK_ID_CURR</th>\n",
       "      <th>NUM_INSTALMENT_VERSION</th>\n",
       "      <th>NUM_INSTALMENT_NUMBER</th>\n",
       "      <th>DAYS_INSTALMENT</th>\n",
       "      <th>DAYS_ENTRY_PAYMENT</th>\n",
       "      <th>AMT_INSTALMENT</th>\n",
       "      <th>AMT_PAYMENT</th>\n",
       "    </tr>\n",
       "  </thead>\n",
       "  <tbody>\n",
       "    <tr>\n",
       "      <th>9171</th>\n",
       "      <td>1514613</td>\n",
       "      <td>197031</td>\n",
       "      <td>0.0</td>\n",
       "      <td>10</td>\n",
       "      <td>-2165.0</td>\n",
       "      <td>-2191.0</td>\n",
       "      <td>4500.0</td>\n",
       "      <td>0.0</td>\n",
       "    </tr>\n",
       "    <tr>\n",
       "      <th>27338</th>\n",
       "      <td>2769227</td>\n",
       "      <td>126104</td>\n",
       "      <td>0.0</td>\n",
       "      <td>10</td>\n",
       "      <td>-2311.0</td>\n",
       "      <td>-2304.0</td>\n",
       "      <td>7875.0</td>\n",
       "      <td>0.0</td>\n",
       "    </tr>\n",
       "    <tr>\n",
       "      <th>39555</th>\n",
       "      <td>1685553</td>\n",
       "      <td>110052</td>\n",
       "      <td>0.0</td>\n",
       "      <td>9</td>\n",
       "      <td>-2434.0</td>\n",
       "      <td>-2462.0</td>\n",
       "      <td>9000.0</td>\n",
       "      <td>0.0</td>\n",
       "    </tr>\n",
       "    <tr>\n",
       "      <th>51978</th>\n",
       "      <td>1522932</td>\n",
       "      <td>153001</td>\n",
       "      <td>0.0</td>\n",
       "      <td>21</td>\n",
       "      <td>-2479.0</td>\n",
       "      <td>-2509.0</td>\n",
       "      <td>9000.0</td>\n",
       "      <td>0.0</td>\n",
       "    </tr>\n",
       "    <tr>\n",
       "      <th>52839</th>\n",
       "      <td>2254262</td>\n",
       "      <td>197304</td>\n",
       "      <td>0.0</td>\n",
       "      <td>17</td>\n",
       "      <td>-2331.0</td>\n",
       "      <td>-2358.0</td>\n",
       "      <td>9000.0</td>\n",
       "      <td>0.0</td>\n",
       "    </tr>\n",
       "    <tr>\n",
       "      <th>...</th>\n",
       "      <td>...</td>\n",
       "      <td>...</td>\n",
       "      <td>...</td>\n",
       "      <td>...</td>\n",
       "      <td>...</td>\n",
       "      <td>...</td>\n",
       "      <td>...</td>\n",
       "      <td>...</td>\n",
       "    </tr>\n",
       "    <tr>\n",
       "      <th>13570793</th>\n",
       "      <td>1798118</td>\n",
       "      <td>455496</td>\n",
       "      <td>0.0</td>\n",
       "      <td>2</td>\n",
       "      <td>-2193.0</td>\n",
       "      <td>-2217.0</td>\n",
       "      <td>9000.0</td>\n",
       "      <td>0.0</td>\n",
       "    </tr>\n",
       "    <tr>\n",
       "      <th>13575001</th>\n",
       "      <td>1830046</td>\n",
       "      <td>451122</td>\n",
       "      <td>0.0</td>\n",
       "      <td>9</td>\n",
       "      <td>-2221.0</td>\n",
       "      <td>-2229.0</td>\n",
       "      <td>4500.0</td>\n",
       "      <td>0.0</td>\n",
       "    </tr>\n",
       "    <tr>\n",
       "      <th>13589240</th>\n",
       "      <td>1822995</td>\n",
       "      <td>448333</td>\n",
       "      <td>0.0</td>\n",
       "      <td>22</td>\n",
       "      <td>-2283.0</td>\n",
       "      <td>-2305.0</td>\n",
       "      <td>9000.0</td>\n",
       "      <td>0.0</td>\n",
       "    </tr>\n",
       "    <tr>\n",
       "      <th>13603550</th>\n",
       "      <td>2283151</td>\n",
       "      <td>414728</td>\n",
       "      <td>0.0</td>\n",
       "      <td>12</td>\n",
       "      <td>-2131.0</td>\n",
       "      <td>-2158.0</td>\n",
       "      <td>9000.0</td>\n",
       "      <td>0.0</td>\n",
       "    </tr>\n",
       "    <tr>\n",
       "      <th>13604365</th>\n",
       "      <td>2652019</td>\n",
       "      <td>445660</td>\n",
       "      <td>0.0</td>\n",
       "      <td>2</td>\n",
       "      <td>-2196.0</td>\n",
       "      <td>-2204.0</td>\n",
       "      <td>9000.0</td>\n",
       "      <td>0.0</td>\n",
       "    </tr>\n",
       "  </tbody>\n",
       "</table>\n",
       "<p>1440 rows × 8 columns</p>\n",
       "</div>"
      ],
      "text/plain": [
       "          SK_ID_PREV  SK_ID_CURR  NUM_INSTALMENT_VERSION  \\\n",
       "9171         1514613      197031                     0.0   \n",
       "27338        2769227      126104                     0.0   \n",
       "39555        1685553      110052                     0.0   \n",
       "51978        1522932      153001                     0.0   \n",
       "52839        2254262      197304                     0.0   \n",
       "...              ...         ...                     ...   \n",
       "13570793     1798118      455496                     0.0   \n",
       "13575001     1830046      451122                     0.0   \n",
       "13589240     1822995      448333                     0.0   \n",
       "13603550     2283151      414728                     0.0   \n",
       "13604365     2652019      445660                     0.0   \n",
       "\n",
       "          NUM_INSTALMENT_NUMBER  DAYS_INSTALMENT  DAYS_ENTRY_PAYMENT  \\\n",
       "9171                         10          -2165.0             -2191.0   \n",
       "27338                        10          -2311.0             -2304.0   \n",
       "39555                         9          -2434.0             -2462.0   \n",
       "51978                        21          -2479.0             -2509.0   \n",
       "52839                        17          -2331.0             -2358.0   \n",
       "...                         ...              ...                 ...   \n",
       "13570793                      2          -2193.0             -2217.0   \n",
       "13575001                      9          -2221.0             -2229.0   \n",
       "13589240                     22          -2283.0             -2305.0   \n",
       "13603550                     12          -2131.0             -2158.0   \n",
       "13604365                      2          -2196.0             -2204.0   \n",
       "\n",
       "          AMT_INSTALMENT  AMT_PAYMENT  \n",
       "9171              4500.0          0.0  \n",
       "27338             7875.0          0.0  \n",
       "39555             9000.0          0.0  \n",
       "51978             9000.0          0.0  \n",
       "52839             9000.0          0.0  \n",
       "...                  ...          ...  \n",
       "13570793          9000.0          0.0  \n",
       "13575001          4500.0          0.0  \n",
       "13589240          9000.0          0.0  \n",
       "13603550          9000.0          0.0  \n",
       "13604365          9000.0          0.0  \n",
       "\n",
       "[1440 rows x 8 columns]"
      ]
     },
     "metadata": {},
     "output_type": "display_data"
    },
    {
     "data": {
      "text/plain": [
       "0.00010584032032572946"
      ]
     },
     "execution_count": 6,
     "metadata": {},
     "output_type": "execute_result"
    }
   ],
   "source": [
    "miss_payments = installments_payments_df[installments_payments_df['AMT_PAYMENT'] == 0]\n",
    "display(miss_payments)\n",
    "len(miss_payments)/len(installments_payments_df) # very few rows with missing payments"
   ]
  },
  {
   "cell_type": "code",
   "execution_count": 7,
   "metadata": {},
   "outputs": [
    {
     "data": {
      "text/plain": [
       "<AxesSubplot:>"
      ]
     },
     "execution_count": 7,
     "metadata": {},
     "output_type": "execute_result"
    },
    {
     "data": {
      "image/png": "[encoded data removed]",
      "text/plain": [
       "<Figure size 432x288 with 1 Axes>"
      ]
     },
     "metadata": {
      "needs_background": "light"
     },
     "output_type": "display_data"
    }
   ],
   "source": [
    "def mis_instalment_payment(x):\n",
    "    return np.mean(x['AMT_INSTALMENT'].values - x['AMT_PAYMENT'].values)\n",
    "\n",
    "# Let's create mis_instalment_payment attributes\n",
    "mis_instalment_payment = installments_payments_df.groupby('SK_ID_CURR').apply(mis_instalment_payment)\n",
    "mis_instalment_payment_df = pd.DataFrame(mis_instalment_payment, columns=['MIS_INSTALMENT_PAYMENTS'])\n",
    "mis_instalment_payment_df.fillna(value=0, inplace=True)\n",
    "mis_instalment_payment_df['MIS_INSTALMENT_PAYMENTS'].hist(log=True)"
   ]
  },
  {
   "cell_type": "markdown",
   "metadata": {},
   "source": [
    "Seems abouit right, most of the distribution is below zero (which means payments where made on time), with a few that are above zero, meaning instalment_payments werent paid in full.\n",
    "Let's merge this data with application and see if there's  difference in distribution between target 1,0"
   ]
  },
  {
   "cell_type": "code",
   "execution_count": 8,
   "metadata": {},
   "outputs": [
    {
     "data": {
      "text/html": [
       "<div>\n",
       "<style scoped>\n",
       "    .dataframe tbody tr th:only-of-type {\n",
       "        vertical-align: middle;\n",
       "    }\n",
       "\n",
       "    .dataframe tbody tr th {\n",
       "        vertical-align: top;\n",
       "    }\n",
       "\n",
       "    .dataframe thead th {\n",
       "        text-align: right;\n",
       "    }\n",
       "</style>\n",
       "<table border=\"1\" class=\"dataframe\">\n",
       "  <thead>\n",
       "    <tr style=\"text-align: right;\">\n",
       "      <th></th>\n",
       "      <th>MIS_INSTALMENT_PAYMENTS</th>\n",
       "    </tr>\n",
       "    <tr>\n",
       "      <th>SK_ID_CURR</th>\n",
       "      <th></th>\n",
       "    </tr>\n",
       "  </thead>\n",
       "  <tbody>\n",
       "    <tr>\n",
       "      <th>100001</th>\n",
       "      <td>0.0</td>\n",
       "    </tr>\n",
       "    <tr>\n",
       "      <th>100002</th>\n",
       "      <td>0.0</td>\n",
       "    </tr>\n",
       "    <tr>\n",
       "      <th>100003</th>\n",
       "      <td>0.0</td>\n",
       "    </tr>\n",
       "    <tr>\n",
       "      <th>100004</th>\n",
       "      <td>0.0</td>\n",
       "    </tr>\n",
       "    <tr>\n",
       "      <th>100005</th>\n",
       "      <td>0.0</td>\n",
       "    </tr>\n",
       "  </tbody>\n",
       "</table>\n",
       "</div>"
      ],
      "text/plain": [
       "            MIS_INSTALMENT_PAYMENTS\n",
       "SK_ID_CURR                         \n",
       "100001                          0.0\n",
       "100002                          0.0\n",
       "100003                          0.0\n",
       "100004                          0.0\n",
       "100005                          0.0"
      ]
     },
     "metadata": {},
     "output_type": "display_data"
    }
   ],
   "source": [
    "display(mis_instalment_payment_df.head())"
   ]
  },
  {
   "cell_type": "code",
   "execution_count": 9,
   "metadata": {},
   "outputs": [
    {
     "name": "stdout",
     "output_type": "stream",
     "text": [
      "339587\n",
      "307511\n"
     ]
    }
   ],
   "source": [
    "application_df = data['application_train'].set_index('SK_ID_CURR')\n",
    "print(len(mis_instalment_payment_df))\n",
    "print(len(data['application_train']))"
   ]
  },
  {
   "cell_type": "code",
   "execution_count": 10,
   "metadata": {},
   "outputs": [],
   "source": [
    "application_with_mis_install = pd.concat([application_df, mis_instalment_payment_df], axis=1)"
   ]
  },
  {
   "cell_type": "code",
   "execution_count": 11,
   "metadata": {},
   "outputs": [
    {
     "data": {
      "image/png": "[encoded data removed]",
      "text/plain": [
       "<Figure size 432x288 with 2 Axes>"
      ]
     },
     "metadata": {
      "needs_background": "light"
     },
     "output_type": "display_data"
    }
   ],
   "source": [
    "for column in ['MIS_INSTALMENT_PAYMENTS']:\n",
    "    fig, ax = plt.subplots(1, 2)\n",
    "    index = 0\n",
    "    for key, group in application_with_mis_install[['TARGET', column]].groupby('TARGET'):\n",
    "        ax[index].hist(group[column], label = key, log = True)\n",
    "        fig.suptitle(column)\n",
    "        ax[index].title.set_text('Target {}'.format(key))\n",
    "        index += 1\n",
    "    plt.show()"
   ]
  },
  {
   "cell_type": "markdown",
   "metadata": {},
   "source": [
    "You can clearly see a slight difference in distribution between the targets that had missing instalment payments versus those that didn't. This should be a userful feature for training."
   ]
  },
  {
   "cell_type": "code",
   "execution_count": 12,
   "metadata": {},
   "outputs": [
    {
     "data": {
      "text/plain": [
       "array([[<AxesSubplot:title={'center':'MIS_INSTALMENT_PAYMENTS'}>]],\n",
       "      dtype=object)"
      ]
     },
     "execution_count": 12,
     "metadata": {},
     "output_type": "execute_result"
    },
    {
     "data": {
      "image/png": "[encoded data removed]",
      "text/plain": [
       "<Figure size 432x288 with 1 Axes>"
      ]
     },
     "metadata": {
      "needs_background": "light"
     },
     "output_type": "display_data"
    }
   ],
   "source": [
    "# Test utility method\n",
    "extracted_df = extract_features_from_installments_payments(data['installments_payments'])\n",
    "extracted_df.hist(log = True)"
   ]
  },
  {
   "cell_type": "code",
   "execution_count": null,
   "metadata": {},
   "outputs": [],
   "source": []
  }
 ],
 "metadata": {
  "kernelspec": {
   "display_name": "Python 3",
   "language": "python",
   "name": "python3"
  },
  "language_info": {
   "codemirror_mode": {
    "name": "ipython",
    "version": 3
   },
   "file_extension": ".py",
   "mimetype": "text/x-python",
   "name": "python",
   "nbconvert_exporter": "python",
   "pygments_lexer": "ipython3",
   "version": "3.8.5"
  }
 },
 "nbformat": 4,
 "nbformat_minor": 4
}
